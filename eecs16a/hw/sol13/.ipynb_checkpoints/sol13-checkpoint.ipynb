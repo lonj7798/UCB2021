{
 "cells": [
  {
   "cell_type": "markdown",
   "metadata": {},
   "source": [
    "# Audio File Matching\n",
    "\n",
    "This notebook continues the audio file matching problem. Be sure to have song.wav and clip.wav in the same directory as the notebook.\n",
    "\n",
    "In this notebook, we will look at the problem of searching for a small audio clip inside a song.\n",
    "\n",
    "The song \"Mandelbrot Set\" by Jonathan Coulton is licensed under <a href=\"http://creativecommons.org/licenses/by-nc/3.0/\">CC BY-NC 3.0</a>\n",
    "\n",
    "If you have trouble playing the audio file in IPython, try opening it in a different browser. I encountered problem with Safari but Chrome works for me."
   ]
  },
  {
   "cell_type": "code",
   "execution_count": 34,
   "metadata": {},
   "outputs": [
    {
     "data": {
      "text/html": [
       "\n",
       "                <audio  controls=\"controls\" autoplay=\"autoplay\">\n",
       "                    <source src=\"temp.wav\" type=\"audio/x-wav\" />\n",
       "                    Your browser does not support the audio element.\n",
       "                </audio>\n",
       "              "
      ],
      "text/plain": [
       "<IPython.lib.display.Audio object>"
      ]
     },
     "execution_count": 34,
     "metadata": {},
     "output_type": "execute_result"
    }
   ],
   "source": [
    "import numpy as np\n",
    "import wave\n",
    "import matplotlib.pyplot as plt\n",
    "import scipy.io.wavfile\n",
    "import operator\n",
    "from IPython.display import Audio\n",
    "%matplotlib inline\n",
    "\n",
    "given_file = 'song.wav'\n",
    "target_file = 'clip.wav'\n",
    "rate_given,  given_signal  = scipy.io.wavfile.read(given_file)\n",
    "rate_target, target_signal = scipy.io.wavfile.read(target_file)\n",
    "given_signal  = given_signal[:2000000].astype(float)\n",
    "target_signal = target_signal.astype(float)\n",
    "def play_clip(start, end, signal=given_signal):\n",
    "    scipy.io.wavfile.write('temp.wav', rate_given, signal[start:end].astype(np.int16))\n",
    "    return Audio(url='temp.wav', autoplay=True)\n",
    "\n",
    "def run_comparison(target_signal, given_signal, idxs=None):\n",
    "    # Run everything if not called with idxs set to something\n",
    "    if idxs is None:\n",
    "        idxs = [i for i in range(len(given_signal)-len(target_signal))]\n",
    "    return idxs, [vector_compare(target_signal, given_signal[i:i+len(target_signal)])\n",
    "                for i in idxs]\n",
    "\n",
    "play_clip(0, len(given_signal))\n",
    "\n",
    "#scipy.io.wavfile.write(target_file, rate_given, (-0.125*given_signal[1380000:1380000+70000]).astype(np.int16))"
   ]
  },
  {
   "cell_type": "markdown",
   "metadata": {},
   "source": [
    "We will load the song into the variable `given_signal` and load the short clip into the variable `target_signal`. Your job is to finish code that will identify the short clip's location in the song. The clip we are trying to find will play after executing the following block."
   ]
  },
  {
   "cell_type": "code",
   "execution_count": 35,
   "metadata": {},
   "outputs": [
    {
     "data": {
      "text/html": [
       "\n",
       "                <audio  controls=\"controls\" autoplay=\"autoplay\">\n",
       "                    <source src=\"clip.wav\" type=\"audio/x-wav\" />\n",
       "                    Your browser does not support the audio element.\n",
       "                </audio>\n",
       "              "
      ],
      "text/plain": [
       "<IPython.lib.display.Audio object>"
      ]
     },
     "execution_count": 35,
     "metadata": {},
     "output_type": "execute_result"
    }
   ],
   "source": [
    "Audio(url=target_file, autoplay=True)"
   ]
  },
  {
   "cell_type": "markdown",
   "metadata": {},
   "source": [
    "Your task is to define the function 'vector_compare' and run the following code. Because the song has a lot of data, you should use the provided examples from the previous parts of the problem before running the later code. Do you results here make sense given your answers to previous parts of the problem?"
   ]
  },
  {
   "cell_type": "code",
   "execution_count": 36,
   "metadata": {},
   "outputs": [
    {
     "name": "stdout",
     "output_type": "stream",
     "text": [
      "PART A:\n",
      "0.9999999999666668\n",
      "-0.9999999999666668\n",
      "PART C:\n",
      "0.9999999999928572\n",
      "0.9925833339660043\n",
      "0.9827076298202766\n",
      "0.9746318461941077\n",
      "0.968329663729021\n",
      "0.9633753381636556\n"
     ]
    }
   ],
   "source": [
    "def vector_compare(desired_vec, test_vec):\n",
    "    \"\"\"This function compares two vectors, returning a number.\n",
    "    The test vector with the highest return value is regarded as being closest to the desired vector.\"\"\"\n",
    "    return np.dot(desired_vec.T, test_vec)/(np.linalg.norm(desired_vec)*np.linalg.norm(test_vec)+1.e-10)\n",
    "\n",
    "print(\"PART A:\")\n",
    "print(vector_compare(np.array([1,1,1]), np.array([1,1,1])))\n",
    "print(vector_compare(np.array([1,1,1]), np.array([-1,-1,-1])))\n",
    "print(\"PART C:\")\n",
    "print(vector_compare(np.array([1,2,3]), np.array([1,2,3])))\n",
    "print(vector_compare(np.array([1,2,3]), np.array([2,3,4])))\n",
    "print(vector_compare(np.array([1,2,3]), np.array([3,4,5])))\n",
    "print(vector_compare(np.array([1,2,3]), np.array([4,5,6])))\n",
    "print(vector_compare(np.array([1,2,3]), np.array([5,6,7])))\n",
    "print(vector_compare(np.array([1,2,3]), np.array([6,7,8])))"
   ]
  },
  {
   "cell_type": "markdown",
   "metadata": {},
   "source": [
    "Run the following code that runs `vector_compare` on every subsequence in the song- it will probably take at least 5 minutes. How do you interpret this plot to find where the clip is in the song?"
   ]
  },
  {
   "cell_type": "code",
   "execution_count": 37,
   "metadata": {},
   "outputs": [
    {
     "name": "stdout",
     "output_type": "stream",
     "text": [
      "That took 0.94 minutes to run\n"
     ]
    },
    {
     "data": {
      "image/png": "[encoded data removed]",
      "text/plain": [
       "<Figure size 432x288 with 1 Axes>"
      ]
     },
     "metadata": {
      "needs_background": "light"
     },
     "output_type": "display_data"
    }
   ],
   "source": [
    "import time\n",
    "\n",
    "t0 = time.time()\n",
    "idxs, song_compare = run_comparison(target_signal, given_signal)\n",
    "t1 = time.time()\n",
    "plt.plot(idxs, song_compare)\n",
    "print (\"That took %(time).2f minutes to run\" % {'time':(t1-t0)/60.0} )"
   ]
  },
  {
   "cell_type": "markdown",
   "metadata": {},
   "source": [
    "# How Much Is Too Much?"
   ]
  },
  {
   "cell_type": "code",
   "execution_count": 4,
   "metadata": {},
   "outputs": [],
   "source": [
    "# Setup code\n",
    "import numpy as np\n",
    "import numpy.matlib\n",
    "import matplotlib.pyplot as plt\n",
    "\n",
    "%matplotlib inline\n",
    "\n",
    "   \n",
    "\"\"\"Function that defines a data matrix for some input data.\"\"\"\n",
    "def data_matrix(input_data,degree): \n",
    "    # degree is the degree of the polynomial you plan to fit the data with    \n",
    "    Data=np.zeros((len(input_data),degree+1))\n",
    "    \n",
    "    for k in range(0,degree+1):\n",
    "        Data[:,k]=(list(map(lambda x:x**k ,input_data)))\n",
    "                  \n",
    "    return Data\n",
    "\n",
    "\"\"\"Function that computes the Least Squares Approximation\"\"\"\n",
    "def leastSquares(D,y): \n",
    "    return np.linalg.lstsq(D,y)[0]\n",
    "\n",
    "\"\"\"This function is used for plotting only\"\"\"\n",
    "def poly_curve(params,x_input):\n",
    "    # params contains the coefficients that multiply the polynomial terms, in degree of lowest degree to highest degree\n",
    "    degree=len(params)-1\n",
    "    x_range=[x_input[1], x_input[-1]]\n",
    "    x=np.linspace(x_range[0],x_range[1],1000)\n",
    "    y=x*0\n",
    "    \n",
    "    for k in range(0,degree+1):\n",
    "        coeff=params[k]\n",
    "        y=y+list(map(lambda z:coeff*z**k,x))        \n",
    "    return x,y\n",
    "                  \n",
    "np.random.seed(10)"
   ]
  },
  {
   "cell_type": "markdown",
   "metadata": {},
   "source": [
    "## Part a) \n",
    "Some setup code to create our Resistor test Data points and plot them"
   ]
  },
  {
   "cell_type": "code",
   "execution_count": 5,
   "metadata": {},
   "outputs": [
    {
     "data": {
      "text/plain": [
       "<matplotlib.legend.Legend at 0x7fe0970f30b8>"
      ]
     },
     "execution_count": 5,
     "metadata": {},
     "output_type": "execute_result"
    },
    {
     "data": {
      "image/png": "[encoded data removed]",
      "text/plain": [
       "<Figure size 432x288 with 1 Axes>"
      ]
     },
     "metadata": {
      "needs_background": "light"
     },
     "output_type": "display_data"
    }
   ],
   "source": [
    "R = 0.5\n",
    "x_a = np.linspace(-11,11,200)\n",
    "y_a = (1/R)*x_a + (np.random.rand(len(x_a))-0.5)*10\n",
    "fig = plt.figure()\n",
    "ax=fig.add_subplot(111,xlim=[-11,11],ylim=[-21,21])\n",
    "ax.plot(x_a,y_a, '.b', markersize=15)\n",
    "ax.legend(['Data Points'])"
   ]
  },
  {
   "cell_type": "markdown",
   "metadata": {},
   "source": [
    "Let's calculate a polynomial approximation of the above device. "
   ]
  },
  {
   "cell_type": "code",
   "execution_count": 17,
   "metadata": {},
   "outputs": [
    {
     "name": "stderr",
     "output_type": "stream",
     "text": [
      "/Users/fredericwang/anaconda3/lib/python3.7/site-packages/ipykernel_launcher.py:21: FutureWarning: `rcond` parameter will change to the default of machine precision times ``max(M, N)`` where M and N are the input matrix dimensions.\n",
      "To use the future default and silence this warning we advise to pass `rcond=None`, to keep using the old, explicitly pass `rcond=-1`.\n"
     ]
    },
    {
     "data": {
      "text/plain": [
       "Text(0.5, 1.0, 'Polynomial of Degree 15')"
      ]
     },
     "execution_count": 17,
     "metadata": {},
     "output_type": "execute_result"
    },
    {
     "data": {
      "image/png": "[encoded data removed]",
      "text/plain": [
       "<Figure size 432x288 with 1 Axes>"
      ]
     },
     "metadata": {
      "needs_background": "light"
     },
     "output_type": "display_data"
    }
   ],
   "source": [
    "#Play around with degree here to try and fit different degree polynomials\n",
    "degree=15\n",
    "D_a = data_matrix(x_a,degree)\n",
    "p_a = leastSquares(D_a, y_a)\n",
    "\n",
    "fig=plt.figure()\n",
    "ax=fig.add_subplot(111,xlim=[-11,11],ylim=[-21,21])\n",
    "x_a_,y_a_=poly_curve(p_a,x_a)\n",
    "ax.plot(x_a,y_a,'.b',markersize=15)\n",
    "ax.plot(x_a_, y_a_, 'r')\n",
    "ax.legend(['Data points'])\n",
    "plt.title('Polynomial of Degree %d' %(len(p_a)-1),fontsize=16)"
   ]
  },
  {
   "cell_type": "markdown",
   "metadata": {},
   "source": [
    "## Part b)"
   ]
  },
  {
   "cell_type": "code",
   "execution_count": 18,
   "metadata": {},
   "outputs": [],
   "source": [
    "def cost(x, y, start, end):\n",
    "    \"\"\"Given a set of x and y points, this function \n",
    "    calculates polynomial approximations of varying \n",
    "    degrees from start to end and returns the cost \n",
    "    of each degree in an array\"\"\"\n",
    "    c = []\n",
    "    for degree in range(start, end):\n",
    "        D = data_matrix(x,degree)\n",
    "        params = leastSquares(D,y)\n",
    "        error = np.linalg.norm(y-np.dot(D,params))\n",
    "        c.append(error)\n",
    "    return c"
   ]
  },
  {
   "cell_type": "code",
   "execution_count": 19,
   "metadata": {},
   "outputs": [
    {
     "name": "stderr",
     "output_type": "stream",
     "text": [
      "/Users/fredericwang/anaconda3/lib/python3.7/site-packages/ipykernel_launcher.py:21: FutureWarning: `rcond` parameter will change to the default of machine precision times ``max(M, N)`` where M and N are the input matrix dimensions.\n",
      "To use the future default and silence this warning we advise to pass `rcond=None`, to keep using the old, explicitly pass `rcond=-1`.\n"
     ]
    },
    {
     "data": {
      "text/plain": [
       "Text(0.5, 1.0, 'Cost vs Degree')"
      ]
     },
     "execution_count": 19,
     "metadata": {},
     "output_type": "execute_result"
    },
    {
     "data": {
      "image/png": "[encoded data removed]",
      "text/plain": [
       "<Figure size 432x288 with 1 Axes>"
      ]
     },
     "metadata": {
      "needs_background": "light"
     },
     "output_type": "display_data"
    }
   ],
   "source": [
    "start = 1\n",
    "end = 15\n",
    "fig=plt.figure()\n",
    "ax=fig.add_subplot(111)\n",
    "ax.plot(range(start, end), cost(x_a,y_a,start,end))\n",
    "plt.title('Cost vs Degree')"
   ]
  },
  {
   "cell_type": "markdown",
   "metadata": {},
   "source": [
    "## Part c)"
   ]
  },
  {
   "cell_type": "code",
   "execution_count": 26,
   "metadata": {},
   "outputs": [
    {
     "name": "stderr",
     "output_type": "stream",
     "text": [
      "/Users/fredericwang/anaconda3/lib/python3.7/site-packages/ipykernel_launcher.py:21: FutureWarning: `rcond` parameter will change to the default of machine precision times ``max(M, N)`` where M and N are the input matrix dimensions.\n",
      "To use the future default and silence this warning we advise to pass `rcond=None`, to keep using the old, explicitly pass `rcond=-1`.\n"
     ]
    },
    {
     "data": {
      "text/plain": [
       "[<matplotlib.lines.Line2D at 0x7fe097fec240>]"
      ]
     },
     "execution_count": 26,
     "metadata": {},
     "output_type": "execute_result"
    },
    {
     "data": {
      "image/png": "[encoded data removed]",
      "text/plain": [
       "<Figure size 432x288 with 1 Axes>"
      ]
     },
     "metadata": {
      "needs_background": "light"
     },
     "output_type": "display_data"
    }
   ],
   "source": [
    "# Extrapolation with Degree 1 Polynomial Fit\n",
    "degree=1\n",
    "x_a = np.linspace(-11,11,200)\n",
    "y_a = (1/R)*x_a + (np.random.rand(len(x_a))-0.5)*10\n",
    "D_a = data_matrix(x_a,degree)\n",
    "p_a = leastSquares(D_a, y_a)\n",
    "\n",
    "new_x_a = np.linspace(0,21,200)\n",
    "new_x_a_,new_y_a_=poly_curve(p_a,new_x_a)\n",
    "fig=plt.figure()\n",
    "ax=fig.add_subplot(111,xlim=[0,20],ylim=[0,50])\n",
    "\n",
    "ax.plot(x_a , y_a,'.b',markersize=15)\n",
    "ax.plot(new_x_a_, new_y_a_, 'r')"
   ]
  },
  {
   "cell_type": "code",
   "execution_count": 25,
   "metadata": {},
   "outputs": [
    {
     "name": "stderr",
     "output_type": "stream",
     "text": [
      "/Users/fredericwang/anaconda3/lib/python3.7/site-packages/ipykernel_launcher.py:21: FutureWarning: `rcond` parameter will change to the default of machine precision times ``max(M, N)`` where M and N are the input matrix dimensions.\n",
      "To use the future default and silence this warning we advise to pass `rcond=None`, to keep using the old, explicitly pass `rcond=-1`.\n"
     ]
    },
    {
     "data": {
      "text/plain": [
       "[<matplotlib.lines.Line2D at 0x7fe097907cc0>]"
      ]
     },
     "execution_count": 25,
     "metadata": {},
     "output_type": "execute_result"
    },
    {
     "data": {
      "image/png": "[encoded data removed]",
      "text/plain": [
       "<Figure size 432x288 with 1 Axes>"
      ]
     },
     "metadata": {
      "needs_background": "light"
     },
     "output_type": "display_data"
    }
   ],
   "source": [
    "# Extrapolation with Degree 15 Polynomial Fit\n",
    "degree=15\n",
    "x_a = np.linspace(-11,11,200)\n",
    "y_a = (1/R)*x_a + (np.random.rand(len(x_a))-0.5)*10\n",
    "D_a = data_matrix(x_a,degree)\n",
    "p_a = leastSquares(D_a, y_a)\n",
    "\n",
    "new_x_a = np.linspace(0,21,200)\n",
    "new_x_a_,new_y_a_=poly_curve(p_a,new_x_a)\n",
    "fig=plt.figure()\n",
    "ax=fig.add_subplot(111,xlim=[0,20],ylim=[0,50])\n",
    "\n",
    "ax.plot(x_a , y_a,'.b',markersize=15)\n",
    "ax.plot(new_x_a_, new_y_a_, 'r')"
   ]
  },
  {
   "cell_type": "markdown",
   "metadata": {},
   "source": [
    "# Image Analysis"
   ]
  },
  {
   "cell_type": "code",
   "execution_count": null,
   "metadata": {},
   "outputs": [],
   "source": [
    "%matplotlib notebook\n",
    "import matplotlib.pyplot as plt\n",
    "import numpy as np\n",
    "import ipywidgets as wdg  # Using the ipython notebook widgets\n",
    "import matplotlib.image as mpimg\n",
    "from matplotlib.widgets import Button"
   ]
  },
  {
   "cell_type": "code",
   "execution_count": 16,
   "metadata": {},
   "outputs": [],
   "source": [
    "def plot_circle(a, d, e):\n",
    "    \"\"\"\n",
    "    You can use this function to plot circles with parameters a,d,e.\n",
    "    The parameters are described in the homework pdf. \n",
    "    \n",
    "    \"\"\"\n",
    "    is_circle = d**2 + e**2 - 4*a > 0\n",
    "    assert is_circle, \"Not a circle\"\n",
    "    \n",
    "    XLIM_LO = -1\n",
    "    XLIM_HI = 3\n",
    "    YLIM_LO = -2\n",
    "    YLIM_HI = 2\n",
    "    X_COUNT = 400\n",
    "    Y_COUNT = 400\n",
    "    \n",
    "    x = np.linspace(XLIM_LO, XLIM_HI, X_COUNT)\n",
    "    y = np.linspace(YLIM_LO, YLIM_HI, Y_COUNT)\n",
    "    x, y = np.meshgrid(x, y)\n",
    "    f = lambda x,y: a*(x**2 + y**2) + d*x + e*y\n",
    "    \n",
    "    c1 = plt.contour(x, y, f(x,y), [1], colors='r')\n",
    "    plt.axis('scaled')\n",
    "    plt.xlabel('x')\n",
    "    plt.ylabel('y')\n",
    "    plt.title(\"Best Fit Circle\")"
   ]
  },
  {
   "cell_type": "code",
   "execution_count": 17,
   "metadata": {},
   "outputs": [],
   "source": [
    "def plot_ellipse(a, b, c, d, e):\n",
    "    \"\"\"\n",
    "    You can use this function to plot ellipses with parameters a-e.\n",
    "    The parameters are described in the homework pdf. \n",
    "    \"\"\"\n",
    "    is_ellipse = b**2 - 4*a*c < 0\n",
    "    assert is_ellipse, \"Not an ellipse\"\n",
    "    \n",
    "    XLIM_LO = -1\n",
    "    XLIM_HI = 3\n",
    "    YLIM_LO = -2\n",
    "    YLIM_HI = 2\n",
    "    X_COUNT = 400\n",
    "    Y_COUNT = 400\n",
    "    \n",
    "    x = np.linspace(XLIM_LO, XLIM_HI, X_COUNT)\n",
    "    y = np.linspace(YLIM_LO, YLIM_HI, Y_COUNT)\n",
    "    x, y = np.meshgrid(x, y)\n",
    "    f = lambda x,y: a*x**2 + b*x*y + c*y**2 + d*x + e*y\n",
    "    \n",
    "    c1 = plt.contour(x, y, f(x,y), [1], colors='r')\n",
    "    plt.axis('scaled')\n",
    "    plt.xlabel('x')\n",
    "    plt.ylabel('y')\n",
    "    plt.title(\"Best Fit Ellipse\")"
   ]
  },
  {
   "cell_type": "code",
   "execution_count": 18,
   "metadata": {},
   "outputs": [
    {
     "data": {
      "image/png": "[encoded data removed]",
      "text/plain": [
       "<Figure size 432x432 with 1 Axes>"
      ]
     },
     "metadata": {
      "needs_background": "light"
     },
     "output_type": "display_data"
    }
   ],
   "source": [
    "# Here is an example of plot_ellipse.\n",
    "# This plots (x-1)**2 + (y-1)**2 = 1, \n",
    "# which is a circle centered at (1,1). \n",
    "\n",
    "plt.figure(figsize=(6,6))\n",
    "plot_ellipse(1, 0, 1, -1, -1)"
   ]
  },
  {
   "cell_type": "markdown",
   "metadata": {},
   "source": [
    "## Part C"
   ]
  },
  {
   "cell_type": "code",
   "execution_count": null,
   "metadata": {},
   "outputs": [],
   "source": [
    "# Read the cell image\n",
    "\n",
    "img = mpimg.imread('figure_hw13.png')\n",
    "fig, ax = plt.subplots(1,figsize=(7,7))\n",
    "ax.axis(\"off\")\n",
    "ax.imshow(img)\n",
    "\n",
    "# Create and display textarea widget\n",
    "txt = wdg.Textarea(\n",
    "    value='',\n",
    "    placeholder='',\n",
    "    description='event:',\n",
    "    disabled=False\n",
    ")\n",
    "display(txt)\n",
    "\n",
    "select_points = []\n",
    "ax.set_title(\"Number of selected points: %d\"%(0))\n",
    "def button_click(event):\n",
    "    \n",
    "#     ax.set_title(\"%d\"%(len(select_points)))\n",
    "    xy = np.array(select_points)\n",
    "    x = xy[:,0]\n",
    "    y = xy[:,1]\n",
    "\n",
    "    # First we compute our estimated coefficients\n",
    "    A = np.array([x**2+y**2,x,y]).T \n",
    "    print(\"A = {}\\n\".format(A))\n",
    "    b = np.ones((len(select_points),)) * 1\n",
    "    xhat = np.linalg.inv(A.T.dot(A)).dot(A.T).dot(b)\n",
    "    plot_circle(ax,xhat[0], xhat[1], xhat[2])\n",
    "    \n",
    "    \n",
    "def button_click_e(event):\n",
    "    \n",
    "    # PART D\n",
    "    xy = np.array(select_points)\n",
    "    x = xy[:,0]\n",
    "    y = xy[:,1]\n",
    "    # First we compute our estimated coefficients\n",
    "    A = np.array([x**2,x*y,y**2,x,y]).T\n",
    "    b = np.ones((len(select_points),))\n",
    "    xhat = np.linalg.inv(A.T.dot(A)).dot(A.T).dot(b)\n",
    "    plot_ellipse(ax,xhat[0], xhat[1], xhat[2], xhat[3], xhat[4])\n",
    "\n",
    "def onclick(event):\n",
    "    if event.xdata > 1 and event.ydata > 1:\n",
    "        txt.value = \"x_index: %s, y_index: %s\"%(str(event.xdata),str(event.ydata))\n",
    "        \n",
    "        ax.plot(event.xdata, event.ydata, marker='o', color=\"red\",markersize=10)\n",
    "        select_points.append((event.xdata,event.ydata))\n",
    "        ax.set_title(\"Number of selected points: %d\"%(len(select_points)))\n",
    "    \n",
    "# ka = fig.canvas.mpl_connect('button_press_event', onclick)\n",
    "\n",
    "## Add a button\n",
    "# ax[1].axis(\"off\")\n",
    "button = plt.axes([0.13, 0.1, 0.2, 0.1])\n",
    "b_circle = Button(button, 'Plot Circle')\n",
    "b_circle.on_clicked(button_click)\n",
    "\n",
    "\n",
    "button_e = plt.axes([0.7, 0.1, 0.2, 0.1])\n",
    "b_e = Button(button_e, 'Plot Ellipse')\n",
    "b_e.on_clicked(button_click_e)\n",
    "# plt.show()\n",
    "ka = fig.canvas.mpl_connect('button_press_event', onclick)"
   ]
  },
  {
   "cell_type": "markdown",
   "metadata": {},
   "source": [
    "You may find [plt.scatter](http://matplotlib.org/api/pyplot_api.html) useful for plotting the points.\n",
    "\n",
    "## Part D"
   ]
  },
  {
   "cell_type": "code",
   "execution_count": 19,
   "metadata": {},
   "outputs": [
    {
     "name": "stdout",
     "output_type": "stream",
     "text": [
      "A = [[ 0.5661  0.3    -0.69  ]\n",
      " [ 1.0069  0.5     0.87  ]\n",
      " [ 1.5496  0.9    -0.86  ]\n",
      " [ 1.7744  1.      0.88  ]\n",
      " [ 2.1124  1.2    -0.82  ]\n",
      " [ 2.6596  1.5     0.64  ]\n",
      " [ 3.24    1.8     0.    ]]\n",
      "\n",
      "xhat = [ 4.87314137 -7.89293482 -0.22651484]\n",
      "\n"
     ]
    }
   ],
   "source": [
    "xy = np.array([[0.3, -0.69],\n",
    "               [0.5, 0.87],\n",
    "               [0.9, -0.86],\n",
    "               [1, 0.88],\n",
    "               [1.2, -0.82],\n",
    "               [1.5, .64],\n",
    "               [1.8, 0]])\n",
    "x = xy[:,0]\n",
    "y = xy[:,1]\n",
    "\n",
    "# First we compute our estimated coefficients\n",
    "A = np.array([x**2+y**2,x,y]).T \n",
    "print(\"A = {}\\n\".format(A))\n",
    "b = np.ones((7,))\n",
    "xhat = np.linalg.inv(A.T.dot(A)).dot(A.T).dot(b)\n",
    "print(\"xhat = {}\\n\".format(xhat))"
   ]
  },
  {
   "cell_type": "code",
   "execution_count": 21,
   "metadata": {},
   "outputs": [
    {
     "data": {
      "text/plain": [
       "<matplotlib.collections.PathCollection at 0x7fa3f482f1d0>"
      ]
     },
     "execution_count": 21,
     "metadata": {},
     "output_type": "execute_result"
    },
    {
     "data": {
      "image/png": "[encoded data removed]",
      "text/plain": [
       "<Figure size 432x432 with 1 Axes>"
      ]
     },
     "metadata": {
      "needs_background": "light"
     },
     "output_type": "display_data"
    }
   ],
   "source": [
    "# Then we plot\n",
    "plt.figure(figsize=(6,6))\n",
    "plot_circle(xhat[0], xhat[1], xhat[2])\n",
    "plt.scatter(x,y, color='k')"
   ]
  },
  {
   "cell_type": "code",
   "execution_count": 22,
   "metadata": {},
   "outputs": [
    {
     "name": "stdout",
     "output_type": "stream",
     "text": [
      "e = [-0.45289988 -0.23676927 -0.35741872 -0.44536583  0.00824421 -0.02376494\n",
      "  0.58169536]\n",
      "\n",
      "||e|| = 0.9624339357020364\n",
      "\n",
      "||e|| / N = 0.13749056224314807\n",
      "\n"
     ]
    }
   ],
   "source": [
    "# Then we compute the error\n",
    "e = A.dot(xhat) - b\n",
    "print(\"e = {}\\n\".format(e))\n",
    "print(\"||e|| = {}\\n\".format(np.linalg.norm(e)))\n",
    "N = 7\n",
    "print(\"||e|| / N = {}\\n\".format(np.linalg.norm(e)/N))"
   ]
  },
  {
   "cell_type": "markdown",
   "metadata": {},
   "source": [
    "## Part E"
   ]
  },
  {
   "cell_type": "code",
   "execution_count": 23,
   "metadata": {},
   "outputs": [
    {
     "name": "stdout",
     "output_type": "stream",
     "text": [
      "[[ 0.09   -0.207   0.4761  0.3    -0.69  ]\n",
      " [ 0.25    0.435   0.7569  0.5     0.87  ]\n",
      " [ 0.81   -0.774   0.7396  0.9    -0.86  ]\n",
      " [ 1.      0.88    0.7744  1.      0.88  ]\n",
      " [ 1.44   -0.984   0.6724  1.2    -0.82  ]\n",
      " [ 2.25    0.96    0.4096  1.5     0.64  ]\n",
      " [ 3.24    0.      0.      1.8     0.    ]]\n",
      "\n",
      "xhat = [ 4.10382951  0.48711384  4.93938449 -6.85032284 -0.62259259]\n",
      "\n"
     ]
    }
   ],
   "source": [
    "# First we compute our estimated coefficients\n",
    "A = np.array([x**2,x*y,y**2,x,y]).T\n",
    "print(\"{}\\n\".format(A))\n",
    "b = np.ones((7,))\n",
    "xhat = np.linalg.inv(A.T.dot(A)).dot(A.T).dot(b)\n",
    "print(\"xhat = {}\\n\".format(xhat))"
   ]
  },
  {
   "cell_type": "code",
   "execution_count": 24,
   "metadata": {},
   "outputs": [
    {
     "data": {
      "text/plain": [
       "<matplotlib.collections.PathCollection at 0x7fa3f4d32128>"
      ]
     },
     "execution_count": 24,
     "metadata": {},
     "output_type": "execute_result"
    },
    {
     "data": {
      "image/png": "[encoded data removed]",
      "text/plain": [
       "<Figure size 432x432 with 1 Axes>"
      ]
     },
     "metadata": {
      "needs_background": "light"
     },
     "output_type": "display_data"
    }
   ],
   "source": [
    "# Then we plot\n",
    "\n",
    "plt.figure(figsize=(6,6))\n",
    "plot_ellipse(xhat[0], xhat[1], xhat[2], xhat[3], xhat[4])\n",
    "plt.scatter(x,y,color='k')"
   ]
  },
  {
   "cell_type": "code",
   "execution_count": 25,
   "metadata": {},
   "outputs": [
    {
     "name": "stdout",
     "output_type": "stream",
     "text": [
      "e = [-0.00535492  0.00965504 -0.02961637 -0.04065528  0.04157513  0.05047406\n",
      " -0.03417349]\n",
      "\n",
      "||e|| = 0.08997680361065329\n",
      "\n",
      "||e|| / N = 0.012853829087236184\n",
      "\n"
     ]
    }
   ],
   "source": [
    "# Then we compute the error\n",
    "\n",
    "e = A.dot(xhat) - b\n",
    "print(\"e = {}\\n\".format(e))\n",
    "print(\"||e|| = {}\\n\".format(np.linalg.norm(e)))\n",
    "N = 7\n",
    "print(\"||e|| / N = {}\\n\".format(np.linalg.norm(e)/N))"
   ]
  },
  {
   "cell_type": "code",
   "execution_count": null,
   "metadata": {},
   "outputs": [],
   "source": []
  }
 ],
 "metadata": {
  "kernelspec": {
   "display_name": "Python 3 (ipykernel)",
   "language": "python",
   "name": "python3"
  },
  "language_info": {
   "codemirror_mode": {
    "name": "ipython",
    "version": 3
   },
   "file_extension": ".py",
   "mimetype": "text/x-python",
   "name": "python",
   "nbconvert_exporter": "python",
   "pygments_lexer": "ipython3",
   "version": "3.8.11"
  }
 },
 "nbformat": 4,
 "nbformat_minor": 1
}
