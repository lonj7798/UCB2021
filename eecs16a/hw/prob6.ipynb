{
 "cells": [
  {
   "cell_type": "markdown",
   "metadata": {},
   "source": [
    "## EECS 16A Homework 6"
   ]
  },
  {
   "cell_type": "markdown",
   "metadata": {},
   "source": [
    "## Q2: PageRank"
   ]
  },
  {
   "cell_type": "code",
   "execution_count": 1,
   "metadata": {},
   "outputs": [],
   "source": [
    "import numpy as np\n",
    "import matplotlib.pyplot as plt\n",
    "%matplotlib inline"
   ]
  },
  {
   "cell_type": "code",
   "execution_count": 10,
   "metadata": {},
   "outputs": [],
   "source": [
    "A = np.array([[0, 1],\n",
    "              [1, 0]])"
   ]
  },
  {
   "cell_type": "code",
   "execution_count": 11,
   "metadata": {},
   "outputs": [
    {
     "data": {
      "text/plain": [
       "(array([ 1., -1.]),\n",
       " array([[ 0.70710678, -0.70710678],\n",
       "        [ 0.70710678,  0.70710678]]))"
      ]
     },
     "execution_count": 11,
     "metadata": {},
     "output_type": "execute_result"
    }
   ],
   "source": [
    "np.linalg.eig(A)"
   ]
  },
  {
   "cell_type": "markdown",
   "metadata": {},
   "source": [
    "### 2(b)"
   ]
  },
  {
   "cell_type": "markdown",
   "metadata": {},
   "source": [
    "Write code below to help you calculate the steady-state frequencies for each webpage in graph B. (Hint: the command numpy.linalg.eig may be helpful for this.)"
   ]
  },
  {
   "cell_type": "code",
   "execution_count": 87,
   "metadata": {},
   "outputs": [],
   "source": [
    "B = np.array([[0, 1, 1/3, 1/3],\n",
    "              [0, 0, 1/3, 1/3],\n",
    "              [0, 0, 0, 1/3], \n",
    "              [1, 0, 1/3, 0]])"
   ]
  },
  {
   "cell_type": "code",
   "execution_count": 88,
   "metadata": {},
   "outputs": [],
   "source": [
    "w_b = np.linalg.eig(B)[0]\n",
    "v_b = np.linalg.eig(B)[1]"
   ]
  },
  {
   "cell_type": "code",
   "execution_count": 89,
   "metadata": {},
   "outputs": [
    {
     "name": "stdout",
     "output_type": "stream",
     "text": [
      "when lambda is (0.9999999999999989+0j)\n",
      "eigen vector is [-0.61357199+0.j -0.306786  +0.j -0.2300895 +0.j -0.69026849+0.j]\n"
     ]
    }
   ],
   "source": [
    "print('when lambda is', w_b[0])\n",
    "print('eigen vector is', v_b[:, 0])"
   ]
  },
  {
   "cell_type": "markdown",
   "metadata": {},
   "source": [
    "### 2(c)"
   ]
  },
  {
   "cell_type": "markdown",
   "metadata": {},
   "source": [
    "Write code below to help you calculate the steady-state frequencies for each webpage in graph C. (Hint: the command numpy.linalg.eig may be helpful for this.)"
   ]
  },
  {
   "cell_type": "code",
   "execution_count": 90,
   "metadata": {},
   "outputs": [],
   "source": [
    "C = np.array([[0, 1, 0, 0, 0],\n",
    "              [1, 0, 0, 0, 0],\n",
    "              [0, 0, 0, 0, 1],\n",
    "              [0, 0, 1/2, 0, 0],\n",
    "              [0, 0, 1/2, 1, 0]]\n",
    "            )"
   ]
  },
  {
   "cell_type": "code",
   "execution_count": 91,
   "metadata": {},
   "outputs": [],
   "source": [
    "w_c = np.linalg.eig(C)[0]\n",
    "v_c = np.linalg.eig(C)[1]"
   ]
  },
  {
   "cell_type": "code",
   "execution_count": 92,
   "metadata": {},
   "outputs": [
    {
     "name": "stdout",
     "output_type": "stream",
     "text": [
      "when lambda is (1+0j)\n",
      "eigen vector is [0.70710678+0.j 0.70710678+0.j 0.        +0.j 0.        +0.j\n",
      " 0.        +0.j]\n"
     ]
    }
   ],
   "source": [
    "print('when lambda is', w_c[0])\n",
    "print('eigen vector is', v_c[:, 0])"
   ]
  },
  {
   "cell_type": "code",
   "execution_count": 93,
   "metadata": {},
   "outputs": [
    {
     "name": "stdout",
     "output_type": "stream",
     "text": [
      "when lambda is (1.0000000000000004+0j)\n",
      "eigen vector is [ 0.        +0.j  0.        +0.j -0.66666667+0.j -0.33333333+0.j\n",
      " -0.66666667+0.j]\n"
     ]
    }
   ],
   "source": [
    "print('when lambda is', w_c[2])\n",
    "print('eigen vector is', v_c[:, 2])"
   ]
  },
  {
   "cell_type": "code",
   "execution_count": 95,
   "metadata": {},
   "outputs": [],
   "source": [
    "from sympy import *"
   ]
  },
  {
   "cell_type": "code",
   "execution_count": null,
   "metadata": {},
   "outputs": [],
   "source": [
    "R1, R2, R3 = symbol('R1 R2 R3')\n",
    "Y - "
   ]
  }
 ],
 "metadata": {
  "kernelspec": {
   "display_name": "Python 3 (ipykernel)",
   "language": "python",
   "name": "python3"
  },
  "language_info": {
   "codemirror_mode": {
    "name": "ipython",
    "version": 3
   },
   "file_extension": ".py",
   "mimetype": "text/x-python",
   "name": "python",
   "nbconvert_exporter": "python",
   "pygments_lexer": "ipython3",
   "version": "3.8.11"
  }
 },
 "nbformat": 4,
 "nbformat_minor": 2
}
