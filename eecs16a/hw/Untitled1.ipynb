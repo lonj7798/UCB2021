{
 "cells": [
  {
   "cell_type": "code",
   "execution_count": 1,
   "id": "9f101c8f",
   "metadata": {},
   "outputs": [],
   "source": [
    "import numpy as np"
   ]
  },
  {
   "cell_type": "code",
   "execution_count": 14,
   "id": "1f28aada",
   "metadata": {},
   "outputs": [
    {
     "data": {
      "text/plain": [
       "array([  20.,  -10.,  -20.,  -60., -160.,  -50., -120.])"
      ]
     },
     "execution_count": 14,
     "metadata": {},
     "output_type": "execute_result"
    }
   ],
   "source": [
    "p_A = np.array([60, 40, 60, 40]).T\n",
    "p_B = np.array([20, 80, 20, 80]).T\n",
    "x = np.array([0.5, -1, 0.5, -2]).T\n",
    "\n",
    "np.correlate(x, p_A, 'full')"
   ]
  },
  {
   "cell_type": "code",
   "execution_count": 15,
   "id": "35b7da79",
   "metadata": {},
   "outputs": [
    {
     "data": {
      "text/plain": [
       "array([  40.,  -70.,   60., -220.,  -20., -150.,  -40.])"
      ]
     },
     "execution_count": 15,
     "metadata": {},
     "output_type": "execute_result"
    }
   ],
   "source": [
    "np.correlate(x, p_B, 'full')"
   ]
  },
  {
   "cell_type": "code",
   "execution_count": null,
   "id": "76100696",
   "metadata": {},
   "outputs": [],
   "source": []
  }
 ],
 "metadata": {
  "kernelspec": {
   "display_name": "Python 3 (ipykernel)",
   "language": "python",
   "name": "python3"
  },
  "language_info": {
   "codemirror_mode": {
    "name": "ipython",
    "version": 3
   },
   "file_extension": ".py",
   "mimetype": "text/x-python",
   "name": "python",
   "nbconvert_exporter": "python",
   "pygments_lexer": "ipython3",
   "version": "3.8.11"
  }
 },
 "nbformat": 4,
 "nbformat_minor": 5
}
