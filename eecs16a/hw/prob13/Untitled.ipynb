{
 "cells": [
  {
   "cell_type": "code",
   "execution_count": 2,
   "id": "1e3fb3ca",
   "metadata": {},
   "outputs": [],
   "source": [
    "import numpy as np\n",
    "import matplotlib.pyplot as plt"
   ]
  },
  {
   "cell_type": "code",
   "execution_count": 9,
   "id": "3309b11e",
   "metadata": {},
   "outputs": [
    {
     "data": {
      "image/png": "[encoded data removed]",
      "text/plain": [
       "<Figure size 432x288 with 1 Axes>"
      ]
     },
     "metadata": {
      "needs_background": "light"
     },
     "output_type": "display_data"
    }
   ],
   "source": [
    "figure, axes = plt.subplots()\n",
    "\n",
    "draw_circle1 = plt.Circle((4, 5), 5,fill=False, color='r')\n",
    "draw_circle2 = plt.Circle((1, -1), 2,fill=False, color='b')\n",
    "draw_circle3 = plt.Circle((-11, 6), 13,fill=False, color='g')\n",
    "\n",
    "\n",
    "plt.gcf().gca().add_artist(draw_circle1)\n",
    "plt.gcf().gca().add_artist(draw_circle2)\n",
    "plt.gcf().gca().add_artist(draw_circle3)\n",
    "\n",
    "plt.xlim((-10, 10))\n",
    "plt.ylim((-10, 20))\n",
    "plt.title('Circle')\n",
    "axes.set_aspect(1)\n",
    "plt.show()"
   ]
  },
  {
   "cell_type": "code",
   "execution_count": 17,
   "id": "e67124aa",
   "metadata": {},
   "outputs": [],
   "source": [
    "a1, d1 = np.array([4, 5]).T, 5\n",
    "a2, d2 = np.array([1, -1]).T, 2\n",
    "a3, d3 = np.array([-11, 6]).T, 13\n",
    "\n",
    "left = np.array([np.array([a1 - a2]).T * 2,\n",
    "                 np.array([a1 - a3]).T * 2]).T\n",
    "\n",
    "right = np.array([np.dot(a1, a1) - np.dot(a2, a2) - d1**2 + d2**2,\n",
    "                  np.dot(a1, a2) - np.dot(a3, a3) - d1**2 + d3**2]).T\n",
    "\n",
    "x = np.dot(np.linalg.inv(left), right)"
   ]
  },
  {
   "cell_type": "code",
   "execution_count": 18,
   "id": "59f956b7",
   "metadata": {},
   "outputs": [
    {
     "data": {
      "text/plain": [
       "array([[-1.03225806,  0.80645161]])"
      ]
     },
     "execution_count": 18,
     "metadata": {},
     "output_type": "execute_result"
    }
   ],
   "source": [
    "x"
   ]
  },
  {
   "cell_type": "code",
   "execution_count": 20,
   "id": "37cccd38",
   "metadata": {},
   "outputs": [
    {
     "name": "stdout",
     "output_type": "stream",
     "text": [
      "[[-32/31 25/31]]\n"
     ]
    }
   ],
   "source": [
    "import fractions\n",
    "np.set_printoptions(formatter={'all':lambda x: str(fractions.Fraction(x).limit_denominator())})\n",
    "print(x)"
   ]
  },
  {
   "cell_type": "code",
   "execution_count": null,
   "id": "f5cbb67e",
   "metadata": {},
   "outputs": [],
   "source": [
    "A = np.array([[1, -1, -1, 0],\n",
    "              [1, 0, 0, 0],\n",
    "              [0, 1, 0, 1],\n",
    "              [0, 0, 1, -1]])\n",
    "B = np.array([0, 10/1.8, -10/1.8, 0])"
   ]
  },
  {
   "cell_type": "code",
   "execution_count": null,
   "id": "470475b1",
   "metadata": {},
   "outputs": [],
   "source": [
    "sol = np.linalg.lstsq(A, B.T)[0]\n",
    "print(sol)"
   ]
  },
  {
   "cell_type": "code",
   "execution_count": null,
   "id": "18534a56",
   "metadata": {},
   "outputs": [],
   "source": [
    "import fractions\n",
    "np.set_printoptions(formatter={'all':lambda x: str(fractions.Fraction(x).limit_denominator())})\n",
    "print(sol)"
   ]
  },
  {
   "cell_type": "code",
   "execution_count": null,
   "id": "f89191be",
   "metadata": {},
   "outputs": [],
   "source": []
  },
  {
   "cell_type": "code",
   "execution_count": null,
   "id": "01d7cbcd",
   "metadata": {},
   "outputs": [],
   "source": []
  },
  {
   "cell_type": "code",
   "execution_count": 24,
   "id": "fd3338c1",
   "metadata": {
    "scrolled": false
   },
   "outputs": [
    {
     "data": {
      "image/png": "[encoded data removed]",
      "text/plain": [
       "<Figure size 432x288 with 1 Axes>"
      ]
     },
     "metadata": {
      "needs_background": "light"
     },
     "output_type": "display_data"
    }
   ],
   "source": [
    "figure, axes = plt.subplots()\n",
    "\n",
    "draw_circle1 = plt.Circle((0, 0), 5*np.sqrt(2),fill=False, color='r')\n",
    "draw_circle2 = plt.Circle((10, 0), 5*np.sqrt(2),fill=False, color='b')\n",
    "draw_circle3 = plt.Circle((5, 0), 5,fill=False, color='g')\n",
    "\n",
    "\n",
    "plt.gcf().gca().add_artist(draw_circle1)\n",
    "plt.gcf().gca().add_artist(draw_circle2)\n",
    "plt.gcf().gca().add_artist(draw_circle3)\n",
    "\n",
    "plt.xlim((-10, 20))\n",
    "plt.ylim((-10, 10))\n",
    "plt.title('Circle')\n",
    "axes.set_aspect(1)\n",
    "plt.show()"
   ]
  },
  {
   "cell_type": "code",
   "execution_count": 23,
   "id": "b9c5ae1e",
   "metadata": {},
   "outputs": [
    {
     "ename": "LinAlgError",
     "evalue": "Singular matrix",
     "output_type": "error",
     "traceback": [
      "\u001b[0;31m---------------------------------------------------------------------------\u001b[0m",
      "\u001b[0;31mLinAlgError\u001b[0m                               Traceback (most recent call last)",
      "\u001b[0;32m/var/folders/m5/b577jf4d20jc309f4phr3lvr0000gn/T/ipykernel_978/2264370068.py\u001b[0m in \u001b[0;36m<module>\u001b[0;34m\u001b[0m\n\u001b[1;32m      9\u001b[0m                   np.dot(a1, a2) - np.dot(a3, a3) - d1**2 + d3**2]).T\n\u001b[1;32m     10\u001b[0m \u001b[0;34m\u001b[0m\u001b[0m\n\u001b[0;32m---> 11\u001b[0;31m \u001b[0mx\u001b[0m \u001b[0;34m=\u001b[0m \u001b[0mnp\u001b[0m\u001b[0;34m.\u001b[0m\u001b[0mdot\u001b[0m\u001b[0;34m(\u001b[0m\u001b[0mnp\u001b[0m\u001b[0;34m.\u001b[0m\u001b[0mlinalg\u001b[0m\u001b[0;34m.\u001b[0m\u001b[0minv\u001b[0m\u001b[0;34m(\u001b[0m\u001b[0mleft\u001b[0m\u001b[0;34m)\u001b[0m\u001b[0;34m,\u001b[0m \u001b[0mright\u001b[0m\u001b[0;34m)\u001b[0m\u001b[0;34m\u001b[0m\u001b[0;34m\u001b[0m\u001b[0m\n\u001b[0m",
      "\u001b[0;32m<__array_function__ internals>\u001b[0m in \u001b[0;36minv\u001b[0;34m(*args, **kwargs)\u001b[0m\n",
      "\u001b[0;32m~/opt/anaconda3/lib/python3.8/site-packages/numpy/linalg/linalg.py\u001b[0m in \u001b[0;36minv\u001b[0;34m(a)\u001b[0m\n\u001b[1;32m    543\u001b[0m     \u001b[0msignature\u001b[0m \u001b[0;34m=\u001b[0m \u001b[0;34m'D->D'\u001b[0m \u001b[0;32mif\u001b[0m \u001b[0misComplexType\u001b[0m\u001b[0;34m(\u001b[0m\u001b[0mt\u001b[0m\u001b[0;34m)\u001b[0m \u001b[0;32melse\u001b[0m \u001b[0;34m'd->d'\u001b[0m\u001b[0;34m\u001b[0m\u001b[0;34m\u001b[0m\u001b[0m\n\u001b[1;32m    544\u001b[0m     \u001b[0mextobj\u001b[0m \u001b[0;34m=\u001b[0m \u001b[0mget_linalg_error_extobj\u001b[0m\u001b[0;34m(\u001b[0m\u001b[0m_raise_linalgerror_singular\u001b[0m\u001b[0;34m)\u001b[0m\u001b[0;34m\u001b[0m\u001b[0;34m\u001b[0m\u001b[0m\n\u001b[0;32m--> 545\u001b[0;31m     \u001b[0mainv\u001b[0m \u001b[0;34m=\u001b[0m \u001b[0m_umath_linalg\u001b[0m\u001b[0;34m.\u001b[0m\u001b[0minv\u001b[0m\u001b[0;34m(\u001b[0m\u001b[0ma\u001b[0m\u001b[0;34m,\u001b[0m \u001b[0msignature\u001b[0m\u001b[0;34m=\u001b[0m\u001b[0msignature\u001b[0m\u001b[0;34m,\u001b[0m \u001b[0mextobj\u001b[0m\u001b[0;34m=\u001b[0m\u001b[0mextobj\u001b[0m\u001b[0;34m)\u001b[0m\u001b[0;34m\u001b[0m\u001b[0;34m\u001b[0m\u001b[0m\n\u001b[0m\u001b[1;32m    546\u001b[0m     \u001b[0;32mreturn\u001b[0m \u001b[0mwrap\u001b[0m\u001b[0;34m(\u001b[0m\u001b[0mainv\u001b[0m\u001b[0;34m.\u001b[0m\u001b[0mastype\u001b[0m\u001b[0;34m(\u001b[0m\u001b[0mresult_t\u001b[0m\u001b[0;34m,\u001b[0m \u001b[0mcopy\u001b[0m\u001b[0;34m=\u001b[0m\u001b[0;32mFalse\u001b[0m\u001b[0;34m)\u001b[0m\u001b[0;34m)\u001b[0m\u001b[0;34m\u001b[0m\u001b[0;34m\u001b[0m\u001b[0m\n\u001b[1;32m    547\u001b[0m \u001b[0;34m\u001b[0m\u001b[0m\n",
      "\u001b[0;32m~/opt/anaconda3/lib/python3.8/site-packages/numpy/linalg/linalg.py\u001b[0m in \u001b[0;36m_raise_linalgerror_singular\u001b[0;34m(err, flag)\u001b[0m\n\u001b[1;32m     86\u001b[0m \u001b[0;34m\u001b[0m\u001b[0m\n\u001b[1;32m     87\u001b[0m \u001b[0;32mdef\u001b[0m \u001b[0m_raise_linalgerror_singular\u001b[0m\u001b[0;34m(\u001b[0m\u001b[0merr\u001b[0m\u001b[0;34m,\u001b[0m \u001b[0mflag\u001b[0m\u001b[0;34m)\u001b[0m\u001b[0;34m:\u001b[0m\u001b[0;34m\u001b[0m\u001b[0;34m\u001b[0m\u001b[0m\n\u001b[0;32m---> 88\u001b[0;31m     \u001b[0;32mraise\u001b[0m \u001b[0mLinAlgError\u001b[0m\u001b[0;34m(\u001b[0m\u001b[0;34m\"Singular matrix\"\u001b[0m\u001b[0;34m)\u001b[0m\u001b[0;34m\u001b[0m\u001b[0;34m\u001b[0m\u001b[0m\n\u001b[0m\u001b[1;32m     89\u001b[0m \u001b[0;34m\u001b[0m\u001b[0m\n\u001b[1;32m     90\u001b[0m \u001b[0;32mdef\u001b[0m \u001b[0m_raise_linalgerror_nonposdef\u001b[0m\u001b[0;34m(\u001b[0m\u001b[0merr\u001b[0m\u001b[0;34m,\u001b[0m \u001b[0mflag\u001b[0m\u001b[0;34m)\u001b[0m\u001b[0;34m:\u001b[0m\u001b[0;34m\u001b[0m\u001b[0;34m\u001b[0m\u001b[0m\n",
      "\u001b[0;31mLinAlgError\u001b[0m: Singular matrix"
     ]
    }
   ],
   "source": [
    "a1, d1 = np.array([0, 0]).T, 5*np.sqrt(2)\n",
    "a2, d2 = np.array([10, 0]).T, 5*np.sqrt(2)\n",
    "a3, d3 = np.array([5, 0]).T, 5\n",
    "\n",
    "left = np.array([np.array([a1 - a2]).T * 2,\n",
    "                 np.array([a1 - a3]).T * 2]).T\n",
    "\n",
    "right = np.array([np.dot(a1, a1) - np.dot(a2, a2) - d1**2 + d2**2,\n",
    "                  np.dot(a1, a2) - np.dot(a3, a3) - d1**2 + d3**2]).T\n",
    "\n",
    "x = np.dot(np.linalg.inv(left), right)"
   ]
  },
  {
   "cell_type": "code",
   "execution_count": null,
   "id": "ad9cf2df",
   "metadata": {},
   "outputs": [],
   "source": []
  },
  {
   "cell_type": "code",
   "execution_count": 25,
   "id": "0fe63fc9",
   "metadata": {},
   "outputs": [],
   "source": [
    "a1, d1 = np.array([3, 4]).T, 5\n",
    "a2, d2 = np.array([0, -2]).T, 2\n",
    "a3, d3 = np.array([-12, 5]).T, 12"
   ]
  },
  {
   "cell_type": "code",
   "execution_count": 26,
   "id": "ab9b371a",
   "metadata": {},
   "outputs": [
    {
     "data": {
      "image/png": "[encoded data removed]",
      "text/plain": [
       "<Figure size 432x288 with 1 Axes>"
      ]
     },
     "metadata": {
      "needs_background": "light"
     },
     "output_type": "display_data"
    }
   ],
   "source": [
    "figure, axes = plt.subplots()\n",
    "\n",
    "draw_circle1 = plt.Circle(a1, d1,fill=False, color='r')\n",
    "draw_circle2 = plt.Circle(a2, d2,fill=False, color='b')\n",
    "draw_circle3 = plt.Circle(a3, d3,fill=False, color='g')\n",
    "\n",
    "\n",
    "plt.gcf().gca().add_artist(draw_circle1)\n",
    "plt.gcf().gca().add_artist(draw_circle2)\n",
    "plt.gcf().gca().add_artist(draw_circle3)\n",
    "\n",
    "plt.xlim((-10, 10))\n",
    "plt.ylim((-10, 20))\n",
    "plt.title('Circle')\n",
    "axes.set_aspect(1)\n",
    "plt.show()"
   ]
  },
  {
   "cell_type": "code",
   "execution_count": 27,
   "id": "3f8557f5",
   "metadata": {},
   "outputs": [],
   "source": [
    "left = np.array([np.array([a1 - a2]).T * 2,\n",
    "                 np.array([a1 - a3]).T * 2]).T\n",
    "\n",
    "right = np.array([np.dot(a1, a1) - np.dot(a2, a2) - d1**2 + d2**2,\n",
    "                  np.dot(a1, a2) - np.dot(a3, a3) - d1**2 + d3**2]).T\n",
    "\n",
    "x = np.dot(np.linalg.inv(left), right)"
   ]
  },
  {
   "cell_type": "code",
   "execution_count": 28,
   "id": "64eae463",
   "metadata": {},
   "outputs": [
    {
     "data": {
      "text/plain": [
       "array([[-145/31, 29/31]])"
      ]
     },
     "execution_count": 28,
     "metadata": {},
     "output_type": "execute_result"
    }
   ],
   "source": [
    "x"
   ]
  },
  {
   "cell_type": "code",
   "execution_count": 30,
   "id": "6cc30f16",
   "metadata": {},
   "outputs": [
    {
     "name": "stdout",
     "output_type": "stream",
     "text": [
      "[[-145/31 29/31]]\n"
     ]
    }
   ],
   "source": [
    "import fractions\n",
    "np.set_printoptions(formatter={'all':lambda x: str(fractions.Fraction(x).limit_denominator())})\n",
    "print(x)"
   ]
  },
  {
   "cell_type": "code",
   "execution_count": null,
   "id": "601ad5c4",
   "metadata": {},
   "outputs": [],
   "source": []
  }
 ],
 "metadata": {
  "kernelspec": {
   "display_name": "Python 3 (ipykernel)",
   "language": "python",
   "name": "python3"
  },
  "language_info": {
   "codemirror_mode": {
    "name": "ipython",
    "version": 3
   },
   "file_extension": ".py",
   "mimetype": "text/x-python",
   "name": "python",
   "nbconvert_exporter": "python",
   "pygments_lexer": "ipython3",
   "version": "3.8.11"
  }
 },
 "nbformat": 4,
 "nbformat_minor": 5
}
