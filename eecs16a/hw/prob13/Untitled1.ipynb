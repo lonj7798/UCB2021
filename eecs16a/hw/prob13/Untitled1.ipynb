{
 "cells": [
  {
   "cell_type": "code",
   "execution_count": 1,
   "id": "81885a09",
   "metadata": {},
   "outputs": [],
   "source": [
    "import numpy as np"
   ]
  },
  {
   "cell_type": "code",
   "execution_count": 2,
   "id": "23a10ad8",
   "metadata": {},
   "outputs": [],
   "source": [
    "A = np.array([[100, 4, 1],\n",
    "              [25, 5, 1],\n",
    "              [25, 1, 1],\n",
    "              [0, 5, 1],\n",
    "              [9, 9, 1]])\n",
    "\n",
    "E = np.array([300, 220, 250, 280, 350]).T"
   ]
  },
  {
   "cell_type": "code",
   "execution_count": 3,
   "id": "6826218b",
   "metadata": {},
   "outputs": [],
   "source": [
    "x = np.dot(np.dot(np.linalg.inv(np.dot(A.T, A)), A.T), E)"
   ]
  },
  {
   "cell_type": "code",
   "execution_count": 4,
   "id": "6ad40995",
   "metadata": {},
   "outputs": [
    {
     "data": {
      "text/plain": [
       "array([  0.33291458,  12.92717401, 207.36288114])"
      ]
     },
     "execution_count": 4,
     "metadata": {},
     "output_type": "execute_result"
    }
   ],
   "source": [
    "x"
   ]
  },
  {
   "cell_type": "code",
   "execution_count": 5,
   "id": "9b752469",
   "metadata": {},
   "outputs": [
    {
     "name": "stdout",
     "output_type": "stream",
     "text": [
      "[313500/941683 12173300/941683 195270100/941683]\n"
     ]
    }
   ],
   "source": [
    "import fractions\n",
    "np.set_printoptions(formatter={'all':lambda x: str(fractions.Fraction(x).limit_denominator())})\n",
    "print(x)"
   ]
  },
  {
   "cell_type": "code",
   "execution_count": null,
   "id": "550d6fe0",
   "metadata": {},
   "outputs": [],
   "source": []
  },
  {
   "cell_type": "code",
   "execution_count": 6,
   "id": "1336f479",
   "metadata": {
    "scrolled": true
   },
   "outputs": [
    {
     "name": "stdout",
     "output_type": "stream",
     "text": [
      "[4 1]\n"
     ]
    }
   ],
   "source": [
    "A = np.array([[1, 0],\n",
    "              [0, 2],\n",
    "              [1, 1]])\n",
    "\n",
    "b = np.array([4, 2, 5]).T\n",
    "\n",
    "x = np.dot(np.dot(np.linalg.inv(np.dot(A.T, A)), A.T), b)\n",
    "print(x)"
   ]
  },
  {
   "cell_type": "code",
   "execution_count": null,
   "id": "e1e39a70",
   "metadata": {},
   "outputs": [],
   "source": []
  },
  {
   "cell_type": "code",
   "execution_count": 8,
   "id": "eea3d589",
   "metadata": {},
   "outputs": [
    {
     "name": "stdout",
     "output_type": "stream",
     "text": [
      "[1075/128 -515/256 9605/128]\n"
     ]
    }
   ],
   "source": [
    "A = np.array([[30, 25, 5],\n",
    "              [25, 21, 4],\n",
    "              [10, 6, 4],\n",
    "              [20, 15, 5]])\n",
    "\n",
    "b = np.array([300, 220, 250, 350]).T\n",
    "\n",
    "x = np.dot(np.dot(np.linalg.inv(np.dot(A.T, A)), A.T), b)\n",
    "print(x)"
   ]
  },
  {
   "cell_type": "code",
   "execution_count": 12,
   "id": "6f5ef572",
   "metadata": {},
   "outputs": [],
   "source": [
    "from sympy import Symbol, solve\n",
    "\n",
    "x_t = 10\n",
    "x_w = Symbol('x_w')\n",
    "E = 280\n",
    "\n",
    "Equation = x[0]*(x_t - 15)**2 + x[1] * x_w + x[2] - 280 # = 280"
   ]
  },
  {
   "cell_type": "code",
   "execution_count": 13,
   "id": "0fbdd0dd",
   "metadata": {},
   "outputs": [
    {
     "data": {
      "text/plain": [
       "[2.48543689320388]"
      ]
     },
     "execution_count": 13,
     "metadata": {},
     "output_type": "execute_result"
    }
   ],
   "source": [
    "solve(Equation)"
   ]
  },
  {
   "cell_type": "code",
   "execution_count": null,
   "id": "ff45accf",
   "metadata": {},
   "outputs": [],
   "source": []
  },
  {
   "cell_type": "code",
   "execution_count": 6,
   "id": "df562805",
   "metadata": {},
   "outputs": [
    {
     "name": "stdout",
     "output_type": "stream",
     "text": [
      "[10 1 3]\n"
     ]
    }
   ],
   "source": [
    "A = np.array([[1, -10, -10],\n",
    "              [1, -4, -6],\n",
    "              [1, -2, -2]])\n",
    "\n",
    "b = np.array([-30, -12, 2]).T\n",
    "\n",
    "x = np.dot(np.dot(np.linalg.inv(np.dot(A.T, A)), A.T), b)\n",
    "print(x)"
   ]
  },
  {
   "cell_type": "code",
   "execution_count": null,
   "id": "89251ae3",
   "metadata": {},
   "outputs": [],
   "source": []
  },
  {
   "cell_type": "code",
   "execution_count": null,
   "id": "c21154d3",
   "metadata": {},
   "outputs": [],
   "source": []
  },
  {
   "cell_type": "code",
   "execution_count": 7,
   "id": "38eb3c00",
   "metadata": {},
   "outputs": [],
   "source": [
    "s_h = np.array([3, 1, 0, 2, 4]).T\n",
    "s_s = np.array([1, 0, 2, 4, 3]).T\n",
    "s_m = np.array([1, 0, 0, 1, 2]).T"
   ]
  },
  {
   "cell_type": "code",
   "execution_count": 29,
   "id": "31151f85",
   "metadata": {},
   "outputs": [
    {
     "data": {
      "text/plain": [
       "14.31227547671266"
      ]
     },
     "execution_count": 29,
     "metadata": {},
     "output_type": "execute_result"
    }
   ],
   "source": [
    "np.degrees(np.arccos(np.dot(s_m, s_h) / (np.sqrt(np.dot(s_h, s_h)) * np.sqrt(np.dot(s_m, s_m)))))"
   ]
  },
  {
   "cell_type": "code",
   "execution_count": 31,
   "id": "fc8bac63",
   "metadata": {},
   "outputs": [
    {
     "data": {
      "text/plain": [
       "34.92605685637644"
      ]
     },
     "execution_count": 31,
     "metadata": {},
     "output_type": "execute_result"
    }
   ],
   "source": [
    "np.degrees(np.arccos(np.dot(s_s, s_m) / (np.sqrt(np.dot(s_s, s_s)) * np.sqrt(np.dot(s_m, s_m)))))"
   ]
  },
  {
   "cell_type": "code",
   "execution_count": null,
   "id": "6375afcb",
   "metadata": {},
   "outputs": [],
   "source": []
  },
  {
   "cell_type": "code",
   "execution_count": 32,
   "id": "7d615e92",
   "metadata": {},
   "outputs": [
    {
     "name": "stdout",
     "output_type": "stream",
     "text": [
      "[1 2]\n"
     ]
    }
   ],
   "source": [
    "A = np.array([[3, 1],\n",
    "              [1, 0],\n",
    "              [0, 2],\n",
    "              [2, 4],\n",
    "              [4, 3]])\n",
    "\n",
    "b = np.array([5, 1, 4, 10, 10]).T\n",
    "\n",
    "x = np.dot(np.dot(np.linalg.inv(np.dot(A.T, A)), A.T), b)\n",
    "print(x)"
   ]
  },
  {
   "cell_type": "code",
   "execution_count": 51,
   "id": "aec84730",
   "metadata": {},
   "outputs": [
    {
     "data": {
      "text/plain": [
       "array([1, -1, -1, 2, 2, -2, -1, 1, 1])"
      ]
     },
     "execution_count": 51,
     "metadata": {},
     "output_type": "execute_result"
    }
   ],
   "source": [
    "s_1 = np.array([1, 0, -1, 0, 1])\n",
    "s_2 = np.array([1, 1, 0, -1, 1])\n",
    "\n",
    "np.correlate(s_1, s_2, 'full')"
   ]
  },
  {
   "cell_type": "code",
   "execution_count": null,
   "id": "7d6ecda6",
   "metadata": {},
   "outputs": [],
   "source": []
  },
  {
   "cell_type": "code",
   "execution_count": 57,
   "id": "1d65d437",
   "metadata": {},
   "outputs": [
    {
     "name": "stdout",
     "output_type": "stream",
     "text": [
      "[0 -3/17]\n"
     ]
    }
   ],
   "source": [
    "A = np.array([[-2, 4],\n",
    "              [-1, 1],\n",
    "              [1, 1],\n",
    "              [2, 4]])\n",
    "\n",
    "b = np.array([-1, 1, 1, -1]).T\n",
    "\n",
    "x = np.dot(np.dot(np.linalg.inv(np.dot(A.T, A)), A.T), b)\n",
    "print(x)"
   ]
  },
  {
   "cell_type": "code",
   "execution_count": 53,
   "id": "e8c682f3",
   "metadata": {},
   "outputs": [
    {
     "ename": "LinAlgError",
     "evalue": "Singular matrix",
     "output_type": "error",
     "traceback": [
      "\u001b[0;31m---------------------------------------------------------------------------\u001b[0m",
      "\u001b[0;31mLinAlgError\u001b[0m                               Traceback (most recent call last)",
      "\u001b[0;32m/var/folders/m5/b577jf4d20jc309f4phr3lvr0000gn/T/ipykernel_1885/434775931.py\u001b[0m in \u001b[0;36m<module>\u001b[0;34m\u001b[0m\n\u001b[0;32m----> 1\u001b[0;31m \u001b[0mnp\u001b[0m\u001b[0;34m.\u001b[0m\u001b[0mlinalg\u001b[0m\u001b[0;34m.\u001b[0m\u001b[0minv\u001b[0m\u001b[0;34m(\u001b[0m\u001b[0mnp\u001b[0m\u001b[0;34m.\u001b[0m\u001b[0mdot\u001b[0m\u001b[0;34m(\u001b[0m\u001b[0mA\u001b[0m\u001b[0;34m.\u001b[0m\u001b[0mT\u001b[0m\u001b[0;34m,\u001b[0m \u001b[0mA\u001b[0m\u001b[0;34m)\u001b[0m\u001b[0;34m)\u001b[0m\u001b[0;34m\u001b[0m\u001b[0;34m\u001b[0m\u001b[0m\n\u001b[0m",
      "\u001b[0;32m<__array_function__ internals>\u001b[0m in \u001b[0;36minv\u001b[0;34m(*args, **kwargs)\u001b[0m\n",
      "\u001b[0;32m~/opt/anaconda3/lib/python3.8/site-packages/numpy/linalg/linalg.py\u001b[0m in \u001b[0;36minv\u001b[0;34m(a)\u001b[0m\n\u001b[1;32m    543\u001b[0m     \u001b[0msignature\u001b[0m \u001b[0;34m=\u001b[0m \u001b[0;34m'D->D'\u001b[0m \u001b[0;32mif\u001b[0m \u001b[0misComplexType\u001b[0m\u001b[0;34m(\u001b[0m\u001b[0mt\u001b[0m\u001b[0;34m)\u001b[0m \u001b[0;32melse\u001b[0m \u001b[0;34m'd->d'\u001b[0m\u001b[0;34m\u001b[0m\u001b[0;34m\u001b[0m\u001b[0m\n\u001b[1;32m    544\u001b[0m     \u001b[0mextobj\u001b[0m \u001b[0;34m=\u001b[0m \u001b[0mget_linalg_error_extobj\u001b[0m\u001b[0;34m(\u001b[0m\u001b[0m_raise_linalgerror_singular\u001b[0m\u001b[0;34m)\u001b[0m\u001b[0;34m\u001b[0m\u001b[0;34m\u001b[0m\u001b[0m\n\u001b[0;32m--> 545\u001b[0;31m     \u001b[0mainv\u001b[0m \u001b[0;34m=\u001b[0m \u001b[0m_umath_linalg\u001b[0m\u001b[0;34m.\u001b[0m\u001b[0minv\u001b[0m\u001b[0;34m(\u001b[0m\u001b[0ma\u001b[0m\u001b[0;34m,\u001b[0m \u001b[0msignature\u001b[0m\u001b[0;34m=\u001b[0m\u001b[0msignature\u001b[0m\u001b[0;34m,\u001b[0m \u001b[0mextobj\u001b[0m\u001b[0;34m=\u001b[0m\u001b[0mextobj\u001b[0m\u001b[0;34m)\u001b[0m\u001b[0;34m\u001b[0m\u001b[0;34m\u001b[0m\u001b[0m\n\u001b[0m\u001b[1;32m    546\u001b[0m     \u001b[0;32mreturn\u001b[0m \u001b[0mwrap\u001b[0m\u001b[0;34m(\u001b[0m\u001b[0mainv\u001b[0m\u001b[0;34m.\u001b[0m\u001b[0mastype\u001b[0m\u001b[0;34m(\u001b[0m\u001b[0mresult_t\u001b[0m\u001b[0;34m,\u001b[0m \u001b[0mcopy\u001b[0m\u001b[0;34m=\u001b[0m\u001b[0;32mFalse\u001b[0m\u001b[0;34m)\u001b[0m\u001b[0;34m)\u001b[0m\u001b[0;34m\u001b[0m\u001b[0;34m\u001b[0m\u001b[0m\n\u001b[1;32m    547\u001b[0m \u001b[0;34m\u001b[0m\u001b[0m\n",
      "\u001b[0;32m~/opt/anaconda3/lib/python3.8/site-packages/numpy/linalg/linalg.py\u001b[0m in \u001b[0;36m_raise_linalgerror_singular\u001b[0;34m(err, flag)\u001b[0m\n\u001b[1;32m     86\u001b[0m \u001b[0;34m\u001b[0m\u001b[0m\n\u001b[1;32m     87\u001b[0m \u001b[0;32mdef\u001b[0m \u001b[0m_raise_linalgerror_singular\u001b[0m\u001b[0;34m(\u001b[0m\u001b[0merr\u001b[0m\u001b[0;34m,\u001b[0m \u001b[0mflag\u001b[0m\u001b[0;34m)\u001b[0m\u001b[0;34m:\u001b[0m\u001b[0;34m\u001b[0m\u001b[0;34m\u001b[0m\u001b[0m\n\u001b[0;32m---> 88\u001b[0;31m     \u001b[0;32mraise\u001b[0m \u001b[0mLinAlgError\u001b[0m\u001b[0;34m(\u001b[0m\u001b[0;34m\"Singular matrix\"\u001b[0m\u001b[0;34m)\u001b[0m\u001b[0;34m\u001b[0m\u001b[0;34m\u001b[0m\u001b[0m\n\u001b[0m\u001b[1;32m     89\u001b[0m \u001b[0;34m\u001b[0m\u001b[0m\n\u001b[1;32m     90\u001b[0m \u001b[0;32mdef\u001b[0m \u001b[0m_raise_linalgerror_nonposdef\u001b[0m\u001b[0;34m(\u001b[0m\u001b[0merr\u001b[0m\u001b[0;34m,\u001b[0m \u001b[0mflag\u001b[0m\u001b[0;34m)\u001b[0m\u001b[0;34m:\u001b[0m\u001b[0;34m\u001b[0m\u001b[0;34m\u001b[0m\u001b[0m\n",
      "\u001b[0;31mLinAlgError\u001b[0m: Singular matrix"
     ]
    }
   ],
   "source": [
    "np.linalg.inv(np.dot(A.T, A))"
   ]
  },
  {
   "cell_type": "code",
   "execution_count": 55,
   "id": "75c29d92",
   "metadata": {},
   "outputs": [
    {
     "data": {
      "text/plain": [
       "<matplotlib.collections.PathCollection at 0x7fe6d0262be0>"
      ]
     },
     "execution_count": 55,
     "metadata": {},
     "output_type": "execute_result"
    },
    {
     "data": {
      "image/png": "[encoded data removed]",
      "text/plain": [
       "<Figure size 432x288 with 1 Axes>"
      ]
     },
     "metadata": {
      "needs_background": "light"
     },
     "output_type": "display_data"
    }
   ],
   "source": [
    "x = [-2, -1, 1, 2]\n",
    "y = [1, 1, 1, 1]\n",
    "\n",
    "plt.scatter(x, y)"
   ]
  },
  {
   "cell_type": "code",
   "execution_count": null,
   "id": "3565b59e",
   "metadata": {},
   "outputs": [],
   "source": []
  }
 ],
 "metadata": {
  "kernelspec": {
   "display_name": "Python 3 (ipykernel)",
   "language": "python",
   "name": "python3"
  },
  "language_info": {
   "codemirror_mode": {
    "name": "ipython",
    "version": 3
   },
   "file_extension": ".py",
   "mimetype": "text/x-python",
   "name": "python",
   "nbconvert_exporter": "python",
   "pygments_lexer": "ipython3",
   "version": "3.8.11"
  }
 },
 "nbformat": 4,
 "nbformat_minor": 5
}
