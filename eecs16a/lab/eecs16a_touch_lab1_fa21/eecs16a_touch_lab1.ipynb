{
 "cells": [
  {
   "cell_type": "markdown",
   "metadata": {},
   "source": [
    "# Touchscreen Lab 1:  Breadboarding Basics and Multimeter Practice\n",
    "\n",
    "### EECS 16A: Designing Information Devices and Systems I, Fall 2021\n",
    "\n",
    "<!--- Remote Edit - Jianshu & Seiya Su20\n",
    "                    Raghav Fa20\n",
    "                    Ayush & Raghav Sp21\n",
    "                    Shuming, Ayush & Raghav Fa21\n",
    "--->"
   ]
  },
  {
   "cell_type": "markdown",
   "metadata": {},
   "source": [
    "# Table of Contents\n",
    "\n",
    "* [Instructions](#instructions)\n",
    "* [Introduction](#intro)\n",
    "* [Task 1: Breadboarding Basics](#task1)\n",
    "    * [Task 1a: Breadboard Overview](#task1a)\n",
    "    * [Task 1b: TinkerCAD](#task1b)\n",
    "* [Task 2: Breadboard Practice](#task2)\n",
    "    * [Task 2a: LED Fader Circuit](#task2a)\n",
    "    * [Task 2b: Changing LED Brightness](#task2b)\n",
    "* [Task 3: Measurement Practice](#task3)\n",
    "    * [Multimeter Overview](#multi)\n",
    "    * [Task 3a: Open Circuit](#task3a)\n",
    "    * [Task 3b: Complete Circuit](#task3b)\n",
    "    * [Task 3c: Voltage Divider](#task3c)\n",
    "* [Checkoff](#checkoff)\n",
    "* [Task 4: Optional Exercises](#task4)\n",
    "    * [Task 4a: More Breadboarding Examples](#task4a)\n",
    "    <!---* [Task 2d: Mystery Circuit](#task2d)--->\n",
    "    * [Task 4b: Series and Parallel Resistors](#task4b)\n",
    "    \n",
    "<a id='instructions'></a>\n",
    "## Instructions\n",
    "\n",
    "* **Gently disinfect all commonly touched surfaces** at your lab station using the provided cleaning wipes.\n",
    "\n",
    "* Complete this lab by filling in all of the required sections, marked with `\"YOUR CODE HERE\"` or `\"YOUR COMMENTS HERE\"`.\n",
    "\n",
    "\n",
    "* When you finish, submit a checkoff request to get checked off for this lab. Be ready to answer a few questions to show your understanding of each section.\n",
    "\n",
    "\n",
    "* Labs will be graded based on completion for teams of 2 students.\n",
    "\n",
    "<a id='policies'></a>\n",
    "## Lab Policies\n",
    "* **YOU MUST ATTEND THE LAB SECTION YOU ARE ENROLLED IN. If you anticipate missing a section, please notify your GSI in advance.**\n",
    "* **You are required to return all parts checked out at the beginning of the lab section unless told otherwise.**\n",
    "* **You are free to stay for the full allotted time and hack around with the lab equipment, but please reserve the GSI's time for lab-related questions.**\n",
    "* **Food and drinks are not allowed in the lab.** \n",
    "* **Clean up, turn off all equipment, and log off of computers before leaving.**"
   ]
  },
  {
   "cell_type": "markdown",
   "metadata": {},
   "source": [
    "<a id='intro'></a>\n",
    "# <span style='color:blue'>Introduction</span>\n",
    "\n",
    "Welcome to the first lab of the touchscreen module! In this module, you will build 2 different touchscreen systems introduced in lecture. Before we can play around with the touchscreens, we have to first learn some hardware fundamentals. In today's lab, we will be working with a simple functional circuit - an LED circuit. We will also work on building up your understanding of breadboarding - the remainder of the touchscreen module will rely heavily on your ability to use and debug a breadboard."
   ]
  },
  {
   "cell_type": "markdown",
   "metadata": {},
   "source": [
    "<a id='task1'></a>\n",
    "# <span style=\"color:blue\">Task 1: Breadboarding Basics</span>\n",
    "As you encountered briefly during the Imaging module at the beginning of the course, breadboards are useful tools that can be used to quickly and easily prototype circuits. Although in the Imaging module you only needed to construct a relatively simple circuit, this module will require you to put together much more complex systems. \n",
    "The goals of the breadboarding basics part of this lab are:\n",
    "1. To familiarize you with converting circuit diagrams into breadboard layouts.\n",
    "2. Get you more comfortable with debugging. \n",
    "\n",
    "The skills you pick up in this portion will help the following labs go much faster."
   ]
  },
  {
   "cell_type": "markdown",
   "metadata": {},
   "source": [
    "<a id='task1a'></a>\n",
    "## <span style=\"color:blue\">Task 1a: Breadboard Overview</span>\n",
    "Breadboards have a series of holes with internal connections to help you easily prototype circuits. A quick reminder from the first imaging lab, there are two types of internally connected lines in a breadboard:\n",
    "1. Power rails (red and blue, marked by the + and - signs), connected vertically.\n",
    "2. Internal rows, connected horizontally. These rows (in the center part of the breadboard) are numbered from 1 to 30 and are shorted (directly connected) across the row. \n",
    "\n",
    "Note: The horizontal rows are not connected across the center divider. This makes it very easy to plug integrated circuit packages (like you will be using later in this lab module) into the breadboard - just place them so that they straddle the notch in the center of the board. \n",
    "\n",
    "In this lab, we will introduce another tool, TinkerCAD, that can simulate your breadboarded circuit online."
   ]
  },
  {
   "cell_type": "markdown",
   "metadata": {},
   "source": [
    "<div style=\"text-align: center\">\n",
    "<img style=\"width: 250px;\" src=\"img/bb_intro_2.png\" align=\"center\"/>\n",
    "</div>"
   ]
  },
  {
   "cell_type": "markdown",
   "metadata": {},
   "source": [
    "<a id='task1b'></a>\n",
    "## <span style=\"color:blue\">Task 1b: TinkerCAD</span>\n",
    "\n",
    "TinkerCAD is an interactive online design, modeling, and simulation tool that includes an extensive library for 3D modeling, electronics, and circuitry. In this lab, we will be using TinkerCAD to build and simulate virtual breadboards in order to verify our designs before building them on the real breadboards. \n",
    "\n",
    "Before proceeding, please read through the **<span style='color:red;font-weight:bold'> [EECS16A TinkerCAD Tutorial](https://docs.google.com/document/d/e/2PACX-1vTVrGBDbRfVI0_LjSeTfw8doili8iS_E_9Fwdk2UShgf7WAgVVoHtyMOpjXadXwD45HNXUbb2ASF18H/pub#h.ckoez949dg4s)</span>** to learn how to register for an account and learn the basics of TinkerCAD."
   ]
  },
  {
   "cell_type": "markdown",
   "metadata": {},
   "source": [
    "<center>\n",
    "<img style=\"height: 500px;\" src=\"img/tinkercad.jpg\"/>\n",
    "</center>"
   ]
  },
  {
   "cell_type": "markdown",
   "metadata": {},
   "source": [
    "<center><span style='color:red;font-weight:bold;font-size:25px;font-style:italic'>Do not proceed without going through the TinkerCAD tutorial. <!--- If you are comfortable using TinkerCAD from discussion you may skip it at your own discretion.---></span></center>\n",
    "\n",
    "At this point, you should:\n",
    "1. Have an account on TinkerCAD. \n",
    "1. Know how to build a basic circuit and connect components including a power supply, multimeter, and LED. Feel free to use this same project for the upcoming parts of the lab."
   ]
  },
  {
   "cell_type": "markdown",
   "metadata": {},
   "source": [
    "<a id='task2'></a>\n",
    "# <span style=\"color:blue\">Task 2: Breadboard Practice</span>\n",
    "\n",
    "<!---In this section, we will be using TinkerCAD to simulate each circuit before building it on our physical breadboard. \n",
    "By first building on a virtual breadboard and observing the circuit outputs, we hope your physical breadboarding experience will be smoother.--->"
   ]
  },
  {
   "cell_type": "code",
   "execution_count": 1,
   "metadata": {},
   "outputs": [],
   "source": [
    "from IPython.display import IFrame"
   ]
  },
  {
   "cell_type": "markdown",
   "metadata": {},
   "source": [
    "<a id='task2a'></a>\n",
    "## <span style=\"color:blue\">Task 2a: LED Fader Circuit</span>"
   ]
  },
  {
   "cell_type": "markdown",
   "metadata": {},
   "source": [
    "<font color=red><b>Reminder</b></font>: Reference the [Lab Equipment Guide](https://docs.google.com/document/d/e/2PACX-1vTVrGBDbRfVI0_LjSeTfw8doili8iS_E_9Fwdk2UShgf7WAgVVoHtyMOpjXadXwD45HNXUbb2ASF18H/pub) for information about your lab kit\n",
    "\n",
    "### Light Emitting Diode (LED)\n",
    "<center>\n",
    "<img src=\"img/diode_sym.png\" style=\"height:50px; display:inline-block;\"> <img src=\"img/wk1_LED.jpg\" style=\"height:70px; display:inline-block;\">\n",
    "</center>\n",
    "<br>\n",
    "\n",
    "An LED is an element that emits light when the voltage across its two terminals is above a certain value. An LED is a polarized device, so its two terminals are not identical, similar to the light sensor you used in the Imaging module.\n",
    "The triangular side of the LED symbol (picture above) and the longer leg of the component is the positive (Anode) terminal of the device.\n",
    "\n",
    "The vertical flat line side of the symbol and the shorter leg of the component corresponds to the negative (Cathode) terminal.\n",
    "\n",
    "The brightness of an LED is directly related to the amount of current going through it; more current leads to higher brightness. To turn on an LED we apply a positive voltage between the Anode and Cathode terminals. Typically, the voltage across the LED must be greater than 0.7V for it to conduct significant current and light up.\n",
    "\n",
    "<center>\n",
    "<img src=\"img/diode.jpg\" align=\"center\" style=\"height:300px\" /></center>"
   ]
  },
  {
   "cell_type": "markdown",
   "metadata": {},
   "source": [
    "### Potentiometer\n",
    "<center>\n",
    "<img src=\"img/wk1_potentiometer.jpg\" style=\"height:100px; display:inline-block;\">\n",
    "<img src=\"img/potentiometer-symbol-american.png\" style=\"height:70px; display:inline-block;\">\n",
    "<img src=\"img/pot-front.jpg\" style=\"height:100px; display:inline-block;\">    \n",
    "</center>\n",
    "<br>\n",
    "\n",
    "A potentiometer is a variable resistor with 3 terminals. As we turn the knob, the resistance between the middle terminal and either of the end terminals changes; as the resistance to one end terminal increases, the resistance to the other decreases. However, the resistance between the end terminals stays constant. In this lab we will be using a $10k\\Omega$ potentiometer, and controlling its resistance value by turning the knob. \n",
    "\n",
    "Your lab kit will either have a blue potentiometer (on the left) that you can turn with your hand, or a black potentiometer (on the right) that you'll need to use an alligator clip (included in the kit) to turn."
   ]
  },
  {
   "cell_type": "markdown",
   "metadata": {},
   "source": [
    "<!--- Please click on the applicable hyperlink below to navigate to the next section. <br>\n",
    "[Task 2a - Software](#task2a-sw) <br>\n",
    "[Task 2a - Hardware](#task2a-hw)\n",
    "<hr> <hr> --->"
   ]
  },
  {
   "cell_type": "markdown",
   "metadata": {},
   "source": [
    "<a id='task2a-hw'></a>\n",
    "### LED Fader Breadboarding\n",
    "\n",
    "#### Materials & Equipment\n",
    "\n",
    "* **From the Lab Kit**\n",
    "  * 1x Breadboard\n",
    "  * 1x $10k\\Omega$ Potentiometer\n",
    "  * 1x LED\n",
    "  * Male-to-male jumper wires\n",
    "* **From the Back Wall**\n",
    "  * 1x Black, 1x Red PSU cables\n",
    "\n",
    "Here is the circuit diagram of our LED fader circuit.\n",
    "\n",
    "<center>\n",
    "<img src=\"img/wk1_circuit.png\" align=\"center\" style=\"height:350px\" />  \n",
    "</center>\n",
    "\n",
    "We will be using the Power Supply Unit at the lab station as our power supply for the rest of the lab, as we did in Imaging 1. \n",
    "In Imaging 1, we learned that the <span style='color:red;font-weight:bold'>Red</span> column is for power (in this case $3.3V$) and the <span style='color:blue;font-weight:bold'>Blue</span> column is for ground. Let's first set up the breadboard with the proper power connections to the PSU. The setup is the same as in Imaging 1.\n",
    "\n",
    "1. Clip the red PSU cable to one end of a **<font color=\"red\">red</font>** male-to-male wire and do the same with the black PSU wire and a **black** male-to-male wire.\n",
    "1. Insert the **<font color=\"red\">red</font>** PSU jumper wire into the **<font color = 'red' size = '3'>+</font>** rail and the **black** PSU jumper wire into the **<font color = 'blue' size = '4'>-</font>** rail on the **left** side of the breadboard.\n",
    "\n",
    "In the following picture, the red PSU cable connects to the **<font color = 'red' size = '3'>+</font>** column, and the black PSU cable connects to the **<font color = 'blue' size = '4'>-</font>** column in the breadboard."
   ]
  },
  {
   "cell_type": "markdown",
   "metadata": {},
   "source": [
    "<center>\n",
    "<img src=\"img/psu_power_front.jpg\" align=\"center\" style=\"height:400px\" /> \n",
    "    <figcaption>PSU with cables connected to the breadboard</figcaption>\n",
    "</center>"
   ]
  },
  {
   "cell_type": "markdown",
   "metadata": {},
   "source": [
    "Next, let's plug in the potentiometer. Observe where the potentiometer is plugged in - `E6`, `E8`, and `G7` of the breadboard. Make sure you have it oriented in the same fashion as the picture below.\n",
    "\n",
    "`G7` is the potentiometer's **sweep** connection, where the arrow is in the circuit schematic below. The `E6` and `E8` connections are the two end points of the potentiometer. The end points of the potentiometer have a fixed $R_{total}$ resistance - this particular potentiometer has a $10k\\Omega$ total resistance. The resistance between the **sweep** (middle) connection and the right endpoint plus the resistance between the sweep connection and the left endpoint is always $R_{total}$.\n",
    "\n",
    "<span style='color:red;font-weight:bold'>The breadboard shown below is only to be used as guidance on how to plug in the potentiometer and is not complete.</span>"
   ]
  },
  {
   "cell_type": "markdown",
   "metadata": {},
   "source": [
    "<center>\n",
    "<img src=\"img/potconnection2.jpg\" align=\"center\" style=\"height:400px; display:inline-block\" />\n",
    "\n",
    "<img src=\"img/wk1_circuit.png\" align=\"center\" style=\"height:400px; display:inline-block\" />\n",
    "    <figcaption>Potentiometer on breadboard, LED circuit diagram</figcaption>\n",
    "</center>"
   ]
  },
  {
   "cell_type": "markdown",
   "metadata": {},
   "source": [
    "Now that we have the potentiometer on the breadboard, let's move on to the LED. \n",
    "\n",
    "Plug the LED's short leg into any point on the <span style='color:black'><b>black (-)</b></span> column, and its long leg into any other empty row. \n",
    "\n",
    "Use a Male-to-Male jumper wire to connect the short leg of the LED to `G7`, the **sweeper** connection on the potentiometer. \n",
    "\n",
    "Use the following pictures as reference:"
   ]
  },
  {
   "cell_type": "markdown",
   "metadata": {},
   "source": [
    "<center>\n",
    "<img src=\"img/psu_led_fader_top.jpg\" align=\"center\" style=\"height:400px; display:inline-block\" />\n",
    "<img src=\"img/psu_led_fader_front.jpg\" align=\"center\" style=\"height:400px; display:inline-block\" />\n",
    "</center>\n",
    "<br>\n",
    "\n",
    "*Note: You will not be using a multimeter in this section. If you can turn on and off the LED by turning the potentiometer, you have successfully implemented the circuit.*\n",
    "\n",
    "<span style='color:red;font-weight:bold'>To test your circuit, switch PSU output on and then turn the potentiometer to fade your LED.</span> To turn the potentiometer, take one of the alligator clips included in the kit, stick it into the potentiometer, and twist."
   ]
  },
  {
   "cell_type": "markdown",
   "metadata": {},
   "source": [
    "<span style=\"color:red;font-weight:bold\">What happens when you turn the potentiometer?</span>"
   ]
  },
  {
   "cell_type": "markdown",
   "metadata": {},
   "source": [
    "dim"
   ]
  },
  {
   "cell_type": "markdown",
   "metadata": {},
   "source": [
    "<a id='task2b'></a>\n",
    "## <span style=\"color:blue\">Task 2b: Changing LED Brightness</span>\n",
    "\n",
    "<!--- ### Hardware : Physical Breadboarding--->\n",
    "\n",
    "<font color=red><b>Reminder</b></font>: Reference the [Lab Equipment Guide](https://docs.google.com/document/d/e/2PACX-1vTVrGBDbRfVI0_LjSeTfw8doili8iS_E_9Fwdk2UShgf7WAgVVoHtyMOpjXadXwD45HNXUbb2ASF18H/pub) for information about your lab kit\n",
    "\n",
    "#### Materials & Equipment\n",
    "* 4x 1k$\\Omega$ resistors (Brown-Black-Red-Gold) - Kit\n",
    "* Male-to-male jumpers - Kit\n",
    "* LED - Kit\n",
    "* Breadboard - Kit\n",
    "\n",
    "<center>\n",
    "    <img src=\"img/led_resistors_hw.png\" align=\"center\" style=\"height:400px\" />\n",
    "</center>    \n",
    "\n",
    "It's time to breadboard this on our physical breadboards. <span style='color:red;font-weight:bold'>Translate the above TinkerCAD breadboard onto your own breadboard. </span> For a small challenge, try to use fewer wires than the breadboard above.\n",
    "\n",
    "**Note: The longer (positive) leg of the LED is noted by the slightly bent leg in the TinkerCAD breadboard.**\n",
    "<br> <br>\n",
    "\n",
    "<center>\n",
    "<img src=\"img/psu_power_front.jpg\" align=\"center\" style=\"height:400px\" />\n",
    "    <br><br>\n",
    "Here is a bare bones, <span style='color:red;font-weight:bold'>unfinished</span> breadboard to get you started. The <b>red PSU cable</b> goes to <span style='color:red;font-weight:bold'>red (+)</span> and the <b>black PSU cable</b> goes to <span style='color:blue;font-weight:bold'>blue (-)</span>. \n",
    "</center>"
   ]
  },
  {
   "cell_type": "markdown",
   "metadata": {},
   "source": [
    "*Note: You will not be using a multimeter in this section.*\n",
    "\n",
    "<span style='color:red;font-weight:bold'>To test your circuit, </span>\n",
    "\n",
    "1. Turn PSU output on and observe the LED's brightness.\n",
    "1. Switch PSU output off.\n",
    "1. Remove (or add) resistors. \n",
    "1. Turn PSU output back on and observe the LED change brightness. \n",
    "1. Repeat steps 2 to 4 with a different number of 1k$\\Omega$ resistors."
   ]
  },
  {
   "cell_type": "markdown",
   "metadata": {},
   "source": [
    "**<span style=\"color:red\"> We saw in the LED Fader circuit that the LED brightness goes up when there is less resistance connected to it. What can we conclude about the 4 resistors lined up next to each other in this circuit? Is the overall resistance going up or down?</span>**"
   ]
  },
  {
   "cell_type": "markdown",
   "metadata": {},
   "source": [
    "More registers, brighter LED"
   ]
  },
  {
   "cell_type": "markdown",
   "metadata": {},
   "source": [
    "After you are done testing your circuit, switch PSU output off.\n",
    "**Note: You should switch PSU output off in between exercises. You do not want to have your power source connected to your circuit while you make modifications to the circuit.**"
   ]
  },
  {
   "cell_type": "markdown",
   "metadata": {},
   "source": [
    "<a id='task3'></a>\n",
    "# <span style=\"color:blue\">Task 3: Measurement Practice</span>"
   ]
  },
  {
   "cell_type": "markdown",
   "metadata": {},
   "source": [
    "<a id='multi'></a>\n",
    "## <span style=\"color:blue\">Multimeter Overview</span>\n",
    "\n",
    "You can read the paragraphs below for a detailed overview, or check the [Multimeter](https://docs.google.com/document/u/2/d/e/2PACX-1vTVrGBDbRfVI0_LjSeTfw8doili8iS_E_9Fwdk2UShgf7WAgVVoHtyMOpjXadXwD45HNXUbb2ASF18H/pub#h.5ygc4wkmennw) section of our lab equipment guide (can also be found under the resources tab on the website) for more details.\n",
    "\n",
    "A multimeter is a device capable of measuring multiple properties of devices, circuits, and individual components. In this case, the [Agilent 34405A](https://literature.cdn.keysight.com/litweb/pdf/5990-4572EN.pdf?id=1773274-1-eng) digital multimeter available at your station can measure the following properties: voltage, current, resistance, capacitance, and continuity. The multimeter is an essential tool for \"debugging\" a circuit. All operations with a multimeter require two \"leads\" to take a measurement properly. \"Lead\" is a synonym for wire, and we usually use one red lead and one black lead (positive & negative, respectively) when taking a measurement.\n",
    "<center>\n",
    "<img src=\"img/multimeter.jpg\" align=\"center\" style=\"height:200px\" />\n",
    "</center>\n",
    "\n",
    "Below is the series of steps one should follow to take a measurement with the multimeter. Reminder that the probes are on the back wall. This is a reference; the circuit in question is **hypothetical** (for now).\n",
    "<br>\n",
    "\n",
    "<span style=\"color:red\"><b> THIS IS A HYPOTHETICAL CIRCUIT; THERE IS NOTHING TO BUILD IN THESE STEPS </b></span>\n",
    "\n",
    "1. <strong>Connect a black lead to the black port on the Multimeter.</strong> This serves as your connection to the negative terminal (often ground) of the Multimeter.\n",
    "<br><br>\n",
    "\n",
    "1. <strong>Connect a red lead to one of the red ports on the Multimeter that corresponds to the type of measurement you want to obtain. <span style=\"color:red\">Every red port has a different purpose; you cannot just put the lead in any red port!</span></strong>\n",
    "The ports are each labeled with what they should be used to measure. The top right port is used to measure voltage, resistance, capacitance, or continuity. The other two red ports are used to measure current and are capable of measuring up to the value (in Amps) marked above the port (12A for the top left port, 1.2A for the bottom right port). <strong> It is critical to double check your port connections before taking a measurement, or you run the risk of damaging the equipment.</strong> The reason there are two current port options and we don't just always use the 12A port is because the 1.2A offers greater precision, but with lower max current.\n",
    "<br><br>\n",
    "\n",
    "1. <strong>Select the quantity you wish to measure (e.g. DC voltage, current, resistance, etc).</strong>\n",
    "Do this using the buttons on the machine: \"DC V\" for voltage, \"DC I\" for current, and \"&#8486;\" for resistance. You can confirm you are measuring the desired property by double checking the units on the display.\n",
    "<br><br>\n",
    "\n",
    "1. <strong> Set your measurement range using auto-scale.</strong> \n",
    "The easiest and quickest way to do this is to have the range auto-scale: hit the blue \"Shift\" button, and then hit the gray button above the word \"Range\" and below the word \"Auto.\" To manually adjust the range, use the Up / Down facing buttons above / below the word \"Range.\" You can see the range by looking at the number in the top right of the display.\n",
    "<br><br>\n",
    "\n",
    "1. <strong>Connect the multimeter to a circuit, i.e. \"probe\" the circuit.</strong>\n",
    "**Measuring voltages** across components requires that the test leads are connected to the circuit **in parallel**. In the circuit below, $V$ is the voltage measured across the resistor $R$. **Current measurements** require the test leads to be connected **in series**.  In the circuit below, $A$ is the current $i$ through the ammeter (A). To measure resistance or capacitance, connect the leads as if measuring a voltage. Use this diagram as a reference when you are ready to make a measurement.\n",
    "<br><br>\n",
    "<center>\n",
    "<img src=\"img/measurement_diagram.png\" align=\"center\" style=\"height:150px\" />\n",
    "</center>"
   ]
  },
  {
   "cell_type": "code",
   "execution_count": 4,
   "metadata": {},
   "outputs": [],
   "source": [
    "# Load the autograder\n",
    "%run scripts/autograder.py"
   ]
  },
  {
   "cell_type": "markdown",
   "metadata": {
    "jupyter": {
     "source_hidden": true
    }
   },
   "source": [
    "<a id='task3a'></a>\n",
    "## <span style=\"color:blue\">Task 3a: Open Circuit</span> \n",
    "\n",
    "Examine the following circuit."
   ]
  },
  {
   "cell_type": "markdown",
   "metadata": {},
   "source": [
    "<center><img style=\"height: 300px;\" src=\"img/circuit1.png\"/>\n",
    "</center>"
   ]
  },
  {
   "cell_type": "markdown",
   "metadata": {},
   "source": [
    "The three nodes in this circuit are marked as `0`, `1`, and `2`. Node `0` represents ground, the reference node. The voltages at each of the other nodes are potential differences between them and ground. Note that in this circuit diagram there are three places marked as node 0, because the voltage difference between any two points of an ideal wire is zero (an ideal wire has zero resistance).\n",
    "\n",
    "<span style='color:red;font-weight:bold'>Construct the circuit. Use the breadboard below as reference. Set the power supply unit's voltage to 3.3V and current to 0.1 A. The resistor pictured is $1k\\Omega$.</span>"
   ]
  },
  {
   "cell_type": "markdown",
   "metadata": {},
   "source": [
    "<center><img style=\"height: 500px;\" src=\"img/task31.png\"/></center>"
   ]
  },
  {
   "cell_type": "markdown",
   "metadata": {},
   "source": [
    "With the circuit on our breadboard, let's start taking measurements using the multimeter at your lab station. We will be using it to take both voltage and current measurements. <!--- To measure the voltage across a circuit element, you can connect each lead of the multimeter to the two terminals of a circuit element and click <span style='color:green;font-weight:bold'>Start Simulation</span>. The voltmeter setting is **(V)**, and the ammeter setting is **(A)**. --->\n",
    "\n",
    "#### Step 1\n",
    "Connect the multimeter to measure the voltage along ground points. Since we are measuring voltage, the red multimeter lead should go to the top right red port and it should be set to **DC V** mode."
   ]
  },
  {
   "cell_type": "markdown",
   "metadata": {},
   "source": [
    "<center>\n",
    "    <img style=\"height:350px;\" src=\"img/ex1ground.png\"/>\n",
    "    <img style=\"height:350px;\" src=\"img/task311.png\"/>\n",
    "</center>\n"
   ]
  },
  {
   "cell_type": "markdown",
   "metadata": {},
   "source": [
    "Switch PSU output on. <span style='color:red;font-weight:bold'>What is the potential difference that shows up on the Voltmeter when probing these two points, and what does this say about different points on a breadboard that are the same node?</span>"
   ]
  },
  {
   "cell_type": "markdown",
   "metadata": {},
   "source": [
    "0V. measure the difference of the ground noe"
   ]
  },
  {
   "cell_type": "code",
   "execution_count": 3,
   "metadata": {},
   "outputs": [
    {
     "ename": "SyntaxError",
     "evalue": "invalid syntax (2016712219.py, line 1)",
     "output_type": "error",
     "traceback": [
      "\u001b[0;36m  File \u001b[0;32m\"/var/folders/m5/b577jf4d20jc309f4phr3lvr0000gn/T/ipykernel_11472/2016712219.py\"\u001b[0;36m, line \u001b[0;32m1\u001b[0m\n\u001b[0;31m    v_gnd = #Please enter your voltage reading here in Volts\u001b[0m\n\u001b[0m            ^\u001b[0m\n\u001b[0;31mSyntaxError\u001b[0m\u001b[0;31m:\u001b[0m invalid syntax\n"
     ]
    }
   ],
   "source": [
    "v_gnd = 0 #Please enter your voltage reading here in Volts\n",
    "autograde(v_gnd, question=\"3a-1\")"
   ]
  },
  {
   "cell_type": "markdown",
   "metadata": {},
   "source": [
    "After you are done testing your circuit, switch PSU output off."
   ]
  },
  {
   "cell_type": "markdown",
   "metadata": {},
   "source": [
    "#### Step 2\n",
    "Use the voltmeter to measure $V_x$."
   ]
  },
  {
   "cell_type": "markdown",
   "metadata": {},
   "source": [
    "<center><img style=\"height:350px;\" src=\"img/ex1-volt-vx.png\"/><img style=\"height:350px;\" src=\"img/task312.png\"/>\n",
    "</center>"
   ]
  },
  {
   "cell_type": "markdown",
   "metadata": {},
   "source": [
    "Switch PSU output on. **<span style=\"color:red\">What is the value of $V_x$? Does this match what you expected? </span>**"
   ]
  },
  {
   "cell_type": "markdown",
   "metadata": {},
   "source": [
    "`YOUR ANSWER HERE`"
   ]
  },
  {
   "cell_type": "code",
   "execution_count": null,
   "metadata": {},
   "outputs": [],
   "source": [
    "vx = #Please enter your voltage reading here in Volts\n",
    "autograde(answer=vx, question=\"3a-2\")"
   ]
  },
  {
   "cell_type": "markdown",
   "metadata": {},
   "source": [
    "After you are done testing your circuit, switch PSU output off."
   ]
  },
  {
   "cell_type": "markdown",
   "metadata": {},
   "source": [
    "#### Step 3\n",
    "Connect the multimeter in the voltmeter setting to measure $V_y$.\n",
    "<center>\n",
    "<img style=\"height: 350px;\" src=\"img/ex1-volt-vy.png\"/>\n",
    "<img style=\"height: 350px;\" src=\"img/task313.png\"/>\n",
    "</center>\n",
    "\n",
    "Switch PSU output on. **<span style=\"color:red\">What is the value of $V_y$? Why is this the case?</span>**\n"
   ]
  },
  {
   "cell_type": "markdown",
   "metadata": {},
   "source": [
    "`YOUR ANSWER HERE`"
   ]
  },
  {
   "cell_type": "code",
   "execution_count": null,
   "metadata": {},
   "outputs": [],
   "source": [
    "vy = #Please enter your voltage reading here in Volts\n",
    "autograde(vy, question=\"3a-3\")"
   ]
  },
  {
   "cell_type": "markdown",
   "metadata": {},
   "source": [
    "After you are done testing your circuit, switch PSU output off."
   ]
  },
  {
   "cell_type": "markdown",
   "metadata": {},
   "source": [
    "#### Step 4\n",
    "Connect the multimeter in the voltmeter setting to measure $V_z$."
   ]
  },
  {
   "cell_type": "markdown",
   "metadata": {},
   "source": [
    "<center>\n",
    "<img style=\"height: 350px;\" src=\"img/ex1-volt-vz.png\"/> <br>\n",
    "<img style=\"height: 350px;\" src=\"img/task314.png\"/>\n",
    "</center>"
   ]
  },
  {
   "cell_type": "markdown",
   "metadata": {},
   "source": [
    "Switch PSU output on. **<span style=\"color:red\">What is the value of $V_z$? How does it compare to $V_x$ and $V_s$?</span>**"
   ]
  },
  {
   "cell_type": "markdown",
   "metadata": {},
   "source": [
    "`YOUR ANSWER HERE`"
   ]
  },
  {
   "cell_type": "code",
   "execution_count": null,
   "metadata": {},
   "outputs": [],
   "source": [
    "vz = #Please enter your voltage reading here in Volts\n",
    "autograde(answer=vz, question=\"3a-4a\")"
   ]
  },
  {
   "cell_type": "markdown",
   "metadata": {},
   "source": [
    "After you are done testing your circuit, switch PSU output off."
   ]
  },
  {
   "cell_type": "markdown",
   "metadata": {},
   "source": [
    "\n",
    "**<span style=\"color:red\">Verify that KVL holds in this circuit using the measurements of the voltages from Step 1, 2 and 3. Write out the equation twice below, once with variables ($V_x$, $V_y$, $V_z$) and once with the measured values.</span>**"
   ]
  },
  {
   "cell_type": "markdown",
   "metadata": {},
   "source": [
    "`YOUR ANSWER HERE`"
   ]
  },
  {
   "cell_type": "code",
   "execution_count": null,
   "metadata": {},
   "outputs": [],
   "source": [
    "# Display the answer\n",
    "autograde(question=\"3a-4b\", no_check=True)"
   ]
  },
  {
   "cell_type": "markdown",
   "metadata": {},
   "source": [
    "#### Step 5\n",
    "Change the multimeter to the ammeter mode. Since we are measuring current, the red multimeter lead should go to the bottom right red port and it should be set to **DC I** mode.\n",
    "\n",
    "Now, you'll learn how to measure current."
   ]
  },
  {
   "cell_type": "markdown",
   "metadata": {},
   "source": [
    "<center><img style=\"height: 350px;\" src=\"img/ex1-ammeter.png\"/></center>"
   ]
  },
  {
   "cell_type": "markdown",
   "metadata": {},
   "source": [
    "To measure current, the ammeter is connected by 'breaking' the connection in the circuit path, so that you can include the ammeter in the path as another node. This way, the current passes through the ammeter wire for measurement. This is more tricky to visualize than the voltmeter, so here's a breadboard diagram to help you with this measurement. Note that node 2 is now at the end of where the multimeter is connected, same as the circuit diagram above."
   ]
  },
  {
   "cell_type": "markdown",
   "metadata": {},
   "source": [
    "<center>\n",
    "<img style=\"height: 400px;\" src=\"img/task315.png\"/>\n",
    "</center>"
   ]
  },
  {
   "cell_type": "markdown",
   "metadata": {},
   "source": [
    "Switch PSU output on. **<span style=\"color:red\">What is the value of $I_y$? Considering your measurement in part b of $V_y$ and the proportional relationship between current and voltage for a resistor, does this value make sense?</span>**"
   ]
  },
  {
   "cell_type": "markdown",
   "metadata": {},
   "source": [
    "`YOUR ANSWER HERE`"
   ]
  },
  {
   "cell_type": "code",
   "execution_count": null,
   "metadata": {},
   "outputs": [],
   "source": [
    "iy = #Please enter your current reading here in Amperes\n",
    "autograde(answer=iy, question=\"3a-5\")"
   ]
  },
  {
   "cell_type": "markdown",
   "metadata": {},
   "source": [
    "After you are done testing your circuit, switch PSU output off."
   ]
  },
  {
   "cell_type": "markdown",
   "metadata": {},
   "source": [
    "<a id='task3b'></a>\n",
    "## <span style=\"color:blue\">Task 3b: Complete Circuit</span> \n",
    "\n",
    "You should need to only add one new wire for this step.\n",
    "\n",
    "Your circuit now has the following circuit diagram:"
   ]
  },
  {
   "cell_type": "markdown",
   "metadata": {},
   "source": [
    "<center><img style=\"height: 350px;\" src=\"img/ex2start.png\"/></center>"
   ]
  },
  {
   "cell_type": "markdown",
   "metadata": {},
   "source": [
    "#### Step 1\n",
    "**Measure the voltages $V_y, V_z$ and current $I_y$ for this circuit, the same way as you did in part 1.** \n",
    "\n",
    "Remember that you add a new node to connect the ammeter when measuring the current $I_y$.\n",
    "\n",
    "Here's a breadboard diagram with labeled nodes to help with the current measurement: "
   ]
  },
  {
   "cell_type": "markdown",
   "metadata": {},
   "source": [
    "<center><img style=\"height: 400px;\" src=\"img/task321.png\"/>\n",
    "</center>"
   ]
  },
  {
   "cell_type": "markdown",
   "metadata": {},
   "source": [
    "**<span style=\"color:red\">Based on these voltage measurements, what is the relationship between node 0 and node 2? Although we have three labeled nodes on the circuit diagram (0, 1, 2), how many distinct nodes are in this circuit now?</span>** "
   ]
  },
  {
   "cell_type": "markdown",
   "metadata": {},
   "source": [
    "`YOUR ANSWER HERE`"
   ]
  },
  {
   "cell_type": "code",
   "execution_count": null,
   "metadata": {},
   "outputs": [],
   "source": [
    "# Display the answer\n",
    "autograde(question=\"3b-1\", no_check=True)"
   ]
  },
  {
   "cell_type": "markdown",
   "metadata": {},
   "source": [
    "Use the recently measured values for $V_y$ and $I_y$ for the resistor to verify Ohm's Law. **<span style=\"color:red\">What is the calculated resistance value?</span>**"
   ]
  },
  {
   "cell_type": "code",
   "execution_count": null,
   "metadata": {},
   "outputs": [],
   "source": [
    "r1 = #Please enter your resistance calculation here in Ohms\n",
    "autograde(answer=r1, question=\"3b-2\")"
   ]
  },
  {
   "cell_type": "markdown",
   "metadata": {},
   "source": [
    "**<span style=\"color:red\">How do the calculated and measured resistance values compare?</span>**"
   ]
  },
  {
   "cell_type": "markdown",
   "metadata": {},
   "source": [
    "`YOUR ANSWER HERE`"
   ]
  },
  {
   "cell_type": "code",
   "execution_count": null,
   "metadata": {},
   "outputs": [],
   "source": [
    "# Display the answer\n",
    "autograde(question=\"3b-3\", no_check=True)"
   ]
  },
  {
   "cell_type": "markdown",
   "metadata": {},
   "source": [
    "**<span style=\"color:red\">Finally, check KVL again with the new voltage values you measured in Step 1 of this task. Does KVL still hold?</span>**\n"
   ]
  },
  {
   "cell_type": "markdown",
   "metadata": {},
   "source": [
    "`YOUR ANSWER HERE`"
   ]
  },
  {
   "cell_type": "code",
   "execution_count": null,
   "metadata": {},
   "outputs": [],
   "source": [
    "# Display the answer\n",
    "autograde(question=\"3b-4\", no_check=True)"
   ]
  },
  {
   "cell_type": "markdown",
   "metadata": {},
   "source": [
    "<a id='task3c'></a>\n",
    "## <span style=\"color:blue\">Task 3c: Voltage Divider</span> \n",
    "\n",
    "<font color=red><b>Reminder</b></font>: Reference the [Lab Equipment Guide](https://docs.google.com/document/d/e/2PACX-1vTVrGBDbRfVI0_LjSeTfw8doili8iS_E_9Fwdk2UShgf7WAgVVoHtyMOpjXadXwD45HNXUbb2ASF18H/pub) for information about your lab kit\n",
    "\n",
    "#### Materials & Equipment\n",
    "* 1x 2k $\\Omega$ resistor (red-black-red-gold) - Kit \n",
    "* 1x 1k $\\Omega$ resistor (brown-black-red-gold) - Kit\n",
    "- Power Supply Unit\n",
    "- Multimeter\n",
    "- Breadboard - Kit\n",
    "- Male-to-Male Jumper Wires - Kit"
   ]
  },
  {
   "cell_type": "markdown",
   "metadata": {},
   "source": [
    "<span style='color:red;font-weight:bold'>Build the following circuit on your breadboard</span> Use the PSU as a power supply just like you did in Task 1 and Task 2. Use a 1k$\\Omega$ (brown-black-red-gold) resistor for $R_1$ and a 2k$\\Omega$ (red-black-red-gold) resistor for $R_2$."
   ]
  },
  {
   "cell_type": "markdown",
   "metadata": {},
   "source": [
    "<center>\n",
    "    <img style=\"height: 350px;\" src=\"img/ex3.png\"/>\n",
    "    <img style=\"height: 350px;\" src=\"img/task3c_phy.png\"/>\n",
    "</center>"
   ]
  },
  {
   "cell_type": "markdown",
   "metadata": {},
   "source": [
    "<span style='color:red;font-weight:bold'>We will be using the lab station multimeter in Voltmeter mode to take measurements.</span>. \n",
    "\n",
    "At this point, your circuit setup should resemble the following image."
   ]
  },
  {
   "cell_type": "markdown",
   "metadata": {},
   "source": [
    "<center>\n",
    "    <img src=\"img/voltage_divider-zoom.jpg\" align=\"center\" style=\"height:400px; display:inline-block\" />\n",
    "    <img src=\"img/voltage_divider-copy.jpg\" align=\"center\" style=\"height:400px; display:inline-block\" />\n",
    "    <img src=\"img/voltage_divider-front.jpg\" align=\"center\" style=\"height:400px; display:inline-block\" />\n",
    "</center>"
   ]
  },
  {
   "cell_type": "markdown",
   "metadata": {},
   "source": [
    "Connect the male end of the wire connected to the black multimeter lead to ground. Now, you can probe each node in your circuit with the male end of the wire connected to the red multimeter lead. We're using the multimeter as a single point voltmeter here."
   ]
  },
  {
   "cell_type": "markdown",
   "metadata": {},
   "source": [
    "**<span style=\"color:red\">Using the voltmeter, what are the voltages $u_0$, $u_1$, and $u_2$?</span>**"
   ]
  },
  {
   "cell_type": "code",
   "execution_count": null,
   "metadata": {},
   "outputs": [],
   "source": [
    "u0 = #Please enter your voltage reading here in Volts\n",
    "autograde(answer=u0, question=\"3c-1a-hard\")"
   ]
  },
  {
   "cell_type": "code",
   "execution_count": null,
   "metadata": {},
   "outputs": [],
   "source": [
    "u1 = #Please enter your voltage reading here in Volts\n",
    "autograde(answer=u1, question=\"3c-1b-hard\")"
   ]
  },
  {
   "cell_type": "code",
   "execution_count": null,
   "metadata": {},
   "outputs": [],
   "source": [
    "u2 = #Please enter your voltage reading here in Volts\n",
    "autograde(answer=u2, question=\"3c-1c-hard\")"
   ]
  },
  {
   "cell_type": "markdown",
   "metadata": {},
   "source": [
    "\n",
    "**<span style=\"color:red\">Based on those node voltage measurements, what are the values of the voltages $V_z$ and $V_y$?</span>**"
   ]
  },
  {
   "cell_type": "code",
   "execution_count": null,
   "metadata": {},
   "outputs": [],
   "source": [
    "vz = #Please enter your voltage reading here in Volts\n",
    "autograde(answer=vz, question=\"3c-2a-hard\")"
   ]
  },
  {
   "cell_type": "code",
   "execution_count": null,
   "metadata": {},
   "outputs": [],
   "source": [
    "vy = #Please enter your voltage reading here in Volts\n",
    "autograde(answer=vy, question=\"3c-2b-hard\")"
   ]
  },
  {
   "cell_type": "markdown",
   "metadata": {},
   "source": [
    "\n",
    "**<span style=\"color:red\">The [voltage divider formula](https://en.wikipedia.org/wiki/Voltage_divider) is an important formula that we use in this class. Can you show that the voltage divider formula holds for the voltage measurements for $V_z$ and $V_y$? </span>**\n",
    "Hint, set up two equations with $V_s$, one with $V_z$, and one with $V_y$.\n"
   ]
  },
  {
   "cell_type": "markdown",
   "metadata": {},
   "source": [
    "`YOUR ANSWER HERE`"
   ]
  },
  {
   "cell_type": "code",
   "execution_count": null,
   "metadata": {},
   "outputs": [],
   "source": [
    "# Display the answer\n",
    "autograde(question=\"3c-2c-hard\", no_check=True)"
   ]
  },
  {
   "cell_type": "markdown",
   "metadata": {},
   "source": [
    "## **<span style=\"color:red\"> Do not take apart your setup before being checked off. </span>**\n",
    "\n",
    "<a id='checkoff'></a>\n",
    "## Checkoff\n",
    "When you are ready to get checked off,\n",
    "1. Fill out the checkoff google form. **[Checkoff Form](https://docs.google.com/forms/d/e/1FAIpQLSeq9w_gvQKS37hUXgTDtiYhu9gNmu5OFzglIYAF4nfXQc5mOA/viewform?usp=sf_link)**\n",
    "2. Submit a **checkoff** request on the lab queue. **[Checkoff queue](https://lab.eecs16a.org)** Only one person from your group should submit the queue request, but everyone must submit their own google form. \n",
    "\n",
    "Your GSI or a Lab Assistant will join you when they are available and go through some checkoff questions with your group. They will go through the checkoff list in order. Please be patient!\n",
    "\n",
    "\n",
    "#### Post-checkoff Clean Up: (this applies to each week's lab)\n",
    "1. Pack away your launchpad and lab kit materials to bring home  - make a note to bring them back next week!\n",
    "2. Throw away any trash at your station\n",
    "3. Return the wires from the back walls\n",
    "4. SIGN OUT of the computers - DO NOT SHUT DOWN\n",
    "5. Check that other machines at your lab station are powered off\n"
   ]
  },
  {
   "cell_type": "markdown",
   "metadata": {},
   "source": [
    "<a id='task4'></a>\n",
    "# <span style=\"color:blue\">Task 4: Optional Exercises</span>\n",
    "\n",
    "This task is completely optional and is NOT required for checkoff."
   ]
  },
  {
   "cell_type": "markdown",
   "metadata": {},
   "source": [
    "<a id='task4a'></a>\n",
    "## <span style=\"color:blue\">Task 4a: More Breadboarding Examples</span>\n",
    "\n",
    "<font color=red><b>Reminder</b></font>: Reference the [Lab Equipment Guide](https://docs.google.com/document/d/e/2PACX-1vTVrGBDbRfVI0_LjSeTfw8doili8iS_E_9Fwdk2UShgf7WAgVVoHtyMOpjXadXwD45HNXUbb2ASF18H/pub) for information about your lab kit\n",
    "\n",
    "#### Materials & Equipment\n",
    "* 100k $\\Omega$ resistor (brown-black-yellow-gold) - Kit \n",
    "* 1k $\\Omega$ resistor (brown-black-red-gold) - Kit\n",
    "- Launchpad MSP\n",
    "- 1x LED - Kit\n",
    "- Male-to-Male Jumper Wires - Kit"
   ]
  },
  {
   "cell_type": "markdown",
   "metadata": {},
   "source": [
    "### Exercise A\n",
    "\n",
    "<span style='color:red;font-weight:bold'>Build the following circuit in TinkerCAD. Feel free to use the same project as before.</span>\n"
   ]
  },
  {
   "cell_type": "markdown",
   "metadata": {},
   "source": [
    "<center>\n",
    "<img style=\"height: 400px;\" src=\"img/example1.png\"/> <figcaption>Exercise A Circuit Diagram</figcaption> <br> <br>\n",
    "<img style=\"height: 400px;\" src=\"img/task231.jpg\"/> <figcaption>Exercise A Breadboard Setup</figcaption>\n",
    "</center>"
   ]
  },
  {
   "cell_type": "markdown",
   "metadata": {},
   "source": [
    "Simulate the above circuit and make sure the LED turns on.\n",
    "\n",
    "<span style='color:red;font-weight:bold'>Now, translate the above TinkerCAD setup onto your own breadboard.</span> For a small challenge, try to use fewer wires than the breadboard above. Note the different resistors used in this step. Connect your MSP to your computer once you finish breadboarding.\n",
    "\n",
    "**You will know if you successfully breadboarded your circuit when your LED turns on.** Once your LED turns on, go ahead and unplug the MSP from your computer.\n",
    "\n",
    "*Note: The longer (positive) leg of the LED is depicted by the slightly bent leg in the TinkerCAD breadboard.*"
   ]
  },
  {
   "cell_type": "markdown",
   "metadata": {},
   "source": [
    "-----\n",
    "### Exercise B\n",
    "\n",
    "<span style='color:red;font-weight:bold'>Build the following circuit in TinkerCAD. Feel free to use the same project as before.</span>"
   ]
  },
  {
   "cell_type": "markdown",
   "metadata": {},
   "source": [
    "<center>\n",
    "<img style=\"height: 400px;\" src=\"img/example2.png\"/><figcaption>Exercise B Circuit Diagram</figcaption>\n",
    "<img style=\"height: 400px;\" src=\"img/task232.jpg\"/><figcaption>Exercise B Breadboard Setup</figcaption>\n",
    "</center> <br>"
   ]
  },
  {
   "cell_type": "markdown",
   "metadata": {},
   "source": [
    "<span style='color:red;font-weight:bold'>Translate the above TinkerCAD breadboard onto your own breadboard.</span> For a small challenge, try to use fewer wires than the breadboard above.\n",
    "\n",
    "**You will know if you successfully breadboarded your circuit when your LED turns on.**\n",
    "\n",
    "*Note: The longer (positive) leg of the LED is depicted by the slightly bent leg in the TinkerCAD breadboard.*"
   ]
  },
  {
   "cell_type": "markdown",
   "metadata": {},
   "source": [
    "<a id='task4b'></a>\n",
    "## <span style=\"color:blue\">Task 4b: Series and Parallel Resistors </span> \n",
    "\n",
    "<font color=red><b>Reminder</b></font>: Reference the [Lab Equipment Guide](https://docs.google.com/document/d/e/2PACX-1vTVrGBDbRfVI0_LjSeTfw8doili8iS_E_9Fwdk2UShgf7WAgVVoHtyMOpjXadXwD45HNXUbb2ASF18H/pub) for information about your lab kit\n",
    "\n",
    "#### Materials & Equipment\n",
    "* 1x $2k\\Omega$ resistor (red-black-red-gold) - Kit \n",
    "* Breadboard from Task 3c\n",
    "\n",
    "### Part 1: TinkerCAD Breadboarding Practice\n",
    "\n",
    "<span style='color:red;font-weight:bold'>Add another 2k$\\Omega$ resistor in the same TinkerCAD breadboard from task 3c between node 2 and node 0. Measure the nodes using the voltmeter</span>"
   ]
  },
  {
   "cell_type": "markdown",
   "metadata": {},
   "source": [
    "<center>\n",
    "<img style=\"height: 350px;\" src=\"img/ex4.png\"/>\n",
    "<img style=\"height: 350px;\" src=\"img/task341.jpg\"/>\n",
    "</center>"
   ]
  },
  {
   "cell_type": "markdown",
   "metadata": {},
   "source": [
    "**<span style=\"color:red\">What are the voltages $u_0$, $u_1$, $u_2$ at nodes 0, 1, 2 respectively?</span>**"
   ]
  },
  {
   "cell_type": "markdown",
   "metadata": {},
   "source": [
    "`YOUR ANSWER HERE`"
   ]
  },
  {
   "cell_type": "markdown",
   "metadata": {},
   "source": [
    "\n",
    "**<span style=\"color:red\">Based on these measurements, what are the voltages $V_z$ and $V_y$?? Are they still the same as in Task 3c?</span>**\n"
   ]
  },
  {
   "cell_type": "markdown",
   "metadata": {},
   "source": [
    "`YOUR ANSWER HERE`"
   ]
  },
  {
   "cell_type": "markdown",
   "metadata": {},
   "source": [
    "**<span style=\"color:red\"> What is $V_\\ell$? How does $V_\\ell$ compare to $V_{z}$?</span>**"
   ]
  },
  {
   "cell_type": "markdown",
   "metadata": {},
   "source": [
    "`YOUR ANSWER HERE`"
   ]
  },
  {
   "cell_type": "markdown",
   "metadata": {},
   "source": [
    "### Part 2: Physical Breadboarding Practice\n",
    "\n",
    "We will be following what we have done in TinkerCAD on our physical breadboards. <span style='color:red;font-weight:bold'>Put another $2k\\Omega$ (red-black-red-gold) resistor between node 2 and node 0 on your breadboard to match your TinkerCAD breadboard. Use the MSP AnalogVoltage code from before (you do not need to reupload) with the $6.0$ probing pin to measure voltage values at nodes  $u_0$, $u_1$, and $u_2$.</span>"
   ]
  },
  {
   "cell_type": "markdown",
   "metadata": {},
   "source": [
    "<center>\n",
    "<img style=\"height: 350px;\" src=\"img/task3d_phy.png\"/></center>"
   ]
  },
  {
   "cell_type": "markdown",
   "metadata": {},
   "source": [
    "**<span style=\"color:red\"> Are all of your probed values consistent with the measurements you made on TinkerCAD? </span>**"
   ]
  },
  {
   "cell_type": "markdown",
   "metadata": {},
   "source": [
    "`YOUR ANSWER HERE`"
   ]
  },
  {
   "cell_type": "markdown",
   "metadata": {},
   "source": [
    "*Developer's Note: Optional Section Hidden in Comments of this cell. Please ignore.*\n",
    "<!---\n",
    "\n",
    "This section has been made optional\n",
    "\n",
    "<a id='task2d'></a>\n",
    "## <span style=\"color:blue\">Task 2d: Mystery Circuit - Challenging Breadboarding Exercise</span>\n",
    "\n",
    "Below is the circuit schematic with a mystery component - an Operational Amplifier (Op Amp). You do not need to know what it does for now, and will have plenty of exposure with it in the coming lectures. However, as you may have realized already, breadboarding is not much of a test of your circuits knowledge, but more of a brain puzzle, trying to translate circuit schematics onto a breadboard, so we will attempt this final challenge using this new mystery component. \n",
    "\n",
    "In the circuit schematic, the Op Amp is the triangle, and has 5 connections coming out of it. In TinkerCAD and in the physical world, the Op Amp looks like a black rectangle with 8 legs coming out of it. We will provide you with the **pin out diagram** of the Op Amp chip (LM741) where you can see what connections on the rectangular chip correspond to the Op Amp circuit component.\n",
    "\n",
    "Below, we have started the breadboard for you - it includes the Op Amp (with the white dot on the top left), the potentiometer, LED, and a few connections. Don't forget the wires on the bottom of the breadboard - they are connecting the two power rails and ground rails on each side of the breadboard. \n",
    "\n",
    "<span style=\"color:red;font-weight:bold\">Implement the rest of the circuit on TinkerCAD. You can find the LM741 Op Amp by searching \"741\" in the TinkerCAD \"search\" bar.</span> ***Do not make this on your breadboard.***\n",
    "\n",
    "<center>\n",
    "<img src=\"img/mystery_circuit.png\" style=\"height:500px\">\n",
    "</center>\n",
    "\n",
    "**This breadboarding exercise is challenging**. You will need to reference all three figures to get to the end circuit. Take it slowly, going over each component making sure they are going from one node to another. Some tips:\n",
    "\n",
    "1. Trace each node. TinkerCAD will highlight all the breadboard rows and component pins that are connected to the same node.\n",
    "1. Cross check the schematic and your breadboard to see if enough \"things\" are connected to each node. For example, the node above the LED should be connecting to two \"things\", namely the 330 Ohm resistor and the positive leg of the LED.\n",
    "1. Use wire colors to indicate wires that are the same node. This will help organize your thought process.\n",
    "\n",
    "**Don't spent too long on this**. If after 10 minutes none of your lab team can get it working, call us over for some help. Walking through it verbally will still help you learn breadboarding.\n",
    "\n",
    "---->"
   ]
  }
 ],
 "metadata": {
  "anaconda-cloud": {},
  "kernelspec": {
   "display_name": "Python 3 (ipykernel)",
   "language": "python",
   "name": "python3"
  },
  "language_info": {
   "codemirror_mode": {
    "name": "ipython",
    "version": 3
   },
   "file_extension": ".py",
   "mimetype": "text/x-python",
   "name": "python",
   "nbconvert_exporter": "python",
   "pygments_lexer": "ipython3",
   "version": "3.8.11"
  }
 },
 "nbformat": 4,
 "nbformat_minor": 4
}
