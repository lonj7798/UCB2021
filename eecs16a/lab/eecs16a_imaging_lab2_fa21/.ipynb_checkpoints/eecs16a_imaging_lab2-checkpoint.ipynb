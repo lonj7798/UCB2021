{
 "cells": [
  {
   "cell_type": "markdown",
   "metadata": {},
   "source": [
    "# Imaging Lab 2: Single Pixel Scanning\n",
    "\n",
    "### EECS 16A: Designing Information Devices and Systems I, Fall 2021\n",
    "<!--- Lily Bhattacharjee (lbhattacharjee@berkeley.edu)\n",
    "      Wahid Rahman (wahid.rahman@berkeley.edu)\n",
    "      Leyla Kabuli (lakabuli@berkeley.edu)\n",
    "      Raghav Gupta (raghav.tech13@berkeley.edu)\n",
    "---->"
   ]
  },
  {
   "cell_type": "markdown",
   "metadata": {},
   "source": [
    "# Table of Contents\n",
    "\n",
    "* [Instructions](#instructions)\n",
    "* [Lab Policies](#policies)\n",
    "* [Overview](#overview)\n",
    "* [Task 1: Images, Vectors, and Matrices](#images)\n",
    "    * [Task 1a: Working with Images](#task2a)\n",
    "    * [Task 1b: Scanning Mask Matrix](#task2b)\n",
    "* [Task 2: Imaging Real Pictures](#task3)\n",
    "* [Checkoff](#checkoff)"
   ]
  },
  {
   "cell_type": "markdown",
   "metadata": {},
   "source": [
    "<a id='instructions'></a>\n",
    "## Instructions\n",
    "\n",
    "* **Gently disinfect all commonly touched surfaces** at your lab station using the provided cleaning wipes.\n",
    "\n",
    "* Complete this lab by filling in all of the required sections, marked with `\"YOUR CODE HERE\"` or `\"YOUR COMMENTS HERE\"`.\n",
    "\n",
    "\n",
    "* When you finish, submit a checkoff request to get checked off for this lab. Be ready to answer a few questions to show your understanding of each section.\n",
    "\n",
    "\n",
    "* Labs will be graded based on completion for teams of 2 students."
   ]
  },
  {
   "cell_type": "markdown",
   "metadata": {},
   "source": [
    "<a id='policies'></a>\n",
    "## Lab Policies\n",
    "* **YOU MUST ATTEND THE LAB SECTION YOU ARE ENROLLED IN. If you anticipate missing a section, please notify your GSI in advance.**\n",
    "* **You are required to return all parts checked out at the beginning of the lab section unless told otherwise.**\n",
    "* **You are free to stay for the full allotted time and hack around with the lab equipment, but please reserve the GSI's time for lab-related questions.**\n",
    "* **Food and drinks are not allowed in the lab.** \n",
    "* **Clean up, turn off all equipment, and log off of computers before leaving.**"
   ]
  },
  {
   "cell_type": "markdown",
   "metadata": {},
   "source": [
    "# <a id='overview'><span style='color:blue'>Overview</span></a>\n",
    "<center>\n",
    "<img src=\"images/system_diagram.svg\" style=\"height:256px\" />\n",
    "</center>\n",
    "This week, you will scan a real-life image pixel-by-pixel using a projector and light sensor circuit (a.k.a. <b>single pixel camera</b>) and write code in your Jupyter notebook to display the captured image. \n",
    "\n",
    "You will begin by checking that the circuit you built last time (with minor modifications) works and that the projector is properly connected to the computer. \n",
    "\n",
    "Next, you will write code to generate the \"mask\" patterns that the projector uses to scan the object. \n",
    "\n",
    "Then, you will use your generated mask matrix to photograph an image with the projector and ambient light sensor setup (seen below). Finally, you will write code to recreate the image from light sensor readings that are sent to your computer via the Launchpad.\n",
    "\n",
    "To prevent room lighting from affecting these measurements, the projector setup is usually placed in a closed cardboard box. \n",
    "\n",
    "<br><br>\n",
    "<center>\n",
    "    <b>Cory 140 Setup</b>\n",
    "<img src=\"images/side.png\" style=\"height:350px\" />\n",
    "<br>\n",
    "<b>Cory 125 Setup</b>\n",
    "<img src=\"images/125_setup.jpg\" style=\"height:350px\" />\n",
    "</center>\n",
    "\n",
    "The single pixel imaging process would involve the following steps:\n",
    "<ul>\n",
    "    <li> The projector illuminates the object with a mask. </li>\n",
    "    <li> The ambient light sensor detects the total amount of light reflected off the object. More light leads to more current through the sensor. </li>\n",
    "    <li> The analog circuit converts the sensor's current into an output voltage. More light $\\rightarrow$ higher sensor current $\\rightarrow$ higher output voltage. </li>\n",
    "    <li> This analog voltage is converted into a digital brightness value. </li>\n",
    "</ul>    \n",
    "\n",
    "<b>Note:</b> In the real world, we come across random irregular fluctuations while taking measurements. This is called noise. It is important to consider noise while designing any system, and this lab is no different. You will learn more about noisy imaging in the Imaging 3 lab.\n",
    "</font>    "
   ]
  },
  {
   "cell_type": "code",
   "execution_count": 1,
   "metadata": {},
   "outputs": [],
   "source": [
    "# Import necessary libraries\n",
    "import numpy as np\n",
    "import matplotlib.pyplot as plt\n",
    "\n",
    "%matplotlib inline\n",
    "%run scripts/test.py"
   ]
  },
  {
   "cell_type": "markdown",
   "metadata": {},
   "source": [
    "<a id='images'></a>\n",
    "# <span style='color:blue'>Task 1: Images, Vectors, and Matrices </span>"
   ]
  },
  {
   "cell_type": "markdown",
   "metadata": {},
   "source": [
    "<a id='task2a'></a>\n",
    "## <span style=\"color:blue\">Task 1a: Working with Images</span>\n",
    "\n",
    "<br>\n",
    "    \n",
    "How can we represent an image? Consider a 5x5 grayscale image, where each of the 25 pixel intensities vary in shades of gray. One way to represent this is with a 2D matrix (2D NumPy array). The values stored in this array, varying from 0 to 1, correspond to different shades of gray: the lower the pixel value, the darker the pixel, with 0 being completely black and 1 being completely white. \n",
    "\n",
    "For example, take the 5x5 **`gradient_image`** shown below. Starting from the top-left pixel (pixel[0,0]), each pixel becomes progressively brighter as you traverse the image row-by-row. Note that we will be using 0 indexing in lab as most programming languages (including Python) index in lists starting from 0.\n",
    "\n",
    "<center>\n",
    "<img src=\"images/gradient.JPG\" align=\"center\" style=\"height:200px\" />\n",
    "<figcaption>Gradient image example</figcaption>\n",
    "</center>\n",
    "\n",
    "We can create this in Python using a $5 \\times 5$ NumPy 2D array called **`gradient_image`** with *linearly-spaced* floating point values from 0 to 1. The Python code to generate this is provided for you below. Take a look at the numerical 2D array and the corresponding image that is displayed by using the `imshow` function.\n",
    "</font>"
   ]
  },
  {
   "cell_type": "code",
   "execution_count": 2,
   "metadata": {},
   "outputs": [
    {
     "name": "stdout",
     "output_type": "stream",
     "text": [
      "[[0.         0.04166667 0.08333333 0.125      0.16666667]\n",
      " [0.20833333 0.25       0.29166667 0.33333333 0.375     ]\n",
      " [0.41666667 0.45833333 0.5        0.54166667 0.58333333]\n",
      " [0.625      0.66666667 0.70833333 0.75       0.79166667]\n",
      " [0.83333333 0.875      0.91666667 0.95833333 1.        ]]\n"
     ]
    },
    {
     "data": {
      "text/plain": [
       "<matplotlib.image.AxesImage at 0x167419d3160>"
      ]
     },
     "execution_count": 2,
     "metadata": {},
     "output_type": "execute_result"
    },
    {
     "data": {
      "image/png": "[encoded data removed]",
      "text/plain": [
       "<Figure size 432x288 with 1 Axes>"
      ]
     },
     "metadata": {
      "needs_background": "light"
     },
     "output_type": "display_data"
    }
   ],
   "source": [
    "# A 5x5 gradient image with values from 0 to 1.\n",
    "gradient_image = np.linspace(0, 1, 25).reshape([5, 5])\n",
    "\n",
    "print(gradient_image)\n",
    "plt.imshow(gradient_image, cmap = \"gray\", interpolation = \"nearest\")"
   ]
  },
  {
   "cell_type": "markdown",
   "metadata": {},
   "source": [
    "**<span style=\"color:red\">What color does 1.0 correspond to? What about 0?</span>**"
   ]
  },
  {
   "cell_type": "markdown",
   "metadata": {},
   "source": [
    "White"
   ]
  },
  {
   "cell_type": "markdown",
   "metadata": {},
   "source": [
    "Instead of treating our images as 2D matrices, we can \"reshape\" or \"flatten\" our images into 1-D vectors. That is, instead of having a $5 \\times 5$ matrix for our image, we can represent it using a $25 \\times 1$ vector. This makes it simpler for us to use the linear algebra techniques learned in class for image processing. \n",
    "    \n",
    "Let's look at the 3x3 example image below (colored for illustrative purposes). How can we transform this 2D vector matrix into a 1-D column vector? \n",
    "    \n",
    "Essentially, the $0$th row is flipped on its side (rotate clockwise 90 degrees), such that its left-most element is on top and its right-most element is on the bottom. The $1$st row is also flipped on its side in the same way and appended below. These steps are repeated for each subsequent row of the original 2D image until you build a $9 \\times 1$ **column vector**.    \n",
    "\n",
    "<center>\n",
    "<img src=\"images/matrix_to_col_new.png\" style=\"width:500px\"/>\n",
    "</center>\n",
    "\n",
    "Mathematically, each pixel value in the $3 \\times 3$ image is represented as a variable $p_{ij}$, where $i$ is the row and $j$ is the column associated with the pixel location. This same image represented as a 1-D column vector (called $\\vec{i}$) is:\n",
    "\n",
    "$$\\vec{i} = \\begin{bmatrix} p_{00} \\\\ p_{01} \\\\ p_{02} \\\\ p_{10} \\\\ p_{11} \\\\ p_{12} \\\\ p_{20} \\\\ p_{21} \\\\ p_{22} \\end{bmatrix}$$    \n",
    "    \n",
    "The procedure described above can be used to convert any $N \\times M$ 2D image into a `num_pixels` $\\times 1$ **column vector**, where `num_pixels` $= N \\times M$.    "
   ]
  },
  {
   "cell_type": "markdown",
   "metadata": {},
   "source": [
    "**<span style=\"color:red\">Convert the 5x5 `gradient_image` that you created above into a 25x1 column vector `gradient_image_vector` and display it. You will find the command `np.reshape` helpful. What pattern do you notice? Think about why you see this pattern.</span>**"
   ]
  },
  {
   "cell_type": "code",
   "execution_count": 3,
   "metadata": {},
   "outputs": [
    {
     "data": {
      "image/png": "[encoded data removed]",
      "text/plain": [
       "<Figure size 432x288 with 1 Axes>"
      ]
     },
     "metadata": {
      "needs_background": "light"
     },
     "output_type": "display_data"
    }
   ],
   "source": [
    "# TODO: Convert the 5x5 matrix into a 25x1 column vector\n",
    "gradient_image_vector = np.reshape(gradient_image,(25,1))\n",
    "\n",
    "# Display the vector\n",
    "plt.imshow(gradient_image_vector, cmap = \"gray\", interpolation = \"nearest\")\n",
    "plt.xticks([])\n",
    "plt.yticks(np.arange(0, 30, 5))\n",
    "plt.show()"
   ]
  },
  {
   "cell_type": "markdown",
   "metadata": {},
   "source": [
    "<a id='task2b'></a>\n",
    "## <span style=\"color:blue\">Task 1b: Scanning Mask Matrix</span>\n",
    "\n",
    "Next, we will create a \"mask\" matrix (array) to enable our simulated projector to illuminate and scan individual pixels, one at a time. This is the magic behind our virtual single pixel camera. \n",
    "\n",
    "If **`gradient_image_vector`** is represented by the column vector variable $\\vec{i}$, the act of transforming $\\vec{i}$ by a matrix $H$ into another 1D column vector $\\vec{s}$ is represented mathematically as:\n",
    "\n",
    "$$ \\vec{s} = H \\vec{i} $$\n",
    "\n",
    "This matrix multiplication represents what happens when we scan an image with our virtual single pixel camera! In the context of a real-world imaging system, $H$ represents the scanning \"mask matrix,\" whose rows are projected one-by-one onto the image we want to scan. $\\vec{s}$ represents digitized readings from the analog circuit's light sensor. In the context of the simulation, each mask in $H$ will be reshaped to match the dimensions of the image, and subsequently overlaid one at a time, with only illuminated pixel measurements contributing to the corresponding mask measurement. Each element $s_k$ of $\\vec{s}$ corresponds to one scan (using one row $k$ of $H$, that we refer to as $H_k$). \n",
    "\n",
    "Each 1D **row of $H$** represents a **mask**. But what is a mask? In the context of our virtual single pixel camera, a mask is a way to highlight certain locations in the image while hiding others during scanning. For a 3x4 image (where 3 = height, 4 = width), a mask taken from **row 0 of $H$** is represented as the $1 \\times 12$ row vector below: \n",
    "\n",
    "$$\n",
    "H_0 \n",
    "= \\begin{bmatrix} 1 & 0 & 0 & 0 & 0 & 0 & 0 & 0 & 0 & 0 & 0 & 0\\end{bmatrix}\n",
    "$$\n",
    "\n",
    "However, the mask must first be converted into its 2D form, as shown below, before it's projected over the 2D image. The mask exposes only the top-left pixel of the 2D image and hides all other pixels. Note that you can convert a 2D mask into a 1D row of $H$ by appending each of the 2D mask's rows to the right of the previous row.\n",
    "<br><br>\n",
    "<center>\n",
    "<img src=\"images/black_hite.png\" style=\"width:400px\"/>\n",
    "</center>\n",
    " \n",
    "To expose each pixel of the 3x4 image $\\vec{i}$ individually, we would need a 12x12 $H$ that has 12 masks (rows), each with a single white \"exposed\" pixel in a unique location. This means that **row 1 of $H$** (exposing $iv_{01}$) would look like:\n",
    "\n",
    "$$\n",
    "H_1 \n",
    "= \\begin{bmatrix} 0 & 1 & 0 & 0 & 0 & 0 & 0 & 0 & 0 & 0 & 0 & 0\\end{bmatrix}\n",
    "$$\n",
    "<br><br>\n",
    "<center>\n",
    "<img src=\"images/black_white_shifted.jpg\" style=\"width:400px\"/>\n",
    "</center>"
   ]
  },
  {
   "cell_type": "markdown",
   "metadata": {},
   "source": [
    "The process of masking an image, then uncovering one pixel at a time, and sensing the resultant ambient light performs the matrix multiplication $\\vec{s} = H \\vec{i}$ in real life. This equation implies that each element of the sensor output vector $\\vec{s}$ can be determined as:\n",
    "    \n",
    "$$s_k = H_k \\vec{i}$$\n",
    "\n",
    "Where the $k$th sensor reading is determined by the mask given by $k$th row of $H$, $H_k$. Thus, projecting the 2D representation of $H_0$ shown above onto a 3x4 image represented by the column vector $\\vec{i}$ to obtain the sensor reading $s_0$ would be mathematically equivalent to:\n",
    "\n",
    "$$\n",
    "s_0 = \\begin{bmatrix} 1 & 0 & 0 & 0 & 0 & 0 & 0 & 0 & 0 & 0 & 0 & 0\\end{bmatrix} \\vec{i}\n",
    "$$"
   ]
  },
  {
   "cell_type": "markdown",
   "metadata": {},
   "source": [
    "**<span style=\"color:red\">What dimensions does the mask matrix $H$ have for a 5x5 image? Why? </span>**"
   ]
  },
  {
   "cell_type": "markdown",
   "metadata": {},
   "source": [
    "25 X 25"
   ]
  },
  {
   "cell_type": "markdown",
   "metadata": {},
   "source": [
    "**<span style=\"color:red\">\n",
    "Create the mask matrix $H$ for a 5x5 image.</span>**\n",
    "\n",
    "*Hint: Google the function `np.eye`.*"
   ]
  },
  {
   "cell_type": "code",
   "execution_count": 4,
   "metadata": {},
   "outputs": [
    {
     "name": "stdout",
     "output_type": "stream",
     "text": [
      "H mask matrix is correct\n"
     ]
    },
    {
     "data": {
      "text/plain": [
       "<matplotlib.image.AxesImage at 0x1674cc21460>"
      ]
     },
     "execution_count": 4,
     "metadata": {},
     "output_type": "execute_result"
    },
    {
     "data": {
      "image/png": "[encoded data removed]",
      "text/plain": [
       "<Figure size 432x288 with 1 Axes>"
      ]
     },
     "metadata": {
      "needs_background": "light"
     },
     "output_type": "display_data"
    }
   ],
   "source": [
    "# TODO: Create the mask matrix `H` for scanning a 5x5 image (be careful about the dimensions!)\n",
    "H = np.eye(25, 25)\n",
    "\n",
    "# Test H for correctness\n",
    "test1b_H(H)\n",
    "\n",
    "# Display this matrix\n",
    "plt.imshow(H, cmap = \"gray\", interpolation = \"nearest\")"
   ]
  },
  {
   "cell_type": "markdown",
   "metadata": {},
   "source": [
    "**<span style=\"color:red\">\n",
    "Multiply the $H$ matrix with `gradient_image_vector`. Remember to use `np.dot` to do matrix multiplication and pay attention to the order of multiplcation!</span>**"
   ]
  },
  {
   "cell_type": "code",
   "execution_count": 5,
   "metadata": {},
   "outputs": [
    {
     "data": {
      "image/png": "[encoded data removed]",
      "text/plain": [
       "<Figure size 432x288 with 1 Axes>"
      ]
     },
     "metadata": {
      "needs_background": "light"
     },
     "output_type": "display_data"
    }
   ],
   "source": [
    "# TODO: Multiply `H` and `gradient_image_vector`\n",
    "s = np.dot(H, gradient_image_vector)\n",
    "\n",
    "# Display the result and compare it to `gradient_image_vector`\n",
    "plt.imshow(s, cmap = \"gray\", interpolation = \"nearest\")\n",
    "plt.xticks([])\n",
    "plt.yticks(np.arange(0, 30, 5))\n",
    "plt.show()"
   ]
  },
  {
   "cell_type": "markdown",
   "metadata": {},
   "source": [
    "**<span style=\"color:red\">Is the resultant `s` equal to `gradient_image_vector`? Why?</span>**"
   ]
  },
  {
   "cell_type": "markdown",
   "metadata": {},
   "source": [
    "Yes. H is an identity matrix."
   ]
  },
  {
   "cell_type": "markdown",
   "metadata": {},
   "source": [
    "What happens when this matrix multiplication is performed? To reiterate, each row of $H$ is responsible for \"illuminating,\" or selecting, a single pixel in the gradient image. `gradient_image_vector` was created by converting the 5x5 `gradient_image` into a 1D *column vector*. Similarly, *every row* in $H$ can be represented as a 5x5 image that, in real imaging, would be projected over `gradient_image`. \n",
    "\n",
    "**<span style=\"color:red\">\n",
    "Iterate through each row of the matrix $H$. *Reshape* each row into a 5x5 image, and check that each row illuminates a unique pixel of the original 5x5 image! Based on $ \\vec{s} = H \\vec{i} $, why are the rows of $H$ used for masking when $\\vec{i}$ is a column vector?</span>**"
   ]
  },
  {
   "cell_type": "code",
   "execution_count": 6,
   "metadata": {},
   "outputs": [
    {
     "data": {
      "image/png": "[encoded data removed]",
      "text/plain": [
       "<Figure size 1440x1440 with 25 Axes>"
      ]
     },
     "metadata": {
      "needs_background": "light"
     },
     "output_type": "display_data"
    }
   ],
   "source": [
    "# Iterate through rows of matrix H and form individual masks\n",
    "plt.figure(figsize = (20, 20)) \n",
    "for k in range(25):\n",
    "    plt.subplot(5, 5, k + 1)\n",
    "    \n",
    "    mask = np.reshape(H[k], (5,5))\n",
    "    \n",
    "    plt.imshow(mask, cmap = \"gray\", interpolation = \"nearest\")\n",
    "    plt.title(\"Mask \" + str(k) + \" = Row \" + str(k) + \" of Matrix H\")"
   ]
  },
  {
   "cell_type": "markdown",
   "metadata": {},
   "source": [
    "Each of the images above are masks. During a single scan, we project one of these masks over our image. The white pixel illuminates a particular location on the image that we want to capture, and the black pixels obscure the other parts of the image. Thus, using the rows of $H$, we gather information one pixel at a time.\n",
    "\n",
    "Let's try to make another mask matrix, $H_{alt}$, that's a little more complicated. We want $\\vec{s}$ to contain information on each pixel of the image, but in a random order. Sensing pixels in a random order and being able to reconstruct the right image is a good way to test the correctness of our imaging model. \n",
    "\n",
    "**<span style=\"color:red\">\n",
    "Generate $H_{alt}$ for a 5x5 image that illuminates each pixel of the image one at a time, but in a random order. Multiply $H_{alt}$ by `gradient_image_vector` to produce the new output vector $\\vec{s}_{alt}$.\n",
    "</span>**\n",
    "\n",
    "<b>Hint</b>: We can use rows from the existing $H$ matrix and then shuffle their order randomly. Consider using [np.random.permutation()](https://numpy.org/doc/stable/reference/random/generated/numpy.random.permutation.html) for this.  The code to correctly generate `H_alt` should only require you to type 1 short line.\n",
    "\n",
    "<b>Hint 2</b>: Here's one of many variations of $H_{alt}$ for an image of size 4x4.\n",
    "<br><br>\n",
    "<center>\n",
    "<img src=\"images/H_alt_new_4x4.png\" style=\"width:300px\"/>\n",
    "    <figcaption>A variation of $H_{alt}$ for a 4x4 image. </figcaption>\n",
    "</center>"
   ]
  },
  {
   "cell_type": "code",
   "execution_count": 7,
   "metadata": {},
   "outputs": [
    {
     "name": "stdout",
     "output_type": "stream",
     "text": [
      "H_alt mask matrix is correct\n"
     ]
    },
    {
     "data": {
      "image/png": "[encoded data removed]",
      "text/plain": [
       "<Figure size 432x288 with 1 Axes>"
      ]
     },
     "metadata": {
      "needs_background": "light"
     },
     "output_type": "display_data"
    },
    {
     "data": {
      "image/png": "[encoded data removed]",
      "text/plain": [
       "<Figure size 432x288 with 1 Axes>"
      ]
     },
     "metadata": {
      "needs_background": "light"
     },
     "output_type": "display_data"
    }
   ],
   "source": [
    "# TODO: Create the new mask matrix `H_alt` for a 5x5 image\n",
    "H_alt = np.random.permutation(H)\n",
    "\n",
    "# Test H_alt for correctness\n",
    "test1b_H_alt(H_alt)\n",
    "\n",
    "# Display `H_alt`\n",
    "plt.figure()\n",
    "plt.imshow(H_alt, cmap = \"gray\", interpolation = \"nearest\")\n",
    "\n",
    "# TODO: Multiply `H_alt` and `gradient_image_vector`\n",
    "s_alt = np.dot(H_alt, gradient_image_vector)\n",
    "\n",
    "# Display the result `s` and compare to `gradient_image_vector`\n",
    "plt.figure()\n",
    "plt.imshow(s_alt, cmap = \"gray\", interpolation = \"nearest\")\n",
    "plt.xticks([])\n",
    "plt.yticks(np.arange(0, 30, 5))\n",
    "plt.show()"
   ]
  },
  {
   "cell_type": "markdown",
   "metadata": {},
   "source": [
    "Because of how we designed `H_alt`, `s_alt` is clearly different from `gradient_image_vector`. Each pixel of `gradient_image_vector` is still illuminated only once by `H_alt`, but the order in which the pixels are illuminated has changed. Therefore, we say that `s_alt` is a \"scrambled\" version of `gradient_image_vector`. How could we \"reconstruct\" $\\vec{s}_{alt}$ back into the original `gradient_image_vector`? \n",
    "\n",
    "Recall that our original matrix $H$ was actually the **identity matrix** $I_n$. In other words, the original $\\vec{s}$ was computed as:\n",
    "\n",
    "$ \\vec{s} = H \\vec{i} = I_n \\vec{i}$\n",
    "\n",
    "<br />    \n",
    "Using the alternate mask, $H_{alt}$, we compute the alternate output $\\vec{s}_{alt}$ as:\n",
    "\n",
    "$ \\vec{s}_{alt} = H_{alt} \\vec{i} $\n",
    "\n",
    "To \"reconstruct\" $\\vec{s}_{alt}$ back into the original `gradient_image_vector` (i.e. $\\vec{i}$), we must find a matrix $M$ that multiplies $\\vec{s}_{alt}$ to make the following true:\n",
    "\n",
    "$ M \\vec{s}_{alt} = \\vec{i} $\n",
    "\n",
    "i.e.\n",
    "\n",
    "$ M H_{alt} \\vec{i} = \\vec{i} $\n",
    "\n",
    "**<span style=\"color:red\">What should M be to recover $\\vec{i}$?</span>**"
   ]
  },
  {
   "cell_type": "markdown",
   "metadata": {},
   "source": [
    "Inverse of H_alt"
   ]
  },
  {
   "cell_type": "markdown",
   "metadata": {},
   "source": [
    "**<span style=\"color:red\">Write code to reconstruct `gradient_image_vector` from `s_alt`.</span>**"
   ]
  },
  {
   "cell_type": "code",
   "execution_count": 8,
   "metadata": {},
   "outputs": [
    {
     "data": {
      "image/png": "[encoded data removed]",
      "text/plain": [
       "<Figure size 432x288 with 1 Axes>"
      ]
     },
     "metadata": {
      "needs_background": "light"
     },
     "output_type": "display_data"
    },
    {
     "data": {
      "image/png": "[encoded data removed]",
      "text/plain": [
       "<Figure size 432x288 with 1 Axes>"
      ]
     },
     "metadata": {
      "needs_background": "light"
     },
     "output_type": "display_data"
    },
    {
     "data": {
      "image/png": "[encoded data removed]",
      "text/plain": [
       "<Figure size 432x288 with 1 Axes>"
      ]
     },
     "metadata": {
      "needs_background": "light"
     },
     "output_type": "display_data"
    }
   ],
   "source": [
    "# TODO: Reconstruct `gradient_image_vector`\n",
    "M = np.linalg.inv(H_alt)\n",
    "gradient_image_vector_reconstruct = np.dot(M,s_alt)\n",
    "\n",
    "# Display M\n",
    "plt.figure()\n",
    "plt.imshow(M, cmap = \"gray\", interpolation = \"nearest\")\n",
    "plt.title(\"M\")\n",
    "plt.show()\n",
    "\n",
    "# Display M*H_alt\n",
    "plt.figure()\n",
    "plt.imshow(np.dot(M,H_alt), cmap = \"gray\", interpolation = \"nearest\")\n",
    "plt.title(\"M*H_alt\")\n",
    "plt.show()\n",
    "\n",
    "# Display the result\n",
    "plt.imshow(gradient_image_vector_reconstruct, cmap = \"gray\", interpolation = \"nearest\")\n",
    "plt.xticks([])\n",
    "plt.yticks(np.arange(0, 30, 5))\n",
    "plt.show()"
   ]
  },
  {
   "cell_type": "markdown",
   "metadata": {},
   "source": [
    "<a id='task3'></a>\n",
    "## <span style=\"color:blue\">Imaging Real Pictures</span>\n",
    "\n",
    "Finally, we will use our two matrices to image a real picture. Because our picture is fairly large, we want each individual mask to have dimensions 30x40 (i.e. height = 30, width = 40) to match the 4:3 (W:H) aspect ratio of the projector. Think about how big the mask matrix was for the 5x5 example. How big must it be for a 30x40 picture?\n",
    "\n",
    "**<span style=\"color:red\">\n",
    "Recreate both the $H$ and $H_{Alt}$ masks to match these new dimensions. </span>**"
   ]
  },
  {
   "cell_type": "code",
   "execution_count": 9,
   "metadata": {},
   "outputs": [
    {
     "data": {
      "text/plain": [
       "<Figure size 432x288 with 0 Axes>"
      ]
     },
     "metadata": {},
     "output_type": "display_data"
    }
   ],
   "source": [
    "%run scripts/test.py"
   ]
  },
  {
   "cell_type": "code",
   "execution_count": 10,
   "metadata": {},
   "outputs": [
    {
     "data": {
      "text/plain": [
       "<matplotlib.image.AxesImage at 0x1674d3ffe50>"
      ]
     },
     "execution_count": 10,
     "metadata": {},
     "output_type": "execute_result"
    },
    {
     "data": {
      "image/png": "[encoded data removed]",
      "text/plain": [
       "<Figure size 720x720 with 1 Axes>"
      ]
     },
     "metadata": {
      "needs_background": "light"
     },
     "output_type": "display_data"
    }
   ],
   "source": [
    "# TODO: Recreate `H`\n",
    "H = np.eye(1200, 1200)\n",
    "plt.figure(figsize = (10, 10))\n",
    "plt.imshow(H, cmap = 'gray', interpolation=\"nearest\")"
   ]
  },
  {
   "cell_type": "code",
   "execution_count": 11,
   "metadata": {},
   "outputs": [
    {
     "data": {
      "text/plain": [
       "<matplotlib.image.AxesImage at 0x1674d45c640>"
      ]
     },
     "execution_count": 11,
     "metadata": {},
     "output_type": "execute_result"
    },
    {
     "data": {
      "image/png": "[encoded data removed]",
      "text/plain": [
       "<Figure size 720x720 with 1 Axes>"
      ]
     },
     "metadata": {
      "needs_background": "light"
     },
     "output_type": "display_data"
    }
   ],
   "source": [
    "# TODO: Recreate `H_Alt`      \n",
    "H_Alt = np.random.permutation(H)\n",
    "plt.figure(figsize = (10, 10))\n",
    "plt.imshow(H_Alt, cmap = 'gray', interpolation=\"nearest\")"
   ]
  },
  {
   "cell_type": "markdown",
   "metadata": {},
   "source": [
    "Let's make sure that the two matrices we made are invertible and the correct size. Run the code block below to invert the matrices and test dimensions - if any of the lines fail, it means the code used to generate either matrix resulted in a incorrect size or non-invertible, linearly dependent matrix, which is incorrect. "
   ]
  },
  {
   "cell_type": "code",
   "execution_count": 12,
   "metadata": {},
   "outputs": [
    {
     "name": "stdout",
     "output_type": "stream",
     "text": [
      "H and H_Alt are the correct dimension and are both invertible. Proceed to the next step\n"
     ]
    }
   ],
   "source": [
    "test_masks_img2(H, H_Alt)"
   ]
  },
  {
   "cell_type": "markdown",
   "metadata": {},
   "source": [
    "Our mask matrices must be saved as files before they can be used to perform real imaging. The files are read by our imaging script, as seen below. "
   ]
  },
  {
   "cell_type": "markdown",
   "metadata": {},
   "source": [
    "**<span style=\"color:red\">Run the cell below to save `H` and `H_Alt`!</span>**"
   ]
  },
  {
   "cell_type": "code",
   "execution_count": 13,
   "metadata": {},
   "outputs": [],
   "source": [
    "np.save('H.npy', H)\n",
    "np.save('H_Alt.npy', H_Alt)"
   ]
  },
  {
   "cell_type": "markdown",
   "metadata": {},
   "source": [
    "##  <span style=\"color:red\">**IMPORTANT**</span>: <a id ='setup'><span style = \"color: blue\">Hardware Setup</span></a>\n",
    "\n",
    "# Please follow instructions here ( [Cory 140](eecs16a_imaging_setup_140.pdf) [Cory 125](eecs16a_imaging_setup_125.pdf) ) *verbatim* to get consistent results. Having a good setup will make taking the picture much easier and cleaner! The cardboard box can be found in the top left of your station.\n",
    "\n",
    "\n",
    "\n",
    "## Once you are done with the setup, call over either a TA or an ASE to have them check over your setup to make sure it is correct."
   ]
  },
  {
   "cell_type": "markdown",
   "metadata": {},
   "source": [
    "Now, we need an object to take a picture of. There are index cards and markers at the GSI desk; **<span style=\"color:red\">take an index card and draw something on its blank (no lines) side. Place this index card inside the box so that the projector can project onto it</span>** (see the Overview image). \n",
    "\n",
    "**<span style=\"color:green\">Cory 140 Setup</span>**: Insert the index card into the slot at the far end of the stand. As in the setup instructions linked above, place your index card so that your image is upside down. This will ensure that the scan will end up right side up, since your projector is also placed upside down.\n",
    "\n",
    "**<span style=\"color:blue\">Cory 125 Setup</span>**: You'll need to tape the index card to the side of the box that the projector is projecting onto. \n",
    "\n",
    "Tape is on the TA desk; do not take the whole dispenser."
   ]
  },
  {
   "cell_type": "markdown",
   "metadata": {},
   "source": [
    "**<span style=\"color:red\">Double check that you've done the following before proceeding:</span>**\n",
    "\n",
    "* Upload `AnalogReadSerial` to the Launchpad.\n",
    "\n",
    "* Close out of the Energia Serial Monitor.\n",
    "\n",
    "* Make sure that the ambient light sensor is aimed at the center of the index card! The legs should not be touching.\n",
    "\n",
    "* Seal the imaging system inside the box to keep ambient light out during scanning. If the holes for cables are too big, try to have them face a solid, unmoving object that can block out light."
   ]
  },
  {
   "cell_type": "markdown",
   "metadata": {},
   "source": [
    "**<span style=\"color:red\">You will then run the `capture_image.py` script below that projects mask patterns onto your image based on the $H$ matrix that you designate. This script controls the scanning process.</span>** \n",
    "\n",
    "In the code block below, the `--mask` tag points to the file (including the .npy extension) associated with the mask matrix you want to use. The `--out` tag tells the script where you want to save the column vector sensor data. (The \"out\" file name doesn't include the npy extension, as it's automatically appended. Additionally, info about the capture settings, like projector brightness, is also appended to the file name. We'll take care of this for you.)\n",
    "\n",
    "When running **`capture_image.py`**, a new icon shaped like a white web will appear in the taskbar. The window depicting our masks will appear on the projector's screen. *You can confirm this by looking into the box. (Don't forget to close the box when you're done checking!)*\n",
    "\n",
    "Before scanning, you will be prompted to specify the **COM port used by the Launchpad and the display associated with the projector.** \n",
    "\n",
    "**Select the COM port associated with UART1 (previously accessed in the Energia Serial Monitor and found using the Device Manager) and the 1280x720 projector screen.** Note that you want to specify the **index** of your choice i.e. for `2) 1280 x 720`, specify 2. **<span style=\"color:red\">Make sure that you selected the correct COM port!</span>**\n",
    "\n",
    "`capture_image.py` iterates over the rows of the $H$ matrix you made. These rows are translated, one-by-one, into real masks projected onto the screen. Light sensor readings are taken for each mask. At the start of the scan, you'll see a series of `Loc: # Data: #` printed to the output below. `Loc` corresponds to the index $k$ of the current sensor reading (and likewise current row of H). `Data` corresponds to the actual digitized value obtained from the light sensor. This \"debug\" information is printed consecutively for the first few/last few sensor outputs. Otherwise, this info is printed when `k % 100 = 0` (every 100 scans). \n",
    "\n",
    "Don't worry about messages like `Time delta between captures in s: #`. This is printed a lot because the lab computers are slow. Make sure you followed the hardware setup near the beginning - restart your MSP by unplugging and replugging it in after programming it.\n",
    "\n",
    "The whole scanning process should take roughly 3 minutes. \n",
    "\n",
    "Running the code block below will start your scan - **don't** click on the window popup."
   ]
  },
  {
   "cell_type": "code",
   "execution_count": 2,
   "metadata": {
    "scrolled": true
   },
   "outputs": [
    {
     "name": "stdout",
     "output_type": "stream",
     "text": [
      "\n",
      "EE16A Imaging Lab\n",
      "\n",
      "Serial timeout in ms: 150\n",
      "Sleep time in ms: 120\n",
      "Projector brightness scale in percent: 100\n",
      "FPS: 40\n",
      "Image width: 40\n",
      "Image height: 30\n",
      "Mask file: H.npy \n",
      "\n",
      "Checking serial connections...\n",
      "Available serial ports:\n",
      "1) COM1\n",
      "2) COM7\n",
      "3) COM26\n",
      "4) COM27\n",
      "Select the port to use: 3\n",
      "\n",
      "Detected 2 screens\n",
      "Currently displaying on screen 1\n",
      "1) 1920 x 1200\n",
      "2) 1280 x 720\n",
      "Select the projector screen: 2\n",
      "\n",
      "Period in msecs:  25.0\n",
      "\n",
      "Starting scan 0... \n",
      "\n",
      "Loc: 0 Data: 23 \n",
      "Time delta between captures in s: 0.1597144603729248\n",
      "Loc: 1 Data: 23 \n",
      "Time delta between captures in s: 0.15035295486450195\n",
      "Loc: 2 Data: 24 \n",
      "Time delta between captures in s: 0.15351295471191406\n",
      "Loc: 3 Data: 24 \n",
      "Time delta between captures in s: 0.16716909408569336\n",
      "Loc: 4 Data: 23 \n",
      "Loc: 5 Data: 24 \n",
      "Loc: 6 Data: 24 \n",
      "Loc: 7 Data: 24 \n",
      "Loc: 8 Data: 24 \n",
      "Loc: 9 Data: 24 \n",
      "Time delta between captures in s: 0.1676802635192871\n",
      "Time delta between captures in s: 0.1672682762145996\n",
      "Time delta between captures in s: 0.16755270957946777\n",
      "Time delta between captures in s: 0.16207003593444824\n",
      "Time delta between captures in s: 0.16414928436279297\n",
      "Time delta between captures in s: 0.16269922256469727\n",
      "Time delta between captures in s: 0.1650383472442627\n",
      "Time delta between captures in s: 0.1676485538482666\n",
      "Time delta between captures in s: 0.16667461395263672\n",
      "Time delta between captures in s: 0.16692686080932617\n",
      "Time delta between captures in s: 0.1675245761871338\n",
      "Time delta between captures in s: 0.16758060455322266\n",
      "Time delta between captures in s: 0.16746807098388672\n",
      "Time delta between captures in s: 0.16480135917663574\n",
      "Time delta between captures in s: 0.16700291633605957\n",
      "Time delta between captures in s: 0.16552734375\n",
      "Time delta between captures in s: 0.16418910026550293\n",
      "Time delta between captures in s: 0.1676793098449707\n",
      "Loc: 100 Data: 23 \n",
      "Time delta between captures in s: 0.16669893264770508\n",
      "Time delta between captures in s: 0.17216753959655762\n",
      "Time delta between captures in s: 0.16718673706054688\n",
      "Time delta between captures in s: 0.1675124168395996\n",
      "Time delta between captures in s: 0.16719365119934082\n",
      "Time delta between captures in s: 0.16719460487365723\n",
      "Time delta between captures in s: 0.1667957305908203\n",
      "Time delta between captures in s: 0.1706860065460205\n",
      "Time delta between captures in s: 0.16717171669006348\n",
      "Time delta between captures in s: 0.16693425178527832\n",
      "Time delta between captures in s: 0.16718840599060059\n",
      "Time delta between captures in s: 0.16222691535949707\n",
      "Time delta between captures in s: 0.16448736190795898\n",
      "Time delta between captures in s: 0.16578960418701172\n",
      "Time delta between captures in s: 0.1698932647705078\n",
      "Time delta between captures in s: 0.16769170761108398\n",
      "Time delta between captures in s: 0.16619014739990234\n",
      "Time delta between captures in s: 0.1671895980834961\n",
      "Time delta between captures in s: 0.16718626022338867\n",
      "Loc: 200 Data: 24 \n",
      "Time delta between captures in s: 0.1662890911102295\n",
      "Time delta between captures in s: 0.16669058799743652\n",
      "Time delta between captures in s: 0.1672534942626953\n",
      "Time delta between captures in s: 0.16770458221435547\n",
      "Time delta between captures in s: 0.16636276245117188\n",
      "Time delta between captures in s: 0.16620445251464844\n",
      "Time delta between captures in s: 0.1620194911956787\n",
      "Time delta between captures in s: 0.16779565811157227\n",
      "Time delta between captures in s: 0.16632938385009766\n",
      "Time delta between captures in s: 0.16718602180480957\n",
      "Time delta between captures in s: 0.16696548461914062\n",
      "Time delta between captures in s: 0.16669106483459473\n",
      "Time delta between captures in s: 0.16469812393188477\n",
      "Loc: 300 Data: 20 \n",
      "Time delta between captures in s: 0.16718363761901855\n",
      "Time delta between captures in s: 0.1668384075164795\n",
      "Time delta between captures in s: 0.16756534576416016\n",
      "Time delta between captures in s: 0.16724109649658203\n",
      "Time delta between captures in s: 0.1671924591064453\n",
      "Time delta between captures in s: 0.16719651222229004\n",
      "Time delta between captures in s: 0.16619181632995605\n",
      "Time delta between captures in s: 0.16723227500915527\n",
      "Time delta between captures in s: 0.16737866401672363\n",
      "Time delta between captures in s: 0.16733336448669434\n",
      "Time delta between captures in s: 0.16883397102355957\n",
      "Time delta between captures in s: 0.16720342636108398\n",
      "Time delta between captures in s: 0.16720175743103027\n",
      "Loc: 400 Data: 23 \n",
      "Time delta between captures in s: 0.1671895980834961\n",
      "Time delta between captures in s: 0.16698670387268066\n",
      "Time delta between captures in s: 0.16727638244628906\n",
      "Time delta between captures in s: 0.16817283630371094\n",
      "Time delta between captures in s: 0.16720032691955566\n",
      "Time delta between captures in s: 0.1671891212463379\n",
      "Time delta between captures in s: 0.16749286651611328\n",
      "Time delta between captures in s: 0.16718792915344238\n",
      "Time delta between captures in s: 0.1622021198272705\n",
      "Time delta between captures in s: 0.16668343544006348\n",
      "Time delta between captures in s: 0.1672070026397705\n",
      "Time delta between captures in s: 0.16702508926391602\n",
      "Time delta between captures in s: 0.16518473625183105\n",
      "Time delta between captures in s: 0.16244816780090332\n",
      "Time delta between captures in s: 0.16419529914855957\n",
      "Time delta between captures in s: 0.1635723114013672\n",
      "Time delta between captures in s: 0.16570782661437988\n",
      "Loc: 500 Data: 23 \n",
      "Time delta between captures in s: 0.1630558967590332\n",
      "Time delta between captures in s: 0.1675710678100586\n",
      "Time delta between captures in s: 0.1671907901763916\n",
      "Time delta between captures in s: 0.16405510902404785\n",
      "Time delta between captures in s: 0.1660146713256836\n",
      "Time delta between captures in s: 0.16607952117919922\n",
      "Time delta between captures in s: 0.1672067642211914\n",
      "Time delta between captures in s: 0.16219615936279297\n",
      "Time delta between captures in s: 0.16770148277282715\n",
      "Time delta between captures in s: 0.16619586944580078\n",
      "Time delta between captures in s: 0.16721439361572266\n",
      "Time delta between captures in s: 0.1641521453857422\n",
      "Time delta between captures in s: 0.16260576248168945\n",
      "Time delta between captures in s: 0.16338205337524414\n",
      "Loc: 600 Data: 23 \n",
      "Time delta between captures in s: 0.1641845703125\n",
      "Time delta between captures in s: 0.16519379615783691\n",
      "Time delta between captures in s: 0.1656935214996338\n",
      "Time delta between captures in s: 0.16319751739501953\n",
      "Time delta between captures in s: 0.16722631454467773\n",
      "Time delta between captures in s: 0.16690373420715332\n",
      "Time delta between captures in s: 0.1625659465789795\n",
      "Time delta between captures in s: 0.16748666763305664\n",
      "Time delta between captures in s: 0.16492986679077148\n",
      "Time delta between captures in s: 0.16323018074035645\n",
      "Time delta between captures in s: 0.1659698486328125\n",
      "Time delta between captures in s: 0.1665949821472168\n",
      "Time delta between captures in s: 0.16367268562316895\n",
      "Time delta between captures in s: 0.16335439682006836\n",
      "Time delta between captures in s: 0.1622006893157959\n",
      "Time delta between captures in s: 0.1671736240386963\n",
      "Loc: 700 Data: 22 \n",
      "Time delta between captures in s: 0.16469526290893555\n",
      "Time delta between captures in s: 0.16293883323669434\n",
      "Time delta between captures in s: 0.16457509994506836\n",
      "Time delta between captures in s: 0.16400146484375\n",
      "Time delta between captures in s: 0.1671907901763916\n",
      "Time delta between captures in s: 0.16892218589782715\n",
      "Time delta between captures in s: 0.16714906692504883\n",
      "Time delta between captures in s: 0.16582965850830078\n",
      "Time delta between captures in s: 0.16301536560058594\n",
      "Time delta between captures in s: 0.1647491455078125\n",
      "Time delta between captures in s: 0.16323184967041016\n",
      "Time delta between captures in s: 0.1673734188079834\n",
      "Time delta between captures in s: 0.16324615478515625\n",
      "Time delta between captures in s: 0.16419076919555664\n",
      "Time delta between captures in s: 0.16319823265075684\n",
      "Time delta between captures in s: 0.16718816757202148\n",
      "Time delta between captures in s: 0.16698336601257324\n",
      "Time delta between captures in s: 0.1673731803894043\n",
      "Time delta between captures in s: 0.16701626777648926\n",
      "Time delta between captures in s: 0.16218185424804688\n",
      "Time delta between captures in s: 0.16319823265075684\n",
      "Time delta between captures in s: 0.16735005378723145\n",
      "Time delta between captures in s: 0.16723227500915527\n",
      "Time delta between captures in s: 0.1647660732269287\n",
      "Loc: 800 Data: 22 \n",
      "Time delta between captures in s: 0.16269254684448242\n"
     ]
    },
    {
     "name": "stdout",
     "output_type": "stream",
     "text": [
      "Time delta between captures in s: 0.1671895980834961\n",
      "Time delta between captures in s: 0.16793060302734375\n",
      "Time delta between captures in s: 0.16771769523620605\n",
      "Time delta between captures in s: 0.16469526290893555\n",
      "Time delta between captures in s: 0.1676948070526123\n",
      "Time delta between captures in s: 0.1626133918762207\n",
      "Time delta between captures in s: 0.1672055721282959\n",
      "Time delta between captures in s: 0.1677687168121338\n",
      "Time delta between captures in s: 0.16319799423217773\n",
      "Time delta between captures in s: 0.16730117797851562\n",
      "Time delta between captures in s: 0.16402149200439453\n",
      "Time delta between captures in s: 0.16541028022766113\n",
      "Time delta between captures in s: 0.1671745777130127\n",
      "Time delta between captures in s: 0.1671905517578125\n",
      "Loc: 900 Data: 20 \n",
      "Time delta between captures in s: 0.16728711128234863\n",
      "Time delta between captures in s: 0.1628587245941162\n",
      "Time delta between captures in s: 0.16242170333862305\n",
      "Time delta between captures in s: 0.16232037544250488\n",
      "Time delta between captures in s: 0.16532373428344727\n",
      "Time delta between captures in s: 0.17018556594848633\n",
      "Time delta between captures in s: 0.16739654541015625\n",
      "Time delta between captures in s: 0.16718101501464844\n",
      "Time delta between captures in s: 0.1672046184539795\n",
      "Time delta between captures in s: 0.16719508171081543\n",
      "Time delta between captures in s: 0.16258931159973145\n",
      "Time delta between captures in s: 0.16770410537719727\n",
      "Time delta between captures in s: 0.1676931381225586\n",
      "Time delta between captures in s: 0.16269874572753906\n",
      "Time delta between captures in s: 0.16663002967834473\n",
      "Time delta between captures in s: 0.16727495193481445\n",
      "Time delta between captures in s: 0.16520380973815918\n",
      "Loc: 1000 Data: 21 \n",
      "Time delta between captures in s: 0.16751646995544434\n",
      "Time delta between captures in s: 0.1672196388244629\n",
      "Time delta between captures in s: 0.16717219352722168\n",
      "Time delta between captures in s: 0.16746115684509277\n",
      "Time delta between captures in s: 0.16624212265014648\n",
      "Time delta between captures in s: 0.1671755313873291\n",
      "Time delta between captures in s: 0.1671903133392334\n",
      "Time delta between captures in s: 0.16643476486206055\n",
      "Time delta between captures in s: 0.16759347915649414\n",
      "Time delta between captures in s: 0.16619324684143066\n",
      "Time delta between captures in s: 0.16725707054138184\n",
      "Loc: 1100 Data: 17 \n",
      "Time delta between captures in s: 0.16584515571594238\n",
      "Time delta between captures in s: 0.16764450073242188\n",
      "Time delta between captures in s: 0.16481399536132812\n",
      "Time delta between captures in s: 0.16369414329528809\n",
      "Time delta between captures in s: 0.1651918888092041\n",
      "Time delta between captures in s: 0.16426491737365723\n",
      "Time delta between captures in s: 0.16669893264770508\n",
      "Time delta between captures in s: 0.16545987129211426\n",
      "Time delta between captures in s: 0.16619110107421875\n",
      "Time delta between captures in s: 0.1633892059326172\n",
      "Time delta between captures in s: 0.16591405868530273\n",
      "Loc: 1193 Data: 19 \n",
      "Loc: 1194 Data: 19 \n",
      "Loc: 1195 Data: 19 \n",
      "Loc: 1196 Data: 19 \n",
      "Loc: 1197 Data: 19 \n",
      "Loc: 1198 Data: 19 \n",
      "Time delta between captures in s: 0.16647982597351074\n",
      "Loc: 1199 Data: 19 \n",
      "\n",
      "Scan completed\n",
      "Scan time: 188.484 s\n",
      "Min time delta in s: 0.141754150390625\n",
      "Max time delta in s: 0.17216753959655762\n",
      "Length of extra_data:  0\n",
      "Extra Data:  []\n",
      "Saving data as sensor_readingsH_100_0.npy\n"
     ]
    },
    {
     "data": {
      "image/png": "[encoded data removed]",
      "text/plain": [
       "<Figure size 432x288 with 1 Axes>"
      ]
     },
     "metadata": {
      "needs_background": "light"
     },
     "output_type": "display_data"
    },
    {
     "name": "stdout",
     "output_type": "stream",
     "text": [
      "Min sensor reading: 14.0\n",
      "Max sensor reading: 25.0\n"
     ]
    },
    {
     "data": {
      "text/plain": [
       "<Figure size 432x288 with 0 Axes>"
      ]
     },
     "metadata": {},
     "output_type": "display_data"
    }
   ],
   "source": [
    "# Import necessary libraries (so you don't have to start from the top)\n",
    "import numpy as np\n",
    "import matplotlib.pyplot as plt\n",
    "import scipy as sp\n",
    "import scipy.stats\n",
    "%matplotlib inline\n",
    "\n",
    "%run capture_image.py --mask H.npy --out sensor_readingsH"
   ]
  },
  {
   "cell_type": "markdown",
   "metadata": {},
   "source": [
    "**<span style=\"color:red\">Not getting a good picture?</span>**\n",
    "\n",
    "If you selected the incorrect COM port, a lot more \"debug\" lines will be dumped. You might notice `Data: -1` or `Losing data! Consider increasing your timeout!` messages. Once you see these messages, **stop** running that code block, **save** your Jupyter notebook, then **close the ipython notebook in terminal (Ctrl+C twice) and re-open it** (alternately, you can save and restart your kernel). You'll lose any saved variables (not output images), but everything you need has been saved to a file. Rerun the following code block again, but **make sure you select the right COM port**. "
   ]
  },
  {
   "cell_type": "markdown",
   "metadata": {},
   "source": [
    "After the sensor readings have been captured, load the sensor reading vector into the cell below. Once again, here is the equation relating $H$, the sensor reading column vector $\\vec{s}$, and the image column vector $\\vec{i}$:\n",
    "\n",
    "$$\\vec{s} = H \\vec{i}$$\n",
    "\n",
    "**<span style=\"color:red\">Recreate the image from the sensor readings obtained with `H`.</span>**"
   ]
  },
  {
   "cell_type": "code",
   "execution_count": 3,
   "metadata": {},
   "outputs": [
    {
     "data": {
      "text/plain": [
       "<matplotlib.image.AxesImage at 0x1387e751f70>"
      ]
     },
     "execution_count": 3,
     "metadata": {},
     "output_type": "execute_result"
    },
    {
     "data": {
      "image/png": "[encoded data removed]",
      "text/plain": [
       "<Figure size 576x576 with 1 Axes>"
      ]
     },
     "metadata": {
      "needs_background": "light"
     },
     "output_type": "display_data"
    }
   ],
   "source": [
    "# Sensor readings\n",
    "sr = np.load('sensor_readingsH_100_0.npy')\n",
    "H = np.load('H.npy')\n",
    "\n",
    "# TODO: Create the image vector from `H` and `sr`\n",
    "# Hint: Because `H` is a special matrix, technically you do not need to perform any matrix operations\n",
    "iv = sr\n",
    "\n",
    "img = np.reshape(iv, (30, 40))\n",
    "plt.figure(figsize = (8, 8))\n",
    "plt.imshow(img, cmap = 'gray', interpolation=\"nearest\")"
   ]
  },
  {
   "cell_type": "markdown",
   "metadata": {},
   "source": [
    "Congratulations! You have imaged your first image using your single pixel camera! \n",
    "\n",
    "**<span style=\"color:red\">\n",
    "Does your recreated image match the real image? What are some problems you notice? \n",
    "</span>**\n",
    "\n",
    "Here is an example of a picture we took using this setup:\n",
    "\n",
    "<center>\n",
    "<img src=\"images/ee16a_picture.png\"/>\n",
    "</center>"
   ]
  },
  {
   "cell_type": "markdown",
   "metadata": {},
   "source": [
    "**<span style=\"color:red\">Next, use the second mask `H_Alt` for imaging. Can you repeat the same reconstruction procedure just by replacing $H$ with $H_{Alt}$? Why or why not?</span>**"
   ]
  },
  {
   "cell_type": "markdown",
   "metadata": {},
   "source": [
    "Run `capture_image.py` again (taking the same precautions as above) to collect sensor readings. Make sure to run it from the code block below to point the script to `H_Alt`. Then reconstruct the image."
   ]
  },
  {
   "cell_type": "code",
   "execution_count": 4,
   "metadata": {},
   "outputs": [
    {
     "name": "stdout",
     "output_type": "stream",
     "text": [
      "\n",
      "EE16A Imaging Lab\n",
      "\n",
      "Serial timeout in ms: 150\n",
      "Sleep time in ms: 120\n",
      "Projector brightness scale in percent: 100\n",
      "FPS: 40\n",
      "Image width: 40\n",
      "Image height: 30\n",
      "Mask file: H_Alt.npy \n",
      "\n",
      "Checking serial connections...\n",
      "Available serial ports:\n",
      "1) COM1\n",
      "2) COM7\n",
      "3) COM26\n",
      "4) COM27\n",
      "Select the port to use: 3\n",
      "\n",
      "Detected 2 screens\n",
      "Currently displaying on screen 1\n",
      "1) 1920 x 1200\n",
      "2) 1280 x 720\n",
      "Select the projector screen: 2\n",
      "\n",
      "Period in msecs:  25.0\n",
      "\n",
      "Starting scan 0... \n",
      "\n",
      "Loc: 0 Data: 23 \n",
      "Time delta between captures in s: 0.15918302536010742\n",
      "Loc: 1 Data: 24 \n",
      "Time delta between captures in s: 0.14984464645385742\n",
      "Loc: 2 Data: 22 \n",
      "Time delta between captures in s: 0.16220331192016602\n",
      "Loc: 3 Data: 22 \n",
      "Time delta between captures in s: 0.15962672233581543\n",
      "Loc: 4 Data: 20 \n",
      "Loc: 5 Data: 23 \n",
      "Loc: 6 Data: 22 \n",
      "Loc: 7 Data: 23 \n",
      "Loc: 8 Data: 24 \n",
      "Loc: 9 Data: 21 \n",
      "Time delta between captures in s: 0.1675422191619873\n",
      "Time delta between captures in s: 0.16897177696228027\n",
      "Time delta between captures in s: 0.16718769073486328\n",
      "Time delta between captures in s: 0.16650795936584473\n",
      "Time delta between captures in s: 0.16739487648010254\n",
      "Time delta between captures in s: 0.16564416885375977\n",
      "Time delta between captures in s: 0.1698780059814453\n",
      "Time delta between captures in s: 0.16707968711853027\n",
      "Time delta between captures in s: 0.1671905517578125\n",
      "Time delta between captures in s: 0.1675708293914795\n",
      "Time delta between captures in s: 0.16748523712158203\n",
      "Time delta between captures in s: 0.1630260944366455\n",
      "Time delta between captures in s: 0.16739630699157715\n",
      "Time delta between captures in s: 0.1676638126373291\n",
      "Time delta between captures in s: 0.16255640983581543\n",
      "Time delta between captures in s: 0.16675233840942383\n",
      "Time delta between captures in s: 0.1651935577392578\n",
      "Time delta between captures in s: 0.16767501831054688\n",
      "Time delta between captures in s: 0.1622910499572754\n",
      "Time delta between captures in s: 0.16669750213623047\n",
      "Time delta between captures in s: 0.16769075393676758\n",
      "Time delta between captures in s: 0.16369056701660156\n",
      "Time delta between captures in s: 0.1663990020751953\n",
      "Loc: 100 Data: 24 \n",
      "Time delta between captures in s: 0.16767597198486328\n",
      "Time delta between captures in s: 0.167266845703125\n",
      "Time delta between captures in s: 0.1671905517578125\n",
      "Time delta between captures in s: 0.16723966598510742\n",
      "Time delta between captures in s: 0.16231346130371094\n",
      "Time delta between captures in s: 0.16648626327514648\n",
      "Time delta between captures in s: 0.16632080078125\n",
      "Time delta between captures in s: 0.1665339469909668\n",
      "Time delta between captures in s: 0.16711735725402832\n",
      "Time delta between captures in s: 0.16710305213928223\n",
      "Time delta between captures in s: 0.16569256782531738\n",
      "Time delta between captures in s: 0.16755104064941406\n",
      "Time delta between captures in s: 0.16709160804748535\n",
      "Time delta between captures in s: 0.16754364967346191\n",
      "Time delta between captures in s: 0.16735029220581055\n",
      "Loc: 200 Data: 24 \n",
      "Time delta between captures in s: 0.16556000709533691\n",
      "Time delta between captures in s: 0.1656932830810547\n",
      "Time delta between captures in s: 0.16432762145996094\n",
      "Time delta between captures in s: 0.16319775581359863\n",
      "Time delta between captures in s: 0.16740083694458008\n",
      "Time delta between captures in s: 0.16330480575561523\n",
      "Time delta between captures in s: 0.16706323623657227\n",
      "Time delta between captures in s: 0.16734600067138672\n",
      "Time delta between captures in s: 0.16736602783203125\n",
      "Time delta between captures in s: 0.16704845428466797\n",
      "Time delta between captures in s: 0.16591882705688477\n",
      "Time delta between captures in s: 0.16734957695007324\n",
      "Time delta between captures in s: 0.16319847106933594\n",
      "Time delta between captures in s: 0.1671905517578125\n",
      "Loc: 300 Data: 27 \n",
      "Time delta between captures in s: 0.1620478630065918\n",
      "Time delta between captures in s: 0.1670677661895752\n",
      "Time delta between captures in s: 0.16418814659118652\n",
      "Time delta between captures in s: 0.16722559928894043\n",
      "Time delta between captures in s: 0.17073512077331543\n",
      "Time delta between captures in s: 0.1670851707458496\n",
      "Time delta between captures in s: 0.16809344291687012\n",
      "Time delta between captures in s: 0.16218161582946777\n",
      "Time delta between captures in s: 0.16471004486083984\n",
      "Time delta between captures in s: 0.1674184799194336\n",
      "Time delta between captures in s: 0.16330337524414062\n",
      "Time delta between captures in s: 0.1671910285949707\n",
      "Time delta between captures in s: 0.16401314735412598\n",
      "Time delta between captures in s: 0.16256046295166016\n",
      "Time delta between captures in s: 0.1631152629852295\n",
      "Time delta between captures in s: 0.16275405883789062\n",
      "Time delta between captures in s: 0.16379857063293457\n",
      "Time delta between captures in s: 0.16660213470458984\n",
      "Time delta between captures in s: 0.16220498085021973\n",
      "Time delta between captures in s: 0.16286253929138184\n",
      "Time delta between captures in s: 0.16349244117736816\n",
      "Loc: 400 Data: 24 \n",
      "Time delta between captures in s: 0.167128324508667\n",
      "Time delta between captures in s: 0.16768956184387207\n",
      "Time delta between captures in s: 0.1666736602783203\n",
      "Time delta between captures in s: 0.16719579696655273\n",
      "Time delta between captures in s: 0.16260647773742676\n",
      "Time delta between captures in s: 0.16708636283874512\n",
      "Time delta between captures in s: 0.16619062423706055\n",
      "Time delta between captures in s: 0.16720080375671387\n",
      "Time delta between captures in s: 0.1621999740600586\n",
      "Time delta between captures in s: 0.16712498664855957\n",
      "Time delta between captures in s: 0.16723084449768066\n",
      "Time delta between captures in s: 0.1641702651977539\n",
      "Time delta between captures in s: 0.17562127113342285\n",
      "Time delta between captures in s: 0.16731810569763184\n",
      "Time delta between captures in s: 0.1627330780029297\n",
      "Time delta between captures in s: 0.16220664978027344\n",
      "Time delta between captures in s: 0.16570067405700684\n",
      "Time delta between captures in s: 0.16321277618408203\n",
      "Time delta between captures in s: 0.16309666633605957\n",
      "Time delta between captures in s: 0.16318678855895996\n",
      "Time delta between captures in s: 0.16439175605773926\n",
      "Time delta between captures in s: 0.16721248626708984\n",
      "Time delta between captures in s: 0.16669011116027832\n",
      "Loc: 500 Data: 21 \n",
      "Time delta between captures in s: 0.16579604148864746\n",
      "Time delta between captures in s: 0.1671907901763916\n",
      "Time delta between captures in s: 0.1621994972229004\n",
      "Time delta between captures in s: 0.16753649711608887\n",
      "Time delta between captures in s: 0.16219854354858398\n",
      "Time delta between captures in s: 0.16370534896850586\n",
      "Time delta between captures in s: 0.1621997356414795\n",
      "Time delta between captures in s: 0.16719627380371094\n",
      "Time delta between captures in s: 0.1667311191558838\n",
      "Time delta between captures in s: 0.16319823265075684\n",
      "Time delta between captures in s: 0.1647946834564209\n",
      "Time delta between captures in s: 0.16421246528625488\n",
      "Time delta between captures in s: 0.16320037841796875\n",
      "Time delta between captures in s: 0.16270995140075684\n",
      "Time delta between captures in s: 0.16740059852600098\n",
      "Time delta between captures in s: 0.16368675231933594\n",
      "Time delta between captures in s: 0.16467761993408203\n",
      "Time delta between captures in s: 0.16729068756103516\n",
      "Time delta between captures in s: 0.16717290878295898\n",
      "Time delta between captures in s: 0.1671907901763916\n",
      "Loc: 600 Data: 20 \n",
      "Time delta between captures in s: 0.16382932662963867\n",
      "Time delta between captures in s: 0.16617417335510254\n",
      "Time delta between captures in s: 0.16520428657531738\n",
      "Time delta between captures in s: 0.16727662086486816\n",
      "Time delta between captures in s: 0.16340088844299316\n",
      "Time delta between captures in s: 0.16769075393676758\n",
      "Time delta between captures in s: 0.16219425201416016\n",
      "Time delta between captures in s: 0.1671924591064453\n",
      "Time delta between captures in s: 0.16269516944885254\n",
      "Time delta between captures in s: 0.16748428344726562\n",
      "Time delta between captures in s: 0.16374659538269043\n",
      "Time delta between captures in s: 0.1646881103515625\n",
      "Time delta between captures in s: 0.1624150276184082\n",
      "Time delta between captures in s: 0.16661620140075684\n",
      "Time delta between captures in s: 0.16478443145751953\n",
      "Time delta between captures in s: 0.16736364364624023\n",
      "Time delta between captures in s: 0.16749048233032227\n",
      "Loc: 700 Data: 23 \n",
      "Time delta between captures in s: 0.16286349296569824\n",
      "Time delta between captures in s: 0.1657414436340332\n"
     ]
    },
    {
     "name": "stdout",
     "output_type": "stream",
     "text": [
      "Time delta between captures in s: 0.16246962547302246\n",
      "Time delta between captures in s: 0.16736102104187012\n",
      "Time delta between captures in s: 0.16718697547912598\n",
      "Time delta between captures in s: 0.16270780563354492\n",
      "Time delta between captures in s: 0.16767454147338867\n",
      "Time delta between captures in s: 0.16389155387878418\n",
      "Time delta between captures in s: 0.16733193397521973\n",
      "Time delta between captures in s: 0.16704201698303223\n",
      "Time delta between captures in s: 0.16570162773132324\n",
      "Time delta between captures in s: 0.16718029975891113\n",
      "Loc: 800 Data: 21 \n",
      "Time delta between captures in s: 0.1644282341003418\n",
      "Time delta between captures in s: 0.16275978088378906\n",
      "Time delta between captures in s: 0.16288208961486816\n",
      "Time delta between captures in s: 0.1671898365020752\n",
      "Time delta between captures in s: 0.16391968727111816\n",
      "Time delta between captures in s: 0.16440701484680176\n",
      "Time delta between captures in s: 0.1636815071105957\n",
      "Time delta between captures in s: 0.16283535957336426\n",
      "Time delta between captures in s: 0.16717529296875\n",
      "Time delta between captures in s: 0.167555570602417\n",
      "Time delta between captures in s: 0.1671903133392334\n",
      "Time delta between captures in s: 0.1666247844696045\n",
      "Time delta between captures in s: 0.16237568855285645\n",
      "Loc: 900 Data: 21 \n",
      "Time delta between captures in s: 0.16741561889648438\n",
      "Time delta between captures in s: 0.16769742965698242\n",
      "Time delta between captures in s: 0.16717958450317383\n",
      "Time delta between captures in s: 0.16674494743347168\n",
      "Time delta between captures in s: 0.16372370719909668\n",
      "Time delta between captures in s: 0.16747260093688965\n",
      "Time delta between captures in s: 0.16233515739440918\n",
      "Time delta between captures in s: 0.1635575294494629\n",
      "Time delta between captures in s: 0.1671895980834961\n",
      "Time delta between captures in s: 0.16327881813049316\n",
      "Time delta between captures in s: 0.16685128211975098\n",
      "Time delta between captures in s: 0.16269731521606445\n",
      "Time delta between captures in s: 0.16739296913146973\n",
      "Time delta between captures in s: 0.16271305084228516\n",
      "Time delta between captures in s: 0.16678500175476074\n",
      "Time delta between captures in s: 0.16724634170532227\n",
      "Time delta between captures in s: 0.16771721839904785\n",
      "Time delta between captures in s: 0.16454553604125977\n",
      "Loc: 1000 Data: 22 \n",
      "Time delta between captures in s: 0.16319823265075684\n",
      "Time delta between captures in s: 0.16333603858947754\n",
      "Time delta between captures in s: 0.16510462760925293\n",
      "Time delta between captures in s: 0.1672532558441162\n",
      "Time delta between captures in s: 0.16314697265625\n",
      "Time delta between captures in s: 0.1668241024017334\n",
      "Time delta between captures in s: 0.16667699813842773\n",
      "Time delta between captures in s: 0.16705679893493652\n",
      "Time delta between captures in s: 0.16746187210083008\n",
      "Time delta between captures in s: 0.1672041416168213\n",
      "Time delta between captures in s: 0.16720032691955566\n",
      "Time delta between captures in s: 0.16519427299499512\n",
      "Time delta between captures in s: 0.16469526290893555\n",
      "Loc: 1100 Data: 23 \n",
      "Time delta between captures in s: 0.162337064743042\n",
      "Time delta between captures in s: 0.1665191650390625\n",
      "Time delta between captures in s: 0.16642236709594727\n",
      "Time delta between captures in s: 0.16619038581848145\n",
      "Time delta between captures in s: 0.16219711303710938\n",
      "Time delta between captures in s: 0.16725611686706543\n",
      "Time delta between captures in s: 0.1620490550994873\n",
      "Time delta between captures in s: 0.16718769073486328\n",
      "Time delta between captures in s: 0.16768813133239746\n",
      "Time delta between captures in s: 0.1649620532989502\n",
      "Time delta between captures in s: 0.16727328300476074\n",
      "Time delta between captures in s: 0.16716861724853516\n",
      "Time delta between captures in s: 0.16754627227783203\n",
      "Time delta between captures in s: 0.16721558570861816\n",
      "Time delta between captures in s: 0.16720271110534668\n",
      "Time delta between captures in s: 0.16776752471923828\n",
      "Time delta between captures in s: 0.16718578338623047\n",
      "Time delta between captures in s: 0.17136192321777344\n",
      "Time delta between captures in s: 0.16760969161987305\n",
      "Time delta between captures in s: 0.16774821281433105\n",
      "Loc: 1193 Data: 21 \n",
      "Loc: 1194 Data: 22 \n",
      "Loc: 1195 Data: 23 \n",
      "Loc: 1196 Data: 19 \n",
      "Loc: 1197 Data: 21 \n",
      "Loc: 1198 Data: 20 \n",
      "Loc: 1199 Data: 22 \n",
      "\n",
      "Scan completed\n",
      "Scan time: 188.625 s\n",
      "Min time delta in s: 0.14123845100402832\n",
      "Max time delta in s: 0.17562127113342285\n",
      "Length of extra_data:  0\n",
      "Extra Data:  []\n",
      "Saving data as sensor_readingsHAlt_100_0.npy\n"
     ]
    },
    {
     "data": {
      "image/png": "[encoded data removed]",
      "text/plain": [
       "<Figure size 432x288 with 1 Axes>"
      ]
     },
     "metadata": {
      "needs_background": "light"
     },
     "output_type": "display_data"
    },
    {
     "name": "stdout",
     "output_type": "stream",
     "text": [
      "Min sensor reading: 18.0\n",
      "Max sensor reading: 29.0\n"
     ]
    },
    {
     "data": {
      "text/plain": [
       "<Figure size 432x288 with 0 Axes>"
      ]
     },
     "metadata": {},
     "output_type": "display_data"
    }
   ],
   "source": [
    "# Import necessary libraries (so you don't have to start from the top)\n",
    "import numpy as np\n",
    "import matplotlib.pyplot as plt\n",
    "import scipy as sp\n",
    "import scipy.stats\n",
    "%matplotlib inline\n",
    "\n",
    "%run capture_image.py --mask H_Alt.npy --out sensor_readingsHAlt"
   ]
  },
  {
   "cell_type": "markdown",
   "metadata": {},
   "source": [
    "Observe your sensor reading. Since we're scanning pixels of the image in a random order, it should be a scrambled version of the image."
   ]
  },
  {
   "cell_type": "code",
   "execution_count": 5,
   "metadata": {},
   "outputs": [
    {
     "data": {
      "text/plain": [
       "<matplotlib.image.AxesImage at 0x1387e842520>"
      ]
     },
     "execution_count": 5,
     "metadata": {},
     "output_type": "execute_result"
    },
    {
     "data": {
      "image/png": "[encoded data removed]",
      "text/plain": [
       "<Figure size 576x576 with 1 Axes>"
      ]
     },
     "metadata": {
      "needs_background": "light"
     },
     "output_type": "display_data"
    }
   ],
   "source": [
    "# Sensor readings\n",
    "sr = np.load('sensor_readingsHAlt_100_0.npy')\n",
    "H_Alt = np.load('H_Alt.npy')\n",
    "\n",
    "# TODO: Create the image vector from `H_Alt` and `sr`\n",
    "# Hint: You need to perform a matrix operation before multiplying\n",
    "iv = np.dot(np.linalg.inv(H_Alt),sr)\n",
    "\n",
    "img = np.reshape(iv, (30, 40))\n",
    "plt.figure(figsize = (8, 8))\n",
    "plt.imshow(img, cmap = 'gray', interpolation=\"nearest\")"
   ]
  },
  {
   "cell_type": "markdown",
   "metadata": {},
   "source": [
    "**<span style=\"color:red\">The sensor reading is a scrambled version of the image. Were you able to reconstruct the image correctly? How did it get \"unscrambled\"?  </span>**\n",
    "\n",
    "Yes"
   ]
  },
  {
   "cell_type": "markdown",
   "metadata": {},
   "source": [
    "You are done for the week! Save your code and circuit for next lab, where you will illuminate multiple pixels per mask!"
   ]
  },
  {
   "cell_type": "markdown",
   "metadata": {},
   "source": [
    "## **<span style=\"color:red\"> Do not take apart your setup before being checked off. </span>** \n",
    "**Afterwards, you may take the Launchpad and circuit kit with you. Remember to bring it back next week!**\n",
    "\n",
    "**Please ensure you've placed the entire imaging setup box with the following items back on the station shelf:**\n",
    "\n",
    "1. Pico Projector\n",
    "1. Power Adapter\n",
    "1. Long micro USB cable\n",
    "1. Wooden Stand\n",
    "\n",
    "<a id='checkoff'></a>\n",
    "## Checkoff\n",
    "When you are ready to get checked off,\n",
    "1. Fill out the checkoff google form. **[Checkoff Form](https://docs.google.com/forms/d/e/1FAIpQLSeq9w_gvQKS37hUXgTDtiYhu9gNmu5OFzglIYAF4nfXQc5mOA/viewform?usp=sf_link)**\n",
    "2. Submit a **checkoff** request on the lab queue. **[Checkoff queue](https://lab.eecs16a.org)** Only one person from your group should submit the queue request, but everyone must submit their own google form. \n",
    "\n",
    "Your GSI or a Lab Assistant will join you when they are available and go through some checkoff questions with your group. They will go through the checkoff list in order. Please be patient!\n",
    "\n",
    "\n",
    "#### Post-checkoff Clean Up: (this applies to each week's lab)\n",
    "1. Pack away your launchpad and lab kit materials to bring home  - make a note to bring them back next week!\n",
    "2. Throw away any trash at your station\n",
    "3. Return the wires from the back walls\n",
    "4. SIGN OUT of the computers - DO NOT SHUT DOWN\n",
    "5. Check that other machines at your lab station are powered off"
   ]
  }
 ],
 "metadata": {
  "anaconda-cloud": {},
  "kernelspec": {
   "display_name": "Python 3 (ipykernel)",
   "language": "python",
   "name": "python3"
  },
  "language_info": {
   "codemirror_mode": {
    "name": "ipython",
    "version": 3
   },
   "file_extension": ".py",
   "mimetype": "text/x-python",
   "name": "python",
   "nbconvert_exporter": "python",
   "pygments_lexer": "ipython3",
   "version": "3.8.11"
  }
 },
 "nbformat": 4,
 "nbformat_minor": 1
}
