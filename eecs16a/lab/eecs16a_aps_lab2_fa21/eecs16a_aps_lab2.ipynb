{
 "cells": [
  {
   "cell_type": "markdown",
   "metadata": {
    "tags": [
     "worksheet-0"
    ]
   },
   "source": [
    "# APS Lab 2: Finding Position with Linear Least Squares\n",
    "\n",
    "### EECS16A: Designing Information Devices and Systems I, Fall 2021\n",
    "\n",
    "<!------ Developed by Phil Sandborn, Seiya Ono, Linda Du ------>"
   ]
  },
  {
   "cell_type": "markdown",
   "metadata": {
    "tags": [
     "worksheet-0"
    ]
   },
   "source": [
    "# Table of Contents\n",
    "\n",
    "* [Instructions](#instructions)\n",
    "* [Lab Policies](#policies)\n",
    "* [Introduction](#intro)\n",
    "* [Task 0: Imports](#task0)\n",
    "* [Multilateration](#multilateration)\n",
    "* [Task 1: Constructing the System of Equations](#task1)\n",
    "* [Task 2: Using Least Squares](#task2)\n",
    "* [Task 3: Simulation Testing](#task3)\n",
    "* [Task 4: Real Life Positioning](#task4)\n",
    "\n",
    "<a id='instructions'></a>\n",
    "## Instructions\n",
    "* Complete this lab by filling in all of the required sections, marked with `\"YOUR CODE HERE\"` or `\"YOUR COMMENTS HERE\"`.\n",
    "* When you finish, submit a checkoff request to get checked off for this lab. Be ready to answer a few questions to show your understanding of each section.\n",
    "* Labs will be graded based on completion for teams of 2-4 students.\n",
    "\n",
    "<a id='policies'></a>\n",
    "## Lab Policies\n",
    "* **YOU MUST ATTEND THE LAB SECTION YOU ARE ENROLLED IN. If you anticipate missing a section, please notify your GSI in advance.**\n",
    "* **You are free to stay for the full allotted time and hack around with the lab setup or code, but please reserve the GSI's time for lab-related questions.**\n",
    "* **Keep food and drinks away from your devices / equipment.**"
   ]
  },
  {
   "cell_type": "markdown",
   "metadata": {
    "tags": [
     "worksheet-0"
    ]
   },
   "source": [
    "<a id='intro'></a>\n",
    "## Introduction\n",
    "\n",
    "**<span style=\"color:red\">\n",
    "If you have not completed APS 1 yet, you must complete it first, or this lab will not make any sense. You can then complete APS 2 during the next and final buffer lab.\n",
    "</span>**\n",
    "\n",
    "In the last lab we introduced the signal processing part for our lab and obtained the TDOA's (Time Difference Of Arrivals) of different beacon signals. This week we are going to explore methods that help us determine the final position."
   ]
  },
  {
   "cell_type": "markdown",
   "metadata": {
    "tags": [
     "worksheet-0"
    ]
   },
   "source": [
    "<a id='task0'></a>\n",
    "# <span style=\"color:blue\">Task 0: Imports</span>"
   ]
  },
  {
   "cell_type": "code",
   "execution_count": null,
   "metadata": {
    "tags": [
     "worksheet-0"
    ]
   },
   "outputs": [],
   "source": [
    "%pylab inline\n",
    "%run -i support_code/APS.py\n",
    "%run support_code/helper_functions.py"
   ]
  },
  {
   "cell_type": "markdown",
   "metadata": {},
   "source": [
    "<a id='multilateration'></a>\n",
    "# Multilateration\n",
    "\n",
    "Multilateration is a technique sometimes used in positioning systems to precisely locate a receiver by measuring the time difference of arrivals (TDOAs) from several synchronized *beacons* at one receiver location.\n",
    "\n",
    "Consider the APS 2 Lab slides:\n",
    "\n",
    "Suppose we have $N$ beacons $\\vec{a}_0,~\\vec{a}_1,~\\cdots,~\\vec{a}_{N - 1}$, so the position of a beacon $\\vec{a}_i$ in the 2-D plane will be $\\vec{a}_i = [a_{i,x}, a_{i ,y}]^T$. These positions are known. We also have a receiver $\\vec{r}$ with unknown position $\\vec{r}=[r_x, r_y]^T$ in the same plane. Let $d_i$ denote the distance of $a_i$ to $\\vec{r}$, $d_i = \\sqrt{(r_x - a_{i, x})^2 + (r_y - a_{i, y})^2}$. \n",
    "\n",
    "For simplification, in this lab we use beacon 0 as a reference placed at the origin, i.e., $\\vec{a}_0 = [a_{0,x}, a_{0 ,y}]^T = [0, 0]^T$. We also let $\\tau_0$, $\\tau_1$ ... $\\tau_{n - 1}$ denote the TDOA's. Since we are referencing all the beacons to beacon 0, we also define $\\Delta\\tau_m = \\tau_m - \\tau_0 $. \n",
    "\n",
    "Recall from last week that we found the distances from speakers to the microphone by assuming a known arrival time of beacon 0, $\\tau_0$. However in a real application like GPS, where the beacons and the receiver are not synchronous, we also need to estimate $\\tau_0$. \n",
    "\n",
    "From $M$ number of beacons, we have $M$ equations for $0\\leq i<M$:\n",
    "$$ \\Vert \\vec{r}- a_i \\Vert ^2 = d_i^2 $$\n",
    "\n",
    "Expanding the norm, and substituting for $d_i=v_s\\tau_i$ where $v_s$ is the speed of sound, we get:\n",
    "\n",
    "---\n",
    "$$ \\Vert \\vec{r} \\Vert^2 - 2\\vec{a}_i^T\\vec{r} + \\Vert \\vec{a}_i \\Vert^2 = v_s^2\\tau_i^2 $$\n",
    "\n",
    "We can get rid of the quadratic term $\\Vert \\vec{r} \\Vert^2$ by subracting each $i^\\mathrm{th}$ equation with the first equation ($i=0$):\n",
    "\n",
    "---\n",
    "\n",
    "$$ 2(\\vec{a}_0-\\vec{a}_i)^T\\vec{r} = \\Vert \\vec{a}_0 \\Vert^2 - \\Vert \\vec{a}_i \\Vert^2 + v_s^2(\\tau_i^2-\\tau_0^2) $$\n",
    "\n",
    "Expanding $\\tau_i^2-\\tau_0^2 =  (\\tau_i-\\tau_0)(\\tau_i+\\tau_0)  =  (\\tau_i-\\tau_0)(\\tau_i-\\tau_0+2\\tau_0) = \\Delta\\tau_i (\\Delta \\tau_i + 2\\tau_0)$ we express the argument in terms of the measured time differences $\\Delta \\tau_i$ and the unknown $\\tau_0$, and get:\n",
    "\n",
    "___\n",
    "\n",
    "$$ 2(\\vec{a}_0-\\vec{a}_i)^T\\vec{r} = \\Vert \\vec{a}_0 \\Vert^2 - \\Vert \\vec{a}_i \\Vert^2 + v_s^2\\Delta \\tau_i(\\Delta \\tau_i + 2\\tau_0) $$\n",
    "\n",
    "Rearranging, we get a linear set of equation w.r.t $\\vec{r}$ and $\\tau_0$!\n",
    "\n",
    "---\n",
    "\n",
    "$$ 2(\\vec{a}_0-\\vec{a}_i)^T\\vec{r} - 2(v_s^2\\Delta \\tau_i)\\tau_0 = \\Vert \\vec{a}_0 \\Vert^2 - \\Vert \\vec{a}_i \\Vert^2 + v_s^2\\Delta \\tau_i^2 $$\n",
    "\n",
    "And explicitly for the variables $r_x,~r_y,~\\tau_0$, and substituting $\\vec{a}_0 = [0,0]^T$:\n",
    "\n",
    "---\n",
    "\n",
    "$$ -2a_{i,x}r_{x} - 2a_{i,y}r_y - 2v_s^2\\Delta \\tau_i \\tau_0 = -a_{i,x}^2 - a_{i,y}^2 + v_s^2 \\Delta \\tau_i^2 $$\n",
    "\n",
    "Negating we get the final result \n",
    "\n",
    "---\n",
    "\n",
    "$$ 2a_{i,x}\\color{red}{r_{x}} + 2a_{i,y}\\color{red}{r_y} + 2v_s^2\\Delta \\tau_i \\color{red}{\\tau_0} = a_{i,x}^2  +a_{i,y}^2 - v_s^2 \\Delta \\tau_i^2 $$\n",
    "\n",
    "which are $M-1$ equations (since we used equation $i=0$), for $1\\leq i < M$."
   ]
  },
  {
   "cell_type": "markdown",
   "metadata": {},
   "source": [
    "Below is the same equation written out as a matrix for a system that has $M$ speakers. $r_x$ and $r_y$ are the coordinates of your speaker that you would like to solve for, and $\\tau_0$ is the arrival time of beacon 0.\n",
    "\n",
    "$$ 2 \\left [\n",
    "\\begin{matrix}\n",
    "    a_{1,x}  & a_{1,y} & v_s^2\\Delta \\tau_1 \\\\\n",
    "    a_{2,x}  & a_{2,y} & v_s^2\\Delta \\tau_2 \\\\\n",
    "    &\\vdots & \\\\\n",
    "    a_{M-1,x}  & a_{M-1,y} & v_s^2\\Delta \\tau_{M-1}\n",
    "\\end{matrix}\n",
    "\\right] \n",
    "\\left [\n",
    "\\begin{matrix} \n",
    "    r_x\\\\ r_y \\\\ \\tau_0\n",
    "\\end{matrix}\n",
    "\\right]\n",
    "=\n",
    "\\left [\n",
    "\\begin{matrix}\n",
    "    a_{1,x}^2  +a_{1,y}^2 - v_s^2 \\Delta \\tau_1^2 \\\\\n",
    "    a_{2,x}^2  +a_{2,y}^2 - v_s^2 \\Delta \\tau_2^2 \\\\\n",
    "    \\vdots  \\\\\n",
    "    a_{M-1,x}^2  +a_{M-1,y}^2 - v_s^2 \\Delta \\tau_{M-1}^2\n",
    "\\end{matrix}\n",
    "\\right]\n",
    "$$\n",
    "\n",
    "\n",
    "**<span style=\"color:red\">\n",
    "What is the minimum number of beacons we need in order to be able to recover a position from our system?\n",
    "</span>**\n",
    "\n",
    "**`YOUR ANSWER HERE`** \\\n",
    "**At least three beacons are required to define the position in 2D**"
   ]
  },
  {
   "cell_type": "markdown",
   "metadata": {},
   "source": [
    "<img src=\"img/plot_speakers_demo.png\" align=\"left\" style=\"height:500px\" />      "
   ]
  },
  {
   "cell_type": "markdown",
   "metadata": {
    "tags": [
     "worksheet-0"
    ]
   },
   "source": [
    "As we see in the above example, the microphone's position lies on the intersection of the curves. Finding the position of the microphone is equivalent to finding the solution for the linear system.\n",
    "\n",
    "**<span style=\"color:red\">\n",
    "Is our actual positioning system setup in this lab overdetermined or underdetermined? You may want to look at the presentation for APS 2 on the course website for a picture of the setup. Is this good or bad?\n",
    "</span>**"
   ]
  },
  {
   "cell_type": "markdown",
   "metadata": {},
   "source": [
    "**`YOUR ANSWER HERE`**"
   ]
  },
  {
   "cell_type": "markdown",
   "metadata": {
    "tags": [
     "worksheet-0"
    ]
   },
   "source": [
    "<a id='task1'></a>\n",
    "# <span style=\"color:blue\">Task 1: Constructing the System of Equations</span>\n",
    "\n",
    "Once we find the equations for each speaker and the microphone, we are able to construct a system of linear equations.\n",
    "\n",
    "**<span style=\"color:red\"> Write the function below that sets up the least squares problem. While the code block is large and may seem complex, the portions that you have to fill in are much simpler. If you find yourself stuck, try fulfilling the exact requirements of the prompt you are working on, while ignoring the others.</span>**\n",
    "\n",
    "For your convenience, the matrix equation is copied here:\n",
    "\n",
    "$$ 2 \\left [\n",
    "\\begin{matrix}\n",
    "    a_{1,x}  & a_{1,y} & v_s^2\\Delta \\tau_1 \\\\\n",
    "    a_{2,x}  & a_{2,y} & v_s^2\\Delta \\tau_2 \\\\\n",
    "    &\\vdots & \\\\\n",
    "    a_{M-1,x}  & a_{M-1,y} & v_s^2\\Delta \\tau_{M-1}\n",
    "\\end{matrix}\n",
    "\\right] \n",
    "\\left [\n",
    "\\begin{matrix} \n",
    "    r_x\\\\ r_y \\\\ \\tau_0\n",
    "\\end{matrix}\n",
    "\\right]\n",
    "=\n",
    "\\left [\n",
    "\\begin{matrix}\n",
    "    a_{1,x}^2  +a_{1,y}^2 - v_s^2 \\Delta \\tau_1^2 \\\\\n",
    "    a_{2,x}^2  +a_{2,y}^2 - v_s^2 \\Delta \\tau_2^2 \\\\\n",
    "    \\vdots  \\\\\n",
    "    a_{M-1,x}^2  +a_{M-1,y}^2 - v_s^2 \\Delta \\tau_{M-1}^2\n",
    "\\end{matrix}\n",
    "\\right]\n",
    "$$\n",
    "\n"
   ]
  },
  {
   "cell_type": "markdown",
   "metadata": {},
   "source": [
    "**Note: The array `TDOA` is an array of $\\Delta\\tau_m$ values.**"
   ]
  },
  {
   "cell_type": "code",
   "execution_count": null,
   "metadata": {},
   "outputs": [],
   "source": [
    "def construct_system(speakers, TDOA, v_s):\n",
    "    \"\"\"Construct the components of the system according to a list of TDOAs and speaker coordinates\n",
    "    Args:\n",
    "    speakers (np.array): an array of speaker coordinate tuples \n",
    "    TDOA (np.array): an array of **relative** TDOA's\n",
    "    \n",
    "    Returns:\n",
    "    A (np.array): the matrix corresponding to the least squares system\n",
    "    b (np.array): the vector corresponding to the least squares system\n",
    "    \n",
    "    \"\"\"\n",
    "    \n",
    "    # create an empty GxH matrix using np.zeros\n",
    "    # G is the number of rows in matrix A (num_beacons - 1), and H is the number of unknowns\n",
    "    G = speakers.shape[0]-1\n",
    "    H = # Enter number of unknowns here\n",
    "    A = np.zeros((G,H))\n",
    "    \n",
    "    # create an empty Gx1 vector using np.zeros\n",
    "    b = np.zeros((G,1))\n",
    "    \n",
    "    # Loop to enter values into matrix A and vector B, one row at a time\n",
    "    # **Remember**: The first row of matrix A (i = 0) uses values corresponding to beacon 1.\n",
    "    #               This affects how you index into speakers and TDOA. \n",
    "    for i in range(G):\n",
    "        \n",
    "        # fill in the first column\n",
    "        A[i,0] = # YOUR CODE HERE\n",
    "        \n",
    "        # fill in the second column\n",
    "        A[i,1] = # YOUR CODE HERE\n",
    "        \n",
    "        # fill in the 3rd column\n",
    "        A[i,2] = # YOUR CODE HERE\n",
    "        \n",
    "        # fill in the values for b\n",
    "        b[i] = # YOUR CODE HERE\n",
    "        \n",
    "    return np.array(A), np.array(b)"
   ]
  },
  {
   "cell_type": "markdown",
   "metadata": {
    "tags": [
     "worksheet-0"
    ]
   },
   "source": [
    "Take a look at your results and make sure it works correctly (Don't worry if there are some small errors on order of +/- 0.5):"
   ]
  },
  {
   "cell_type": "code",
   "execution_count": null,
   "metadata": {
    "tags": [
     "worksheet-0"
    ]
   },
   "outputs": [],
   "source": [
    "construct_system_test(construct_system)"
   ]
  },
  {
   "cell_type": "markdown",
   "metadata": {},
   "source": [
    "$$ 2 \\left [\n",
    "\\begin{matrix}\n",
    "    a_{1,x}  & a_{1,y} & v_s^2\\Delta \\tau_1 \\\\\n",
    "    a_{2,x}  & a_{2,y} & v_s^2\\Delta \\tau_2 \\\\\n",
    "    &\\vdots & \\\\\n",
    "    a_{M-1,x}  & a_{M-1,y} & v_s^2\\Delta \\tau_{M-1}\n",
    "\\end{matrix}\n",
    "\\right] \n",
    "\\left [\n",
    "\\begin{matrix} \n",
    "    r_x\\\\ r_y \\\\ \\tau_0\n",
    "\\end{matrix}\n",
    "\\right]\n",
    "=\n",
    "\\left [\n",
    "\\begin{matrix}\n",
    "    a_{1,x}^2  +a_{1,y}^2 - v_s^2 \\Delta \\tau_1^2 \\\\\n",
    "    a_{2,x}^2  +a_{2,y}^2 - v_s^2 \\Delta \\tau_2^2 \\\\\n",
    "    \\vdots  \\\\\n",
    "    a_{M-1,x}^2  +a_{M-1,y}^2 - v_s^2 \\Delta \\tau_{M-1}^2\n",
    "\\end{matrix}\n",
    "\\right]\n",
    "$$\n",
    "\n",
    "\n",
    "\n",
    "Looking at the matrix form of our system, comment on the following:"
   ]
  },
  {
   "cell_type": "markdown",
   "metadata": {},
   "source": [
    "**<span style=\"color:red\">\n",
    "Why does the first row of the matrix start at $m=1$? Why does it not make sense to start at $m=0$ ?\n",
    "</span>**"
   ]
  },
  {
   "cell_type": "markdown",
   "metadata": {},
   "source": [
    "**`YOUR ANSWER HERE`**"
   ]
  },
  {
   "cell_type": "markdown",
   "metadata": {},
   "source": [
    "**<span style=\"color:red\">\n",
    "What is the minimum number of rows that the matrix requires for this system to be solvable? Understanding how Linear Least Squares works, do we want more or exactly that many rows to get an accurate reading of our position?\n",
    "</span>**"
   ]
  },
  {
   "cell_type": "markdown",
   "metadata": {},
   "source": [
    "**`YOUR ANSWER HERE`**"
   ]
  },
  {
   "cell_type": "markdown",
   "metadata": {
    "tags": [
     "worksheet-0"
    ]
   },
   "source": [
    "<a id='task2'></a>\n",
    "# <span style=\"color:blue\">Task 2: Using Least Squares</span>\n",
    "\n",
    "**Definition**: If $A$ is an $m \\times n$ matrix and $\\vec{b}$ is in $\\mathbb{R}^m$, a **least squares solution** of $A\\vec{x}=\\vec{b}$ is an $\\hat{\\vec{x}}$ in $\\mathbb{R}^n$ such that for all $\\vec{x}$ in $\\mathbb{R}^n$: $||\\vec{b} - A\\hat{\\vec{x}}|| \\leq ||\\vec{b} - A\\vec{x}||$.\n",
    "\n",
    "The solution for an overdetermined problem is given by solving the normal equations: $A^TA\\vec{x}=A^T\\vec{b}$.\n",
    "\n",
    "For more on least squares, here's a link to [Note 23](https://eecs16a.org/lecture/Note23.pdf)."
   ]
  },
  {
   "cell_type": "markdown",
   "metadata": {
    "tags": [
     "worksheet-0"
    ]
   },
   "source": [
    "**Why do we need least squares here?**\n",
    "\n",
    "During the transmission of sound in air, some noise is added into the signal. Most of the time we don't receive the original signal perfectly; in other words, the linear system is no longer consistent due to the modified signal. Also in our positioning system, we have more than 2 linear equations to improve the accuracy. However with more equations, the linear system is more likely to be inconsistent. Least squares solution ensures a best approximation we can get, even if there is technically no solution to the system."
   ]
  },
  {
   "cell_type": "markdown",
   "metadata": {},
   "source": [
    "**<span style=\"color:red\">Implement the following function given arguments matrix A and vector b. Implement your own function for solving least squares, do not use the least squares solver built into python. Make sure your code passes the test before moving on.</span>**"
   ]
  },
  {
   "cell_type": "code",
   "execution_count": null,
   "metadata": {
    "tags": [
     "worksheet-0"
    ]
   },
   "outputs": [],
   "source": [
    "def least_squares(A, b):\n",
    "    \"\"\"Solve the least squares problem\n",
    "    \n",
    "    Args:\n",
    "    A (np.array): the matrix in the least squares problem\n",
    "    b (np.array): the vector in the least squares problem\n",
    "    \n",
    "    Returns:\n",
    "    pos (np.array): the result of the least squares problem (x)    \n",
    "    \"\"\"\n",
    "\n",
    "    # YOUR CODE HERE"
   ]
  },
  {
   "cell_type": "markdown",
   "metadata": {
    "tags": [
     "worksheet-0"
    ]
   },
   "source": [
    "**<span style=\"color:red\">Test your code with noisy inputs by running the following block. Are all of the estimates in the cases with noise reasonable? Why or why not?</span>**\n",
    "(This will take a while to compute. Don't worry if there are some small errors on the order of +/- 0.1)"
   ]
  },
  {
   "cell_type": "code",
   "execution_count": null,
   "metadata": {
    "tags": [
     "worksheet-0"
    ]
   },
   "outputs": [],
   "source": [
    "# Testing signals with noise\n",
    "test_loc(least_squares, construct_system, 1.2, 3.6, 30)\n",
    "test_loc(least_squares, construct_system, 1.2, 3.6, 40)\n",
    "test_loc(least_squares, construct_system, 1.2, 3.6, 50)"
   ]
  },
  {
   "cell_type": "markdown",
   "metadata": {
    "tags": [
     "worksheet-0"
    ]
   },
   "source": [
    "<a id='task3'></a>\n",
    "# <span style=\"color:blue\">Task 3: Simulation Testing</span>"
   ]
  },
  {
   "cell_type": "markdown",
   "metadata": {
    "tags": [
     "worksheet-0"
    ]
   },
   "source": [
    "**<span style=\"color:red\">You will go through a simulation to ensure that your code is working for a stable, slightly noisy simulation. Run the code below to test your code against our test signal. Your calculated position should be decently close to where we have placed the microphone. </span>**"
   ]
  },
  {
   "cell_type": "code",
   "execution_count": null,
   "metadata": {},
   "outputs": [],
   "source": [
    "Lab = APS('new_data.npy', [0, 40], ms= True)\n",
    "Lab.simulation_testing('APS_Recording/test-signal.wav', construct_system, least_squares)"
   ]
  },
  {
   "cell_type": "markdown",
   "metadata": {},
   "source": [
    "<a id='task4'></a>\n",
    "# <span style=\"color:blue\">Task 4: Real Life Positioning </span>"
   ]
  },
  {
   "cell_type": "markdown",
   "metadata": {},
   "source": [
    "Now we are ready to determine speaker position in lab! \n",
    "Ask a TA or ASE to help you with obtaining a recording. Your recording will be uploaded to [this folder](https://drive.google.com/drive/folders/1rvMaBNMfOGDazpV2bjgQUhNwNB9pbM8K?usp=sharing). Navigate to your lab section's folder, and download your `.wav` file and move it to the same directory as this notebook.\n",
    "\n",
    "Run the cells below to see if your code can determine where you had placed your speaker."
   ]
  },
  {
   "cell_type": "code",
   "execution_count": null,
   "metadata": {},
   "outputs": [],
   "source": [
    "Lab = APS('new_data.npy', [0, 40], ms= True)\n",
    "user_test(Lab, construct_system, least_squares)"
   ]
  },
  {
   "cell_type": "markdown",
   "metadata": {},
   "source": [
    "## **Congratulations!**\n",
    "You have successfully located a microphone using techniques such as cross-correlation, multilateration and least squares.\n",
    "\n",
    "Kudos for making it through the lab component of EECS16A. We hope you had a great time. Good luck for the rest of your journey through EECS. Bon voyage!"
   ]
  },
  {
   "cell_type": "markdown",
   "metadata": {},
   "source": [
    "<a id='checkoff'></a>\n",
    "## Checkoff\n",
    "When you are ready to get checked off,\n",
    "1. Fill out the checkoff google form. **[Checkoff Form](https://docs.google.com/forms/d/e/1FAIpQLSeq9w_gvQKS37hUXgTDtiYhu9gNmu5OFzglIYAF4nfXQc5mOA/viewform?usp=sf_link)**\n",
    "2. Submit a **checkoff** request on the lab queue. **[Checkoff queue](https://lab.eecs16a.org)** It is fine if only one person from your group submits the lab queue request, but everyone must submit their own google form. \n",
    "\n",
    "Your GSI or a Lab Assistant will join your breakout room when they are available and go through some checkoff questions with your group. They will go through the checkoff list in order. Please be patient!\n",
    "\n",
    "## **<span style=\"color:red\"> Please have your notebook ready to demo before being checked off. </span>**"
   ]
  }
 ],
 "metadata": {
  "anaconda-cloud": {},
  "kernelspec": {
   "display_name": "Python 3 (ipykernel)",
   "language": "python",
   "name": "python3"
  },
  "language_info": {
   "codemirror_mode": {
    "name": "ipython",
    "version": 3
   },
   "file_extension": ".py",
   "mimetype": "text/x-python",
   "name": "python",
   "nbconvert_exporter": "python",
   "pygments_lexer": "ipython3",
   "version": "3.8.11"
  }
 },
 "nbformat": 4,
 "nbformat_minor": 4
}
