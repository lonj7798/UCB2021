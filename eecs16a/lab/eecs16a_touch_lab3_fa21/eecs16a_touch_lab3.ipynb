{
 "cells": [
  {
   "cell_type": "markdown",
   "metadata": {},
   "source": [
    "# Touchscreen Lab 3: Capacitive Touchscreen\n",
    "\n",
    "### EECS 16A: Designing Information Devices and Systems I, Fall 2021\n",
    "<!---\n",
    "PCB Design & Lab Design: Seiya Ono Su'20 (scono12@berkeley.edu)\n",
    "Autograder: Ayush Pancholy Sp'21 (ayush.pancholy@berkeley.edu)\n",
    "--->"
   ]
  },
  {
   "cell_type": "markdown",
   "metadata": {},
   "source": [
    "# Table of Contents\n",
    "\n",
    "* [Instructions](#instructions)\n",
    "* [Lab Policies](#policies)\n",
    "* [Introduction](#overview)\n",
    "* [Task 1: Understanding the PCB Touch Capacitor](#task1)\n",
    "* [Task 2: Sensing Block](#task2)\n",
    "    * [Task 2a: Understanding Charge-Sharing](#task2a)\n",
    "    * [Task 2b: Automatic Switching](#task2b)\n",
    "* [Task 3: Process Block](#task3)\n",
    "    * [Task 3a: Understanding Comparators](#task3a)\n",
    "    * [Task 3b: Op Amp Integrated Circuit Chip](#task3b)\n",
    "    * [Task 3c: Setting up the Op Amp Chip](#task3c)\n",
    "    * [Task 3d: Breadboarding the Sense \\& Processing Blocks](#task3d)\n",
    "* [Task 4: Actuation Block](#task4)\n",
    "* [Task 5: Putting it All Together](#task5)\n",
    "    * [Task 5a: Simulation](#task5a)\n",
    "    * [Task 5b: Completing the Capacitive Touch Pixel Implementation](#task5b)\n",
    "* [Checkoff](#checkoff)\n",
    "    \n",
    "<a id='instructions'></a>\n",
    "## Instructions\n",
    "\n",
    "* **Gently disinfect all commonly touched surfaces** at your lab station using the provided cleaning wipes.\n",
    "\n",
    "* Complete this lab by filling in all of the required sections, marked with `\"YOUR CODE HERE\"` or `\"YOUR COMMENTS HERE\"`.\n",
    "\n",
    "\n",
    "* When you finish, submit a checkoff request to get checked off for this lab. Be ready to answer a few questions to show your understanding of each section.\n",
    "\n",
    "\n",
    "* Labs will be graded based on completion for teams of 2 students.\n",
    "\n",
    "<a id='policies'></a>\n",
    "## Lab Policies\n",
    "* **YOU MUST ATTEND THE LAB SECTION YOU ARE ENROLLED IN. If you anticipate missing a section, please notify your GSI in advance.**\n",
    "* **You are required to return all parts checked out at the beginning of the lab section unless told otherwise.**\n",
    "* **You are free to stay for the full allotted time and hack around with the lab equipment, but please reserve the GSI's time for lab-related questions.**\n",
    "* **Food and drinks are not allowed in the lab.** \n",
    "* **Clean up, turn off all equipment, and log off of computers before leaving.**"
   ]
  },
  {
   "cell_type": "markdown",
   "metadata": {},
   "source": [
    "<a id='overview'></a>\n",
    "\n",
    "# <span style=\"color:blue\">Introduction - Sensing, Processing, and Actuation</span>"
   ]
  },
  {
   "cell_type": "markdown",
   "metadata": {},
   "source": [
    "<center><img src=\"https://docs.google.com/drawings/d/e/2PACX-1vSsqf2T2CcBEfQAhJni1RBl4UwqT5FTe3sQ-dMOH-lJi4ueXOT0Qes1gfkUV0CatZi5izWIzDcPwkUk/pub?w=1485&h=784\" style=\"height:400px\"/></center>"
   ]
  },
  {
   "cell_type": "markdown",
   "metadata": {},
   "source": [
    "Most electronic systems perform 3 major tasks: (1) <span style='color:orange'><b>Sense</b></span>, (2) <span style='color:green'><b>Process</b></span>, and (3) <span style='color:blue'><b>Actuate</b></span>. For sensing, sensors are used to \"transduce\" or convert physical quantities to electrical signals. The electrical signals are then conditioned and processed for different application needs. Finally, as an optional step, actuators are used to bring about physical change back into the tangible world. In this lab, we will use a capacitive touchpad to sense a touch, process the resulting electrical signal using a combination of additional circuit elements, and then actuate an indicator, an LED, to indicate that a touch has been detected. "
   ]
  },
  {
   "cell_type": "markdown",
   "metadata": {},
   "source": [
    "<a id='task1'></a>\n",
    "# <span style=\"color:blue\">Task 1: Understanding the PCB Touch Capacitor</span>\n",
    "\n"
   ]
  },
  {
   "cell_type": "code",
   "execution_count": null,
   "metadata": {},
   "outputs": [],
   "source": [
    "# Load the autograder\n",
    "%run scripts/autograder.py"
   ]
  },
  {
   "cell_type": "markdown",
   "metadata": {},
   "source": [
    "#### Materials & Equipment\n",
    "* EECS16A Lab Booster Pack\n",
    "* MSP430F5529 Launch Pad\n",
    "\n",
    "The first objective is for us to understand how the touch capacitor changes its capacitance with a presence of a finger. In lecture, we have been modeling the Capacitive Touchscreen like this:\n",
    "\n",
    "<center>\n",
    "<img src=\"img/lec_touch.jpg\" align=\"center\" style=\"height:400px\">\n",
    "    </center>"
   ]
  },
  {
   "cell_type": "markdown",
   "metadata": {},
   "source": [
    "However, due to hardware limitations, we have provided you with in-PCB touch capacitors. A PCB is a printed circuit board, often colored [green](https://www.seeedstudio.com/blog/2017/07/23/why-are-printed-circuit-boards-are-usually-green-in-colour/), and serves as a semi-permanent way to create circuits. It is the go-to way to make circuits after prototyping on breadboards, and can serve to make designs extremely compact, with the ability to use components that require resolutions in the micron scale.\n",
    "\n",
    "The PCB we have provided you will be referred to as the **Boosterpack** from here on out. Take it out of your lab kit and inspect it."
   ]
  },
  {
   "cell_type": "markdown",
   "metadata": {},
   "source": [
    "<center>\n",
    "<img src=\"img/boosterpack_top.jpg\" style=\"height:400px\">\n",
    "<img src=\"img/boosterpack_side.jpg\"  style=\"height:400px\">\n",
    "<img src=\"https://docs.google.com/drawings/d/e/2PACX-1vSh4NDIoVALgt_c-A-JGG9oD11LjqprLqwDhaYhCpSK9L1xnmhEI7gwk8sV8Gk5ngxlU-gI11fmAV9j/pub?w=1169&h=701\" align=\"center\" style=\"height:400px\">\n",
    "</center>"
   ]
  },
  {
   "cell_type": "markdown",
   "metadata": {},
   "source": [
    "\n",
    "**Please leave your MSP <span style='color:red'>unplugged</span> from your computer. Most of the lab will be done without the MSP being plugged in.**\n",
    "\n",
    "**<span style='color:red'>Plug in your Boosterpack into your MSP as the images show.</span> Caution: The correct orientation will have the \"rocket\" symbol right below the black `RST` and `BSL` buttons of the Launchpad. The text on the Boosterpack and Launchpad should also line up.** <br>\n",
    "\n",
    "All the parts have been pre-soldered onto the Boosterpack for use in this lab. In particular, focus on the labeled <span style='color:red; font-weight:bold'>C Pixel</span> - it should be right underneath the drawn-in variable capacitor (the white text and white lines on a PCB are called \"silkscreen\"). You should be able to see a design of two light green polygons. Certain sections of the PCB are <span style='color:#33cc33'><b>light green</b></span> since they have copper on the layer directly underneath; the rest of the PCB is <span style='color:#006400'><b>dark green</b></span> since there is no copper underneath. At a high level, the in-PCB touch capacitor can be modeled as follows:"
   ]
  },
  {
   "cell_type": "markdown",
   "metadata": {},
   "source": [
    "<center><img src=\"https://docs.google.com/drawings/d/e/2PACX-1vRPkzuKEZcluhSjNUSfNgmvPUIHALcD3B-SFuXkJ15cO1V1HkOd4lpM8VEttQDKFBSMz5_Lja5K9CPd/pub?w=2203&h=1804\" align=\"center\" style=\"height:600px\"></center>"
   ]
  },
  {
   "cell_type": "markdown",
   "metadata": {},
   "source": [
    "The capacitors in the system have been labeled exactly as the model shown above, with <span style='color:red'><b>dimensions (in red)</b></span>, <span  style='color:orange'><b>capacitors (in yellow)</b></span>, and <span style='color:blue'><b><u>nodes (in blue)</u></b></span>. This view has the green part of the PCB removed, leaving only the copper, as shown in the image.\n",
    "\n",
    "The above image can be then converted into a circuit schematic - we will be using this model to quantify the capacitances in the touch capacitor. Notice that $C_0$ is the original capacitor included in the circuit and that $C_\\Delta$ represents the two \"capacitors\" created by the finger."
   ]
  },
  {
   "cell_type": "markdown",
   "metadata": {},
   "source": [
    "<center><img src=\"img/cap_model.jpg\" align=\"center\" style=\"height:300px\"></center>"
   ]
  },
  {
   "cell_type": "markdown",
   "metadata": {},
   "source": [
    "**<span style=\"color:red\">Using the following values and the reference diagram above, calculate the capacitance of the touch pixel with touch and without touch. Round your answers to two decimal places in picofarads (pF).</span>** <br/>\n",
    "\n",
    "Note:  Permittivity ($\\epsilon$) describes how a material reacts under an external electrical field.\n",
    "$\\kappa$ represents the relative permittivity, or dielectric constant, of a material. This is simply the ratio of the permittivity of the material to the permittivity of vacuum. Thus, the material's permittivity is given by $\\epsilon = \\kappa \\epsilon_{0}$.\n",
    "\n",
    "**Note: Pay attention to the units!**"
   ]
  },
  {
   "cell_type": "markdown",
   "metadata": {},
   "source": [
    "$$C_{0} = \\kappa \\epsilon _0 \\frac{t \\cdot L}{d}$$\n",
    "\n",
    "$$C_{pixel\\_no\\_touch} = C_{0}$$\n",
    "\n",
    "$$C_{pixel\\_w\\_touch} = C_{0} + C_{\\Delta}$$\n",
    "\n",
    "<br>\n",
    "\n",
    "<center>\n",
    "$\\kappa \\approx 4$, $\\epsilon_0 = 8.854 \\times 10^{-12} \\frac{F}{m}$, $t = 100\\mu m$, $L = 100mm$, $d = 100\\mu m$, $C_{\\Delta} = 1pF$\n",
    "</center>\n",
    "\n",
    "<br>\n",
    "\n",
    "<center>\n",
    "    $\\text{milli (m)} = 10^{-3}$, $\\text{micro (}\\mu\\text{)} = 10^{-6}$, $\\text{nano (n)} = 10^{-9}$, $\\text{pico (p)} = 10^{-12}$\n",
    "</center>"
   ]
  },
  {
   "cell_type": "markdown",
   "metadata": {},
   "source": [
    "|  | Touch Sensor Capacitance, $C_{pixel}$ |         \n",
    "| ---: |:------------: |\n",
    "| **Without finger $C_{pixel\\_no\\_touch}$** | `YOUR ANSWER HERE` |\n",
    "| **With finger $C_{pixel\\_w\\_touch}$** | `YOUR ANSWER HERE` |"
   ]
  },
  {
   "cell_type": "markdown",
   "metadata": {},
   "source": [
    "Save your calculated values here. You can use scientific notation in Python, `1e-12`, for 1pF."
   ]
  },
  {
   "cell_type": "code",
   "execution_count": null,
   "metadata": {},
   "outputs": [],
   "source": [
    "c_pixel_no_touch = #YOUR ANSWER HERE\n",
    "autograde(c_pixel_no_touch, question=\"c_pixel_no_touch\")"
   ]
  },
  {
   "cell_type": "code",
   "execution_count": null,
   "metadata": {},
   "outputs": [],
   "source": [
    "c_pixel_w_touch = #YOUR ANSWER HERE\n",
    "autograde(c_pixel_w_touch, question=\"c_pixel_w_touch\")"
   ]
  },
  {
   "cell_type": "markdown",
   "metadata": {},
   "source": [
    "***"
   ]
  },
  {
   "cell_type": "markdown",
   "metadata": {},
   "source": [
    "<a id='task2'></a>\n",
    "# <span style=\"color:blue\">Task 2: Sensing Block</span>\n",
    "\n",
    "In this section, we'll focus on the theory and physical wiring of the sensing portion of our system, utilizing the capacitive touch sensor, charge sharing, and switch controller integrated circuits.\n",
    "\n",
    "Small note on notation: $V_{DD}$ and $V_{CC}$ are interchangeable, as they refer to the same power supply.\n",
    "\n",
    "<a id='task2a'></a>\n",
    "\n",
    "## <span style=\"color:blue\">Task 2a: Understanding Charge-Sharing</span>\n",
    "\n",
    "\n",
    "The fundamental equation that relates capacitance, charge, and voltage is:\n",
    "<br/>\n",
    "\n",
    "<h3 align=\"center\">$Q=CV$</h3> \n",
    "\n",
    "Explained in words, if you put a voltage $V$ across a capacitor with capacitance $C$, a charge of $Q$ develops on each plate of the capacitor (one plate gets $+Q$ charge, and the other gets $-Q$, so the capacitor is \"charged\" or stores energy corresponding to $Q$). As we learned in the last section, touching the touch capacitor changes its capacitance. Therefore, to determine if the touchpad has been touched, all we need to do is measure the charge. \n",
    "\n",
    "\n",
    "In the example below, we charge $C_{pixel}$ (which in practice will be our capacitive touchpad pixel) by connecting its top plate to the voltage rail $V_{DD}$. Assume that the capacitor $C_{ref}$ is discharged initially, i.e, the initial voltage across it is 0."
   ]
  },
  {
   "cell_type": "markdown",
   "metadata": {},
   "source": [
    "<center><img src=\"img/charge_sharing_1.png\" align=\"center\" style=\"height:400px\"></center>"
   ]
  },
  {
   "cell_type": "markdown",
   "metadata": {},
   "source": [
    "**Note: Circuit elements that have a diagonal arrow going through them, like $C_{pixel}$ shown above, mean that the component's value is variable (i.e. can be changed). In this case, the symbol for $C_{pixel}$ is variable because it has one capacitance value when it is not being touched and another capacitance value when it is.**\n",
    "\n",
    "If we disconnect the top plate of $C_{pixel}$ from the voltage source, the charge is retained on each plate of $C_{pixel}$ (and will still be equal to $C_{pixel} V_{DD}$ based on our equation). If we then connect the top plate of $C_{pixel}$ to another capacitor $C_{ref}$, we have created a pair of parallel capacitors as shown in the image below. "
   ]
  },
  {
   "cell_type": "markdown",
   "metadata": {},
   "source": [
    "<center><img src=\"img/charge_sharing_2.png\" align=\"center\" style=\"height:450px\"></center>"
   ]
  },
  {
   "cell_type": "markdown",
   "metadata": {},
   "source": [
    "As we've learned, two capacitors in parallel create a larger effective capacitance, $C_{total} = C_{pixel} + C_{ref}$. We also know that the charge in the circuit remains constant because we did not let any charge flow into or out of the circuit. $Q = CV$ must remain true, so since $C$ increased, and $Q$ remained constant, $V$ across both of the capacitors  must change. A finger present will change the value of $C_{pixel}$, which will affect the total amount of charge available in the system."
   ]
  },
  {
   "cell_type": "markdown",
   "metadata": {},
   "source": [
    "**<span style=\"color:red\">What is the voltage across the capacitors ($V_+$) after charge sharing has finished and steady state has been attained? Your answer should be a function of $V_{DD}, C_{pixel},$ and $C_{ref}$.**"
   ]
  },
  {
   "cell_type": "markdown",
   "metadata": {},
   "source": [
    "`YOUR ANSWER HERE`"
   ]
  },
  {
   "cell_type": "markdown",
   "metadata": {},
   "source": [
    "**Now that we have a fundamental understanding of charge sharing, we can move on to the circuit we are going to be building today. Let us first go through the circuit topology to understand what the end goal is.**\n",
    "\n",
    "For this lab, we will be controlling the charging and discharging of these capacitors with a set of switches. The process is outlined below:\n",
    "\n",
    "<br></br>\n",
    "## <center><font color=red><i>$\\text{Do not build anything right now. Just read and enjoy.}$</i></font></center>\n",
    "\n",
    "### 1. Make sure both capacitors are discharged.\n",
    "We begin by connecting the Clean Switch to $\\text{GND}$ to make sure both capacitors are completely discharged."
   ]
  },
  {
   "cell_type": "markdown",
   "metadata": {},
   "source": [
    "<center><img src=\"img/switch_cap_discharge.png\" align=\"center\" style=\"height:400px\"></center>"
   ]
  },
  {
   "cell_type": "markdown",
   "metadata": {},
   "source": [
    "### 2. Disconnect the short to ground used for discharging.\n",
    "Now that the capacitors are completely discharged, we can remove the connection to ground. If we do not remove this switch, our capacitors are always connected to ground, which would prevent us from charging them in the future."
   ]
  },
  {
   "cell_type": "markdown",
   "metadata": {},
   "source": [
    "<center><img src=\"img/switch_cap_read.png\" align=\"center\" style=\"height:400px\"></center>"
   ]
  },
  {
   "cell_type": "markdown",
   "metadata": {},
   "source": [
    "### 3. Charge the $C_{pixel}$ capacitor to $V_{DD}$.\n",
    "Next we connect the touch pixel capacitor to a voltage source and charge it to $V_{DD}$."
   ]
  },
  {
   "cell_type": "markdown",
   "metadata": {},
   "source": [
    "<center><img src=\"img/switch_cap_charge.png\" align=\"center\" style=\"height:400px\"></center>"
   ]
  },
  {
   "cell_type": "markdown",
   "metadata": {},
   "source": [
    "### 4. Share charge between $C_{pixel}$ and $C_{ref}$.\n",
    "The Drive Switch is switched over to charge share with the fixed capacitor, producing a voltage that can be read out at $V_{+}$."
   ]
  },
  {
   "cell_type": "markdown",
   "metadata": {},
   "source": [
    "<center><img src=\"img/switch_cap_read_2.png\" align=\"center\" style=\"height:400px\"></center>"
   ]
  },
  {
   "cell_type": "markdown",
   "metadata": {},
   "source": [
    "### All 4 phases in action:\n",
    "<br>\n",
    "<img src=\"img/switch_cap.gif\" align=\"left\" style=\"height:400px; padding:25px\"/>\n",
    "\n",
    "The speed of this GIF (pronounced like \"gift\" without the \"t\") of all four phases of our charge sharing circuit is 1 second per phase. In reality, the speed of the switching is much faster$-$on the order of a millisecond. More information on the switches is explored in the next section.\n",
    "\n",
    "Now that you have all four phases of our charge sharing circuit, you can start to explore what happens to the voltage across the capacitors at the end of phase 4, as the value of $C_{pixel}$ changes due to being touched.\n",
    "\n",
    "And remember, charge is conserved on floating nodes when changing from one phase to another, i.e., between phase 3 and phase 4 here.<br><br>\n",
    "<span stlye='font-size:150%'>$$Q=CV \\longrightarrow Q_{\\textrm{phase }3}=Q_{\\textrm{phase }4}$$</span>\n"
   ]
  },
  {
   "cell_type": "markdown",
   "metadata": {},
   "source": [
    "**<span style=\"color:red\">When the Drive Switch is closed ($OUT$ connected to $X$) after $C_{pixel}$ is charged (i.e. in phase 4 and after steady state has been reached), how much total charge $Q$ is available to the system?**"
   ]
  },
  {
   "cell_type": "markdown",
   "metadata": {},
   "source": [
    "`YOUR ANSWER HERE`"
   ]
  },
  {
   "cell_type": "markdown",
   "metadata": {},
   "source": [
    "Run this code block to recall your calculated values for $C_{pixel\\_no\\_touch}$ and $C_{pixel\\_w\\_touch}$ from above."
   ]
  },
  {
   "cell_type": "code",
   "execution_count": null,
   "metadata": {},
   "outputs": [],
   "source": [
    "print(f\"C Pixel no touch:   {c_pixel_no_touch}\\nC Pixel with touch: {c_pixel_w_touch}\")"
   ]
  },
  {
   "cell_type": "markdown",
   "metadata": {},
   "source": [
    "**<span style=\"color:red\">Assuming the steps above are performed in order, calculate the voltage across the two capacitors at the end of phase 4. Perform the calculations using your calculated capacitance value *without* your finger, $C_{pixel\\_no\\_touch}$. Round your answer to two decimal places in Volts (V).**\n",
    "<br>\n",
    "    \n",
    "**Use the following values:**"
   ]
  },
  {
   "cell_type": "markdown",
   "metadata": {},
   "source": [
    "$$V_{DD} = 3.3V \\hspace{2cm} C_{ref} = 22pF$$\n",
    "\n",
    "|  | **Voltage at $V_{+}$** |         \n",
    "| ---: |:------------: |\n",
    "|**Without finger $V_{no\\_touch}$**| `YOUR ANSWER HERE`|"
   ]
  },
  {
   "cell_type": "code",
   "execution_count": null,
   "metadata": {},
   "outputs": [],
   "source": [
    "v_no_touch = #YOUR ANSWER HERE\n",
    "autograde(v_no_touch, question=\"v_no_touch\")"
   ]
  },
  {
   "cell_type": "markdown",
   "metadata": {},
   "source": [
    "**<span style=\"color:red\">As explained above, we can model a touch as placing an additional capacitor, also connected to ground, in parallel with $C_{pixel}$, which increases the capacitance. Calculate the voltage across the two capacitors at the end of phase 4. Perform the calculation using your capacitance value *with* your finger, $C_{pixel\\_w\\_touch}$. Round your answer to two decimal places in Volts (V).</span>** \n",
    "<br> \n",
    "\n",
    "**<font color=black>Note: This means you're running through ALL 4 phases again, but with a different $C_{pixel}$ value.</font>**\n",
    "\n",
    "**Use the following values:**"
   ]
  },
  {
   "cell_type": "markdown",
   "metadata": {},
   "source": [
    "$$V_{DD} = 3.3V \\hspace{2cm} C_{ref}=22pF$$\n",
    "\n",
    "|  | **Voltage at $V_{+}$** |         \n",
    "| ---: |:------------: |\n",
    "|**With finger $V_{w\\_touch}$**| `YOUR ANSWER HERE`|"
   ]
  },
  {
   "cell_type": "code",
   "execution_count": null,
   "metadata": {},
   "outputs": [],
   "source": [
    "v_w_touch = #YOUR ANSWER HERE\n",
    "autograde(v_w_touch, question=\"v_w_touch\")"
   ]
  },
  {
   "cell_type": "markdown",
   "metadata": {},
   "source": [
    "<a id='task2b'></a>\n",
    "\n",
    "## <span style=\"color:blue\">Task 2b: Automatic Switching</span>\n",
    "**Now we will go over how the Drive Switch and Clean Switch work and how they are implemented on the Boosterpack.**\n",
    "\n",
    "<!----\n",
    "#### Materials\n",
    "* Launchpad MSP430 - Kit\n",
    "* Breadboard - Kit\n",
    "* 1 Switch Controller - Kit (picture shown below)\n",
    "* More Wires - GSI Desk\n",
    "* Power Supply Wires - Back Wall\n",
    "* 2x Oscilloscope Probes (don't forget to test!) - Back Wall\n",
    "---->\n",
    "\n",
    "This is the same diagram as above, showing the different parts of the EECS16A Lab Boosterpack."
   ]
  },
  {
   "cell_type": "markdown",
   "metadata": {},
   "source": [
    "<center><img src=\"https://docs.google.com/drawings/d/e/2PACX-1vSh4NDIoVALgt_c-A-JGG9oD11LjqprLqwDhaYhCpSK9L1xnmhEI7gwk8sV8Gk5ngxlU-gI11fmAV9j/pub?w=1169&h=701\" align=\"center\" style=\"height:400px\"></center>"
   ]
  },
  {
   "cell_type": "markdown",
   "metadata": {},
   "source": [
    "The two small <span style='color:orange;font-weight:bold'>black rectangular integrated circuits</span> are switches that we have placed on the Boosterpack for you - they will handle the automatic switching. We will go over how these switches operate, and why we must use them to realize our capacitive touchscreen circuit."
   ]
  },
  {
   "cell_type": "markdown",
   "metadata": {},
   "source": [
    "### <span style=\"color:blue\">Integrated Switches</span>\n",
    "The capacitors in our touch sensing charge sharing circuit will discharge within a few milliseconds (because capacitors aren't perfect and don't hold charge forever). Therefore, we need to automate the switching process for the touchscreen to work. In order to change the switches rapidly, we will use the two [BL1551](https://www.belling.com.cn/media/file_object/bel_product/BL1551/datasheet/BL1551_V1.1_en.pdf) [integrated circuit (IC)](http://en.wikipedia.org/wiki/Integrated_circuit) switches. \n",
    "<br><br>\n",
    "Look at the images below. Each of those open circles represents a different terminal of the switch. By using the Launchpad to rapidly change the voltage on the $CTRL$ (control) terminal, we will change which terminal ($X$ or $Y$) is connected to the switch output. \n",
    "<br><br>\n",
    "\n",
    "<p>\n",
    "<img src=\"img/switch-high.png\" align=\"left\" style=\"height:200px\">\n",
    "<img src=\"img/switch-low.png\" align=\"left\" style=\"height:200px\">\n",
    "The circuit symbols to the left indicate how the switch operates. There is one side that has one connection that is always connected, $OUT$, and two connections on the other side, $X$ and $Y$. Which connection the switch makes depends on the voltage at the control pin for the switch, labeled $CTRL$.\n",
    "</p>"
   ]
  },
  {
   "cell_type": "markdown",
   "metadata": {},
   "source": [
    "**Operation:**\n",
    "\n",
    "$\\longrightarrow$ If $CTRL$ is connected to $V_{DD}$, the switch moves up to connect $OUT$ to $Y$.\n",
    "\n",
    "$\\longrightarrow$ If $CTRL$ is connected to ground ($\\text{GND}$), the switch moves down to connect $OUT$ to $X$.\n",
    "<br>\n",
    "<br>\n",
    "The good news is, we do not expect you to implement the switch logic yourself, as the careful timing adjustments have already been done for you. The design of this system is outside the scope of the class, and we would like you to focus more on the circuit theory and breadboarding experience, not the fine tuning of timings.\n",
    "\n",
    "After exploring the charge sharing principles in the sense block, we will now move forward to discuss the processing block. We will be exploring Op Amps as comparators, and how they can be used to processes this change in voltage."
   ]
  },
  {
   "cell_type": "markdown",
   "metadata": {},
   "source": [
    "<center><span style='font-size:20px; font-weight:bold'>This completes our Sensing block!</span></center>\n",
    "\n",
    "***"
   ]
  },
  {
   "cell_type": "markdown",
   "metadata": {},
   "source": [
    "<a id='task3'></a>\n",
    "# <span style=\"color:blue\">Task 3: Process Block</span>\n",
    "\n",
    "In this section, we'll focus on the theory and physical wiring of the processing portion of the system, utilizing an Op Amp as a comparator."
   ]
  },
  {
   "cell_type": "markdown",
   "metadata": {},
   "source": [
    "<a id='task3a'></a>\n",
    "\n",
    "## <span style=\"color:blue\">Task 3a: Understanding Comparators</span>\n",
    "\n",
    "\n",
    "Operational amplifiers, or op-amps, can be used to compare two voltage values and output a desired voltage depending on the result. This is what we call a **comparator**. Here's a schematic of an ideal comparator:\n",
    "\n",
    "<center><img src=\"img/comparator-graphic.gif\" style=\"height:250px\"></center>\n",
    "    \n",
    "<center><font size=1>https://www.electronics-tutorials.ws/opamp/op-amp-comparator.html</font></center>\n",
    "\n",
    "<br>\n",
    "\n",
    "An input voltage ($V_{IN}$) is compared to a reference voltage ($V_{REF}$). If $V_{IN}$ is <font color=green><b>greater than</b></font> $V_{REF}$, the output of the op-amp ($V_{OUT}$) is the <font color=red><b>positive supply rail voltage</b></font> ($V_{DD}$ in this particular diagram). If $V_{IN}$ is <font color=orange><b>less than</b></font> $V_{REF}$, $V_{OUT}$ is the <b>negative supply rail voltage</b> ($-V_{SS}$ in this particular diagram).\n",
    "\n",
    "<!--- The graph on the right shows that the voltage difference is a linear response with the slope dictated by the op-amp's gain. However, once the amplified voltage difference reaches a saturation point where $V_{OUT}$ becomes limited by the supply rail voltages, $V_{DD}$ and $V_{SS}$. The linear region output can occur if $V_{IN}$ is close in value to $V_{REF}$, but for the sake of our labs, this difference is always large enough to reach the saturation region. --->\n",
    "\n",
    "**<center>In the next sections, you will use an Op Amp to implement a comparator for the processing block.</center>**\n"
   ]
  },
  {
   "cell_type": "markdown",
   "metadata": {},
   "source": [
    "<a id='task3b'></a>\n",
    "\n",
    "## <span style=\"color:blue\">Task 3b: Op Amp Integrated Circuit Chip</span>\n",
    "\n",
    "Now we will go over how the comparator is implemented using a dual Op Amp chip.\n",
    "\n",
    "<font color=red><b>Reminder</b></font>: Reference the [Lab Equipment Guide](https://docs.google.com/document/d/e/2PACX-1vTVrGBDbRfVI0_LjSeTfw8doili8iS_E_9Fwdk2UShgf7WAgVVoHtyMOpjXadXwD45HNXUbb2ASF18H/pub) for information about your lab kit\n",
    "\n",
    "### <span style=\"color:blue\">Dual Op AMP IC</span>\n",
    "\n",
    "\n",
    "<div class=\"pull-right\"><figure><img src=\"img/8-DIP.png\" align='right' style=\"height:170px\"></figure></div>\n",
    "\n",
    "To implement our comparator, we will use a dual Op Amp chip. This means that a single chip contains two separate Op Amps. This is important because our processing block will only use one of the two Op Amps. For reference, we are using the LMC6482 IC chip, which should be found in your lab kit.\n",
    "<br>\n",
    "\n",
    "Pictured below is a graphic of the chip we are using as well as its pinout. The notch indicates the top of the chip, and should be used to orient the chip. The pins are numbered sequentially as you go counter-clockwise around the chip. As you can see, there are two separate Op Amps in the chip, labeled `A` and `B`, each with their own input and output terminals. However, both Op Amps share the same positive and negative supply rail voltages, labeled $V^+$ and $V^-$ in the diagram below.\n",
    "<br>\n",
    "<br>\n",
    "\n",
    "**<center>Make sure the notch on the IC chip is on top</center>**"
   ]
  },
  {
   "cell_type": "markdown",
   "metadata": {},
   "source": [
    "\n",
    "<center><img src=\"img/opamp-with-chip.png\" align=\"center\" style=\"height:275px\"></center>"
   ]
  },
  {
   "cell_type": "markdown",
   "metadata": {},
   "source": [
    "<center><span style=\"font-size:9pt;align:center\"><a href='http://www.ti.com/lit/ds/symlink/lmc6482.pdf'>Additional details</a></span></center>\n",
    "<br/>\n",
    "\n",
    "**It is worth noting that the notation used for labeling the Op Amps is a bit different than class, so please be careful when referring to the terminal labels. We have tried to avoid ambiguity by labeling $+/-$ terminals with only a $+$ or $-$ sign, and labeling supply voltages using words, as shown below:**\n",
    "<br>\n",
    "\n",
    "**<center><font color=\"blue\">Op Amp IC Pin Assignments (Always Shown in BLUE)</font></center>**\n",
    "\n",
    "|**Op Amp Label**| `+` pin | `-` pin | `OUT` pin |         \n",
    "| :---: |:------------: | :---: | :---: | \n",
    "|$A$| $\\color{blue}{(3)}$ | $\\color{blue}{(2)}$ | $\\color{blue}{(1)}$ |\n",
    "|$B$| $\\color{blue}{(5)}$ | $\\color{blue}{(6)}$ | $\\color{blue}{(7)}$ |\n",
    "\n",
    "$$\\textrm{Positive Supply Voltage: }\\color{blue}{(8)}$$\n",
    "$$\\textrm{Negative Supply Voltage: }\\color{blue}{(4)}$$\n",
    "\n",
    "<br>\n",
    "\n",
    "*Note: In circuit theory, we sometimes do not explicitly draw the Power Supply Rails ($V^{+}$ and $V^{-}$) because we assume them to be infinitely positive or infinitely negative compared to our signal so we can focus more on analysis than implementation.*"
   ]
  },
  {
   "cell_type": "markdown",
   "metadata": {},
   "source": [
    "<a id='task3c'></a>\n",
    "\n",
    "## <span style=\"color:blue\">Task 3c: Setting up the Op Amp Chip</span>\n",
    "\n",
    "<font color=red><b>Reminder</b></font>: Reference the [Lab Equipment Guide](https://docs.google.com/document/d/e/2PACX-1vTVrGBDbRfVI0_LjSeTfw8doili8iS_E_9Fwdk2UShgf7WAgVVoHtyMOpjXadXwD45HNXUbb2ASF18H/pub) for information about your lab kit\n",
    "\n",
    "#### Materials\n",
    "* Breadboard - Kit\n",
    "* 1x LMC6482 Op Amp Chip - Kit\n",
    "* 2x Male-to-Female Wires - Kit\n",
    "* 1x Male-to-Male Wires - Kit\n",
    "* Lab Boosterpack - Kit\n",
    "* MSP430 (unplugged) - Kit\n",
    "\n",
    "The LMC6482 Dual Op Amp Chip comes in a package known as 8-DIP (8 pin dual in-line package) where there are 8 different pins that come out of it, ready to be plugged into a breadboard. We have to remember that because breadboard pins are connected horizontally, we cannot plug in the Op Amp into either only the left side or only the right side - we must separate the two sides of the chip with the divider in the middle of the breadboard. This will ensure that the pins on either side of the Op Amp are not shorted together. **Follow the diagram below and plug in your LMC6482 Dual Op Amp Chip into the middle of your breadboard.**. \n",
    "\n",
    "<br>\n",
    "\n",
    "<center><font color=red size=5><b>Make sure that the notch (semi-circle) is pointed up!</b></font></center>"
   ]
  },
  {
   "cell_type": "markdown",
   "metadata": {},
   "source": [
    "\n",
    "<center><img src=\"img/opamp_only_bb.png\" align=\"center\" style=\"height:400px\"></center>\n",
    "\n",
    "<center><img src=\"img/opamp-with-chip.png\" align=\"center\" style=\"height:150px\"></center>"
   ]
  },
  {
   "cell_type": "markdown",
   "metadata": {},
   "source": [
    "Next, connect two different **Male-to-Female** jumper wires from the two points indicated on the breadboard to the Lab Boosterpack. The male end should go into the breadboard, and the female end should plug into the boosterpack, where the pins are labeled `3.3V` and `GND` circled in <font color=blue><b>Blue</b></font> in the picture below. At this point, the <font color=red><b>MSP should NOT be plugged into your computer</b></font>. Once again, make sure that the Op Amp is plugged in with the correct orientation with the half circle notch face up. Use the **Male-to-Male** wire to connect the $V^{-}$ connection on the LMC6482 chip to the `GND` rail <span style='color:blue;font-weight:bold'>(-)</span> on your breadboard."
   ]
  },
  {
   "cell_type": "markdown",
   "metadata": {},
   "source": [
    "<center><img src=\"https://docs.google.com/drawings/d/e/2PACX-1vSh4NDIoVALgt_c-A-JGG9oD11LjqprLqwDhaYhCpSK9L1xnmhEI7gwk8sV8Gk5ngxlU-gI11fmAV9j/pub?w=1169&h=701\" style=\"height:250px\"></center>"
   ]
  },
  {
   "cell_type": "markdown",
   "metadata": {},
   "source": [
    "<a id='task3d'></a>\n",
    "\n",
    "## <span style=\"color:blue\">Task 3d: Breadboarding the Sense \\& Process Blocks</span>\n",
    "\n",
    "<font color=red><b>Reminder</b></font>: Reference the [Lab Equipment Guide](https://docs.google.com/document/d/e/2PACX-1vTVrGBDbRfVI0_LjSeTfw8doili8iS_E_9Fwdk2UShgf7WAgVVoHtyMOpjXadXwD45HNXUbb2ASF18H/pub) for information about your lab kit\n",
    "\n",
    "#### Materials\n",
    "* Breadboard + MSP + Boosterpack - Previous Subsection\n",
    "* 1x  $22pF$ Capacitor ([smaller rounder capacitor](https://docs.google.com/document/d/e/2PACX-1vTVrGBDbRfVI0_LjSeTfw8doili8iS_E_9Fwdk2UShgf7WAgVVoHtyMOpjXadXwD45HNXUbb2ASF18H/pub#h.wwd5jmoh5lr4)) - Kit\n",
    "* 1x $100k\\Omega$ Resistor (brown - black - yellow - gold) - Kit\n",
    "* 2x Male-to-Female Wires - Kit\n",
    "\n",
    "With the Op Amp chip in place and power wires connected to the breadboard (with the MSP **unplugged** from your PC), it is time to start building the <font color=orange><b>Sense</b></font> and <font color=green><b>Process</b></font> blocks onto the breadboard. Below is a circuit schematic view of what you will be implementing. **Do not start breadboarding yet**."
   ]
  },
  {
   "cell_type": "markdown",
   "metadata": {},
   "source": [
    "<center><img src=\"img/sense-process-schematic.png\" align=\"center\" style=\"height:300px\"></center>"
   ]
  },
  {
   "cell_type": "markdown",
   "metadata": {},
   "source": [
    "Comparing this schematic with your current breadboard, you should already have the Op Amp, $3.3V$, and Ground in place (double check to see if the $V^-$ of the Op Amp is connected to the ground rail). You are missing the following:\n",
    "\n",
    "1. $22pF$ Capacitor ([smaller rounder capacitor](https://docs.google.com/document/d/e/2PACX-1vTVrGBDbRfVI0_LjSeTfw8doili8iS_E_9Fwdk2UShgf7WAgVVoHtyMOpjXadXwD45HNXUbb2ASF18H/pub#h.wwd5jmoh5lr4))\n",
    "1. $100k\\Omega$ Resistor (Brown - Black - Yellow - Gold)\n",
    "1. $V_x$ (from Boosterpack; use a Male-Female jumper wire)\n",
    "1. $V_{+}$ ($C_{ref}$ from Boosterpack; use a Male-Female jumper wire)\n",
    "\n",
    "**Disclaimer: $V_{+}$ is the name of the node at the top plate of the reference capacitor $C_{ref}$. The pin marked `Cref` on the Boosterpack represents the same node and should be connected to the top plate of $C_{ref}$. We realize that this can be confusing, but unfortunately it cannot be changed on the PCB.**\n",
    "\n",
    "<font color=red><b>Now is the time to breadboard</b></font>. Add the missing components in the list above in order (adding in components before wires is usually easier). To find $V_x$ and $C_{ref}$ on the Boosterpack, see the image below and find the text on the Booster pack that corresponds to the pin in the area circled in <span style='color:blue; font-weight:bold'>blue</span>. Remember that the rows of the breadboard are connected, and use the LMC6482 pinout diagram to figure out where the Op Amp resides in the chip. For the sake of consistency, we will ask you to use **Op Amp A**. The terminals of the Op Amp have been labeled in blue Serif text on the schematic - these number correspond to the pin numbers on the pinout diagram for the LMC6482.\n",
    "\n",
    "Tips when breadboarding:\n",
    "1. Take your time - trace all the nodes on both the schematic and breadboard to make sure they are connected either through a wire or through the breadboard.\n",
    "2. Closely reference the pinout diagram - this is the only way to know where the Op Amp is in the chip. \n",
    "3. Use the `GND` rail - it goes all the way up and down the breadboard because it is a very common connection point, use it!"
   ]
  },
  {
   "cell_type": "markdown",
   "metadata": {},
   "source": [
    "<center><img src=\"https://docs.google.com/drawings/d/e/2PACX-1vSh4NDIoVALgt_c-A-JGG9oD11LjqprLqwDhaYhCpSK9L1xnmhEI7gwk8sV8Gk5ngxlU-gI11fmAV9j/pub?w=1169&h=701\" style=\"height:250px\"> <img src=\"img/opamp-with-chip.png\" style=\"height:150px\"> </center>\n",
    "\n",
    "<center><img src=\"img/sense-process-schematic.png\" align=\"center\" style=\"height:500px\"></center>"
   ]
  },
  {
   "cell_type": "markdown",
   "metadata": {},
   "source": [
    "Double check to make sure your breadboarded circuit matches the schematic above. A couple questions to ask yourself:\n",
    "1. Do I have a resistor and a capacitor in the breadboard? \n",
    "1. Are they the $22pF$ and $100k\\Omega$ variants? (*Note on resistor below*)\n",
    "1. Are all four pins from the Boosterpack connected to the breadboard? Did I mix any of them up?\n",
    "1. Is the Op Amp plugged in correctly with the notch facing up? \n",
    "1. Unplug your Op Amp to make sure non of the pins have been accidentally bent and folded underneath the chip.\n",
    "\n",
    "With this part of the circuit complete, we can now decide on a $V_{x}$ value. It is called $V_{x}$ on the Boosterpack because it is a voltage output we can set, hence the $x$. In this specific circuit, we are comparing this “reference” voltage to our charge sharing node voltage."
   ]
  },
  {
   "cell_type": "markdown",
   "metadata": {},
   "source": [
    "### **Why is there a resistor?**\n",
    "\n",
    "In lecture, we do not discuss the touchscreen circuit with the $100k\\Omega$ resistor - so why does it exist in lab? Conceptually, the circuit would function correctly without the resistor. The resistor only adds a discharge path for the shared charge, which allows current to leak *out* of the capacitors, and makes the circuit worse. So why bother with it at all? The reason is the $100k\\Omega$ resistor helps stabilize the $V_{+}$ node. This node is completely disconnected from any power or ground. The input resistance of the Op Amp is infinite. Thus, if the resistor is not there, the $V_{+}$ node is left completely floating. Floating nodes are traditionally not very stable (as the name might also imply) and are very susceptible to background electrical interference. By draining the shared charge slowly, this creates a reference to ground, making the node stable, increasing the repeatability and robustness of the circuit."
   ]
  },
  {
   "cell_type": "markdown",
   "metadata": {},
   "source": [
    "**Picking a $V_{x}$ Value**\n",
    "\n",
    "Run the code block below to recall your $V_{+}$ terminal <span style='color:blue'>$(3)$</span> voltages for both no touch and with touch scenarios."
   ]
  },
  {
   "cell_type": "code",
   "execution_count": null,
   "metadata": {},
   "outputs": [],
   "source": [
    "print(f\"V+ no touch: {v_no_touch}\\nV+ with touch: {v_w_touch}\")"
   ]
  },
  {
   "cell_type": "markdown",
   "metadata": {},
   "source": [
    "We must choose a $V_{x}$ value that is suitable to distinguish between these two voltages. \n",
    "\n",
    "<span style='color:red;font-weight:bold'>Select a voltage reference $V_{x}$ such that the output of the Op Amp will be $0V$ when there is no touch and $3.3V$ when there is a touch detected.</span>\n",
    "\n",
    "*Hint: You probably don't want to pick values that are exactly `V+ no touch` or `V+ with touch` since that would allow for no margin of error.*"
   ]
  },
  {
   "cell_type": "markdown",
   "metadata": {},
   "source": [
    "\n",
    "|**Chosen $V_{x}$** |         \n",
    "| :---: | \n",
    "| `YOUR ANSWER HERE` |\n"
   ]
  },
  {
   "cell_type": "code",
   "execution_count": null,
   "metadata": {},
   "outputs": [],
   "source": [
    "v_x = #YOUR ANSWER HERE\n",
    "autograde(v_x, question=\"v_x\", tolerance_pct=10.4762)"
   ]
  },
  {
   "cell_type": "markdown",
   "metadata": {},
   "source": [
    "<center><span style='font-size:20px; font-weight:bold'>This completes our Processing block!</span></center>\n",
    "\n",
    "***"
   ]
  },
  {
   "cell_type": "markdown",
   "metadata": {},
   "source": [
    "<a id='task4'></a>\n",
    "\n",
    "# <span style=\"color:blue\">Task 4: Actuation Block</span>\n",
    "\n",
    "<font color=red><b>Reminder</b></font>: Reference the [Lab Equipment Guide](https://docs.google.com/document/d/e/2PACX-1vTVrGBDbRfVI0_LjSeTfw8doili8iS_E_9Fwdk2UShgf7WAgVVoHtyMOpjXadXwD45HNXUbb2ASF18H/pub) for information about your lab kit\n",
    "\n",
    "#### Materials\n",
    "* Previous Breadboarded Circuit with MSP + Boosterpack\n",
    "* 1x 330 Ohm Resistor (Orange-Orange-Brown-Gold) - Kit\n",
    "* 1x LED (any color) - Kit\n",
    "\n",
    "We will be finishing off the lab by adding the actuation block. We would like our circuit to actuate an LED whenever there is a touch present. To do this, we will add the LED and a current limiting resistor to the output of the Op Amp from the circuit we have already breadboarded in the previous section. Observe the complete circuit schematic below."
   ]
  },
  {
   "cell_type": "markdown",
   "metadata": {},
   "source": [
    "<center><img src=\"img/breadboard-full-schematic.png\" align=\"center\" style=\"height:400px\"></center>\n",
    "\n",
    "<center> <img src=\"img/opamp-with-chip.png\" style=\"height:150px\"> </center>"
   ]
  },
  {
   "cell_type": "markdown",
   "metadata": {},
   "source": [
    "Using both the schematic and the LMC6482 pin out digram, <span style='color:red;font-weight:bold'>add in an LED and $330\\Omega$ resistor (orange-orange-brown-gold)</span>. **The LED has directionality - the longer leg should go to the output of the Op Amp, and the shorter leg to the resistor**. The MSP should still **not be plugged in**. Some questions to ask yourself:\n",
    "\n",
    "1. Is the node between the LED and resistor properly its own node? Make sure that the short leg of the LED and the resistor are **not** connected to the output of the Op Amp.\n",
    "1. Is the resistor going to ground? Make sure the current has somewhere to go, else the LED cannot turn on.\n",
    "1. Am I using the right output of the Op Amp? We are using Op Amp A, so the output pin should be pin number one <span style='color:blue'>$(1)$</span>.\n",
    "\n",
    "If you would like to reveal a render of a correct breadboard setup, run the code block below. **This will give you the exact set up to do this lab, if you don't want to be spoiled, do not run this code cell**."
   ]
  },
  {
   "cell_type": "code",
   "execution_count": null,
   "metadata": {},
   "outputs": [],
   "source": [
    "from IPython.display import Image\n",
    "input(\"You are about to view the solution breadboard. Hit Enter to proceed.\") \n",
    "Image(filename='img/complete_bb.png')"
   ]
  },
  {
   "cell_type": "markdown",
   "metadata": {},
   "source": [
    "The full circuit with the Boosterpack is outlined below. Everything on the left hand side of the green arrows are components that are on the Boosterpack. At this point, <span style='color:red;font-weight:bold'>you should have the entire circuit completed on your breadboard</span>, with four Male-to-Female wires going from the Boosterpack to different parts of the breadboard."
   ]
  },
  {
   "cell_type": "markdown",
   "metadata": {},
   "source": [
    "<center><img src=\"https://docs.google.com/drawings/d/e/2PACX-1vSHHT49WBrOs16aBaWSTP0Kl6WpNvuVPcGPgDEhfE-q6l3GeIbJQ1dO4cyOkMR5uv4WtJO3Oan8yW-d/pub?w=1433&h=753\" align=\"center\" style=\"height:455px\"></center>"
   ]
  },
  {
   "cell_type": "markdown",
   "metadata": {},
   "source": [
    "<center><span style='font-size:20px; font-weight:bold'>This completes our Actuation block!</span></center>\n",
    "\n",
    "***"
   ]
  },
  {
   "cell_type": "markdown",
   "metadata": {},
   "source": [
    "<a id='task5'></a>\n",
    "\n",
    "# <span style=\"color:blue\">Task 5: Putting it All Together</span>"
   ]
  },
  {
   "cell_type": "markdown",
   "metadata": {},
   "source": [
    "<a id='task5a'></a>\n",
    "## <span style=\"color:blue\">Task 5a: Simulation</span>\n",
    "\n",
    "Click on the link to open a [Falstad Simulation](https://www.falstad.com/circuit/circuitjs.html?ctz=CQAgjCAMB0l3AWAnC1b0DYrQOw8gMwIE4CsGAHAExiklIimmMjGMCmAtGGAFADGITgQJYqOKkJFYCkBFBAFopBFwYw4EDZD6DuCeeMn75s+ZBBVoVeLbtwqXCtk0udvAO5TRlid7GQzpC8AEpCVAgWYEjGEVFUQQqRitAEChYwpJ7hyVQR4fl55tkmlvmlRlAlRWXyFfnBXvV1CM41jUKttZ1t5FUATj2+xl1mCmB2JV1UfZzTfh1zbfkEku28AG6KkmOrln0ZrBnK6dhZYBiS0WvJ15YUbSAAJuwAZgCGAK4ANgAunN92E9wKcNHxBncEs47qtDiIOmADJZbjFkRkStJLIFOhcsUEBDixH45rixlE1G4tLB3ABnQl4+mVKIgD7fGnsXgXCzCOQMzhxBkQGzgey2DG8mzOYQ+SVVLk5Cw1fm5B4g4UTUVwXjvbZo8AJPUMJRpKL2U4a+DZMAGgWIwzJYIADyEpFoyLSc3EyKw8jdABUAPaffgACwAOjSAMoeACWv1DvGdwioYko4QozHEEF9zAAwgAHGOO9jfRNCa0MBLciZCihpHMgXP9N5lpZCpAQOYiSxIeQN3OvGMAOwA5ux+rwbDghJc+xRubPWBh5HnAe8hxHo3GE1tOIvSAa9-lWocrvAWIcYDNNi6kSfbyuDYqRXALylEbQYhg6KQKEgcEgJrWFkI4zvkB5SvuSLolOD6sPOcEIMuLAACL9DGGzsJusbxiGvCgZwKiPlKRGMNBVSwfyfh3PyqpgDgWDMGhGFYVGOEJpRNQzFg3CogKq7sOu2Hbnhzo0JmfgRIYZCsOAzAADIAKIoWWCDTtE8RYNE9ZyY2AYALb5u8-TvL8AYTs6CDMAQEwgJcihgDpboAGqOq2VBIM4AGKCA1CybIjbvEZ-BxixEaBsG4Y0gACkWJatpEaQHmk9GMSmsnCtFa7shG-DfDG-AANYRgGG40r8IasRFobCbhEZmRGNIxvpPymaxFXtUGNU0gGrwRu8EaDqO47QLw0AgCOQ7AsyEAQJNwJaJYIAhOwTXleZinfPpEZgBGGRhnt1LwHwCC2XMow+OdziiM4kT-hNU1QIddh8ONLwfD8vzjCCc2PYtkgAOL9EGU2bdtNJaHtvCndyN2KJdcNw3d07vV8fzgFDMPptdl1QooabI88bxo19u00sEWPcAx8M8al+O3ZA92o59GPk9DtnygQB7gBgFgEBQfaMyjxMs2TFNnQhmKcJLBNC0TH3o2L7Nwj4fOy0zIuK1DTTcfcUq62SvABuAECJI6FA1lc2CLeYwHjBAQGQDM4ySMczvxD5GjuyAzlhvmEYABS5gZRkmWZ-QAJQRhs0ARq5vBAA) of our capacitive touch pixel. Make sure you understand how charge is shared in the four phases of the sense block, the resulting voltage at the top plate of $C_{ref}$ is compared with $V_x$ by the comparator in the process block, and the LED is turned on based on the output of the comparator in the actuation block. Observe how the LED lights up in the simulation when `Touch Switch` is closed.\n",
    "\n",
    "Note: Ground nodes in the Falstad simulation are represented by a box labeled `gnd`."
   ]
  },
  {
   "cell_type": "markdown",
   "metadata": {},
   "source": [
    "<a id='task5b'></a>\n",
    "## <span style=\"color:blue\">Task 5b: Completing the Capacitive Touch Pixel Implementation</span>\n",
    "\n",
    "<font color=red><b>Reminder</b></font>: Reference the [Lab Equipment Guide](https://docs.google.com/document/d/e/2PACX-1vTVrGBDbRfVI0_LjSeTfw8doili8iS_E_9Fwdk2UShgf7WAgVVoHtyMOpjXadXwD45HNXUbb2ASF18H/pub) for information about your lab kit\n",
    "\n",
    "Now that we have the full circuit set up, the MSP can be powered up and code can be uploaded to it in order to control the switches. <span style='color:red;font-weight:bold'>Plug in your MSP to your computer</span>.\n",
    "\n",
    "Open `Switch_Control.ino` from the `Switch_Control` folder found in this lab folder. (If you can't find it, you can also download it from [Google Drive](https://drive.google.com/drive/folders/1VI-q12vEzvYjMAzBMtIedrbgWF6ia7SW?usp=sharing) and extract the zip file.)"
   ]
  },
  {
   "cell_type": "markdown",
   "metadata": {},
   "source": [
    "You will be uploading this sketch to the MSP. Read the section on [**Uploading Code**](https://docs.google.com/document/d/e/2PACX-1vTVrGBDbRfVI0_LjSeTfw8doili8iS_E_9Fwdk2UShgf7WAgVVoHtyMOpjXadXwD45HNXUbb2ASF18H/pub#h.6wu473h55i4) in the Lab Equipment Guide to jog your memory. Make sure to select the correct COM port.\n",
    "\n",
    "Once uploaded, open up **Serial Monitor** either by hitting `Ctrl+Shift+M` or going to `Tools>Serial Monitor`. **Hit the RST button on the MSP** and you should be greeted with `Starting Capacitive Touchscreen Switch Control` text box. If not, make sure that your baud rate is properly set to **`115200`** or try reuploading.\n",
    "\n",
    "The code will automatically start toggling the Drive and Clean switches at a fine tuned rhythm. In the **Serial Monitor**, you are given the freedom to set $V_{x}$, to any voltage you desire, between $0V$ and $3.3V$. You can do this by simply typing a voltage value (without the 'V') into the text box and hitting `Enter` or clicking `Send`. After you do that, you should see text pop up notifying you that you have set the DAC to the voltage you desired.\n",
    "\n",
    "**DAC** stands for Digital-to-Analog Converter, which take a Digital input (the number you typed) and converts it to an analog voltage (the voltage being driven at $V_{x}$). <span style='color:red;font-weight:bold'>The default DAC value has been set to 0.5V</span>. This is the $V_{x}$ that is estimated to work best with a properly built circuit. "
   ]
  },
  {
   "cell_type": "markdown",
   "metadata": {},
   "source": [
    "<center><img src=\"img/switch_control.png\" align=\"center\" style=\"height:500px\"></center>"
   ]
  },
  {
   "cell_type": "markdown",
   "metadata": {},
   "source": [
    "With $V_{x}$ set to $0.5V$, your circuit should operate correctly. **Placing your finger on the $C_{pixel}$ region on the Boosterpack should result in the LED turning on.**\n",
    "\n",
    "<center><img src=\"img/realworld.png\" align=\"center\" style=\"height:300px\"></center>\n",
    "<br> <br>\n",
    "If the desired behavior is not achieved, here are a few potential debugging points to look out for with the full schematic pictures below:"
   ]
  },
  {
   "cell_type": "markdown",
   "metadata": {},
   "source": [
    "<center><img src=\"img/breadboard-full-schematic.png\" align=\"center\" style=\"height:400px\"></center>\n",
    "\n",
    "<center> <img src=\"img/opamp-with-chip.png\" style=\"height:150px\"> </center>"
   ]
  },
  {
   "cell_type": "markdown",
   "metadata": {},
   "source": [
    "1. Make sure all your Boosterpack connections are going where they are supposed to be. Cross check the Boosterpack text (silkscreen) and follow the wire to a node. Make sure that the node it is traveling to is correct by checking the schematic.\n",
    "1. Double check your capacitor. The one you should be using is the $22pF$ capacitor which is much shorter than the $0.1uF$ capacitor. The $22pF$ capacitor is also perfectly round and has \"22\" written on the back of it (it might have rubbed off).\n",
    "1. Check to see if your LED is the right orientation - the long leg should be going to the Op Amp output, and the short leg to a resistor. The resistor should **not** be connected to the Op Amp output.\n",
    "1. Enter `0.5` into the Serial Monitor to make sure $V_{x}$ is set to $0.5V$.\n",
    "\n",
    "After some cross checking and you cannot find the error, ask your lab group for advice, or call over a TA.\n",
    "\n",
    "## Congratulations! You have successfully implemented a capacitive touch pixel!"
   ]
  },
  {
   "cell_type": "markdown",
   "metadata": {},
   "source": [
    "<a id='checkoff'></a>\n",
    "## Checkoff\n",
    "When you are ready to get checked off,\n",
    "1. Fill out the checkoff google form. **[Checkoff Form](https://docs.google.com/forms/d/e/1FAIpQLSeq9w_gvQKS37hUXgTDtiYhu9gNmu5OFzglIYAF4nfXQc5mOA/viewform?usp=sf_link)**\n",
    "2. Submit a **checkoff** request on the lab queue. **[Checkoff queue](https://lab.eecs16a.org)** Only one person from your group should submit the queue request, but everyone must submit their own google form. \n",
    "\n",
    "Your GSI or a Lab Assistant will join you when they are available and go through some checkoff questions with your group. They will go through the checkoff list in order. Please be patient!\n",
    "\n",
    "<!--\"Oh hey.\" - Thomas, Sp18-->\n",
    "<!--\"Oh hey there\" - Seiya, Su20-->\n",
    "<!--\"Howdy, folks\" - Ayush, Fa21-->"
   ]
  },
  {
   "cell_type": "markdown",
   "metadata": {},
   "source": [
    "### Buffer Sign Up\n",
    "In case you have **<span style=\"color:red\">missed</span>** any of Touchscreen 1, Touchscreen 2 or Touchscreen 3, please fill out the following google form to sign up for a buffer lab.\n",
    "<br>\n",
    "**[Buffer Sign Up Form](https://docs.google.com/forms/d/e/1FAIpQLSfmFadyFFpCdGEal81LLFWw8WBws0C07_gUWgOIa957a0yh7Q/viewform?usp=sf_link)**\n",
    "\n",
    "### Optional Touch Lab Sign Up\n",
    "\n",
    "We will be hosting an optional lab this semester which gives you the opportunity to learn soldering + build an integrator and other interesting Op Amp configurations!\n",
    "\n",
    "Please fill out the following google form to sign up for the in-person optional touch lab.\n",
    "<br>\n",
    "**[In-Person Optional Touch Lab Sign Up Form](https://docs.google.com/forms/d/e/1FAIpQLSetk-5rq5H6xgEB5K22rMcO-E_bcFnCmmbPjw5-OZs3YSfOZQ/viewform?usp=sf_link)**"
   ]
  }
 ],
 "metadata": {
  "anaconda-cloud": {},
  "kernelspec": {
   "display_name": "Python 3 (ipykernel)",
   "language": "python",
   "name": "python3"
  },
  "language_info": {
   "codemirror_mode": {
    "name": "ipython",
    "version": 3
   },
   "file_extension": ".py",
   "mimetype": "text/x-python",
   "name": "python",
   "nbconvert_exporter": "python",
   "pygments_lexer": "ipython3",
   "version": "3.8.11"
  }
 },
 "nbformat": 4,
 "nbformat_minor": 4
}
