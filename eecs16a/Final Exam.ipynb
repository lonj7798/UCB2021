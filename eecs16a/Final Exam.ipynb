{
 "cells": [
  {
   "cell_type": "code",
   "execution_count": 19,
   "id": "31e71bd4",
   "metadata": {},
   "outputs": [],
   "source": [
    "A = np.array([[-1, 1],\n",
    "              [1, 1]])\n",
    "B = np.array([0, 1]).T"
   ]
  },
  {
   "cell_type": "code",
   "execution_count": 20,
   "id": "f086ac65",
   "metadata": {},
   "outputs": [
    {
     "data": {
      "text/plain": [
       "array([1/2, 1/2])"
      ]
     },
     "execution_count": 20,
     "metadata": {},
     "output_type": "execute_result"
    }
   ],
   "source": [
    "np.linalg.inv(A).dot(B)"
   ]
  },
  {
   "cell_type": "markdown",
   "id": "b6353cfc",
   "metadata": {},
   "source": [
    "## $\\vec{v} = (A^TA)^{-1}A^T\\vec{x}$"
   ]
  },
  {
   "cell_type": "code",
   "execution_count": 35,
   "id": "e4b1a624",
   "metadata": {},
   "outputs": [],
   "source": [
    "import numpy as np\n",
    "A = np.array([[1, 0],\n",
    "              [1/3, 2/3],\n",
    "              [2/3, 1/3]]\n",
    "              )\n",
    "b = np.array([3, 2, 2]).T\n",
    "\n",
    "x = np.linalg.inv(A.T.dot(A)).dot(A.T).dot(b)"
   ]
  },
  {
   "cell_type": "code",
   "execution_count": 36,
   "id": "e63e45b2",
   "metadata": {},
   "outputs": [
    {
     "name": "stdout",
     "output_type": "stream",
     "text": [
      "[17/6 4/3]\n"
     ]
    }
   ],
   "source": [
    "import fractions\n",
    "np.set_printoptions(formatter={'all':lambda x: str(fractions.Fraction(x).limit_denominator())})\n",
    "print(x)"
   ]
  },
  {
   "cell_type": "code",
   "execution_count": null,
   "id": "3baf1b72",
   "metadata": {},
   "outputs": [],
   "source": []
  },
  {
   "cell_type": "code",
   "execution_count": 1,
   "id": "6074d418",
   "metadata": {},
   "outputs": [],
   "source": [
    "y = lambda x: x^2 -2*x+1"
   ]
  },
  {
   "cell_type": "code",
   "execution_count": 4,
   "id": "a50c0778",
   "metadata": {},
   "outputs": [],
   "source": [
    "v = np.array([y(-2), y(-1), y(0), y(1), y(2), y(3), y(4)])\n",
    "v1 = np.array([1, 1, 1, 1, 1])\n",
    "v2 = np.array([1, 1, 1, -1, 1])\n",
    "v3 = np.array([1, -1, 1, -1, 1])"
   ]
  },
  {
   "cell_type": "code",
   "execution_count": null,
   "id": "820107cd",
   "metadata": {},
   "outputs": [],
   "source": []
  },
  {
   "cell_type": "code",
   "execution_count": null,
   "id": "2370b35e",
   "metadata": {},
   "outputs": [],
   "source": []
  },
  {
   "cell_type": "code",
   "execution_count": 5,
   "id": "09e8ebe2",
   "metadata": {},
   "outputs": [],
   "source": [
    "p = np.array([60, 40, 50, 40])\n",
    "x = np.array([.5, -1, .5, -2])"
   ]
  },
  {
   "cell_type": "code",
   "execution_count": 7,
   "id": "f70e06e2",
   "metadata": {},
   "outputs": [
    {
     "name": "stdout",
     "output_type": "stream",
     "text": [
      "[-120 -50 -140 -65 -10 -15 20]\n"
     ]
    }
   ],
   "source": [
    "print(np.correlate(p, x, 'full')) # k =0  -> corr = -3"
   ]
  },
  {
   "cell_type": "code",
   "execution_count": 8,
   "id": "8c20aeea",
   "metadata": {},
   "outputs": [
    {
     "ename": "NameError",
     "evalue": "name 'plt' is not defined",
     "output_type": "error",
     "traceback": [
      "\u001b[0;31m---------------------------------------------------------------------------\u001b[0m",
      "\u001b[0;31mNameError\u001b[0m                                 Traceback (most recent call last)",
      "\u001b[0;32m/var/folders/m5/b577jf4d20jc309f4phr3lvr0000gn/T/ipykernel_1108/1447925644.py\u001b[0m in \u001b[0;36m<module>\u001b[0;34m\u001b[0m\n\u001b[0;32m----> 1\u001b[0;31m \u001b[0mplt\u001b[0m\u001b[0;34m.\u001b[0m\u001b[0mscatter\u001b[0m\u001b[0;34m(\u001b[0m\u001b[0mrange\u001b[0m\u001b[0;34m(\u001b[0m\u001b[0;34m-\u001b[0m\u001b[0;36m2\u001b[0m\u001b[0;34m,\u001b[0m \u001b[0;36m3\u001b[0m\u001b[0;34m,\u001b[0m \u001b[0;36m1\u001b[0m\u001b[0;34m)\u001b[0m\u001b[0;34m,\u001b[0m \u001b[0mnp\u001b[0m\u001b[0;34m.\u001b[0m\u001b[0mcorrelate\u001b[0m\u001b[0;34m(\u001b[0m\u001b[0mnp\u001b[0m\u001b[0;34m.\u001b[0m\u001b[0marray\u001b[0m\u001b[0;34m(\u001b[0m\u001b[0;34m[\u001b[0m\u001b[0;36m0\u001b[0m\u001b[0;34m,\u001b[0m \u001b[0;34m-\u001b[0m\u001b[0;36m1\u001b[0m\u001b[0;34m,\u001b[0m \u001b[0;36m2\u001b[0m\u001b[0;34m]\u001b[0m\u001b[0;34m)\u001b[0m\u001b[0;34m,\u001b[0m \u001b[0mnp\u001b[0m\u001b[0;34m.\u001b[0m\u001b[0marray\u001b[0m\u001b[0;34m(\u001b[0m\u001b[0;34m[\u001b[0m\u001b[0;34m-\u001b[0m\u001b[0;36m2\u001b[0m\u001b[0;34m,\u001b[0m \u001b[0;36m3\u001b[0m\u001b[0;34m,\u001b[0m \u001b[0;36m0\u001b[0m\u001b[0;34m]\u001b[0m\u001b[0;34m)\u001b[0m\u001b[0;34m,\u001b[0m \u001b[0;34m'full'\u001b[0m\u001b[0;34m)\u001b[0m\u001b[0;34m)\u001b[0m\u001b[0;34m\u001b[0m\u001b[0;34m\u001b[0m\u001b[0m\n\u001b[0m",
      "\u001b[0;31mNameError\u001b[0m: name 'plt' is not defined"
     ]
    }
   ],
   "source": [
    "plt.scatter(range(-2, 3, 1), np.correlate(np.array([0, -1, 2]), np.array([-2, 3, 0]), 'full'))"
   ]
  },
  {
   "cell_type": "code",
   "execution_count": 1,
   "id": "897f0f5a",
   "metadata": {},
   "outputs": [
    {
     "data": {
      "text/plain": [
       "1.0"
      ]
     },
     "execution_count": 1,
     "metadata": {},
     "output_type": "execute_result"
    }
   ],
   "source": [
    "25/4 - 5 * 7/2 + 49/4"
   ]
  },
  {
   "cell_type": "code",
   "execution_count": 6,
   "id": "976ff61d",
   "metadata": {},
   "outputs": [
    {
     "data": {
      "text/plain": [
       "69"
      ]
     },
     "execution_count": 6,
     "metadata": {},
     "output_type": "execute_result"
    }
   ],
   "source": [
    "4 + 25 + 36+4"
   ]
  },
  {
   "cell_type": "code",
   "execution_count": 10,
   "id": "9bcbe79b",
   "metadata": {},
   "outputs": [],
   "source": [
    "x1 = np.array([2, 0, -1, 1])\n",
    "x2 = np.array([1, -1, 1, -1])\n",
    "x3 = np.array([2, -2, -8, 7])\n",
    "x4 = np.array([4, 1, -2, 2])"
   ]
  },
  {
   "cell_type": "code",
   "execution_count": 11,
   "id": "67f2c7e8",
   "metadata": {},
   "outputs": [
    {
     "name": "stdout",
     "output_type": "stream",
     "text": [
      "0\n"
     ]
    }
   ],
   "source": [
    "print(np.dot(x1, x2))"
   ]
  },
  {
   "cell_type": "code",
   "execution_count": 12,
   "id": "8db51152",
   "metadata": {},
   "outputs": [
    {
     "name": "stdout",
     "output_type": "stream",
     "text": [
      "19\n",
      "12\n"
     ]
    }
   ],
   "source": [
    "print(np.dot(x1, x3))\n",
    "print(np.dot(x1, x4))"
   ]
  },
  {
   "cell_type": "code",
   "execution_count": 29,
   "id": "469b1215",
   "metadata": {},
   "outputs": [],
   "source": [
    "A = np.array([[0.5, 0, 0],\n",
    "              [0.5, 0, 0],\n",
    "              [0, 0, 0]])\n",
    "B = np.array([1, 0, 0]).T"
   ]
  },
  {
   "cell_type": "code",
   "execution_count": 34,
   "id": "2ff9e486",
   "metadata": {},
   "outputs": [
    {
     "data": {
      "text/plain": [
       "array([[0., 0., 0.],\n",
       "       [0., 0., 0.],\n",
       "       [0., 0., 0.]])"
      ]
     },
     "execution_count": 34,
     "metadata": {},
     "output_type": "execute_result"
    }
   ],
   "source": [
    "A.dot(A).dot(B)"
   ]
  },
  {
   "cell_type": "code",
   "execution_count": 86,
   "id": "ea73d9cb",
   "metadata": {},
   "outputs": [],
   "source": [
    "A = np.array([[0.5, 0.5, 0],\n",
    "              [0.5, 0.5, 0],\n",
    "              [0, 0, 1]])\n",
    "B = np.array([[1, 0, 0],\n",
    "              [0, 0.5, 0.5],\n",
    "              [0, 0.5, 0.5]])"
   ]
  },
  {
   "cell_type": "code",
   "execution_count": 87,
   "id": "0df785aa",
   "metadata": {},
   "outputs": [],
   "source": [
    "C = np.array([1, 0, 0]).T"
   ]
  },
  {
   "cell_type": "code",
   "execution_count": 88,
   "id": "a5b35b18",
   "metadata": {},
   "outputs": [],
   "source": [
    "X = B.dot(A)"
   ]
  },
  {
   "cell_type": "code",
   "execution_count": null,
   "id": "19891059",
   "metadata": {},
   "outputs": [],
   "source": []
  },
  {
   "cell_type": "code",
   "execution_count": 95,
   "id": "a880e354",
   "metadata": {},
   "outputs": [],
   "source": [
    "X = np.array([[1, 1],\n",
    "              [0.5, 0.5]])"
   ]
  },
  {
   "cell_type": "code",
   "execution_count": 96,
   "id": "04928f53",
   "metadata": {},
   "outputs": [],
   "source": [
    "K = X\n",
    "for i in range(100):\n",
    "    K = K.dot(X)"
   ]
  },
  {
   "cell_type": "code",
   "execution_count": 97,
   "id": "aba1ea5e",
   "metadata": {},
   "outputs": [],
   "source": [
    "C = np.array([0.5, 0.5]).T"
   ]
  },
  {
   "cell_type": "code",
   "execution_count": 98,
   "id": "cbfd96ee",
   "metadata": {},
   "outputs": [
    {
     "data": {
      "text/plain": [
       "array([406561177535215232, 203280588767607616])"
      ]
     },
     "execution_count": 98,
     "metadata": {},
     "output_type": "execute_result"
    }
   ],
   "source": [
    "K.dot(C)"
   ]
  },
  {
   "cell_type": "code",
   "execution_count": 85,
   "id": "cd58ce91",
   "metadata": {},
   "outputs": [
    {
     "data": {
      "text/plain": [
       "array([1/2, 1/4, 1/4])"
      ]
     },
     "execution_count": 85,
     "metadata": {},
     "output_type": "execute_result"
    }
   ],
   "source": [
    "X.dot(C)"
   ]
  },
  {
   "cell_type": "code",
   "execution_count": 69,
   "id": "0ac9f04b",
   "metadata": {},
   "outputs": [
    {
     "data": {
      "text/plain": [
       "array([3/8, 3/8, 1/4])"
      ]
     },
     "execution_count": 69,
     "metadata": {},
     "output_type": "execute_result"
    }
   ],
   "source": [
    "X.dot(X).dot(C)"
   ]
  },
  {
   "cell_type": "code",
   "execution_count": null,
   "id": "6f07e57e",
   "metadata": {},
   "outputs": [],
   "source": []
  }
 ],
 "metadata": {
  "kernelspec": {
   "display_name": "Python 3 (ipykernel)",
   "language": "python",
   "name": "python3"
  },
  "language_info": {
   "codemirror_mode": {
    "name": "ipython",
    "version": 3
   },
   "file_extension": ".py",
   "mimetype": "text/x-python",
   "name": "python",
   "nbconvert_exporter": "python",
   "pygments_lexer": "ipython3",
   "version": "3.8.11"
  }
 },
 "nbformat": 4,
 "nbformat_minor": 5
}
