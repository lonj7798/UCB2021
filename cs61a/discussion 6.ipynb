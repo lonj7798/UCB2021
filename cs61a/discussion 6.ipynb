{
 "cells": [
  {
   "cell_type": "code",
   "execution_count": 1,
   "id": "c9b1cb87",
   "metadata": {},
   "outputs": [
    {
     "data": {
      "text/plain": [
       "True"
      ]
     },
     "execution_count": 1,
     "metadata": {},
     "output_type": "execute_result"
    }
   ],
   "source": [
    "s1 = [1, 2, 3]\n",
    ">>> s2 = s1\n",
    ">>> s1 is s2"
   ]
  },
  {
   "cell_type": "code",
   "execution_count": 2,
   "id": "dbc0766d",
   "metadata": {},
   "outputs": [
    {
     "data": {
      "text/plain": [
       "6"
      ]
     },
     "execution_count": 2,
     "metadata": {},
     "output_type": "execute_result"
    }
   ],
   "source": [
    "s2.extend([5, 6])\n",
    ">>> s1[4]"
   ]
  },
  {
   "cell_type": "code",
   "execution_count": 3,
   "id": "13a9e1de",
   "metadata": {},
   "outputs": [
    {
     "data": {
      "text/plain": [
       "[-1, 0, 1]"
      ]
     },
     "execution_count": 3,
     "metadata": {},
     "output_type": "execute_result"
    }
   ],
   "source": [
    "s1.append([-1, 0, 1])\n",
    ">>> s2[5]"
   ]
  },
  {
   "cell_type": "code",
   "execution_count": 4,
   "id": "e0b0d9ab",
   "metadata": {},
   "outputs": [
    {
     "data": {
      "text/plain": [
       "5"
      ]
     },
     "execution_count": 4,
     "metadata": {},
     "output_type": "execute_result"
    }
   ],
   "source": [
    "s3 = s2[:]\n",
    ">>> s3.insert(3, s2.pop(3))\n",
    ">>> len(s1)"
   ]
  },
  {
   "cell_type": "code",
   "execution_count": 5,
   "id": "3e1e7df9",
   "metadata": {},
   "outputs": [
    {
     "data": {
      "text/plain": [
       "True"
      ]
     },
     "execution_count": 5,
     "metadata": {},
     "output_type": "execute_result"
    }
   ],
   "source": [
    "s1[4] is s3[6]"
   ]
  },
  {
   "cell_type": "code",
   "execution_count": 6,
   "id": "ad28d5c0",
   "metadata": {},
   "outputs": [
    {
     "data": {
      "text/plain": [
       "1"
      ]
     },
     "execution_count": 6,
     "metadata": {},
     "output_type": "execute_result"
    }
   ],
   "source": [
    "s3[s2[4][1]]"
   ]
  },
  {
   "cell_type": "code",
   "execution_count": 7,
   "id": "44fd2fd3",
   "metadata": {},
   "outputs": [
    {
     "data": {
      "text/plain": [
       "False"
      ]
     },
     "execution_count": 7,
     "metadata": {},
     "output_type": "execute_result"
    }
   ],
   "source": [
    "s1[:3] is s2[:3]"
   ]
  },
  {
   "cell_type": "code",
   "execution_count": 8,
   "id": "1bed52ed",
   "metadata": {},
   "outputs": [
    {
     "data": {
      "text/plain": [
       "True"
      ]
     },
     "execution_count": 8,
     "metadata": {},
     "output_type": "execute_result"
    }
   ],
   "source": [
    "s1[:3] == s2[:3]"
   ]
  },
  {
   "cell_type": "code",
   "execution_count": 9,
   "id": "170e8be3",
   "metadata": {},
   "outputs": [
    {
     "data": {
      "text/plain": [
       "True"
      ]
     },
     "execution_count": 9,
     "metadata": {},
     "output_type": "execute_result"
    }
   ],
   "source": [
    "s1[:3] == s2[:3]"
   ]
  },
  {
   "cell_type": "code",
   "execution_count": 10,
   "id": "4be35ff8",
   "metadata": {},
   "outputs": [
    {
     "data": {
      "text/plain": [
       "2"
      ]
     },
     "execution_count": 10,
     "metadata": {},
     "output_type": "execute_result"
    }
   ],
   "source": [
    "s1[4].append(2)\n",
    ">>> s3[6][3]"
   ]
  },
  {
   "cell_type": "code",
   "execution_count": 11,
   "id": "1f083d81",
   "metadata": {},
   "outputs": [
    {
     "data": {
      "text/plain": [
       "[1, 2, 3, 6, [-1, 0, 1, 2]]"
      ]
     },
     "execution_count": 11,
     "metadata": {},
     "output_type": "execute_result"
    }
   ],
   "source": [
    "s1"
   ]
  },
  {
   "cell_type": "code",
   "execution_count": 12,
   "id": "7890d749",
   "metadata": {},
   "outputs": [
    {
     "data": {
      "text/plain": [
       "[1, 2, 3, 6, [-1, 0, 1, 2]]"
      ]
     },
     "execution_count": 12,
     "metadata": {},
     "output_type": "execute_result"
    }
   ],
   "source": [
    "s2"
   ]
  },
  {
   "cell_type": "code",
   "execution_count": 13,
   "id": "fe7deb3d",
   "metadata": {},
   "outputs": [
    {
     "data": {
      "text/plain": [
       "[1, 2, 3, 5, 5, 6, [-1, 0, 1, 2]]"
      ]
     },
     "execution_count": 13,
     "metadata": {},
     "output_type": "execute_result"
    }
   ],
   "source": [
    "s3"
   ]
  },
  {
   "cell_type": "code",
   "execution_count": 14,
   "id": "e895a9ab",
   "metadata": {},
   "outputs": [],
   "source": [
    "a1 = [1, 2, 3]\n",
    "a2 = a1\n",
    "a3 = [1, 2, 3]"
   ]
  },
  {
   "cell_type": "code",
   "execution_count": 15,
   "id": "df44fe70",
   "metadata": {},
   "outputs": [
    {
     "data": {
      "text/plain": [
       "True"
      ]
     },
     "execution_count": 15,
     "metadata": {},
     "output_type": "execute_result"
    }
   ],
   "source": [
    "a1 is a2"
   ]
  },
  {
   "cell_type": "code",
   "execution_count": 16,
   "id": "48b0123b",
   "metadata": {},
   "outputs": [
    {
     "data": {
      "text/plain": [
       "False"
      ]
     },
     "execution_count": 16,
     "metadata": {},
     "output_type": "execute_result"
    }
   ],
   "source": [
    "a1 is a3"
   ]
  },
  {
   "cell_type": "code",
   "execution_count": 17,
   "id": "eeee644a",
   "metadata": {},
   "outputs": [
    {
     "data": {
      "text/plain": [
       "False"
      ]
     },
     "execution_count": 17,
     "metadata": {},
     "output_type": "execute_result"
    }
   ],
   "source": [
    "a1[:1] is a2[:1]"
   ]
  },
  {
   "cell_type": "code",
   "execution_count": 18,
   "id": "9ce67cbe",
   "metadata": {},
   "outputs": [
    {
     "data": {
      "text/plain": [
       "True"
      ]
     },
     "execution_count": 18,
     "metadata": {},
     "output_type": "execute_result"
    }
   ],
   "source": [
    "a1[:1] == a2[:1]"
   ]
  },
  {
   "cell_type": "code",
   "execution_count": 19,
   "id": "bb8457c0",
   "metadata": {},
   "outputs": [],
   "source": [
    "a1.append(4)"
   ]
  },
  {
   "cell_type": "code",
   "execution_count": 20,
   "id": "5df6066b",
   "metadata": {},
   "outputs": [
    {
     "data": {
      "text/plain": [
       "True"
      ]
     },
     "execution_count": 20,
     "metadata": {},
     "output_type": "execute_result"
    }
   ],
   "source": [
    "a1 is a2"
   ]
  },
  {
   "cell_type": "code",
   "execution_count": 21,
   "id": "62650830",
   "metadata": {},
   "outputs": [
    {
     "data": {
      "text/plain": [
       "[1, 2, 3, 4]"
      ]
     },
     "execution_count": 21,
     "metadata": {},
     "output_type": "execute_result"
    }
   ],
   "source": [
    "a2"
   ]
  },
  {
   "cell_type": "code",
   "execution_count": 22,
   "id": "ba605bef",
   "metadata": {},
   "outputs": [
    {
     "data": {
      "text/plain": [
       "[1, 2, 3, 4]"
      ]
     },
     "execution_count": 22,
     "metadata": {},
     "output_type": "execute_result"
    }
   ],
   "source": [
    "a1"
   ]
  },
  {
   "cell_type": "code",
   "execution_count": 23,
   "id": "b920cb7f",
   "metadata": {},
   "outputs": [],
   "source": [
    "def g(x):\n",
    "    yield x\n",
    "    yield x + 1\n",
    "    return x + 2\n",
    "    yield x + 3"
   ]
  },
  {
   "cell_type": "code",
   "execution_count": 24,
   "id": "0fbab186",
   "metadata": {},
   "outputs": [
    {
     "data": {
      "text/plain": [
       "[2, 3]"
      ]
     },
     "execution_count": 24,
     "metadata": {},
     "output_type": "execute_result"
    }
   ],
   "source": [
    "list(g(2))  # [2, 3]"
   ]
  },
  {
   "cell_type": "code",
   "execution_count": 25,
   "id": "b6b57f1e",
   "metadata": {},
   "outputs": [],
   "source": [
    "def h(x):\n",
    "    y = yield from g(x)\n",
    "    yield y"
   ]
  },
  {
   "cell_type": "code",
   "execution_count": 26,
   "id": "0f333e90",
   "metadata": {},
   "outputs": [
    {
     "data": {
      "text/plain": [
       "[2, 3, 4]"
      ]
     },
     "execution_count": 26,
     "metadata": {},
     "output_type": "execute_result"
    }
   ],
   "source": [
    "list(h(2))  # [2, 3, 4]"
   ]
  },
  {
   "cell_type": "code",
   "execution_count": 27,
   "id": "84c3b179",
   "metadata": {},
   "outputs": [],
   "source": [
    "def add_this_many(x, el, s):\n",
    "    \"\"\" Adds el to the end of s the number of times x occurs in s.\n",
    "    >>> s = [1, 2, 4, 2, 1]\n",
    "    >>> add_this_many(1, 5, s)\n",
    "    >>> s\n",
    "    [1, 2, 4, 2, 1, 5, 5]\n",
    "    >>> add_this_many(2, 2, s)\n",
    "    >>> s\n",
    "    [1, 2, 4, 2, 1, 5, 5, 2, 2]\n",
    "    \"\"\"\n",
    "    \"*** YOUR CODE HERE ***\"\n",
    "    s.extend([el] * x)"
   ]
  },
  {
   "cell_type": "code",
   "execution_count": 28,
   "id": "483c2e0c",
   "metadata": {},
   "outputs": [],
   "source": [
    "s = [1, 2, 4, 2, 1]\n",
    "add_this_many(1, 5, s)"
   ]
  },
  {
   "cell_type": "code",
   "execution_count": 29,
   "id": "993196a0",
   "metadata": {},
   "outputs": [
    {
     "data": {
      "text/plain": [
       "[1, 2, 4, 2, 1, 5]"
      ]
     },
     "execution_count": 29,
     "metadata": {},
     "output_type": "execute_result"
    }
   ],
   "source": [
    "s"
   ]
  },
  {
   "cell_type": "code",
   "execution_count": 30,
   "id": "7ae7077c",
   "metadata": {},
   "outputs": [],
   "source": [
    "add_this_many(2, 2, s)"
   ]
  },
  {
   "cell_type": "code",
   "execution_count": 31,
   "id": "1e6b2be1",
   "metadata": {},
   "outputs": [
    {
     "data": {
      "text/plain": [
       "[1, 2, 4, 2, 1, 5, 2, 2]"
      ]
     },
     "execution_count": 31,
     "metadata": {},
     "output_type": "execute_result"
    }
   ],
   "source": [
    "s"
   ]
  },
  {
   "cell_type": "code",
   "execution_count": 41,
   "id": "00518467",
   "metadata": {},
   "outputs": [],
   "source": [
    "s = [[1, 2]]"
   ]
  },
  {
   "cell_type": "code",
   "execution_count": 42,
   "id": "8de74525",
   "metadata": {},
   "outputs": [],
   "source": [
    "i = iter(s)"
   ]
  },
  {
   "cell_type": "code",
   "execution_count": 43,
   "id": "2f599710",
   "metadata": {},
   "outputs": [],
   "source": [
    "j = iter(next(i))"
   ]
  },
  {
   "cell_type": "code",
   "execution_count": 44,
   "id": "31979ae9",
   "metadata": {},
   "outputs": [
    {
     "data": {
      "text/plain": [
       "1"
      ]
     },
     "execution_count": 44,
     "metadata": {},
     "output_type": "execute_result"
    }
   ],
   "source": [
    "next(j)"
   ]
  },
  {
   "cell_type": "code",
   "execution_count": 45,
   "id": "d87c8535",
   "metadata": {},
   "outputs": [
    {
     "data": {
      "text/plain": [
       "3"
      ]
     },
     "execution_count": 45,
     "metadata": {},
     "output_type": "execute_result"
    }
   ],
   "source": [
    "s.append(3)\n",
    ">>> next(i)"
   ]
  },
  {
   "cell_type": "code",
   "execution_count": 46,
   "id": "b77514f0",
   "metadata": {},
   "outputs": [
    {
     "data": {
      "text/plain": [
       "2"
      ]
     },
     "execution_count": 46,
     "metadata": {},
     "output_type": "execute_result"
    }
   ],
   "source": [
    "next(j)"
   ]
  },
  {
   "cell_type": "code",
   "execution_count": 47,
   "id": "b0217bfb",
   "metadata": {},
   "outputs": [
    {
     "ename": "StopIteration",
     "evalue": "",
     "output_type": "error",
     "traceback": [
      "\u001b[0;31m---------------------------------------------------------------------------\u001b[0m",
      "\u001b[0;31mStopIteration\u001b[0m                             Traceback (most recent call last)",
      "\u001b[0;32m/var/folders/m5/b577jf4d20jc309f4phr3lvr0000gn/T/ipykernel_5201/1939748483.py\u001b[0m in \u001b[0;36m<module>\u001b[0;34m\u001b[0m\n\u001b[0;32m----> 1\u001b[0;31m \u001b[0mnext\u001b[0m\u001b[0;34m(\u001b[0m\u001b[0mi\u001b[0m\u001b[0;34m)\u001b[0m\u001b[0;34m\u001b[0m\u001b[0;34m\u001b[0m\u001b[0m\n\u001b[0m",
      "\u001b[0;31mStopIteration\u001b[0m: "
     ]
    }
   ],
   "source": [
    "next(i)"
   ]
  },
  {
   "cell_type": "code",
   "execution_count": 50,
   "id": "0132b4db",
   "metadata": {},
   "outputs": [],
   "source": [
    "def filter_iter(iterable, fn):\n",
    "    \"\"\"\n",
    "    >>> is_even = lambda x: x % 2 == 0\n",
    "    >>> list(filter_iter(range(5), is_even)) # a list of the values yielded from the call to filter_iter\n",
    "    [0, 2, 4]\n",
    "    >>> all_odd = (2*y-1 for y in range(5))\n",
    "    >>> list(filter_iter(all_odd, is_even))\n",
    "    []\n",
    "    >>> naturals = (n for n in range(1, 100))\n",
    "    >>> s = filter_iter(naturals, is_even)\n",
    "    >>> next(s)\n",
    "    2\n",
    "    >>> next(s)\n",
    "    4\n",
    "    \"\"\"\n",
    "    \"*** YOUR CODE HERE ***\"\n",
    "\n",
    "    yield from filter(fn, iterable)"
   ]
  },
  {
   "cell_type": "code",
   "execution_count": 51,
   "id": "8acb2a7f",
   "metadata": {},
   "outputs": [
    {
     "data": {
      "text/plain": [
       "[0, 2, 4]"
      ]
     },
     "execution_count": 51,
     "metadata": {},
     "output_type": "execute_result"
    }
   ],
   "source": [
    "is_even = lambda x: x % 2 == 0\n",
    "list(filter_iter(range(5), is_even))"
   ]
  },
  {
   "cell_type": "code",
   "execution_count": 52,
   "id": "e6c1378a",
   "metadata": {},
   "outputs": [
    {
     "data": {
      "text/plain": [
       "[]"
      ]
     },
     "execution_count": 52,
     "metadata": {},
     "output_type": "execute_result"
    }
   ],
   "source": [
    "all_odd = (2*y-1 for y in range(5))\n",
    "list(filter_iter(all_odd, is_even))"
   ]
  },
  {
   "cell_type": "code",
   "execution_count": 54,
   "id": "f3778733",
   "metadata": {},
   "outputs": [
    {
     "data": {
      "text/plain": [
       "2"
      ]
     },
     "execution_count": 54,
     "metadata": {},
     "output_type": "execute_result"
    }
   ],
   "source": [
    "naturals = (n for n in range(1, 100))\n",
    "s = filter_iter(naturals, is_even)\n",
    "next(s)"
   ]
  },
  {
   "cell_type": "code",
   "execution_count": 56,
   "id": "7de675bf",
   "metadata": {},
   "outputs": [],
   "source": [
    "temp = iter([1, 2])"
   ]
  },
  {
   "cell_type": "code",
   "execution_count": 57,
   "id": "b97d41d7",
   "metadata": {},
   "outputs": [
    {
     "data": {
      "text/plain": [
       "1"
      ]
     },
     "execution_count": 57,
     "metadata": {},
     "output_type": "execute_result"
    }
   ],
   "source": [
    "next(temp)"
   ]
  },
  {
   "cell_type": "code",
   "execution_count": 58,
   "id": "aeeb67db",
   "metadata": {},
   "outputs": [
    {
     "data": {
      "text/plain": [
       "2"
      ]
     },
     "execution_count": 58,
     "metadata": {},
     "output_type": "execute_result"
    }
   ],
   "source": [
    "next(temp)"
   ]
  },
  {
   "cell_type": "code",
   "execution_count": 263,
   "id": "614ac3dc",
   "metadata": {},
   "outputs": [],
   "source": [
    "def merge(a, b):\n",
    "    \"\"\"\n",
    "    >>> def sequence(start, step):\n",
    "    ...     while True:\n",
    "    ...         yield start\n",
    "    ...         start += step\n",
    "    >>> a = sequence(2, 3) # 2, 5, 8, 11, 14, ...\n",
    "    >>> b = sequence(3, 2) # 3, 5, 7, 9, 11, 13, 15, ...\n",
    "    >>> result = merge(a, b) # 2, 3, 5, 7, 8, 9, 11, 13, 14, 15\n",
    "    >>> [next(result) for _ in range(10)]\n",
    "    [2, 3, 5, 7, 8, 9, 11, 13, 14, 15]\n",
    "    \"\"\"\n",
    "    \"*** YOUR CODE HERE ***\"\n",
    "    \n",
    "    \n",
    "    el_a = next(a)\n",
    "    el_b = next(b)\n",
    "    \n",
    "    while True:\n",
    "        if el_a < el_b:\n",
    "            yield el_a\n",
    "            el_a = next(a)\n",
    "\n",
    "        elif el_a > el_b:\n",
    "            yield el_b\n",
    "            el_b = next(b)\n",
    "\n",
    "        else:\n",
    "            yield el_a\n",
    "            el_a = next(a)\n",
    "            el_b = next(b)\n",
    "            "
   ]
  },
  {
   "cell_type": "code",
   "execution_count": 264,
   "id": "6f4f97b5",
   "metadata": {},
   "outputs": [],
   "source": [
    "def sequence(start, step):\n",
    "    while True:\n",
    "        yield start\n",
    "        start += step"
   ]
  },
  {
   "cell_type": "code",
   "execution_count": 265,
   "id": "9d4feddb",
   "metadata": {},
   "outputs": [],
   "source": [
    "a = sequence(2, 3)\n",
    "b = sequence(3, 2)"
   ]
  },
  {
   "cell_type": "code",
   "execution_count": 266,
   "id": "8bcc48b7",
   "metadata": {},
   "outputs": [],
   "source": [
    "result = merge(a, b)"
   ]
  },
  {
   "cell_type": "code",
   "execution_count": 267,
   "id": "7090d0d1",
   "metadata": {},
   "outputs": [
    {
     "data": {
      "text/plain": [
       "[2, 3, 5, 7, 8, 9, 11, 13, 14, 15]"
      ]
     },
     "execution_count": 267,
     "metadata": {},
     "output_type": "execute_result"
    }
   ],
   "source": [
    "[next(result) for _ in range(10)]"
   ]
  }
 ],
 "metadata": {
  "kernelspec": {
   "display_name": "Python 3 (ipykernel)",
   "language": "python",
   "name": "python3"
  },
  "language_info": {
   "codemirror_mode": {
    "name": "ipython",
    "version": 3
   },
   "file_extension": ".py",
   "mimetype": "text/x-python",
   "name": "python",
   "nbconvert_exporter": "python",
   "pygments_lexer": "ipython3",
   "version": "3.8.11"
  }
 },
 "nbformat": 4,
 "nbformat_minor": 5
}
