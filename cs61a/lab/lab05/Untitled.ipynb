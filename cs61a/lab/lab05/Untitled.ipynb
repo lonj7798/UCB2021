{
 "cells": [
  {
   "cell_type": "code",
   "execution_count": 8,
   "id": "2a06660b",
   "metadata": {},
   "outputs": [],
   "source": [
    "def factors_list(n):\n",
    "    \"\"\"Return a list containing all the numbers that divide `n` evenly, except\n",
    "    for the number itself. Make sure the list is in ascending order.\n",
    "\n",
    "    >>> factors_list(6)\n",
    "    [1, 2, 3]\n",
    "    >>> factors_list(8)\n",
    "    [1, 2, 4]\n",
    "    >>> factors_list(28)\n",
    "    [1, 2, 4, 7, 14]\n",
    "    \"\"\"\n",
    "    all_factors = []\n",
    "    \"*** YOUR CODE HERE ***\"\n",
    "    \n",
    "    for i in range(1, n):\n",
    "        if n % i == 0:\n",
    "            all_factors.append(i)\n",
    "            \n",
    "    return all_factors\n"
   ]
  },
  {
   "cell_type": "code",
   "execution_count": 9,
   "id": "1e8db6e2",
   "metadata": {},
   "outputs": [
    {
     "data": {
      "text/plain": [
       "[1, 2, 3]"
      ]
     },
     "execution_count": 9,
     "metadata": {},
     "output_type": "execute_result"
    }
   ],
   "source": [
    "factors_list(6)"
   ]
  },
  {
   "cell_type": "code",
   "execution_count": 33,
   "id": "cb1080f5",
   "metadata": {},
   "outputs": [],
   "source": [
    "def flatten(s):\n",
    "    \"\"\"Returns a flattened version of list s.\n",
    "\n",
    "    >>> flatten([1, 2, 3])     # normal list\n",
    "    [1, 2, 3]\n",
    "    >>> x = [1, [2, 3], 4]     # deep list\n",
    "    >>> flatten(x)\n",
    "    [1, 2, 3, 4]\n",
    "    >>> x # Ensure x is not mutated\n",
    "    [1, [2, 3], 4]\n",
    "    >>> x = [[1, [1, 1]], 1, [1, 1]] # deep list\n",
    "    >>> flatten(x)\n",
    "    [1, 1, 1, 1, 1, 1]\n",
    "    >>> x\n",
    "    [[1, [1, 1]], 1, [1, 1]]\n",
    "    \"\"\"\n",
    "    \"*** YOUR CODE HERE ***\"\n",
    "    if type(s[0]) != list:\n",
    "        if len(s) == 1:\n",
    "            return [s[0]]\n",
    "        return [s[0]] + flatten(s[1:])\n",
    "    else:\n",
    "        if len(s) == 1:\n",
    "            return flatten(s[0])\n",
    "        return flatten(s[0]) + flatten(s[1:])"
   ]
  },
  {
   "cell_type": "code",
   "execution_count": 34,
   "id": "67a1d778",
   "metadata": {},
   "outputs": [
    {
     "data": {
      "text/plain": [
       "[1, 2, 3]"
      ]
     },
     "execution_count": 34,
     "metadata": {},
     "output_type": "execute_result"
    }
   ],
   "source": [
    "flatten([1, 2, 3])"
   ]
  },
  {
   "cell_type": "code",
   "execution_count": 35,
   "id": "86823fff",
   "metadata": {},
   "outputs": [
    {
     "data": {
      "text/plain": [
       "[1, 2, 3, 4]"
      ]
     },
     "execution_count": 35,
     "metadata": {},
     "output_type": "execute_result"
    }
   ],
   "source": [
    "x = [1, [2, 3], 4]\n",
    "flatten(x)"
   ]
  },
  {
   "cell_type": "code",
   "execution_count": 36,
   "id": "f121093e",
   "metadata": {},
   "outputs": [
    {
     "data": {
      "text/plain": [
       "[1, 1, 1, 1, 1, 1]"
      ]
     },
     "execution_count": 36,
     "metadata": {},
     "output_type": "execute_result"
    }
   ],
   "source": [
    "x = [[1, [1, 1]], 1, [1, 1]]\n",
    "flatten(x)"
   ]
  },
  {
   "cell_type": "markdown",
   "id": "1baeb90d",
   "metadata": {},
   "source": [
    "make_city(name, lat, lon): Creates a city object with the given name, latitude, and longitude.\n",
    "We also have the following selectors in order to get the information for each city:\n",
    "\n",
    "get_name(city): Returns the city's name\n",
    "get_lat(city): Returns the city's latitude\n",
    "get_lon(city)"
   ]
  },
  {
   "cell_type": "code",
   "execution_count": 37,
   "id": "3fc0a304",
   "metadata": {},
   "outputs": [],
   "source": [
    "def make_city(name, lat, lon):\n",
    "    return [name, lat, lon]\n",
    "\n",
    "def get_name(city):\n",
    "    return city[0]\n",
    "\n",
    "def get_lat(city):\n",
    "    return city[1]\n",
    "\n",
    "def get_lon(city):\n",
    "    return city[2]"
   ]
  },
  {
   "cell_type": "code",
   "execution_count": 38,
   "id": "acb5d089",
   "metadata": {},
   "outputs": [],
   "source": [
    "from math import sqrt\n",
    "\n",
    "\n",
    "def distance(city_a, city_b):\n",
    "    \"\"\"\n",
    "    >>> city_a = make_city('city_a', 0, 1)\n",
    "    >>> city_b = make_city('city_b', 0, 2)\n",
    "    >>> distance(city_a, city_b)\n",
    "    1.0\n",
    "    >>> city_c = make_city('city_c', 6.5, 12)\n",
    "    >>> city_d = make_city('city_d', 2.5, 15)\n",
    "    >>> distance(city_c, city_d)\n",
    "    5.0\n",
    "    \"\"\"\n",
    "    \"*** YOUR CODE HERE ***\"\n",
    "    x1, y1 = get_lat(city_a), get_lon(city_a)\n",
    "    x2, y2 = get_lat(city_b), get_lon(city_b)\n",
    "\n",
    "    return sqrt((x1 - x2)**2 + (y1 - y2)**2)\n",
    "    \n",
    "    "
   ]
  },
  {
   "cell_type": "code",
   "execution_count": 40,
   "id": "a7754797",
   "metadata": {},
   "outputs": [
    {
     "data": {
      "text/plain": [
       "1.0"
      ]
     },
     "execution_count": 40,
     "metadata": {},
     "output_type": "execute_result"
    }
   ],
   "source": [
    "city_a = make_city('city_a', 0, 1)\n",
    "city_b = make_city('city_b', 0, 2)\n",
    "distance(city_a, city_b)"
   ]
  },
  {
   "cell_type": "code",
   "execution_count": 45,
   "id": "afc57da4",
   "metadata": {},
   "outputs": [],
   "source": [
    "def closer_city(lat, lon, city_a, city_b):\n",
    "    \"\"\"\n",
    "    Returns the name of either city_a or city_b, whichever is closest to\n",
    "    coordinate (lat, lon). If the two cities are the same distance away\n",
    "    from the coordinate, consider city_b to be the closer city.\n",
    "\n",
    "    >>> berkeley = make_city('Berkeley', 37.87, 112.26)\n",
    "    >>> stanford = make_city('Stanford', 34.05, 118.25)\n",
    "    >>> closer_city(38.33, 121.44, berkeley, stanford)\n",
    "    'Stanford'\n",
    "    >>> bucharest = make_city('Bucharest', 44.43, 26.10)\n",
    "    >>> vienna = make_city('Vienna', 48.20, 16.37)\n",
    "    >>> closer_city(41.29, 174.78, bucharest, vienna)\n",
    "    'Bucharest'\n",
    "    \"\"\"\n",
    "    \"*** YOUR CODE HERE ***\"\n",
    "    city_goal = make_city('', lat, lon)\n",
    "    \n",
    "    dis_a, dis_b = distance(city_a, city_goal), distance(city_b, city_goal)\n",
    "    \n",
    "    if dis_a <= dis_b:\n",
    "        return get_name(city_a)\n",
    "    else:\n",
    "        return get_name(city_b)"
   ]
  },
  {
   "cell_type": "code",
   "execution_count": 46,
   "id": "b1abd85f",
   "metadata": {},
   "outputs": [
    {
     "data": {
      "text/plain": [
       "'Stanford'"
      ]
     },
     "execution_count": 46,
     "metadata": {},
     "output_type": "execute_result"
    }
   ],
   "source": [
    "berkeley = make_city('Berkeley', 37.87, 112.26)\n",
    "stanford = make_city('Stanford', 34.05, 118.25)\n",
    "closer_city(38.33, 121.44, berkeley, stanford)"
   ]
  },
  {
   "cell_type": "code",
   "execution_count": null,
   "id": "7131af18",
   "metadata": {},
   "outputs": [],
   "source": [
    "def check_city_abstraction():\n",
    "    \"\"\"\n",
    "    There's nothing for you to do for this function, it's just here for the extra doctest\n",
    "    >>> change_abstraction(True)\n",
    "    >>> city_a = make_city('city_a', 0, 1)\n",
    "    >>> city_b = make_city('city_b', 0, 2)\n",
    "    >>> distance(city_a, city_b)\n",
    "    1.0\n",
    "    >>> city_c = make_city('city_c', 6.5, 12)\n",
    "    >>> city_d = make_city('city_d', 2.5, 15)\n",
    "    >>> distance(city_c, city_d)\n",
    "    5.0\n",
    "    >>> berkeley = make_city('Berkeley', 37.87, 112.26)\n",
    "    >>> stanford = make_city('Stanford', 34.05, 118.25)\n",
    "    >>> closer_city(38.33, 121.44, berkeley, stanford)\n",
    "    'Stanford'\n",
    "    >>> bucharest = make_city('Bucharest', 44.43, 26.10)\n",
    "    >>> vienna = make_city('Vienna', 48.20, 16.37)\n",
    "    >>> closer_city(41.29, 174.78, bucharest, vienna)\n",
    "    'Bucharest'\n",
    "    >>> change_abstraction(False)\n",
    "    \"\"\""
   ]
  },
  {
   "cell_type": "code",
   "execution_count": null,
   "id": "1d6f6f09",
   "metadata": {},
   "outputs": [],
   "source": [
    "def berry_finder(t):\n",
    "    \"\"\"Returns True if t contains a node with the value 'berry' and \n",
    "    False otherwise.\n",
    "\n",
    "    >>> scrat = tree('berry')\n",
    "    >>> berry_finder(scrat)\n",
    "    True\n",
    "    >>> sproul = tree('roots', [tree('branch1', [tree('leaf'), tree('berry')]), tree('branch2')])\n",
    "    >>> berry_finder(sproul)\n",
    "    True\n",
    "    >>> numbers = tree(1, [tree(2), tree(3, [tree(4), tree(5)]), tree(6, [tree(7)])])\n",
    "    >>> berry_finder(numbers)\n",
    "    False\n",
    "    >>> t = tree(1, [tree('berry',[tree('not berry')])])\n",
    "    >>> berry_finder(t)\n",
    "    True\n",
    "    \"\"\"\n",
    "    \"*** YOUR CODE HERE ***\""
   ]
  }
 ],
 "metadata": {
  "kernelspec": {
   "display_name": "Python 3",
   "language": "python",
   "name": "python3"
  },
  "language_info": {
   "codemirror_mode": {
    "name": "ipython",
    "version": 3
   },
   "file_extension": ".py",
   "mimetype": "text/x-python",
   "name": "python",
   "nbconvert_exporter": "python",
   "pygments_lexer": "ipython3",
   "version": "3.8.11"
  }
 },
 "nbformat": 4,
 "nbformat_minor": 5
}
