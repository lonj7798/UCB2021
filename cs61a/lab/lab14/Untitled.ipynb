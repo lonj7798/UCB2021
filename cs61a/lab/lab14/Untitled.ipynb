{
 "cells": [
  {
   "cell_type": "code",
   "execution_count": 1,
   "id": "f7b8f418",
   "metadata": {},
   "outputs": [],
   "source": [
    "class Tree:\n",
    "    \"\"\"\n",
    "    >>> t = Tree(3, [Tree(2, [Tree(5)]), Tree(4)])\n",
    "    >>> t.label\n",
    "    3\n",
    "    >>> t.branches[0].label\n",
    "    2\n",
    "    >>> t.branches[1].is_leaf()\n",
    "    True\n",
    "    \"\"\"\n",
    "\n",
    "    def __init__(self, label, branches=[]):\n",
    "        for b in branches:\n",
    "            assert isinstance(b, Tree)\n",
    "        self.label = label\n",
    "        self.branches = list(branches)\n",
    "\n",
    "    def is_leaf(self):\n",
    "        return not self.branches\n",
    "\n",
    "    def __repr__(self):\n",
    "        if self.branches:\n",
    "            branch_str = ', ' + repr(self.branches)\n",
    "        else:\n",
    "            branch_str = ''\n",
    "        return 'Tree({0}{1})'.format(self.label, branch_str)\n",
    "\n",
    "    def __str__(self):\n",
    "        def print_tree(t, indent=0):\n",
    "            tree_str = '  ' * indent + str(t.label) + \"\\n\"\n",
    "            for b in t.branches:\n",
    "                tree_str += print_tree(b, indent + 1)\n",
    "            return tree_str\n",
    "        return print_tree(self).rstrip()"
   ]
  },
  {
   "cell_type": "code",
   "execution_count": 16,
   "id": "0d61911e",
   "metadata": {},
   "outputs": [],
   "source": [
    "def prune_min(t):\n",
    "    \"\"\"Prune the tree mutatively.\n",
    "\n",
    "    >>> t1 = Tree(6)\n",
    "    >>> prune_min(t1)\n",
    "    >>> t1\n",
    "    Tree(6)\n",
    "    >>> t2 = Tree(6, [Tree(3), Tree(4)])\n",
    "    >>> prune_min(t2)\n",
    "    >>> t2\n",
    "    Tree(6, [Tree(3)])\n",
    "    >>> t3 = Tree(6, [Tree(3, [Tree(1), Tree(2)]), Tree(5, [Tree(3), Tree(4)])])\n",
    "    >>> prune_min(t3)\n",
    "    >>> t3\n",
    "    Tree(6, [Tree(3, [Tree(1)])])\n",
    "    \"\"\"\n",
    "    \"*** YOUR CODE HERE ***\"\n",
    "    \n",
    "    if not t.branches:\n",
    "        return\n",
    "    \n",
    "    prune_min(t.branches[0])\n",
    "    prune_min(t.branches[1])\n",
    "    \n",
    "    if (t.branches[0].label <= t.branches[1].label):\n",
    "        t.branches.pop(1)\n",
    "        \n",
    "    else:\n",
    "        t.branches.pop(0)"
   ]
  },
  {
   "cell_type": "code",
   "execution_count": 17,
   "id": "1acbdd5a",
   "metadata": {},
   "outputs": [],
   "source": [
    "t1 = Tree(6)\n",
    "prune_min(t1)"
   ]
  },
  {
   "cell_type": "code",
   "execution_count": 18,
   "id": "c4afa73d",
   "metadata": {},
   "outputs": [
    {
     "data": {
      "text/plain": [
       "Tree(6)"
      ]
     },
     "execution_count": 18,
     "metadata": {},
     "output_type": "execute_result"
    }
   ],
   "source": [
    "t1"
   ]
  },
  {
   "cell_type": "code",
   "execution_count": 19,
   "id": "fe46eb54",
   "metadata": {},
   "outputs": [],
   "source": [
    ">>> t2 = Tree(6, [Tree(3), Tree(4)])\n",
    ">>> prune_min(t2)"
   ]
  },
  {
   "cell_type": "code",
   "execution_count": 20,
   "id": "456c6175",
   "metadata": {},
   "outputs": [
    {
     "data": {
      "text/plain": [
       "Tree(6, [Tree(3)])"
      ]
     },
     "execution_count": 20,
     "metadata": {},
     "output_type": "execute_result"
    }
   ],
   "source": [
    "t2"
   ]
  },
  {
   "cell_type": "code",
   "execution_count": 21,
   "id": "ab758c93",
   "metadata": {},
   "outputs": [],
   "source": [
    "t3 = Tree(6, [Tree(3, [Tree(1), Tree(2)]), Tree(5, [Tree(3), Tree(4)])])\n",
    ">>> prune_min(t3)"
   ]
  },
  {
   "cell_type": "code",
   "execution_count": 22,
   "id": "89301865",
   "metadata": {},
   "outputs": [
    {
     "data": {
      "text/plain": [
       "Tree(6, [Tree(3, [Tree(1)])])"
      ]
     },
     "execution_count": 22,
     "metadata": {},
     "output_type": "execute_result"
    }
   ],
   "source": [
    "t3"
   ]
  },
  {
   "cell_type": "code",
   "execution_count": null,
   "id": "edeeeb3c",
   "metadata": {},
   "outputs": [],
   "source": []
  }
 ],
 "metadata": {
  "kernelspec": {
   "display_name": "Python 3 (ipykernel)",
   "language": "python",
   "name": "python3"
  },
  "language_info": {
   "codemirror_mode": {
    "name": "ipython",
    "version": 3
   },
   "file_extension": ".py",
   "mimetype": "text/x-python",
   "name": "python",
   "nbconvert_exporter": "python",
   "pygments_lexer": "ipython3",
   "version": "3.8.11"
  }
 },
 "nbformat": 4,
 "nbformat_minor": 5
}
