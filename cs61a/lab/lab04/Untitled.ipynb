{
 "cells": [
  {
   "cell_type": "code",
   "execution_count": null,
   "id": "6a71b4b4",
   "metadata": {},
   "outputs": [],
   "source": []
  },
  {
   "cell_type": "code",
   "execution_count": null,
   "id": "c9f32e34",
   "metadata": {},
   "outputs": [],
   "source": []
  },
  {
   "cell_type": "code",
   "execution_count": null,
   "id": "fa58d940",
   "metadata": {},
   "outputs": [],
   "source": []
  },
  {
   "cell_type": "code",
   "execution_count": null,
   "id": "e572e213",
   "metadata": {},
   "outputs": [],
   "source": []
  },
  {
   "cell_type": "code",
   "execution_count": 45,
   "id": "d8133cd1",
   "metadata": {},
   "outputs": [],
   "source": [
    "def crust():\n",
    "    print(\"70km\")\n",
    "    def mantle():\n",
    "        print(\"2900km\")\n",
    "        def core():\n",
    "            print(\"5300km\")\n",
    "            return mantle()\n",
    "        return core\n",
    "    return mantle"
   ]
  },
  {
   "cell_type": "code",
   "execution_count": 46,
   "id": "52d5b1f0",
   "metadata": {},
   "outputs": [],
   "source": [
    "drill = crust"
   ]
  },
  {
   "cell_type": "code",
   "execution_count": 47,
   "id": "a5883c89",
   "metadata": {},
   "outputs": [
    {
     "name": "stdout",
     "output_type": "stream",
     "text": [
      "70km\n"
     ]
    }
   ],
   "source": [
    "drill = drill()"
   ]
  },
  {
   "cell_type": "code",
   "execution_count": 48,
   "id": "465acbdc",
   "metadata": {},
   "outputs": [
    {
     "name": "stdout",
     "output_type": "stream",
     "text": [
      "2900km\n"
     ]
    }
   ],
   "source": [
    "drill = drill()"
   ]
  },
  {
   "cell_type": "code",
   "execution_count": 49,
   "id": "bc5db2a9",
   "metadata": {},
   "outputs": [
    {
     "name": "stdout",
     "output_type": "stream",
     "text": [
      "5300km\n",
      "2900km\n"
     ]
    }
   ],
   "source": [
    "drill = drill()"
   ]
  },
  {
   "cell_type": "code",
   "execution_count": 50,
   "id": "940aed1d",
   "metadata": {},
   "outputs": [
    {
     "name": "stdout",
     "output_type": "stream",
     "text": [
      "5300km\n",
      "2900km\n"
     ]
    },
    {
     "data": {
      "text/plain": [
       "<function __main__.crust.<locals>.mantle.<locals>.core()>"
      ]
     },
     "execution_count": 50,
     "metadata": {},
     "output_type": "execute_result"
    }
   ],
   "source": [
    "drill()"
   ]
  },
  {
   "cell_type": "code",
   "execution_count": null,
   "id": "64201939",
   "metadata": {},
   "outputs": [],
   "source": [
    "def summation(n, term):\n",
    "    \"\"\"Return the sum of numbers 1 through n (including n) wíth term applied to each number.\n",
    "    Implement using recursion!\n",
    "\n",
    "    >>> summation(5, lambda x: x * x * x) # 1^3 + 2^3 + 3^3 + 4^3 + 5^3\n",
    "    225\n",
    "    >>> summation(9, lambda x: x + 1) # 2 + 3 + 4 + 5 + 6 + 7 + 8 + 9 + 10\n",
    "    54\n",
    "    >>> summation(5, lambda x: 2**x) # 2^1 + 2^2 + 2^3 + 2^4 + 2^5\n",
    "    62\n",
    "    >>> # Do not use while/for loops!\n",
    "    >>> from construct_check import check\n",
    "    >>> # ban iteration\n",
    "    >>> check(HW_SOURCE_FILE, 'summation',\n",
    "    ...       ['While', 'For'])\n",
    "    True\n",
    "    \"\"\"\n",
    "    assert n >= 1\n",
    "    \"*** YOUR CODE HERE ***\"\n",
    "    \n",
    "    if n == 1:\n",
    "        return term(1)\n",
    "    \n",
    "    return summation(n-1, term) + term(n)"
   ]
  },
  {
   "cell_type": "code",
   "execution_count": 2,
   "id": "ed1ebe6f",
   "metadata": {},
   "outputs": [
    {
     "data": {
      "text/plain": [
       "62"
      ]
     },
     "execution_count": 2,
     "metadata": {},
     "output_type": "execute_result"
    }
   ],
   "source": [
    "summation(5, lambda x: 2**x)"
   ]
  },
  {
   "cell_type": "code",
   "execution_count": 3,
   "id": "f7efd8b7",
   "metadata": {},
   "outputs": [
    {
     "data": {
      "text/plain": [
       "54"
      ]
     },
     "execution_count": 3,
     "metadata": {},
     "output_type": "execute_result"
    }
   ],
   "source": [
    "summation(9, lambda x: x + 1)"
   ]
  },
  {
   "cell_type": "code",
   "execution_count": 71,
   "id": "58b31315",
   "metadata": {},
   "outputs": [],
   "source": [
    "def pascal(row, column):\n",
    "    \"\"\"Returns the value of the item in Pascal's Triangle \n",
    "    whose position is specified by row and column.\n",
    "    >>> pascal(0, 0)\n",
    "    1\n",
    "    >>> pascal(0, 5)\t# Empty entry; outside of Pascal's Triangle\n",
    "    0\n",
    "    >>> pascal(3, 2)\t# Row 3 (1 3 3 1), Column 2\n",
    "    3\n",
    "    >>> pascal(4, 2)     # Row 4 (1 4 6 4 1), Column 2\n",
    "    6\n",
    "    \"\"\"\n",
    "    \"*** YOUR CODE HERE ***\"\n",
    "    if row < column:\n",
    "        return 0\n",
    "    \n",
    "    elif row == 0 or column == 0:\n",
    "        return 1\n",
    "    else:\n",
    "        return pascal(row-1, column-1) + pascal(row-1, column)\n",
    "    "
   ]
  },
  {
   "cell_type": "code",
   "execution_count": 72,
   "id": "d8f23be2",
   "metadata": {},
   "outputs": [
    {
     "data": {
      "text/plain": [
       "3"
      ]
     },
     "execution_count": 72,
     "metadata": {},
     "output_type": "execute_result"
    }
   ],
   "source": [
    "pascal(3, 2)"
   ]
  },
  {
   "cell_type": "code",
   "execution_count": 73,
   "id": "b87dd99d",
   "metadata": {},
   "outputs": [
    {
     "data": {
      "text/plain": [
       "6"
      ]
     },
     "execution_count": 73,
     "metadata": {},
     "output_type": "execute_result"
    }
   ],
   "source": [
    "pascal(4, 2)   "
   ]
  },
  {
   "cell_type": "code",
   "execution_count": 74,
   "id": "bece3854",
   "metadata": {},
   "outputs": [
    {
     "data": {
      "text/plain": [
       "0"
      ]
     },
     "execution_count": 74,
     "metadata": {},
     "output_type": "execute_result"
    }
   ],
   "source": [
    "pascal(0, 5)"
   ]
  },
  {
   "cell_type": "code",
   "execution_count": 21,
   "id": "261aa13b",
   "metadata": {},
   "outputs": [],
   "source": [
    "def paths(m, n):\n",
    "    \"\"\"Return the number of paths from one corner of an\n",
    "    M by N grid to the opposite corner.\n",
    "\n",
    "    >>> paths(2, 2)\n",
    "    2\n",
    "    >>> paths(5, 7)\n",
    "    210\n",
    "    >>> paths(117, 1)\n",
    "    1\n",
    "    >>> paths(1, 157)\n",
    "    1\n",
    "    \"\"\"\n",
    "    \"*** YOUR CODE HERE ***\"\n",
    "    \n",
    "    if m == 1 and n == 1:\n",
    "        return 1\n",
    "    \n",
    "    elif m == 0 or n == 0:\n",
    "        return 0\n",
    "    \n",
    "    return paths(m-1, n) + paths(m, n-1)"
   ]
  },
  {
   "cell_type": "code",
   "execution_count": 23,
   "id": "feffd593",
   "metadata": {},
   "outputs": [
    {
     "data": {
      "text/plain": [
       "2"
      ]
     },
     "execution_count": 23,
     "metadata": {},
     "output_type": "execute_result"
    }
   ],
   "source": [
    "paths(2, 2)"
   ]
  },
  {
   "cell_type": "code",
   "execution_count": 24,
   "id": "62639362",
   "metadata": {},
   "outputs": [
    {
     "data": {
      "text/plain": [
       "1"
      ]
     },
     "execution_count": 24,
     "metadata": {},
     "output_type": "execute_result"
    }
   ],
   "source": [
    "paths(117, 1)"
   ]
  },
  {
   "cell_type": "code",
   "execution_count": 25,
   "id": "60cb0db1",
   "metadata": {},
   "outputs": [
    {
     "data": {
      "text/plain": [
       "210"
      ]
     },
     "execution_count": 25,
     "metadata": {},
     "output_type": "execute_result"
    }
   ],
   "source": [
    "paths(5, 7)"
   ]
  },
  {
   "cell_type": "code",
   "execution_count": 13,
   "id": "f2889cae",
   "metadata": {},
   "outputs": [],
   "source": [
    "def couple(s, t):\n",
    "    \"\"\"Return a list of two-element lists in which the i-th element is [s[i], t[i]].\n",
    "\n",
    "    >>> a = [1, 2, 3]\n",
    "    >>> b = [4, 5, 6]\n",
    "    >>> couple(a, b)\n",
    "    [[1, 4], [2, 5], [3, 6]]\n",
    "    >>> c = ['c', 6]\n",
    "    >>> d = ['s', '1']\n",
    "    >>> couple(c, d)\n",
    "    [['c', 's'], [6, '1']]\n",
    "    \"\"\"\n",
    "    assert len(s) == len(t)\n",
    "    \"*** YOUR CODE HERE ***\"\n",
    "    \n",
    "    return [[i, j] for i, j in zip(s, t)]"
   ]
  },
  {
   "cell_type": "code",
   "execution_count": null,
   "id": "6f7587cb",
   "metadata": {},
   "outputs": [],
   "source": []
  },
  {
   "cell_type": "code",
   "execution_count": 14,
   "id": "a06fbc46",
   "metadata": {},
   "outputs": [
    {
     "data": {
      "text/plain": [
       "[[1, 4], [2, 5], [3, 6]]"
      ]
     },
     "execution_count": 14,
     "metadata": {},
     "output_type": "execute_result"
    }
   ],
   "source": [
    "a = [1, 2, 3]\n",
    "b = [4, 5, 6]\n",
    "couple(a, b)"
   ]
  },
  {
   "cell_type": "code",
   "execution_count": 15,
   "id": "333262db",
   "metadata": {},
   "outputs": [
    {
     "data": {
      "text/plain": [
       "[['c', 's'], [6, '1']]"
      ]
     },
     "execution_count": 15,
     "metadata": {},
     "output_type": "execute_result"
    }
   ],
   "source": [
    "c = ['c', 6]\n",
    "d = ['s', '1']\n",
    "couple(c, d)"
   ]
  },
  {
   "cell_type": "code",
   "execution_count": 83,
   "id": "d1c112cc",
   "metadata": {},
   "outputs": [],
   "source": [
    "#  [x, fn(x)]\n",
    "# lower < fn(x) < upper\n",
    "\n",
    "def coords(fn, seq, lower, upper):\n",
    "    \"\"\"\n",
    "    >>> seq = [-4, -2, 0, 1, 3]\n",
    "    >>> fn = lambda x: x**2\n",
    "    >>> coords(fn, seq, 1, 9)\n",
    "    [[-2, 4], [1, 1], [3, 9]]\n",
    "    \"\"\"\n",
    "    \"*** YOUR CODE HERE ***\"\n",
    "    return [[i, fn(i)] for i in seq if fn(i) >= lower and fn(i) <= upper]\n",
    "\n"
   ]
  },
  {
   "cell_type": "code",
   "execution_count": 84,
   "id": "8105586f",
   "metadata": {},
   "outputs": [
    {
     "data": {
      "text/plain": [
       "[[-2, 4], [1, 1], [3, 9]]"
      ]
     },
     "execution_count": 84,
     "metadata": {},
     "output_type": "execute_result"
    }
   ],
   "source": [
    "seq = [-4, -2, 0, 1, 3]\n",
    "fn = lambda x: x**2\n",
    "coords(fn, seq, 1, 9)"
   ]
  },
  {
   "cell_type": "code",
   "execution_count": 119,
   "id": "c7b6699b",
   "metadata": {},
   "outputs": [],
   "source": [
    "def riffle(deck):\n",
    "    \"\"\"Produces a single, perfect riffle shuffle of DECK, consisting of\n",
    "    DECK[0], DECK[M], DECK[1], DECK[M+1], ... where M is position of the\n",
    "    second half of the deck.  Assume that len(DECK) is even.\n",
    "    >>> riffle([3, 4, 5, 6])\n",
    "    [3, 5, 4, 6]\n",
    "    >>> riffle(range(20))\n",
    "    [0, 10, 1, 11, 2, 12, 3, 13, 4, 14, 5, 15, 6, 16, 7, 17, 8, 18, 9, 19]\n",
    "    \"\"\"\n",
    "    \"*** YOUR CODE HERE ***\"\n",
    "    \"\"\"\n",
    "    anw = []\n",
    "    \n",
    "    for i, j in zip(deck[:int(len(deck)/2)], deck[int(len(deck)/2):]):\n",
    "        anw.append(i)\n",
    "        anw.append(j)\n",
    "    \n",
    "    return anw\"\"\"\n",
    "    \n",
    "    return [i for i in deck]"
   ]
  },
  {
   "cell_type": "code",
   "execution_count": 120,
   "id": "c5bf32c5",
   "metadata": {},
   "outputs": [
    {
     "data": {
      "text/plain": [
       "[0, 1, 2, 3, 4, 5, 6, 7, 8, 9, 0, 1, 2, 3, 4, 5, 6, 7, 8, 9]"
      ]
     },
     "execution_count": 120,
     "metadata": {},
     "output_type": "execute_result"
    }
   ],
   "source": [
    "riffle(range(20))"
   ]
  },
  {
   "cell_type": "code",
   "execution_count": 98,
   "id": "793e4613",
   "metadata": {},
   "outputs": [
    {
     "data": {
      "text/plain": [
       "[3, 4]"
      ]
     },
     "execution_count": 98,
     "metadata": {},
     "output_type": "execute_result"
    }
   ],
   "source": [
    "deck = [3, 4, 5, 6]\n",
    "deck[:int(len(deck)/2)]"
   ]
  },
  {
   "cell_type": "code",
   "execution_count": 89,
   "id": "057076fe",
   "metadata": {},
   "outputs": [
    {
     "name": "stdout",
     "output_type": "stream",
     "text": [
      "0 11\n",
      "1 12\n",
      "2 13\n",
      "3 14\n",
      "4 15\n",
      "5 16\n",
      "6 17\n",
      "7 18\n",
      "8 19\n"
     ]
    }
   ],
   "source": [
    "for i, j in zip(range(0, 10), range(11, 20)):\n",
    "    print(i, j)"
   ]
  },
  {
   "cell_type": "code",
   "execution_count": null,
   "id": "6c952b6d",
   "metadata": {},
   "outputs": [],
   "source": []
  }
 ],
 "metadata": {
  "kernelspec": {
   "display_name": "Python 3",
   "language": "python",
   "name": "python3"
  },
  "language_info": {
   "codemirror_mode": {
    "name": "ipython",
    "version": 3
   },
   "file_extension": ".py",
   "mimetype": "text/x-python",
   "name": "python",
   "nbconvert_exporter": "python",
   "pygments_lexer": "ipython3",
   "version": "3.8.10"
  }
 },
 "nbformat": 4,
 "nbformat_minor": 5
}
