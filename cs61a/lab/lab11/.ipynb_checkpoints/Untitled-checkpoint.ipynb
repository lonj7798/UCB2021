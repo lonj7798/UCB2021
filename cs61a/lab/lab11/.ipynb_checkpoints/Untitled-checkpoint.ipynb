{
 "cells": [
  {
   "cell_type": "code",
   "execution_count": 22,
   "id": "3cd96544",
   "metadata": {},
   "outputs": [],
   "source": [
    "\"\"\"The buffer module assists in iterating through lines and tokens.\"\"\"\n",
    "\n",
    "import math\n",
    "import sys\n",
    "\n",
    "\n",
    "class Buffer:\n",
    "    \"\"\"A Buffer provides a way of accessing a sequence of tokens across lines.\n",
    "\n",
    "    Its constructor takes an iterator, called \"the source\", that returns the\n",
    "    next line of tokens as a list each time it is queried, or None to indicate\n",
    "    the end of data.\n",
    "\n",
    "    The Buffer in effect concatenates the sequences returned from its source\n",
    "    and then supplies the items from them one at a time through its pop_first()\n",
    "    method, calling the source for more sequences of items only when needed.\n",
    "\n",
    "    In addition, Buffer provides a current method to look at the\n",
    "    next item to be supplied, without sequencing past it.\n",
    "\n",
    "    The __str__ method prints all tokens read so far, up to the end of the\n",
    "    current line, and marks the current token with >>.\n",
    "\n",
    "    >>> buf = Buffer(iter([['(', '+'], [15], [12, ')']]))\n",
    "    >>> buf.pop_first()\n",
    "    '('\n",
    "    >>> buf.pop_first()\n",
    "    '+'\n",
    "    >>> buf.current()\n",
    "    15\n",
    "    >>> buf.current()   # Calling current twice should not change buf\n",
    "    15\n",
    "    >>> buf.pop_first()\n",
    "    15\n",
    "    >>> buf.current()\n",
    "    12\n",
    "    >>> buf.pop_first()\n",
    "    12\n",
    "    >>> buf.pop_first()\n",
    "    ')'\n",
    "    >>> buf.pop_first()  # returns None\n",
    "    \"\"\"\n",
    "\n",
    "    def __init__(self, source):\n",
    "        self.index = 0\n",
    "        self.source = source\n",
    "        self.current_line = ()\n",
    "        self.current()\n",
    "\n",
    "    def pop_first(self):\n",
    "        \"\"\"Remove the next item from self and return it. If self has\n",
    "        exhausted its source, returns None.\"\"\"\n",
    "        # BEGIN PROBLEM 1\n",
    "        \"*** YOUR CODE HERE ***\"\n",
    "        self.index += 1\n",
    "        self.current\n",
    "        \n",
    "        # END PROBLEM 1\n",
    "\n",
    "    def current(self):\n",
    "        \"\"\"Return the current element, or None if none exists.\"\"\"\n",
    "        print('b')\n",
    "        while self.more_on_line:\n",
    "            print(self.index, self.current_line)\n",
    "            try:\n",
    "                # BEGIN PROBLEM 1\n",
    "                \"*** YOUR CODE HERE ***\"\n",
    "                self.current_line = next(self.source)\n",
    "                print(self.current_line)\n",
    "                \n",
    "                # END PROBLEM 1\n",
    "            except StopIteration:\n",
    "                self.current_line = ()\n",
    "                return None\n",
    "        return self.current_line\n",
    "\n",
    "    @property\n",
    "    def more_on_line(self):\n",
    "        return self.index < len(self.current_line)\n",
    "\n",
    "\n",
    "# Try to import readline for interactive history\n",
    "try:\n",
    "    import readline\n",
    "except:\n",
    "    pass\n",
    "\n",
    "\n",
    "class InputReader:\n",
    "    \"\"\"An InputReader is an iterable that prompts the user for input.\"\"\"\n",
    "\n",
    "    def __init__(self, prompt):\n",
    "        self.prompt = prompt\n",
    "\n",
    "    def __iter__(self):\n",
    "        while True:\n",
    "            yield input(self.prompt)\n",
    "            self.prompt = ' ' * len(self.prompt)\n",
    "\n",
    "\n",
    "class LineReader:\n",
    "    \"\"\"A LineReader is an iterable that prints lines after a prompt.\"\"\"\n",
    "\n",
    "    def __init__(self, lines, prompt, comment=\";\"):\n",
    "        self.lines = lines\n",
    "        self.prompt = prompt\n",
    "        self.comment = comment\n",
    "\n",
    "    def __iter__(self):\n",
    "        while self.lines:\n",
    "            line = self.lines.pop(0).strip('\\n')\n",
    "            if (self.prompt is not None and line != \"\" and\n",
    "                not line.lstrip().startswith(self.comment)):\n",
    "                print(self.prompt + line)\n",
    "                self.prompt = ' ' * len(self.prompt)\n",
    "            yield line\n",
    "        raise EOFError"
   ]
  },
  {
   "cell_type": "code",
   "execution_count": 23,
   "id": "05dcd499",
   "metadata": {},
   "outputs": [
    {
     "name": "stdout",
     "output_type": "stream",
     "text": [
      "b\n",
      "1\n"
     ]
    }
   ],
   "source": [
    ">>> buf = Buffer(iter([['(', '+'], [15], [12, ')']]))\n",
    ">>> buf.pop_first()"
   ]
  },
  {
   "cell_type": "code",
   "execution_count": 24,
   "id": "714c8494",
   "metadata": {},
   "outputs": [
    {
     "name": "stdout",
     "output_type": "stream",
     "text": [
      "2\n"
     ]
    }
   ],
   "source": [
    "buf.pop_first()"
   ]
  },
  {
   "cell_type": "code",
   "execution_count": null,
   "id": "deb1fc7d",
   "metadata": {},
   "outputs": [],
   "source": []
  }
 ],
 "metadata": {
  "kernelspec": {
   "display_name": "Python 3 (ipykernel)",
   "language": "python",
   "name": "python3"
  },
  "language_info": {
   "codemirror_mode": {
    "name": "ipython",
    "version": 3
   },
   "file_extension": ".py",
   "mimetype": "text/x-python",
   "name": "python",
   "nbconvert_exporter": "python",
   "pygments_lexer": "ipython3",
   "version": "3.8.11"
  }
 },
 "nbformat": 4,
 "nbformat_minor": 5
}
