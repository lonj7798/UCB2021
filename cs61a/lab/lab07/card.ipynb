{
 "cells": [
  {
   "cell_type": "code",
   "execution_count": 23,
   "id": "15b8bbfc",
   "metadata": {},
   "outputs": [],
   "source": [
    "import random\n",
    "\n",
    "\n",
    "class Card:\n",
    "    cardtype = 'Staff'\n",
    "\n",
    "    def __init__(self, name, attack, defense):\n",
    "        \"\"\"\n",
    "        Create a Card object with a name, attack,\n",
    "        and defense.\n",
    "        >>> staff_member = Card('staff', 400, 300)\n",
    "        >>> staff_member.name\n",
    "        'staff'\n",
    "        >>> staff_member.attack\n",
    "        400\n",
    "        >>> staff_member.defense\n",
    "        300\n",
    "        >>> other_staff = Card('other', 300, 500)\n",
    "        >>> other_staff.attack\n",
    "        300\n",
    "        >>> other_staff.defense\n",
    "        500\n",
    "        \"\"\"\n",
    "        \"*** YOUR CODE HERE ***\"\n",
    "        self.name = name\n",
    "        self.attack = attack\n",
    "        self.defense = defense\n",
    "\n",
    "    def power(self, opponent_card):\n",
    "        \"\"\"\n",
    "        Calculate power as:\n",
    "        (player card's attack) - (opponent card's defense)/2\n",
    "        >>> staff_member = Card('staff', 400, 300)\n",
    "        >>> other_staff = Card('other', 300, 500)\n",
    "        >>> staff_member.power(other_staff)\n",
    "        150.0\n",
    "        >>> other_staff.power(staff_member)\n",
    "        150.0\n",
    "        >>> third_card = Card('third', 200, 400)\n",
    "        >>> staff_member.power(third_card)\n",
    "        200.0\n",
    "        >>> third_card.power(staff_member)\n",
    "        50.0\n",
    "        \"\"\"\n",
    "        \"*** YOUR CODE HERE ***\"\n",
    "        \n",
    "        return self.attack - opponent_card.defense / 2\n",
    "\n",
    "    def effect(self, opponent_card, player, opponent):\n",
    "        \"\"\"\n",
    "        Cards have no default effect.\n",
    "        \"\"\"\n",
    "        return\n",
    "\n",
    "    def __repr__(self):\n",
    "        \"\"\"\n",
    "        Returns a string which is a readable version of\n",
    "        a card, in the form:\n",
    "        <cardname>: <cardtype>, [<attack>, <defense>]\n",
    "        \"\"\"\n",
    "        return '{}: {}, [{}, {}]'.format(self.name, self.cardtype, self.attack, self.defense)\n",
    "\n",
    "    def copy(self):\n",
    "        \"\"\"\n",
    "        Returns a copy of this card.\n",
    "        \"\"\"\n",
    "        return Card(self.name, self.attack, self.defense)\n"
   ]
  },
  {
   "cell_type": "code",
   "execution_count": 24,
   "id": "251c6334",
   "metadata": {},
   "outputs": [],
   "source": [
    "staff_member = Card('staff', 400, 300)\n",
    "other_staff = Card('other', 300, 500)"
   ]
  },
  {
   "cell_type": "code",
   "execution_count": 25,
   "id": "9a2b1370",
   "metadata": {},
   "outputs": [
    {
     "data": {
      "text/plain": [
       "150.0"
      ]
     },
     "execution_count": 25,
     "metadata": {},
     "output_type": "execute_result"
    }
   ],
   "source": [
    "staff_member.power(other_staff)"
   ]
  },
  {
   "cell_type": "code",
   "execution_count": 26,
   "id": "5449b1ec",
   "metadata": {},
   "outputs": [
    {
     "data": {
      "text/plain": [
       "150.0"
      ]
     },
     "execution_count": 26,
     "metadata": {},
     "output_type": "execute_result"
    }
   ],
   "source": [
    "other_staff.power(staff_member)"
   ]
  },
  {
   "cell_type": "code",
   "execution_count": 27,
   "id": "dda39295",
   "metadata": {},
   "outputs": [],
   "source": [
    "third_card = Card('third', 200, 400)"
   ]
  },
  {
   "cell_type": "code",
   "execution_count": 28,
   "id": "be78dcf3",
   "metadata": {},
   "outputs": [
    {
     "data": {
      "text/plain": [
       "50.0"
      ]
     },
     "execution_count": 28,
     "metadata": {},
     "output_type": "execute_result"
    }
   ],
   "source": [
    "third_card.power(staff_member)"
   ]
  },
  {
   "cell_type": "code",
   "execution_count": 29,
   "id": "89717e9e",
   "metadata": {},
   "outputs": [
    {
     "data": {
      "text/plain": [
       "200.0"
      ]
     },
     "execution_count": 29,
     "metadata": {},
     "output_type": "execute_result"
    }
   ],
   "source": [
    "staff_member.power(third_card)"
   ]
  }
 ],
 "metadata": {
  "kernelspec": {
   "display_name": "Python 3",
   "language": "python",
   "name": "python3"
  },
  "language_info": {
   "codemirror_mode": {
    "name": "ipython",
    "version": 3
   },
   "file_extension": ".py",
   "mimetype": "text/x-python",
   "name": "python",
   "nbconvert_exporter": "python",
   "pygments_lexer": "ipython3",
   "version": "3.8.11"
  }
 },
 "nbformat": 4,
 "nbformat_minor": 5
}
