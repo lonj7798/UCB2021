{
 "cells": [
  {
   "cell_type": "code",
   "execution_count": 1,
   "id": "15b8bbfc",
   "metadata": {},
   "outputs": [],
   "source": [
    "import random\n",
    "\n",
    "\n",
    "class Card:\n",
    "    cardtype = 'Staff'\n",
    "\n",
    "    def __init__(self, name, attack, defense):\n",
    "        \"\"\"\n",
    "        Create a Card object with a name, attack,\n",
    "        and defense.\n",
    "        >>> staff_member = Card('staff', 400, 300)\n",
    "        >>> staff_member.name\n",
    "        'staff'\n",
    "        >>> staff_member.attack\n",
    "        400\n",
    "        >>> staff_member.defense\n",
    "        300\n",
    "        >>> other_staff = Card('other', 300, 500)\n",
    "        >>> other_staff.attack\n",
    "        300\n",
    "        >>> other_staff.defense\n",
    "        500\n",
    "        \"\"\"\n",
    "        \"*** YOUR CODE HERE ***\"\n",
    "        self.name = name\n",
    "        self.attack = attack\n",
    "        self.defense = defense\n",
    "\n",
    "    def power(self, opponent_card):\n",
    "        \"\"\"\n",
    "        Calculate power as:\n",
    "        (player card's attack) - (opponent card's defense)/2\n",
    "        >>> staff_member = Card('staff', 400, 300)\n",
    "        >>> other_staff = Card('other', 300, 500)\n",
    "        >>> staff_member.power(other_staff)\n",
    "        150.0\n",
    "        >>> other_staff.power(staff_member)\n",
    "        150.0\n",
    "        >>> third_card = Card('third', 200, 400)\n",
    "        >>> staff_member.power(third_card)\n",
    "        200.0\n",
    "        >>> third_card.power(staff_member)\n",
    "        50.0\n",
    "        \"\"\"\n",
    "        \"*** YOUR CODE HERE ***\"\n",
    "        \n",
    "        return self.attack - opponent_card.defense / 2\n",
    "\n",
    "    def effect(self, opponent_card, player, opponent):\n",
    "        \"\"\"\n",
    "        Cards have no default effect.\n",
    "        \"\"\"\n",
    "        return\n",
    "\n",
    "    def __repr__(self):\n",
    "        \"\"\"\n",
    "        Returns a string which is a readable version of\n",
    "        a card, in the form:\n",
    "        <cardname>: <cardtype>, [<attack>, <defense>]\n",
    "        \"\"\"\n",
    "        return '{}: {}, [{}, {}]'.format(self.name, self.cardtype, self.attack, self.defense)\n",
    "\n",
    "    def copy(self):\n",
    "        \"\"\"\n",
    "        Returns a copy of this card.\n",
    "        \"\"\"\n",
    "        return Card(self.name, self.attack, self.defense)\n"
   ]
  },
  {
   "cell_type": "code",
   "execution_count": 24,
   "id": "251c6334",
   "metadata": {},
   "outputs": [],
   "source": [
    "staff_member = Card('staff', 400, 300)\n",
    "other_staff = Card('other', 300, 500)"
   ]
  },
  {
   "cell_type": "code",
   "execution_count": 25,
   "id": "9a2b1370",
   "metadata": {},
   "outputs": [
    {
     "data": {
      "text/plain": [
       "150.0"
      ]
     },
     "execution_count": 25,
     "metadata": {},
     "output_type": "execute_result"
    }
   ],
   "source": [
    "staff_member.power(other_staff)"
   ]
  },
  {
   "cell_type": "code",
   "execution_count": 26,
   "id": "5449b1ec",
   "metadata": {},
   "outputs": [
    {
     "data": {
      "text/plain": [
       "150.0"
      ]
     },
     "execution_count": 26,
     "metadata": {},
     "output_type": "execute_result"
    }
   ],
   "source": [
    "other_staff.power(staff_member)"
   ]
  },
  {
   "cell_type": "code",
   "execution_count": 27,
   "id": "dda39295",
   "metadata": {},
   "outputs": [],
   "source": [
    "third_card = Card('third', 200, 400)"
   ]
  },
  {
   "cell_type": "code",
   "execution_count": 28,
   "id": "be78dcf3",
   "metadata": {},
   "outputs": [
    {
     "data": {
      "text/plain": [
       "50.0"
      ]
     },
     "execution_count": 28,
     "metadata": {},
     "output_type": "execute_result"
    }
   ],
   "source": [
    "third_card.power(staff_member)"
   ]
  },
  {
   "cell_type": "code",
   "execution_count": 29,
   "id": "89717e9e",
   "metadata": {},
   "outputs": [
    {
     "data": {
      "text/plain": [
       "200.0"
      ]
     },
     "execution_count": 29,
     "metadata": {},
     "output_type": "execute_result"
    }
   ],
   "source": [
    "staff_member.power(third_card)"
   ]
  },
  {
   "cell_type": "code",
   "execution_count": 2,
   "id": "0ac712c8",
   "metadata": {},
   "outputs": [],
   "source": [
    "# Magic the Lambda-ing!\n",
    "\n",
    "import random\n",
    "\n",
    "######################\n",
    "# Optional Questions #\n",
    "######################\n",
    "\n",
    "\n",
    "class AICard(Card):\n",
    "    cardtype = 'AI'\n",
    "\n",
    "    def effect(self, opponent_card, player, opponent):\n",
    "        \"\"\"\n",
    "        Reduce the opponent's card's attack by its defense,\n",
    "        then double its defense.\n",
    "        >>> from cards import *\n",
    "        >>> player1, player2 = Player(player_deck, 'p1'), Player(opponent_deck, 'p2')\n",
    "        >>> opponent_card = Card('other', 300, 600)\n",
    "        >>> ai_test = AICard('AI', 500, 500)\n",
    "        >>> ai_test.effect(opponent_card, player1, player2)\n",
    "        >>> opponent_card.attack\n",
    "        0\n",
    "        >>> opponent_card.defense\n",
    "        1200\n",
    "        >>> opponent_card = Card('other', 600, 400)\n",
    "        >>> ai_test = AICard('AI', 500, 500)\n",
    "        >>> ai_test.effect(opponent_card, player1, player2)\n",
    "        >>> opponent_card.attack\n",
    "        200\n",
    "        >>> opponent_card.defense\n",
    "        800\n",
    "        \"\"\"\n",
    "        \"*** YOUR CODE HERE ***\"\n",
    "\n",
    "    def copy(self):\n",
    "        \"\"\"\n",
    "        Create a copy of this card.\n",
    "        \"\"\"\n",
    "        return AICard(self.name, self.attack, self.defense)\n",
    "\n",
    "\n",
    "class TutorCard(Card):\n",
    "    cardtype = 'Tutor'\n",
    "\n",
    "    def effect(self, opponent_card, player, opponent):\n",
    "        \"\"\"\n",
    "        Discard the first 3 cards in the opponent's hand and have\n",
    "        them draw the same number of cards from their deck.\n",
    "        >>> from cards import *\n",
    "        >>> player1, player2 = Player(player_deck, 'p1'), Player(opponent_deck, 'p2')\n",
    "        >>> opponent_card = Card('other', 500, 500)\n",
    "        >>> tutor_test = TutorCard('Tutor', 500, 500)\n",
    "        >>> initial_deck_length = len(player2.deck.cards)\n",
    "        >>> tutor_test.effect(opponent_card, player1, player2)\n",
    "        p2 discarded and re-drew 3 cards!\n",
    "        >>> len(player2.hand)\n",
    "        5\n",
    "        >>> len(player2.deck.cards) == initial_deck_length - 3\n",
    "        True\n",
    "        \"\"\"\n",
    "        \"*** YOUR CODE HERE ***\"\n",
    "        # You should add your implementation above this.\n",
    "        print('{} discarded and re-drew 3 cards!'.format(opponent.name))\n",
    "\n",
    "    def copy(self):\n",
    "        \"\"\"\n",
    "        Create a copy of this card.\n",
    "        \"\"\"\n",
    "        return TutorCard(self.name, self.attack, self.defense)\n",
    "\n",
    "\n",
    "class TACard(Card):\n",
    "    cardtype = 'TA'\n",
    "\n",
    "    def effect(self, opponent_card, player, opponent):\n",
    "        \"\"\"\n",
    "        Swap the attack and defense of an opponent's card.\n",
    "        >>> from cards import *\n",
    "        >>> player1, player2 = Player(player_deck, 'p1'), Player(opponent_deck, 'p2')\n",
    "        >>> opponent_card = Card('other', 300, 600)\n",
    "        >>> ta_test = TACard('TA', 500, 500)\n",
    "        >>> ta_test.effect(opponent_card, player1, player2)\n",
    "        >>> opponent_card.attack\n",
    "        600\n",
    "        >>> opponent_card.defense\n",
    "        300\n",
    "        \"\"\"\n",
    "        \"*** YOUR CODE HERE ***\"\n",
    "\n",
    "    def copy(self):\n",
    "        \"\"\"\n",
    "        Create a copy of this card.\n",
    "        \"\"\"\n",
    "        return TACard(self.name, self.attack, self.defense)\n",
    "\n",
    "\n",
    "class InstructorCard(Card):\n",
    "    cardtype = 'Instructor'\n",
    "\n",
    "    def effect(self, opponent_card, player, opponent):\n",
    "        \"\"\"\n",
    "        Adds the attack and defense of the opponent's card to\n",
    "        all cards in the player's deck, then removes all cards\n",
    "        in the opponent's deck that share an attack or defense\n",
    "        stat with the opponent's card.\n",
    "        >>> test_card = Card('card', 300, 300)\n",
    "        >>> instructor_test = InstructorCard('Instructor', 500, 500)\n",
    "        >>> opponent_card = test_card.copy()\n",
    "        >>> test_deck = Deck([test_card.copy() for _ in range(8)])\n",
    "        >>> player1, player2 = Player(test_deck.copy(), 'p1'), Player(test_deck.copy(), 'p2')\n",
    "        >>> instructor_test.effect(opponent_card, player1, player2)\n",
    "        3 cards were discarded from p2's deck!\n",
    "        >>> [(card.attack, card.defense) for card in player1.deck.cards]\n",
    "        [(600, 600), (600, 600), (600, 600)]\n",
    "        >>> len(player2.deck.cards)\n",
    "        0\n",
    "        \"\"\"\n",
    "        orig_opponent_deck_length = len(opponent.deck.cards)\n",
    "        \"*** YOUR CODE HERE ***\"\n",
    "        # You should add your implementation above this.\n",
    "        discarded = orig_opponent_deck_length - len(opponent.deck.cards)\n",
    "        if discarded:\n",
    "            print('{} cards were discarded from {}\\'s deck!'.format(discarded, opponent.name))\n",
    "            return\n",
    "\n",
    "    def copy(self):\n",
    "        return InstructorCard(self.name, self.attack, self.defense)\n",
    "\n",
    "\n",
    "########################################\n",
    "# Do not edit anything below this line #\n",
    "########################################\n",
    "\n",
    "class Deck:\n",
    "    def __init__(self, cards):\n",
    "        \"\"\"\n",
    "        With a list of cards as input, create a deck.\n",
    "        This deck should keep track of the cards it contains, and\n",
    "        we should be able to draw from the deck, taking a random\n",
    "        card out of it.\n",
    "        \"\"\"\n",
    "        self.cards = cards\n",
    "\n",
    "    def draw(self):\n",
    "        \"\"\"\n",
    "        Draw a random card and remove it from the deck.\n",
    "        \"\"\"\n",
    "        assert self.cards, 'The deck is empty!'\n",
    "        rand_index = random.randrange(len(self.cards))\n",
    "        return self.cards.pop(rand_index)\n",
    "\n",
    "    def is_empty(self):\n",
    "        return len(self.cards) == 0\n",
    "\n",
    "    def copy(self):\n",
    "        \"\"\"\n",
    "        Create a copy of this deck.\n",
    "        \"\"\"\n",
    "        return Deck([card.copy() for card in self.cards])\n",
    "\n",
    "\n",
    "class Game:\n",
    "    win_score = 8\n",
    "\n",
    "    def __init__(self, player1, player2):\n",
    "        \"\"\"\n",
    "        Initialize a game of <REPLACE NAME>.\n",
    "        \"\"\"\n",
    "        self.player1, self.player2 = player1, player2\n",
    "        self.p1_score = 0\n",
    "        self.p2_score = 0\n",
    "\n",
    "    def play_round(self, p1_card, p2_card):\n",
    "        \"\"\"\n",
    "        After each player picks a card, play them against\n",
    "        each other.\n",
    "        \"\"\"\n",
    "        p1_card.effect(p2_card, self.player1, self.player2)\n",
    "        p2_card.effect(p1_card, self.player2, self.player1)\n",
    "        p1_power = p1_card.power(p2_card)\n",
    "        p2_power = p2_card.power(p1_card)\n",
    "        if p1_power > p2_power:\n",
    "            # Player 1 wins the round.\n",
    "            self.p1_score += 1\n",
    "            result = 'won'\n",
    "        elif p2_power > p1_power:\n",
    "            # Player 2 wins the round.\n",
    "            self.p2_score += 1\n",
    "            result = 'lost'\n",
    "        else:\n",
    "            # This round is a draw.\n",
    "            result = 'tied'\n",
    "        # Display results to user.\n",
    "        print('You {} this round!'.format(result))\n",
    "        print('{}\\'s card: {}; Power: {}'.format(self.player1.name, p1_card, p1_power))\n",
    "        print('Opponent\\'s card: {}; Power: {}'.format(p2_card, p2_power))\n",
    "\n",
    "    def game_won(self):\n",
    "        \"\"\"\n",
    "        Check if the game is won and, if so,\n",
    "        which player won.\n",
    "        \"\"\"\n",
    "        if self.p1_score < self.win_score and self.p2_score < self.win_score:\n",
    "            return 0\n",
    "        return 1 if self.p1_score > self.p2_score else 2\n",
    "\n",
    "    def display_scores(self):\n",
    "        \"\"\"\n",
    "        Display players' scores to the user.\n",
    "        \"\"\"\n",
    "        print('{}\\'s score: {}'.format(self.player1.name, self.p1_score))\n",
    "        print('Opponent\\'s score: {}'.format(self.p2_score))\n",
    "\n"
   ]
  },
  {
   "cell_type": "code",
   "execution_count": 3,
   "id": "02714a11",
   "metadata": {},
   "outputs": [],
   "source": [
    "class Player:\n",
    "    def __init__(self, deck, name):\n",
    "        \"\"\"Initialize a Player object.\n",
    "        A Player starts the game by drawing 5 cards from their deck. Each turn,\n",
    "        a Player draws another card from the deck and chooses one to play.\n",
    "        >>> test_card = Card('test', 100, 100)\n",
    "        >>> test_deck = Deck([test_card.copy() for _ in range(6)])\n",
    "        >>> test_player = Player(test_deck, 'tester')\n",
    "        >>> len(test_deck.cards)\n",
    "        1\n",
    "        >>> len(test_player.hand)\n",
    "        5\n",
    "        \"\"\"\n",
    "        self.deck = deck\n",
    "        self.name = name\n",
    "        \"*** YOUR CODE HERE ***\"\n",
    "        self.hand = []\n",
    "        for i in range(5):\n",
    "            self.hand.append(deck.draw())\n",
    "\n",
    "    def draw(self):\n",
    "        \"\"\"Draw a card from the player's deck and add it to their hand.\n",
    "        >>> test_card = Card('test', 100, 100)\n",
    "        >>> test_deck = Deck([test_card.copy() for _ in range(6)])\n",
    "        >>> test_player = Player(test_deck, 'tester')\n",
    "        >>> test_player.draw()\n",
    "        >>> len(test_deck.cards)\n",
    "        0\n",
    "        >>> len(test_player.hand)\n",
    "        6\n",
    "        \"\"\"\n",
    "        assert not self.deck.is_empty(), 'Deck is empty!'\n",
    "        \"*** YOUR CODE HERE ***\"\n",
    "        self.hand.append(self.deck.draw())\n",
    "\n",
    "    def play(self, card_index):\n",
    "        \"\"\"Remove and return a card from the player's hand at the given index.\n",
    "        >>> from cards import *\n",
    "        >>> test_player = Player(standard_deck, 'tester')\n",
    "        >>> ta1, ta2 = TACard(\"ta_1\", 300, 400), TACard(\"ta_2\", 500, 600)\n",
    "        >>> tutor1, tutor2 = TutorCard(\"t1\", 200, 500), TutorCard(\"t2\", 600, 400)\n",
    "        >>> test_player.hand = [ta1, ta2, tutor1, tutor2]\n",
    "        >>> test_player.play(0) is ta1\n",
    "        True\n",
    "        >>> test_player.play(2) is tutor2\n",
    "        True\n",
    "        >>> len(test_player.hand)\n",
    "        2\n",
    "        \"\"\"\n",
    "        \"*** YOUR CODE HERE ***\"\n",
    "        \n",
    "        return self.hand.pop(card_index)\n",
    "\n",
    "    def display_hand(self):\n",
    "        \"\"\"\n",
    "        Display the player's current hand to the user.\n",
    "        \"\"\"\n",
    "        print('Your hand:')\n",
    "        for card_index, displayed_card in zip(range(len(self.hand)), [str(card) for card in self.hand]):\n",
    "            indent = ' ' * (5 - len(str(card_index)))\n",
    "            print(card_index, indent + displayed_card)\n",
    "\n",
    "    def play_random(self):\n",
    "        \"\"\"\n",
    "        Play a random card from hand.\n",
    "        \"\"\"\n",
    "        return self.play(random.randrange(len(self.hand)))"
   ]
  },
  {
   "cell_type": "code",
   "execution_count": 98,
   "id": "fdccb183",
   "metadata": {},
   "outputs": [
    {
     "data": {
      "text/plain": [
       "1"
      ]
     },
     "execution_count": 98,
     "metadata": {},
     "output_type": "execute_result"
    }
   ],
   "source": [
    "test_card = Card('test', 100, 100)\n",
    "test_deck = Deck([test_card.copy() for _ in range(6)])\n",
    "test_player = Player(test_deck, 'tester')\n",
    "len(test_deck.cards)"
   ]
  },
  {
   "cell_type": "code",
   "execution_count": 99,
   "id": "c46d6a9d",
   "metadata": {},
   "outputs": [
    {
     "data": {
      "text/plain": [
       "5"
      ]
     },
     "execution_count": 99,
     "metadata": {},
     "output_type": "execute_result"
    }
   ],
   "source": [
    "len(test_player.hand)"
   ]
  },
  {
   "cell_type": "code",
   "execution_count": 100,
   "id": "469f0bda",
   "metadata": {},
   "outputs": [],
   "source": [
    "test_player.draw()"
   ]
  },
  {
   "cell_type": "code",
   "execution_count": 101,
   "id": "ee3f99e8",
   "metadata": {},
   "outputs": [
    {
     "data": {
      "text/plain": [
       "6"
      ]
     },
     "execution_count": 101,
     "metadata": {},
     "output_type": "execute_result"
    }
   ],
   "source": [
    "len(test_player.hand)"
   ]
  },
  {
   "cell_type": "code",
   "execution_count": 102,
   "id": "9406ed8b",
   "metadata": {},
   "outputs": [
    {
     "data": {
      "text/plain": [
       "0"
      ]
     },
     "execution_count": 102,
     "metadata": {},
     "output_type": "execute_result"
    }
   ],
   "source": [
    "\n",
    "len(test_deck.cards)"
   ]
  },
  {
   "cell_type": "code",
   "execution_count": 103,
   "id": "cdf2e46a",
   "metadata": {
    "scrolled": true
   },
   "outputs": [
    {
     "data": {
      "text/plain": [
       "[test: Staff, [100, 100],\n",
       " test: Staff, [100, 100],\n",
       " test: Staff, [100, 100],\n",
       " test: Staff, [100, 100],\n",
       " test: Staff, [100, 100],\n",
       " test: Staff, [100, 100]]"
      ]
     },
     "execution_count": 103,
     "metadata": {},
     "output_type": "execute_result"
    }
   ],
   "source": [
    "test_player.hand"
   ]
  },
  {
   "cell_type": "code",
   "execution_count": 4,
   "id": "a693279b",
   "metadata": {},
   "outputs": [],
   "source": [
    "from cards import *\n",
    "test_player = Player(standard_deck, 'tester')\n",
    "ta1, ta2 = TACard(\"ta_1\", 300, 400), TACard(\"ta_2\", 500, 600)\n",
    "tutor1, tutor2 = TutorCard(\"t1\", 200, 500), TutorCard(\"t2\", 600, 400)\n",
    "test_player.hand = [ta1, ta2, tutor1, tutor2]"
   ]
  },
  {
   "cell_type": "code",
   "execution_count": 5,
   "id": "da2fb3d7",
   "metadata": {},
   "outputs": [
    {
     "data": {
      "text/plain": [
       "ta_1: TA, [300, 400]"
      ]
     },
     "execution_count": 5,
     "metadata": {},
     "output_type": "execute_result"
    }
   ],
   "source": [
    "test_player.play(0) "
   ]
  },
  {
   "cell_type": "code",
   "execution_count": null,
   "id": "94873b2d",
   "metadata": {},
   "outputs": [],
   "source": []
  }
 ],
 "metadata": {
  "kernelspec": {
   "display_name": "Python 3 (ipykernel)",
   "language": "python",
   "name": "python3"
  },
  "language_info": {
   "codemirror_mode": {
    "name": "ipython",
    "version": 3
   },
   "file_extension": ".py",
   "mimetype": "text/x-python",
   "name": "python",
   "nbconvert_exporter": "python",
   "pygments_lexer": "ipython3",
   "version": "3.8.11"
  }
 },
 "nbformat": 4,
 "nbformat_minor": 5
}
