{
 "cells": [
  {
   "cell_type": "code",
   "execution_count": 36,
   "id": "65538f81",
   "metadata": {},
   "outputs": [],
   "source": [
    "class Account:\n",
    "    \"\"\"An account has a balance and a holder.\n",
    "    >>> a = Account('John')\n",
    "    >>> a.deposit(10)\n",
    "    10\n",
    "    >>> a.balance\n",
    "    10\n",
    "    >>> a.interest\n",
    "    0.02\n",
    "    >>> a.time_to_retire(10.25) # 10 -> 10.2 -> 10.404\n",
    "    2\n",
    "    >>> a.balance               # balance should not change\n",
    "    10\n",
    "    >>> a.time_to_retire(11)    # 10 -> 10.2 -> ... -> 11.040808032\n",
    "    5\n",
    "    >>> a.time_to_retire(100)\n",
    "    117\n",
    "    \"\"\"\n",
    "    max_withdrawal = 10\n",
    "    interest = 0.02\n",
    "\n",
    "    def __init__(self, account_holder):\n",
    "        self.balance = 0\n",
    "        self.holder = account_holder\n",
    "\n",
    "    def deposit(self, amount):\n",
    "        self.balance = self.balance + amount\n",
    "        return self.balance\n",
    "\n",
    "    def withdraw(self, amount):\n",
    "        if amount > self.balance:\n",
    "            return \"Insufficient funds\"\n",
    "        if amount > self.max_withdrawal:\n",
    "            return \"Can't withdraw that amount\"\n",
    "        self.balance = self.balance - amount\n",
    "        return self.balance\n",
    "\n",
    "    def time_to_retire(self, amount):\n",
    "        \"\"\"Return the number of years until balance would grow to amount.\"\"\"\n",
    "        assert self.balance > 0 and amount > 0 and self.interest > 0\n",
    "        \"*** YOUR CODE HERE ***\"\n",
    "        \n",
    "        temp_balance = self.balance\n",
    "        year = 0\n",
    "        while temp_balance <= amount:\n",
    "            temp_balance = temp_balance * (1 + self.interest)\n",
    "            year += 1\n",
    "            \n",
    "        return year\n",
    "\n",
    "class FreeChecking(Account):\n",
    "    \"\"\"A bank account that charges for withdrawals, but the first two are free!\n",
    "    >>> ch = FreeChecking('Jack')\n",
    "    >>> ch.balance = 20\n",
    "    >>> ch.withdraw(100)  # First one's free\n",
    "    'Insufficient funds'\n",
    "    >>> ch.withdraw(3)    # And the second\n",
    "    17\n",
    "    >>> ch.balance\n",
    "    17\n",
    "    >>> ch.withdraw(3)    # Ok, two free withdrawals is enough\n",
    "    13\n",
    "    >>> ch.withdraw(3)\n",
    "    9\n",
    "    >>> ch2 = FreeChecking('John')\n",
    "    >>> ch2.balance = 10\n",
    "    >>> ch2.withdraw(3) # No fee\n",
    "    7\n",
    "    >>> ch.withdraw(3)  # ch still charges a fee\n",
    "    5\n",
    "    >>> ch.withdraw(5)  # Not enough to cover fee + withdraw\n",
    "    'Insufficient funds'\n",
    "    \"\"\"\n",
    "    withdraw_fee = 1\n",
    "    free_withdrawals = 2\n",
    "    \n",
    "    def withdraw(self, amount):\n",
    "        if amount > self.balance:\n",
    "            self.free_withdrawals -= 1\n",
    "            return \"Insufficient funds\"\n",
    "        if amount > self.max_withdrawal:\n",
    "            self.free_withdrawals -= 1\n",
    "            return \"Can't withdraw that amount\"\n",
    "        \n",
    "        if self.free_withdrawals > 0:\n",
    "            self.free_withdrawals -= 1\n",
    "            return super().withdraw(amount)\n",
    "        else:\n",
    "            return super().withdraw(amount + self.withdraw_fee)"
   ]
  },
  {
   "cell_type": "code",
   "execution_count": 37,
   "id": "59ab521d",
   "metadata": {},
   "outputs": [],
   "source": [
    "ch = FreeChecking('Jack')"
   ]
  },
  {
   "cell_type": "code",
   "execution_count": 38,
   "id": "1f2be99e",
   "metadata": {},
   "outputs": [],
   "source": [
    "ch.balance = 20"
   ]
  },
  {
   "cell_type": "code",
   "execution_count": 39,
   "id": "2bfe7e6b",
   "metadata": {},
   "outputs": [
    {
     "data": {
      "text/plain": [
       "'Insufficient funds'"
      ]
     },
     "execution_count": 39,
     "metadata": {},
     "output_type": "execute_result"
    }
   ],
   "source": [
    "ch.withdraw(100)"
   ]
  },
  {
   "cell_type": "code",
   "execution_count": 40,
   "id": "907fb78f",
   "metadata": {},
   "outputs": [
    {
     "data": {
      "text/plain": [
       "17"
      ]
     },
     "execution_count": 40,
     "metadata": {},
     "output_type": "execute_result"
    }
   ],
   "source": [
    "ch.withdraw(3)"
   ]
  },
  {
   "cell_type": "code",
   "execution_count": 41,
   "id": "701bfb8c",
   "metadata": {},
   "outputs": [
    {
     "data": {
      "text/plain": [
       "17"
      ]
     },
     "execution_count": 41,
     "metadata": {},
     "output_type": "execute_result"
    }
   ],
   "source": [
    "ch.balance"
   ]
  },
  {
   "cell_type": "code",
   "execution_count": 42,
   "id": "a9b2621f",
   "metadata": {},
   "outputs": [
    {
     "data": {
      "text/plain": [
       "14"
      ]
     },
     "execution_count": 42,
     "metadata": {},
     "output_type": "execute_result"
    }
   ],
   "source": [
    "ch.withdraw(3)"
   ]
  },
  {
   "cell_type": "code",
   "execution_count": 43,
   "id": "b64e15e1",
   "metadata": {},
   "outputs": [
    {
     "data": {
      "text/plain": [
       "10"
      ]
     },
     "execution_count": 43,
     "metadata": {},
     "output_type": "execute_result"
    }
   ],
   "source": [
    "ch.withdraw(3)"
   ]
  },
  {
   "cell_type": "code",
   "execution_count": null,
   "id": "aea31c5f",
   "metadata": {},
   "outputs": [],
   "source": []
  }
 ],
 "metadata": {
  "kernelspec": {
   "display_name": "Python 3",
   "language": "python",
   "name": "python3"
  },
  "language_info": {
   "codemirror_mode": {
    "name": "ipython",
    "version": 3
   },
   "file_extension": ".py",
   "mimetype": "text/x-python",
   "name": "python",
   "nbconvert_exporter": "python",
   "pygments_lexer": "ipython3",
   "version": "3.8.11"
  }
 },
 "nbformat": 4,
 "nbformat_minor": 5
}
