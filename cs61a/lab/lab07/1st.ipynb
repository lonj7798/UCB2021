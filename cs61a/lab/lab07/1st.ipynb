{
 "cells": [
  {
   "cell_type": "code",
   "execution_count": 3,
   "id": "77eac3e5",
   "metadata": {},
   "outputs": [],
   "source": [
    "from car import *"
   ]
  },
  {
   "cell_type": "code",
   "execution_count": 4,
   "id": "e3c5279f",
   "metadata": {},
   "outputs": [
    {
     "data": {
      "text/plain": [
       "'Model S'"
      ]
     },
     "execution_count": 4,
     "metadata": {},
     "output_type": "execute_result"
    }
   ],
   "source": [
    "deneros_car = Car('Tesla', 'Model S')\n",
    "deneros_car.model"
   ]
  },
  {
   "cell_type": "code",
   "execution_count": 5,
   "id": "c5e04bc6",
   "metadata": {},
   "outputs": [
    {
     "data": {
      "text/plain": [
       "'Tesla Model S goes vroom!'"
      ]
     },
     "execution_count": 5,
     "metadata": {},
     "output_type": "execute_result"
    }
   ],
   "source": [
    "deneros_car.gas = 10\n",
    ">>> deneros_car.drive()"
   ]
  },
  {
   "cell_type": "code",
   "execution_count": 6,
   "id": "95012d9a",
   "metadata": {},
   "outputs": [
    {
     "data": {
      "text/plain": [
       "'Cannot drive!'"
      ]
     },
     "execution_count": 6,
     "metadata": {},
     "output_type": "execute_result"
    }
   ],
   "source": [
    "deneros_car.drive()"
   ]
  },
  {
   "cell_type": "code",
   "execution_count": 7,
   "id": "f1da1e21",
   "metadata": {},
   "outputs": [
    {
     "data": {
      "text/plain": [
       "'Gas level: 20'"
      ]
     },
     "execution_count": 7,
     "metadata": {},
     "output_type": "execute_result"
    }
   ],
   "source": [
    "deneros_car.fill_gas()"
   ]
  },
  {
   "cell_type": "code",
   "execution_count": 8,
   "id": "43ca53b4",
   "metadata": {},
   "outputs": [
    {
     "data": {
      "text/plain": [
       "20"
      ]
     },
     "execution_count": 8,
     "metadata": {},
     "output_type": "execute_result"
    }
   ],
   "source": [
    "deneros_car.gas"
   ]
  },
  {
   "cell_type": "code",
   "execution_count": 9,
   "id": "8fbe7a6b",
   "metadata": {},
   "outputs": [
    {
     "data": {
      "text/plain": [
       "30"
      ]
     },
     "execution_count": 9,
     "metadata": {},
     "output_type": "execute_result"
    }
   ],
   "source": [
    "Car.gas"
   ]
  },
  {
   "cell_type": "code",
   "execution_count": 10,
   "id": "a8a6bd88",
   "metadata": {},
   "outputs": [
    {
     "data": {
      "text/plain": [
       "2"
      ]
     },
     "execution_count": 10,
     "metadata": {},
     "output_type": "execute_result"
    }
   ],
   "source": [
    "from car import *\n",
    ">>> deneros_car = Car('Tesla', 'Model S')\n",
    ">>> deneros_car.wheels = 2\n",
    ">>> deneros_car.wheels"
   ]
  },
  {
   "cell_type": "code",
   "execution_count": 11,
   "id": "5d7a499e",
   "metadata": {},
   "outputs": [
    {
     "data": {
      "text/plain": [
       "4"
      ]
     },
     "execution_count": 11,
     "metadata": {},
     "output_type": "execute_result"
    }
   ],
   "source": [
    "Car.num_wheels"
   ]
  },
  {
   "cell_type": "code",
   "execution_count": 12,
   "id": "81aa4dea",
   "metadata": {},
   "outputs": [
    {
     "data": {
      "text/plain": [
       "'Cannot drive!'"
      ]
     },
     "execution_count": 12,
     "metadata": {},
     "output_type": "execute_result"
    }
   ],
   "source": [
    "deneros_car.drive()"
   ]
  },
  {
   "cell_type": "code",
   "execution_count": 13,
   "id": "2034cbe8",
   "metadata": {},
   "outputs": [
    {
     "ename": "TypeError",
     "evalue": "drive() missing 1 required positional argument: 'self'",
     "output_type": "error",
     "traceback": [
      "\u001b[0;31m---------------------------------------------------------------------------\u001b[0m",
      "\u001b[0;31mTypeError\u001b[0m                                 Traceback (most recent call last)",
      "\u001b[0;32m<ipython-input-13-33de82e35e4a>\u001b[0m in \u001b[0;36m<module>\u001b[0;34m\u001b[0m\n\u001b[0;32m----> 1\u001b[0;31m \u001b[0mCar\u001b[0m\u001b[0;34m.\u001b[0m\u001b[0mdrive\u001b[0m\u001b[0;34m(\u001b[0m\u001b[0;34m)\u001b[0m\u001b[0;34m\u001b[0m\u001b[0;34m\u001b[0m\u001b[0m\n\u001b[0m",
      "\u001b[0;31mTypeError\u001b[0m: drive() missing 1 required positional argument: 'self'"
     ]
    }
   ],
   "source": [
    "Car.drive()"
   ]
  },
  {
   "cell_type": "code",
   "execution_count": 14,
   "id": "7a784a24",
   "metadata": {},
   "outputs": [
    {
     "data": {
      "text/plain": [
       "'Cannot drive!'"
      ]
     },
     "execution_count": 14,
     "metadata": {},
     "output_type": "execute_result"
    }
   ],
   "source": [
    "Car.drive(deneros_car)"
   ]
  },
  {
   "cell_type": "code",
   "execution_count": 15,
   "id": "4e836764",
   "metadata": {},
   "outputs": [
    {
     "name": "stdout",
     "output_type": "stream",
     "text": [
      "Vroom! This Monster Truck is huge!\n"
     ]
    },
    {
     "data": {
      "text/plain": [
       "'Monster Batmobile goes vroom!'"
      ]
     },
     "execution_count": 15,
     "metadata": {},
     "output_type": "execute_result"
    }
   ],
   "source": [
    "from car import *\n",
    ">>> deneros_car = MonsterTruck('Monster', 'Batmobile')\n",
    ">>> deneros_car.drive()"
   ]
  },
  {
   "cell_type": "code",
   "execution_count": 16,
   "id": "415976f7",
   "metadata": {},
   "outputs": [
    {
     "data": {
      "text/plain": [
       "'Monster Batmobile goes vroom!'"
      ]
     },
     "execution_count": 16,
     "metadata": {},
     "output_type": "execute_result"
    }
   ],
   "source": [
    "Car.drive(deneros_car)"
   ]
  },
  {
   "cell_type": "code",
   "execution_count": 17,
   "id": "93555d9d",
   "metadata": {},
   "outputs": [
    {
     "name": "stdout",
     "output_type": "stream",
     "text": [
      "Vroom! This Monster Truck is huge!\n"
     ]
    },
    {
     "data": {
      "text/plain": [
       "'Monster Batmobile goes vroom!'"
      ]
     },
     "execution_count": 17,
     "metadata": {},
     "output_type": "execute_result"
    }
   ],
   "source": [
    "MonsterTruck.drive(deneros_car)"
   ]
  },
  {
   "cell_type": "code",
   "execution_count": 18,
   "id": "5068dc7d",
   "metadata": {},
   "outputs": [
    {
     "ename": "AttributeError",
     "evalue": "type object 'Car' has no attribute 'rev'",
     "output_type": "error",
     "traceback": [
      "\u001b[0;31m---------------------------------------------------------------------------\u001b[0m",
      "\u001b[0;31mAttributeError\u001b[0m                            Traceback (most recent call last)",
      "\u001b[0;32m<ipython-input-18-09d013465cf8>\u001b[0m in \u001b[0;36m<module>\u001b[0;34m\u001b[0m\n\u001b[0;32m----> 1\u001b[0;31m \u001b[0mCar\u001b[0m\u001b[0;34m.\u001b[0m\u001b[0mrev\u001b[0m\u001b[0;34m(\u001b[0m\u001b[0mdeneros_car\u001b[0m\u001b[0;34m)\u001b[0m\u001b[0;34m\u001b[0m\u001b[0;34m\u001b[0m\u001b[0m\n\u001b[0m",
      "\u001b[0;31mAttributeError\u001b[0m: type object 'Car' has no attribute 'rev'"
     ]
    }
   ],
   "source": [
    "Car.rev(deneros_car)"
   ]
  },
  {
   "cell_type": "code",
   "execution_count": 74,
   "id": "c622429a",
   "metadata": {},
   "outputs": [],
   "source": [
    "class Account:\n",
    "    \"\"\"An account has a balance and a holder.\n",
    "    >>> a = Account('John')\n",
    "    >>> a.deposit(10)\n",
    "    10\n",
    "    >>> a.balance\n",
    "    10\n",
    "    >>> a.interest\n",
    "    0.02\n",
    "    >>> a.time_to_retire(10.25) # 10 -> 10.2 -> 10.404\n",
    "    2\n",
    "    >>> a.balance               # balance should not change\n",
    "    10\n",
    "    >>> a.time_to_retire(11)    # 10 -> 10.2 -> ... -> 11.040808032\n",
    "    5\n",
    "    >>> a.time_to_retire(100)\n",
    "    117\n",
    "    \"\"\"\n",
    "    max_withdrawal = 10\n",
    "    interest = 0.02\n",
    "\n",
    "    def __init__(self, account_holder):\n",
    "        self.balance = 0\n",
    "        self.holder = account_holder\n",
    "\n",
    "    def deposit(self, amount):\n",
    "        self.balance = self.balance + amount\n",
    "        return self.balance\n",
    "\n",
    "    def withdraw(self, amount):\n",
    "        if amount > self.balance:\n",
    "            return \"Insufficient funds\"\n",
    "        if amount > self.max_withdrawal:\n",
    "            return \"Can't withdraw that amount\"\n",
    "        self.balance = self.balance - amount\n",
    "        return self.balance\n",
    "    \n",
    "    def time_to_retire(self, amount):\n",
    "        \"\"\"Return the number of years until balance would grow to amount.\"\"\"\n",
    "        assert self.balance > 0 and amount > 0 and self.interest > 0\n",
    "        \"*** YOUR CODE HERE ***\"\n",
    "        temp_balance = self.balance\n",
    "        year = 0\n",
    "        while temp_balance <= amount:\n",
    "            temp_balance = temp_balance * (1 + self.interest)\n",
    "            year += 1\n",
    "            \n",
    "        return year"
   ]
  },
  {
   "cell_type": "code",
   "execution_count": 32,
   "id": "6361b504",
   "metadata": {},
   "outputs": [
    {
     "data": {
      "text/plain": [
       "10"
      ]
     },
     "execution_count": 32,
     "metadata": {},
     "output_type": "execute_result"
    }
   ],
   "source": [
    "a = Account('John')\n",
    "a.deposit(10)"
   ]
  },
  {
   "cell_type": "code",
   "execution_count": 33,
   "id": "e5ce393b",
   "metadata": {},
   "outputs": [
    {
     "data": {
      "text/plain": [
       "10"
      ]
     },
     "execution_count": 33,
     "metadata": {},
     "output_type": "execute_result"
    }
   ],
   "source": [
    "a.balance"
   ]
  },
  {
   "cell_type": "code",
   "execution_count": 34,
   "id": "e9330208",
   "metadata": {},
   "outputs": [
    {
     "data": {
      "text/plain": [
       "0.02"
      ]
     },
     "execution_count": 34,
     "metadata": {},
     "output_type": "execute_result"
    }
   ],
   "source": [
    "a.interest"
   ]
  },
  {
   "cell_type": "code",
   "execution_count": 35,
   "id": "c00730b6",
   "metadata": {},
   "outputs": [
    {
     "data": {
      "text/plain": [
       "2"
      ]
     },
     "execution_count": 35,
     "metadata": {},
     "output_type": "execute_result"
    }
   ],
   "source": [
    "a.time_to_retire(10.25)"
   ]
  },
  {
   "cell_type": "code",
   "execution_count": 36,
   "id": "706ad539",
   "metadata": {},
   "outputs": [
    {
     "data": {
      "text/plain": [
       "10"
      ]
     },
     "execution_count": 36,
     "metadata": {},
     "output_type": "execute_result"
    }
   ],
   "source": [
    "a.balance"
   ]
  },
  {
   "cell_type": "code",
   "execution_count": 37,
   "id": "f8248f77",
   "metadata": {},
   "outputs": [
    {
     "data": {
      "text/plain": [
       "5"
      ]
     },
     "execution_count": 37,
     "metadata": {},
     "output_type": "execute_result"
    }
   ],
   "source": [
    "a.time_to_retire(11)"
   ]
  },
  {
   "cell_type": "code",
   "execution_count": 38,
   "id": "34a54c3f",
   "metadata": {},
   "outputs": [
    {
     "data": {
      "text/plain": [
       "117"
      ]
     },
     "execution_count": 38,
     "metadata": {},
     "output_type": "execute_result"
    }
   ],
   "source": [
    "a.time_to_retire(100)"
   ]
  },
  {
   "cell_type": "code",
   "execution_count": 39,
   "id": "45fd811e",
   "metadata": {},
   "outputs": [
    {
     "data": {
      "text/plain": [
       "'Insufficient funds'"
      ]
     },
     "execution_count": 39,
     "metadata": {},
     "output_type": "execute_result"
    }
   ],
   "source": [
    "a.withdraw(1000)"
   ]
  },
  {
   "cell_type": "code",
   "execution_count": 104,
   "id": "07a0c1ff",
   "metadata": {},
   "outputs": [],
   "source": [
    "class FreeChecking(Account):\n",
    "    \"\"\"A bank account that charges for withdrawals, but the first two are free!\n",
    "    >>> ch = FreeChecking('Jack')\n",
    "    >>> ch.balance = 20\n",
    "    >>> ch.withdraw(100)  # First one's free\n",
    "    'Insufficient funds'\n",
    "    >>> ch.withdraw(3)    # And the second\n",
    "    17\n",
    "    >>> ch.balance\n",
    "    17\n",
    "    >>> ch.withdraw(3)    # Ok, two free withdrawals is enough\n",
    "    13\n",
    "    >>> ch.withdraw(3)\n",
    "    9\n",
    "    >>> ch2 = FreeChecking('John')\n",
    "    >>> ch2.balance = 10\n",
    "    >>> ch2.withdraw(3) # No fee\n",
    "    7\n",
    "    >>> ch.withdraw(3)  # ch still charges a fee\n",
    "    5\n",
    "    >>> ch.withdraw(5)  # Not enough to cover fee + withdraw\n",
    "    'Insufficient funds'\n",
    "    \"\"\"\n",
    "    withdraw_fee = 1\n",
    "    free_withdrawals = 2\n",
    "    \n",
    "    def withdraw(self, amount):\n",
    "        print('aaaaaa')\n",
    "        if self.free_withdrawals > 0:\n",
    "            super().withdraw(amount)\n",
    "            self.free_withdrawals -= 1\n",
    "        super().withdraw(amount + withdraw_fee)\n",
    "\n",
    "    \"\"\"\n",
    "    def withdraw(self, amount):\n",
    "        if amount > self.balance:\n",
    "            return \"Insufficient funds\"\n",
    "            self.free_withdrawals -= 1\n",
    "        \n",
    "        if amount > self.max_withdrawal:\n",
    "            return \"Can't withdraw that amount\"\n",
    "            self.free_withdrawals -= 1\n",
    "        \n",
    "        if self.free_withdrawals > 0:\n",
    "            self.balance = self.balance - amount\n",
    "        else:\n",
    "            self.balacne = self.balance - amount - self.withdraw_fee\n",
    "            \n",
    "        return self.balance\"\"\""
   ]
  },
  {
   "cell_type": "code",
   "execution_count": 105,
   "id": "2ed894dd",
   "metadata": {},
   "outputs": [],
   "source": [
    "from lab07 import *\n",
    "ch = FreeChecking('Jack')\n",
    "ch.balance = 20"
   ]
  },
  {
   "cell_type": "code",
   "execution_count": 106,
   "id": "91b6bd50",
   "metadata": {},
   "outputs": [
    {
     "data": {
      "text/plain": [
       "19"
      ]
     },
     "execution_count": 106,
     "metadata": {},
     "output_type": "execute_result"
    }
   ],
   "source": [
    "ch.withdraw(1)"
   ]
  },
  {
   "cell_type": "code",
   "execution_count": 107,
   "id": "a83a7802",
   "metadata": {},
   "outputs": [
    {
     "data": {
      "text/plain": [
       "16"
      ]
     },
     "execution_count": 107,
     "metadata": {},
     "output_type": "execute_result"
    }
   ],
   "source": [
    "ch.withdraw(3)"
   ]
  },
  {
   "cell_type": "code",
   "execution_count": 47,
   "id": "65a68a3e",
   "metadata": {},
   "outputs": [
    {
     "data": {
      "text/plain": [
       "17"
      ]
     },
     "execution_count": 47,
     "metadata": {},
     "output_type": "execute_result"
    }
   ],
   "source": [
    "ch.balance"
   ]
  },
  {
   "cell_type": "code",
   "execution_count": 28,
   "id": "ed4545e8",
   "metadata": {},
   "outputs": [
    {
     "data": {
      "text/plain": [
       "13"
      ]
     },
     "execution_count": 28,
     "metadata": {},
     "output_type": "execute_result"
    }
   ],
   "source": [
    ">>> ch.withdraw(3)"
   ]
  },
  {
   "cell_type": "code",
   "execution_count": 29,
   "id": "a8e6faf1",
   "metadata": {},
   "outputs": [
    {
     "data": {
      "text/plain": [
       "9"
      ]
     },
     "execution_count": 29,
     "metadata": {},
     "output_type": "execute_result"
    }
   ],
   "source": [
    "ch.withdraw(3)"
   ]
  },
  {
   "cell_type": "code",
   "execution_count": 30,
   "id": "18a2f2bd",
   "metadata": {},
   "outputs": [
    {
     "data": {
      "text/plain": [
       "5"
      ]
     },
     "execution_count": 30,
     "metadata": {},
     "output_type": "execute_result"
    }
   ],
   "source": [
    "ch.withdraw(3)"
   ]
  },
  {
   "cell_type": "code",
   "execution_count": 18,
   "id": "2715bd96",
   "metadata": {},
   "outputs": [
    {
     "data": {
      "text/plain": [
       "7"
      ]
     },
     "execution_count": 18,
     "metadata": {},
     "output_type": "execute_result"
    }
   ],
   "source": [
    "ch2 = FreeChecking('John')\n",
    ">>> ch2.balance = 10\n",
    ">>> ch2.withdraw(3)"
   ]
  },
  {
   "cell_type": "code",
   "execution_count": null,
   "id": "863ff560",
   "metadata": {},
   "outputs": [],
   "source": []
  },
  {
   "cell_type": "code",
   "execution_count": null,
   "id": "808661d5",
   "metadata": {},
   "outputs": [],
   "source": []
  }
 ],
 "metadata": {
  "kernelspec": {
   "display_name": "Python 3",
   "language": "python",
   "name": "python3"
  },
  "language_info": {
   "codemirror_mode": {
    "name": "ipython",
    "version": 3
   },
   "file_extension": ".py",
   "mimetype": "text/x-python",
   "name": "python",
   "nbconvert_exporter": "python",
   "pygments_lexer": "ipython3",
   "version": "3.8.11"
  }
 },
 "nbformat": 4,
 "nbformat_minor": 5
}
