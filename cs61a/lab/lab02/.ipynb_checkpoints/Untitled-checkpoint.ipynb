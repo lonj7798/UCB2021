{
 "cells": [
  {
   "cell_type": "code",
   "execution_count": 1,
   "id": "a451109c",
   "metadata": {},
   "outputs": [
    {
     "data": {
      "text/plain": [
       "<function __main__.<lambda>(x)>"
      ]
     },
     "execution_count": 1,
     "metadata": {},
     "output_type": "execute_result"
    }
   ],
   "source": [
    "lambda x: x"
   ]
  },
  {
   "cell_type": "code",
   "execution_count": 2,
   "id": "b01bdfd7",
   "metadata": {},
   "outputs": [
    {
     "data": {
      "text/plain": [
       "3"
      ]
     },
     "execution_count": 2,
     "metadata": {},
     "output_type": "execute_result"
    }
   ],
   "source": [
    "(lambda: 3)()"
   ]
  },
  {
   "cell_type": "code",
   "execution_count": 10,
   "id": "a3e17859",
   "metadata": {},
   "outputs": [
    {
     "data": {
      "text/plain": [
       "<function __main__.<lambda>.<locals>.<lambda>()>"
      ]
     },
     "execution_count": 10,
     "metadata": {},
     "output_type": "execute_result"
    }
   ],
   "source": [
    "b = lambda x: lambda: x\n",
    "c = b(88)\n",
    "c"
   ]
  },
  {
   "cell_type": "code",
   "execution_count": 11,
   "id": "8ad3ad1c",
   "metadata": {},
   "outputs": [
    {
     "data": {
      "text/plain": [
       "88"
      ]
     },
     "execution_count": 11,
     "metadata": {},
     "output_type": "execute_result"
    }
   ],
   "source": [
    "c()"
   ]
  },
  {
   "cell_type": "code",
   "execution_count": 13,
   "id": "1398af0a",
   "metadata": {},
   "outputs": [
    {
     "data": {
      "text/plain": [
       "<function __main__.<lambda>(x)>"
      ]
     },
     "execution_count": 13,
     "metadata": {},
     "output_type": "execute_result"
    }
   ],
   "source": [
    "x = None\n",
    "\n",
    "x\n",
    "lambda x: x"
   ]
  },
  {
   "cell_type": "code",
   "execution_count": 14,
   "id": "ef89ff21",
   "metadata": {},
   "outputs": [
    {
     "data": {
      "text/plain": [
       "<function __main__.<lambda>(z)>"
      ]
     },
     "execution_count": 14,
     "metadata": {},
     "output_type": "execute_result"
    }
   ],
   "source": [
    "print_lambda = lambda z: print(z)\n",
    "print_lambda"
   ]
  },
  {
   "cell_type": "code",
   "execution_count": 15,
   "id": "eba591c6",
   "metadata": {},
   "outputs": [
    {
     "name": "stdout",
     "output_type": "stream",
     "text": [
      "1000\n"
     ]
    }
   ],
   "source": [
    "one_thousand = print_lambda(1000)\n",
    "one_thousand"
   ]
  },
  {
   "cell_type": "code",
   "execution_count": 16,
   "id": "450dcee8",
   "metadata": {},
   "outputs": [],
   "source": [
    "one_thousand"
   ]
  },
  {
   "cell_type": "code",
   "execution_count": 17,
   "id": "71367a51",
   "metadata": {},
   "outputs": [
    {
     "data": {
      "text/plain": [
       "<function __main__.even.<locals>.odd(x)>"
      ]
     },
     "execution_count": 17,
     "metadata": {},
     "output_type": "execute_result"
    }
   ],
   "source": [
    "def even(f):\n",
    "    def odd(x):\n",
    "        if x < 0:\n",
    "            return f(-x)\n",
    "        return f(x)\n",
    "    return odd\n",
    "steven = lambda x: x\n",
    "stewart = even(steven)\n",
    "stewart"
   ]
  },
  {
   "cell_type": "code",
   "execution_count": 18,
   "id": "dbc3b585",
   "metadata": {},
   "outputs": [
    {
     "data": {
      "text/plain": [
       "61"
      ]
     },
     "execution_count": 18,
     "metadata": {},
     "output_type": "execute_result"
    }
   ],
   "source": [
    "stewart(61)"
   ]
  },
  {
   "cell_type": "code",
   "execution_count": 19,
   "id": "0f53ee56",
   "metadata": {},
   "outputs": [
    {
     "name": "stdout",
     "output_type": "stream",
     "text": [
      "beets\n"
     ]
    }
   ],
   "source": [
    "def cake():\n",
    "    print('beets')\n",
    "    def pie():\n",
    "        print('sweets')\n",
    "        return 'cake'\n",
    "    return pie\n",
    "chocolate = cake()"
   ]
  },
  {
   "cell_type": "code",
   "execution_count": 20,
   "id": "afde6244",
   "metadata": {
    "scrolled": true
   },
   "outputs": [
    {
     "name": "stdout",
     "output_type": "stream",
     "text": [
      "sweets\n"
     ]
    }
   ],
   "source": [
    "more_chocolate, more_cake = chocolate(), cake"
   ]
  },
  {
   "cell_type": "code",
   "execution_count": 21,
   "id": "a39834ff",
   "metadata": {},
   "outputs": [
    {
     "data": {
      "text/plain": [
       "'cake'"
      ]
     },
     "execution_count": 21,
     "metadata": {},
     "output_type": "execute_result"
    }
   ],
   "source": [
    "more_chocolate"
   ]
  },
  {
   "cell_type": "code",
   "execution_count": 27,
   "id": "167be5ba",
   "metadata": {},
   "outputs": [
    {
     "name": "stdout",
     "output_type": "stream",
     "text": [
      "sweets\n"
     ]
    },
    {
     "data": {
      "text/plain": [
       "'cake'"
      ]
     },
     "execution_count": 27,
     "metadata": {},
     "output_type": "execute_result"
    }
   ],
   "source": [
    "chocolate()"
   ]
  },
  {
   "cell_type": "code",
   "execution_count": 26,
   "id": "41543de0",
   "metadata": {},
   "outputs": [
    {
     "name": "stdout",
     "output_type": "stream",
     "text": [
      "beets\n"
     ]
    },
    {
     "data": {
      "text/plain": [
       "<function __main__.cake.<locals>.pie()>"
      ]
     },
     "execution_count": 26,
     "metadata": {},
     "output_type": "execute_result"
    }
   ],
   "source": [
    "cake()"
   ]
  },
  {
   "cell_type": "code",
   "execution_count": 23,
   "id": "4f01c16c",
   "metadata": {},
   "outputs": [
    {
     "data": {
      "text/plain": [
       "<function __main__.cake()>"
      ]
     },
     "execution_count": 23,
     "metadata": {},
     "output_type": "execute_result"
    }
   ],
   "source": [
    "more_cake"
   ]
  },
  {
   "cell_type": "code",
   "execution_count": 24,
   "id": "998f378f",
   "metadata": {},
   "outputs": [
    {
     "data": {
      "text/plain": [
       "<function __main__.cake.<locals>.pie()>"
      ]
     },
     "execution_count": 24,
     "metadata": {},
     "output_type": "execute_result"
    }
   ],
   "source": [
    "chocolate"
   ]
  },
  {
   "cell_type": "code",
   "execution_count": 30,
   "id": "16f2d3a7",
   "metadata": {},
   "outputs": [
    {
     "name": "stdout",
     "output_type": "stream",
     "text": [
      "abcdefg\n"
     ]
    }
   ],
   "source": [
    "print_lambda = lambda z: print(z)\n",
    "print_lambda('abcdefg')"
   ]
  },
  {
   "cell_type": "code",
   "execution_count": 1,
   "id": "d09fafaf",
   "metadata": {},
   "outputs": [],
   "source": [
    "from operator import add, mul, mod"
   ]
  },
  {
   "cell_type": "code",
   "execution_count": 80,
   "id": "4c439552",
   "metadata": {},
   "outputs": [],
   "source": [
    "def lambda_curry2(func):\n",
    "    \"\"\"\n",
    "    Returns a Curried version of a two-argument function FUNC.\n",
    "    >>> from operator import add, mul, mod\n",
    "    >>> curried_add = lambda_curry2(add)\n",
    "    >>> add_three = curried_add(3)\n",
    "    >>> add_three(5)\n",
    "    8\n",
    "    >>> curried_mul = lambda_curry2(mul)\n",
    "    >>> mul_5 = curried_mul(5)\n",
    "    >>> mul_5(42)\n",
    "    210\n",
    "    >>> lambda_curry2(mod)(123)(10)\n",
    "    3\n",
    "    \"\"\"\n",
    "    \"*** YOUR CODE HERE ***\"\n",
    "    \n",
    "    \"\"\"def get_first_value(x1):\n",
    "        \n",
    "        def get_second_value(x2):\n",
    "            return func(x1, x2)\n",
    "    \n",
    "        return func2\n",
    "    \n",
    "    return func1\"\"\"\n",
    "    return lambda x1: lambda x2: func(x1, x2)"
   ]
  },
  {
   "cell_type": "code",
   "execution_count": 81,
   "id": "4426a27f",
   "metadata": {},
   "outputs": [
    {
     "data": {
      "text/plain": [
       "8"
      ]
     },
     "execution_count": 81,
     "metadata": {},
     "output_type": "execute_result"
    }
   ],
   "source": [
    "curried_add = lambda_curry2(add)\n",
    "add_three = curried_add(3)\n",
    "add_three(5)"
   ]
  },
  {
   "cell_type": "code",
   "execution_count": 82,
   "id": "5e06becf",
   "metadata": {
    "scrolled": true
   },
   "outputs": [
    {
     "data": {
      "text/plain": [
       "3"
      ]
     },
     "execution_count": 82,
     "metadata": {},
     "output_type": "execute_result"
    }
   ],
   "source": [
    "lambda_curry2(mod)(123)(10)"
   ]
  },
  {
   "cell_type": "code",
   "execution_count": 83,
   "id": "6a1b3145",
   "metadata": {},
   "outputs": [
    {
     "data": {
      "text/plain": [
       "210"
      ]
     },
     "execution_count": 83,
     "metadata": {},
     "output_type": "execute_result"
    }
   ],
   "source": [
    "curried_mul = lambda_curry2(mul)\n",
    "mul_5 = curried_mul(5)\n",
    "mul_5(42)"
   ]
  },
  {
   "cell_type": "code",
   "execution_count": null,
   "id": "9836553c",
   "metadata": {},
   "outputs": [],
   "source": [
    "def lambda_curry2_syntax_check():\n",
    "    \"\"\"Checks that definition of lambda_curry2 is just a return statement.\n",
    "\n",
    "    >>> # You aren't expected to understand the code of this test.\n",
    "    >>> import inspect, ast\n",
    "    >>> [type(x).__name__ for x in ast.parse(inspect.getsource(lambda_curry2)).body[0].body]\n",
    "    ['Expr', 'Return']\n",
    "    \"\"\"\n",
    "    # You don't need to edit this function. It's just here to check your work.\n",
    "\n",
    "\n"
   ]
  },
  {
   "cell_type": "code",
   "execution_count": 45,
   "id": "de2b7acd",
   "metadata": {},
   "outputs": [],
   "source": [
    "def count_factors(n):\n",
    "    \"\"\"Return the number of positive factors that n has.\n",
    "    >>> count_factors(6)\n",
    "    4   # 1, 2, 3, 6\n",
    "    >>> count_factors(4)\n",
    "    3   # 1, 2, 4\n",
    "    \"\"\"\n",
    "    i = 1\n",
    "    count = 0\n",
    "    while i <= n:\n",
    "        if n % i == 0:\n",
    "            count += 1\n",
    "        i += 1\n",
    "    return count\n",
    "\n",
    "def count_primes(n):\n",
    "    \"\"\"Return the number of prime numbers up to and including n.\n",
    "    >>> count_primes(6)\n",
    "    3   # 2, 3, 5\n",
    "    >>> count_primes(13)\n",
    "    6   # 2, 3, 5, 7, 11, 13\n",
    "    \"\"\"\n",
    "    i = 1\n",
    "    count = 0\n",
    "    while i <= n:\n",
    "        if is_prime(i):\n",
    "            count += 1\n",
    "        i += 1\n",
    "    return count\n",
    "\n",
    "def is_prime(n):\n",
    "    return count_factors(n) == 2 # only factors are 1 and n"
   ]
  },
  {
   "cell_type": "code",
   "execution_count": 46,
   "id": "b37082d5",
   "metadata": {},
   "outputs": [
    {
     "data": {
      "text/plain": [
       "False"
      ]
     },
     "execution_count": 46,
     "metadata": {},
     "output_type": "execute_result"
    }
   ],
   "source": [
    "is_prime(10)"
   ]
  },
  {
   "cell_type": "code",
   "execution_count": 47,
   "id": "348fb7da",
   "metadata": {},
   "outputs": [
    {
     "data": {
      "text/plain": [
       "4"
      ]
     },
     "execution_count": 47,
     "metadata": {},
     "output_type": "execute_result"
    }
   ],
   "source": [
    "count_primes(10)"
   ]
  },
  {
   "cell_type": "code",
   "execution_count": 73,
   "id": "f4afae9d",
   "metadata": {},
   "outputs": [],
   "source": [
    "def count_cond(condition):\n",
    "    \"\"\"Returns a function with one parameter N that counts all the numbers from\n",
    "    1 to N that satisfy the two-argument predicate function Condition, where\n",
    "    the first argument for Condition is N and the second argument is the\n",
    "    number from 1 to N.\n",
    "\n",
    "    >>> count_factors = count_cond(lambda n, i: n % i == 0)\n",
    "    >>> count_factors(2)   # 1, 2\n",
    "    2\n",
    "    >>> count_factors(4)   # 1, 2, 4\n",
    "    3\n",
    "    >>> count_factors(12)  # 1, 2, 3, 4, 6, 12\n",
    "    6\n",
    "\n",
    "    >>> is_prime = lambda n, i: count_factors(i) == 2\n",
    "    >>> count_primes = count_cond(is_prime)\n",
    "    >>> count_primes(2)    # 2\n",
    "    1\n",
    "    >>> count_primes(3)    # 2, 3\n",
    "    2\n",
    "    >>> count_primes(4)    # 2, 3\n",
    "    2\n",
    "    >>> count_primes(5)    # 2, 3, 5\n",
    "    3\n",
    "    >>> count_primes(20)   # 2, 3, 5, 7, 11, 13, 17, 19\n",
    "    8\n",
    "    \"\"\"\n",
    "    \"*** YOUR CODE HERE ***\"\n",
    "\n",
    "    def inner_function(n):\n",
    "        count = 0\n",
    "        \n",
    "        for i in range(1, n+1):\n",
    "            if condition(n, i):\n",
    "                count += 1\n",
    "                \n",
    "        return count\n",
    "    \n",
    "    return inner_function"
   ]
  },
  {
   "cell_type": "code",
   "execution_count": 74,
   "id": "1e0643e7",
   "metadata": {},
   "outputs": [],
   "source": [
    "count_factors = count_cond(lambda n, i: n % i == 0)"
   ]
  },
  {
   "cell_type": "code",
   "execution_count": 75,
   "id": "28abe050",
   "metadata": {},
   "outputs": [
    {
     "data": {
      "text/plain": [
       "2"
      ]
     },
     "execution_count": 75,
     "metadata": {},
     "output_type": "execute_result"
    }
   ],
   "source": [
    "count_factors(2) "
   ]
  },
  {
   "cell_type": "code",
   "execution_count": 76,
   "id": "415a999c",
   "metadata": {
    "scrolled": true
   },
   "outputs": [
    {
     "data": {
      "text/plain": [
       "6"
      ]
     },
     "execution_count": 76,
     "metadata": {},
     "output_type": "execute_result"
    }
   ],
   "source": [
    "count_factors(12)"
   ]
  },
  {
   "cell_type": "code",
   "execution_count": 77,
   "id": "102707cf",
   "metadata": {},
   "outputs": [
    {
     "data": {
      "text/plain": [
       "8"
      ]
     },
     "execution_count": 77,
     "metadata": {},
     "output_type": "execute_result"
    }
   ],
   "source": [
    "is_prime = lambda n, i: count_factors(i) == 2\n",
    "count_primes = count_cond(is_prime)\n",
    "count_primes(20)"
   ]
  },
  {
   "cell_type": "code",
   "execution_count": 78,
   "id": "d849a2aa",
   "metadata": {},
   "outputs": [
    {
     "data": {
      "text/plain": [
       "2"
      ]
     },
     "execution_count": 78,
     "metadata": {},
     "output_type": "execute_result"
    }
   ],
   "source": [
    "count_primes(4)"
   ]
  },
  {
   "cell_type": "code",
   "execution_count": 79,
   "id": "eae07597",
   "metadata": {},
   "outputs": [
    {
     "data": {
      "text/plain": [
       "3"
      ]
     },
     "execution_count": 79,
     "metadata": {},
     "output_type": "execute_result"
    }
   ],
   "source": [
    "count_primes(5)"
   ]
  },
  {
   "cell_type": "code",
   "execution_count": 11,
   "id": "474f9aeb",
   "metadata": {},
   "outputs": [],
   "source": [
    "def composer(f, g):\n",
    "    \"\"\"Return the composition function which given x, computes f(g(x)).\n",
    "\n",
    "    >>> add_one = lambda x: x + 1        # adds one to x\n",
    "    >>> square = lambda x: x**2\n",
    "    >>> a1 = composer(square, add_one)   # (x + 1)^2\n",
    "    >>> a1(4)\n",
    "    25\n",
    "    >>> mul_three = lambda x: x * 3      # multiplies 3 to x\n",
    "    >>> a2 = composer(mul_three, a1)    # ((x + 1)^2) * 3\n",
    "    >>> a2(4)\n",
    "    75\n",
    "    >>> a2(5)\n",
    "    108\n",
    "    \"\"\"type(x).__name__ for x in ast.parse(inspect.getsource(lambda_curry2)).body[0].body]\n",
    "\n",
    "    return lambda x: f(g(x))"
   ]
  },
  {
   "cell_type": "code",
   "execution_count": 12,
   "id": "bfcfd49a",
   "metadata": {},
   "outputs": [],
   "source": [
    "add_one = lambda x: x + 1  \n",
    "square = lambda x: x**2\n",
    "a1 = composer(square, add_one)"
   ]
  },
  {
   "cell_type": "code",
   "execution_count": 13,
   "id": "10992c74",
   "metadata": {},
   "outputs": [
    {
     "data": {
      "text/plain": [
       "25"
      ]
     },
     "execution_count": 13,
     "metadata": {},
     "output_type": "execute_result"
    }
   ],
   "source": [
    "a1(4)"
   ]
  },
  {
   "cell_type": "code",
   "execution_count": 15,
   "id": "ca185895",
   "metadata": {},
   "outputs": [
    {
     "data": {
      "text/plain": [
       "75"
      ]
     },
     "execution_count": 15,
     "metadata": {},
     "output_type": "execute_result"
    }
   ],
   "source": [
    "mul_three = lambda x: x * 3\n",
    "a2 = composer(mul_three, a1)\n",
    "a2(4)"
   ]
  },
  {
   "cell_type": "code",
   "execution_count": 24,
   "id": "bac78d42",
   "metadata": {},
   "outputs": [],
   "source": [
    "def composite_identity(f, g):\n",
    "    \"\"\"\n",
    "    Return a function with one parameter x that returns True if f(g(x)) is\n",
    "    equal to g(f(x)). You can assume the result of g(x) is a valid input for f\n",
    "    and vice versa.\n",
    "\n",
    "    >>> add_one = lambda x: x + 1        # adds one to x\n",
    "    >>> square = lambda x: x**2\n",
    "    >>> b1 = composite_identity(square, add_one)\n",
    "    >>> b1(0)                            # (0 + 1)^2 == 0^2 + 1\n",
    "    True\n",
    "    >>> b1(4)                            # (4 + 1)^2 != 4^2 + 1\n",
    "    False\n",
    "    \"\"\"\n",
    "    \"*** YOUR CODE HERE ***\"\n",
    "    \n",
    "    def compare(x):\n",
    "        \n",
    "        if composer(g, f)(x) == f(g(x)):\n",
    "            return True\n",
    "        return False\n",
    "\n",
    "    return compare"
   ]
  },
  {
   "cell_type": "code",
   "execution_count": 25,
   "id": "53bc6e29",
   "metadata": {},
   "outputs": [],
   "source": [
    "add_one = lambda x: x + 1  \n",
    "square = lambda x: x**2\n",
    "b1 = composite_identity(square, add_one)"
   ]
  },
  {
   "cell_type": "code",
   "execution_count": 26,
   "id": "76140278",
   "metadata": {},
   "outputs": [
    {
     "data": {
      "text/plain": [
       "True"
      ]
     },
     "execution_count": 26,
     "metadata": {},
     "output_type": "execute_result"
    }
   ],
   "source": [
    "b1(0)"
   ]
  },
  {
   "cell_type": "code",
   "execution_count": 27,
   "id": "607a0775",
   "metadata": {},
   "outputs": [
    {
     "data": {
      "text/plain": [
       "False"
      ]
     },
     "execution_count": 27,
     "metadata": {},
     "output_type": "execute_result"
    }
   ],
   "source": [
    "b1(4) "
   ]
  },
  {
   "cell_type": "code",
   "execution_count": 57,
   "id": "a2dc31f4",
   "metadata": {},
   "outputs": [],
   "source": [
    "def cycle(f1, f2, f3):\n",
    "    \"\"\"Returns a function that is itself a higher-order function.\n",
    "\n",
    "    >>> def add1(x):\n",
    "    ...     return x + 1\n",
    "    >>> def times2(x):\n",
    "    ...     return x * 2\n",
    "    >>> def add3(x):\n",
    "    ...     return x + 3\n",
    "    >>> my_cycle = cycle(add1, times2, add3)\n",
    "    >>> identity = my_cycle(0)\n",
    "    >>> identity(5)\n",
    "    5\n",
    "    >>> add_one_then_double = my_cycle(2)\n",
    "    >>> add_one_then_double(1 )\n",
    "    4\n",
    "    >>> do_all_functions = my_cycle(3)\n",
    "    >>> do_all_functions(2)\n",
    "    9\n",
    "    >>> do_more_than_a_cycle = my_cycle(4)\n",
    "    >>> do_more_than_a_cycle(2)\n",
    "    10\n",
    "    >>> do_two_cycles = my_cycle(6)\n",
    "    >>> do_two_cycles(1)\n",
    "    19\n",
    "    \"\"\"\n",
    "    \"*** YOUR CODE HERE ***\"\n",
    "    def count(x): # count the cycle\n",
    "        def func(y):\n",
    "            anw = y\n",
    "            for i in range(x):\n",
    "                if i%3 == 0:\n",
    "                    anw = f1(anw)\n",
    "                    \n",
    "                elif i%3 == 1:\n",
    "                    anw = f2(anw)\n",
    "                    \n",
    "                else:\n",
    "                    anw = f3(anw)\n",
    "                        \n",
    "            return anw\n",
    "                \n",
    "        \n",
    "            \n",
    "        return func\n",
    "    \n",
    "    return count\n",
    "    \n",
    "        "
   ]
  },
  {
   "cell_type": "code",
   "execution_count": 58,
   "id": "e4086ebe",
   "metadata": {},
   "outputs": [],
   "source": [
    "def add1(x):\n",
    "    return x + 1\n",
    "def times2(x):\n",
    "    return x * 2\n",
    "def add3(x):\n",
    "    return x + 3\n",
    "\n",
    "my_cycle = cycle(add1, times2, add3)"
   ]
  },
  {
   "cell_type": "code",
   "execution_count": 59,
   "id": "01df9578",
   "metadata": {},
   "outputs": [
    {
     "data": {
      "text/plain": [
       "5"
      ]
     },
     "execution_count": 59,
     "metadata": {},
     "output_type": "execute_result"
    }
   ],
   "source": [
    "identity = my_cycle(0)\n",
    "identity(5)"
   ]
  },
  {
   "cell_type": "code",
   "execution_count": 60,
   "id": "b29525ab",
   "metadata": {},
   "outputs": [
    {
     "data": {
      "text/plain": [
       "4"
      ]
     },
     "execution_count": 60,
     "metadata": {},
     "output_type": "execute_result"
    }
   ],
   "source": [
    "add_one_then_double = my_cycle(2)\n",
    "add_one_then_double(1 )"
   ]
  },
  {
   "cell_type": "code",
   "execution_count": 61,
   "id": "685fe487",
   "metadata": {},
   "outputs": [
    {
     "data": {
      "text/plain": [
       "9"
      ]
     },
     "execution_count": 61,
     "metadata": {},
     "output_type": "execute_result"
    }
   ],
   "source": [
    "do_all_functions = my_cycle(3)\n",
    "do_all_functions(2)"
   ]
  },
  {
   "cell_type": "code",
   "execution_count": 62,
   "id": "2115e365",
   "metadata": {},
   "outputs": [
    {
     "data": {
      "text/plain": [
       "10"
      ]
     },
     "execution_count": 62,
     "metadata": {},
     "output_type": "execute_result"
    }
   ],
   "source": [
    "do_more_than_a_cycle = my_cycle(4)\n",
    "do_more_than_a_cycle(2)"
   ]
  },
  {
   "cell_type": "code",
   "execution_count": 63,
   "id": "d562a84f",
   "metadata": {},
   "outputs": [
    {
     "data": {
      "text/plain": [
       "19"
      ]
     },
     "execution_count": 63,
     "metadata": {},
     "output_type": "execute_result"
    }
   ],
   "source": [
    "do_two_cycles = my_cycle(6)\n",
    "do_two_cycles(1)"
   ]
  },
  {
   "cell_type": "code",
   "execution_count": null,
   "id": "add68ab2",
   "metadata": {},
   "outputs": [],
   "source": []
  }
 ],
 "metadata": {
  "kernelspec": {
   "display_name": "Python 3",
   "language": "python",
   "name": "python3"
  },
  "language_info": {
   "codemirror_mode": {
    "name": "ipython",
    "version": 3
   },
   "file_extension": ".py",
   "mimetype": "text/x-python",
   "name": "python",
   "nbconvert_exporter": "python",
   "pygments_lexer": "ipython3",
   "version": "3.8.11"
  }
 },
 "nbformat": 4,
 "nbformat_minor": 5
}
