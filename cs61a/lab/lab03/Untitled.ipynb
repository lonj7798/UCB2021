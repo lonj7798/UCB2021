{
 "cells": [
  {
   "cell_type": "code",
   "execution_count": 1,
   "id": "14a26dba",
   "metadata": {},
   "outputs": [],
   "source": [
    "from operator import add, mul\n",
    "\n",
    "square = lambda x: x * x\n",
    "\n",
    "identity = lambda x: x\n",
    "\n",
    "triple = lambda x: 3 * x\n",
    "\n",
    "increment = lambda x: x + 1"
   ]
  },
  {
   "cell_type": "code",
   "execution_count": 6,
   "id": "262d6bbc",
   "metadata": {},
   "outputs": [],
   "source": [
    "def unique_digits(n):\n",
    "    \"\"\"Return the number of unique digits in positive integer n.\n",
    "\n",
    "    >>> unique_digits(8675309) # All are unique\n",
    "    7\n",
    "    >>> unique_digits(1313131) # 1 and 3\n",
    "    2\n",
    "    >>> unique_digits(13173131) # 1, 3, and 7\n",
    "    3\n",
    "    >>> unique_digits(10000) # 0 and 1\n",
    "    2\n",
    "    >>> unique_digits(101) # 0 and 1\n",
    "    2\n",
    "    >>> unique_digits(10) # 0 and 1\n",
    "    2\n",
    "    \"\"\"\n",
    "    \"*** YOUR CODE HERE ***\"\n",
    "    unique = set(str(n))       \n",
    "    \n",
    "    return len(unique)\n",
    "\n",
    "def has_digit(n, k):\n",
    "    \"\"\"Returns whether K is a digit in N.\n",
    "    >>> has_digit(10, 1)\n",
    "    True\n",
    "    >>> has_digit(12, 7)\n",
    "    False\n",
    "    \"\"\"\n",
    "    \"*** YOUR CODE HERE ***\"\n",
    "    unique = set(str(n))\n",
    "    if str(k) in unique:\n",
    "        return True\n",
    "    \n",
    "    return False"
   ]
  },
  {
   "cell_type": "code",
   "execution_count": 7,
   "id": "4d2bd861",
   "metadata": {},
   "outputs": [
    {
     "data": {
      "text/plain": [
       "True"
      ]
     },
     "execution_count": 7,
     "metadata": {},
     "output_type": "execute_result"
    }
   ],
   "source": [
    "has_digit(10, 1)"
   ]
  },
  {
   "cell_type": "code",
   "execution_count": 8,
   "id": "0baf66b9",
   "metadata": {},
   "outputs": [
    {
     "data": {
      "text/plain": [
       "False"
      ]
     },
     "execution_count": 8,
     "metadata": {},
     "output_type": "execute_result"
    }
   ],
   "source": [
    "has_digit(12, 7)"
   ]
  },
  {
   "cell_type": "code",
   "execution_count": 9,
   "id": "d1fece9b",
   "metadata": {},
   "outputs": [
    {
     "data": {
      "text/plain": [
       "7"
      ]
     },
     "execution_count": 9,
     "metadata": {},
     "output_type": "execute_result"
    }
   ],
   "source": [
    "unique_digits(8675309)"
   ]
  },
  {
   "cell_type": "code",
   "execution_count": 10,
   "id": "d366d5e9",
   "metadata": {},
   "outputs": [
    {
     "data": {
      "text/plain": [
       "2"
      ]
     },
     "execution_count": 10,
     "metadata": {},
     "output_type": "execute_result"
    }
   ],
   "source": [
    "unique_digits(1313131)"
   ]
  },
  {
   "cell_type": "code",
   "execution_count": 15,
   "id": "75118b9c",
   "metadata": {},
   "outputs": [],
   "source": [
    "def ordered_digits(x):\n",
    "    \"\"\"Return True if the (base 10) digits of X>0 are in non-decreasing\n",
    "    order, and False otherwise.\n",
    "\n",
    "    >>> ordered_digits(5)\n",
    "    True\n",
    "    >>> ordered_digits(11)\n",
    "    True\n",
    "    >>> ordered_digits(127)\n",
    "    True\n",
    "    >>> ordered_digits(1357)\n",
    "    True\n",
    "    >>> ordered_digits(21)\n",
    "    False\n",
    "    >>> result = ordered_digits(1375) # Return, don't print\n",
    "    >>> result\n",
    "    False\n",
    "\n",
    "    \"\"\"\n",
    "    \"*** YOUR CODE HERE ***\"\n",
    "    \n",
    "    cur = x % 10\n",
    "    nex = x // 10 % 10\n",
    "    \n",
    "    while x > 0:\n",
    "        if nex > cur:\n",
    "            return False\n",
    "        x = x // 10\n",
    "        cur = x % 10\n",
    "        nex = x // 10 % 10\n",
    "        \n",
    "    return True"
   ]
  },
  {
   "cell_type": "code",
   "execution_count": 21,
   "id": "b50231ee",
   "metadata": {},
   "outputs": [
    {
     "data": {
      "text/plain": [
       "False"
      ]
     },
     "execution_count": 21,
     "metadata": {},
     "output_type": "execute_result"
    }
   ],
   "source": [
    "ordered_digits(13465)"
   ]
  },
  {
   "cell_type": "code",
   "execution_count": 86,
   "id": "5734f924",
   "metadata": {},
   "outputs": [],
   "source": [
    "def get_k_run_starter(n, k):\n",
    "    \"\"\"\n",
    "    >>> get_k_run_starter(123444345, 0) # example from description\n",
    "    3\n",
    "    >>> get_k_run_starter(123444345, 1) # index: '1234, 3' / '4, 2' / '4, 1' / '345, 0'\n",
    "    4\n",
    "    >>> get_k_run_starter(123444345, 2)\n",
    "    4\n",
    "    >>> get_k_run_starter(123444345, 3)\n",
    "    1\n",
    "    >>> get_k_run_starter(123412341234, 1) # 1234 1234 1234\n",
    "    1\n",
    "    >>> get_k_run_starter(1234234534564567, 0) # 1234 2345 3456 4567\n",
    "    4\n",
    "    >>> get_k_run_starter(1234234534564567, 1)\n",
    "    3\n",
    "    >>> get_k_run_starter(1234234534564567, 2)\n",
    "    2\n",
    "    \"\"\"\n",
    "    # 쌍욕이 훨씬 쉬워 마음도 편해지구\n",
    "    \n",
    "    i = 0\n",
    "    final = None\n",
    "    while i <= k:\n",
    "        while n > 10 and n%10-1 == n//10%10:\n",
    "            print('     ', n)\n",
    "            n = n // 10\n",
    "        print(i, 'current:', n)\n",
    "        final = n%10\n",
    "        i = i + 1\n",
    "        n = n // 10\n",
    "        \n",
    "    return final"
   ]
  },
  {
   "cell_type": "code",
   "execution_count": 87,
   "id": "c109da01",
   "metadata": {
    "scrolled": true
   },
   "outputs": [
    {
     "name": "stdout",
     "output_type": "stream",
     "text": [
      "      123412341234\n",
      "      12341234123\n",
      "      1234123412\n",
      "0 current: 123412341\n",
      "      12341234\n",
      "      1234123\n",
      "      123412\n",
      "1 current: 12341\n"
     ]
    },
    {
     "data": {
      "text/plain": [
       "1"
      ]
     },
     "execution_count": 87,
     "metadata": {},
     "output_type": "execute_result"
    }
   ],
   "source": [
    "get_k_run_starter(123412341234, 1)"
   ]
  },
  {
   "cell_type": "code",
   "execution_count": 88,
   "id": "b930efd8",
   "metadata": {},
   "outputs": [
    {
     "name": "stdout",
     "output_type": "stream",
     "text": [
      "      1234234534564567\n",
      "      123423453456456\n",
      "      12342345345645\n",
      "0 current: 1234234534564\n",
      "      123423453456\n",
      "      12342345345\n",
      "      1234234534\n",
      "1 current: 123423453\n"
     ]
    },
    {
     "data": {
      "text/plain": [
       "3"
      ]
     },
     "execution_count": 88,
     "metadata": {},
     "output_type": "execute_result"
    }
   ],
   "source": [
    "get_k_run_starter(1234234534564567, 1)"
   ]
  },
  {
   "cell_type": "code",
   "execution_count": 89,
   "id": "2627f422",
   "metadata": {},
   "outputs": [
    {
     "name": "stdout",
     "output_type": "stream",
     "text": [
      "      1234234534564567\n",
      "      123423453456456\n",
      "      12342345345645\n",
      "0 current: 1234234534564\n",
      "      123423453456\n",
      "      12342345345\n",
      "      1234234534\n",
      "1 current: 123423453\n",
      "      12342345\n",
      "      1234234\n",
      "      123423\n",
      "2 current: 12342\n"
     ]
    },
    {
     "data": {
      "text/plain": [
       "2"
      ]
     },
     "execution_count": 89,
     "metadata": {},
     "output_type": "execute_result"
    }
   ],
   "source": [
    "get_k_run_starter(1234234534564567, 2)"
   ]
  },
  {
   "cell_type": "code",
   "execution_count": 90,
   "id": "64eba8d3",
   "metadata": {},
   "outputs": [
    {
     "name": "stdout",
     "output_type": "stream",
     "text": [
      "      123444345\n",
      "      12344434\n",
      "0 current: 1234443\n"
     ]
    },
    {
     "data": {
      "text/plain": [
       "3"
      ]
     },
     "execution_count": 90,
     "metadata": {},
     "output_type": "execute_result"
    }
   ],
   "source": [
    "get_k_run_starter(123444345, 0)"
   ]
  },
  {
   "cell_type": "code",
   "execution_count": 91,
   "id": "2f3e771e",
   "metadata": {},
   "outputs": [
    {
     "name": "stdout",
     "output_type": "stream",
     "text": [
      "      123444345\n",
      "      12344434\n",
      "0 current: 1234443\n",
      "1 current: 123444\n"
     ]
    },
    {
     "data": {
      "text/plain": [
       "4"
      ]
     },
     "execution_count": 91,
     "metadata": {},
     "output_type": "execute_result"
    }
   ],
   "source": [
    "get_k_run_starter(123444345, 1)"
   ]
  },
  {
   "cell_type": "code",
   "execution_count": 92,
   "id": "d2a84a73",
   "metadata": {},
   "outputs": [
    {
     "name": "stdout",
     "output_type": "stream",
     "text": [
      "      123444345\n",
      "      12344434\n",
      "0 current: 1234443\n",
      "1 current: 123444\n",
      "2 current: 12344\n",
      "      1234\n",
      "      123\n",
      "      12\n",
      "3 current: 1\n"
     ]
    },
    {
     "data": {
      "text/plain": [
       "1"
      ]
     },
     "execution_count": 92,
     "metadata": {},
     "output_type": "execute_result"
    }
   ],
   "source": [
    "get_k_run_starter(123444345, 3)"
   ]
  },
  {
   "cell_type": "code",
   "execution_count": null,
   "id": "65365a76",
   "metadata": {},
   "outputs": [],
   "source": []
  },
  {
   "cell_type": "code",
   "execution_count": 12,
   "id": "d8b6ade0",
   "metadata": {},
   "outputs": [
    {
     "data": {
      "text/plain": [
       "100"
      ]
     },
     "execution_count": 12,
     "metadata": {},
     "output_type": "execute_result"
    }
   ],
   "source": [
    "1000 // 10"
   ]
  },
  {
   "cell_type": "code",
   "execution_count": 22,
   "id": "f3beffc1",
   "metadata": {},
   "outputs": [],
   "source": [
    "def make_repeater(func, n):\n",
    "    \"\"\"Return the function that computes the nth application of func.\n",
    "\n",
    "    >>> add_three = make_repeater(increment, 3)\n",
    "    >>> add_three(5)\n",
    "    8\n",
    "    >>> make_repeater(triple, 5)(1) # 3 * 3 * 3 * 3 * 3 * 1\n",
    "    243\n",
    "    >>> make_repeater(square, 2)(5) # square(square(5))\n",
    "    625\n",
    "    >>> make_repeater(square, 4)(5) # square(square(square(square(5))))\n",
    "    152587890625\n",
    "    >>> make_repeater(square, 0)(5) # Yes, it makes sense to apply the function zero times!\n",
    "    5\n",
    "    \"\"\"\n",
    "    \"*** YOUR CODE HERE ***\"\n",
    "    \n",
    "    def repeater(x):\n",
    "        for i in range(n):\n",
    "            x = func(x)\n",
    "            \n",
    "        return x\n",
    "    \n",
    "    return repeater"
   ]
  },
  {
   "cell_type": "code",
   "execution_count": 23,
   "id": "4865f24e",
   "metadata": {},
   "outputs": [
    {
     "data": {
      "text/plain": [
       "8"
      ]
     },
     "execution_count": 23,
     "metadata": {},
     "output_type": "execute_result"
    }
   ],
   "source": [
    "add_three = make_repeater(increment, 3)\n",
    "add_three(5)"
   ]
  },
  {
   "cell_type": "code",
   "execution_count": 24,
   "id": "7075877c",
   "metadata": {},
   "outputs": [
    {
     "data": {
      "text/plain": [
       "243"
      ]
     },
     "execution_count": 24,
     "metadata": {},
     "output_type": "execute_result"
    }
   ],
   "source": [
    "make_repeater(triple, 5)(1)"
   ]
  },
  {
   "cell_type": "code",
   "execution_count": 25,
   "id": "111200df",
   "metadata": {},
   "outputs": [
    {
     "data": {
      "text/plain": [
       "625"
      ]
     },
     "execution_count": 25,
     "metadata": {},
     "output_type": "execute_result"
    }
   ],
   "source": [
    "make_repeater(square, 2)(5)"
   ]
  },
  {
   "cell_type": "code",
   "execution_count": 28,
   "id": "17fd9725",
   "metadata": {},
   "outputs": [],
   "source": [
    "def composer(func1, func2):\n",
    "    \"\"\"Return a function f, such that f(x) = func1(func2(x)).\"\"\"\n",
    "    def f(x):\n",
    "        return func1(func2(x))\n",
    "    return f\n",
    "\n",
    "\n",
    "def apply_twice(func):\n",
    "    \"\"\" Return a function that applies func twice.\n",
    "\n",
    "    func -- a function that takes one argument\n",
    "\n",
    "    >>> apply_twice(square)(2)\n",
    "    16\n",
    "    \"\"\"\n",
    "    \"*** YOUR CODE HERE ***\"\n",
    "    def twice(x):\n",
    "        return func(func(x))\n",
    "        \n",
    "    return twice\n"
   ]
  },
  {
   "cell_type": "code",
   "execution_count": 29,
   "id": "64210f5c",
   "metadata": {},
   "outputs": [
    {
     "data": {
      "text/plain": [
       "16"
      ]
     },
     "execution_count": 29,
     "metadata": {},
     "output_type": "execute_result"
    }
   ],
   "source": [
    "apply_twice(square)(2)"
   ]
  },
  {
   "cell_type": "code",
   "execution_count": 36,
   "id": "8af9b3d6",
   "metadata": {},
   "outputs": [],
   "source": [
    "def protected_secret(password, secret, num_attempts):\n",
    "    \"\"\"\n",
    "    Returns a function which takes in a password and prints the SECRET if the password entered matches\n",
    "    the PASSWORD given to protected_secret. Otherwise it prints \"INCORRECT PASSWORD\". After NUM_ATTEMPTS\n",
    "    incorrect passwords are entered, the secret is locked and the function should print \"SECRET LOCKED\".\n",
    "\n",
    "    >>> my_secret = protected_secret(\"correcthorsebatterystaple\", \"I love UCB\", 2)\n",
    "    >>> my_secret = my_secret(\"hax0r_1\") # 2 attempts left\n",
    "    INCORRECT PASSWORD\n",
    "    >>> my_secret = my_secret(\"correcthorsebatterystaple\")\n",
    "    I love UCB\n",
    "    >>> my_secret = my_secret(\"hax0r_2\") # 1 attempt left\n",
    "    INCORRECT PASSWORD\n",
    "    >>> my_secret = my_secret(\"hax0r_3\") # No attempts left\n",
    "    SECRET LOCKED\n",
    "    >>> my_secret = my_secret(\"correcthorsebatterystaple\")\n",
    "    SECRET LOCKED\n",
    "    \"\"\"\n",
    "    def get_secret(password_attempt):\n",
    "        \"*** YOUR CODE HERE ***\"\n",
    "        if num_attempts >= 0:\n",
    "            if password_attempt == password:\n",
    "                print(secret)\n",
    "            else:\n",
    "                print(\"INCORRECT PASSWORD\")\n",
    "                \n",
    "        else:\n",
    "            print(\"SECRET LOCKED\")\n",
    "        \n",
    "        return protected_secret(password, secret, num_attempts-1)\n",
    "            \n",
    "            \n",
    "    return get_secret"
   ]
  },
  {
   "cell_type": "code",
   "execution_count": 37,
   "id": "85ee02dc",
   "metadata": {},
   "outputs": [
    {
     "name": "stdout",
     "output_type": "stream",
     "text": [
      "INCORRECT PASSWORD\n"
     ]
    }
   ],
   "source": [
    "my_secret = protected_secret(\"correcthorsebatterystaple\", \"I love UCB\", 2)\n",
    "my_secret = my_secret(\"hax0r_1\") # 2 attempts left"
   ]
  },
  {
   "cell_type": "code",
   "execution_count": 38,
   "id": "1559b1c1",
   "metadata": {},
   "outputs": [
    {
     "name": "stdout",
     "output_type": "stream",
     "text": [
      "I love UCB\n"
     ]
    }
   ],
   "source": [
    "my_secret = my_secret(\"correcthorsebatterystaple\")"
   ]
  },
  {
   "cell_type": "code",
   "execution_count": 39,
   "id": "f0f4e766",
   "metadata": {},
   "outputs": [
    {
     "name": "stdout",
     "output_type": "stream",
     "text": [
      "INCORRECT PASSWORD\n"
     ]
    }
   ],
   "source": [
    "my_secret = my_secret(\"hax0r_2\") # 1 attempt left"
   ]
  },
  {
   "cell_type": "code",
   "execution_count": 40,
   "id": "04c50155",
   "metadata": {},
   "outputs": [
    {
     "name": "stdout",
     "output_type": "stream",
     "text": [
      "SECRET LOCKED\n"
     ]
    }
   ],
   "source": [
    "my_secret = my_secret(\"hax0r_3\") # No attempts left"
   ]
  },
  {
   "cell_type": "code",
   "execution_count": 41,
   "id": "639811fe",
   "metadata": {},
   "outputs": [
    {
     "name": "stdout",
     "output_type": "stream",
     "text": [
      "SECRET LOCKED\n"
     ]
    }
   ],
   "source": [
    "my_secret = my_secret(\"correcthorsebatterystaple\")"
   ]
  },
  {
   "cell_type": "code",
   "execution_count": 97,
   "id": "b3929964",
   "metadata": {},
   "outputs": [
    {
     "name": "stdout",
     "output_type": "stream",
     "text": [
      "funny: 1 2\n",
      "sad: 2 1\n",
      "2\n",
      "sad: 2 1\n",
      "sad: 2 1\n"
     ]
    }
   ],
   "source": [
    "def funny(joke):\n",
    "    hoax = joke + 1\n",
    "    print(\"funny:\", joke, hoax)\n",
    "    print(funny(hoax))\n",
    "    return funny(hoax)\n",
    "\n",
    "def sad(joke):\n",
    "    hoax = joke - 1\n",
    "    print(\"sad:\", joke, hoax)\n",
    "    return hoax + hoax\n",
    "\n",
    "funny, sad = sad, funny\n",
    "result = funny(sad(1))"
   ]
  },
  {
   "cell_type": "code",
   "execution_count": 96,
   "id": "35eb1670",
   "metadata": {},
   "outputs": [
    {
     "data": {
      "text/plain": [
       "2"
      ]
     },
     "execution_count": 96,
     "metadata": {},
     "output_type": "execute_result"
    }
   ],
   "source": [
    "result"
   ]
  },
  {
   "cell_type": "code",
   "execution_count": null,
   "id": "6a70169d",
   "metadata": {},
   "outputs": [],
   "source": []
  }
 ],
 "metadata": {
  "kernelspec": {
   "display_name": "Python 3",
   "language": "python",
   "name": "python3"
  },
  "language_info": {
   "codemirror_mode": {
    "name": "ipython",
    "version": 3
   },
   "file_extension": ".py",
   "mimetype": "text/x-python",
   "name": "python",
   "nbconvert_exporter": "python",
   "pygments_lexer": "ipython3",
   "version": "3.8.11"
  }
 },
 "nbformat": 4,
 "nbformat_minor": 5
}
