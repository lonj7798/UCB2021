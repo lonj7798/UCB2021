{
 "cells": [
  {
   "cell_type": "code",
   "execution_count": 1,
   "id": "2ea527ca",
   "metadata": {},
   "outputs": [],
   "source": [
    "class Link:\n",
    "    \"\"\"A linked list.\n",
    "\n",
    "    >>> s = Link(1)\n",
    "    >>> s.first\n",
    "    1\n",
    "    >>> s.rest is Link.empty\n",
    "    True\n",
    "    >>> s = Link(2, Link(3, Link(4)))\n",
    "    >>> s.first = 5\n",
    "    >>> s.rest.first = 6\n",
    "    >>> s.rest.rest = Link.empty\n",
    "    >>> s                                    # Displays the contents of repr(s)\n",
    "    Link(5, Link(6))\n",
    "    >>> s.rest = Link(7, Link(Link(8, Link(9))))\n",
    "    >>> s\n",
    "    Link(5, Link(7, Link(Link(8, Link(9)))))\n",
    "    >>> print(s)                             # Prints str(s)\n",
    "    <5 7 <8 9>>\n",
    "    \"\"\"\n",
    "    empty = ()\n",
    "\n",
    "    def __init__(self, first, rest=empty):\n",
    "        assert rest is Link.empty or isinstance(rest, Link)\n",
    "        self.first = first\n",
    "        self.rest = rest\n",
    "\n",
    "    def __repr__(self):\n",
    "        if self.rest is not Link.empty:\n",
    "            rest_repr = ', ' + repr(self.rest)\n",
    "        else:\n",
    "            rest_repr = ''\n",
    "        return 'Link(' + repr(self.first) + rest_repr + ')'\n",
    "\n",
    "    def __str__(self):\n",
    "        string = '<'\n",
    "        while self.rest is not Link.empty:\n",
    "            string += str(self.first) + ' '\n",
    "            self = self.rest\n",
    "        return string + str(self.first) + '>'\n",
    "\n",
    "\n",
    "class Tree:\n",
    "    \"\"\"\n",
    "    >>> t = Tree(3, [Tree(2, [Tree(5)]), Tree(4)])\n",
    "    >>> t.label\n",
    "    3\n",
    "    >>> t.branches[0].label\n",
    "    2\n",
    "    >>> t.branches[1].is_leaf()\n",
    "    True\n",
    "    \"\"\"\n",
    "\n",
    "    def __init__(self, label, branches=[]):\n",
    "        for b in branches:\n",
    "            assert isinstance(b, Tree)\n",
    "        self.label = label\n",
    "        self.branches = list(branches)\n",
    "\n",
    "    def is_leaf(self):\n",
    "        return not self.branches\n",
    "\n",
    "    def __repr__(self):\n",
    "        if self.branches:\n",
    "            branch_str = ', ' + repr(self.branches)\n",
    "        else:\n",
    "            branch_str = ''\n",
    "        return 'Tree({0}{1})'.format(self.label, branch_str)\n",
    "\n",
    "    def __str__(self):\n",
    "        def print_tree(t, indent=0):\n",
    "            tree_str = '  ' * indent + str(t.label) + \"\\n\"\n",
    "            for b in t.branches:\n",
    "                tree_str += print_tree(b, indent + 1)\n",
    "            return tree_str\n",
    "        return print_tree(self).rstrip()"
   ]
  },
  {
   "cell_type": "code",
   "execution_count": 2,
   "id": "91950811",
   "metadata": {},
   "outputs": [
    {
     "ename": "TypeError",
     "evalue": "__init__() missing 1 required positional argument: 'first'",
     "output_type": "error",
     "traceback": [
      "\u001b[0;31m---------------------------------------------------------------------------\u001b[0m",
      "\u001b[0;31mTypeError\u001b[0m                                 Traceback (most recent call last)",
      "\u001b[0;32m/var/folders/m5/b577jf4d20jc309f4phr3lvr0000gn/T/ipykernel_6600/1216805797.py\u001b[0m in \u001b[0;36m<module>\u001b[0;34m\u001b[0m\n\u001b[0;32m----> 1\u001b[0;31m \u001b[0mlink\u001b[0m \u001b[0;34m=\u001b[0m \u001b[0mLink\u001b[0m\u001b[0;34m(\u001b[0m\u001b[0;36m1000\u001b[0m\u001b[0;34m,\u001b[0m \u001b[0mLink\u001b[0m\u001b[0;34m(\u001b[0m\u001b[0;34m)\u001b[0m\u001b[0;34m)\u001b[0m\u001b[0;34m\u001b[0m\u001b[0;34m\u001b[0m\u001b[0m\n\u001b[0m",
      "\u001b[0;31mTypeError\u001b[0m: __init__() missing 1 required positional argument: 'first'"
     ]
    }
   ],
   "source": [
    "link = Link(1000, Link())"
   ]
  },
  {
   "cell_type": "code",
   "execution_count": 4,
   "id": "6c92a6c2",
   "metadata": {},
   "outputs": [
    {
     "data": {
      "text/plain": [
       "Link(5, Link(6, Link(7)))"
      ]
     },
     "execution_count": 4,
     "metadata": {},
     "output_type": "execute_result"
    }
   ],
   "source": [
    ">>> link = Link(5, Link(6, Link(7)))\n",
    ">>> link"
   ]
  },
  {
   "cell_type": "code",
   "execution_count": 5,
   "id": "3c0b1a0f",
   "metadata": {},
   "outputs": [
    {
     "name": "stdout",
     "output_type": "stream",
     "text": [
      "<5 6 7>\n"
     ]
    }
   ],
   "source": [
    "print(link)"
   ]
  },
  {
   "cell_type": "code",
   "execution_count": 10,
   "id": "5e94726c",
   "metadata": {},
   "outputs": [],
   "source": [
    "def convert_link(link):\n",
    "    \"\"\"Takes a linked list and returns a Python list with the same elements.\n",
    "\n",
    "    >>> link = Link(1, Link(2, Link(3, Link(4))))\n",
    "    >>> convert_link(link)\n",
    "    [1, 2, 3, 4]\n",
    "    >>> convert_link(Link.empty)\n",
    "    []\n",
    "    \"\"\"\n",
    "    \"*** YOUR CODE HERE ***\"\n",
    "    \n",
    "    if link == ():\n",
    "        return []\n",
    "    \n",
    "    searching = link.rest\n",
    "    anw = [link.first]\n",
    "    \n",
    "    while searching != ():\n",
    "        anw += [searching.first]\n",
    "        searching = searching.rest\n",
    "        \n",
    "    return anw"
   ]
  },
  {
   "cell_type": "code",
   "execution_count": 11,
   "id": "cced6295",
   "metadata": {},
   "outputs": [
    {
     "data": {
      "text/plain": [
       "[1, 2, 3, 4]"
      ]
     },
     "execution_count": 11,
     "metadata": {},
     "output_type": "execute_result"
    }
   ],
   "source": [
    ">>> link = Link(1, Link(2, Link(3, Link(4))))\n",
    ">>> convert_link(link)"
   ]
  },
  {
   "cell_type": "code",
   "execution_count": 12,
   "id": "d2af929f",
   "metadata": {},
   "outputs": [
    {
     "data": {
      "text/plain": [
       "[]"
      ]
     },
     "execution_count": 12,
     "metadata": {},
     "output_type": "execute_result"
    }
   ],
   "source": [
    ">>> convert_link(Link.empty)"
   ]
  },
  {
   "cell_type": "code",
   "execution_count": 15,
   "id": "2936dff5",
   "metadata": {},
   "outputs": [],
   "source": [
    "t = Tree(1, [Tree(2)])"
   ]
  },
  {
   "cell_type": "code",
   "execution_count": 16,
   "id": "e6e052d2",
   "metadata": {},
   "outputs": [
    {
     "data": {
      "text/plain": [
       "Tree(2, [Tree(2)])"
      ]
     },
     "execution_count": 16,
     "metadata": {},
     "output_type": "execute_result"
    }
   ],
   "source": [
    "t.label = t.branches[0].label\n",
    "t"
   ]
  },
  {
   "cell_type": "code",
   "execution_count": 17,
   "id": "6b013cdb",
   "metadata": {},
   "outputs": [
    {
     "data": {
      "text/plain": [
       "2"
      ]
     },
     "execution_count": 17,
     "metadata": {},
     "output_type": "execute_result"
    }
   ],
   "source": [
    "t.branches.append(Tree(4, [Tree(8)]))\n",
    ">>> len(t.branches)"
   ]
  },
  {
   "cell_type": "code",
   "execution_count": 19,
   "id": "4a1ee895",
   "metadata": {},
   "outputs": [
    {
     "data": {
      "text/plain": [
       "[Tree(2), Tree(4, [Tree(8)])]"
      ]
     },
     "execution_count": 19,
     "metadata": {},
     "output_type": "execute_result"
    }
   ],
   "source": [
    "t.branches"
   ]
  },
  {
   "cell_type": "code",
   "execution_count": 20,
   "id": "518f63a3",
   "metadata": {},
   "outputs": [],
   "source": [
    "def label_squarer(t):\n",
    "    \"\"\"Mutates a Tree t by squaring all its elements.\n",
    "\n",
    "    >>> t = Tree(1, [Tree(3, [Tree(5)]), Tree(7)])\n",
    "    >>> label_squarer(t)\n",
    "    >>> t\n",
    "    Tree(1, [Tree(9, [Tree(25)]), Tree(49)])\n",
    "    \"\"\"\n",
    "    \"*** YOUR CODE HERE ***\"\n",
    "    \n",
    "    t.label = t.label ** 2\n",
    "    for branch in t.branches:\n",
    "        label_squarer(branch)"
   ]
  },
  {
   "cell_type": "code",
   "execution_count": 21,
   "id": "3b773506",
   "metadata": {},
   "outputs": [],
   "source": [
    "t = Tree(1, [Tree(3, [Tree(5)]), Tree(7)])\n",
    ">>> label_squarer(t)"
   ]
  },
  {
   "cell_type": "code",
   "execution_count": 22,
   "id": "6ed32ac9",
   "metadata": {},
   "outputs": [
    {
     "data": {
      "text/plain": [
       "Tree(1, [Tree(9, [Tree(25)]), Tree(49)])"
      ]
     },
     "execution_count": 22,
     "metadata": {},
     "output_type": "execute_result"
    }
   ],
   "source": [
    "t"
   ]
  },
  {
   "cell_type": "code",
   "execution_count": 64,
   "id": "0696df67",
   "metadata": {},
   "outputs": [],
   "source": [
    "def cumulative_mul(t):\n",
    "    \"\"\"Mutates t so that each node's label becomes the product of all labels in\n",
    "    the corresponding subtree rooted at t.\n",
    "\n",
    "    >>> t = Tree(1, [Tree(3, [Tree(5)]), Tree(7)])\n",
    "    >>> cumulative_mul(t)\n",
    "    >>> t\n",
    "    Tree(105, [Tree(15, [Tree(5)]), Tree(7)])\n",
    "    \"\"\"\n",
    "    \"*** YOUR CODE HERE ***\"\n",
    "  \n",
    "    if not t.is_leaf():\n",
    "        for branch in t.branches:\n",
    "            cumulative_mul(branch)\n",
    "            t.label *= branch.label"
   ]
  },
  {
   "cell_type": "code",
   "execution_count": 65,
   "id": "a2ae0307",
   "metadata": {},
   "outputs": [],
   "source": [
    "t = Tree(1, [Tree(3, [Tree(5)]), Tree(7)])\n",
    ">>> cumulative_mul(t)"
   ]
  },
  {
   "cell_type": "code",
   "execution_count": 66,
   "id": "0bb6d06f",
   "metadata": {},
   "outputs": [
    {
     "data": {
      "text/plain": [
       "Tree(105, [Tree(15, [Tree(5)]), Tree(7)])"
      ]
     },
     "execution_count": 66,
     "metadata": {},
     "output_type": "execute_result"
    }
   ],
   "source": [
    "t"
   ]
  },
  {
   "cell_type": "code",
   "execution_count": 189,
   "id": "3ac846ea",
   "metadata": {},
   "outputs": [],
   "source": [
    "def add_d_leaves(t, v):\n",
    "    \"\"\"Add d leaves containing v to each node at every depth d.\n",
    "\n",
    "    >>> t_one_to_four = Tree(1, [Tree(2), Tree(3, [Tree(4)])])\n",
    "    >>> print(t_one_to_four)\n",
    "    1\n",
    "      2\n",
    "      3\n",
    "        4\n",
    "    >>> add_d_leaves(t_one_to_four, 5)\n",
    "    >>> print(t_one_to_four)\n",
    "    1\n",
    "      2\n",
    "        5\n",
    "      3\n",
    "        4\n",
    "          5\n",
    "          5\n",
    "        5\n",
    "\n",
    "    >>> t1 = Tree(1, [Tree(3)])\n",
    "    >>> add_d_leaves(t1, 4)\n",
    "    >>> t1\n",
    "    Tree(1, [Tree(3, [Tree(4)])])\n",
    "    >>> t2 = Tree(2, [Tree(5), Tree(6)])\n",
    "    >>> t3 = Tree(3, [t1, Tree(0), t2])\n",
    "    >>> print(t3)\n",
    "    3\n",
    "      1\n",
    "        3\n",
    "          4\n",
    "      0\n",
    "      2\n",
    "        5\n",
    "        6\n",
    "    >>> add_d_leaves(t3, 10)\n",
    "    >>> print(t3)\n",
    "    3\n",
    "      1\n",
    "        3\n",
    "          4\n",
    "            10\n",
    "            10\n",
    "            10\n",
    "          10\n",
    "          10\n",
    "        10\n",
    "      0\n",
    "        10\n",
    "      2\n",
    "        5\n",
    "          10\n",
    "          10\n",
    "        6\n",
    "          10\n",
    "          10\n",
    "        10\n",
    "    \"\"\"\n",
    "    \"*** YOUR CODE HERE ***\"\n",
    "    \n",
    "    def count_d(t, v, d = 0):\n",
    "        if t.is_leaf():\n",
    "            t.branches = [Tree(v)] * d\n",
    "        \n",
    "        else:\n",
    "            for branch in t.branches:\n",
    "                count_d(branch, v, d + 1)\n",
    "            t.branches += [Tree(v)] * d\n",
    "                \n",
    "    t = count_d(t, v)"
   ]
  },
  {
   "cell_type": "code",
   "execution_count": 190,
   "id": "20fd79cf",
   "metadata": {},
   "outputs": [
    {
     "name": "stdout",
     "output_type": "stream",
     "text": [
      "1\n",
      "  2\n",
      "  3\n",
      "    4\n"
     ]
    }
   ],
   "source": [
    ">>> t_one_to_four = Tree(1, [Tree(2), Tree(3, [Tree(4)])])\n",
    ">>> print(t_one_to_four)\n"
   ]
  },
  {
   "cell_type": "code",
   "execution_count": 191,
   "id": "2c70d9b5",
   "metadata": {},
   "outputs": [
    {
     "name": "stdout",
     "output_type": "stream",
     "text": [
      "1\n",
      "  2\n",
      "    5\n",
      "  3\n",
      "    4\n",
      "      5\n",
      "      5\n",
      "    5\n"
     ]
    }
   ],
   "source": [
    "\n",
    ">>> add_d_leaves(t_one_to_four, 5)\n",
    ">>> print(t_one_to_four)"
   ]
  },
  {
   "cell_type": "code",
   "execution_count": 147,
   "id": "8d133d98",
   "metadata": {},
   "outputs": [
    {
     "name": "stdout",
     "output_type": "stream",
     "text": [
      "0 2\n",
      "1 3\n",
      "2 4\n",
      "3 5\n",
      "4 6\n",
      "5 7\n",
      "6 8\n",
      "7 9\n"
     ]
    }
   ],
   "source": [
    "for i, j in enumerate(range(2, 10)):\n",
    "    print(i, j)"
   ]
  },
  {
   "cell_type": "code",
   "execution_count": null,
   "id": "f818c838",
   "metadata": {},
   "outputs": [],
   "source": []
  }
 ],
 "metadata": {
  "kernelspec": {
   "display_name": "Python 3 (ipykernel)",
   "language": "python",
   "name": "python3"
  },
  "language_info": {
   "codemirror_mode": {
    "name": "ipython",
    "version": 3
   },
   "file_extension": ".py",
   "mimetype": "text/x-python",
   "name": "python",
   "nbconvert_exporter": "python",
   "pygments_lexer": "ipython3",
   "version": "3.8.11"
  }
 },
 "nbformat": 4,
 "nbformat_minor": 5
}
