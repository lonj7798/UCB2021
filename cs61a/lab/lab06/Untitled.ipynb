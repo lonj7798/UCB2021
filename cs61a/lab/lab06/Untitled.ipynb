{
 "cells": [
  {
   "cell_type": "code",
   "execution_count": 57,
   "id": "0e7948e9",
   "metadata": {},
   "outputs": [],
   "source": [
    "def insert_items(lst, entry, elem):\n",
    "    \"\"\"Inserts elem into lst after each occurence of entry and then returns lst.\n",
    "\n",
    "    >>> test_lst = [1, 5, 8, 5, 2, 3]\n",
    "    >>> new_lst = insert_items(test_lst, 5, 7)\n",
    "    >>> new_lst\n",
    "    [1, 5, 7, 8, 5, 7, 2, 3]\n",
    "    >>> double_lst = [1, 2, 1, 2, 3, 3]\n",
    "    >>> double_lst = insert_items(double_lst, 3, 4)\n",
    "    >>> double_lst\n",
    "    [1, 2, 1, 2, 3, 4, 3, 4]\n",
    "    >>> large_lst = [1, 4, 8]\n",
    "    >>> large_lst2 = insert_items(large_lst, 4, 4)\n",
    "    >>> large_lst2\n",
    "    [1, 4, 4, 8]\n",
    "    >>> large_lst3 = insert_items(large_lst2, 4, 6)\n",
    "    >>> large_lst3\n",
    "    [1, 4, 6, 4, 6, 8]\n",
    "    >>> large_lst3 is large_lst\n",
    "    True\n",
    "    >>> # Ban creating new lists\n",
    "    >>> from construct_check import check\n",
    "    >>> check(HW_SOURCE_FILE, 'insert_items',\n",
    "    ...       ['List', 'ListComp', 'Slice'])\n",
    "    True\n",
    "    \"\"\"\n",
    "    \"*** YOUR CODE HERE ***\"\n",
    "    \n",
    "    temp = []\n",
    "    for i in lst:\n",
    "        temp.append(i)\n",
    "        if i == entry:\n",
    "            temp.append(elem)\n",
    "    return temp"
   ]
  },
  {
   "cell_type": "code",
   "execution_count": 58,
   "id": "fea98860",
   "metadata": {},
   "outputs": [
    {
     "data": {
      "text/plain": [
       "[1, 5, 7, 8, 5, 7, 2, 3]"
      ]
     },
     "execution_count": 58,
     "metadata": {},
     "output_type": "execute_result"
    }
   ],
   "source": [
    "test_lst = [1, 5, 8, 5, 2, 3]\n",
    "new_lst = insert_items(test_lst, 5, 7)\n",
    "new_lst"
   ]
  },
  {
   "cell_type": "code",
   "execution_count": 12,
   "id": "8a641906",
   "metadata": {},
   "outputs": [
    {
     "data": {
      "text/plain": [
       "[5, 5]"
      ]
     },
     "execution_count": 12,
     "metadata": {},
     "output_type": "execute_result"
    }
   ],
   "source": [
    "new_lst"
   ]
  },
  {
   "cell_type": "code",
   "execution_count": null,
   "id": "c18f6b02",
   "metadata": {},
   "outputs": [],
   "source": [
    "test_lst = [1, 5, 8, 5, 2, 3]"
   ]
  },
  {
   "cell_type": "code",
   "execution_count": 65,
   "id": "bbea4182",
   "metadata": {},
   "outputs": [],
   "source": [
    "def count_occurrences(t, n, x):\n",
    "    \"\"\"Return the number of times that x appears in the first n elements of iterator t.\n",
    "\n",
    "    >>> s = iter([10, 9, 10, 9, 9, 10, 8, 8, 8, 7])\n",
    "    >>> count_occurrences(s, 10, 9)\n",
    "    3\n",
    "    >>> s2 = iter([10, 9, 10, 9, 9, 10, 8, 8, 8, 7])\n",
    "    >>> count_occurrences(s2, 3, 10)\n",
    "    2\n",
    "    >>> s = iter([3, 2, 2, 2, 1, 2, 1, 4, 4, 5, 5, 5])\n",
    "    >>> count_occurrences(s, 1, 3)\n",
    "    1\n",
    "    >>> count_occurrences(s, 4, 2)\n",
    "    3\n",
    "    >>> next(s)\n",
    "    2\n",
    "    >>> s2 = iter([4, 1, 6, 6, 7, 7, 8, 8, 2, 2, 2, 5])\n",
    "    >>> count_occurrences(s2, 6, 6)\n",
    "    2\n",
    "    \"\"\"\n",
    "    \"*** YOUR CODE HERE ***\"\n",
    "    \n",
    "    \"\"\"\n",
    "    count = 0\n",
    "    for i in range(n):\n",
    "        if next(t) == x:\n",
    "            count += 1\n",
    "            \n",
    "    return count\n",
    "    \"\"\"\n",
    "\n",
    "    return sum([1 for i in range(n) if next(t) == x])"
   ]
  },
  {
   "cell_type": "code",
   "execution_count": null,
   "id": "ccef6d9f",
   "metadata": {},
   "outputs": [],
   "source": []
  },
  {
   "cell_type": "code",
   "execution_count": 66,
   "id": "dc8d2872",
   "metadata": {},
   "outputs": [],
   "source": [
    "s = iter([10, 9, 10, 9, 9, 10, 8, 8, 8, 7])"
   ]
  },
  {
   "cell_type": "code",
   "execution_count": 67,
   "id": "158ada86",
   "metadata": {},
   "outputs": [
    {
     "data": {
      "text/plain": [
       "3"
      ]
     },
     "execution_count": 67,
     "metadata": {},
     "output_type": "execute_result"
    }
   ],
   "source": [
    "count_occurrences(s, 10, 9)"
   ]
  },
  {
   "cell_type": "code",
   "execution_count": null,
   "id": "0eac4347",
   "metadata": {},
   "outputs": [],
   "source": []
  },
  {
   "cell_type": "code",
   "execution_count": null,
   "id": "d9c2cf7d",
   "metadata": {},
   "outputs": [],
   "source": [
    "def repeated(t, k):\n",
    "    \"\"\"Return the first value in iterator T that appears K times in a row.\n",
    "    Iterate through the items such that if the same iterator is passed into\n",
    "    the function twice, it continues in the second call at the point it left\n",
    "    off in the first.\n",
    "\n",
    "    >>> s = iter([10, 9, 10, 9, 9, 10, 8, 8, 8, 7])\n",
    "    >>> repeated(s, 2)\n",
    "    9\n",
    "    >>> s2 = iter([10, 9, 10, 9, 9, 10, 8, 8, 8, 7])\n",
    "    >>> repeated(s2, 3)\n",
    "    8\n",
    "    >>> s = iter([3, 2, 2, 2, 1, 2, 1, 4, 4, 5, 5, 5])\n",
    "    >>> repeated(s, 3)\n",
    "    2\n",
    "    >>> repeated(s, 3)\n",
    "    5\n",
    "    >>> s2 = iter([4, 1, 6, 6, 7, 7, 8, 8, 2, 2, 2, 5])\n",
    "    >>> repeated(s2, 3)\n",
    "    2\n",
    "    \"\"\"\n",
    "    assert k > 1\n",
    "    \"*** YOUR CODE HERE ***\"\n",
    "    \n",
    "    "
   ]
  },
  {
   "cell_type": "code",
   "execution_count": 71,
   "id": "730ae83c",
   "metadata": {},
   "outputs": [],
   "source": [
    "s = iter([10, 9, 10, 9, 9, 10, 8, 8, 8, 7])"
   ]
  },
  {
   "cell_type": "code",
   "execution_count": 70,
   "id": "117b8f3d",
   "metadata": {},
   "outputs": [
    {
     "data": {
      "text/plain": [
       "False"
      ]
     },
     "execution_count": 70,
     "metadata": {},
     "output_type": "execute_result"
    }
   ],
   "source": [
    "next(s) == next(s)"
   ]
  },
  {
   "cell_type": "code",
   "execution_count": null,
   "id": "8191f4f9",
   "metadata": {},
   "outputs": [],
   "source": []
  }
 ],
 "metadata": {
  "kernelspec": {
   "display_name": "Python 3",
   "language": "python",
   "name": "python3"
  },
  "language_info": {
   "codemirror_mode": {
    "name": "ipython",
    "version": 3
   },
   "file_extension": ".py",
   "mimetype": "text/x-python",
   "name": "python",
   "nbconvert_exporter": "python",
   "pygments_lexer": "ipython3",
   "version": "3.8.11"
  }
 },
 "nbformat": 4,
 "nbformat_minor": 5
}
