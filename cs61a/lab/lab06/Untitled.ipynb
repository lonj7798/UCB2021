{
 "cells": [
  {
   "cell_type": "code",
   "execution_count": 4,
   "id": "5fe910ea",
   "metadata": {},
   "outputs": [],
   "source": [
    "lst = [5, 6, 7, 8]\n",
    "lst.append(6)"
   ]
  },
  {
   "cell_type": "code",
   "execution_count": 5,
   "id": "629dc679",
   "metadata": {},
   "outputs": [
    {
     "data": {
      "text/plain": [
       "[5, 6, 7, 8, 6]"
      ]
     },
     "execution_count": 5,
     "metadata": {},
     "output_type": "execute_result"
    }
   ],
   "source": [
    "lst"
   ]
  },
  {
   "cell_type": "code",
   "execution_count": 6,
   "id": "87d84f06",
   "metadata": {},
   "outputs": [
    {
     "data": {
      "text/plain": [
       "[5, 6, 8, 6]"
      ]
     },
     "execution_count": 6,
     "metadata": {},
     "output_type": "execute_result"
    }
   ],
   "source": [
    "x = lst.pop(2)\n",
    "lst"
   ]
  },
  {
   "cell_type": "code",
   "execution_count": 7,
   "id": "d657eb4f",
   "metadata": {},
   "outputs": [
    {
     "data": {
      "text/plain": [
       "[1, 2, 3, 4, 5]"
      ]
     },
     "execution_count": 7,
     "metadata": {},
     "output_type": "execute_result"
    }
   ],
   "source": [
    "lst = [1, 2, 3]\n",
    "lst.extend([4,5])\n",
    "lst"
   ]
  },
  {
   "cell_type": "code",
   "execution_count": 8,
   "id": "4173ccf2",
   "metadata": {},
   "outputs": [
    {
     "data": {
      "text/plain": [
       "[1, 2, 3, 4, 5, 9, 10, None, None]"
      ]
     },
     "execution_count": 8,
     "metadata": {},
     "output_type": "execute_result"
    }
   ],
   "source": [
    "lst.extend([lst.append(9), lst.append(10)])\n",
    ">>> lst"
   ]
  },
  {
   "cell_type": "code",
   "execution_count": 76,
   "id": "c4796055",
   "metadata": {},
   "outputs": [
    {
     "data": {
      "text/plain": [
       "4"
      ]
     },
     "execution_count": 76,
     "metadata": {},
     "output_type": "execute_result"
    }
   ],
   "source": [
    "s = [1, 2, 3, 4]\n",
    "t = iter(s)\n",
    "next(t)\n",
    "next(t)\n",
    "next(iter(s))\n",
    "next(iter(t))\n",
    "next(iter(s))\n",
    "next(iter(t))\n"
   ]
  },
  {
   "cell_type": "code",
   "execution_count": 77,
   "id": "ff44a6e2",
   "metadata": {},
   "outputs": [
    {
     "ename": "StopIteration",
     "evalue": "",
     "output_type": "error",
     "traceback": [
      "\u001b[0;31m---------------------------------------------------------------------------\u001b[0m",
      "\u001b[0;31mStopIteration\u001b[0m                             Traceback (most recent call last)",
      "\u001b[0;32m/var/folders/m5/b577jf4d20jc309f4phr3lvr0000gn/T/ipykernel_2079/2139502855.py\u001b[0m in \u001b[0;36m<module>\u001b[0;34m\u001b[0m\n\u001b[0;32m----> 1\u001b[0;31m \u001b[0mnext\u001b[0m\u001b[0;34m(\u001b[0m\u001b[0mt\u001b[0m\u001b[0;34m)\u001b[0m\u001b[0;34m\u001b[0m\u001b[0;34m\u001b[0m\u001b[0m\n\u001b[0m",
      "\u001b[0;31mStopIteration\u001b[0m: "
     ]
    }
   ],
   "source": [
    "next(t)"
   ]
  },
  {
   "cell_type": "code",
   "execution_count": 78,
   "id": "c441c4ab",
   "metadata": {},
   "outputs": [
    {
     "name": "stdout",
     "output_type": "stream",
     "text": [
      "(12, 2)\n",
      "(11, 3)\n",
      "(10, 4)\n"
     ]
    }
   ],
   "source": [
    "for e in zip([10, 9, 8], range(3)):\n",
    "...   print(tuple(map(lambda x: x + 2, e)))"
   ]
  },
  {
   "cell_type": "code",
   "execution_count": null,
   "id": "a00cab0d",
   "metadata": {},
   "outputs": [],
   "source": []
  },
  {
   "cell_type": "code",
   "execution_count": null,
   "id": "66cd6015",
   "metadata": {},
   "outputs": [],
   "source": []
  },
  {
   "cell_type": "code",
   "execution_count": 65,
   "id": "0e7948e9",
   "metadata": {},
   "outputs": [],
   "source": [
    "def insert_items(lst, entry, elem):\n",
    "    \"\"\"Inserts elem into lst after each occurence of entry and then returns lst.\n",
    "\n",
    "    >>> test_lst = [1, 5, 8, 5, 2, 3]\n",
    "    >>> new_lst = insert_items(test_lst, 5, 7)\n",
    "    >>> new_lst\n",
    "    [1, 5, 7, 8, 5, 7, 2, 3]\n",
    "    >>> double_lst = [1, 2, 1, 2, 3, 3]\n",
    "    >>> double_lst = insert_items(double_lst, 3, 4)\n",
    "    >>> double_lst\n",
    "    [1, 2, 1, 2, 3, 4, 3, 4]\n",
    "    >>> large_lst = [1, 4, 8]\n",
    "    >>> large_lst2 = insert_items(large_lst, 4, 4)\n",
    "    >>> large_lst2\n",
    "    [1, 4, 4, 8]\n",
    "    >>> large_lst3 = insert_items(large_lst2, 4, 6)\n",
    "    >>> large_lst3\n",
    "    [1, 4, 6, 4, 6, 8]\n",
    "    >>> large_lst3 is large_lst\n",
    "    True\n",
    "    >>> # Ban creating new lists\n",
    "    >>> from construct_check import check\n",
    "    >>> check(HW_SOURCE_FILE, 'insert_items',\n",
    "    ...       ['List', 'ListComp', 'Slice'])\n",
    "    True\n",
    "    \"\"\"\n",
    "    \"*** YOUR CODE HERE ***\"\n",
    "    \n",
    "    temp_lst = lst.copy()\n",
    "    temp = lst\n",
    "    temp.clear()\n",
    "    \n",
    "    for i in temp_lst:\n",
    "        temp.append(i)\n",
    "        if i == entry:\n",
    "            temp.append(elem)\n",
    "            \n",
    "    lst = temp\n",
    "    return lst"
   ]
  },
  {
   "cell_type": "code",
   "execution_count": 66,
   "id": "fea98860",
   "metadata": {},
   "outputs": [
    {
     "data": {
      "text/plain": [
       "[1, 5, 7, 8, 5, 7, 2, 3]"
      ]
     },
     "execution_count": 66,
     "metadata": {},
     "output_type": "execute_result"
    }
   ],
   "source": [
    "test_lst = [1, 5, 8, 5, 2, 3]\n",
    "new_lst = insert_items(test_lst, 5, 7)\n",
    "new_lst"
   ]
  },
  {
   "cell_type": "code",
   "execution_count": 67,
   "id": "dedcfe4a",
   "metadata": {},
   "outputs": [
    {
     "data": {
      "text/plain": [
       "True"
      ]
     },
     "execution_count": 67,
     "metadata": {},
     "output_type": "execute_result"
    }
   ],
   "source": [
    "test_lst is new_lst"
   ]
  },
  {
   "cell_type": "code",
   "execution_count": 54,
   "id": "6ec80d0d",
   "metadata": {},
   "outputs": [],
   "source": [
    "test_lst = [1, 3, 5, 8, 5, 2, 3, 3]"
   ]
  },
  {
   "cell_type": "code",
   "execution_count": 55,
   "id": "5155af2f",
   "metadata": {},
   "outputs": [],
   "source": [
    "a = test_lst\n",
    "a.append(6)"
   ]
  },
  {
   "cell_type": "code",
   "execution_count": 56,
   "id": "b2bec698",
   "metadata": {},
   "outputs": [
    {
     "data": {
      "text/plain": [
       "True"
      ]
     },
     "execution_count": 56,
     "metadata": {},
     "output_type": "execute_result"
    }
   ],
   "source": [
    "test_lst is a"
   ]
  },
  {
   "cell_type": "code",
   "execution_count": 43,
   "id": "b141f14a",
   "metadata": {},
   "outputs": [],
   "source": [
    "test_lst[2:].insert(2, 5)"
   ]
  },
  {
   "cell_type": "code",
   "execution_count": 44,
   "id": "3d8e8cdc",
   "metadata": {},
   "outputs": [
    {
     "data": {
      "text/plain": [
       "[1, 3, 5, 8, 5, 2, 3, 3]"
      ]
     },
     "execution_count": 44,
     "metadata": {},
     "output_type": "execute_result"
    }
   ],
   "source": [
    "test_lst"
   ]
  },
  {
   "cell_type": "code",
   "execution_count": 39,
   "id": "48325525",
   "metadata": {},
   "outputs": [],
   "source": [
    "for i in test_lst.copy():\n",
    "    if i == 3:\n",
    "        test_lst.insert(test_lst.index(3), 10)"
   ]
  },
  {
   "cell_type": "code",
   "execution_count": null,
   "id": "72c3ef4e",
   "metadata": {},
   "outputs": [],
   "source": []
  },
  {
   "cell_type": "code",
   "execution_count": 40,
   "id": "51f2ba32",
   "metadata": {},
   "outputs": [
    {
     "data": {
      "text/plain": [
       "[1, 5, 8, 5, 2, 10, 10, 3, 3]"
      ]
     },
     "execution_count": 40,
     "metadata": {},
     "output_type": "execute_result"
    }
   ],
   "source": [
    "test_lst"
   ]
  },
  {
   "cell_type": "code",
   "execution_count": 65,
   "id": "bbea4182",
   "metadata": {},
   "outputs": [],
   "source": [
    "def count_occurrences(t, n, x):\n",
    "    \"\"\"Return the number of times that x appears in the first n elements of iterator t.\n",
    "\n",
    "    >>> s = iter([10, 9, 10, 9, 9, 10, 8, 8, 8, 7])\n",
    "    >>> count_occurrences(s, 10, 9)\n",
    "    3\n",
    "    >>> s2 = iter([10, 9, 10, 9, 9, 10, 8, 8, 8, 7])\n",
    "    >>> count_occurrences(s2, 3, 10)\n",
    "    2\n",
    "    >>> s = iter([3, 2, 2, 2, 1, 2, 1, 4, 4, 5, 5, 5])\n",
    "    >>> count_occurrences(s, 1, 3)\n",
    "    1\n",
    "    >>> count_occurrences(s, 4, 2)\n",
    "    3\n",
    "    >>> next(s)\n",
    "    2\n",
    "    >>> s2 = iter([4, 1, 6, 6, 7, 7, 8, 8, 2, 2, 2, 5])\n",
    "    >>> count_occurrences(s2, 6, 6)\n",
    "    2\n",
    "    \"\"\"\n",
    "    \"*** YOUR CODE HERE ***\"\n",
    "    \n",
    "    \"\"\"\n",
    "    count = 0\n",
    "    for i in range(n):\n",
    "        if next(t) == x:\n",
    "            count += 1\n",
    "            \n",
    "    return count\n",
    "    \"\"\"\n",
    "\n",
    "    return sum([1 for i in range(n) if next(t) == x])"
   ]
  },
  {
   "cell_type": "code",
   "execution_count": null,
   "id": "ccef6d9f",
   "metadata": {},
   "outputs": [],
   "source": []
  },
  {
   "cell_type": "code",
   "execution_count": 66,
   "id": "dc8d2872",
   "metadata": {},
   "outputs": [],
   "source": [
    "s = iter([10, 9, 10, 9, 9, 10, 8, 8, 8, 7])"
   ]
  },
  {
   "cell_type": "code",
   "execution_count": 67,
   "id": "158ada86",
   "metadata": {},
   "outputs": [
    {
     "data": {
      "text/plain": [
       "3"
      ]
     },
     "execution_count": 67,
     "metadata": {},
     "output_type": "execute_result"
    }
   ],
   "source": [
    "count_occurrences(s, 10, 9)"
   ]
  },
  {
   "cell_type": "code",
   "execution_count": null,
   "id": "0eac4347",
   "metadata": {},
   "outputs": [],
   "source": []
  },
  {
   "cell_type": "code",
   "execution_count": 167,
   "id": "d9c2cf7d",
   "metadata": {},
   "outputs": [],
   "source": [
    "def repeated(t, k):\n",
    "    \"\"\"Return the first value in iterator T that appears K times in a row.\n",
    "    Iterate through the items such that if the same iterator is passed into\n",
    "    the function twice, it continues in the second call at the point it left\n",
    "    off in the first.\n",
    "\n",
    "    >>> s = iter([10, 9, 10, 9, 9, 10, 8, 8, 8, 7])\n",
    "    >>> repeated(s, 2)\n",
    "    9\n",
    "    >>> s2 = iter([10, 9, 10, 9, 9, 10, 8, 8, 8, 7])\n",
    "    >>> repeated(s2, 3)\n",
    "    8\n",
    "    >>> s = iter([3, 2, 2, 2, 1, 2, 1, 4, 4, 5, 5, 5])\n",
    "    >>> repeated(s, 3)\n",
    "    2\n",
    "    >>> repeated(s, 3)\n",
    "    5\n",
    "    >>> s2 = iter([4, 1, 6, 6, 7, 7, 8, 8, 2, 2, 2, 5])\n",
    "    >>> repeated(s2, 3)\n",
    "    2\n",
    "    \"\"\"\n",
    "    assert k > 1\n",
    "    \"*** YOUR CODE HERE ***\"\n",
    "    \n",
    "    prev = next(t)\n",
    "    count = k - 1\n",
    "    \n",
    "    # print('start:', prev)\n",
    "    \n",
    "    for i in t:\n",
    "        # print('prev:', prev, 'i:', i, 'count:', count)\n",
    "        \n",
    "        if prev == i:\n",
    "            # print('prev == i')\n",
    "            count -= 1 \n",
    "        else:\n",
    "            # print('reset:')\n",
    "            prev = i\n",
    "            count = k - 1\n",
    "            \n",
    "        if count == 0:\n",
    "            # print('return')\n",
    "            return prev\n",
    "    "
   ]
  },
  {
   "cell_type": "code",
   "execution_count": 168,
   "id": "730ae83c",
   "metadata": {},
   "outputs": [
    {
     "data": {
      "text/plain": [
       "9"
      ]
     },
     "execution_count": 168,
     "metadata": {},
     "output_type": "execute_result"
    }
   ],
   "source": [
    "s = iter([10, 9, 10, 9, 9, 10, 8, 8, 8, 7])\n",
    "repeated(s, 2)"
   ]
  },
  {
   "cell_type": "code",
   "execution_count": 169,
   "id": "117b8f3d",
   "metadata": {},
   "outputs": [
    {
     "data": {
      "text/plain": [
       "8"
      ]
     },
     "execution_count": 169,
     "metadata": {},
     "output_type": "execute_result"
    }
   ],
   "source": [
    "s2 = iter([10, 9, 10, 9, 9, 10, 8, 8, 8, 7])\n",
    "repeated(s2, 3)"
   ]
  },
  {
   "cell_type": "code",
   "execution_count": 170,
   "id": "c2f6689b",
   "metadata": {},
   "outputs": [
    {
     "data": {
      "text/plain": [
       "2"
      ]
     },
     "execution_count": 170,
     "metadata": {},
     "output_type": "execute_result"
    }
   ],
   "source": [
    "s = iter([3, 2, 2, 2, 1, 2, 1, 4, 4, 5, 5, 5])\n",
    "repeated(s, 3)"
   ]
  },
  {
   "cell_type": "code",
   "execution_count": 171,
   "id": "b7e6d306",
   "metadata": {},
   "outputs": [
    {
     "data": {
      "text/plain": [
       "2"
      ]
     },
     "execution_count": 171,
     "metadata": {},
     "output_type": "execute_result"
    }
   ],
   "source": [
    " s = iter([3, 2, 2, 2, 1, 2, 1, 4, 4, 5, 5, 5])\n",
    ">>> repeated(s, 3)"
   ]
  },
  {
   "cell_type": "code",
   "execution_count": 172,
   "id": "c9d8626c",
   "metadata": {},
   "outputs": [
    {
     "data": {
      "text/plain": [
       "5"
      ]
     },
     "execution_count": 172,
     "metadata": {},
     "output_type": "execute_result"
    }
   ],
   "source": [
    "repeated(s, 3)"
   ]
  },
  {
   "cell_type": "code",
   "execution_count": null,
   "id": "cd78200f",
   "metadata": {},
   "outputs": [],
   "source": []
  },
  {
   "cell_type": "code",
   "execution_count": null,
   "id": "dff43a23",
   "metadata": {},
   "outputs": [],
   "source": []
  }
 ],
 "metadata": {
  "kernelspec": {
   "display_name": "Python 3 (ipykernel)",
   "language": "python",
   "name": "python3"
  },
  "language_info": {
   "codemirror_mode": {
    "name": "ipython",
    "version": 3
   },
   "file_extension": ".py",
   "mimetype": "text/x-python",
   "name": "python",
   "nbconvert_exporter": "python",
   "pygments_lexer": "ipython3",
   "version": "3.8.11"
  }
 },
 "nbformat": 4,
 "nbformat_minor": 5
}
