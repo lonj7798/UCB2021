{
 "cells": [
  {
   "cell_type": "code",
   "execution_count": 12,
   "id": "a2766181",
   "metadata": {},
   "outputs": [],
   "source": [
    "def insert_into_all(item, nested_list):\n",
    "    \"\"\"Return a new list consisting of all the lists in nested_list,\n",
    "    but with item added to the front of each. You can assume that\n",
    "     nested_list is a list of lists.\n",
    "\n",
    "    >>> nl = [[], [1, 2], [3]]\n",
    "    >>> insert_into_all(0, nl)\n",
    "    [[0], [0, 1, 2], [0, 3]]\n",
    "    \"\"\"\n",
    "    \"*** YOUR CODE HERE ***\"\n",
    "\n",
    "    \"\"\"\n",
    "    for lis in nested_list:\n",
    "        lis.insert(0, item)\n",
    "    return nested_list\n",
    "    \"\"\"\n",
    "\n",
    "    return [[item] + lst for lst in nested_list]"
   ]
  },
  {
   "cell_type": "code",
   "execution_count": 14,
   "id": "fb92f502",
   "metadata": {},
   "outputs": [],
   "source": [
    "def subseqs(s):\n",
    "    \"\"\"Return a nested list (a list of lists) of all subsequences of S.\n",
    "    The subsequences can appear in any order. You can assume S is a list.\n",
    "\n",
    "    >>> seqs = subseqs([1, 2, 3])\n",
    "    >>> sorted(seqs)\n",
    "    [[], [1], [1, 2], [1, 2, 3], [1, 3], [2], [2, 3], [3]]\n",
    "    >>> subseqs([])\n",
    "    [[]]\n",
    "    \"\"\"\n",
    "    if not s:\n",
    "        return [[]]\n",
    "    else:\n",
    "        subset = subseqs(s[1:])\n",
    "        return insert_into_all(s[0], subset) + subset"
   ]
  },
  {
   "cell_type": "code",
   "execution_count": 16,
   "id": "d5acedff",
   "metadata": {},
   "outputs": [],
   "source": [
    "def non_decrease_subseqs(s):\n",
    "    \"\"\"Assuming that S is a list, return a nested list of all subsequences\n",
    "    of S (a list of lists) for which the elements of the subsequence\n",
    "    are strictly nondecreasing. The subsequences can appear in any order.\n",
    "\n",
    "    >>> seqs = non_decrease_subseqs([1, 3, 2])\n",
    "    >>> sorted(seqs)\n",
    "    [[], [1], [1, 2], [1, 3], [2], [3]]\n",
    "    >>> non_decrease_subseqs([])\n",
    "    [[]]\n",
    "    >>> seqs2 = non_decrease_subseqs([1, 1, 2])\n",
    "    >>> sorted(seqs2)\n",
    "    [[], [1], [1], [1, 1], [1, 1, 2], [1, 2], [1, 2], [2]]\n",
    "    \"\"\"\n",
    "    def subseq_helper(s, prev):\n",
    "        if not s:\n",
    "            return [[]]\n",
    "        elif s[0] < prev:\n",
    "            return subseq_helper(s[1:], prev)\n",
    "        else:\n",
    "            a = subseq_helper(s[1:], s[0])\n",
    "            b = subseq_helper(s[1:], prev)\n",
    "            return insert_into_all(s[0], a) + b\n",
    "    return subseq_helper(s, 0)"
   ]
  },
  {
   "cell_type": "code",
   "execution_count": 17,
   "id": "1a4b17c8",
   "metadata": {},
   "outputs": [],
   "source": [
    "def num_trees(n):\n",
    "    \"\"\"Returns the number of unique full binary trees with exactly n leaves. E.g.,\n",
    "\n",
    "    1   2        3       3    ...\n",
    "    *   *        *       *\n",
    "       / \\      / \\     / \\\n",
    "      *   *    *   *   *   *\n",
    "              / \\         / \\\n",
    "             *   *       *   *\n",
    "\n",
    "    >>> num_trees(1)\n",
    "    1\n",
    "    >>> num_trees(2)\n",
    "    1\n",
    "    >>> num_trees(3)\n",
    "    2\n",
    "    >>> num_trees(8)\n",
    "    429\n",
    "\n",
    "    \"\"\"\n",
    "    if n == 1:\n",
    "        return 1\n",
    "    return sum(num_trees(k) * num_trees(n-k) for k in range(1, n))"
   ]
  },
  {
   "cell_type": "code",
   "execution_count": 34,
   "id": "b1b88ae5",
   "metadata": {},
   "outputs": [],
   "source": [
    "def merge(a, b):\n",
    "    \"\"\"\n",
    "    >>> def sequence(start, step):\n",
    "    ...     while True:\n",
    "    ...         yield start\n",
    "    ...         start += step\n",
    "    >>> a = sequence(2, 3) # 2, 5, 8, 11, 14, ...\n",
    "    >>> b = sequence(3, 2) # 3, 5, 7, 9, 11, 13, 15, ...\n",
    "    >>> result = merge(a, b) # 2, 3, 5, 7, 8, 9, 11, 13, 14, 15\n",
    "    >>> [next(result) for _ in range(10)]\n",
    "    [2, 3, 5, 7, 8, 9, 11, 13, 14, 15]\n",
    "    \"\"\"\n",
    "    \"*** YOUR CODE HERE ***\"\n",
    "\n",
    "\n",
    "    el_a = next(a)\n",
    "    el_b = next(b)\n",
    "    \n",
    "    while True:\n",
    "        if el_a < el_b:\n",
    "            yield el_a\n",
    "            el_a = next(a)\n",
    "\n",
    "        elif el_a > el_b:\n",
    "            yield el_b\n",
    "            el_b = next(b)\n",
    "\n",
    "        else:\n",
    "            yield el_a\n",
    "            el_a = next(a)\n",
    "            el_b = next(b)"
   ]
  },
  {
   "cell_type": "code",
   "execution_count": 18,
   "id": "4264fb40",
   "metadata": {},
   "outputs": [],
   "source": [
    "def merge(incr_a, incr_b):\n",
    "    \"\"\"Yield the elements of strictly increasing iterables incr_a and incr_b, removing\n",
    "    repeats. Assume that incr_a and incr_b have no repeats. incr_a or incr_b may or may not\n",
    "    be infinite sequences.\n",
    "\n",
    "    >>> m = merge([0, 2, 4, 6, 8, 10, 12, 14], [0, 3, 6, 9, 12, 15])\n",
    "    >>> type(m)\n",
    "    <class 'generator'>\n",
    "    >>> list(m)\n",
    "    [0, 2, 3, 4, 6, 8, 9, 10, 12, 14, 15]\n",
    "    >>> def big(n):\n",
    "    ...    k = 0\n",
    "    ...    while True: yield k; k += n\n",
    "    >>> m = merge(big(2), big(3))\n",
    "    >>> [next(m) for _ in range(11)]\n",
    "    [0, 2, 3, 4, 6, 8, 9, 10, 12, 14, 15]\n",
    "    \"\"\"\n",
    "    iter_a, iter_b = iter(incr_a), iter(incr_b)\n",
    "    next_a, next_b = next(iter_a, None), next(iter_b, None)\n",
    "    while next_a is not None or next_b is not None:\n",
    "        if next_a is None or next_b is not None and next_b < next_a:\n",
    "            yield next_b\n",
    "            next_b = next(iter_b, None)\n",
    "        elif next_b is None or next_a is not None and next_a < next_b:\n",
    "            yield next_a\n",
    "            next_a = next(iter_a, None)\n",
    "        else:\n",
    "            yield next_a\n",
    "            next_a, next_b = next(iter_a, None), next(iter_b, None)"
   ]
  },
  {
   "cell_type": "code",
   "execution_count": 19,
   "id": "a2c3138d",
   "metadata": {},
   "outputs": [],
   "source": [
    "def trade(first, second):\n",
    "    \"\"\"Exchange the smallest prefixes of first and second that have equal sum.\n",
    "\n",
    "    >>> a = [1, 1, 3, 2, 1, 1, 4]\n",
    "    >>> b = [4, 3, 2, 7]\n",
    "    >>> trade(a, b) # Trades 1+1+3+2=7 for 4+3=7\n",
    "    'Deal!'\n",
    "    >>> a\n",
    "    [4, 3, 1, 1, 4]\n",
    "    >>> b\n",
    "    [1, 1, 3, 2, 2, 7]\n",
    "    >>> c = [3, 3, 2, 4, 1]\n",
    "    >>> trade(b, c)\n",
    "    'No deal!'\n",
    "    >>> b\n",
    "    [1, 1, 3, 2, 2, 7]\n",
    "    >>> c\n",
    "    [3, 3, 2, 4, 1]\n",
    "    >>> trade(a, c)\n",
    "    'Deal!'\n",
    "    >>> a\n",
    "    [3, 3, 2, 1, 4]\n",
    "    >>> b\n",
    "    [1, 1, 3, 2, 2, 7]\n",
    "    >>> c\n",
    "    [4, 3, 1, 4, 1]\n",
    "    \"\"\"\n",
    "    m, n = 1, 1\n",
    "\n",
    "    equal_prefix = lambda: sum(first[:m]) == sum(second[:n])\n",
    "    while m < len(first) and n < len(second) and not equal_prefix():\n",
    "        if sum(first[:m]) < sum(second[:n]):\n",
    "            m += 1\n",
    "        else:\n",
    "            n += 1\n",
    "\n",
    "    if equal_prefix():\n",
    "        first[:m], second[:n] = second[:n], first[:m]\n",
    "        return 'Deal!'\n",
    "    else:\n",
    "        return 'No deal!'"
   ]
  },
  {
   "cell_type": "code",
   "execution_count": 20,
   "id": "b818d059",
   "metadata": {},
   "outputs": [],
   "source": [
    "def card(n):\n",
    "    \"\"\"Return the playing card numeral as a string for a positive n <= 13.\"\"\"\n",
    "    assert type(n) == int and n > 0 and n <= 13, \"Bad card n\"\n",
    "    specials = {1: 'A', 11: 'J', 12: 'Q', 13: 'K'}\n",
    "    return specials.get(n, str(n))\n",
    "\n",
    "def shuffle(cards):\n",
    "    \"\"\"Return a shuffled list that interleaves the two halves of cards.\n",
    "\n",
    "    >>> shuffle(range(6))\n",
    "    [0, 3, 1, 4, 2, 5]\n",
    "    >>> suits = ['♡', '♢', '♤', '♧']\n",
    "    >>> cards = [card(n) + suit for n in range(1,14) for suit in suits]\n",
    "    >>> cards[:12]\n",
    "    ['A♡', 'A♢', 'A♤', 'A♧', '2♡', '2♢', '2♤', '2♧', '3♡', '3♢', '3♤', '3♧']\n",
    "    >>> cards[26:30]\n",
    "    ['7♤', '7♧', '8♡', '8♢']\n",
    "    >>> shuffle(cards)[:12]\n",
    "    ['A♡', '7♤', 'A♢', '7♧', 'A♤', '8♡', 'A♧', '8♢', '2♡', '8♤', '2♢', '8♧']\n",
    "    >>> shuffle(shuffle(cards))[:12]\n",
    "    ['A♡', '4♢', '7♤', '10♧', 'A♢', '4♤', '7♧', 'J♡', 'A♤', '4♧', '8♡', 'J♢']\n",
    "    >>> cards[:12]  # Should not be changed\n",
    "    ['A♡', 'A♢', 'A♤', 'A♧', '2♡', '2♢', '2♤', '2♧', '3♡', '3♢', '3♤', '3♧']\n",
    "    \"\"\"\n",
    "    assert len(cards) % 2 == 0, 'len(cards) must be even'\n",
    "    half = len(cards) // 2\n",
    "    shuffled = []\n",
    "    for i in range(half):\n",
    "        shuffled.append(cards[i])\n",
    "        shuffled.append(cards[half+i])\n",
    "    return shuffled"
   ]
  },
  {
   "cell_type": "code",
   "execution_count": 21,
   "id": "eca20623",
   "metadata": {},
   "outputs": [],
   "source": [
    "def deep_len(lnk):\n",
    "    \"\"\" Returns the deep length of a possibly deep linked list.\n",
    "\n",
    "    >>> deep_len(Link(1, Link(2, Link(3))))\n",
    "    3\n",
    "    >>> deep_len(Link(Link(1, Link(2)), Link(3, Link(4))))\n",
    "    4\n",
    "    >>> levels = Link(Link(Link(1, Link(2)), \\\n",
    "            Link(3)), Link(Link(4), Link(5)))\n",
    "    >>> print(levels)\n",
    "    <<<1 2> 3> <4> 5>\n",
    "    >>> deep_len(levels)\n",
    "    5\n",
    "    \"\"\"\n",
    "    if lnk is Link.empty:\n",
    "        return 0\n",
    "    elif not isinstance(lnk, Link):\n",
    "        return 1\n",
    "    else:\n",
    "        return deep_len(lnk.first) + deep_len(lnk.rest)"
   ]
  },
  {
   "cell_type": "code",
   "execution_count": 22,
   "id": "ee4192bd",
   "metadata": {},
   "outputs": [],
   "source": [
    "def long_paths(t, n):\n",
    "    \"\"\"Return a list of all paths in t with length at least n.\n",
    "    >>> for path in long_paths(whole, 2):\n",
    "    ...     print(path)\n",
    "    ...\n",
    "    [0, 1, 2]\n",
    "    [0, 1, 3, 4]\n",
    "    [0, 1, 3, 4]\n",
    "    [0, 1, 3, 5]\n",
    "    [0, 6, 7, 8]\n",
    "    [0, 6, 9]\n",
    "    [0, 11, 12, 13, 14]\n",
    "    >>> for path in long_paths(whole, 3):\n",
    "    ...     print(path)\n",
    "    ...\n",
    "    [0, 1, 3, 4]\n",
    "    [0, 1, 3, 4]\n",
    "    [0, 1, 3, 5]\n",
    "    [0, 6, 7, 8]\n",
    "    [0, 11, 12, 13, 14]\n",
    "    >>> long_paths(whole, 4)\n",
    "    [[0, 11, 12, 13, 14]]\n",
    "    \"\"\"\n",
    "    if n <= 0 and t.is_leaf():\n",
    "        return [[t.label]]\n",
    "    paths = []\n",
    "    for b in t.branches:\n",
    "        for path in long_paths(b, n - 1):\n",
    "        paths.append([t.label] + path)\n",
    "    return paths"
   ]
  },
  {
   "cell_type": "code",
   "execution_count": 23,
   "id": "65c66f07",
   "metadata": {},
   "outputs": [],
   "source": [
    "def is_palindrome(s):\n",
    "    \"\"\"Return whether a list of numbers s is a palindrome.\"\"\"\n",
    "    return all([s[i] == s[len(s) - i - 1] for i in range(len(s))])"
   ]
  },
  {
   "cell_type": "code",
   "execution_count": 24,
   "id": "6209d0f4",
   "metadata": {},
   "outputs": [],
   "source": [
    "def add_d_leaves(t, v):\n",
    "    \"\"\"\n",
    "    >>> add_d_leaves(t3, 10)\n",
    "    >>> print(t3)\n",
    "    3\n",
    "      1\n",
    "        3\n",
    "          4\n",
    "            10\n",
    "            10\n",
    "            10\n",
    "          10\n",
    "          10\n",
    "        10\n",
    "      0\n",
    "        10\n",
    "      2\n",
    "        5\n",
    "          10\n",
    "          10\n",
    "        6\n",
    "          10\n",
    "          10\n",
    "        10\n",
    "    \"\"\"\n",
    "    def count_d(t, v, d = 0):\n",
    "        if t.is_leaf():\n",
    "            t.branches = [Tree(v)] * d\n",
    "        \n",
    "        else:\n",
    "            for branch in t.branches:\n",
    "                count_d(branch, v, d + 1)\n",
    "            t.branches += [Tree(v)] * d\n",
    "                \n",
    "    t = count_d(t, v)"
   ]
  },
  {
   "cell_type": "code",
   "execution_count": 27,
   "id": "9954b6e0",
   "metadata": {},
   "outputs": [],
   "source": [
    "def repeated(t, k):\n",
    "    \"\"\"Return the first value in iterator T that appears K times in a row.\n",
    "    Iterate through the items such that if the same iterator is passed into\n",
    "    the function twice, it continues in the second call at the point it left\n",
    "    off in the first.\n",
    "\n",
    "    >>> s = iter([10, 9, 10, 9, 9, 10, 8, 8, 8, 7])\n",
    "    >>> repeated(s, 2)\n",
    "    9\n",
    "    >>> s2 = iter([10, 9, 10, 9, 9, 10, 8, 8, 8, 7])\n",
    "    >>> repeated(s2, 3)\n",
    "    8\n",
    "    >>> s = iter([3, 2, 2, 2, 1, 2, 1, 4, 4, 5, 5, 5])\n",
    "    >>> repeated(s, 3)\n",
    "    2\n",
    "    >>> repeated(s, 3)\n",
    "    5\n",
    "    >>> s2 = iter([4, 1, 6, 6, 7, 7, 8, 8, 2, 2, 2, 5])\n",
    "    >>> repeated(s2, 3)\n",
    "    2\n",
    "    \"\"\"\n",
    "    \n",
    "    prev = next(t)\n",
    "    count = k - 1\n",
    "    \n",
    "    for i in t:\n",
    "        \n",
    "        if prev == i:\n",
    "            count -= 1\n",
    "        else:\n",
    "            prev = i\n",
    "            count = k - 1\n",
    "            \n",
    "        if count == 0:\n",
    "            return prev\n",
    "    return"
   ]
  },
  {
   "cell_type": "code",
   "execution_count": 28,
   "id": "22cdbb75",
   "metadata": {},
   "outputs": [],
   "source": [
    "def berry_finder(t):\n",
    "    \"\"\"Returns True if t contains a node with the value 'berry' and \n",
    "    False otherwise.\n",
    "\n",
    "    >>> scrat = tree('berry')\n",
    "    >>> berry_finder(scrat)\n",
    "    True\n",
    "    >>> sproul = tree('roots', [tree('branch1', [tree('leaf'), tree('berry')]), tree('branch2')])\n",
    "    >>> berry_finder(sproul)\n",
    "    True\n",
    "    >>> numbers = tree(1, [tree(2), tree(3, [tree(4), tree(5)]), tree(6, [tree(7)])])\n",
    "    >>> berry_finder(numbers)\n",
    "    False\n",
    "    >>> t = tree(1, [tree('berry',[tree('not berry')])])\n",
    "    >>> berry_finder(t)\n",
    "    True\n",
    "    \"\"\"\n",
    "    if  label(t) == 'berry':\n",
    "        return True\n",
    "        \n",
    "    for branch in branches(t):\n",
    "        if berry_finder(branch):\n",
    "            return True\n",
    "        \n",
    "    return False"
   ]
  },
  {
   "cell_type": "code",
   "execution_count": 29,
   "id": "856118d8",
   "metadata": {},
   "outputs": [],
   "source": [
    "def sprout_leaves(t, leaves):\n",
    "    \"\"\"Sprout new leaves containing the data in leaves at each leaf in\n",
    "    the original tree t and return the resulting tree.\n",
    "\n",
    "    >>> t1 = tree(1, [tree(2), tree(3)])\n",
    "    >>> print_tree(t1)\n",
    "    1\n",
    "      2\n",
    "      3\n",
    "    >>> new1 = sprout_leaves(t1, [4, 5])\n",
    "    >>> print_tree(new1)\n",
    "    1\n",
    "      2\n",
    "        4\n",
    "        5\n",
    "      3\n",
    "        4\n",
    "        5\n",
    "\n",
    "    >>> t2 = tree(1, [tree(2, [tree(3)])])\n",
    "    >>> print_tree(t2)\n",
    "    1\n",
    "      2\n",
    "        3\n",
    "    >>> new2 = sprout_leaves(t2, [6, 1, 2])\n",
    "    >>> print_tree(new2)\n",
    "    1\n",
    "      2\n",
    "        3\n",
    "          6\n",
    "          1\n",
    "          2\n",
    "    \"\"\"\n",
    "    \"*** YOUR CODE HERE ***\"\n",
    "    if not is_leaf(t):\n",
    "        return tree(label(t), [sprout_leaves(b, leaves) for b in branches(t)])\n",
    "    else:\n",
    "        return tree(label(t), [tree(leaf) for leaf in leaves])"
   ]
  },
  {
   "cell_type": "code",
   "execution_count": 30,
   "id": "fc880fbc",
   "metadata": {},
   "outputs": [],
   "source": [
    "def pascal(row, column):\n",
    "    \"\"\"Returns the value of the item in Pascal's Triangle \n",
    "    whose position is specified by row and column.\n",
    "    >>> pascal(0, 0)\n",
    "    1\n",
    "    >>> pascal(0, 5)\t# Empty entry; outside of Pascal's Triangle\n",
    "    0\n",
    "    >>> pascal(3, 2)\t# Row 3 (1 3 3 1), Column 2\n",
    "    3\n",
    "    >>> pascal(4, 2)     # Row 4 (1 4 6 4 1), Column 2\n",
    "    6\n",
    "    \"\"\"\n",
    "    \"*** YOUR CODE HERE ***\"\n",
    "    if row < column:\n",
    "        return 0\n",
    "    \n",
    "    elif row == 0 or column == 0:\n",
    "        return 1\n",
    "    else:\n",
    "        return pascal(row-1, column-1) + pascal(row-1, column)"
   ]
  },
  {
   "cell_type": "code",
   "execution_count": 31,
   "id": "72cabec9",
   "metadata": {},
   "outputs": [],
   "source": [
    "def paths(m, n):\n",
    "    \"\"\"Return the number of paths from one corner of an\n",
    "    M by N grid to the opposite corner.\n",
    "\n",
    "    >>> paths(2, 2)\n",
    "    2\n",
    "    >>> paths(5, 7)\n",
    "    210\n",
    "    >>> paths(117, 1)\n",
    "    1\n",
    "    >>> paths(1, 157)\n",
    "    1\n",
    "    \"\"\"\n",
    "    \"*** YOUR CODE HERE ***\"\n",
    "    if m == 1 and n == 1:\n",
    "        return 1\n",
    "    \n",
    "    elif m == 0 or n == 0:\n",
    "        return 0\n",
    "    \n",
    "    return paths(m-1, n) + paths(m, n-1)"
   ]
  },
  {
   "cell_type": "code",
   "execution_count": 32,
   "id": "70114715",
   "metadata": {},
   "outputs": [],
   "source": [
    "def unique_digits(n):\n",
    "    \"\"\"Return the number of unique digits in positive integer n.\n",
    "\n",
    "    >>> unique_digits(8675309) # All are unique\n",
    "    7\n",
    "    >>> unique_digits(1313131) # 1 and 3\n",
    "    2\n",
    "    >>> unique_digits(13173131) # 1, 3, and 7\n",
    "    3\n",
    "    >>> unique_digits(10000) # 0 and 1\n",
    "    2\n",
    "    >>> unique_digits(101) # 0 and 1\n",
    "    2\n",
    "    >>> unique_digits(10) # 0 and 1\n",
    "    2\n",
    "    \"\"\"\n",
    "    \"*** YOUR CODE HERE ***\"\n",
    "    unique = set(str(n))\n",
    "    \n",
    "    return len(unique)"
   ]
  },
  {
   "cell_type": "code",
   "execution_count": 33,
   "id": "3a2bf921",
   "metadata": {},
   "outputs": [],
   "source": [
    "def filter_iter(iterable, fn):\n",
    "    \"\"\"\n",
    "    >>> is_even = lambda x: x % 2 == 0\n",
    "    >>> list(filter_iter(range(5), is_even)) # a list of the values yielded from the call to filter_iter\n",
    "    [0, 2, 4]\n",
    "    >>> all_odd = (2*y-1 for y in range(5))\n",
    "    >>> list(filter_iter(all_odd, is_even))\n",
    "    []\n",
    "    >>> naturals = (n for n in range(1, 100))\n",
    "    >>> s = filter_iter(naturals, is_even)\n",
    "    >>> next(s)\n",
    "    2\n",
    "    >>> next(s)\n",
    "    4\n",
    "    \"\"\"\n",
    "    \"*** YOUR CODE HERE ***\"\n",
    "\n",
    "    yield from filter(fn, iterable)"
   ]
  },
  {
   "cell_type": "code",
   "execution_count": 35,
   "id": "c105dafc",
   "metadata": {},
   "outputs": [
    {
     "data": {
      "text/plain": [
       "[0, 1, 4, 9, 16]"
      ]
     },
     "execution_count": 35,
     "metadata": {},
     "output_type": "execute_result"
    }
   ],
   "source": [
    "list(map(lambda x: x ** 2, range(5)))"
   ]
  },
  {
   "cell_type": "code",
   "execution_count": 36,
   "id": "6d0a038c",
   "metadata": {},
   "outputs": [
    {
     "data": {
      "text/plain": [
       "0"
      ]
     },
     "execution_count": 36,
     "metadata": {},
     "output_type": "execute_result"
    }
   ],
   "source": [
    "next(map(lambda x: x ** 2, range(5)))"
   ]
  },
  {
   "cell_type": "code",
   "execution_count": 76,
   "id": "965a9108",
   "metadata": {},
   "outputs": [
    {
     "data": {
      "text/plain": [
       "'Lamb named Lil lamb'"
      ]
     },
     "execution_count": 76,
     "metadata": {},
     "output_type": "execute_result"
    }
   ],
   "source": [
    "# __repr__(self) / work from when it is called  vs  __str__(self) / work from print\n",
    "\n",
    "class Lamb:\n",
    "    species_name = \"Lamb\"\n",
    "    scientific_name = \"Ovis aries\"\n",
    "\n",
    "    def __init__(self, name):\n",
    "        self.name = name\n",
    "        self.num = 10\n",
    "        self.k = list(range(10))\n",
    "\n",
    "    def __str__(self):\n",
    "        return \"Lamb named \" + self.name\n",
    "\n",
    "    def __repr__(self):\n",
    "        \n",
    "        return f\"Lamb({repr(self.name)})\" # Lamb('Lil lamb')\n",
    "            #  f\"Lamb({self.name})\"       # Lamb(Lil lamb)\n",
    "    def __iter__(self):\n",
    "        return iter(self.k)\n",
    "        \n",
    "lil = Lamb(\"Lil lamb\")\n",
    "str(lil)"
   ]
  },
  {
   "cell_type": "code",
   "execution_count": 77,
   "id": "f49a3238",
   "metadata": {},
   "outputs": [
    {
     "name": "stdout",
     "output_type": "stream",
     "text": [
      "Lamb named Lil lamb\n"
     ]
    }
   ],
   "source": [
    "print(lil)"
   ]
  },
  {
   "cell_type": "code",
   "execution_count": 78,
   "id": "d2d6dd4c",
   "metadata": {},
   "outputs": [
    {
     "data": {
      "text/plain": [
       "\"Lamb('Lil lamb')\""
      ]
     },
     "execution_count": 78,
     "metadata": {},
     "output_type": "execute_result"
    }
   ],
   "source": [
    "lil = Lamb(\"Lil lamb\")\n",
    "repr(lil)"
   ]
  },
  {
   "cell_type": "code",
   "execution_count": 79,
   "id": "1abf0771",
   "metadata": {},
   "outputs": [
    {
     "data": {
      "text/plain": [
       "Lamb('Lil lamb')"
      ]
     },
     "execution_count": 79,
     "metadata": {},
     "output_type": "execute_result"
    }
   ],
   "source": [
    "lil"
   ]
  },
  {
   "cell_type": "code",
   "execution_count": 80,
   "id": "ecf02c88",
   "metadata": {},
   "outputs": [
    {
     "name": "stdout",
     "output_type": "stream",
     "text": [
      "0\n",
      "1\n",
      "2\n",
      "3\n",
      "4\n",
      "5\n",
      "6\n",
      "7\n",
      "8\n",
      "9\n"
     ]
    }
   ],
   "source": [
    "for i in lil:\n",
    "    print(i)"
   ]
  },
  {
   "cell_type": "code",
   "execution_count": null,
   "id": "9e8664f0",
   "metadata": {},
   "outputs": [],
   "source": []
  },
  {
   "cell_type": "code",
   "execution_count": 37,
   "id": "4a396415",
   "metadata": {},
   "outputs": [
    {
     "data": {
      "text/plain": [
       "[56, -163]"
      ]
     },
     "execution_count": 37,
     "metadata": {},
     "output_type": "execute_result"
    }
   ],
   "source": [
    "coords = [ [37, -144], [-22, -115], [56, -163] ]\n",
    "max(coords, key=lambda coord: coord[0])  # [56, -163]"
   ]
  },
  {
   "cell_type": "code",
   "execution_count": 38,
   "id": "99d2f3d9",
   "metadata": {},
   "outputs": [],
   "source": [
    "s = [2, 3]\n",
    "t = [5, 6]\n",
    "# s.extend(4) # 🚫 Error: 4 is not an iterable!\n",
    "s.extend(t)\n",
    "t = 0"
   ]
  },
  {
   "cell_type": "code",
   "execution_count": 39,
   "id": "984847e9",
   "metadata": {},
   "outputs": [],
   "source": [
    "s = [6, 2, 4, 8, 4]\n",
    "s.remove(4) # 처음 4가 사라짐\n",
    "temp = s.pop() # inex base, default = -1"
   ]
  },
  {
   "cell_type": "code",
   "execution_count": 42,
   "id": "e4d3e026",
   "metadata": {},
   "outputs": [
    {
     "name": "stdout",
     "output_type": "stream",
     "text": [
      "4\n",
      "6\n"
     ]
    }
   ],
   "source": [
    "# Name change: immutation / int, float, string, tuple / cannot change the value\n",
    "x = 2\n",
    "print(x + x) # 4\n",
    "\n",
    "x = 3\n",
    "print(x + x) # 6"
   ]
  },
  {
   "cell_type": "code",
   "execution_count": 43,
   "id": "c35a4a33",
   "metadata": {},
   "outputs": [
    {
     "name": "stdout",
     "output_type": "stream",
     "text": [
      "['A', 'B', 'A', 'B']\n",
      "['A', 'B', 'C', 'A', 'B', 'C']\n"
     ]
    }
   ],
   "source": [
    "# Object mutation: mutation / list, dictionary / can change the value\n",
    "x = ['A', 'B']\n",
    "print(x + x)  # ['A', 'B', 'A', 'B']\n",
    "\n",
    "x.append('C')\n",
    "print(x + x)  # ['A', 'B', 'C', 'A', 'B', 'C']"
   ]
  },
  {
   "cell_type": "code",
   "execution_count": 49,
   "id": "0d680635",
   "metadata": {},
   "outputs": [],
   "source": [
    "numbers = [1, 2, 3,  4]\n",
    "num_iter = iter(numbers)\n",
    "num_iter2 = iter(num_iter)\n",
    "num_iter3 = iter(numbers)"
   ]
  },
  {
   "cell_type": "code",
   "execution_count": 50,
   "id": "448bdc43",
   "metadata": {},
   "outputs": [
    {
     "name": "stdout",
     "output_type": "stream",
     "text": [
      "1 2 1\n"
     ]
    }
   ],
   "source": [
    "print(next(num_iter), next(num_iter2), next(num_iter3))"
   ]
  },
  {
   "cell_type": "code",
   "execution_count": 51,
   "id": "aecb9c8b",
   "metadata": {},
   "outputs": [
    {
     "name": "stdout",
     "output_type": "stream",
     "text": [
      "sup\n",
      "hello\n",
      "hi\n"
     ]
    }
   ],
   "source": [
    "for word in map(lambda text: text.lower(), [\"SuP\", \"HELLO\", \"Hi\"]):\n",
    "    print(word)"
   ]
  },
  {
   "cell_type": "code",
   "execution_count": 52,
   "id": "8b11e06b",
   "metadata": {},
   "outputs": [],
   "source": [
    "def termified(n, term):\n",
    "    \"\"\"Returns every the result of calling TERM\n",
    "    on each element in the range from 0 to N (inclusive).\n",
    "\n",
    "    >>> termified(5, lambda x: 2 ** x)\n",
    "    [1, 2, 4, 8, 16, 32]\n",
    "    \"\"\"\n",
    "    return list(map(term, range(n+1)))"
   ]
  },
  {
   "cell_type": "code",
   "execution_count": 53,
   "id": "5b45ea7d",
   "metadata": {},
   "outputs": [
    {
     "name": "stdout",
     "output_type": "stream",
     "text": [
      "2\n",
      "4\n"
     ]
    }
   ],
   "source": [
    "# filter\n",
    "\n",
    "for num in filter(lambda x: x % 2 == 0, [1, 2, 3, 4]):\n",
    "    print(num)"
   ]
  },
  {
   "cell_type": "code",
   "execution_count": 54,
   "id": "1ed61657",
   "metadata": {
    "scrolled": true
   },
   "outputs": [
    {
     "name": "stdout",
     "output_type": "stream",
     "text": [
      "apple, 10\n",
      "app\n"
     ]
    }
   ],
   "source": [
    "apple = 'apple'\n",
    "bear = 10\n",
    "print(f'{apple}, {bear}')\n",
    "print(f'{apple[:3]}')"
   ]
  },
  {
   "cell_type": "code",
   "execution_count": 61,
   "id": "25d124cc",
   "metadata": {},
   "outputs": [
    {
     "name": "stdout",
     "output_type": "stream",
     "text": [
      "times: dict_items([('a', 10), ('b', 20), ('c', 30)])\n",
      "vaues: dict_values([10, 20, 30])\n"
     ]
    },
    {
     "data": {
      "text/plain": [
       "'a'"
      ]
     },
     "execution_count": 61,
     "metadata": {},
     "output_type": "execute_result"
    }
   ],
   "source": [
    "a = {'a': 10, 'b': 20, 'c': 30}\n",
    "print('times:', a.items())\n",
    "print('vaues:', a.values())\n",
    "list(a.items())[0][0]"
   ]
  },
  {
   "cell_type": "code",
   "execution_count": 62,
   "id": "3c3a4ee6",
   "metadata": {},
   "outputs": [
    {
     "name": "stdout",
     "output_type": "stream",
     "text": [
      "{'a': 10, 'b': 20, 'c': 30, 'k': 100}\n"
     ]
    }
   ],
   "source": [
    "a['k'] = 100\n",
    "print(a)"
   ]
  },
  {
   "cell_type": "code",
   "execution_count": null,
   "id": "47d587c4",
   "metadata": {},
   "outputs": [],
   "source": [
    "\n",
    "\"\"\"\n",
    "2 + 4 = 6\n",
    "1 + 1 + 4 = 6\n",
    "3 + 3 = 6\n",
    "1 + 2 + 3 = 6\n",
    "1 + 1 + 1 + 3 = 6\n",
    "2 + 2 + 2 = 6\n",
    "1 + 1 + 2 + 2 = 6\n",
    "1 + 1 + 1 + 1 + 2 = 6\n",
    "1 + 1 + 1 + 1 + 1 + 1 = 6\n",
    "\"\"\"\n",
    "\n",
    "def count_partitions(n, m):\n",
    "    \"\"\"\n",
    "    >>> count_partitions(6, 4)\n",
    "    9\n",
    "    \"\"\"\n",
    "    if n == 0:\n",
    "        return 1\n",
    "    elif n < 0:\n",
    "        return 0\n",
    "    elif m == 0:\n",
    "        return 0\n",
    "    else:\n",
    "        with_m = count_partitions(n-m, m)\n",
    "        without_m = count_partitions(n, m-1)\n",
    "        return with_m + without_m\n",
    "\n",
    "def partitions(n, m):\n",
    "    if n == m:\n",
    "        yield str(m)\n",
    "    if n > 0 and m > 0:\n",
    "        for p in partitions(n - m, m):\n",
    "            yield str(m) + ' + ' + p\n",
    "        yield from partitions(n, m - 1)"
   ]
  },
  {
   "cell_type": "code",
   "execution_count": 64,
   "id": "07d4a03c",
   "metadata": {},
   "outputs": [
    {
     "name": "stdout",
     "output_type": "stream",
     "text": [
      "True\n"
     ]
    }
   ],
   "source": [
    "class A:\n",
    "    def nothing():\n",
    "        self.a = 10\n",
    "        \n",
    "a = A()\n",
    "print(type(a) == A)"
   ]
  },
  {
   "cell_type": "code",
   "execution_count": null,
   "id": "75ad956d",
   "metadata": {},
   "outputs": [],
   "source": [
    "def max_tree(t, key):\n",
    "              \"\"\"Return the label n of t for which key(n) returns the largest value.\n",
    "              >>> t = Tree(6, [Tree(3, [Tree(5)]), Tree(2), Tree(4, [Tree(7)])])\n",
    "              >>> max_tree(t, key=lambda x: x)\n",
    "              7\n",
    "              >>> max_tree(t, key=lambda x: -x)\n",
    "              2\n",
    "              >>> max_tree(t, key=lambda x: -abs(x - 4))\n",
    "              4\n",
    "              \"\"\"\n",
    "    if t.is_leaf():\n",
    "        return t.label\n",
    "    x = t.label\n",
    "    \n",
    "    for b in t.branches:\n",
    "        m = max_tree(b, key)\n",
    "        if key(m) > key(x):\n",
    "            x=m \n",
    "    return x"
   ]
  },
  {
   "cell_type": "code",
   "execution_count": null,
   "id": "cd12eb51",
   "metadata": {},
   "outputs": [],
   "source": [
    "def cascade(n):\n",
    "    print(n)\n",
    "    if n >= 10:\n",
    "        cascade(n//10)\n",
    "        print(n)\n",
    "    \"\"\"\n",
    "    123\n",
    "    12\n",
    "    3\n",
    "    12\n",
    "    123\n",
    "    \"\"\"\n",
    "    \n",
    "def inverse_cascade(n):\n",
    "    grow(n)\n",
    "    print(n)\n",
    "    shrink(n)\n",
    "\n",
    "def f_then_g(f, g, n):\n",
    "    if n:\n",
    "        f(n)\n",
    "        g(n)\n",
    "\n",
    "grow = lambda n: f_then_g(grow, print, n//10)\n",
    "shrink = lambda n: f_then_g(print, shrink, n//10)\n",
    "\n",
    "\"\"\"\n",
    "1\n",
    "12\n",
    "123\n",
    "12\n",
    "1\n",
    "\"\"\""
   ]
  },
  {
   "cell_type": "code",
   "execution_count": null,
   "id": "05bba536",
   "metadata": {},
   "outputs": [],
   "source": []
  },
  {
   "cell_type": "code",
   "execution_count": null,
   "id": "4008dee8",
   "metadata": {},
   "outputs": [],
   "source": []
  },
  {
   "cell_type": "code",
   "execution_count": null,
   "id": "956551c2",
   "metadata": {},
   "outputs": [],
   "source": []
  },
  {
   "cell_type": "code",
   "execution_count": 131,
   "id": "3a00df95",
   "metadata": {},
   "outputs": [],
   "source": [
    "class Link:\n",
    "    \"\"\"A linked list.\"\"\"\n",
    "    empty = ()\n",
    "\n",
    "    def __init__(self, first, rest=empty):\n",
    "        assert rest is Link.empty or isinstance(rest, Link)\n",
    "        self.first = first\n",
    "        self.rest = rest\n",
    "\n",
    "    def __repr__(self):\n",
    "        if self.rest:\n",
    "            rest_repr = ', ' + repr(self.rest)\n",
    "        else:\n",
    "            rest_repr = ''\n",
    "        return 'Link(' + repr(self.first) + rest_repr + ')'\n",
    "\n",
    "    def __str__(self):\n",
    "        string = '<'\n",
    "        while self.rest is not Link.empty:\n",
    "            string += str(self.first) + ' '\n",
    "            self = self.rest\n",
    "        return string + str(self.first) + '>'"
   ]
  },
  {
   "cell_type": "code",
   "execution_count": 141,
   "id": "9b6be62d",
   "metadata": {},
   "outputs": [],
   "source": [
    "def sum_nums(s):\n",
    "    \"\"\"\n",
    "    >>> a = Link(1, Link(6, Link(7)))\n",
    "    >>> sum_nums(a)\n",
    "    14\n",
    "    \"\"\"\n",
    "    \"*** YOUR CODE HERE ***\"\n",
    "    if s.rest is Link.empty:\n",
    "        return s.first\n",
    "\n",
    "    return s.first + sum_nums(s.rest)"
   ]
  },
  {
   "cell_type": "code",
   "execution_count": 142,
   "id": "61bde88a",
   "metadata": {},
   "outputs": [
    {
     "data": {
      "text/plain": [
       "14"
      ]
     },
     "execution_count": 142,
     "metadata": {},
     "output_type": "execute_result"
    }
   ],
   "source": [
    "a = Link(1, Link(6, Link(7)))\n",
    ">>> sum_nums(a)"
   ]
  },
  {
   "cell_type": "code",
   "execution_count": 181,
   "id": "365a9480",
   "metadata": {},
   "outputs": [],
   "source": [
    "def multiply_lnks(lst_of_lnks):\n",
    "    \"\"\"\n",
    "    >>> a = Link(2, Link(3, Link(5)))\n",
    "    >>> b = Link(6, Link(4, Link(2)))\n",
    "    >>> c = Link(4, Link(1, Link(0, Link(2))))\n",
    "    >>> p = multiply_lnks([a, b, c])\n",
    "    >>> p.first\n",
    "    48\n",
    "    >>> p.rest.first\n",
    "    12\n",
    "    >>> p.rest.rest.rest is Link.empty\n",
    "    True\n",
    "    \"\"\"\n",
    "    # Implementation Note: you might not need all lines in this skeleton code\n",
    "    \n",
    "    mul = 1\n",
    "    for lnk in lst_of_lnks:\n",
    "        if lnk.rest is Link.empty:\n",
    "            mul = 1\n",
    "            for lnk in lst_of_lnks:\n",
    "                mul *= lnk.first\n",
    "            return Link(mul)\n",
    "        mul *= lnk.first\n",
    "    lst_of_lnks = [lnk.rest for lnk in lst_of_lnks]\n",
    "    return Link(mul, multiply_lnks(lst_of_lnks))\n",
    "    "
   ]
  },
  {
   "cell_type": "code",
   "execution_count": 182,
   "id": "e338b310",
   "metadata": {},
   "outputs": [],
   "source": [
    ">>> a = Link(2, Link(3, Link(5)))\n",
    ">>> b = Link(6, Link(4, Link(2)))\n",
    ">>> c = Link(4, Link(1, Link(0, Link(2))))\n",
    ">>> p = multiply_lnks([a, b, c])"
   ]
  },
  {
   "cell_type": "code",
   "execution_count": 183,
   "id": "40ba11d4",
   "metadata": {},
   "outputs": [
    {
     "data": {
      "text/plain": [
       "Link(48, Link(12, Link(0)))"
      ]
     },
     "execution_count": 183,
     "metadata": {},
     "output_type": "execute_result"
    }
   ],
   "source": [
    "p"
   ]
  },
  {
   "cell_type": "code",
   "execution_count": 184,
   "id": "5dc99b67",
   "metadata": {},
   "outputs": [
    {
     "data": {
      "text/plain": [
       "True"
      ]
     },
     "execution_count": 184,
     "metadata": {},
     "output_type": "execute_result"
    }
   ],
   "source": [
    "p.rest.rest.rest is Link.empty"
   ]
  },
  {
   "cell_type": "code",
   "execution_count": 151,
   "id": "2e69feb4",
   "metadata": {},
   "outputs": [
    {
     "data": {
      "text/plain": [
       "12"
      ]
     },
     "execution_count": 151,
     "metadata": {},
     "output_type": "execute_result"
    }
   ],
   "source": [
    "sum([lnk.first for lnk in [a, b, c]])"
   ]
  },
  {
   "cell_type": "code",
   "execution_count": 223,
   "id": "6f878aeb",
   "metadata": {},
   "outputs": [],
   "source": [
    "def flip_two(s):\n",
    "    \"\"\"\n",
    "    >>> one_lnk = Link(1)\n",
    "    >>> flip_two(one_lnk)\n",
    "    >>> one_lnk\n",
    "    Link(1)\n",
    "    >>> lnk = Link(1, Link(2, Link(3, Link(4, Link(5)))))\n",
    "    >>> flip_two(lnk)\n",
    "    >>> lnk\n",
    "    Link(2, Link(1, Link(4, Link(3, Link(5)))))\n",
    "    \"\"\"\n",
    "    \"*** YOUR CODE HERE ***\"\n",
    "    \n",
    "    if s.rest is Link.empty:\n",
    "        return s\n",
    "    elif s.empty:\n",
    "        return s.empty\n",
    "    \n",
    "    temp = s.first\n",
    "    s.first = s.rest.first\n",
    "    s.rest.first = temp\n",
    "    \n",
    "    return flip_two(s.rest.rest)\n",
    "    \n",
    "    \n",
    "    # For an extra challenge, try writing out an iterative approach as well below!\n",
    "    \"*** YOUR CODE HERE ***\""
   ]
  },
  {
   "cell_type": "code",
   "execution_count": 224,
   "id": "fd94ea04",
   "metadata": {},
   "outputs": [
    {
     "data": {
      "text/plain": [
       "Link(1)"
      ]
     },
     "execution_count": 224,
     "metadata": {},
     "output_type": "execute_result"
    }
   ],
   "source": [
    ">>> one_lnk = Link(1)\n",
    ">>> flip_two(one_lnk)\n",
    ">>> one_lnk"
   ]
  },
  {
   "cell_type": "code",
   "execution_count": 225,
   "id": "40491c7f",
   "metadata": {},
   "outputs": [
    {
     "data": {
      "text/plain": [
       "Link(2, Link(1, Link(4, Link(3, Link(5)))))"
      ]
     },
     "execution_count": 225,
     "metadata": {},
     "output_type": "execute_result"
    }
   ],
   "source": [
    ">>> lnk = Link(1, Link(2, Link(3, Link(4, Link(5)))))\n",
    ">>> flip_two(lnk)\n",
    ">>> lnk"
   ]
  },
  {
   "cell_type": "code",
   "execution_count": null,
   "id": "a0763b54",
   "metadata": {},
   "outputs": [],
   "source": []
  },
  {
   "cell_type": "code",
   "execution_count": null,
   "id": "ce2d0c4b",
   "metadata": {},
   "outputs": [],
   "source": []
  },
  {
   "cell_type": "code",
   "execution_count": 246,
   "id": "249cccbd",
   "metadata": {},
   "outputs": [],
   "source": [
    "class Tree:\n",
    "    def __init__(self, label, branches=[]):\n",
    "        for b in branches:\n",
    "            assert isinstance(b, Tree)\n",
    "        self.label = label\n",
    "        self.branches = branches\n",
    "\n",
    "    def is_leaf(self):\n",
    "        return not self.branches"
   ]
  },
  {
   "cell_type": "code",
   "execution_count": 253,
   "id": "771bea81",
   "metadata": {},
   "outputs": [],
   "source": [
    "def make_even(t):\n",
    "    \"\"\"\n",
    "    >>> t = Tree(1, [Tree(2, [Tree(3)]), Tree(4), Tree(5)])\n",
    "    >>> make_even(t)\n",
    "    >>> t.label\n",
    "    2\n",
    "    >>> t.branches[0].branches[0].label\n",
    "    4\n",
    "    \"\"\"\n",
    "    \"*** YOUR CODE HERE ***\"\n",
    "    if not t.is_leaf:\n",
    "        if t.label % 2:\n",
    "            t.label += 1\n",
    "    else:\n",
    "        if t.label % 2:\n",
    "            t.label += 1\n",
    "        for b in t.branches:\n",
    "            make_even(b)"
   ]
  },
  {
   "cell_type": "code",
   "execution_count": 254,
   "id": "6852a0f2",
   "metadata": {},
   "outputs": [
    {
     "data": {
      "text/plain": [
       "2"
      ]
     },
     "execution_count": 254,
     "metadata": {},
     "output_type": "execute_result"
    }
   ],
   "source": [
    ">>> t = Tree(1, [Tree(2, [Tree(3)]), Tree(4), Tree(5)])\n",
    ">>> make_even(t)\n",
    ">>> t.label"
   ]
  },
  {
   "cell_type": "code",
   "execution_count": 291,
   "id": "99c26d8a",
   "metadata": {},
   "outputs": [],
   "source": [
    "def leaves(t):\n",
    "    \"\"\"Returns a list of all the labels of the leaf nodes of the Tree t.\n",
    "\n",
    "    >>> leaves(Tree(1))\n",
    "    [1]\n",
    "    >>> leaves(Tree(1, [Tree(2, [Tree(3)]), Tree(4)]))\n",
    "    [3, 4]\n",
    "    \"\"\"\n",
    "    \"*** YOUR CODE HERE ***\"\n",
    "    \n",
    "    def inner_func(t, lst):\n",
    "        if t.is_leaf:\n",
    "            return lst + [t.label]\n",
    "        else:\n",
    "            for b in t.branches:\n",
    "                return [] + inner_func(b, lst)\n",
    "    return inner_func(t, [])"
   ]
  },
  {
   "cell_type": "code",
   "execution_count": 292,
   "id": "31bf31b0",
   "metadata": {},
   "outputs": [
    {
     "name": "stdout",
     "output_type": "stream",
     "text": [
      "a\n"
     ]
    },
    {
     "ename": "IndexError",
     "evalue": "list index out of range",
     "output_type": "error",
     "traceback": [
      "\u001b[0;31m---------------------------------------------------------------------------\u001b[0m",
      "\u001b[0;31mIndexError\u001b[0m                                Traceback (most recent call last)",
      "\u001b[0;32m/var/folders/m5/b577jf4d20jc309f4phr3lvr0000gn/T/ipykernel_24453/20206299.py\u001b[0m in \u001b[0;36m<module>\u001b[0;34m\u001b[0m\n\u001b[0;32m----> 1\u001b[0;31m \u001b[0mleaves\u001b[0m\u001b[0;34m(\u001b[0m\u001b[0mTree\u001b[0m\u001b[0;34m(\u001b[0m\u001b[0;36m1\u001b[0m\u001b[0;34m)\u001b[0m\u001b[0;34m)\u001b[0m\u001b[0;34m\u001b[0m\u001b[0;34m\u001b[0m\u001b[0m\n\u001b[0m",
      "\u001b[0;32m/var/folders/m5/b577jf4d20jc309f4phr3lvr0000gn/T/ipykernel_24453/3771753990.py\u001b[0m in \u001b[0;36mleaves\u001b[0;34m(t)\u001b[0m\n\u001b[1;32m     17\u001b[0m             \u001b[0;32mfor\u001b[0m \u001b[0mb\u001b[0m \u001b[0;32min\u001b[0m \u001b[0mt\u001b[0m\u001b[0;34m.\u001b[0m\u001b[0mbranches\u001b[0m\u001b[0;34m:\u001b[0m\u001b[0;34m\u001b[0m\u001b[0;34m\u001b[0m\u001b[0m\n\u001b[1;32m     18\u001b[0m                 \u001b[0;32mreturn\u001b[0m \u001b[0;34m[\u001b[0m\u001b[0;34m]\u001b[0m \u001b[0;34m+\u001b[0m \u001b[0minner_func\u001b[0m\u001b[0;34m(\u001b[0m\u001b[0mb\u001b[0m\u001b[0;34m,\u001b[0m \u001b[0mlst\u001b[0m\u001b[0;34m)\u001b[0m\u001b[0;34m\u001b[0m\u001b[0;34m\u001b[0m\u001b[0m\n\u001b[0;32m---> 19\u001b[0;31m     \u001b[0;32mreturn\u001b[0m \u001b[0minner_func\u001b[0m\u001b[0;34m(\u001b[0m\u001b[0mt\u001b[0m\u001b[0;34m,\u001b[0m \u001b[0;34m[\u001b[0m\u001b[0;34m]\u001b[0m\u001b[0;34m)\u001b[0m\u001b[0;34m\u001b[0m\u001b[0;34m\u001b[0m\u001b[0m\n\u001b[0m",
      "\u001b[0;32m/var/folders/m5/b577jf4d20jc309f4phr3lvr0000gn/T/ipykernel_24453/3771753990.py\u001b[0m in \u001b[0;36minner_func\u001b[0;34m(t, lst)\u001b[0m\n\u001b[1;32m     12\u001b[0m         \u001b[0;32mif\u001b[0m \u001b[0mt\u001b[0m\u001b[0;34m.\u001b[0m\u001b[0mis_leaf\u001b[0m\u001b[0;34m:\u001b[0m\u001b[0;34m\u001b[0m\u001b[0;34m\u001b[0m\u001b[0m\n\u001b[1;32m     13\u001b[0m             \u001b[0mprint\u001b[0m\u001b[0;34m(\u001b[0m\u001b[0;34m'a'\u001b[0m\u001b[0;34m)\u001b[0m\u001b[0;34m\u001b[0m\u001b[0;34m\u001b[0m\u001b[0m\n\u001b[0;32m---> 14\u001b[0;31m             \u001b[0mprint\u001b[0m\u001b[0;34m(\u001b[0m\u001b[0mt\u001b[0m\u001b[0;34m.\u001b[0m\u001b[0mbranches\u001b[0m\u001b[0;34m[\u001b[0m\u001b[0;36m0\u001b[0m\u001b[0;34m]\u001b[0m\u001b[0;34m.\u001b[0m\u001b[0mlabel\u001b[0m\u001b[0;34m)\u001b[0m\u001b[0;34m\u001b[0m\u001b[0;34m\u001b[0m\u001b[0m\n\u001b[0m\u001b[1;32m     15\u001b[0m             \u001b[0;32mreturn\u001b[0m \u001b[0mlst\u001b[0m \u001b[0;34m+\u001b[0m \u001b[0;34m[\u001b[0m\u001b[0mt\u001b[0m\u001b[0;34m.\u001b[0m\u001b[0mlabel\u001b[0m\u001b[0;34m]\u001b[0m\u001b[0;34m\u001b[0m\u001b[0;34m\u001b[0m\u001b[0m\n\u001b[1;32m     16\u001b[0m         \u001b[0;32melse\u001b[0m\u001b[0;34m:\u001b[0m\u001b[0;34m\u001b[0m\u001b[0;34m\u001b[0m\u001b[0m\n",
      "\u001b[0;31mIndexError\u001b[0m: list index out of range"
     ]
    }
   ],
   "source": [
    ">>> leaves(Tree(1))"
   ]
  },
  {
   "cell_type": "code",
   "execution_count": 293,
   "id": "1265e9e4",
   "metadata": {},
   "outputs": [
    {
     "name": "stdout",
     "output_type": "stream",
     "text": [
      "a\n",
      "2\n"
     ]
    },
    {
     "data": {
      "text/plain": [
       "[1]"
      ]
     },
     "execution_count": 293,
     "metadata": {},
     "output_type": "execute_result"
    }
   ],
   "source": [
    "leaves(Tree(1, [Tree(2, [Tree(3)]), Tree(4)]))"
   ]
  },
  {
   "cell_type": "code",
   "execution_count": null,
   "id": "5eeae3fb",
   "metadata": {},
   "outputs": [],
   "source": []
  }
 ],
 "metadata": {
  "kernelspec": {
   "display_name": "Python 3 (ipykernel)",
   "language": "python",
   "name": "python3"
  },
  "language_info": {
   "codemirror_mode": {
    "name": "ipython",
    "version": 3
   },
   "file_extension": ".py",
   "mimetype": "text/x-python",
   "name": "python",
   "nbconvert_exporter": "python",
   "pygments_lexer": "ipython3",
   "version": "3.8.11"
  }
 },
 "nbformat": 4,
 "nbformat_minor": 5
}
