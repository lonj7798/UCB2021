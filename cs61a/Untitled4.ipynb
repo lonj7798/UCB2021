{
 "cells": [
  {
   "cell_type": "code",
   "execution_count": 27,
   "id": "60620671",
   "metadata": {},
   "outputs": [],
   "source": [
    "def reverse(lst):\n",
    "    \"\"\"Reverses lst using mutation.\n",
    "\n",
    "    >>> original_list = [5, -1, 29, 0]\n",
    "    >>> reverse(original_list)\n",
    "    >>> original_list\n",
    "    [0, 29, -1, 5]\n",
    "    >>> odd_list = [42, 72, -8]\n",
    "    >>> reverse(odd_list)\n",
    "    >>> odd_list\n",
    "    [-8, 72, 42]\n",
    "    \"\"\"\n",
    "    \"*** YOUR CODE HERE ***\"\n",
    "    \n",
    "    length = len(lst)\n",
    "    lst.extend(lst[::-1])\n",
    "    for i in range(length):\n",
    "        lst.pop(0)\n",
    "    "
   ]
  },
  {
   "cell_type": "code",
   "execution_count": 28,
   "id": "7e0e6390",
   "metadata": {},
   "outputs": [
    {
     "data": {
      "text/plain": [
       "[0, 29, -1, 5]"
      ]
     },
     "execution_count": 28,
     "metadata": {},
     "output_type": "execute_result"
    }
   ],
   "source": [
    "original_list = [5, -1, 29, 0]\n",
    "reverse(original_list)\n",
    "original_list"
   ]
  },
  {
   "cell_type": "code",
   "execution_count": 19,
   "id": "ae574d22",
   "metadata": {},
   "outputs": [],
   "source": [
    "def reverse_other(t):\n",
    "    \"\"\"Mutates the tree such that nodes on every other (odd-depth)\n",
    "    level have the labels of their branches all reversed.\n",
    "\n",
    "    >>> t = Tree(1, [Tree(2), Tree(3), Tree(4)])\n",
    "    >>> reverse_other(t)\n",
    "    >>> t\n",
    "    Tree(1, [Tree(4), Tree(3), Tree(2)])\n",
    "    >>> t = Tree(1, [Tree(2, [Tree(3, [Tree(4), Tree(5)]), Tree(6, [Tree(7)])]), Tree(8)])\n",
    "    >>> reverse_other(t)\n",
    "    >>> t\n",
    "    Tree(1, [Tree(8, [Tree(3, [Tree(5), Tree(4)]), Tree(6, [Tree(7)])]), Tree(2)])\n",
    "    \"\"\"\n",
    "    \"*** YOUR CODE HERE ***\"\n",
    "\n",
    "    if not t.branches:\n",
    "        t = t\n",
    "    else:\n",
    "        reverse(t.branches)\n",
    "        for b in t.branches:\n",
    "            reverse_other(b)"
   ]
  },
  {
   "cell_type": "code",
   "execution_count": 20,
   "id": "9d286139",
   "metadata": {},
   "outputs": [
    {
     "ename": "NameError",
     "evalue": "name 'Tree' is not defined",
     "output_type": "error",
     "traceback": [
      "\u001b[0;31m---------------------------------------------------------------------------\u001b[0m",
      "\u001b[0;31mNameError\u001b[0m                                 Traceback (most recent call last)",
      "\u001b[0;32m/var/folders/m5/b577jf4d20jc309f4phr3lvr0000gn/T/ipykernel_2847/1852814438.py\u001b[0m in \u001b[0;36m<module>\u001b[0;34m\u001b[0m\n\u001b[0;32m----> 1\u001b[0;31m \u001b[0mt\u001b[0m \u001b[0;34m=\u001b[0m \u001b[0mTree\u001b[0m\u001b[0;34m(\u001b[0m\u001b[0;36m1\u001b[0m\u001b[0;34m,\u001b[0m \u001b[0;34m[\u001b[0m\u001b[0mTree\u001b[0m\u001b[0;34m(\u001b[0m\u001b[0;36m2\u001b[0m\u001b[0;34m)\u001b[0m\u001b[0;34m,\u001b[0m \u001b[0mTree\u001b[0m\u001b[0;34m(\u001b[0m\u001b[0;36m3\u001b[0m\u001b[0;34m)\u001b[0m\u001b[0;34m,\u001b[0m \u001b[0mTree\u001b[0m\u001b[0;34m(\u001b[0m\u001b[0;36m4\u001b[0m\u001b[0;34m)\u001b[0m\u001b[0;34m]\u001b[0m\u001b[0;34m)\u001b[0m\u001b[0;34m\u001b[0m\u001b[0;34m\u001b[0m\u001b[0m\n\u001b[0m\u001b[1;32m      2\u001b[0m \u001b[0mreverse_other\u001b[0m\u001b[0;34m(\u001b[0m\u001b[0mt\u001b[0m\u001b[0;34m)\u001b[0m\u001b[0;34m\u001b[0m\u001b[0;34m\u001b[0m\u001b[0m\n",
      "\u001b[0;31mNameError\u001b[0m: name 'Tree' is not defined"
     ]
    }
   ],
   "source": [
    "t = Tree(1, [Tree(2), Tree(3), Tree(4)])\n",
    "reverse_other(t)"
   ]
  },
  {
   "cell_type": "code",
   "execution_count": 33,
   "id": "5409060c",
   "metadata": {},
   "outputs": [
    {
     "data": {
      "text/plain": [
       "False"
      ]
     },
     "execution_count": 33,
     "metadata": {},
     "output_type": "execute_result"
    }
   ],
   "source": [
    "a = [1, 2, 3]\n",
    "b = a\n",
    "isinstance(a, int)"
   ]
  },
  {
   "cell_type": "code",
   "execution_count": 38,
   "id": "29c51ed6",
   "metadata": {},
   "outputs": [
    {
     "data": {
      "text/plain": [
       "True"
      ]
     },
     "execution_count": 38,
     "metadata": {},
     "output_type": "execute_result"
    }
   ],
   "source": [
    "type(a) == list"
   ]
  },
  {
   "cell_type": "code",
   "execution_count": 39,
   "id": "eb78bfc6",
   "metadata": {},
   "outputs": [
    {
     "data": {
      "text/plain": [
       "list"
      ]
     },
     "execution_count": 39,
     "metadata": {},
     "output_type": "execute_result"
    }
   ],
   "source": [
    "type(a)"
   ]
  },
  {
   "cell_type": "code",
   "execution_count": 40,
   "id": "5da39941",
   "metadata": {},
   "outputs": [
    {
     "data": {
      "text/plain": [
       "3"
      ]
     },
     "execution_count": 40,
     "metadata": {},
     "output_type": "execute_result"
    }
   ],
   "source": [
    "len(a)"
   ]
  },
  {
   "cell_type": "code",
   "execution_count": null,
   "id": "89799259",
   "metadata": {},
   "outputs": [],
   "source": [
    "(cons (list s) (cons (list s)"
   ]
  }
 ],
 "metadata": {
  "kernelspec": {
   "display_name": "Python 3 (ipykernel)",
   "language": "python",
   "name": "python3"
  },
  "language_info": {
   "codemirror_mode": {
    "name": "ipython",
    "version": 3
   },
   "file_extension": ".py",
   "mimetype": "text/x-python",
   "name": "python",
   "nbconvert_exporter": "python",
   "pygments_lexer": "ipython3",
   "version": "3.8.11"
  }
 },
 "nbformat": 4,
 "nbformat_minor": 5
}
