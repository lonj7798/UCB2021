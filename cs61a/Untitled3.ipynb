{
 "cells": [
  {
   "cell_type": "code",
   "execution_count": 33,
   "id": "709c968b",
   "metadata": {},
   "outputs": [],
   "source": [
    "class A():\n",
    "    def __init__(self, a, b):\n",
    "        self.a = a\n",
    "        self.b = b\n",
    "        \n",
    "    def __str__(self):\n",
    "        return f\"the sum of a {self.a} and b {self.b} is {self.a + self.b}\""
   ]
  },
  {
   "cell_type": "code",
   "execution_count": 25,
   "id": "17779f44",
   "metadata": {
    "scrolled": true
   },
   "outputs": [
    {
     "name": "stdout",
     "output_type": "stream",
     "text": [
      "<class '__main__.A'>\n"
     ]
    }
   ],
   "source": [
    "print(A)"
   ]
  },
  {
   "cell_type": "code",
   "execution_count": 26,
   "id": "93e54e89",
   "metadata": {},
   "outputs": [],
   "source": [
    "a = A(1, 2)"
   ]
  },
  {
   "cell_type": "code",
   "execution_count": 29,
   "id": "e317df21",
   "metadata": {},
   "outputs": [
    {
     "data": {
      "text/plain": [
       "'<__main__.A object at 0x7fd5312d5b20>'"
      ]
     },
     "execution_count": 29,
     "metadata": {},
     "output_type": "execute_result"
    }
   ],
   "source": [
    "repr(a)"
   ]
  },
  {
   "cell_type": "code",
   "execution_count": 30,
   "id": "68ab1be4",
   "metadata": {},
   "outputs": [
    {
     "name": "stdout",
     "output_type": "stream",
     "text": [
      "the sum of a 10 and b 20 is 30\n"
     ]
    }
   ],
   "source": [
    "print(a)"
   ]
  },
  {
   "cell_type": "code",
   "execution_count": 31,
   "id": "302c9bcc",
   "metadata": {},
   "outputs": [
    {
     "data": {
      "text/plain": [
       "'the sum of a 10 and b 20 is 30'"
      ]
     },
     "execution_count": 31,
     "metadata": {},
     "output_type": "execute_result"
    }
   ],
   "source": [
    "str(a)"
   ]
  },
  {
   "cell_type": "code",
   "execution_count": 34,
   "id": "fc80ec41",
   "metadata": {},
   "outputs": [
    {
     "name": "stdout",
     "output_type": "stream",
     "text": [
      "the sum of a 10 and b 20 is 30 the sum of a 30 and b 40 is 70\n"
     ]
    }
   ],
   "source": [
    "print(A(10, 20), A(30, 40))"
   ]
  },
  {
   "cell_type": "code",
   "execution_count": null,
   "id": "04bc94f6",
   "metadata": {},
   "outputs": [],
   "source": []
  }
 ],
 "metadata": {
  "kernelspec": {
   "display_name": "Python 3 (ipykernel)",
   "language": "python",
   "name": "python3"
  },
  "language_info": {
   "codemirror_mode": {
    "name": "ipython",
    "version": 3
   },
   "file_extension": ".py",
   "mimetype": "text/x-python",
   "name": "python",
   "nbconvert_exporter": "python",
   "pygments_lexer": "ipython3",
   "version": "3.8.11"
  }
 },
 "nbformat": 4,
 "nbformat_minor": 5
}
