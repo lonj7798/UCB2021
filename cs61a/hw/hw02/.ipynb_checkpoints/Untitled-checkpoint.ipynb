{
 "cells": [
  {
   "cell_type": "code",
   "execution_count": 1,
   "id": "ae6bacf5",
   "metadata": {},
   "outputs": [],
   "source": [
    "from operator import add, mul\n",
    "\n",
    "square = lambda x: x * x\n",
    "\n",
    "identity = lambda x: x\n",
    "\n",
    "triple = lambda x: 3 * x\n",
    "\n",
    "increment = lambda x: x + 1"
   ]
  },
  {
   "cell_type": "code",
   "execution_count": 15,
   "id": "da0e78d9",
   "metadata": {},
   "outputs": [],
   "source": [
    "def product(n, term):\n",
    "    \"\"\"Return the product of the first n terms in a sequence.\n",
    "\n",
    "    n: a positive integer\n",
    "    term:  a function that takes one argument to produce the term\n",
    "\n",
    "    >>> product(3, identity)  # 1 * 2 * 3\n",
    "    6\n",
    "    >>> product(5, identity)  # 1 * 2 * 3 * 4 * 5\n",
    "    120\n",
    "    >>> product(3, square)    # 1^2 * 2^2 * 3^2\n",
    "    36\n",
    "    >>> product(5, square)    # 1^2 * 2^2 * 3^2 * 4^2 * 5^2\n",
    "    14400\n",
    "    >>> product(3, increment) # (1+1) * (2+1) * (3+1)\n",
    "    24\n",
    "    >>> product(3, triple)    # 1*3 * 2*3 * 3*3\n",
    "    162\n",
    "    \"\"\"\n",
    "    \"*** YOUR CODE HERE ***\" \n",
    "    \n",
    "    anw = 1\n",
    "    for i in range(1, n+1):\n",
    "        anw *= term(i)\n",
    "    \n",
    "    return anw"
   ]
  },
  {
   "cell_type": "code",
   "execution_count": 18,
   "id": "fa20318a",
   "metadata": {},
   "outputs": [
    {
     "data": {
      "text/plain": [
       "14400"
      ]
     },
     "execution_count": 18,
     "metadata": {},
     "output_type": "execute_result"
    }
   ],
   "source": [
    "product(5, square)"
   ]
  },
  {
   "cell_type": "code",
   "execution_count": 22,
   "id": "ef565557",
   "metadata": {},
   "outputs": [],
   "source": [
    "\n",
    "def square(x):\n",
    "    return x * x\n",
    "\n",
    "def accumulate(merger, base, n, term):\n",
    "    \"\"\"Return the result of merging the first n terms in a sequence and base.\n",
    "    The terms to be merged are term(1), term(2), ..., term(n). merger is a\n",
    "    two-argument commutative function.\n",
    "\n",
    "    >>> accumulate(add, 0, 5, identity)  # 0 + 1 + 2 + 3 + 4 + 5\n",
    "    15\n",
    "    >>> accumulate(add, 11, 5, identity) # 11 + 1 + 2 + 3 + 4 + 5\n",
    "    26\n",
    "    >>> accumulate(add, 11, 0, identity) # 11\n",
    "    11\n",
    "    >>> accumulate(add, 11, 3, square)   # 11 + 1^2 + 2^2 + 3^2\n",
    "    25\n",
    "    >>> accumulate(mul, 2, 3, square)    # 2 * 1^2 * 2^2 * 3^2\n",
    "    72\n",
    "    >>> # 2 + (1^2 + 1) + (2^2 + 1) + (3^2 + 1)\n",
    "    >>> accumulate(lambda x, y: x + y + 1, 2, 3, square)\n",
    "    19\n",
    "    >>> # ((2 * 1^2 * 2) * 2^2 * 2) * 3^2 * 2\n",
    "    >>> accumulate(lambda x, y: 2 * x * y, 2, 3, square)\n",
    "    576\n",
    "    >>> accumulate(lambda x, y: (x + y) % 17, 19, 20, square)\n",
    "    16\n",
    "    \"\"\"\n",
    "    \"*** YOUR CODE HERE ***\"\n",
    "    \n",
    "    anw = base\n",
    "    for i in range(1, n+1):\n",
    "        anw = merger(anw, term(i))\n",
    "        \n",
    "    return anw"
   ]
  },
  {
   "cell_type": "code",
   "execution_count": 23,
   "id": "e793ab95",
   "metadata": {},
   "outputs": [
    {
     "data": {
      "text/plain": [
       "15"
      ]
     },
     "execution_count": 23,
     "metadata": {},
     "output_type": "execute_result"
    }
   ],
   "source": [
    "accumulate(add, 0, 5, identity)"
   ]
  },
  {
   "cell_type": "code",
   "execution_count": 24,
   "id": "9338e3a8",
   "metadata": {},
   "outputs": [
    {
     "data": {
      "text/plain": [
       "26"
      ]
     },
     "execution_count": 24,
     "metadata": {},
     "output_type": "execute_result"
    }
   ],
   "source": [
    "accumulate(add, 11, 5, identity)"
   ]
  },
  {
   "cell_type": "code",
   "execution_count": 25,
   "id": "3516ef91",
   "metadata": {},
   "outputs": [
    {
     "data": {
      "text/plain": [
       "72"
      ]
     },
     "execution_count": 25,
     "metadata": {},
     "output_type": "execute_result"
    }
   ],
   "source": [
    "accumulate(mul, 2, 3, square)"
   ]
  },
  {
   "cell_type": "code",
   "execution_count": 26,
   "id": "11f67b05",
   "metadata": {},
   "outputs": [
    {
     "data": {
      "text/plain": [
       "576"
      ]
     },
     "execution_count": 26,
     "metadata": {},
     "output_type": "execute_result"
    }
   ],
   "source": [
    "accumulate(lambda x, y: 2 * x * y, 2, 3, square)"
   ]
  },
  {
   "cell_type": "code",
   "execution_count": null,
   "id": "0202e349",
   "metadata": {},
   "outputs": [],
   "source": []
  }
 ],
 "metadata": {
  "kernelspec": {
   "display_name": "Python 3",
   "language": "python",
   "name": "python3"
  },
  "language_info": {
   "codemirror_mode": {
    "name": "ipython",
    "version": 3
   },
   "file_extension": ".py",
   "mimetype": "text/x-python",
   "name": "python",
   "nbconvert_exporter": "python",
   "pygments_lexer": "ipython3",
   "version": "3.8.11"
  }
 },
 "nbformat": 4,
 "nbformat_minor": 5
}
