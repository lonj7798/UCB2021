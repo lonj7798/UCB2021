{
 "cells": [
  {
   "cell_type": "code",
   "execution_count": 1,
   "id": "9c7988f2",
   "metadata": {},
   "outputs": [],
   "source": [
    "from operator import add, mul\n",
    "\n",
    "square = lambda x: x * x\n",
    "\n",
    "identity = lambda x: x\n",
    "\n",
    "triple = lambda x: 3 * x\n",
    "\n",
    "increment = lambda x: x + 1"
   ]
  },
  {
   "cell_type": "code",
   "execution_count": 15,
   "id": "5fefac45",
   "metadata": {},
   "outputs": [],
   "source": [
    "def product(n, term):\n",
    "    \"\"\"Return the product of the first n terms in a sequence.\n",
    "\n",
    "    n: a positive integer\n",
    "    term:  a function that takes one argument to produce the term\n",
    "\n",
    "    >>> product(3, identity)  # 1 * 2 * 3\n",
    "    6\n",
    "    >>> product(5, identity)  # 1 * 2 * 3 * 4 * 5\n",
    "    120\n",
    "    >>> product(3, square)    # 1^2 * 2^2 * 3^2\n",
    "    36\n",
    "    >>> product(5, square)    # 1^2 * 2^2 * 3^2 * 4^2 * 5^2\n",
    "    14400\n",
    "    >>> product(3, increment) # (1+1) * (2+1) * (3+1)\n",
    "    24\n",
    "    >>> product(3, triple)    # 1*3 * 2*3 * 3*3\n",
    "    162\n",
    "    \"\"\"\n",
    "    \"*** YOUR CODE HERE ***\" \n",
    "    \n",
    "    anw = 1\n",
    "    for i in range(1, n+1):\n",
    "        anw *= term(i)\n",
    "    \n",
    "    return anw"
   ]
  },
  {
   "cell_type": "code",
   "execution_count": 18,
   "id": "af392ebb",
   "metadata": {},
   "outputs": [
    {
     "data": {
      "text/plain": [
       "14400"
      ]
     },
     "execution_count": 18,
     "metadata": {},
     "output_type": "execute_result"
    }
   ],
   "source": [
    "product(5, square)"
   ]
  },
  {
   "cell_type": "code",
   "execution_count": 22,
   "id": "6403ca54",
   "metadata": {},
   "outputs": [],
   "source": [
    "\n",
    "def square(x):\n",
    "    return x * x\n",
    "\n",
    "def accumulate(merger, base, n, term):\n",
    "    \"\"\"Return the result of merging the first n terms in a sequence and base.\n",
    "    The terms to be merged are term(1), term(2), ..., term(n). merger is a\n",
    "    two-argument commutative function.\n",
    "\n",
    "    >>> accumulate(add, 0, 5, identity)  # 0 + 1 + 2 + 3 + 4 + 5\n",
    "    15\n",
    "    >>> accumulate(add, 11, 5, identity) # 11 + 1 + 2 + 3 + 4 + 5\n",
    "    26\n",
    "    >>> accumulate(add, 11, 0, identity) # 11\n",
    "    11\n",
    "    >>> accumulate(add, 11, 3, square)   # 11 + 1^2 + 2^2 + 3^2\n",
    "    25\n",
    "    >>> accumulate(mul, 2, 3, square)    # 2 * 1^2 * 2^2 * 3^2\n",
    "    72\n",
    "    >>> # 2 + (1^2 + 1) + (2^2 + 1) + (3^2 + 1)\n",
    "    >>> accumulate(lambda x, y: x + y + 1, 2, 3, square)\n",
    "    19\n",
    "    >>> # ((2 * 1^2 * 2) * 2^2 * 2) * 3^2 * 2\n",
    "    >>> accumulate(lambda x, y: 2 * x * y, 2, 3, square)\n",
    "    576\n",
    "    >>> accumulate(lambda x, y: (x + y) % 17, 19, 20, square)\n",
    "    16\n",
    "    \"\"\"\n",
    "    \"*** YOUR CODE HERE ***\"\n",
    "    \n",
    "    anw = base\n",
    "    for i in range(1, n+1):\n",
    "        anw = merger(anw, term(i))\n",
    "        \n",
    "    return anw"
   ]
  },
  {
   "cell_type": "code",
   "execution_count": 23,
   "id": "3024632e",
   "metadata": {},
   "outputs": [
    {
     "data": {
      "text/plain": [
       "15"
      ]
     },
     "execution_count": 23,
     "metadata": {},
     "output_type": "execute_result"
    }
   ],
   "source": [
    "accumulate(add, 0, 5, identity)"
   ]
  },
  {
   "cell_type": "code",
   "execution_count": 24,
   "id": "6a13c0db",
   "metadata": {},
   "outputs": [
    {
     "data": {
      "text/plain": [
       "26"
      ]
     },
     "execution_count": 24,
     "metadata": {},
     "output_type": "execute_result"
    }
   ],
   "source": [
    "accumulate(add, 11, 5, identity)"
   ]
  },
  {
   "cell_type": "code",
   "execution_count": 25,
   "id": "ce17fe3a",
   "metadata": {},
   "outputs": [
    {
     "data": {
      "text/plain": [
       "72"
      ]
     },
     "execution_count": 25,
     "metadata": {},
     "output_type": "execute_result"
    }
   ],
   "source": [
    "accumulate(mul, 2, 3, square)"
   ]
  },
  {
   "cell_type": "code",
   "execution_count": 26,
   "id": "9c25f771",
   "metadata": {},
   "outputs": [
    {
     "data": {
      "text/plain": [
       "576"
      ]
     },
     "execution_count": 26,
     "metadata": {},
     "output_type": "execute_result"
    }
   ],
   "source": [
    "accumulate(lambda x, y: 2 * x * y, 2, 3, square)"
   ]
  },
  {
   "cell_type": "code",
   "execution_count": 29,
   "id": "322e2665",
   "metadata": {},
   "outputs": [],
   "source": [
    "def summation_using_accumulate(n, term):\n",
    "    \"\"\"Returns the sum: term(1) + ... + term(n), using accumulate.\n",
    "\n",
    "    >>> summation_using_accumulate(5, square)\n",
    "    55\n",
    "    >>> summation_using_accumulate(5, triple)\n",
    "    45\n",
    "    \"\"\"\n",
    "    \"*** YOUR CODE HERE ***\"\n",
    "    \n",
    "    anw = 0\n",
    "    for i in range(1, n+1):\n",
    "        anw = add(anw, term(i))\n",
    "        \n",
    "    return anw"
   ]
  },
  {
   "cell_type": "code",
   "execution_count": 30,
   "id": "25186c79",
   "metadata": {},
   "outputs": [
    {
     "data": {
      "text/plain": [
       "45"
      ]
     },
     "execution_count": 30,
     "metadata": {},
     "output_type": "execute_result"
    }
   ],
   "source": [
    "summation_using_accumulate(5, triple)"
   ]
  },
  {
   "cell_type": "code",
   "execution_count": 31,
   "id": "2a9e0076",
   "metadata": {},
   "outputs": [],
   "source": [
    "def product_using_accumulate(n, term):\n",
    "    \"\"\"Returns the product: term(1) * ... * term(n), using accumulate.\n",
    "\n",
    "    >>> product_using_accumulate(4, square)\n",
    "    576\n",
    "    >>> product_using_accumulate(6, triple)\n",
    "    524880\n",
    "    \"\"\"\n",
    "    \"*** YOUR CODE HERE ***\"\n",
    "    anw = 1\n",
    "    for i in range(1, n+1):\n",
    "        anw = mul(anw, term(i))\n",
    "        \n",
    "    return anw"
   ]
  },
  {
   "cell_type": "code",
   "execution_count": 32,
   "id": "72e1ba08",
   "metadata": {},
   "outputs": [
    {
     "data": {
      "text/plain": [
       "576"
      ]
     },
     "execution_count": 32,
     "metadata": {},
     "output_type": "execute_result"
    }
   ],
   "source": [
    "product_using_accumulate(4, square)"
   ]
  },
  {
   "cell_type": "code",
   "execution_count": 33,
   "id": "fdea320f",
   "metadata": {},
   "outputs": [
    {
     "data": {
      "text/plain": [
       "524880"
      ]
     },
     "execution_count": 33,
     "metadata": {},
     "output_type": "execute_result"
    }
   ],
   "source": [
    "product_using_accumulate(6, triple)"
   ]
  },
  {
   "cell_type": "code",
   "execution_count": 34,
   "id": "eb15d952",
   "metadata": {},
   "outputs": [],
   "source": [
    "def accumulate_syntax_check():\n",
    "    \"\"\"Checks that definitions of summation_using_accumulate and\n",
    "    produce_using_accumulate are each a single return statement.\n",
    "\n",
    "    >>> # You aren't expected to understand the code of this test.\n",
    "    >>> # Check that the bodies of the functions are just return statements.\n",
    "    >>> # If this errors, make sure you have removed the \"***YOUR CODE HERE***\".\n",
    "    >>> import inspect, ast\n",
    "    >>> [type(x).__name__ for x in ast.parse(inspect.getsource(summation_using_accumulate)).body[0].body]\n",
    "    ['Expr', 'Return']\n",
    "    >>> [type(x).__name__ for x in ast.parse(inspect.getsource(product_using_accumulate)).body[0].body]\n",
    "    ['Expr', 'Return']\n",
    "    \"\"\""
   ]
  },
  {
   "cell_type": "code",
   "execution_count": 49,
   "id": "d19dd3fc",
   "metadata": {},
   "outputs": [],
   "source": [
    "def accumulate_syntax_check():\n",
    "    \"\"\"Checks that definitions of summation_using_accumulate and\n",
    "    produce_using_accumulate are each a single return statement.\n",
    "\n",
    "    >>> # You aren't expected to understand the code of this test.\n",
    "    >>> # Check that the bodies of the functions are just return statements.\n",
    "    >>> # If this errors, make sure you have removed the \"***YOUR CODE HERE***\".\n",
    "    >>> import inspect, ast\n",
    "    >>> [type(x).__name__ for x in ast.parse(inspect.getsource(summation_using_accumulate)).body[0].body]\n",
    "    ['Expr', 'Return']\n",
    "    >>> [type(x).__name__ for x in ast.parse(inspect.getsource(product_using_accumulate)).body[0].body]\n",
    "    ['Expr', 'Return']\n",
    "    \"\"\"\n",
    "\n",
    "\n",
    "def zero(f):\n",
    "    return lambda x: x\n",
    "\n",
    "\n",
    "def successor(n):\n",
    "    return lambda f: lambda x: f(n(f)(x))\n",
    "\n",
    "\n",
    "def one(f):\n",
    "    \"\"\"Church numeral 1: same as successor(zero)\"\"\"\n",
    "    \"*** YOUR CODE HERE ***\"\n",
    "    return lambda x: x + 1\n",
    "\n",
    "\n",
    "def two(f):\n",
    "    \"\"\"Church numeral 2: same as successor(successor(zero))\"\"\"\n",
    "    \"*** YOUR CODE HERE ***\"\n",
    "    return lambda x: x + 2\n",
    "\n",
    "\n",
    "three = successor(two)\n",
    "\n",
    "\n"
   ]
  },
  {
   "cell_type": "code",
   "execution_count": 51,
   "id": "b40fb4cd",
   "metadata": {},
   "outputs": [
    {
     "data": {
      "text/plain": [
       "<function __main__.successor.<locals>.<lambda>(f)>"
      ]
     },
     "execution_count": 51,
     "metadata": {},
     "output_type": "execute_result"
    }
   ],
   "source": []
  },
  {
   "cell_type": "code",
   "execution_count": 45,
   "id": "c276953e",
   "metadata": {},
   "outputs": [],
   "source": [
    "def church_to_int(n):\n",
    "    \"\"\"Convert the Church numeral n to a Python integer.\n",
    "\n",
    "    >>> church_to_int(zero)\n",
    "    0\n",
    "    >>> church_to_int(one)\n",
    "    1\n",
    "    >>> church_to_int(two)\n",
    "    2\n",
    "    >>> church_to_int(three)\n",
    "    3\n",
    "    \"\"\"\n",
    "    \"*** YOUR CODE HERE ***\"\n",
    "    \n",
    "    \n",
    "\n",
    "def add_church(m, n):\n",
    "    \"\"\"Return the Church numeral for m + n, for Church numerals m and n.\n",
    "\n",
    "    >>> church_to_int(add_church(two, three))\n",
    "    5\n",
    "    \"\"\"\n",
    "    \"*** YOUR CODE HERE ***\"\n",
    "\n",
    "\n",
    "def mul_church(m, n):\n",
    "    \"\"\"Return the Church numeral for m * n, for Church numerals m and n.\n",
    "\n",
    "    >>> four = successor(three)\n",
    "    >>> church_to_int(mul_church(two, three))\n",
    "    6\n",
    "    >>> church_to_int(mul_church(three, four))\n",
    "    12\n",
    "    \"\"\"\n",
    "    \"*** YOUR CODE HERE ***\"\n",
    "\n",
    "\n",
    "def pow_church(m, n):\n",
    "    \"\"\"Return the Church numeral m ** n, for Church numerals m and n.\n",
    "\n",
    "    >>> church_to_int(pow_church(two, three))\n",
    "    8\n",
    "    >>> church_to_int(pow_church(three, two))\n",
    "    9\n",
    "    \"\"\"\n",
    "    \"*** YOUR CODE HERE ***\""
   ]
  },
  {
   "cell_type": "code",
   "execution_count": null,
   "id": "a2f39819",
   "metadata": {},
   "outputs": [],
   "source": []
  }
 ],
 "metadata": {
  "kernelspec": {
   "display_name": "Python 3",
   "language": "python",
   "name": "python3"
  },
  "language_info": {
   "codemirror_mode": {
    "name": "ipython",
    "version": 3
   },
   "file_extension": ".py",
   "mimetype": "text/x-python",
   "name": "python",
   "nbconvert_exporter": "python",
   "pygments_lexer": "ipython3",
   "version": "3.8.11"
  }
 },
 "nbformat": 4,
 "nbformat_minor": 5
}
