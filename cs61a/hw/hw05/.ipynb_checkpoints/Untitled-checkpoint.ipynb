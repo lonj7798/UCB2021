{
 "cells": [
  {
   "cell_type": "code",
   "execution_count": 98,
   "id": "9632e617",
   "metadata": {},
   "outputs": [],
   "source": [
    "def gen_perms(seq):\n",
    "    \"\"\"Generates all permutations of the given sequence. Each permutation is a\n",
    "    list of the elements in SEQ in a different order. The permutations may be\n",
    "    yielded in any order.\n",
    "\n",
    "    >>> perms = gen_perms([100])\n",
    "    >>> type(perms)\n",
    "    <class 'generator'>\n",
    "    >>> next(perms)\n",
    "    [100]\n",
    "    >>> try: #this piece of code prints \"No more permutations!\" if calling next would cause an error\n",
    "    ...     next(perms)\n",
    "    ... except StopIteration:\n",
    "    ...     print('No more permutations!')\n",
    "    No more permutations!\n",
    "    >>> sorted(gen_perms([1, 2, 3])) # Returns a sorted list containing elements of the generator\n",
    "    [[1, 2, 3], [1, 3, 2], [2, 1, 3], [2, 3, 1], [3, 1, 2], [3, 2, 1]]\n",
    "    >>> sorted(gen_perms((10, 20, 30)))\n",
    "    [[10, 20, 30], [10, 30, 20], [20, 10, 30], [20, 30, 10], [30, 10, 20], [30, 20, 10]]\n",
    "    >>> sorted(gen_perms(\"ab\"))\n",
    "    [['a', 'b'], ['b', 'a']]\n",
    "    \"\"\"\n",
    "    \"*** YOUR CODE HERE ***\"\n",
    "    if len(seq) == 1:\n",
    "        yield seq[:]\n",
    "        \n",
    "    else:\n",
    "        yield seq[:]\n",
    "        result = [seq[:]]\n",
    "        ch = [0] * len(seq)\n",
    "        i = 0\n",
    "        \n",
    "        while i < len(seq):\n",
    "            if ch[i] < i:\n",
    "                \n",
    "                if i % 2 == 0:\n",
    "                    seq[0], seq[i] = seq[i], seq[0]\n",
    "                    \n",
    "                else:\n",
    "                    seq[ch[i]], seq[i] = seq[i], seq[ch[i]]\n",
    "                    \n",
    "                yield seq[:]\n",
    "                ch[i] += 1\n",
    "                i = 0\n",
    "                \n",
    "            else:\n",
    "                ch[i] = 0\n",
    "                i += 1"
   ]
  },
  {
   "cell_type": "code",
   "execution_count": 99,
   "id": "727e85df",
   "metadata": {},
   "outputs": [
    {
     "name": "stdout",
     "output_type": "stream",
     "text": [
      "['ABC', 'ACB', 'BAC', 'BCA', 'CAB', 'CBA']\n"
     ]
    }
   ],
   "source": [
    "import itertools\n",
    "\n",
    "pool = ['A', 'B', 'C']\n",
    "print(list(map(''.join, itertools.permutations(pool)))) "
   ]
  },
  {
   "cell_type": "code",
   "execution_count": 100,
   "id": "25b9015b",
   "metadata": {},
   "outputs": [
    {
     "data": {
      "text/plain": [
       "generator"
      ]
     },
     "execution_count": 100,
     "metadata": {},
     "output_type": "execute_result"
    }
   ],
   "source": [
    "perms = gen_perms([100])\n",
    "type(perms)"
   ]
  },
  {
   "cell_type": "code",
   "execution_count": 101,
   "id": "bbaf9347",
   "metadata": {},
   "outputs": [
    {
     "data": {
      "text/plain": [
       "[100]"
      ]
     },
     "execution_count": 101,
     "metadata": {},
     "output_type": "execute_result"
    }
   ],
   "source": [
    "next(perms)"
   ]
  },
  {
   "cell_type": "code",
   "execution_count": 102,
   "id": "a1debc0b",
   "metadata": {},
   "outputs": [
    {
     "data": {
      "text/plain": [
       "[[1, 2, 3], [1, 3, 2], [2, 1, 3], [2, 3, 1], [3, 1, 2], [3, 2, 1]]"
      ]
     },
     "execution_count": 102,
     "metadata": {},
     "output_type": "execute_result"
    }
   ],
   "source": [
    "sorted(gen_perms([1, 2, 3]))"
   ]
  },
  {
   "cell_type": "code",
   "execution_count": null,
   "id": "1a4a96d3",
   "metadata": {},
   "outputs": [],
   "source": [
    "def path_yielder(t, value):\n",
    "    \"\"\"Yields all possible paths from the root of t to a node with the label value\n",
    "    as a list.\n",
    "\n",
    "    >>> t1 = Tree(1, [Tree(2, [Tree(3), Tree(4, [Tree(6)]), Tree(5)]), Tree(5)])\n",
    "    >>> print(t1)\n",
    "    1\n",
    "      2\n",
    "        3\n",
    "        4\n",
    "          6\n",
    "        5\n",
    "      5\n",
    "    >>> next(path_yielder(t1, 6))\n",
    "    [1, 2, 4, 6]\n",
    "    >>> path_to_5 = path_yielder(t1, 5)\n",
    "    >>> sorted(list(path_to_5))\n",
    "    [[1, 2, 5], [1, 5]]\n",
    "\n",
    "    >>> t2 = Tree(0, [Tree(2, [t1])])\n",
    "    >>> print(t2)\n",
    "    0\n",
    "      2\n",
    "        1\n",
    "          2\n",
    "            3\n",
    "            4\n",
    "              6\n",
    "            5\n",
    "          5\n",
    "    >>> path_to_2 = path_yielder(t2, 2)\n",
    "    >>> sorted(list(path_to_2))\n",
    "    [[0, 2], [0, 2, 1, 2]]\n",
    "    \"\"\"\n",
    "\n",
    "    \"*** YOUR CODE HERE ***\"\n",
    "\n",
    "    for _______________ in _________________:\n",
    "        for _______________ in _________________:\n",
    "\n",
    "            \"*** YOUR CODE HERE ***\""
   ]
  }
 ],
 "metadata": {
  "kernelspec": {
   "display_name": "Python 3",
   "language": "python",
   "name": "python3"
  },
  "language_info": {
   "codemirror_mode": {
    "name": "ipython",
    "version": 3
   },
   "file_extension": ".py",
   "mimetype": "text/x-python",
   "name": "python",
   "nbconvert_exporter": "python",
   "pygments_lexer": "ipython3",
   "version": "3.8.11"
  }
 },
 "nbformat": 4,
 "nbformat_minor": 5
}
