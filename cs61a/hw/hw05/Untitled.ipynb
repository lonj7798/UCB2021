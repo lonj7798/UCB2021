{
 "cells": [
  {
   "cell_type": "code",
   "execution_count": 1,
   "id": "9632e617",
   "metadata": {},
   "outputs": [],
   "source": [
    "def gen_perms(seq):\n",
    "    \"\"\"Generates all permutations of the given sequence. Each permutation is a\n",
    "    list of the elements in SEQ in a different order. The permutations may be\n",
    "    yielded in any order.\n",
    "\n",
    "    >>> perms = gen_perms([100])\n",
    "    >>> type(perms)\n",
    "    <class 'generator'>\n",
    "    >>> next(perms)\n",
    "    [100]\n",
    "    >>> try: #this piece of code prints \"No more permutations!\" if calling next would cause an error\n",
    "    ...     next(perms)\n",
    "    ... except StopIteration:\n",
    "    ...     print('No more permutations!')\n",
    "    No more permutations!\n",
    "    >>> sorted(gen_perms([1, 2, 3])) # Returns a sorted list containing elements of the generator\n",
    "    [[1, 2, 3], [1, 3, 2], [2, 1, 3], [2, 3, 1], [3, 1, 2], [3, 2, 1]]\n",
    "    >>> sorted(gen_perms((10, 20, 30)))\n",
    "    [[10, 20, 30], [10, 30, 20], [20, 10, 30], [20, 30, 10], [30, 10, 20], [30, 20, 10]]\n",
    "    >>> sorted(gen_perms(\"ab\"))\n",
    "    [['a', 'b'], ['b', 'a']]\n",
    "    \"\"\"\n",
    "    \"*** YOUR CODE HERE ***\"\n",
    "    temp = []\n",
    "    for i in seq:\n",
    "    \n",
    "    if len(seq) == 1:\n",
    "        yield seq[:]\n",
    "        \n",
    "    else:\n",
    "        yield seq[:]\n",
    "        result = [seq[:]]\n",
    "        ch = [0] * len(seq)\n",
    "        i = 0\n",
    "        \n",
    "        while i < len(seq):\n",
    "            if ch[i] < i:\n",
    "                \n",
    "                if i % 2 == 0:\n",
    "                    seq[0], seq[i] = seq[i], seq[0]\n",
    "                    \n",
    "                else:\n",
    "                    seq[ch[i]], seq[i] = seq[i], seq[ch[i]]\n",
    "                    \n",
    "                yield seq[:]\n",
    "                ch[i] += 1\n",
    "                i = 0\n",
    "                \n",
    "            else:\n",
    "                ch[i] = 0\n",
    "                i += 1"
   ]
  },
  {
   "cell_type": "code",
   "execution_count": 99,
   "id": "727e85df",
   "metadata": {},
   "outputs": [
    {
     "name": "stdout",
     "output_type": "stream",
     "text": [
      "['ABC', 'ACB', 'BAC', 'BCA', 'CAB', 'CBA']\n"
     ]
    }
   ],
   "source": [
    "import itertools\n",
    "\n",
    "pool = ['A', 'B', 'C']\n",
    "print(list(map(''.join, itertools.permutations(pool)))) "
   ]
  },
  {
   "cell_type": "code",
   "execution_count": 2,
   "id": "d6d2064b",
   "metadata": {},
   "outputs": [
    {
     "data": {
      "text/plain": [
       "[[1, 2, 3], [1, 3, 2], [2, 1, 3], [2, 3, 1], [3, 1, 2], [3, 2, 1]]"
      ]
     },
     "execution_count": 2,
     "metadata": {},
     "output_type": "execute_result"
    }
   ],
   "source": [
    "sorted(gen_perms([1, 2, 3]))"
   ]
  },
  {
   "cell_type": "code",
   "execution_count": 3,
   "id": "950f4eb8",
   "metadata": {},
   "outputs": [
    {
     "ename": "TypeError",
     "evalue": "'tuple' object does not support item assignment",
     "output_type": "error",
     "traceback": [
      "\u001b[0;31m---------------------------------------------------------------------------\u001b[0m",
      "\u001b[0;31mTypeError\u001b[0m                                 Traceback (most recent call last)",
      "\u001b[0;32m/var/folders/m5/b577jf4d20jc309f4phr3lvr0000gn/T/ipykernel_3176/509026017.py\u001b[0m in \u001b[0;36m<module>\u001b[0;34m\u001b[0m\n\u001b[0;32m----> 1\u001b[0;31m \u001b[0msorted\u001b[0m\u001b[0;34m(\u001b[0m\u001b[0mgen_perms\u001b[0m\u001b[0;34m(\u001b[0m\u001b[0;34m(\u001b[0m\u001b[0;36m10\u001b[0m\u001b[0;34m,\u001b[0m \u001b[0;36m20\u001b[0m\u001b[0;34m,\u001b[0m \u001b[0;36m30\u001b[0m\u001b[0;34m)\u001b[0m\u001b[0;34m)\u001b[0m\u001b[0;34m)\u001b[0m\u001b[0;34m\u001b[0m\u001b[0;34m\u001b[0m\u001b[0m\n\u001b[0m",
      "\u001b[0;32m/var/folders/m5/b577jf4d20jc309f4phr3lvr0000gn/T/ipykernel_3176/1499350225.py\u001b[0m in \u001b[0;36mgen_perms\u001b[0;34m(seq)\u001b[0m\n\u001b[1;32m     38\u001b[0m \u001b[0;34m\u001b[0m\u001b[0m\n\u001b[1;32m     39\u001b[0m                 \u001b[0;32melse\u001b[0m\u001b[0;34m:\u001b[0m\u001b[0;34m\u001b[0m\u001b[0;34m\u001b[0m\u001b[0m\n\u001b[0;32m---> 40\u001b[0;31m                     \u001b[0mseq\u001b[0m\u001b[0;34m[\u001b[0m\u001b[0mch\u001b[0m\u001b[0;34m[\u001b[0m\u001b[0mi\u001b[0m\u001b[0;34m]\u001b[0m\u001b[0;34m]\u001b[0m\u001b[0;34m,\u001b[0m \u001b[0mseq\u001b[0m\u001b[0;34m[\u001b[0m\u001b[0mi\u001b[0m\u001b[0;34m]\u001b[0m \u001b[0;34m=\u001b[0m \u001b[0mseq\u001b[0m\u001b[0;34m[\u001b[0m\u001b[0mi\u001b[0m\u001b[0;34m]\u001b[0m\u001b[0;34m,\u001b[0m \u001b[0mseq\u001b[0m\u001b[0;34m[\u001b[0m\u001b[0mch\u001b[0m\u001b[0;34m[\u001b[0m\u001b[0mi\u001b[0m\u001b[0;34m]\u001b[0m\u001b[0;34m]\u001b[0m\u001b[0;34m\u001b[0m\u001b[0;34m\u001b[0m\u001b[0m\n\u001b[0m\u001b[1;32m     41\u001b[0m \u001b[0;34m\u001b[0m\u001b[0m\n\u001b[1;32m     42\u001b[0m                 \u001b[0;32myield\u001b[0m \u001b[0mseq\u001b[0m\u001b[0;34m[\u001b[0m\u001b[0;34m:\u001b[0m\u001b[0;34m]\u001b[0m\u001b[0;34m\u001b[0m\u001b[0;34m\u001b[0m\u001b[0m\n",
      "\u001b[0;31mTypeError\u001b[0m: 'tuple' object does not support item assignment"
     ]
    }
   ],
   "source": [
    "sorted(gen_perms((10, 20, 30)))"
   ]
  },
  {
   "cell_type": "code",
   "execution_count": 100,
   "id": "25b9015b",
   "metadata": {},
   "outputs": [
    {
     "data": {
      "text/plain": [
       "generator"
      ]
     },
     "execution_count": 100,
     "metadata": {},
     "output_type": "execute_result"
    }
   ],
   "source": [
    "perms = gen_perms([100])\n",
    "type(perms)"
   ]
  },
  {
   "cell_type": "code",
   "execution_count": 101,
   "id": "bbaf9347",
   "metadata": {},
   "outputs": [
    {
     "data": {
      "text/plain": [
       "[100]"
      ]
     },
     "execution_count": 101,
     "metadata": {},
     "output_type": "execute_result"
    }
   ],
   "source": [
    "next(perms)"
   ]
  },
  {
   "cell_type": "code",
   "execution_count": 102,
   "id": "a1debc0b",
   "metadata": {},
   "outputs": [
    {
     "data": {
      "text/plain": [
       "[[1, 2, 3], [1, 3, 2], [2, 1, 3], [2, 3, 1], [3, 1, 2], [3, 2, 1]]"
      ]
     },
     "execution_count": 102,
     "metadata": {},
     "output_type": "execute_result"
    }
   ],
   "source": [
    "sorted(gen_perms([1, 2, 3]))"
   ]
  },
  {
   "cell_type": "code",
   "execution_count": 1,
   "id": "5ea9de02",
   "metadata": {},
   "outputs": [],
   "source": [
    "class Tree:\n",
    "    \"\"\"\n",
    "    >>> t = Tree(3, [Tree(2, [Tree(5)]), Tree(4)])\n",
    "    >>> t.label\n",
    "    3\n",
    "    >>> t.branches[0].label\n",
    "    2\n",
    "    >>> t.branches[1].is_leaf()\n",
    "    True\n",
    "    \"\"\"\n",
    "\n",
    "    def __init__(self, label, branches=[]):\n",
    "        for b in branches:\n",
    "            assert isinstance(b, Tree)\n",
    "        self.label = label\n",
    "        self.branches = list(branches)\n",
    "\n",
    "    def is_leaf(self):\n",
    "        return not self.branches\n",
    "\n",
    "    def __repr__(self):\n",
    "        if self.branches:\n",
    "            branch_str = ', ' + repr(self.branches)\n",
    "        else:\n",
    "            branch_str = ''\n",
    "        return 'Tree({0}{1})'.format(self.label, branch_str)\n",
    "\n",
    "    def __str__(self):\n",
    "        def print_tree(t, indent=0):\n",
    "            tree_str = '  ' * indent + str(t.label) + \"\\n\"\n",
    "            for b in t.branches:\n",
    "                tree_str += print_tree(b, indent + 1)\n",
    "            return tree_str\n",
    "        return print_tree(self).rstrip()\n",
    "\n",
    "\n",
    "def naturals():\n",
    "    \"\"\"A generator function that yields the infinite sequence of natural\n",
    "    numbers, starting at 1.\n",
    "\n",
    "    >>> m = naturals()\n",
    "    >>> type(m)\n",
    "    <class 'generator'>\n",
    "    >>> [next(m) for _ in range(10)]\n",
    "    [1, 2, 3, 4, 5, 6, 7, 8, 9, 10]\n",
    "    \"\"\"\n",
    "    i = 1\n",
    "    while True:\n",
    "        yield i\n",
    "        i += 1"
   ]
  },
  {
   "cell_type": "code",
   "execution_count": 5,
   "id": "ea885893",
   "metadata": {},
   "outputs": [],
   "source": [
    "def path_yielder(t, value):\n",
    "    \"\"\"Yields all possible paths from the root of t to a node with the label value\n",
    "    as a list.\n",
    "\n",
    "    >>> t1 = Tree(1, [Tree(2, [Tree(3), Tree(4, [Tree(6)]), Tree(5)]), Tree(5)])\n",
    "    >>> print(t1)\n",
    "    1\n",
    "      2\n",
    "        3\n",
    "        4\n",
    "          6\n",
    "        5\n",
    "      5\n",
    "    >>> next(path_yielder(t1, 6))\n",
    "    [1, 2, 4, 6]\n",
    "    >>> path_to_5 = path_yielder(t1, 5)\n",
    "    >>> sorted(list(path_to_5))\n",
    "    [[1, 2, 5], [1, 5]]\n",
    "\n",
    "    >>> t2 = Tree(0, [Tree(2, [t1])])\n",
    "    >>> print(t2)\n",
    "    0\n",
    "      2\n",
    "        1\n",
    "          2\n",
    "            3\n",
    "            4\n",
    "              6\n",
    "            5\n",
    "          5\n",
    "    >>> path_to_2 = path_yielder(t2, 2)\n",
    "    >>> sorted(list(path_to_2))\n",
    "    [[0, 2], [0, 2, 1, 2]]\n",
    "    \"\"\"\n",
    "\n",
    "    \"*** YOUR CODE HERE ***\"\n",
    "    \n",
    "    if t.label == value:\n",
    "        yield [value]\n",
    "        \n",
    "    for branch in t.branches:\n",
    "        for path_yield in path_yielder(branch, value):\n",
    "            yield path_yield + [t.label]\n",
    "\n"
   ]
  },
  {
   "cell_type": "code",
   "execution_count": 6,
   "id": "39fe1826",
   "metadata": {},
   "outputs": [
    {
     "data": {
      "text/plain": [
       "[1, 2, 4, 6]"
      ]
     },
     "execution_count": 6,
     "metadata": {},
     "output_type": "execute_result"
    }
   ],
   "source": [
    "t1 = Tree(1, [Tree(2, [Tree(3), Tree(4, [Tree(6)]), Tree(5)]), Tree(5)])\n",
    "next(path_yielder(t1, 6))"
   ]
  },
  {
   "cell_type": "code",
   "execution_count": 22,
   "id": "f5ca1680",
   "metadata": {},
   "outputs": [],
   "source": [
    "def print_leaf(t):\n",
    "    print(t.label)\n",
    "    \n",
    "    if t.branches:\n",
    "        for branch in t.branches:\n",
    "            return print_leaf(branch)"
   ]
  },
  {
   "cell_type": "code",
   "execution_count": 23,
   "id": "224c7f2a",
   "metadata": {
    "scrolled": true
   },
   "outputs": [
    {
     "name": "stdout",
     "output_type": "stream",
     "text": [
      "1\n",
      "2\n",
      "3\n"
     ]
    }
   ],
   "source": [
    "print_leaf(t1)"
   ]
  },
  {
   "cell_type": "code",
   "execution_count": null,
   "id": "cf10c1c8",
   "metadata": {},
   "outputs": [],
   "source": [
    "yield t.label\n",
    "    for b in t.branches:\n",
    "        yield from generate_preorder(b)"
   ]
  },
  {
   "cell_type": "code",
   "execution_count": 60,
   "id": "792192a5",
   "metadata": {},
   "outputs": [],
   "source": [
    "def preorder(t):\n",
    "    \"\"\"Return a list of the entries in this tree in the order that they\n",
    "    would be visited by a preorder traversal (see problem description).\n",
    "\n",
    "    >>> numbers = Tree(1, [Tree(2), Tree(3, [Tree(4), Tree(5)]), Tree(6, [Tree(7)])])\n",
    "    >>> preorder(numbers)\n",
    "    [1, 2, 3, 4, 5, 6, 7]\n",
    "    >>> preorder(Tree(2, [Tree(4, [Tree(6)])]))\n",
    "    [2, 4, 6]\n",
    "    \"\"\"\n",
    "    \"*** YOUR CODE HERE ***\"\n",
    "    \n",
    "    \n",
    "    if t.is_leaf(): # end of the tree\n",
    "        return [t.label]\n",
    "    \n",
    "    anw = [t.label]\n",
    "    for branch in t.branches:\n",
    "        anw.extend(preorder(branch))\n",
    "        \n",
    "    return anw"
   ]
  },
  {
   "cell_type": "code",
   "execution_count": null,
   "id": "f7600415",
   "metadata": {},
   "outputs": [],
   "source": []
  },
  {
   "cell_type": "code",
   "execution_count": null,
   "id": "e670db0c",
   "metadata": {},
   "outputs": [],
   "source": []
  },
  {
   "cell_type": "code",
   "execution_count": 61,
   "id": "d6b8e74e",
   "metadata": {},
   "outputs": [
    {
     "data": {
      "text/plain": [
       "[1, 2, 3, 4, 5, 6, 7]"
      ]
     },
     "execution_count": 61,
     "metadata": {},
     "output_type": "execute_result"
    }
   ],
   "source": [
    "numbers = Tree(1, [Tree(2), Tree(3, [Tree(4), Tree(5)]), Tree(6, [Tree(7)])])\n",
    "preorder(numbers)"
   ]
  },
  {
   "cell_type": "code",
   "execution_count": 47,
   "id": "94caa1e1",
   "metadata": {},
   "outputs": [],
   "source": [
    "def generate_preorder(t):\n",
    "    \"\"\"Yield the entries in this tree in the order that they\n",
    "    would be visited by a preorder traversal (see problem description).\n",
    "\n",
    "    >>> numbers = Tree(1, [Tree(2), Tree(3, [Tree(4), Tree(5)]), Tree(6, [Tree(7)])])\n",
    "    >>> gen = generate_preorder(numbers)\n",
    "    >>> next(gen)\n",
    "    1\n",
    "    >>> list(gen)\n",
    "    [2, 3, 4, 5, 6, 7]\n",
    "    \"\"\"\n",
    "    \"*** YOUR CODE HERE ***\"\n",
    "    yield t.label\n",
    "    \n",
    "    if t.branches:\n",
    "        for branch in t.branches:\n",
    "            yield from generate_preorder(branch)"
   ]
  },
  {
   "cell_type": "code",
   "execution_count": 48,
   "id": "24a17623",
   "metadata": {},
   "outputs": [],
   "source": [
    "numbers = Tree(1, [Tree(2), Tree(3, [Tree(4), Tree(5)]), Tree(6, [Tree(7)])])\n",
    "gen = generate_preorder(numbers)"
   ]
  },
  {
   "cell_type": "code",
   "execution_count": 49,
   "id": "7eb44a7d",
   "metadata": {},
   "outputs": [
    {
     "data": {
      "text/plain": [
       "1"
      ]
     },
     "execution_count": 49,
     "metadata": {},
     "output_type": "execute_result"
    }
   ],
   "source": [
    "next(gen)"
   ]
  },
  {
   "cell_type": "code",
   "execution_count": 50,
   "id": "cf2b97a4",
   "metadata": {},
   "outputs": [
    {
     "data": {
      "text/plain": [
       "[2, 3, 4, 5, 6, 7]"
      ]
     },
     "execution_count": 50,
     "metadata": {},
     "output_type": "execute_result"
    }
   ],
   "source": [
    "list(gen)"
   ]
  },
  {
   "cell_type": "code",
   "execution_count": null,
   "id": "d5521354",
   "metadata": {},
   "outputs": [],
   "source": [
    "def remainders_generator(m):\n",
    "    \"\"\"\n",
    "    Yields m generators. The ith yielded generator yields natural numbers whose\n",
    "    remainder is i when divided by m.\n",
    "\n",
    "    >>> import types\n",
    "    >>> [isinstance(gen, types.GeneratorType) for gen in remainders_generator(5)]\n",
    "    [True, True, True, True, True]\n",
    "    >>> remainders_four = remainders_generator(4)\n",
    "    >>> for i in range(4):\n",
    "    ...     print(\"First 3 natural numbers with remainder {0} when divided by 4:\".format(i))\n",
    "    ...     gen = next(remainders_four)\n",
    "    ...     for _ in range(3):\n",
    "    ...         print(next(gen))\n",
    "    First 3 natural numbers with remainder 0 when divided by 4:\n",
    "    4\n",
    "    8\n",
    "    12\n",
    "    First 3 natural numbers with remainder 1 when divided by 4:\n",
    "    1\n",
    "    5\n",
    "    9\n",
    "    First 3 natural numbers with remainder 2 when divided by 4:\n",
    "    2\n",
    "    6\n",
    "    10\n",
    "    First 3 natural numbers with remainder 3 when divided by 4:\n",
    "    3\n",
    "    7\n",
    "    11\n",
    "    \"\"\"\n",
    "    \"*** YOUR CODE HERE ***\""
   ]
  }
 ],
 "metadata": {
  "kernelspec": {
   "display_name": "Python 3 (ipykernel)",
   "language": "python",
   "name": "python3"
  },
  "language_info": {
   "codemirror_mode": {
    "name": "ipython",
    "version": 3
   },
   "file_extension": ".py",
   "mimetype": "text/x-python",
   "name": "python",
   "nbconvert_exporter": "python",
   "pygments_lexer": "ipython3",
   "version": "3.8.11"
  }
 },
 "nbformat": 4,
 "nbformat_minor": 5
}
