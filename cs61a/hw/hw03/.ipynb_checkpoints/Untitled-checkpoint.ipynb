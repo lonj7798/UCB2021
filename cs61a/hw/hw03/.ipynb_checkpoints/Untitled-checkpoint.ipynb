{
 "cells": [
  {
   "cell_type": "code",
   "execution_count": 53,
   "id": "c9b61354",
   "metadata": {},
   "outputs": [],
   "source": [
    "def num_eights(pos):\n",
    "    \"\"\"Returns the number of times 8 appears as a digit of pos.\n",
    "\n",
    "    >>> num_eights(3)\n",
    "    0\n",
    "    >>> num_eights(8)\n",
    "    1\n",
    "    >>> num_eights(88888888)\n",
    "    8\n",
    "    >>> num_eights(2638)\n",
    "    1\n",
    "    >>> num_eights(86380)\n",
    "    2\n",
    "    >>> num_eights(12345)\n",
    "    0\n",
    "    >>> from construct_check import check\n",
    "    >>> # ban all assignment statements\n",
    "    >>> check(HW_SOURCE_FILE, 'num_eights',\n",
    "    ...       ['Assign', 'AugAssign'])\n",
    "    True\n",
    "    \"\"\"\n",
    "    \"*** YOUR CODE HERE ***\"\n",
    "    \n",
    "    if pos == 0:\n",
    "        return 0\n",
    "    \n",
    "    if pos % 10 == 8: \n",
    "        return num_eights(pos//10) + 1\n",
    "\n",
    "    return num_eights(pos//10)\n",
    "        "
   ]
  },
  {
   "cell_type": "code",
   "execution_count": 30,
   "id": "a66979ee",
   "metadata": {},
   "outputs": [
    {
     "data": {
      "text/plain": [
       "1"
      ]
     },
     "execution_count": 30,
     "metadata": {},
     "output_type": "execute_result"
    }
   ],
   "source": [
    "num_eights(2638)"
   ]
  },
  {
   "cell_type": "code",
   "execution_count": 31,
   "id": "38fffa8a",
   "metadata": {},
   "outputs": [
    {
     "data": {
      "text/plain": [
       "2"
      ]
     },
     "execution_count": 31,
     "metadata": {},
     "output_type": "execute_result"
    }
   ],
   "source": [
    "num_eights(86380)"
   ]
  },
  {
   "cell_type": "code",
   "execution_count": 32,
   "id": "f2075536",
   "metadata": {},
   "outputs": [
    {
     "data": {
      "text/plain": [
       "8"
      ]
     },
     "execution_count": 32,
     "metadata": {},
     "output_type": "execute_result"
    }
   ],
   "source": [
    "num_eights(88888888)"
   ]
  },
  {
   "cell_type": "code",
   "execution_count": 188,
   "id": "d2cc6f5f",
   "metadata": {},
   "outputs": [],
   "source": [
    "def pingpong(n):\n",
    "    \"\"\"Return the nth element of the ping-pong sequence.\n",
    "\n",
    "    >>> pingpong(8)\n",
    "    8\n",
    "    >>> pingpong(10)\n",
    "    6\n",
    "    >>> pingpong(15)\n",
    "    1\n",
    "    >>> pingpong(21)\n",
    "    -1\n",
    "    >>> pingpong(22)\n",
    "    -2\n",
    "    >>> pingpong(30)\n",
    "    -2\n",
    "    >>> pingpong(68)\n",
    "    0\n",
    "    >>> pingpong(69)\n",
    "    -1\n",
    "    >>> pingpong(80)\n",
    "    0\n",
    "    >>> pingpong(81)\n",
    "    1\n",
    "    >>> pingpong(82)\n",
    "    0\n",
    "    >>> pingpong(100)\n",
    "    -6\n",
    "    >>> from construct_check import check\n",
    "    >>> # ban assignment statements\n",
    "    >>> check(HW_SOURCE_FILE, 'pingpong', ['Assign', 'AugAssign'])\n",
    "    True\n",
    "    \"\"\"\n",
    "    \"*** YOUR CODE HERE ***\"\n",
    "    def helper(i, count, pos):\n",
    "        if i == n+1:\n",
    "            return count\n",
    "        \n",
    "        if i % 8 == 0 or num_eights(i) > 0:\n",
    "            return helper(i + 1, count + pos, pos * -1)\n",
    "        else:\n",
    "            return helper(i + 1, count + pos, pos)\n",
    "        \n",
    "    return helper(1, 0, 1)"
   ]
  },
  {
   "cell_type": "code",
   "execution_count": 189,
   "id": "79279400",
   "metadata": {
    "scrolled": true
   },
   "outputs": [
    {
     "data": {
      "text/plain": [
       "0"
      ]
     },
     "execution_count": 189,
     "metadata": {},
     "output_type": "execute_result"
    }
   ],
   "source": [
    "pingpong(80)"
   ]
  },
  {
   "cell_type": "code",
   "execution_count": 190,
   "id": "8c1ba358",
   "metadata": {},
   "outputs": [
    {
     "data": {
      "text/plain": [
       "-1"
      ]
     },
     "execution_count": 190,
     "metadata": {},
     "output_type": "execute_result"
    }
   ],
   "source": [
    "pingpong(69)"
   ]
  },
  {
   "cell_type": "code",
   "execution_count": 191,
   "id": "085c6311",
   "metadata": {},
   "outputs": [
    {
     "data": {
      "text/plain": [
       "-6"
      ]
     },
     "execution_count": 191,
     "metadata": {},
     "output_type": "execute_result"
    }
   ],
   "source": [
    "pingpong(100)"
   ]
  },
  {
   "cell_type": "code",
   "execution_count": 192,
   "id": "037bc5ee",
   "metadata": {},
   "outputs": [
    {
     "data": {
      "text/plain": [
       "8"
      ]
     },
     "execution_count": 192,
     "metadata": {},
     "output_type": "execute_result"
    }
   ],
   "source": [
    "pingpong(8)"
   ]
  },
  {
   "cell_type": "code",
   "execution_count": 82,
   "id": "3b1e50d5",
   "metadata": {},
   "outputs": [],
   "source": [
    "def missing_digits(n):\n",
    "    \"\"\"Given a number a that is in sorted, increasing order,\n",
    "    return the number of missing digits in n. A missing digit is\n",
    "    a number between the first and last digit of a that is not in n.\n",
    "    >>> missing_digits(1248) # 3, 5, 6, 7\n",
    "    4\n",
    "    >>> missing_digits(19) # 2, 3, 4, 5, 6, 7, 8\n",
    "    7\n",
    "    >>> missing_digits(1122) # No missing numbers\n",
    "    0\n",
    "    >>> missing_digits(123456) # No missing numbers\n",
    "    0\n",
    "    >>> missing_digits(3558) # 4, 6, 7\n",
    "    3\n",
    "    >>> missing_digits(35578) # 4, 6\n",
    "    2\n",
    "    >>> missing_digits(12456) # 3\n",
    "    1\n",
    "    >>> missing_digits(16789) # 2, 3, 4, 5\n",
    "    4\n",
    "\n",
    "    >>> missing_digits(4) # No missing numbers between 4 and 4\n",
    "    0\n",
    "    >>> from construct_check import check\n",
    "    >>> # ban while or for loops\n",
    "    >>> check(HW_SOURCE_FILE, 'missing_digits', ['While', 'For'])\n",
    "    True\n",
    "    \"\"\"\n",
    "    \"*** YOUR CODE HERE ***\"\n",
    "    \n",
    "    if n // 10 == 0:\n",
    "        return 0\n",
    "    \n",
    "    compare = n % 10 - (n // 10 % 10)\n",
    "        \n",
    "    if compare > 1:\n",
    "        return missing_digits(n//10) + compare - 1\n",
    "    \n",
    "    return missing_digits(n//10)"
   ]
  },
  {
   "cell_type": "code",
   "execution_count": 86,
   "id": "60b0b5e2",
   "metadata": {},
   "outputs": [
    {
     "data": {
      "text/plain": [
       "4"
      ]
     },
     "execution_count": 86,
     "metadata": {},
     "output_type": "execute_result"
    }
   ],
   "source": [
    "missing_digits(16789)"
   ]
  },
  {
   "cell_type": "code",
   "execution_count": 91,
   "id": "21682502",
   "metadata": {},
   "outputs": [
    {
     "data": {
      "text/plain": [
       "1"
      ]
     },
     "execution_count": 91,
     "metadata": {},
     "output_type": "execute_result"
    }
   ],
   "source": [
    "missing_digits(12456)"
   ]
  },
  {
   "cell_type": "code",
   "execution_count": 92,
   "id": "4ec67040",
   "metadata": {},
   "outputs": [
    {
     "data": {
      "text/plain": [
       "3"
      ]
     },
     "execution_count": 92,
     "metadata": {},
     "output_type": "execute_result"
    }
   ],
   "source": [
    "missing_digits(3558)"
   ]
  },
  {
   "cell_type": "code",
   "execution_count": 89,
   "id": "c9592799",
   "metadata": {},
   "outputs": [],
   "source": [
    "def ascending_coin(coin):\n",
    "    \"\"\"Returns the next ascending coin in order.\n",
    "    >>> ascending_coin(1)\n",
    "    5\n",
    "    >>> ascending_coin(5)\n",
    "    10\n",
    "    >>> ascending_coin(10)\n",
    "    25\n",
    "    >>> ascending_coin(2) # Other values return None\n",
    "    \"\"\"\n",
    "    if coin == 1:\n",
    "        return 5\n",
    "    elif coin == 5:\n",
    "        return 10\n",
    "    elif coin == 10:\n",
    "        return 25\n",
    "\n",
    "def descending_coin(coin):\n",
    "    \"\"\"Returns the next descending coin in order.\n",
    "    >>> descending_coin(25)\n",
    "    10\n",
    "    >>> descending_coin(10)\n",
    "    5\n",
    "    >>> descending_coin(5)\n",
    "    1\n",
    "    >>> descending_coin(2) # Other values return None\n",
    "    \"\"\"\n",
    "    if coin == 25:\n",
    "        return 10\n",
    "    elif coin == 10:\n",
    "        return 5\n",
    "    elif coin == 5:\n",
    "        return 1"
   ]
  },
  {
   "cell_type": "code",
   "execution_count": 234,
   "id": "287a9e3b",
   "metadata": {},
   "outputs": [],
   "source": [
    "def count_coins(change):\n",
    "    \"\"\"Return the number of ways to make change using coins of value of 1, 5, 10, 25.\n",
    "    >>> count_coins(15)\n",
    "    6\n",
    "    >>> count_coins(10)\n",
    "    4\n",
    "    >>> count_coins(20)\n",
    "    9\n",
    "    >>> count_coins(100) # How many ways to make change for a dollar?\n",
    "    242\n",
    "    >>> count_coins(200)\n",
    "    1463\n",
    "    >>> from construct_check import check\n",
    "    >>> # ban iteration\n",
    "    >>> check(HW_SOURCE_FILE, 'count_coins', ['While', 'For'])\n",
    "    True\n",
    "    \"\"\"\n",
    "    \"*** YOUR CODE HERE ***\"\n",
    "    def helper(change, coin):\n",
    "        if change == 0:\n",
    "            return 1\n",
    "        elif change < 0:\n",
    "            return 0\n",
    "        elif coin == 1:\n",
    "            return 1\n",
    "        else:\n",
    "            return helper(change - coin, coin) + helper(change, descending_coin(coin)) \n",
    "        \n",
    "    return helper(change, 25)"
   ]
  },
  {
   "cell_type": "code",
   "execution_count": 235,
   "id": "82bc576a",
   "metadata": {},
   "outputs": [
    {
     "data": {
      "text/plain": [
       "6"
      ]
     },
     "execution_count": 235,
     "metadata": {},
     "output_type": "execute_result"
    }
   ],
   "source": [
    "count_coins(15)"
   ]
  },
  {
   "cell_type": "code",
   "execution_count": 236,
   "id": "24fc1a07",
   "metadata": {},
   "outputs": [
    {
     "data": {
      "text/plain": [
       "4"
      ]
     },
     "execution_count": 236,
     "metadata": {},
     "output_type": "execute_result"
    }
   ],
   "source": [
    "count_coins(10)"
   ]
  },
  {
   "cell_type": "code",
   "execution_count": 237,
   "id": "4afdccb2",
   "metadata": {},
   "outputs": [
    {
     "data": {
      "text/plain": [
       "9"
      ]
     },
     "execution_count": 237,
     "metadata": {},
     "output_type": "execute_result"
    }
   ],
   "source": [
    "count_coins(20)"
   ]
  },
  {
   "cell_type": "code",
   "execution_count": 238,
   "id": "72b33aa0",
   "metadata": {},
   "outputs": [
    {
     "data": {
      "text/plain": [
       "242"
      ]
     },
     "execution_count": 238,
     "metadata": {},
     "output_type": "execute_result"
    }
   ],
   "source": [
    "count_coins(100)"
   ]
  },
  {
   "cell_type": "code",
   "execution_count": 239,
   "id": "abae99e7",
   "metadata": {},
   "outputs": [
    {
     "data": {
      "text/plain": [
       "1463"
      ]
     },
     "execution_count": 239,
     "metadata": {},
     "output_type": "execute_result"
    }
   ],
   "source": [
    "count_coins(200)"
   ]
  },
  {
   "cell_type": "code",
   "execution_count": null,
   "id": "0ee31525",
   "metadata": {},
   "outputs": [],
   "source": []
  }
 ],
 "metadata": {
  "kernelspec": {
   "display_name": "Python 3",
   "language": "python",
   "name": "python3"
  },
  "language_info": {
   "codemirror_mode": {
    "name": "ipython",
    "version": 3
   },
   "file_extension": ".py",
   "mimetype": "text/x-python",
   "name": "python",
   "nbconvert_exporter": "python",
   "pygments_lexer": "ipython3",
   "version": "3.8.11"
  }
 },
 "nbformat": 4,
 "nbformat_minor": 5
}
