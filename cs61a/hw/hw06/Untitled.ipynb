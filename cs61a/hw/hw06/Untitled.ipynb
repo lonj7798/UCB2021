{
 "cells": [
  {
   "cell_type": "code",
   "execution_count": 78,
   "id": "c9a57af1",
   "metadata": {},
   "outputs": [],
   "source": [
    "class VendingMachine:\n",
    "    \"\"\"A vending machine that vends some product for some price.\n",
    "\n",
    "    >>> v = VendingMachine('candy', 10)\n",
    "    >>> v.vend()\n",
    "    'Nothing left to vend. Please restock.'\n",
    "    >>> v.add_funds(15)\n",
    "    'Nothing left to vend. Please restock. Here is your $15.'\n",
    "    >>> v.restock(2)\n",
    "    'Current candy stock: 2'\n",
    "    >>> v.vend()\n",
    "    'You must add $10 more funds.'\n",
    "    >>> v.add_funds(7)\n",
    "    'Current balance: $7'\n",
    "    >>> v.vend()\n",
    "    'You must add $3 more funds.'\n",
    "    >>> v.add_funds(5)\n",
    "    'Current balance: $12'\n",
    "    >>> v.vend()\n",
    "    'Here is your candy and $2 change.'\n",
    "    >>> v.add_funds(10)\n",
    "    'Current balance: $10'\n",
    "    >>> v.vend()\n",
    "    'Here is your candy.'\n",
    "    >>> v.add_funds(15)\n",
    "    'Nothing left to vend. Please restock. Here is your $15.'\n",
    "\n",
    "    >>> w = VendingMachine('soda', 2)\n",
    "    >>> w.restock(3)\n",
    "    'Current soda stock: 3'\n",
    "    >>> w.restock(3)\n",
    "    'Current soda stock: 6'\n",
    "    >>> w.add_funds(2)\n",
    "    'Current balance: $2'\n",
    "    >>> w.vend()\n",
    "    'Here is your soda.'\n",
    "    \"\"\"\n",
    "    \"*** YOUR CODE HERE ***\"\n",
    "    \n",
    "    def __init__(self, product, price):\n",
    "        self.product = product\n",
    "        self.price = price\n",
    "        self.num_product = 0\n",
    "        self.balance = 0\n",
    "        \n",
    "    def vend(self):\n",
    "        # no product\n",
    "        if self.num_product == 0:\n",
    "            return 'Nothing left to vend. Please restock.'\n",
    "        # not enough money\n",
    "        elif self.balance < self.price:\n",
    "            return 'You must add ${0} more funds.'.format(self.price - self.balance)\n",
    "        # got it!\n",
    "        else:\n",
    "            self.balance -= self.price\n",
    "            self.num_product -= 1\n",
    "            \n",
    "            if self.balance == 0:\n",
    "                return 'Here is your {0}.'.format(self.product)\n",
    "            else:\n",
    "                balance = self.balance\n",
    "                self.balance = 0\n",
    "                return 'Here is your {0} and ${1} change.'.format(self.product, balance)\n",
    "            \n",
    "    \n",
    "    def add_funds(self, add_balance):\n",
    "        if self.num_product == 0:\n",
    "            return 'Nothing left to vend. Please restock. Here is your ${0}.'.format(add_balance)\n",
    "        \n",
    "        else:\n",
    "            self.balance += add_balance\n",
    "            return 'Current balance: ${0}'.format(self.balance)\n",
    "        \n",
    "    def restock(self, num):\n",
    "        self.num_product += num\n",
    "        return 'Current {0} stock: {1}'.format(self.product, self.num_product)"
   ]
  },
  {
   "cell_type": "code",
   "execution_count": 88,
   "id": "69354e8d",
   "metadata": {},
   "outputs": [],
   "source": [
    ">>> v = VendingMachine('candy', 10)"
   ]
  },
  {
   "cell_type": "code",
   "execution_count": 89,
   "id": "37e9cffb",
   "metadata": {},
   "outputs": [
    {
     "data": {
      "text/plain": [
       "'Nothing left to vend. Please restock.'"
      ]
     },
     "execution_count": 89,
     "metadata": {},
     "output_type": "execute_result"
    }
   ],
   "source": [
    "\n",
    ">>> v.vend()"
   ]
  },
  {
   "cell_type": "code",
   "execution_count": 90,
   "id": "9418e519",
   "metadata": {},
   "outputs": [
    {
     "data": {
      "text/plain": [
       "'Nothing left to vend. Please restock. Here is your $15.'"
      ]
     },
     "execution_count": 90,
     "metadata": {},
     "output_type": "execute_result"
    }
   ],
   "source": [
    ">>> v.add_funds(15)"
   ]
  },
  {
   "cell_type": "code",
   "execution_count": 91,
   "id": "4d782d61",
   "metadata": {},
   "outputs": [
    {
     "data": {
      "text/plain": [
       "'Current candy stock: 2'"
      ]
     },
     "execution_count": 91,
     "metadata": {},
     "output_type": "execute_result"
    }
   ],
   "source": [
    ">>> v.restock(2)"
   ]
  },
  {
   "cell_type": "code",
   "execution_count": 92,
   "id": "ca604ef5",
   "metadata": {},
   "outputs": [
    {
     "data": {
      "text/plain": [
       "'You must add $10 more funds.'"
      ]
     },
     "execution_count": 92,
     "metadata": {},
     "output_type": "execute_result"
    }
   ],
   "source": [
    ">>> v.vend()"
   ]
  },
  {
   "cell_type": "code",
   "execution_count": 93,
   "id": "5b1ef69e",
   "metadata": {},
   "outputs": [
    {
     "data": {
      "text/plain": [
       "'Current balance: $7'"
      ]
     },
     "execution_count": 93,
     "metadata": {},
     "output_type": "execute_result"
    }
   ],
   "source": [
    ">>> v.add_funds(7)"
   ]
  },
  {
   "cell_type": "code",
   "execution_count": 94,
   "id": "7fd13e1b",
   "metadata": {},
   "outputs": [
    {
     "data": {
      "text/plain": [
       "'You must add $3 more funds.'"
      ]
     },
     "execution_count": 94,
     "metadata": {},
     "output_type": "execute_result"
    }
   ],
   "source": [
    ">>> v.vend()"
   ]
  },
  {
   "cell_type": "code",
   "execution_count": 95,
   "id": "df60a2e6",
   "metadata": {},
   "outputs": [
    {
     "data": {
      "text/plain": [
       "'Current balance: $12'"
      ]
     },
     "execution_count": 95,
     "metadata": {},
     "output_type": "execute_result"
    }
   ],
   "source": [
    ">>> v.add_funds(5)"
   ]
  },
  {
   "cell_type": "code",
   "execution_count": null,
   "id": "12540a6f",
   "metadata": {},
   "outputs": [],
   "source": [
    ">>> v.vend()"
   ]
  },
  {
   "cell_type": "code",
   "execution_count": null,
   "id": "33d7ef0b",
   "metadata": {},
   "outputs": [],
   "source": []
  },
  {
   "cell_type": "code",
   "execution_count": 79,
   "id": "f9d4de9d",
   "metadata": {},
   "outputs": [
    {
     "data": {
      "text/plain": [
       "'Nothing left to vend. Please restock.'"
      ]
     },
     "execution_count": 79,
     "metadata": {},
     "output_type": "execute_result"
    }
   ],
   "source": [
    ">>> v = VendingMachine('candy', 10)\n",
    ">>> v.vend()"
   ]
  },
  {
   "cell_type": "code",
   "execution_count": 80,
   "id": "4912d5ff",
   "metadata": {},
   "outputs": [
    {
     "data": {
      "text/plain": [
       "'Nothing left to vend. Please restock. Here is your $15.'"
      ]
     },
     "execution_count": 80,
     "metadata": {},
     "output_type": "execute_result"
    }
   ],
   "source": [
    ">>> v.add_funds(15)"
   ]
  },
  {
   "cell_type": "code",
   "execution_count": 81,
   "id": "e08b2c73",
   "metadata": {},
   "outputs": [
    {
     "data": {
      "text/plain": [
       "'Current candy stock: 2'"
      ]
     },
     "execution_count": 81,
     "metadata": {},
     "output_type": "execute_result"
    }
   ],
   "source": [
    "\n",
    ">>> v.restock(2)"
   ]
  },
  {
   "cell_type": "code",
   "execution_count": 82,
   "id": "733254a3",
   "metadata": {},
   "outputs": [
    {
     "data": {
      "text/plain": [
       "'You must add $10 more funds.'"
      ]
     },
     "execution_count": 82,
     "metadata": {},
     "output_type": "execute_result"
    }
   ],
   "source": [
    "\n",
    ">>> v.vend()"
   ]
  },
  {
   "cell_type": "code",
   "execution_count": 83,
   "id": "e05a23dc",
   "metadata": {},
   "outputs": [
    {
     "data": {
      "text/plain": [
       "'Current balance: $7'"
      ]
     },
     "execution_count": 83,
     "metadata": {},
     "output_type": "execute_result"
    }
   ],
   "source": [
    "\n",
    ">>> v.add_funds(7)"
   ]
  },
  {
   "cell_type": "code",
   "execution_count": 84,
   "id": "088eb636",
   "metadata": {},
   "outputs": [
    {
     "data": {
      "text/plain": [
       "'You must add $3 more funds.'"
      ]
     },
     "execution_count": 84,
     "metadata": {},
     "output_type": "execute_result"
    }
   ],
   "source": [
    "\n",
    ">>> v.vend()"
   ]
  },
  {
   "cell_type": "code",
   "execution_count": 85,
   "id": "2a49bb54",
   "metadata": {},
   "outputs": [
    {
     "data": {
      "text/plain": [
       "'Current balance: $12'"
      ]
     },
     "execution_count": 85,
     "metadata": {},
     "output_type": "execute_result"
    }
   ],
   "source": [
    "\n",
    ">>> v.add_funds(5)"
   ]
  },
  {
   "cell_type": "code",
   "execution_count": 86,
   "id": "0124fbbf",
   "metadata": {},
   "outputs": [
    {
     "data": {
      "text/plain": [
       "'Here is your candy.'"
      ]
     },
     "execution_count": 86,
     "metadata": {},
     "output_type": "execute_result"
    }
   ],
   "source": [
    "\n",
    ">>> v.vend()"
   ]
  },
  {
   "cell_type": "code",
   "execution_count": 87,
   "id": "64de9bf5",
   "metadata": {},
   "outputs": [
    {
     "data": {
      "text/plain": [
       "'Current balance: $10'"
      ]
     },
     "execution_count": 87,
     "metadata": {},
     "output_type": "execute_result"
    }
   ],
   "source": [
    "\n",
    ">>> v.add_funds(10)"
   ]
  },
  {
   "cell_type": "code",
   "execution_count": 104,
   "id": "c6d88851",
   "metadata": {},
   "outputs": [],
   "source": [
    "class Mint:\n",
    "    \"\"\"A mint creates coins by stamping on years.\n",
    "\n",
    "    The update method sets the mint's stamp to Mint.present_year.\n",
    "\n",
    "    >>> mint = Mint()\n",
    "    >>> mint.year\n",
    "    2021\n",
    "    >>> dime = mint.create(Dime)\n",
    "    >>> dime.year\n",
    "    2021\n",
    "    >>> Mint.present_year = 2101  # Time passes\n",
    "    >>> nickel = mint.create(Nickel)\n",
    "    >>> nickel.year     # The mint has not updated its stamp yet\n",
    "    2021\n",
    "    >>> nickel.worth()  # 5 cents + (80 - 50 years)\n",
    "    35\n",
    "    >>> mint.update()   # The mint's year is updated to 2101\n",
    "    >>> Mint.present_year = 2176     # More time passes\n",
    "    >>> mint.create(Dime).worth()    # 10 cents + (75 - 50 years)\n",
    "    35\n",
    "    >>> Mint().create(Dime).worth()  # A new mint has the current year\n",
    "    10\n",
    "    >>> dime.worth()     # 10 cents + (155 - 50 years)\n",
    "    115\n",
    "    >>> Dime.cents = 20  # Upgrade all dimes!\n",
    "    >>> dime.worth()     # 20 cents + (155 - 50 years)\n",
    "    125\n",
    "    \"\"\"\n",
    "    present_year = 2021\n",
    "\n",
    "    def __init__(self):\n",
    "        self.update()\n",
    "\n",
    "    def create(self, kind):\n",
    "        \"*** YOUR CODE HERE ***\"\n",
    "        return kind(self.year)\n",
    "\n",
    "    def update(self):\n",
    "        \"*** YOUR CODE HERE ***\"\n",
    "        self.year = self.present_year\n",
    "\n",
    "class Coin:\n",
    "    def __init__(self, year):\n",
    "        self.year = year\n",
    "\n",
    "    def worth(self):\n",
    "        \"*** YOUR CODE HERE ***\"\n",
    "        if Mint.present_year == self.year:\n",
    "            return self.cents\n",
    "        return self.cents + (Mint.present_year - self.year - 50)\n",
    "\n",
    "class Nickel(Coin):\n",
    "    cents = 5\n",
    "\n",
    "class Dime(Coin):\n",
    "    cents = 10"
   ]
  },
  {
   "cell_type": "code",
   "execution_count": 105,
   "id": "ebae7b64",
   "metadata": {},
   "outputs": [
    {
     "data": {
      "text/plain": [
       "2021"
      ]
     },
     "execution_count": 105,
     "metadata": {},
     "output_type": "execute_result"
    }
   ],
   "source": [
    "mint = Mint()\n",
    "mint.year"
   ]
  },
  {
   "cell_type": "code",
   "execution_count": 106,
   "id": "6f949471",
   "metadata": {},
   "outputs": [
    {
     "data": {
      "text/plain": [
       "2021"
      ]
     },
     "execution_count": 106,
     "metadata": {},
     "output_type": "execute_result"
    }
   ],
   "source": [
    "dime = mint.create(Dime)\n",
    "dime.year"
   ]
  },
  {
   "cell_type": "code",
   "execution_count": 107,
   "id": "bf09c251",
   "metadata": {},
   "outputs": [
    {
     "data": {
      "text/plain": [
       "2021"
      ]
     },
     "execution_count": 107,
     "metadata": {},
     "output_type": "execute_result"
    }
   ],
   "source": [
    "Mint.present_year = 2101  # Time passes\n",
    ">>> nickel = mint.create(Nickel)\n",
    ">>> nickel.year "
   ]
  },
  {
   "cell_type": "code",
   "execution_count": 108,
   "id": "3d9c8cad",
   "metadata": {},
   "outputs": [
    {
     "data": {
      "text/plain": [
       "35"
      ]
     },
     "execution_count": 108,
     "metadata": {},
     "output_type": "execute_result"
    }
   ],
   "source": [
    "nickel.worth()"
   ]
  },
  {
   "cell_type": "code",
   "execution_count": 109,
   "id": "9a8e2915",
   "metadata": {},
   "outputs": [
    {
     "data": {
      "text/plain": [
       "35"
      ]
     },
     "execution_count": 109,
     "metadata": {},
     "output_type": "execute_result"
    }
   ],
   "source": [
    " mint.update()   # The mint's year is updated to 2101\n",
    ">>> Mint.present_year = 2176     # More time passes\n",
    ">>> mint.create(Dime).worth()"
   ]
  },
  {
   "cell_type": "code",
   "execution_count": 110,
   "id": "a65fe60a",
   "metadata": {},
   "outputs": [
    {
     "data": {
      "text/plain": [
       "10"
      ]
     },
     "execution_count": 110,
     "metadata": {},
     "output_type": "execute_result"
    }
   ],
   "source": [
    ">>> Mint().create(Dime).worth()"
   ]
  },
  {
   "cell_type": "code",
   "execution_count": 111,
   "id": "1372e317",
   "metadata": {},
   "outputs": [
    {
     "data": {
      "text/plain": [
       "115"
      ]
     },
     "execution_count": 111,
     "metadata": {},
     "output_type": "execute_result"
    }
   ],
   "source": [
    "dime.worth()     # 10 cents + (155 - 50 years)"
   ]
  },
  {
   "cell_type": "code",
   "execution_count": 112,
   "id": "09d56e99",
   "metadata": {},
   "outputs": [
    {
     "data": {
      "text/plain": [
       "125"
      ]
     },
     "execution_count": 112,
     "metadata": {},
     "output_type": "execute_result"
    }
   ],
   "source": [
    "\n",
    ">>> Dime.cents = 20  # Upgrade all dimes!\n",
    ">>> dime.worth()"
   ]
  },
  {
   "cell_type": "code",
   "execution_count": 1,
   "id": "367ef1b4",
   "metadata": {},
   "outputs": [],
   "source": [
    "class Link:\n",
    "    \"\"\"A linked list.\n",
    "\n",
    "    >>> s = Link(1)\n",
    "    >>> s.first\n",
    "    1\n",
    "    >>> s.rest is Link.empty\n",
    "    True\n",
    "    >>> s = Link(2, Link(3, Link(4)))\n",
    "    >>> s.first = 5\n",
    "    >>> s.rest.first = 6\n",
    "    >>> s.rest.rest = Link.empty\n",
    "    >>> s                                    # Displays the contents of repr(s)\n",
    "    Link(5, Link(6))\n",
    "    >>> s.rest = Link(7, Link(Link(8, Link(9))))\n",
    "    >>> s\n",
    "    Link(5, Link(7, Link(Link(8, Link(9)))))\n",
    "    >>> print(s)                             # Prints str(s)\n",
    "    <5 7 <8 9>>\n",
    "    \"\"\"\n",
    "    empty = ()\n",
    "\n",
    "    def __init__(self, first, rest=empty):\n",
    "        assert rest is Link.empty or isinstance(rest, Link)\n",
    "        self.first = first\n",
    "        self.rest = rest\n",
    "\n",
    "    def __repr__(self):\n",
    "        if self.rest is not Link.empty:\n",
    "            rest_repr = ', ' + repr(self.rest)\n",
    "        else:\n",
    "            rest_repr = ''\n",
    "        return 'Link(' + repr(self.first) + rest_repr + ')'\n",
    "\n",
    "    def __str__(self):\n",
    "        string = '<'\n",
    "        while self.rest is not Link.empty:\n",
    "            string += str(self.first) + ' '\n",
    "            self = self.rest\n",
    "        return string + str(self.first) + '>'"
   ]
  },
  {
   "cell_type": "code",
   "execution_count": 150,
   "id": "b5f7070b",
   "metadata": {},
   "outputs": [],
   "source": [
    "a = Link(10)\n",
    "a.rest = Link(20)\n",
    "a.rest.rest = Link(30)\n"
   ]
  },
  {
   "cell_type": "code",
   "execution_count": 151,
   "id": "64bba7e2",
   "metadata": {},
   "outputs": [
    {
     "data": {
      "text/plain": [
       "Link(10, Link(20, Link(30)))"
      ]
     },
     "execution_count": 151,
     "metadata": {},
     "output_type": "execute_result"
    }
   ],
   "source": [
    "a"
   ]
  },
  {
   "cell_type": "code",
   "execution_count": 156,
   "id": "bac35454",
   "metadata": {},
   "outputs": [],
   "source": [
    "b = Link(10)\n",
    "temp = Link(20)\n",
    "b.rest = temp\n",
    "\n",
    "temp2 = Link(30)\n",
    "temp.rest = temp2"
   ]
  },
  {
   "cell_type": "code",
   "execution_count": 157,
   "id": "feb904a6",
   "metadata": {},
   "outputs": [
    {
     "data": {
      "text/plain": [
       "Link(10, Link(20, Link(30)))"
      ]
     },
     "execution_count": 157,
     "metadata": {},
     "output_type": "execute_result"
    }
   ],
   "source": [
    "b"
   ]
  },
  {
   "cell_type": "code",
   "execution_count": 173,
   "id": "bc090adc",
   "metadata": {},
   "outputs": [],
   "source": [
    "s = Link(0)\n",
    "k = s\n",
    "\n",
    "for i in range(1, 10):\n",
    "    s.rest = Link(i)\n",
    "    s = s.rest"
   ]
  },
  {
   "cell_type": "code",
   "execution_count": 175,
   "id": "afba0ef1",
   "metadata": {},
   "outputs": [
    {
     "data": {
      "text/plain": [
       "Link(0, Link(1, Link(2, Link(3, Link(4, Link(5, Link(6, Link(7, Link(8, Link(9))))))))))"
      ]
     },
     "execution_count": 175,
     "metadata": {},
     "output_type": "execute_result"
    }
   ],
   "source": [
    "k"
   ]
  },
  {
   "cell_type": "code",
   "execution_count": 183,
   "id": "b0c5e0fa",
   "metadata": {},
   "outputs": [
    {
     "ename": "TypeError",
     "evalue": "object of type 'int' has no len()",
     "output_type": "error",
     "traceback": [
      "\u001b[0;31m---------------------------------------------------------------------------\u001b[0m",
      "\u001b[0;31mTypeError\u001b[0m                                 Traceback (most recent call last)",
      "\u001b[0;32m/var/folders/m5/b577jf4d20jc309f4phr3lvr0000gn/T/ipykernel_5904/2832422990.py\u001b[0m in \u001b[0;36m<module>\u001b[0;34m\u001b[0m\n\u001b[1;32m      1\u001b[0m \u001b[0ma\u001b[0m \u001b[0;34m=\u001b[0m \u001b[0;36m12345678\u001b[0m\u001b[0;34m\u001b[0m\u001b[0;34m\u001b[0m\u001b[0m\n\u001b[0;32m----> 2\u001b[0;31m \u001b[0mtemp\u001b[0m \u001b[0;34m=\u001b[0m \u001b[0ma\u001b[0m\u001b[0;34m%\u001b[0m\u001b[0mpow\u001b[0m\u001b[0;34m(\u001b[0m\u001b[0;36m10\u001b[0m\u001b[0;34m,\u001b[0m \u001b[0mlen\u001b[0m\u001b[0;34m(\u001b[0m\u001b[0ma\u001b[0m\u001b[0;34m)\u001b[0m\u001b[0;34m)\u001b[0m\u001b[0;34m\u001b[0m\u001b[0;34m\u001b[0m\u001b[0m\n\u001b[0m",
      "\u001b[0;31mTypeError\u001b[0m: object of type 'int' has no len()"
     ]
    }
   ],
   "source": [
    "a = 12345678\n",
    "temp = a % pow(10, len(a))"
   ]
  },
  {
   "cell_type": "code",
   "execution_count": 290,
   "id": "977adbd8",
   "metadata": {},
   "outputs": [],
   "source": [
    "def store_digits(n):\n",
    "    \"\"\"Stores the digits of a positive number n in a linked list.\n",
    "\n",
    "    >>> s = store_digits(1)\n",
    "    >>> s\n",
    "    Link(1)\n",
    "    >>> store_digits(2345)\n",
    "    Link(2, Link(3, Link(4, Link(5))))\n",
    "    >>> store_digits(876)\n",
    "    Link(8, Link(7, Link(6)))\n",
    "    >>> # a check for restricted functions\n",
    "    >>> import inspect, re\n",
    "    >>> cleaned = re.sub(r\"#.*\\\\n\", '', re.sub(r'\"{3}[\\s\\S]*?\"{3}', '', inspect.getsource(store_digits)))\n",
    "    >>> print(\"Do not use str or reversed!\") if any([r in cleaned for r in [\"str\", \"reversed\"]]) else None\n",
    "    >>> link1 = Link(3, Link(Link(4), Link(5, Link(6))))\n",
    "    \"\"\"\n",
    "    \"*** YOUR CODE HERE ***\"\n",
    "    \n",
    "    \"\"\"\n",
    "    string_n = str(n)\n",
    "    s = Link(int(string_n[0]))\n",
    "    start = s\n",
    "    \n",
    "    for num in string_n[1:]:\n",
    "        s.rest = Link(int(num))\n",
    "        s = s.rest\n",
    "    \n",
    "    return start\n",
    "    \"\"\"\n",
    "    \n",
    "    def f(n):\n",
    "        if n < 10:\n",
    "            yield n\n",
    "        else:\n",
    "            yield from f(n//10)\n",
    "            yield n % 10\n",
    "        \n",
    "    generator = f(n)\n",
    "    s = Link(next(generator))\n",
    "    start = s\n",
    "    \n",
    "    for num in generator:\n",
    "        s.rest = Link(num)\n",
    "        s = s.rest\n",
    "    \n",
    "    return start"
   ]
  },
  {
   "cell_type": "code",
   "execution_count": 291,
   "id": "99e03f80",
   "metadata": {},
   "outputs": [
    {
     "data": {
      "text/plain": [
       "Link(2, Link(3, Link(4, Link(5))))"
      ]
     },
     "execution_count": 291,
     "metadata": {},
     "output_type": "execute_result"
    }
   ],
   "source": [
    "store_digits(2345)"
   ]
  },
  {
   "cell_type": "code",
   "execution_count": 292,
   "id": "ebc4bce8",
   "metadata": {},
   "outputs": [
    {
     "data": {
      "text/plain": [
       "Link(8, Link(7, Link(6)))"
      ]
     },
     "execution_count": 292,
     "metadata": {},
     "output_type": "execute_result"
    }
   ],
   "source": [
    "store_digits(876)"
   ]
  },
  {
   "cell_type": "code",
   "execution_count": 293,
   "id": "caa6504c",
   "metadata": {},
   "outputs": [],
   "source": [
    "import inspect, re"
   ]
  },
  {
   "cell_type": "code",
   "execution_count": 294,
   "id": "dea177d6",
   "metadata": {},
   "outputs": [],
   "source": [
    "cleaned = re.sub(r\"#.*\\\\n\", '', re.sub(r'\"{3}[\\s\\S]*?\"{3}', '', inspect.getsource(store_digits)))\n",
    ">>> print(\"Do not use str or reversed!\") if any([r in cleaned for r in [\"str\", \"reversed\"]]) else None\n",
    ">>> link1 = Link(3, Link(Link(4), Link(5, Link(6))))"
   ]
  },
  {
   "cell_type": "code",
   "execution_count": 1,
   "id": "b15d9fc8",
   "metadata": {},
   "outputs": [],
   "source": [
    "class Link:\n",
    "    \"\"\"A linked list.\n",
    "\n",
    "    >>> s = Link(1)\n",
    "    >>> s.first\n",
    "    1\n",
    "    >>> s.rest is Link.empty\n",
    "    True\n",
    "    >>> s = Link(2, Link(3, Link(4)))\n",
    "    >>> s.first = 5\n",
    "    >>> s.rest.first = 6\n",
    "    >>> s.rest.rest = Link.empty\n",
    "    >>> s                                    # Displays the contents of repr(s)\n",
    "    Link(5, Link(6))\n",
    "    >>> s.rest = Link(7, Link(Link(8, Link(9))))\n",
    "    >>> s\n",
    "    Link(5, Link(7, Link(Link(8, Link(9)))))\n",
    "    >>> print(s)                             # Prints str(s)\n",
    "    <5 7 <8 9>>\n",
    "    \"\"\"\n",
    "    empty = ()\n",
    "\n",
    "    def __init__(self, first, rest=empty):\n",
    "        assert rest is Link.empty or isinstance(rest, Link)\n",
    "        self.first = first\n",
    "        self.rest = rest\n",
    "\n",
    "    def __repr__(self):\n",
    "        if self.rest is not Link.empty:\n",
    "            rest_repr = ', ' + repr(self.rest)\n",
    "        else:\n",
    "            rest_repr = ''\n",
    "        return 'Link(' + repr(self.first) + rest_repr + ')'\n",
    "\n",
    "    def __str__(self):\n",
    "        string = '<'\n",
    "        while self.rest is not Link.empty:\n",
    "            string += str(self.first) + ' '\n",
    "            self = self.rest\n",
    "        return string + str(self.first) + '>'"
   ]
  },
  {
   "cell_type": "code",
   "execution_count": 60,
   "id": "61f7b445",
   "metadata": {
    "scrolled": true
   },
   "outputs": [],
   "source": [
    "def deep_map_mut(fn, link):\n",
    "    \"\"\"Mutates a deep link by replacing each item found with the\n",
    "    result of calling fn on the item.  Does NOT create new Links (so\n",
    "    no use of Link's constructor)\n",
    "\n",
    "    Does not return the modified Link object.\n",
    "\n",
    "    >>> link1 = Link(3, Link(Link(4), Link(5, Link(6))))\n",
    "    >>> # Disallow the use of making new Links before calling deep_map_mut\n",
    "    >>> Link.__init__, hold = lambda *args: print(\"Do not create any new Links.\"), Link.__init__\n",
    "    >>> deep_map_mut(lambda x: x * x, link1)\n",
    "    >>> Link.__init__ = hold\n",
    "    >>> print(link1)\n",
    "    <9 <16> 25 36>\n",
    "    \"\"\"\n",
    "    \"*** YOUR CODE HERE ***\"\n",
    "    \n",
    "    node = link\n",
    "    \n",
    "    while node.rest != ():\n",
    "        if type(node.first) == int:\n",
    "            value = node.first\n",
    "            node.first = fn(value)\n",
    "        elif type(node.first) == Link:\n",
    "            value = node.first.first\n",
    "            node.first.first = fn(value)\n",
    "        node = node.rest\n",
    "        \n",
    "    if type(node.first) == int:\n",
    "        value = node.first\n",
    "        node.first = fn(value)\n",
    "    elif type(node.first) == Link:\n",
    "        value = node.first.first\n",
    "        node.first.first = fn(value)"
   ]
  },
  {
   "cell_type": "code",
   "execution_count": 61,
   "id": "fc3645c5",
   "metadata": {},
   "outputs": [],
   "source": [
    "link1 = Link(3, Link(Link(4), Link(5, Link(6))))"
   ]
  },
  {
   "cell_type": "code",
   "execution_count": 62,
   "id": "ee199cfe",
   "metadata": {},
   "outputs": [],
   "source": [
    "deep_map_mut(lambda x: x * x, link1)"
   ]
  },
  {
   "cell_type": "code",
   "execution_count": 63,
   "id": "d21c76a3",
   "metadata": {},
   "outputs": [
    {
     "name": "stdout",
     "output_type": "stream",
     "text": [
      "<9 <16> 25 36>\n"
     ]
    }
   ],
   "source": [
    ">>> link1 = Link(3, Link(Link(4), Link(5, Link(6))))\n",
    ">>> # Disallow the use of making new Links before calling deep_map_mut\n",
    ">>> Link.__init__, hold = lambda *args: print(\"Do not create any new Links.\"), Link.__init__\n",
    ">>> deep_map_mut(lambda x: x * x, link1)\n",
    ">>> Link.__init__ = hold\n",
    ">>> print(link1)"
   ]
  },
  {
   "cell_type": "code",
   "execution_count": 99,
   "id": "c6b2622c",
   "metadata": {},
   "outputs": [],
   "source": [
    "def two_list(vals, amounts):\n",
    "    \"\"\"\n",
    "    Returns a linked list according to the two lists that were passed in. Assume\n",
    "    vals and amounts are the same size. Elements in vals represent the value, and the\n",
    "    corresponding element in amounts represents the number of this value desired in the\n",
    "    final linked list. Assume all elements in amounts are greater than 0. Assume both\n",
    "    lists have at least one element.\n",
    "\n",
    "    >>> a = [1, 3, 2]\n",
    "    >>> b = [1, 1, 1]\n",
    "    >>> c = two_list(a, b)\n",
    "    >>> c\n",
    "    Link(1, Link(3, Link(2)))\n",
    "    >>> a = [1, 3, 2]\n",
    "    >>> b = [2, 2, 1]\n",
    "    >>> c = two_list(a, b)\n",
    "    >>> c\n",
    "    Link(1, Link(1, Link(3, Link(3, Link(2)))))\n",
    "    \"\"\"\n",
    "    \"*** YOUR CODE HERE ***\"\n",
    "    s = Link('temp')\n",
    "    start = s\n",
    "    for val, num in zip(vals, amounts):\n",
    "        for i in range(num):\n",
    "            s.rest = Link(val)\n",
    "            s = s.rest\n",
    "    return start.rest"
   ]
  },
  {
   "cell_type": "code",
   "execution_count": 100,
   "id": "b15f7457",
   "metadata": {},
   "outputs": [],
   "source": [
    ">>> a = [1, 3, 2]\n",
    ">>> b = [1, 1, 1]\n",
    ">>> c = two_list(a, b)"
   ]
  },
  {
   "cell_type": "code",
   "execution_count": 101,
   "id": "51269e75",
   "metadata": {},
   "outputs": [
    {
     "data": {
      "text/plain": [
       "Link(1, Link(3, Link(2)))"
      ]
     },
     "execution_count": 101,
     "metadata": {},
     "output_type": "execute_result"
    }
   ],
   "source": [
    "c"
   ]
  },
  {
   "cell_type": "code",
   "execution_count": 102,
   "id": "7a5fc7fd",
   "metadata": {},
   "outputs": [
    {
     "data": {
      "text/plain": [
       "Link(1, Link(1, Link(3, Link(3, Link(2)))))"
      ]
     },
     "execution_count": 102,
     "metadata": {},
     "output_type": "execute_result"
    }
   ],
   "source": [
    ">>> a = [1, 3, 2]\n",
    ">>> b = [2, 2, 1]\n",
    ">>> c = two_list(a, b)\n",
    ">>> c"
   ]
  },
  {
   "cell_type": "code",
   "execution_count": null,
   "id": "7e4ad15c",
   "metadata": {},
   "outputs": [],
   "source": [
    "    generator = f(n)\n",
    "    s = Link(next(generator))\n",
    "    start = s\n",
    "    \n",
    "    for num in generator:\n",
    "        s.rest = Link(num)\n",
    "        s = s.rest"
   ]
  }
 ],
 "metadata": {
  "kernelspec": {
   "display_name": "Python 3 (ipykernel)",
   "language": "python",
   "name": "python3"
  },
  "language_info": {
   "codemirror_mode": {
    "name": "ipython",
    "version": 3
   },
   "file_extension": ".py",
   "mimetype": "text/x-python",
   "name": "python",
   "nbconvert_exporter": "python",
   "pygments_lexer": "ipython3",
   "version": "3.8.11"
  }
 },
 "nbformat": 4,
 "nbformat_minor": 5
}
