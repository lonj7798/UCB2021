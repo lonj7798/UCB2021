{
 "cells": [
  {
   "cell_type": "code",
   "execution_count": 2,
   "id": "cb76aa39",
   "metadata": {},
   "outputs": [],
   "source": [
    "def mobile(left, right):\n",
    "    \"\"\"Construct a mobile from a left arm and a right arm.\"\"\"\n",
    "    assert is_arm(left), \"left must be a arm\"\n",
    "    assert is_arm(right), \"right must be a arm\"\n",
    "    return ['mobile', left, right]\n",
    "\n",
    "\n",
    "def is_mobile(m):\n",
    "    \"\"\"Return whether m is a mobile.\"\"\"\n",
    "    return type(m) == list and len(m) == 3 and m[0] == 'mobile'\n",
    "\n",
    "\n",
    "def left(m):\n",
    "    \"\"\"Select the left arm of a mobile.\"\"\"\n",
    "    assert is_mobile(m), \"must call left on a mobile\"\n",
    "    return m[1]\n",
    "\n",
    "\n",
    "def right(m):\n",
    "    \"\"\"Select the right arm of a mobile.\"\"\"\n",
    "    assert is_mobile(m), \"must call right on a mobile\"\n",
    "    return m[2]"
   ]
  },
  {
   "cell_type": "code",
   "execution_count": 3,
   "id": "0eedaabf",
   "metadata": {},
   "outputs": [],
   "source": [
    "def arm(length, mobile_or_planet):\n",
    "    \"\"\"Construct a arm: a length of rod with a mobile or planet at the end.\"\"\"\n",
    "    assert is_mobile(mobile_or_planet) or is_planet(mobile_or_planet)\n",
    "    return ['arm', length, mobile_or_planet]\n",
    "\n",
    "\n",
    "def is_arm(s):\n",
    "    \"\"\"Return whether s is a arm.\"\"\"\n",
    "    return type(s) == list and len(s) == 3 and s[0] == 'arm'\n",
    "\n",
    "\n",
    "def length(s):\n",
    "    \"\"\"Select the length of a arm.\"\"\"\n",
    "    assert is_arm(s), \"must call length on a arm\"\n",
    "    return s[1]\n",
    "\n",
    "\n",
    "def end(s):\n",
    "    \"\"\"Select the mobile or planet hanging at the end of a arm.\"\"\"\n",
    "    assert is_arm(s), \"must call end on a arm\"\n",
    "    return s[2]"
   ]
  },
  {
   "cell_type": "code",
   "execution_count": 4,
   "id": "a82c7e11",
   "metadata": {},
   "outputs": [],
   "source": [
    "def planet(size):\n",
    "    \"\"\"Construct a planet of some size.\"\"\"\n",
    "    assert size > 0\n",
    "    \"*** YOUR CODE HERE ***\"\n",
    "    return ['planet', size]\n",
    "\n",
    "\n",
    "def size(w):\n",
    "    \"\"\"Select the size of a planet.\"\"\"\n",
    "    assert is_planet(w), 'must call size on a planet'\n",
    "    \"*** YOUR CODE HERE ***\"\n",
    "    return w[1]\n",
    "    \n",
    "\n",
    "\n",
    "def is_planet(w):\n",
    "    \"\"\"Whether w is a planet.\"\"\"\n",
    "    return type(w) == list and len(w) == 2 and w[0] == 'planet'"
   ]
  },
  {
   "cell_type": "code",
   "execution_count": 5,
   "id": "c9b5e4c8",
   "metadata": {},
   "outputs": [],
   "source": [
    "def examples():\n",
    "    t = mobile(arm(1, planet(2)),\n",
    "               arm(2, planet(1)))\n",
    "    u = mobile(arm(5, planet(1)),\n",
    "               arm(1, mobile(arm(2, planet(3)),\n",
    "                              arm(3, planet(2)))))\n",
    "    v = mobile(arm(4, t), arm(2, u))\n",
    "    return (t, u, v)"
   ]
  },
  {
   "cell_type": "code",
   "execution_count": 6,
   "id": "f1c6c5cb",
   "metadata": {},
   "outputs": [],
   "source": [
    "def total_weight(m):\n",
    "    \"\"\"Return the total weight of m, a planet or mobile.\n",
    "\n",
    "    >>> t, u, v = examples()\n",
    "    >>> total_weight(t)\n",
    "    3\n",
    "    >>> total_weight(u)\n",
    "    6\n",
    "    >>> total_weight(v)\n",
    "    9\n",
    "    >>> from construct_check import check\n",
    "    >>> # checking for abstraction barrier violations by banning indexing\n",
    "    >>> check(HW_SOURCE_FILE, 'total_weight', ['Index'])\n",
    "    True\n",
    "    \"\"\"\n",
    "    if is_planet(m):\n",
    "        return size(m)\n",
    "    else:\n",
    "        assert is_mobile(m), \"must get total weight of a mobile or a planet\"\n",
    "        return total_weight(end(left(m))) + total_weight(end(right(m)))"
   ]
  },
  {
   "cell_type": "code",
   "execution_count": 7,
   "id": "8f857a45",
   "metadata": {},
   "outputs": [],
   "source": [
    "t, u, v = examples()"
   ]
  },
  {
   "cell_type": "code",
   "execution_count": 8,
   "id": "895f4453",
   "metadata": {},
   "outputs": [],
   "source": [
    "def balanced(m):\n",
    "    \"\"\"Return whether m is balanced.\n",
    "\n",
    "    >>> t, u, v = examples()\n",
    "    >>> balanced(t)\n",
    "    True\n",
    "    >>> balanced(v)\n",
    "    True\n",
    "    >>> w = mobile(arm(3, t), arm(2, u))\n",
    "    >>> balanced(w)\n",
    "    False\n",
    "    >>> balanced(mobile(arm(1, v), arm(1, w)))\n",
    "    False\n",
    "    >>> balanced(mobile(arm(1, w), arm(1, v)))\n",
    "    False\n",
    "    >>> from construct_check import check\n",
    "    >>> # checking for abstraction barrier violations by banning indexing\n",
    "    >>> check(HW_SOURCE_FILE, 'balanced', ['Index'])\n",
    "    True\n",
    "    \"\"\"\n",
    "    \"*** YOUR CODE HERE ***\"\n",
    "    \n",
    "    \n",
    "    def inner_func(m):\n",
    "        if is_planet(end(left(m))) and is_planet(end(right(m))): # left: palent / right: planet\n",
    "            if size(end(left(m))) * length(left(m)) != size(end(right(m))) * length(right(m)): # compare the torque\n",
    "                return False\n",
    "            else:\n",
    "                return size(end(left(m))) + size(end(right(m)))\n",
    "\n",
    "        elif is_planet(end(left(m))) and is_mobile(end(right(m))): # left: planet / right: mobile\n",
    "            right_total = inner_func(end(right(m)))\n",
    "            if size(end(left(m))) * length(left(m)) != right_total * length(right(m)):\n",
    "                return False\n",
    "            else:\n",
    "                return size(end(left(m))) + right_total\n",
    "\n",
    "        elif is_mobile(end(left(m))) and is_planet(end(right(m))): # left: planet / right: mobile\n",
    "            left_total = inner_func(end(left(m)))\n",
    "            if left_total * length(left(m)) != size(end(right(m))) * length(right(m)):\n",
    "                return False\n",
    "            else:\n",
    "                return left_total + size(end(right(m)))\n",
    "\n",
    "        else: # left: mobile / right: mobile\n",
    "            left_total = inner_func(end(left(m)))\n",
    "            right_total = inner_func(end(right(m)))\n",
    "\n",
    "            if left_total * length(left(m)) != right_total * length(right(m)):\n",
    "                return False\n",
    "            else:\n",
    "                return left_total + right_total\n",
    "            \n",
    "    return bool(inner_func(m))"
   ]
  },
  {
   "cell_type": "code",
   "execution_count": 37,
   "id": "8e175721",
   "metadata": {},
   "outputs": [
    {
     "data": {
      "text/plain": [
       "['mobile', ['arm', 1, ['planet', 2]], ['arm', 2, ['planet', 1]]]"
      ]
     },
     "execution_count": 37,
     "metadata": {},
     "output_type": "execute_result"
    }
   ],
   "source": [
    "t"
   ]
  },
  {
   "cell_type": "code",
   "execution_count": 38,
   "id": "d011c829",
   "metadata": {},
   "outputs": [
    {
     "data": {
      "text/plain": [
       "True"
      ]
     },
     "execution_count": 38,
     "metadata": {},
     "output_type": "execute_result"
    }
   ],
   "source": [
    "t, u, v = examples()\n",
    "balanced(t)"
   ]
  },
  {
   "cell_type": "code",
   "execution_count": 39,
   "id": "6c32204f",
   "metadata": {},
   "outputs": [
    {
     "data": {
      "text/plain": [
       "True"
      ]
     },
     "execution_count": 39,
     "metadata": {},
     "output_type": "execute_result"
    }
   ],
   "source": [
    "balanced(v)"
   ]
  },
  {
   "cell_type": "code",
   "execution_count": 40,
   "id": "7a0878fc",
   "metadata": {},
   "outputs": [
    {
     "data": {
      "text/plain": [
       "True"
      ]
     },
     "execution_count": 40,
     "metadata": {},
     "output_type": "execute_result"
    }
   ],
   "source": [
    "balanced(u)"
   ]
  },
  {
   "cell_type": "code",
   "execution_count": 41,
   "id": "f1d55af9",
   "metadata": {},
   "outputs": [
    {
     "data": {
      "text/plain": [
       "False"
      ]
     },
     "execution_count": 41,
     "metadata": {},
     "output_type": "execute_result"
    }
   ],
   "source": [
    "w = mobile(arm(3, t), arm(2, u))\n",
    "balanced(w)"
   ]
  },
  {
   "cell_type": "code",
   "execution_count": 42,
   "id": "95ad684e",
   "metadata": {},
   "outputs": [
    {
     "data": {
      "text/plain": [
       "False"
      ]
     },
     "execution_count": 42,
     "metadata": {},
     "output_type": "execute_result"
    }
   ],
   "source": [
    "balanced(mobile(arm(1, v), arm(1, w)))"
   ]
  },
  {
   "cell_type": "code",
   "execution_count": 43,
   "id": "b688fd18",
   "metadata": {},
   "outputs": [
    {
     "data": {
      "text/plain": [
       "False"
      ]
     },
     "execution_count": 43,
     "metadata": {},
     "output_type": "execute_result"
    }
   ],
   "source": [
    "balanced(mobile(arm(1, w), arm(1, v)))"
   ]
  },
  {
   "cell_type": "code",
   "execution_count": 45,
   "id": "42ac2e55",
   "metadata": {},
   "outputs": [
    {
     "data": {
      "text/plain": [
       "['mobile', ['arm', 1, ['planet', 2]], ['arm', 2, ['planet', 1]]]"
      ]
     },
     "execution_count": 45,
     "metadata": {},
     "output_type": "execute_result"
    }
   ],
   "source": [
    "t"
   ]
  },
  {
   "cell_type": "code",
   "execution_count": 46,
   "id": "c8b02558",
   "metadata": {
    "scrolled": true
   },
   "outputs": [
    {
     "data": {
      "text/plain": [
       "['mobile',\n",
       " ['arm', 5, ['planet', 1]],\n",
       " ['arm', 1, ['mobile', ['arm', 2, ['planet', 3]], ['arm', 3, ['planet', 2]]]]]"
      ]
     },
     "execution_count": 46,
     "metadata": {},
     "output_type": "execute_result"
    }
   ],
   "source": [
    "u"
   ]
  },
  {
   "cell_type": "code",
   "execution_count": 47,
   "id": "360ba1c6",
   "metadata": {},
   "outputs": [
    {
     "data": {
      "text/plain": [
       "['mobile',\n",
       " ['arm', 4, ['mobile', ['arm', 1, ['planet', 2]], ['arm', 2, ['planet', 1]]]],\n",
       " ['arm',\n",
       "  2,\n",
       "  ['mobile',\n",
       "   ['arm', 5, ['planet', 1]],\n",
       "   ['arm',\n",
       "    1,\n",
       "    ['mobile', ['arm', 2, ['planet', 3]], ['arm', 3, ['planet', 2]]]]]]]"
      ]
     },
     "execution_count": 47,
     "metadata": {},
     "output_type": "execute_result"
    }
   ],
   "source": [
    "v"
   ]
  },
  {
   "cell_type": "code",
   "execution_count": null,
   "id": "7d5ce863",
   "metadata": {},
   "outputs": [],
   "source": [
    "def totals_tree(m):\n",
    "    \"\"\"Return a tree representing the mobile with its total weight at the root.\n",
    "\n",
    "    >>> t, u, v = examples()\n",
    "    >>> print_tree(totals_tree(t))\n",
    "    3\n",
    "      2\n",
    "      1\n",
    "    >>> print_tree(totals_tree(u))\n",
    "    6\n",
    "      1\n",
    "      5\n",
    "        3\n",
    "        2\n",
    "    >>> print_tree(totals_tree(v))\n",
    "    9\n",
    "      3\n",
    "        2\n",
    "        1\n",
    "      6\n",
    "        1\n",
    "        5\n",
    "          3\n",
    "          2\n",
    "    >>> from construct_check import check\n",
    "    >>> # checking for abstraction barrier violations by banning indexing\n",
    "    >>> check(HW_SOURCE_FILE, 'totals_tree', ['Index'])\n",
    "    True\n",
    "    \"\"\"\n",
    "    \"*** YOUR CODE HERE ***\"\n",
    "        "
   ]
  },
  {
   "cell_type": "markdown",
   "id": "401dac6c",
   "metadata": {},
   "source": [
    "### Q5"
   ]
  },
  {
   "cell_type": "code",
   "execution_count": 12,
   "id": "b14178df",
   "metadata": {},
   "outputs": [],
   "source": [
    "def change_abstraction(change):\n",
    "    \"\"\"\n",
    "    For testing purposes.\n",
    "    >>> change_abstraction(True)\n",
    "    >>> change_abstraction.changed\n",
    "    True\n",
    "    \"\"\"\n",
    "    change_abstraction.changed = change\n",
    "\n",
    "\n",
    "change_abstraction.changed = False\n",
    "\n",
    "\n",
    "# Tree ADT\n",
    "\n",
    "def tree(label, branches=[]):\n",
    "    \"\"\"Construct a tree with the given label value and a list of branches.\"\"\"\n",
    "    if change_abstraction.changed:\n",
    "        for branch in branches:\n",
    "            assert is_tree(branch), 'branches must be trees'\n",
    "        return {'label': label, 'branches': list(branches)}\n",
    "    else:\n",
    "        for branch in branches:\n",
    "            assert is_tree(branch), 'branches must be trees'\n",
    "        return [label] + list(branches)\n",
    "\n",
    "\n",
    "def label(tree):\n",
    "    \"\"\"Return the label value of a tree.\"\"\"\n",
    "    if change_abstraction.changed:\n",
    "        return tree['label']\n",
    "    else:\n",
    "        return tree[0]\n",
    "\n",
    "\n",
    "def branches(tree):\n",
    "    \"\"\"Return the list of branches of the given tree.\"\"\"\n",
    "    if change_abstraction.changed:\n",
    "        return tree['branches']\n",
    "    else:\n",
    "        return tree[1:]\n",
    "\n",
    "\n",
    "def is_tree(tree):\n",
    "    \"\"\"Returns True if the given tree is a tree, and False otherwise.\"\"\"\n",
    "    if change_abstraction.changed:\n",
    "        if type(tree) != dict or len(tree) != 2:\n",
    "            return False\n",
    "        for branch in branches(tree):\n",
    "            if not is_tree(branch):\n",
    "                return False\n",
    "        return True\n",
    "    else:\n",
    "        if type(tree) != list or len(tree) < 1:\n",
    "            return False\n",
    "        for branch in branches(tree):\n",
    "            if not is_tree(branch):\n",
    "                return False\n",
    "        return True\n",
    "\n",
    "\n",
    "def is_leaf(tree):\n",
    "    \"\"\"Returns True if the given tree's list of branches is empty, and False\n",
    "    otherwise.\n",
    "    \"\"\"\n",
    "    return not branches(tree)\n",
    "\n",
    "\n",
    "def print_tree(t, indent=0):\n",
    "    \"\"\"Print a representation of this tree in which each node is\n",
    "    indented by two spaces times its depth from the root.\n",
    "\n",
    "    >>> print_tree(tree(1))\n",
    "    1\n",
    "    >>> print_tree(tree(1, [tree(2)]))\n",
    "    1\n",
    "      2\n",
    "    >>> numbers = tree(1, [tree(2), tree(3, [tree(4), tree(5)]), tree(6, [tree(7)])])\n",
    "    >>> print_tree(numbers)\n",
    "    1\n",
    "      2\n",
    "      3\n",
    "        4\n",
    "        5\n",
    "      6\n",
    "        7\n",
    "    \"\"\"\n",
    "    print('  ' * indent + str(label(t)))\n",
    "    for b in branches(t):\n",
    "        print_tree(b, indent + 1)\n",
    "\n",
    "\n",
    "def copy_tree(t):\n",
    "    \"\"\"Returns a copy of t. Only for testing purposes.\n",
    "\n",
    "    >>> t = tree(5)\n",
    "    >>> copy = copy_tree(t)\n",
    "    >>> t = tree(6)\n",
    "    >>> print_tree(copy)\n",
    "    5\n",
    "    \"\"\"\n",
    "    return tree(label(t), [copy_tree(b) for b in branches(t)])"
   ]
  },
  {
   "cell_type": "code",
   "execution_count": 13,
   "id": "24323afe",
   "metadata": {},
   "outputs": [],
   "source": [
    "def replace_loki_at_leaf(t, lokis_replacement):\n",
    "    if not is_leaf(t):\n",
    "        return tree(label(t), [replace_loki_at_leaf(b, lokis_replacement) for b in branches(t)])\n",
    "    \n",
    "    else:\n",
    "        if label(t) == 'loki':\n",
    "            return tree(lokis_replacement)\n",
    "        else:\n",
    "            return tree(label(t))"
   ]
  },
  {
   "cell_type": "code",
   "execution_count": 14,
   "id": "41c1ddc7",
   "metadata": {},
   "outputs": [],
   "source": [
    "yggdrasil = tree('odin',\n",
    "                  [tree('balder',\n",
    "                        [tree('loki'),\n",
    "                         tree('freya')]),\n",
    "                   tree('frigg',\n",
    "                        [tree('loki')]),\n",
    "                   tree('loki',\n",
    "                        [tree('sif'),\n",
    "                         tree('loki')]),\n",
    "                   tree('loki')])"
   ]
  },
  {
   "cell_type": "code",
   "execution_count": 95,
   "id": "4e734dbb",
   "metadata": {},
   "outputs": [],
   "source": [
    "laerad = copy_tree(yggdrasil)"
   ]
  },
  {
   "cell_type": "code",
   "execution_count": 96,
   "id": "216449de",
   "metadata": {},
   "outputs": [
    {
     "name": "stdout",
     "output_type": "stream",
     "text": [
      "odin\n",
      "  balder\n",
      "    loki\n",
      "    freya\n",
      "  frigg\n",
      "    loki\n",
      "  loki\n",
      "    sif\n",
      "    loki\n",
      "  loki\n"
     ]
    }
   ],
   "source": [
    "print_tree(yggdrasil)"
   ]
  },
  {
   "cell_type": "code",
   "execution_count": 101,
   "id": "9bf63006",
   "metadata": {
    "scrolled": true
   },
   "outputs": [
    {
     "name": "stdout",
     "output_type": "stream",
     "text": [
      "odin\n",
      "  balder\n",
      "    freya\n",
      "    freya\n",
      "  frigg\n",
      "    freya\n",
      "  loki\n",
      "    sif\n",
      "    freya\n",
      "  freya\n"
     ]
    }
   ],
   "source": [
    "print_tree(replace_loki_at_leaf(yggdrasil, 'freya'))"
   ]
  },
  {
   "cell_type": "code",
   "execution_count": 106,
   "id": "c55e670b",
   "metadata": {},
   "outputs": [
    {
     "data": {
      "text/plain": [
       "[[2], [3, [4], [5]], [6, [7]]]"
      ]
     },
     "execution_count": 106,
     "metadata": {},
     "output_type": "execute_result"
    }
   ],
   "source": [
    "numbers = tree(1, [tree(2), tree(3, [tree(4), tree(5)]), tree(6, [tree(7)])])\n",
    "branches(numbers)"
   ]
  },
  {
   "cell_type": "code",
   "execution_count": 62,
   "id": "b3f27c12",
   "metadata": {},
   "outputs": [],
   "source": [
    "def has_path(t, word):\n",
    "    \"\"\"Return whether there is a path in a tree where the entries along the path\n",
    "    spell out a particular word.\n",
    "\n",
    "    >>> greetings = tree('h', [tree('i'),\n",
    "    ...                        tree('e', [tree('l', [tree('l', [tree('o')])]),\n",
    "    ...                                   tree('y')])])\n",
    "    >>> print_tree(greetings)\n",
    "    h\n",
    "      i\n",
    "      e\n",
    "        l\n",
    "          l\n",
    "            o\n",
    "        y\n",
    "    >>> has_path(greetings, 'h')\n",
    "    True\n",
    "    >>> has_path(greetings, 'i')\n",
    "    False\n",
    "    >>> has_path(greetings, 'hi')\n",
    "    True\n",
    "    >>> has_path(greetings, 'hello')\n",
    "    True\n",
    "    >>> has_path(greetings, 'hey')\n",
    "    True\n",
    "    >>> has_path(greetings, 'bye')\n",
    "    False\n",
    "    >>> has_path(greetings, 'hint')\n",
    "    False\n",
    "    \"\"\"\n",
    "    assert len(word) > 0, 'no path for empty word.'\n",
    "    \"*** YOUR CODE HERE ***\"\n",
    "    \n",
    "    def inner_func(t, word):\n",
    "        if not word:\n",
    "            return True\n",
    "\n",
    "        if label(t) == word[0]:\n",
    "            if is_tree(t) and len(word) > 1:\n",
    "                for branch in branches(t):\n",
    "                    if word[1] == label(branch):\n",
    "                        return inner_func(branch, word[1:])\n",
    "            elif is_leaf(t):\n",
    "                return True\n",
    "            elif len(word) == 1:\n",
    "                return True\n",
    "            \n",
    "    if inner_func(t, word):\n",
    "        return True\n",
    "    else:\n",
    "        return False"
   ]
  },
  {
   "cell_type": "code",
   "execution_count": 63,
   "id": "bda73e63",
   "metadata": {},
   "outputs": [],
   "source": [
    "greetings = tree('h', [tree('i'),\n",
    "                        tree('e', [tree('l', [tree('l', [tree('o')])]),\n",
    "                                   tree('y')])])"
   ]
  },
  {
   "cell_type": "code",
   "execution_count": 64,
   "id": "f6036d94",
   "metadata": {},
   "outputs": [
    {
     "data": {
      "text/plain": [
       "True"
      ]
     },
     "execution_count": 64,
     "metadata": {},
     "output_type": "execute_result"
    }
   ],
   "source": [
    "has_path(greetings, 'h')"
   ]
  },
  {
   "cell_type": "code",
   "execution_count": 65,
   "id": "dedd6f54",
   "metadata": {},
   "outputs": [
    {
     "data": {
      "text/plain": [
       "False"
      ]
     },
     "execution_count": 65,
     "metadata": {},
     "output_type": "execute_result"
    }
   ],
   "source": [
    "has_path(greetings, 'i')"
   ]
  },
  {
   "cell_type": "code",
   "execution_count": 66,
   "id": "a176266a",
   "metadata": {},
   "outputs": [
    {
     "data": {
      "text/plain": [
       "True"
      ]
     },
     "execution_count": 66,
     "metadata": {},
     "output_type": "execute_result"
    }
   ],
   "source": [
    "has_path(greetings, 'hi')"
   ]
  },
  {
   "cell_type": "code",
   "execution_count": 67,
   "id": "2c37d140",
   "metadata": {},
   "outputs": [
    {
     "data": {
      "text/plain": [
       "True"
      ]
     },
     "execution_count": 67,
     "metadata": {},
     "output_type": "execute_result"
    }
   ],
   "source": [
    "has_path(greetings, 'hello')"
   ]
  },
  {
   "cell_type": "code",
   "execution_count": 68,
   "id": "32f0e69d",
   "metadata": {},
   "outputs": [
    {
     "data": {
      "text/plain": [
       "True"
      ]
     },
     "execution_count": 68,
     "metadata": {},
     "output_type": "execute_result"
    }
   ],
   "source": [
    "has_path(greetings, 'hey')"
   ]
  },
  {
   "cell_type": "code",
   "execution_count": 69,
   "id": "f51fa832",
   "metadata": {},
   "outputs": [
    {
     "data": {
      "text/plain": [
       "False"
      ]
     },
     "execution_count": 69,
     "metadata": {},
     "output_type": "execute_result"
    }
   ],
   "source": [
    "has_path(greetings, 'bye')"
   ]
  },
  {
   "cell_type": "code",
   "execution_count": 70,
   "id": "278d0551",
   "metadata": {},
   "outputs": [
    {
     "data": {
      "text/plain": [
       "False"
      ]
     },
     "execution_count": 70,
     "metadata": {},
     "output_type": "execute_result"
    }
   ],
   "source": [
    "has_path(greetings, 'hint')"
   ]
  },
  {
   "cell_type": "code",
   "execution_count": null,
   "id": "c249b8b4",
   "metadata": {},
   "outputs": [],
   "source": []
  }
 ],
 "metadata": {
  "kernelspec": {
   "display_name": "Python 3 (ipykernel)",
   "language": "python",
   "name": "python3"
  },
  "language_info": {
   "codemirror_mode": {
    "name": "ipython",
    "version": 3
   },
   "file_extension": ".py",
   "mimetype": "text/x-python",
   "name": "python",
   "nbconvert_exporter": "python",
   "pygments_lexer": "ipython3",
   "version": "3.8.11"
  }
 },
 "nbformat": 4,
 "nbformat_minor": 5
}
