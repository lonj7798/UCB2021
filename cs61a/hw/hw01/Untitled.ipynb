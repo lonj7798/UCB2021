{
 "cells": [
  {
   "cell_type": "code",
   "execution_count": 1,
   "id": "e910003b",
   "metadata": {},
   "outputs": [],
   "source": [
    "from operator import add, sub"
   ]
  },
  {
   "cell_type": "code",
   "execution_count": 2,
   "id": "ace289ca",
   "metadata": {},
   "outputs": [],
   "source": [
    "f = add"
   ]
  },
  {
   "cell_type": "code",
   "execution_count": 3,
   "id": "443902e6",
   "metadata": {},
   "outputs": [
    {
     "data": {
      "text/plain": [
       "3"
      ]
     },
     "execution_count": 3,
     "metadata": {},
     "output_type": "execute_result"
    }
   ],
   "source": [
    "f(1, 2)"
   ]
  },
  {
   "cell_type": "code",
   "execution_count": 6,
   "id": "9e558777",
   "metadata": {},
   "outputs": [
    {
     "ename": "TypeError",
     "evalue": "add expected 2 arguments, got 3",
     "output_type": "error",
     "traceback": [
      "\u001b[0;31m---------------------------------------------------------------------------\u001b[0m",
      "\u001b[0;31mTypeError\u001b[0m                                 Traceback (most recent call last)",
      "\u001b[0;32m<ipython-input-6-1c2a18ab906a>\u001b[0m in \u001b[0;36m<module>\u001b[0;34m\u001b[0m\n\u001b[0;32m----> 1\u001b[0;31m \u001b[0mf\u001b[0m\u001b[0;34m(\u001b[0m\u001b[0;36m1\u001b[0m\u001b[0;34m,\u001b[0m \u001b[0;36m2\u001b[0m\u001b[0;34m,\u001b[0m \u001b[0;36m3\u001b[0m\u001b[0;34m)\u001b[0m\u001b[0;34m\u001b[0m\u001b[0;34m\u001b[0m\u001b[0m\n\u001b[0m",
      "\u001b[0;31mTypeError\u001b[0m: add expected 2 arguments, got 3"
     ]
    }
   ],
   "source": [
    "f(1, 2, 3)"
   ]
  },
  {
   "cell_type": "code",
   "execution_count": 13,
   "id": "a6c0848c",
   "metadata": {},
   "outputs": [],
   "source": [
    "def two_of_three(x, y, z):\n",
    "    nums = [x, y, z]\n",
    "    nums.sort()\n",
    "    return nums[0]**2 + nums[1]**2"
   ]
  },
  {
   "cell_type": "code",
   "execution_count": 14,
   "id": "fe364b27",
   "metadata": {},
   "outputs": [
    {
     "data": {
      "text/plain": [
       "50"
      ]
     },
     "execution_count": 14,
     "metadata": {},
     "output_type": "execute_result"
    }
   ],
   "source": [
    "two_of_three(5, 5, 5)"
   ]
  },
  {
   "cell_type": "code",
   "execution_count": 10,
   "id": "ee044e43",
   "metadata": {},
   "outputs": [],
   "source": [
    "b = [12, 2, 3].sort()"
   ]
  },
  {
   "cell_type": "code",
   "execution_count": 12,
   "id": "89d717b4",
   "metadata": {},
   "outputs": [
    {
     "name": "stdout",
     "output_type": "stream",
     "text": [
      "None\n"
     ]
    }
   ],
   "source": [
    "print(b)"
   ]
  },
  {
   "cell_type": "code",
   "execution_count": 22,
   "id": "d84ce537",
   "metadata": {},
   "outputs": [],
   "source": [
    "n = 80"
   ]
  },
  {
   "cell_type": "code",
   "execution_count": 23,
   "id": "d799a0bf",
   "metadata": {},
   "outputs": [
    {
     "name": "stdout",
     "output_type": "stream",
     "text": [
      "40\n"
     ]
    }
   ],
   "source": [
    "for i in range(n-1, 0, -1):\n",
    "        if n % i == 0:\n",
    "            print(i)\n",
    "            break"
   ]
  },
  {
   "cell_type": "code",
   "execution_count": 21,
   "id": "2b270dff",
   "metadata": {},
   "outputs": [],
   "source": [
    "\n",
    "def hailstone(n):\n",
    "    \"\"\"Print the hailstone sequence starting at n and return its\n",
    "    length.\n",
    "\n",
    "    >>> a = hailstone(10)\n",
    "    10\n",
    "    5\n",
    "    16\n",
    "    8\n",
    "    4\n",
    "    2\n",
    "    1\n",
    "    >>> a\n",
    "    7\n",
    "    \"\"\"\n",
    "    \"*** YOUR CODE HERE ***\"\n",
    "    count = 1\n",
    "    \n",
    "    while(n != 1):\n",
    "        print(n)\n",
    "        count += 1\n",
    "        \n",
    "        if n % 2 == 0:\n",
    "            n = int(n / 2)\n",
    "        else:\n",
    "            n = int(n * 3 + 1)\n",
    "            \n",
    "    print(n)\n",
    "    return count"
   ]
  },
  {
   "cell_type": "code",
   "execution_count": 22,
   "id": "35aed76e",
   "metadata": {},
   "outputs": [
    {
     "name": "stdout",
     "output_type": "stream",
     "text": [
      "10\n",
      "5\n",
      "16\n",
      "8\n",
      "4\n",
      "2\n",
      "1\n"
     ]
    },
    {
     "data": {
      "text/plain": [
       "7"
      ]
     },
     "execution_count": 22,
     "metadata": {},
     "output_type": "execute_result"
    }
   ],
   "source": [
    "hailstone(10)"
   ]
  },
  {
   "cell_type": "code",
   "execution_count": 29,
   "id": "0e5b7881",
   "metadata": {},
   "outputs": [],
   "source": [
    "a = [3, 6, 2].sort"
   ]
  },
  {
   "cell_type": "code",
   "execution_count": 33,
   "id": "127d0dbc",
   "metadata": {},
   "outputs": [],
   "source": [
    "x, y, z = 5, 2, -5"
   ]
  },
  {
   "cell_type": "code",
   "execution_count": 35,
   "id": "89b53075",
   "metadata": {},
   "outputs": [],
   "source": [
    "temp = max(x, y, z)"
   ]
  },
  {
   "cell_type": "code",
   "execution_count": 36,
   "id": "aca7a9af",
   "metadata": {},
   "outputs": [],
   "source": [
    "def change_short(x, y, limit):\n",
    "    \"\"\"Return abs(y - x) as a fraction of x, but with a limit.\n",
    "\n",
    "    >>> x, y = 2, 5\n",
    "    >>> abs(y - x) / x\n",
    "    1.5\n",
    "    >>> change_short(x, y, 100)\n",
    "    1.5\n",
    "    >>> change_short(x, y, 1)\n",
    "    1\n",
    "    >>> x = 0\n",
    "    >>> abs(y - x) / x # Cannot divide by 0\n",
    "    Traceback (most recent call last):\n",
    "    ...\n",
    "    ZeroDivisionError: division by zero\n",
    "    >>> change_short(x, y, 100)\n",
    "    100\n",
    "    >>> change_short(x, y, 1)\n",
    "    1\n",
    "    >>> # Check that your code consists of nothing but a return statement.\n",
    "    >>> # You don't need to understand the code of this test.\n",
    "    >>> import inspect, ast\n",
    "    >>> [type(x).__name__ for x in ast.parse(inspect.getsource(change_short)).body[0].body]\n",
    "    ['Expr', 'Return']\n",
    "    \"\"\"\n",
    "    return limited(x, abs(y - x) / x, limit)\n",
    "\n",
    "def limited(x, z, limit):\n",
    "    \"\"\"Logic that is common to invert and change.\"\"\"\n",
    "    if x != 0:\n",
    "        return min(z, limit)\n",
    "    else:\n",
    "        return limit"
   ]
  },
  {
   "cell_type": "code",
   "execution_count": 37,
   "id": "8de4da88",
   "metadata": {},
   "outputs": [
    {
     "data": {
      "text/plain": [
       "1.5"
      ]
     },
     "execution_count": 37,
     "metadata": {},
     "output_type": "execute_result"
    }
   ],
   "source": [
    "change_short(2, 5, 100)"
   ]
  },
  {
   "cell_type": "code",
   "execution_count": 38,
   "id": "20f1fe28",
   "metadata": {},
   "outputs": [
    {
     "data": {
      "text/plain": [
       "1"
      ]
     },
     "execution_count": 38,
     "metadata": {},
     "output_type": "execute_result"
    }
   ],
   "source": [
    "change_short(2, 5, 1)"
   ]
  },
  {
   "cell_type": "code",
   "execution_count": 39,
   "id": "6bb728ff",
   "metadata": {},
   "outputs": [
    {
     "ename": "ZeroDivisionError",
     "evalue": "division by zero",
     "output_type": "error",
     "traceback": [
      "\u001b[0;31m---------------------------------------------------------------------------\u001b[0m",
      "\u001b[0;31mZeroDivisionError\u001b[0m                         Traceback (most recent call last)",
      "\u001b[0;32m<ipython-input-39-f49bb3ae047f>\u001b[0m in \u001b[0;36m<module>\u001b[0;34m\u001b[0m\n\u001b[0;32m----> 1\u001b[0;31m \u001b[0mchange_short\u001b[0m\u001b[0;34m(\u001b[0m\u001b[0;36m0\u001b[0m\u001b[0;34m,\u001b[0m \u001b[0;36m5\u001b[0m\u001b[0;34m,\u001b[0m \u001b[0;36m100\u001b[0m\u001b[0;34m)\u001b[0m\u001b[0;34m\u001b[0m\u001b[0;34m\u001b[0m\u001b[0m\n\u001b[0m",
      "\u001b[0;32m<ipython-input-36-2210e09778b8>\u001b[0m in \u001b[0;36mchange_short\u001b[0;34m(x, y, limit)\u001b[0m\n\u001b[1;32m     24\u001b[0m     \u001b[0;34m[\u001b[0m\u001b[0;34m'Expr'\u001b[0m\u001b[0;34m,\u001b[0m \u001b[0;34m'Return'\u001b[0m\u001b[0;34m]\u001b[0m\u001b[0;34m\u001b[0m\u001b[0;34m\u001b[0m\u001b[0m\n\u001b[1;32m     25\u001b[0m     \"\"\"\n\u001b[0;32m---> 26\u001b[0;31m     \u001b[0;32mreturn\u001b[0m \u001b[0mlimited\u001b[0m\u001b[0;34m(\u001b[0m\u001b[0mx\u001b[0m\u001b[0;34m,\u001b[0m \u001b[0mabs\u001b[0m\u001b[0;34m(\u001b[0m\u001b[0my\u001b[0m \u001b[0;34m-\u001b[0m \u001b[0mx\u001b[0m\u001b[0;34m)\u001b[0m \u001b[0;34m/\u001b[0m \u001b[0mx\u001b[0m\u001b[0;34m,\u001b[0m \u001b[0mlimit\u001b[0m\u001b[0;34m)\u001b[0m\u001b[0;34m\u001b[0m\u001b[0;34m\u001b[0m\u001b[0m\n\u001b[0m\u001b[1;32m     27\u001b[0m \u001b[0;34m\u001b[0m\u001b[0m\n\u001b[1;32m     28\u001b[0m \u001b[0;32mdef\u001b[0m \u001b[0mlimited\u001b[0m\u001b[0;34m(\u001b[0m\u001b[0mx\u001b[0m\u001b[0;34m,\u001b[0m \u001b[0mz\u001b[0m\u001b[0;34m,\u001b[0m \u001b[0mlimit\u001b[0m\u001b[0;34m)\u001b[0m\u001b[0;34m:\u001b[0m\u001b[0;34m\u001b[0m\u001b[0;34m\u001b[0m\u001b[0m\n",
      "\u001b[0;31mZeroDivisionError\u001b[0m: division by zero"
     ]
    }
   ],
   "source": [
    "change_short(0, 5, 100)"
   ]
  },
  {
   "cell_type": "code",
   "execution_count": 40,
   "id": "0ae0fa9f",
   "metadata": {},
   "outputs": [],
   "source": [
    "\n",
    "def two_of_three(x, y, z):\n",
    "    \"\"\"Return a*a + b*b, where a and b are the two smallest members of the\n",
    "    positive numbers x, y, and z.\n",
    "\n",
    "    >>> two_of_three(1, 2, 3)\n",
    "    5\n",
    "    >>> two_of_three(5, 3, 1)\n",
    "    10\n",
    "    >>> two_of_three(10, 2, 8)\n",
    "    68\n",
    "    >>> two_of_three(5, 5, 5)\n",
    "    50\n",
    "    >>> # Check that your code consists of nothing but a return statement.\n",
    "    >>> # You don't need to understand the code of this test.\n",
    "    >>> import inspect, ast\n",
    "    >>> [type(x).__name__ for x in ast.parse(inspect.getsource(two_of_three)).body[0].body]\n",
    "    ['Expr', 'Return']\n",
    "    \"\"\"\n",
    "    anw = x*x + y*y + z*z - max(x, y, z)**2\n",
    "    \n",
    "    return anw\n"
   ]
  },
  {
   "cell_type": "code",
   "execution_count": 41,
   "id": "13cccef1",
   "metadata": {},
   "outputs": [
    {
     "data": {
      "text/plain": [
       "5"
      ]
     },
     "execution_count": 41,
     "metadata": {},
     "output_type": "execute_result"
    }
   ],
   "source": [
    "two_of_three(1, 2, 3)"
   ]
  },
  {
   "cell_type": "code",
   "execution_count": 42,
   "id": "1e85f429",
   "metadata": {},
   "outputs": [
    {
     "data": {
      "text/plain": [
       "10"
      ]
     },
     "execution_count": 42,
     "metadata": {},
     "output_type": "execute_result"
    }
   ],
   "source": [
    "two_of_three(5, 3, 1)"
   ]
  },
  {
   "cell_type": "code",
   "execution_count": 43,
   "id": "139fc623",
   "metadata": {},
   "outputs": [
    {
     "data": {
      "text/plain": [
       "68"
      ]
     },
     "execution_count": 43,
     "metadata": {},
     "output_type": "execute_result"
    }
   ],
   "source": [
    "two_of_three(10, 2, 8)"
   ]
  },
  {
   "cell_type": "code",
   "execution_count": 44,
   "id": "13183212",
   "metadata": {},
   "outputs": [
    {
     "data": {
      "text/plain": [
       "50"
      ]
     },
     "execution_count": 44,
     "metadata": {},
     "output_type": "execute_result"
    }
   ],
   "source": [
    "ztwo_of_three(5, 5, 5)"
   ]
  },
  {
   "cell_type": "code",
   "execution_count": 45,
   "id": "733b5909",
   "metadata": {},
   "outputs": [
    {
     "data": {
      "text/plain": [
       "50"
      ]
     },
     "execution_count": 45,
     "metadata": {},
     "output_type": "execute_result"
    }
   ],
   "source": [
    "two_of_three(5, 5, 10)"
   ]
  },
  {
   "cell_type": "code",
   "execution_count": 46,
   "id": "e88f64be",
   "metadata": {},
   "outputs": [
    {
     "data": {
      "text/plain": [
       "29"
      ]
     },
     "execution_count": 46,
     "metadata": {},
     "output_type": "execute_result"
    }
   ],
   "source": [
    "two_of_three(5, 5, 2)"
   ]
  },
  {
   "cell_type": "code",
   "execution_count": 49,
   "id": "72ac2570",
   "metadata": {},
   "outputs": [],
   "source": [
    "def largest_factor(n):\n",
    "    \"\"\"Return the largest factor of n that is smaller than n.\n",
    "\n",
    "    >>> largest_factor(15) # factors are 1, 3, 5\n",
    "    5\n",
    "    >>> largest_factor(80) # factors are 1, 2, 4, 5, 8, 10, 16, 20, 40\n",
    "    40\n",
    "    >>> largest_factor(13) # factor is 1 since 13 is prime\n",
    "    1\n",
    "    \"\"\"\n",
    "    \"*** YOUR CODE HERE ***\"\n",
    "    \n",
    "    for i in range(n-1, 0, -1):\n",
    "        if n % i == 0:\n",
    "            print(i)\n"
   ]
  },
  {
   "cell_type": "code",
   "execution_count": 50,
   "id": "d62ef432",
   "metadata": {},
   "outputs": [
    {
     "name": "stdout",
     "output_type": "stream",
     "text": [
      "5\n",
      "3\n",
      "1\n"
     ]
    }
   ],
   "source": [
    "largest_factor(15)"
   ]
  },
  {
   "cell_type": "code",
   "execution_count": 83,
   "id": "d93905ff",
   "metadata": {},
   "outputs": [],
   "source": [
    "def limited(x, z, limit):\n",
    "    \"\"\"Logic that is common to invert and change.\"\"\"\n",
    "    if x != 0:\n",
    "        return min(z/x, limit)\n",
    "    else:\n",
    "        return limit\n",
    "\n",
    "def invert_short(x, limit):\n",
    "    \"\"\"Return 1/x, but with a limit.\n",
    "\n",
    "    >>> x = 0.2\n",
    "    >>> 1/x\n",
    "    5.0\n",
    "    >>> invert_short(x, 100)\n",
    "    5.0\n",
    "    >>> invert_short(x, 2)\n",
    "    2\n",
    "\n",
    "    >>> x = 0\n",
    "    >>> 1/x  # Cannot divide by 0\n",
    "    Traceback (most recent call last):\n",
    "    ...\n",
    "    ZeroDivisionError: division by zero\n",
    "    >>> invert_short(x, 100)\n",
    "    100\n",
    "    >>> invert_short(x, 2)\n",
    "    2\n",
    "    >>> # Check that your code consists of nothing but a return statement.\n",
    "    >>> # You don't need to understand the code of this test.\n",
    "    >>> import inspect, ast\n",
    "    >>> source = inspect.getsource(invert_short)\n",
    "    >>> [type(x).__name__ for x in ast.parse(source).body[0].body]\n",
    "    ['Expr', 'Return']\n",
    "    \"\"\"\n",
    "    \n",
    "    return limited(x, 1, limit)\n",
    "\n",
    "\n",
    "\n"
   ]
  },
  {
   "cell_type": "code",
   "execution_count": 89,
   "id": "691a3ff9",
   "metadata": {},
   "outputs": [
    {
     "data": {
      "text/plain": [
       "100"
      ]
     },
     "execution_count": 89,
     "metadata": {},
     "output_type": "execute_result"
    }
   ],
   "source": [
    "invert_short(0, 100)\n"
   ]
  },
  {
   "cell_type": "code",
   "execution_count": 95,
   "id": "98526b49",
   "metadata": {},
   "outputs": [],
   "source": []
  },
  {
   "cell_type": "code",
   "execution_count": 99,
   "id": "ea39be9c",
   "metadata": {},
   "outputs": [
    {
     "data": {
      "text/plain": [
       "100"
      ]
     },
     "execution_count": 99,
     "metadata": {},
     "output_type": "execute_result"
    }
   ],
   "source": [
    "change_short(0, 5, 100)"
   ]
  },
  {
   "cell_type": "code",
   "execution_count": null,
   "id": "04a68472",
   "metadata": {},
   "outputs": [],
   "source": []
  }
 ],
 "metadata": {
  "kernelspec": {
   "display_name": "Python 3",
   "language": "python",
   "name": "python3"
  },
  "language_info": {
   "codemirror_mode": {
    "name": "ipython",
    "version": 3
   },
   "file_extension": ".py",
   "mimetype": "text/x-python",
   "name": "python",
   "nbconvert_exporter": "python",
   "pygments_lexer": "ipython3",
   "version": "3.8.11"
  }
 },
 "nbformat": 4,
 "nbformat_minor": 5
}
