{
 "cells": [
  {
   "cell_type": "code",
   "execution_count": 27,
   "id": "0d7cf060",
   "metadata": {},
   "outputs": [],
   "source": [
    "import re\n",
    "\n",
    "def roman_numerals(text):\n",
    "    \"\"\"\n",
    "    Finds any string of letters that could be a Roman numeral\n",
    "    (made up of the letters I, V, X, L, C, D, M).\n",
    "\n",
    "    >>> roman_numerals(\"Sir Richard IIV, can you tell Richard VI that Richard IV is on the phone?\")\n",
    "    ['IIV', 'VI', 'IV']\n",
    "    >>> roman_numerals(\"My TODOs: I. Groceries II. Learn how to count in Roman IV. Profit\")\n",
    "    ['I', 'II', 'IV']\n",
    "    >>> roman_numerals(\"I. Act 1 II. Act 2 III. Act 3 IV. Act 4 V. Act 5\")\n",
    "    ['I', 'II', 'III', 'IV', 'V']\n",
    "    >>> roman_numerals(\"Let's play Civ VII\")\n",
    "    ['VII']\n",
    "    >>> roman_numerals(\"i love vi so much more than emacs.\")\n",
    "    []\n",
    "    >>> roman_numerals(\"she loves ALL editors equally.\")\n",
    "    []\n",
    "    \"\"\"\n",
    "    return re.findall(r'\\b([IVXLCDM]+)\\b', text)"
   ]
  },
  {
   "cell_type": "code",
   "execution_count": 28,
   "id": "588402aa",
   "metadata": {},
   "outputs": [
    {
     "data": {
      "text/plain": [
       "['IIV', 'VI', 'IV']"
      ]
     },
     "execution_count": 28,
     "metadata": {},
     "output_type": "execute_result"
    }
   ],
   "source": [
    "roman_numerals(\"Sir Richard IIV, can you tell Richard VI that Richard IV is on the phone?\")"
   ]
  },
  {
   "cell_type": "code",
   "execution_count": 49,
   "id": "43d96b23",
   "metadata": {},
   "outputs": [],
   "source": [
    "import re\n",
    "\n",
    "def roman_numerals(text):\n",
    "    \"\"\"\n",
    "    Finds any string of letters that could be a Roman numeral\n",
    "    (made up of the letters I, V, X, L, C, D, M).\n",
    "\n",
    "    >>> roman_numerals(\"Sir Richard IIV, can you tell Richard VI that Richard IV is on the phone?\")\n",
    "    ['IIV', 'VI', 'IV']\n",
    "    >>> roman_numerals(\"My TODOs: I. Groceries II. Learn how to count in Roman IV. Profit\")\n",
    "    ['I', 'II', 'IV']\n",
    "    >>> roman_numerals(\"I. Act 1 II. Act 2 III. Act 3 IV. Act 4 V. Act 5\")\n",
    "    ['I', 'II', 'III', 'IV', 'V']\n",
    "    >>> roman_numerals(\"Let's play Civ VII\")\n",
    "    ['VII']\n",
    "    >>> roman_numerals(\"i love vi so much more than emacs.\")\n",
    "    []\n",
    "    >>> roman_numerals(\"she loves ALL editors equally.\")\n",
    "    []\n",
    "    \"\"\"\n",
    "    return re.findall(r'\\b[IVXLCDM]+\\b', text)"
   ]
  },
  {
   "cell_type": "code",
   "execution_count": 50,
   "id": "043880b0",
   "metadata": {},
   "outputs": [
    {
     "data": {
      "text/plain": [
       "['IIV', 'VI', 'IV']"
      ]
     },
     "execution_count": 50,
     "metadata": {},
     "output_type": "execute_result"
    }
   ],
   "source": [
    "roman_numerals(\"Sir Richard IIV, can you tell Richard VI that Richard IV is on the phone?\")"
   ]
  },
  {
   "cell_type": "code",
   "execution_count": 51,
   "id": "95d08373",
   "metadata": {},
   "outputs": [
    {
     "data": {
      "text/plain": [
       "['I', 'II', 'IV']"
      ]
     },
     "execution_count": 51,
     "metadata": {},
     "output_type": "execute_result"
    }
   ],
   "source": [
    "roman_numerals(\"My TODOs: I. Groceries II. Learn how to count in Roman IV. Profit\")"
   ]
  },
  {
   "cell_type": "code",
   "execution_count": 142,
   "id": "69848727",
   "metadata": {},
   "outputs": [],
   "source": [
    "\n",
    "def cs_classes(post):\n",
    "    \"\"\"\n",
    "    Returns strings that look like a Berkeley CS class,\n",
    "    starting with \"CS\", followed by a number, optionally ending with A, B, or C\n",
    "    and potentially with a space between \"CS\" and the number.\n",
    "    Case insensitive.\n",
    "\n",
    "    >>> cs_classes(\"Is it unreasonable to take CS61A, CS61B, CS70, and EE16A in the summer?\")\n",
    "    True\n",
    "    >>> cs_classes(\"how do I become a TA for cs61a? that job sounds so fun\")\n",
    "    True\n",
    "    >>> cs_classes(\"Can I take ECON101 as a CS major?\")\n",
    "    False\n",
    "    >>> cs_classes(\"Should I do the lab lites or regular labs in EE16A?\")\n",
    "    False\n",
    "    >>> cs_classes(\"What are some good CS upper division courses? I was thinking about CS 161 or CS 169a\")\n",
    "    True\n",
    "    \"\"\"\n",
    "    return bool(re.search(r'[.CS, .cs](\\d+)[A$|a$|B$|b$|C$|c$]', post))"
   ]
  },
  {
   "cell_type": "code",
   "execution_count": 143,
   "id": "4698a580",
   "metadata": {
    "scrolled": true
   },
   "outputs": [
    {
     "data": {
      "text/plain": [
       "True"
      ]
     },
     "execution_count": 143,
     "metadata": {},
     "output_type": "execute_result"
    }
   ],
   "source": [
    "cs_classes(\"Is it unreasonable to take CS61A, CS61B, CS70, and EE16A in the summer?\")"
   ]
  },
  {
   "cell_type": "code",
   "execution_count": 144,
   "id": "38a305f3",
   "metadata": {},
   "outputs": [
    {
     "data": {
      "text/plain": [
       "True"
      ]
     },
     "execution_count": 144,
     "metadata": {},
     "output_type": "execute_result"
    }
   ],
   "source": [
    "cs_classes(\"how do I become a TA for cs61a? that job sounds so fun\")"
   ]
  },
  {
   "cell_type": "code",
   "execution_count": 145,
   "id": "cd555393",
   "metadata": {},
   "outputs": [
    {
     "data": {
      "text/plain": [
       "False"
      ]
     },
     "execution_count": 145,
     "metadata": {},
     "output_type": "execute_result"
    }
   ],
   "source": [
    "cs_classes(\"Should I do the lab lites or regular labs in EE16A?\")"
   ]
  },
  {
   "cell_type": "code",
   "execution_count": 146,
   "id": "c2baea4f",
   "metadata": {},
   "outputs": [
    {
     "data": {
      "text/plain": [
       "False"
      ]
     },
     "execution_count": 146,
     "metadata": {},
     "output_type": "execute_result"
    }
   ],
   "source": [
    "cs_classes(\"Can I take ECON101 as a CS major?\")"
   ]
  },
  {
   "cell_type": "code",
   "execution_count": 147,
   "id": "aa4f5484",
   "metadata": {},
   "outputs": [
    {
     "data": {
      "text/plain": [
       "False"
      ]
     },
     "execution_count": 147,
     "metadata": {},
     "output_type": "execute_result"
    }
   ],
   "source": [
    "cs_classes(\"Should I do the lab lites or regular labs in EE16A?\")"
   ]
  },
  {
   "cell_type": "code",
   "execution_count": 148,
   "id": "fec3d3c9",
   "metadata": {},
   "outputs": [
    {
     "data": {
      "text/plain": [
       "True"
      ]
     },
     "execution_count": 148,
     "metadata": {},
     "output_type": "execute_result"
    }
   ],
   "source": [
    "cs_classes(\"What are some good CS upper division courses? I was thinking about CS 161 or CS 169a\")"
   ]
  },
  {
   "cell_type": "code",
   "execution_count": 262,
   "id": "6ae6cf2e",
   "metadata": {},
   "outputs": [],
   "source": [
    "\n",
    "\n",
    "def cs_classes(post):\n",
    "    \"\"\"\n",
    "    Returns strings that look like a Berkeley CS class,\n",
    "    starting with \"CS\", followed by a number, optionally ending with A, B, or C\n",
    "    and potentially with a space between \"CS\" and the number.\n",
    "    Case insensitive.\n",
    "\n",
    "    >>> cs_classes(\"Is it unreasonable to take CS61A, CS61B, CS70, and EE16A in the summer?\")\n",
    "    True\n",
    "    >>> cs_classes(\"how do I become a TA for cs61a? that job sounds so fun\")\n",
    "    True\n",
    "    >>> cs_classes(\"Can I take ECON101 as a CS major?\")\n",
    "    False\n",
    "    >>> cs_classes(\"Should I do the lab lites or regular labs in EE16A?\")\n",
    "    False\n",
    "    >>> cs_classes(\"What are some good CS upper division courses? I was thinking about CS 161 or CS 169a\")\n",
    "    True\n",
    "    \"\"\"\n",
    "    return bool(re.search('[Cc][Ss][0-9][\\w][ABCabc]*', post))\n"
   ]
  },
  {
   "cell_type": "code",
   "execution_count": 263,
   "id": "2c03cf33",
   "metadata": {
    "scrolled": true
   },
   "outputs": [
    {
     "data": {
      "text/plain": [
       "True"
      ]
     },
     "execution_count": 263,
     "metadata": {},
     "output_type": "execute_result"
    }
   ],
   "source": [
    "cs_classes(\"Is it unreasonable to take CS61A, CS61B, CS70, and EE16A in the summer?\")"
   ]
  },
  {
   "cell_type": "code",
   "execution_count": 264,
   "id": "edf832ed",
   "metadata": {},
   "outputs": [
    {
     "data": {
      "text/plain": [
       "True"
      ]
     },
     "execution_count": 264,
     "metadata": {},
     "output_type": "execute_result"
    }
   ],
   "source": [
    "cs_classes(\"how do I become a TA for cs61a? that job sounds so fun\")"
   ]
  },
  {
   "cell_type": "code",
   "execution_count": 265,
   "id": "d35a15aa",
   "metadata": {},
   "outputs": [
    {
     "data": {
      "text/plain": [
       "False"
      ]
     },
     "execution_count": 265,
     "metadata": {},
     "output_type": "execute_result"
    }
   ],
   "source": [
    ">>> cs_classes(\"Can I take ECON101 as a CS major?\")"
   ]
  },
  {
   "cell_type": "code",
   "execution_count": 266,
   "id": "91415242",
   "metadata": {},
   "outputs": [
    {
     "data": {
      "text/plain": [
       "False"
      ]
     },
     "execution_count": 266,
     "metadata": {},
     "output_type": "execute_result"
    }
   ],
   "source": [
    ">>> cs_classes(\"Should I do the lab lites or regular labs in EE16A?\")"
   ]
  },
  {
   "cell_type": "code",
   "execution_count": 267,
   "id": "15a31a23",
   "metadata": {},
   "outputs": [
    {
     "data": {
      "text/plain": [
       "False"
      ]
     },
     "execution_count": 267,
     "metadata": {},
     "output_type": "execute_result"
    }
   ],
   "source": [
    ">>> cs_classes(\"What are some good CS upper division courses? I was thinking about CS 161 or CS 169a\")"
   ]
  },
  {
   "cell_type": "code",
   "execution_count": 357,
   "id": "9978515d",
   "metadata": {},
   "outputs": [],
   "source": [
    "import re\n",
    "\n",
    "def match_time(text):\n",
    "    \"\"\"\n",
    "    >>> match_time(\"At 05:24AM, I had sesame bagels with cream cheese before my coffee at 7:23.\")\n",
    "    ['05:24AM', '7:23']\n",
    "    >>> match_time(\"At 23:59 I was sound asleep as the time turned to 00:00.\")\n",
    "    ['23:59', '00:00']\n",
    "    >>> match_time(\"Mix water in a 1:2 ratio with chicken stock.\")\n",
    "    []\n",
    "    >>> match_time(\"At 2:00 I pinged 127.0.0.1:80.\")\n",
    "    ['2:00']\n",
    "    \"\"\"\n",
    "    return re.findall(r\"\\s([\\d]+[:][\\d][\\d][AM|PM]*)\", text)"
   ]
  },
  {
   "cell_type": "code",
   "execution_count": null,
   "id": "fa475413",
   "metadata": {},
   "outputs": [],
   "source": []
  },
  {
   "cell_type": "code",
   "execution_count": 358,
   "id": "59a443d5",
   "metadata": {},
   "outputs": [
    {
     "data": {
      "text/plain": [
       "['05:24AM', '7:23']"
      ]
     },
     "execution_count": 358,
     "metadata": {},
     "output_type": "execute_result"
    }
   ],
   "source": [
    "match_time(\"At 05:24AM, I had sesame bagels with cream cheese before my coffee at 7:23.\")"
   ]
  },
  {
   "cell_type": "code",
   "execution_count": 359,
   "id": "91808bc7",
   "metadata": {},
   "outputs": [
    {
     "data": {
      "text/plain": [
       "['23:59', '00:00']"
      ]
     },
     "execution_count": 359,
     "metadata": {},
     "output_type": "execute_result"
    }
   ],
   "source": [
    "match_time(\"At 23:59 I was sound asleep as the time turned to 00:00.\")"
   ]
  },
  {
   "cell_type": "code",
   "execution_count": 360,
   "id": "c7798b93",
   "metadata": {},
   "outputs": [
    {
     "data": {
      "text/plain": [
       "[]"
      ]
     },
     "execution_count": 360,
     "metadata": {},
     "output_type": "execute_result"
    }
   ],
   "source": [
    "match_time(\"Mix water in a 1:2 ratio with chicken stock.\")"
   ]
  },
  {
   "cell_type": "code",
   "execution_count": 361,
   "id": "68dad9aa",
   "metadata": {},
   "outputs": [
    {
     "data": {
      "text/plain": [
       "['2:00']"
      ]
     },
     "execution_count": 361,
     "metadata": {},
     "output_type": "execute_result"
    }
   ],
   "source": [
    "match_time(\"At 2:00 I pinged 127.0.0.1:80.\")"
   ]
  },
  {
   "cell_type": "code",
   "execution_count": null,
   "id": "8bf9fa87",
   "metadata": {},
   "outputs": [],
   "source": []
  },
  {
   "cell_type": "code",
   "execution_count": 466,
   "id": "c886241f",
   "metadata": {},
   "outputs": [],
   "source": [
    "import re\n",
    "\n",
    "def area_codes(text):\n",
    "    \"\"\"\n",
    "    Finds all phone numbers in text and captures the area code. Phone numbers\n",
    "    have 10 digits total and may have parentheses around the area code, and\n",
    "    hyphens or spaces after the third and sixth digits.\n",
    "\n",
    "    >>> area_codes('(111) 111 1111, 1234567890 and 123 345 6789 should be matched.')\n",
    "    ['111', '123', '123']\n",
    "    >>> area_codes(\"1234567890 should, but 54321 and 654 456 78901 should not match\")\n",
    "    ['123']\n",
    "    >>> area_codes(\"no matches for 12 3456 7890 or 09876-54321\")\n",
    "    []\n",
    "    \"\"\"\n",
    "    return re.findall(r\"([\\d\\d\\d])([\\d\\d\\d])[\\d\\d\\d\\d]\", text)"
   ]
  },
  {
   "cell_type": "code",
   "execution_count": 467,
   "id": "914f11d7",
   "metadata": {},
   "outputs": [
    {
     "data": {
      "text/plain": [
       "[('1', '1'),\n",
       " ('1', '1'),\n",
       " ('1', '1'),\n",
       " ('1', '2'),\n",
       " ('4', '5'),\n",
       " ('7', '8'),\n",
       " ('1', '2'),\n",
       " ('3', '4'),\n",
       " ('6', '7')]"
      ]
     },
     "execution_count": 467,
     "metadata": {},
     "output_type": "execute_result"
    }
   ],
   "source": [
    "area_codes('(111) 111 1111, 1234567890 and 123 345 6789 should be matched.')"
   ]
  },
  {
   "cell_type": "code",
   "execution_count": 446,
   "id": "cb93a97b",
   "metadata": {},
   "outputs": [
    {
     "data": {
      "text/plain": [
       "[]"
      ]
     },
     "execution_count": 446,
     "metadata": {},
     "output_type": "execute_result"
    }
   ],
   "source": [
    "area_codes(\"1234567890 should, but 54321 and 654 456 78901 should not match\")"
   ]
  }
 ],
 "metadata": {
  "kernelspec": {
   "display_name": "Python 3 (ipykernel)",
   "language": "python",
   "name": "python3"
  },
  "language_info": {
   "codemirror_mode": {
    "name": "ipython",
    "version": 3
   },
   "file_extension": ".py",
   "mimetype": "text/x-python",
   "name": "python",
   "nbconvert_exporter": "python",
   "pygments_lexer": "ipython3",
   "version": "3.8.11"
  }
 },
 "nbformat": 4,
 "nbformat_minor": 5
}
