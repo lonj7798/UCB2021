{
 "cells": [
  {
   "cell_type": "code",
   "execution_count": 27,
   "id": "d5b58fe4",
   "metadata": {},
   "outputs": [],
   "source": [
    "import re\n",
    "def email_validator(email, domains):\n",
    "    \"\"\"\n",
    "    >>> email_validator(\"oski@berkeley.edu\", [\"berkeley.edu\", \"gmail.com\"])\n",
    "    True\n",
    "    >>> email_validator(\"oski@gmail.com\", [\"berkeley.edu\", \"gmail.com\"])\n",
    "    True\n",
    "    >>> email_validator(\"oski@berkeley.com\", [\"berkeley.edu\", \"gmail.com\"])\n",
    "    False\n",
    "    >>> email_validator(\"oski@berkeley.edu\", [\"yahoo.com\"])\n",
    "    False\n",
    "    >>> email_validator(\"xX123_iii_OSKI_iii_123Xx@berkeley.edu\", [\"berkeley.edu\", \"gmail.com\"])\n",
    "    True\n",
    "    >>> email_validator(\"oski@oski@berkeley.edu\", [\"berkeley.edu\", \"gmail.com\"])\n",
    "    False\n",
    "    >>> email_validator(\"oski@berkeleysedu\", [\"berkeley.edu\", \"gmail.com\"])\n",
    "    False\n",
    "    \"\"\"\n",
    "    pattern = r\"\\b\\w+@(\\w+[.com|.edu])\"\n",
    "    for d in pattern:\n",
    "        pattern = pattern + domain.replace(\"\",\"\\\") + \"|\"]\n",
    "                                           \n",
    "    #pattern += r\")\"\n",
    "    patter = pattern(:-1] + \")\"\"\n",
    "    print(re.findall(pattern, email))\n",
    "    return bool(re.search(pattern, email))\n",
    "\n"
   ]
  },
  {
   "cell_type": "code",
   "execution_count": 28,
   "id": "0a747ba0",
   "metadata": {},
   "outputs": [
    {
     "name": "stdout",
     "output_type": "stream",
     "text": [
      "['oski@berkeley.']\n"
     ]
    },
    {
     "data": {
      "text/plain": [
       "True"
      ]
     },
     "execution_count": 28,
     "metadata": {},
     "output_type": "execute_result"
    }
   ],
   "source": [
    "email_validator(\"oski@berkeley.edu\", [\"berkeley.edu\", \"gmail.com\"])"
   ]
  },
  {
   "cell_type": "code",
   "execution_count": 19,
   "id": "87da9097",
   "metadata": {},
   "outputs": [
    {
     "name": "stdout",
     "output_type": "stream",
     "text": [
      "[('oski', 'berkeley.com', '')]\n"
     ]
    },
    {
     "data": {
      "text/plain": [
       "True"
      ]
     },
     "execution_count": 19,
     "metadata": {},
     "output_type": "execute_result"
    }
   ],
   "source": [
    "email_validator(\"oski@berkeley.com\", [\"berkeley.edu\", \"gmail.com\"])"
   ]
  },
  {
   "cell_type": "code",
   "execution_count": 22,
   "id": "ba842cd3",
   "metadata": {},
   "outputs": [
    {
     "name": "stdout",
     "output_type": "stream",
     "text": [
      "[('', '', 'berkeley.edu')]\n"
     ]
    },
    {
     "data": {
      "text/plain": [
       "True"
      ]
     },
     "execution_count": 22,
     "metadata": {},
     "output_type": "execute_result"
    }
   ],
   "source": [
    "email_validator(\"oski@berkeley.edu\", [\"yahoo.com\"])"
   ]
  },
  {
   "cell_type": "code",
   "execution_count": null,
   "id": "08e8f15d",
   "metadata": {},
   "outputs": [],
   "source": []
  }
 ],
 "metadata": {
  "kernelspec": {
   "display_name": "Python 3 (ipykernel)",
   "language": "python",
   "name": "python3"
  },
  "language_info": {
   "codemirror_mode": {
    "name": "ipython",
    "version": 3
   },
   "file_extension": ".py",
   "mimetype": "text/x-python",
   "name": "python",
   "nbconvert_exporter": "python",
   "pygments_lexer": "ipython3",
   "version": "3.8.11"
  }
 },
 "nbformat": 4,
 "nbformat_minor": 5
}
