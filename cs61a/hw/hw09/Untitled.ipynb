{
 "cells": [
  {
   "cell_type": "code",
   "execution_count": 27,
   "id": "0d7cf060",
   "metadata": {},
   "outputs": [],
   "source": [
    "import re\n",
    "\n",
    "def roman_numerals(text):\n",
    "    \"\"\"\n",
    "    Finds any string of letters that could be a Roman numeral\n",
    "    (made up of the letters I, V, X, L, C, D, M).\n",
    "\n",
    "    >>> roman_numerals(\"Sir Richard IIV, can you tell Richard VI that Richard IV is on the phone?\")\n",
    "    ['IIV', 'VI', 'IV']\n",
    "    >>> roman_numerals(\"My TODOs: I. Groceries II. Learn how to count in Roman IV. Profit\")\n",
    "    ['I', 'II', 'IV']\n",
    "    >>> roman_numerals(\"I. Act 1 II. Act 2 III. Act 3 IV. Act 4 V. Act 5\")\n",
    "    ['I', 'II', 'III', 'IV', 'V']\n",
    "    >>> roman_numerals(\"Let's play Civ VII\")\n",
    "    ['VII']\n",
    "    >>> roman_numerals(\"i love vi so much more than emacs.\")\n",
    "    []\n",
    "    >>> roman_numerals(\"she loves ALL editors equally.\")\n",
    "    []\n",
    "    \"\"\"\n",
    "    return re.findall(r'\\b([IVXLCDM]+)\\b', text)"
   ]
  },
  {
   "cell_type": "code",
   "execution_count": 28,
   "id": "588402aa",
   "metadata": {},
   "outputs": [
    {
     "data": {
      "text/plain": [
       "['IIV', 'VI', 'IV']"
      ]
     },
     "execution_count": 28,
     "metadata": {},
     "output_type": "execute_result"
    }
   ],
   "source": [
    "roman_numerals(\"Sir Richard IIV, can you tell Richard VI that Richard IV is on the phone?\")"
   ]
  },
  {
   "cell_type": "code",
   "execution_count": 49,
   "id": "43d96b23",
   "metadata": {},
   "outputs": [],
   "source": [
    "import re\n",
    "\n",
    "def roman_numerals(text):\n",
    "    \"\"\"\n",
    "    Finds any string of letters that could be a Roman numeral\n",
    "    (made up of the letters I, V, X, L, C, D, M).\n",
    "\n",
    "    >>> roman_numerals(\"Sir Richard IIV, can you tell Richard VI that Richard IV is on the phone?\")\n",
    "    ['IIV', 'VI', 'IV']\n",
    "    >>> roman_numerals(\"My TODOs: I. Groceries II. Learn how to count in Roman IV. Profit\")\n",
    "    ['I', 'II', 'IV']\n",
    "    >>> roman_numerals(\"I. Act 1 II. Act 2 III. Act 3 IV. Act 4 V. Act 5\")\n",
    "    ['I', 'II', 'III', 'IV', 'V']\n",
    "    >>> roman_numerals(\"Let's play Civ VII\")\n",
    "    ['VII']\n",
    "    >>> roman_numerals(\"i love vi so much more than emacs.\")\n",
    "    []\n",
    "    >>> roman_numerals(\"she loves ALL editors equally.\")\n",
    "    []\n",
    "    \"\"\"\n",
    "    return re.findall(r'\\b[IVXLCDM]+\\b', text)"
   ]
  },
  {
   "cell_type": "code",
   "execution_count": 50,
   "id": "5753d791",
   "metadata": {},
   "outputs": [
    {
     "data": {
      "text/plain": [
       "['IIV', 'VI', 'IV']"
      ]
     },
     "execution_count": 50,
     "metadata": {},
     "output_type": "execute_result"
    }
   ],
   "source": [
    "roman_numerals(\"Sir Richard IIV, can you tell Richard VI that Richard IV is on the phone?\")"
   ]
  },
  {
   "cell_type": "code",
   "execution_count": 51,
   "id": "f9eaeb81",
   "metadata": {},
   "outputs": [
    {
     "data": {
      "text/plain": [
       "['I', 'II', 'IV']"
      ]
     },
     "execution_count": 51,
     "metadata": {},
     "output_type": "execute_result"
    }
   ],
   "source": [
    "roman_numerals(\"My TODOs: I. Groceries II. Learn how to count in Roman IV. Profit\")"
   ]
  },
  {
   "cell_type": "code",
   "execution_count": 142,
   "id": "157c731c",
   "metadata": {},
   "outputs": [],
   "source": [
    "\n",
    "def cs_classes(post):\n",
    "    \"\"\"\n",
    "    Returns strings that look like a Berkeley CS class,\n",
    "    starting with \"CS\", followed by a number, optionally ending with A, B, or C\n",
    "    and potentially with a space between \"CS\" and the number.\n",
    "    Case insensitive.\n",
    "\n",
    "    >>> cs_classes(\"Is it unreasonable to take CS61A, CS61B, CS70, and EE16A in the summer?\")\n",
    "    True\n",
    "    >>> cs_classes(\"how do I become a TA for cs61a? that job sounds so fun\")\n",
    "    True\n",
    "    >>> cs_classes(\"Can I take ECON101 as a CS major?\")\n",
    "    False\n",
    "    >>> cs_classes(\"Should I do the lab lites or regular labs in EE16A?\")\n",
    "    False\n",
    "    >>> cs_classes(\"What are some good CS upper division courses? I was thinking about CS 161 or CS 169a\")\n",
    "    True\n",
    "    \"\"\"\n",
    "    return bool(re.search(r'[.CS, .cs](\\d+)[A$|a$|B$|b$|C$|c$]', post))"
   ]
  },
  {
   "cell_type": "code",
   "execution_count": 143,
   "id": "aba1573b",
   "metadata": {
    "scrolled": true
   },
   "outputs": [
    {
     "data": {
      "text/plain": [
       "True"
      ]
     },
     "execution_count": 143,
     "metadata": {},
     "output_type": "execute_result"
    }
   ],
   "source": [
    "cs_classes(\"Is it unreasonable to take CS61A, CS61B, CS70, and EE16A in the summer?\")"
   ]
  },
  {
   "cell_type": "code",
   "execution_count": 144,
   "id": "c6016426",
   "metadata": {},
   "outputs": [
    {
     "data": {
      "text/plain": [
       "True"
      ]
     },
     "execution_count": 144,
     "metadata": {},
     "output_type": "execute_result"
    }
   ],
   "source": [
    "cs_classes(\"how do I become a TA for cs61a? that job sounds so fun\")"
   ]
  },
  {
   "cell_type": "code",
   "execution_count": 145,
   "id": "594a5cbc",
   "metadata": {},
   "outputs": [
    {
     "data": {
      "text/plain": [
       "False"
      ]
     },
     "execution_count": 145,
     "metadata": {},
     "output_type": "execute_result"
    }
   ],
   "source": [
    "cs_classes(\"Should I do the lab lites or regular labs in EE16A?\")"
   ]
  },
  {
   "cell_type": "code",
   "execution_count": 146,
   "id": "5a717db2",
   "metadata": {},
   "outputs": [
    {
     "data": {
      "text/plain": [
       "False"
      ]
     },
     "execution_count": 146,
     "metadata": {},
     "output_type": "execute_result"
    }
   ],
   "source": [
    "cs_classes(\"Can I take ECON101 as a CS major?\")"
   ]
  },
  {
   "cell_type": "code",
   "execution_count": 147,
   "id": "cbcfb4de",
   "metadata": {},
   "outputs": [
    {
     "data": {
      "text/plain": [
       "False"
      ]
     },
     "execution_count": 147,
     "metadata": {},
     "output_type": "execute_result"
    }
   ],
   "source": [
    "cs_classes(\"Should I do the lab lites or regular labs in EE16A?\")"
   ]
  },
  {
   "cell_type": "code",
   "execution_count": 148,
   "id": "b1ca43b9",
   "metadata": {},
   "outputs": [
    {
     "data": {
      "text/plain": [
       "True"
      ]
     },
     "execution_count": 148,
     "metadata": {},
     "output_type": "execute_result"
    }
   ],
   "source": [
    "cs_classes(\"What are some good CS upper division courses? I was thinking about CS 161 or CS 169a\")"
   ]
  },
  {
   "cell_type": "code",
   "execution_count": 262,
   "id": "c51ed0ad",
   "metadata": {},
   "outputs": [],
   "source": [
    "\n",
    "\n",
    "def cs_classes(post):\n",
    "    \"\"\"\n",
    "    Returns strings that look like a Berkeley CS class,\n",
    "    starting with \"CS\", followed by a number, optionally ending with A, B, or C\n",
    "    and potentially with a space between \"CS\" and the number.\n",
    "    Case insensitive.\n",
    "\n",
    "    >>> cs_classes(\"Is it unreasonable to take CS61A, CS61B, CS70, and EE16A in the summer?\")\n",
    "    True\n",
    "    >>> cs_classes(\"how do I become a TA for cs61a? that job sounds so fun\")\n",
    "    True\n",
    "    >>> cs_classes(\"Can I take ECON101 as a CS major?\")\n",
    "    False\n",
    "    >>> cs_classes(\"Should I do the lab lites or regular labs in EE16A?\")\n",
    "    False\n",
    "    >>> cs_classes(\"What are some good CS upper division courses? I was thinking about CS 161 or CS 169a\")\n",
    "    True\n",
    "    \"\"\"\n",
    "    return bool(re.search('[Cc][Ss][0-9][\\w][ABCabc]*', post))\n"
   ]
  },
  {
   "cell_type": "code",
   "execution_count": 263,
   "id": "138af90a",
   "metadata": {
    "scrolled": true
   },
   "outputs": [
    {
     "data": {
      "text/plain": [
       "True"
      ]
     },
     "execution_count": 263,
     "metadata": {},
     "output_type": "execute_result"
    }
   ],
   "source": [
    "cs_classes(\"Is it unreasonable to take CS61A, CS61B, CS70, and EE16A in the summer?\")"
   ]
  },
  {
   "cell_type": "code",
   "execution_count": 264,
   "id": "c747c823",
   "metadata": {},
   "outputs": [
    {
     "data": {
      "text/plain": [
       "True"
      ]
     },
     "execution_count": 264,
     "metadata": {},
     "output_type": "execute_result"
    }
   ],
   "source": [
    "cs_classes(\"how do I become a TA for cs61a? that job sounds so fun\")"
   ]
  },
  {
   "cell_type": "code",
   "execution_count": 265,
   "id": "4d0f228a",
   "metadata": {},
   "outputs": [
    {
     "data": {
      "text/plain": [
       "False"
      ]
     },
     "execution_count": 265,
     "metadata": {},
     "output_type": "execute_result"
    }
   ],
   "source": [
    ">>> cs_classes(\"Can I take ECON101 as a CS major?\")"
   ]
  },
  {
   "cell_type": "code",
   "execution_count": 266,
   "id": "198be3ec",
   "metadata": {},
   "outputs": [
    {
     "data": {
      "text/plain": [
       "False"
      ]
     },
     "execution_count": 266,
     "metadata": {},
     "output_type": "execute_result"
    }
   ],
   "source": [
    ">>> cs_classes(\"Should I do the lab lites or regular labs in EE16A?\")"
   ]
  },
  {
   "cell_type": "code",
   "execution_count": 267,
   "id": "4c913faa",
   "metadata": {},
   "outputs": [
    {
     "data": {
      "text/plain": [
       "False"
      ]
     },
     "execution_count": 267,
     "metadata": {},
     "output_type": "execute_result"
    }
   ],
   "source": [
    ">>> cs_classes(\"What are some good CS upper division courses? I was thinking about CS 161 or CS 169a\")"
   ]
  },
  {
   "cell_type": "code",
   "execution_count": 357,
   "id": "b578cbe8",
   "metadata": {},
   "outputs": [],
   "source": [
    "import re\n",
    "\n",
    "def match_time(text):\n",
    "    \"\"\"\n",
    "    >>> match_time(\"At 05:24AM, I had sesame bagels with cream cheese before my coffee at 7:23.\")\n",
    "    ['05:24AM', '7:23']\n",
    "    >>> match_time(\"At 23:59 I was sound asleep as the time turned to 00:00.\")\n",
    "    ['23:59', '00:00']\n",
    "    >>> match_time(\"Mix water in a 1:2 ratio with chicken stock.\")\n",
    "    []\n",
    "    >>> match_time(\"At 2:00 I pinged 127.0.0.1:80.\")\n",
    "    ['2:00']\n",
    "    \"\"\"\n",
    "    return re.findall(r\"\\s([\\d]+[:][\\d][\\d][AM|PM]*)\", text)"
   ]
  },
  {
   "cell_type": "code",
   "execution_count": null,
   "id": "ee413dd3",
   "metadata": {},
   "outputs": [],
   "source": []
  },
  {
   "cell_type": "code",
   "execution_count": 358,
   "id": "0fa5f8d2",
   "metadata": {},
   "outputs": [
    {
     "data": {
      "text/plain": [
       "['05:24AM', '7:23']"
      ]
     },
     "execution_count": 358,
     "metadata": {},
     "output_type": "execute_result"
    }
   ],
   "source": [
    "match_time(\"At 05:24AM, I had sesame bagels with cream cheese before my coffee at 7:23.\")"
   ]
  },
  {
   "cell_type": "code",
   "execution_count": 359,
   "id": "e3346b6c",
   "metadata": {},
   "outputs": [
    {
     "data": {
      "text/plain": [
       "['23:59', '00:00']"
      ]
     },
     "execution_count": 359,
     "metadata": {},
     "output_type": "execute_result"
    }
   ],
   "source": [
    "match_time(\"At 23:59 I was sound asleep as the time turned to 00:00.\")"
   ]
  },
  {
   "cell_type": "code",
   "execution_count": 360,
   "id": "9fbcfd44",
   "metadata": {},
   "outputs": [
    {
     "data": {
      "text/plain": [
       "[]"
      ]
     },
     "execution_count": 360,
     "metadata": {},
     "output_type": "execute_result"
    }
   ],
   "source": [
    "match_time(\"Mix water in a 1:2 ratio with chicken stock.\")"
   ]
  },
  {
   "cell_type": "code",
   "execution_count": 361,
   "id": "665ca4ec",
   "metadata": {},
   "outputs": [
    {
     "data": {
      "text/plain": [
       "['2:00']"
      ]
     },
     "execution_count": 361,
     "metadata": {},
     "output_type": "execute_result"
    }
   ],
   "source": [
    "match_time(\"At 2:00 I pinged 127.0.0.1:80.\")"
   ]
  },
  {
   "cell_type": "code",
   "execution_count": 238,
   "id": "093f978e",
   "metadata": {},
   "outputs": [],
   "source": [
    "def temp(text):\n",
    "    return re.findall('^\\d{,8}$', text)"
   ]
  },
  {
   "cell_type": "code",
   "execution_count": 239,
   "id": "46668379",
   "metadata": {},
   "outputs": [
    {
     "data": {
      "text/plain": [
       "[]"
      ]
     },
     "execution_count": 239,
     "metadata": {},
     "output_type": "execute_result"
    }
   ],
   "source": [
    "temp('123123123')"
   ]
  },
  {
   "cell_type": "code",
   "execution_count": 240,
   "id": "4a682472",
   "metadata": {},
   "outputs": [
    {
     "data": {
      "text/plain": [
       "['123']"
      ]
     },
     "execution_count": 240,
     "metadata": {},
     "output_type": "execute_result"
    }
   ],
   "source": [
    "temp('123')"
   ]
  },
  {
   "cell_type": "code",
   "execution_count": 6,
   "id": "818ee173",
   "metadata": {},
   "outputs": [],
   "source": [
    "import re\n",
    "\n",
    "def area_codes(text):\n",
    "    \"\"\"\n",
    "    Finds all phone numbers in text and captures the area code. Phone numbers\n",
    "    have 10 digits total and may have parentheses around the area code, and\n",
    "    hyphens or spaces after the third and sixth digits.\n",
    "\n",
    "    >>> area_codes('(111) 111 1111, 1234567890 and 123 345 6789 should be matched.')\n",
    "    ['111', '123', '123']\n",
    "    >>> area_codes(\"1234567890 should, but 54321 and 654 456 78901 should not match\")\n",
    "    ['123']\n",
    "    >>> area_codes(\"no matches for 12 3456 7890 or 09876-54321\")\n",
    "    []\n",
    "    \"\"\"\n",
    "    return re.findall('(\\d{3})[\\s)-]*?(?=\\d{3}[\\s-]?\\d{4}\\D)', text)"
   ]
  },
  {
   "cell_type": "code",
   "execution_count": 7,
   "id": "f8915cf7",
   "metadata": {},
   "outputs": [
    {
     "data": {
      "text/plain": [
       "['111', '123', '123']"
      ]
     },
     "execution_count": 7,
     "metadata": {},
     "output_type": "execute_result"
    }
   ],
   "source": [
    "area_codes('(111) 111 1111, 1234567890 and 123 345 6789 should be matched.')"
   ]
  },
  {
   "cell_type": "code",
   "execution_count": 8,
   "id": "ba239042",
   "metadata": {},
   "outputs": [
    {
     "data": {
      "text/plain": [
       "['123']"
      ]
     },
     "execution_count": 8,
     "metadata": {},
     "output_type": "execute_result"
    }
   ],
   "source": [
    "area_codes(\"1234567890 should, but 54321 and 654 456 78901 should not match\")"
   ]
  },
  {
   "cell_type": "code",
   "execution_count": 9,
   "id": "d4683af0",
   "metadata": {},
   "outputs": [
    {
     "data": {
      "text/plain": [
       "[]"
      ]
     },
     "execution_count": 9,
     "metadata": {},
     "output_type": "execute_result"
    }
   ],
   "source": [
    "area_codes('(111) 111 1111')"
   ]
  },
  {
   "cell_type": "code",
   "execution_count": 10,
   "id": "05ae1570",
   "metadata": {},
   "outputs": [
    {
     "data": {
      "text/plain": [
       "['111']"
      ]
     },
     "execution_count": 10,
     "metadata": {},
     "output_type": "execute_result"
    }
   ],
   "source": [
    "area_codes('1111111111, 1231231234')"
   ]
  },
  {
   "cell_type": "code",
   "execution_count": 253,
   "id": "64d0f1bc",
   "metadata": {},
   "outputs": [],
   "source": [
    "def most_common_code(text):\n",
    "    \"\"\"\n",
    "    Takes in an input string which contains at least one phone number (and\n",
    "    may contain more) and returns the most common area code among all phone\n",
    "    numbers in the input. If there are multiple area codes with the same\n",
    "    frequency, return the first one that appears in the input text.\n",
    "\n",
    "    >>> most_common_code('(501) 333 3333')\n",
    "    '501'\n",
    "    >>> input_text = '''\n",
    "    ... (123) 000 1234 and 12454, 098-123-0941, 123 451 0951 and 410-501-3021 has\n",
    "    ... some phone numbers. '''\n",
    "    >>> most_common_code(input_text)\n",
    "    '123'\n",
    "    \"\"\"\n",
    "    \"*** YOUR CODE HERE ***\"\n",
    "    lst = re.findall('(\\d{3})[\\s)-]*?(?=\\d{3}[\\s-]?\\d{4})', text)\n",
    "    \n",
    "    return max(lst, key = lst.count)"
   ]
  },
  {
   "cell_type": "code",
   "execution_count": 254,
   "id": "fa603c73",
   "metadata": {},
   "outputs": [],
   "source": [
    "input_text = '''\n",
    "    ... (123) 000 1234 and 12454, 098-123-0941, 123 451 0951 and 410-501-3021 has\n",
    "    ... some phone numbers. '''\n"
   ]
  },
  {
   "cell_type": "code",
   "execution_count": 255,
   "id": "cd45d883",
   "metadata": {},
   "outputs": [
    {
     "data": {
      "text/plain": [
       "'123'"
      ]
     },
     "execution_count": 255,
     "metadata": {},
     "output_type": "execute_result"
    }
   ],
   "source": [
    ">>> most_common_code(input_text)"
   ]
  },
  {
   "cell_type": "code",
   "execution_count": 256,
   "id": "de796120",
   "metadata": {},
   "outputs": [
    {
     "data": {
      "text/plain": [
       "'501'"
      ]
     },
     "execution_count": 256,
     "metadata": {},
     "output_type": "execute_result"
    }
   ],
   "source": [
    "most_common_code('(501) 333 3333')"
   ]
  },
  {
   "cell_type": "code",
   "execution_count": null,
   "id": "768dccf2",
   "metadata": {},
   "outputs": [],
   "source": []
  }
 ],
 "metadata": {
  "kernelspec": {
   "display_name": "Python 3 (ipykernel)",
   "language": "python",
   "name": "python3"
  },
  "language_info": {
   "codemirror_mode": {
    "name": "ipython",
    "version": 3
   },
   "file_extension": ".py",
   "mimetype": "text/x-python",
   "name": "python",
   "nbconvert_exporter": "python",
   "pygments_lexer": "ipython3",
   "version": "3.8.11"
  }
 },
 "nbformat": 4,
 "nbformat_minor": 5
}
