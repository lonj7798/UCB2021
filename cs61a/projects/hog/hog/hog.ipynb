{
 "cells": [
  {
   "cell_type": "code",
   "execution_count": 108,
   "id": "74a13ab5",
   "metadata": {},
   "outputs": [],
   "source": [
    "\"\"\"CS 61A Presents The Game of Hog.\"\"\"\n",
    "\n",
    "from dice import six_sided, four_sided, make_test_dice\n",
    "from ucb import main, trace, interact\n",
    "\n",
    "GOAL_SCORE = 100  # The goal of Hog is to score 100 points.\n",
    "\n",
    "######################\n",
    "# Phase 1: Simulator #\n",
    "######################\n",
    "\n",
    "\n",
    "def roll_dice(num_rolls, dice=six_sided):\n",
    "    \"\"\"Simulate rolling the DICE exactly NUM_ROLLS > 0 times. Return the sum of\n",
    "    the outcomes unless any of the outcomes is 1. In that case, return 1.\n",
    "\n",
    "    num_rolls:  The number of dice rolls that will be made.\n",
    "    dice:       A function that simulates a single dice roll outcome.\n",
    "    \"\"\"\n",
    "    # These assert statements ensure that num_rolls is a positive integer.\n",
    "    assert type(num_rolls) == int, 'num_rolls must be an integer.'\n",
    "    assert num_rolls > 0, 'Must roll at least once.'\n",
    "    # BEGIN PROBLEM 1\n",
    "    \n",
    "    sum_dice = []\n",
    "    \n",
    "    for i in range(num_rolls):\n",
    "        sum_dice += [dice()]\n",
    "        \n",
    "    for i in range(num_rolls):\n",
    "        if sum_dice[i] == 1:\n",
    "            return 1\n",
    "        \n",
    "    return sum(sum_dice)\n",
    "    # END PROBLEM 1"
   ]
  },
  {
   "cell_type": "code",
   "execution_count": 109,
   "id": "6593f4df",
   "metadata": {},
   "outputs": [
    {
     "data": {
      "text/plain": [
       "1"
      ]
     },
     "execution_count": 109,
     "metadata": {},
     "output_type": "execute_result"
    }
   ],
   "source": [
    "counted_dice = make_test_dice(4, 1, 2, 6)\n",
    "roll_dice(3, counted_dice)"
   ]
  },
  {
   "cell_type": "code",
   "execution_count": 110,
   "id": "b56d5462",
   "metadata": {},
   "outputs": [
    {
     "data": {
      "text/plain": [
       "6"
      ]
     },
     "execution_count": 110,
     "metadata": {},
     "output_type": "execute_result"
    }
   ],
   "source": [
    "roll_dice(1, counted_dice)"
   ]
  },
  {
   "cell_type": "code",
   "execution_count": 162,
   "id": "7e96cc90",
   "metadata": {},
   "outputs": [
    {
     "data": {
      "text/plain": [
       "2.0"
      ]
     },
     "execution_count": 162,
     "metadata": {},
     "output_type": "execute_result"
    }
   ],
   "source": [
    "round(1/7, 24) * 10 ** 24 % 10"
   ]
  },
  {
   "cell_type": "code",
   "execution_count": 163,
   "id": "482efef0",
   "metadata": {},
   "outputs": [],
   "source": [
    "def picky_piggy(score):\n",
    "    \"\"\"Return the points scored from rolling 0 dice.\n",
    "\n",
    "    score:  The opponent's current score.\n",
    "    \"\"\"\n",
    "    # BEGIN PROBLEM 2\n",
    "    if score == 0:\n",
    "        return 7\n",
    "    \n",
    "    decimal_position = 10 ** score\n",
    "    final_score = int(decimal_position / 7.0) % 10\n",
    "    \n",
    "    return final_score\n",
    "    "
   ]
  },
  {
   "cell_type": "code",
   "execution_count": 151,
   "id": "6907b8ee",
   "metadata": {},
   "outputs": [
    {
     "data": {
      "text/plain": [
       "1"
      ]
     },
     "execution_count": 151,
     "metadata": {},
     "output_type": "execute_result"
    }
   ],
   "source": [
    "picky_piggy(1)"
   ]
  },
  {
   "cell_type": "code",
   "execution_count": 152,
   "id": "bab0ecd5",
   "metadata": {
    "scrolled": true
   },
   "outputs": [
    {
     "data": {
      "text/plain": [
       "4"
      ]
     },
     "execution_count": 152,
     "metadata": {},
     "output_type": "execute_result"
    }
   ],
   "source": [
    "picky_piggy(14)"
   ]
  },
  {
   "cell_type": "code",
   "execution_count": 172,
   "id": "902097ff",
   "metadata": {},
   "outputs": [
    {
     "data": {
      "text/plain": [
       "5"
      ]
     },
     "execution_count": 172,
     "metadata": {},
     "output_type": "execute_result"
    }
   ],
   "source": [
    "picky_piggy(5)"
   ]
  },
  {
   "cell_type": "code",
   "execution_count": 164,
   "id": "9dfb65ae",
   "metadata": {},
   "outputs": [
    {
     "data": {
      "text/plain": [
       "2"
      ]
     },
     "execution_count": 164,
     "metadata": {},
     "output_type": "execute_result"
    }
   ],
   "source": [
    "picky_piggy(24) # anw: 7"
   ]
  },
  {
   "cell_type": "code",
   "execution_count": 116,
   "id": "35309861",
   "metadata": {
    "scrolled": true
   },
   "outputs": [
    {
     "data": {
      "text/plain": [
       "2.0"
      ]
     },
     "execution_count": 116,
     "metadata": {},
     "output_type": "execute_result"
    }
   ],
   "source": [
    "1/7 * pow(10, 24)%10"
   ]
  },
  {
   "cell_type": "code",
   "execution_count": 167,
   "id": "54b0722a",
   "metadata": {
    "scrolled": true
   },
   "outputs": [
    {
     "name": "stdout",
     "output_type": "stream",
     "text": [
      "f-string example10 : 0.142857142857142849212693\n"
     ]
    }
   ],
   "source": [
    "print(f'f-string example10 : {1.0/7.0:.24f}')"
   ]
  },
  {
   "cell_type": "code",
   "execution_count": 171,
   "id": "8f2c9b07",
   "metadata": {},
   "outputs": [
    {
     "data": {
      "text/plain": [
       "Decimal('142857142857142849212692.6812')"
      ]
     },
     "execution_count": 171,
     "metadata": {},
     "output_type": "execute_result"
    }
   ],
   "source": [
    "import decimal\n",
    "decimal.Decimal(1/7)*10**24"
   ]
  },
  {
   "cell_type": "code",
   "execution_count": 118,
   "id": "dc6f3d9d",
   "metadata": {},
   "outputs": [],
   "source": [
    "def take_turn(num_rolls, opponent_score, dice=six_sided, goal=GOAL_SCORE):\n",
    "    \"\"\"Simulate a turn rolling NUM_ROLLS dice, which may be 0 in the case\n",
    "    of a player using Picky Piggy.\n",
    "    Return the points scored for the turn by the current player.\n",
    "\n",
    "    num_rolls:       The number of dice rolls that will be made.\n",
    "    opponent_score:  The total score of the opponent.\n",
    "    dice:            A function that simulates a single dice roll outcome.\n",
    "    goal:            The goal score of the game.\n",
    "    \"\"\"\n",
    "    # Leave these assert statements here; they help check for errors.\n",
    "    assert type(num_rolls) == int, 'num_rolls must be an integer.'\n",
    "    assert num_rolls >= 0, 'Cannot roll a negative number of dice in take_turn.'\n",
    "    assert num_rolls <= 10, 'Cannot roll more than 10 dice.'\n",
    "    assert opponent_score < goal, 'The game should be over.'\n",
    "    # BEGIN PROBLEM 3\n",
    "    \n",
    "    if num_rolls == 0:\n",
    "        return picky_piggy(opponent_score)\n",
    "    else:\n",
    "        return roll_dice(num_rolls, dice)\n",
    "    "
   ]
  },
  {
   "cell_type": "code",
   "execution_count": 119,
   "id": "52f94fca",
   "metadata": {},
   "outputs": [
    {
     "data": {
      "text/plain": [
       "9"
      ]
     },
     "execution_count": 119,
     "metadata": {},
     "output_type": "execute_result"
    }
   ],
   "source": [
    "take_turn(2, 0, make_test_dice(4, 5, 1))"
   ]
  },
  {
   "cell_type": "code",
   "execution_count": 120,
   "id": "a2aed9d1",
   "metadata": {},
   "outputs": [
    {
     "data": {
      "text/plain": [
       "1"
      ]
     },
     "execution_count": 120,
     "metadata": {},
     "output_type": "execute_result"
    }
   ],
   "source": [
    "take_turn(3, 0, make_test_dice(4, 6, 1))"
   ]
  },
  {
   "cell_type": "code",
   "execution_count": 121,
   "id": "702b6769",
   "metadata": {},
   "outputs": [
    {
     "data": {
      "text/plain": [
       "4"
      ]
     },
     "execution_count": 121,
     "metadata": {},
     "output_type": "execute_result"
    }
   ],
   "source": [
    "take_turn(0, 2)"
   ]
  },
  {
   "cell_type": "code",
   "execution_count": 122,
   "id": "735a180d",
   "metadata": {},
   "outputs": [],
   "source": [
    "a = lambda x: player_score if opponent_score == player_score else 0"
   ]
  },
  {
   "cell_type": "code",
   "execution_count": 123,
   "id": "aff3b904",
   "metadata": {},
   "outputs": [],
   "source": [
    "player_score, opponent_score = 10, 10\n",
    "\n",
    "a = lambda x: 'player_score' if x == player_score else '0'"
   ]
  },
  {
   "cell_type": "code",
   "execution_count": 124,
   "id": "fed3c125",
   "metadata": {},
   "outputs": [
    {
     "name": "stdout",
     "output_type": "stream",
     "text": [
      "<function <lambda> at 0x7f7bd120c040>\n"
     ]
    }
   ],
   "source": [
    "print(a)"
   ]
  },
  {
   "cell_type": "code",
   "execution_count": 125,
   "id": "227e96cc",
   "metadata": {
    "scrolled": true
   },
   "outputs": [
    {
     "data": {
      "text/plain": [
       "<function __main__.<lambda>(x)>"
      ]
     },
     "execution_count": 125,
     "metadata": {},
     "output_type": "execute_result"
    }
   ],
   "source": [
    "a"
   ]
  },
  {
   "cell_type": "code",
   "execution_count": 138,
   "id": "d07e41bc",
   "metadata": {},
   "outputs": [],
   "source": [
    "def hog_pile(player_score, opponent_score):\n",
    "    \"\"\"Return the points scored by player due to Hog Pile.\n",
    "\n",
    "    player_score:   The total score of the current player.\n",
    "    opponent_score: The total score of the other player.\n",
    "    \"\"\"\n",
    "    # BEGIN PROBLEM 4\n",
    "    \n",
    "    if opponent_score == player_score:\n",
    "        return player_score * 2\n",
    "    else:\n",
    "        return player_score\n",
    "    # END PROBLEM 4"
   ]
  },
  {
   "cell_type": "code",
   "execution_count": 139,
   "id": "f3dc2660",
   "metadata": {},
   "outputs": [],
   "source": [
    "def next_player(who):\n",
    "    \"\"\"Return the other player, for a player WHO numbered 0 or 1.\n",
    "\n",
    "    >>> next_player(0)\n",
    "    1\n",
    "    >>> next_player(1)\n",
    "    0\n",
    "    \"\"\"\n",
    "    return 1 - who\n",
    "\n",
    "\n",
    "def silence(score0, score1):\n",
    "    \"\"\"Announce nothing (see Phase 2).\"\"\"\n",
    "    return silence"
   ]
  },
  {
   "cell_type": "code",
   "execution_count": 144,
   "id": "d1286a0d",
   "metadata": {},
   "outputs": [],
   "source": [
    "def play(strategy0, strategy1, score0=0, score1=0, dice=six_sided,\n",
    "         goal=GOAL_SCORE, say=silence):\n",
    "    \"\"\"Simulate a game and return the final scores of both players, with Player\n",
    "    0's score first, and Player 1's score second.\n",
    "\n",
    "    A strategy is a function that takes two total scores as arguments (the\n",
    "    current player's score, and the opponent's score), and returns a number of\n",
    "    dice that the current player will roll this turn.\n",
    "\n",
    "    strategy0:  The strategy function for Player 0, who plays first.\n",
    "    strategy1:  The strategy function for Player 1, who plays second.\n",
    "    score0:     Starting score for Player 0\n",
    "    score1:     Starting score for Player 1\n",
    "    dice:       A function of zero arguments that simulates a dice roll.\n",
    "    goal:       The game ends and someone wins when this score is reached.\n",
    "    say:        The commentary function to call at the end of the first turn.\n",
    "    \"\"\"\n",
    "    who = 0  # Who is about to take a turn, 0 (first) or 1 (second)\n",
    "    # BEGIN PROBLEM 5\n",
    "    \n",
    "    while 1:\n",
    "        score0 += hog_pile(take_turn(5, score1, dice, goal), score1)\n",
    "        if score0 >= 100:\n",
    "            break\n",
    "        # who = next_player(who)\n",
    "        score1 += hog_pile(take_turn(3, score0, dice, goal), score0)\n",
    "        if score1 >= 100:\n",
    "            break\n",
    "\n",
    "    # END PROBLEM 5\n",
    "    # (note that the indentation for the problem 6 prompt (***YOUR CODE HERE***) might be misleading)\n",
    "    # BEGIN PROBLEM 6\n",
    "    \n",
    "    # END PROBLEM 6\n",
    "    return score0, score1"
   ]
  },
  {
   "cell_type": "code",
   "execution_count": 145,
   "id": "9fbd5adc",
   "metadata": {},
   "outputs": [],
   "source": [
    "always_three = make_test_dice(3)"
   ]
  },
  {
   "cell_type": "code",
   "execution_count": 146,
   "id": "3903bc75",
   "metadata": {
    "scrolled": true
   },
   "outputs": [
    {
     "name": "stdout",
     "output_type": "stream",
     "text": [
      "106 10\n"
     ]
    }
   ],
   "source": [
    "s0, s1 = play(5, 3, score0=91, score1=10, dice=always_three)\n"
   ]
  },
  {
   "cell_type": "code",
   "execution_count": 147,
   "id": "8d365238",
   "metadata": {},
   "outputs": [
    {
     "data": {
      "text/plain": [
       "106"
      ]
     },
     "execution_count": 147,
     "metadata": {},
     "output_type": "execute_result"
    }
   ],
   "source": [
    "s0"
   ]
  },
  {
   "cell_type": "code",
   "execution_count": null,
   "id": "fca29f30",
   "metadata": {},
   "outputs": [],
   "source": [
    "# take_turn(num_rolls, opponent_score, dice=six_sided, goal=GOAL_SCORE):"
   ]
  },
  {
   "cell_type": "code",
   "execution_count": 173,
   "id": "43fcc577",
   "metadata": {},
   "outputs": [],
   "source": [
    "def say_scores(score0, score1):\n",
    "    \"\"\"A commentary function that announces the score for each player.\"\"\"\n",
    "    print(\"Player 0 now has\", score0, \"and Player 1 now has\", score1)\n",
    "    return say_scores"
   ]
  },
  {
   "cell_type": "code",
   "execution_count": 178,
   "id": "8a0e9a20",
   "metadata": {},
   "outputs": [],
   "source": [
    "a = say_scores"
   ]
  },
  {
   "cell_type": "code",
   "execution_count": 180,
   "id": "0a1d3bdc",
   "metadata": {},
   "outputs": [
    {
     "name": "stdout",
     "output_type": "stream",
     "text": [
      "Player 0 now has 19 and Player 1 now has 20\n",
      "Player 0 now has 29 and Player 1 now has 3\n"
     ]
    },
    {
     "data": {
      "text/plain": [
       "<function __main__.say_scores(score0, score1)>"
      ]
     },
     "execution_count": 180,
     "metadata": {},
     "output_type": "execute_result"
    }
   ],
   "source": [
    "a(19, 20)(29, 3)"
   ]
  },
  {
   "cell_type": "code",
   "execution_count": null,
   "id": "99758064",
   "metadata": {},
   "outputs": [],
   "source": []
  }
 ],
 "metadata": {
  "kernelspec": {
   "display_name": "Python 3",
   "language": "python",
   "name": "python3"
  },
  "language_info": {
   "codemirror_mode": {
    "name": "ipython",
    "version": 3
   },
   "file_extension": ".py",
   "mimetype": "text/x-python",
   "name": "python",
   "nbconvert_exporter": "python",
   "pygments_lexer": "ipython3",
   "version": "3.8.11"
  }
 },
 "nbformat": 4,
 "nbformat_minor": 5
}
