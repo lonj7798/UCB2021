{
 "cells": [
  {
   "cell_type": "code",
   "execution_count": 1,
   "id": "74a13ab5",
   "metadata": {},
   "outputs": [],
   "source": [
    "\"\"\"CS 61A Presents The Game of Hog.\"\"\"\n",
    "\n",
    "from dice import six_sided, four_sided, make_test_dice\n",
    "from ucb import main, trace, interact\n",
    "\n",
    "GOAL_SCORE = 100  # The goal of Hog is to score 100 points.\n",
    "\n",
    "######################\n",
    "# Phase 1: Simulator #\n",
    "######################\n",
    "\n",
    "\n",
    "def roll_dice(num_rolls, dice=six_sided):\n",
    "    \"\"\"Simulate rolling the DICE exactly NUM_ROLLS > 0 times. Return the sum of\n",
    "    the outcomes unless any of the outcomes is 1. In that case, return 1.\n",
    "\n",
    "    num_rolls:  The number of dice rolls that will be made.\n",
    "    dice:       A function that simulates a single dice roll outcome.\n",
    "    \"\"\"\n",
    "    # These assert statements ensure that num_rolls is a positive integer.\n",
    "    assert type(num_rolls) == int, 'num_rolls must be an integer.'\n",
    "    assert num_rolls > 0, 'Must roll at least once.'\n",
    "    # BEGIN PROBLEM 1\n",
    "    \n",
    "    sum_dice = []\n",
    "    \n",
    "    for i in range(num_rolls):\n",
    "        sum_dice += [dice()]\n",
    "        \n",
    "    for i in range(num_rolls):\n",
    "        if sum_dice[i] == 1:\n",
    "            return 1\n",
    "        \n",
    "    return sum(sum_dice)\n",
    "    # END PROBLEM 1"
   ]
  },
  {
   "cell_type": "code",
   "execution_count": 109,
   "id": "6593f4df",
   "metadata": {},
   "outputs": [
    {
     "data": {
      "text/plain": [
       "1"
      ]
     },
     "execution_count": 109,
     "metadata": {},
     "output_type": "execute_result"
    }
   ],
   "source": [
    "counted_dice = make_test_dice(4, 1, 2, 6)\n",
    "roll_dice(3, counted_dice)"
   ]
  },
  {
   "cell_type": "code",
   "execution_count": 110,
   "id": "b56d5462",
   "metadata": {},
   "outputs": [
    {
     "data": {
      "text/plain": [
       "6"
      ]
     },
     "execution_count": 110,
     "metadata": {},
     "output_type": "execute_result"
    }
   ],
   "source": [
    "roll_dice(1, counted_dice)"
   ]
  },
  {
   "cell_type": "code",
   "execution_count": 162,
   "id": "7e96cc90",
   "metadata": {},
   "outputs": [
    {
     "data": {
      "text/plain": [
       "2.0"
      ]
     },
     "execution_count": 162,
     "metadata": {},
     "output_type": "execute_result"
    }
   ],
   "source": [
    "round(1/7, 24) * 10 ** 24 % 10"
   ]
  },
  {
   "cell_type": "code",
   "execution_count": 1,
   "id": "4d095fa0",
   "metadata": {},
   "outputs": [
    {
     "data": {
      "text/plain": [
       "0.14285714285714285"
      ]
     },
     "execution_count": 1,
     "metadata": {},
     "output_type": "execute_result"
    }
   ],
   "source": [
    "1/7"
   ]
  },
  {
   "cell_type": "code",
   "execution_count": 2,
   "id": "482efef0",
   "metadata": {},
   "outputs": [],
   "source": [
    "def picky_piggy(score):\n",
    "    \"\"\"Return the points scored from rolling 0 dice.\n",
    "\n",
    "    score:  The opponent's current score.\n",
    "    \"\"\"\n",
    "    # BEGIN PROBLEM 2\n",
    "    if score == 0:\n",
    "        return 7\n",
    "    \n",
    "    # decimal_position = 10 ** score\n",
    "    # final_score = int(decimal_position / 7.0) % 10\n",
    "    decimal_position = 10 ** (score % 6 if score % 6 else 6)\n",
    "    final_score = int(decimal_position / 7) % 10\n",
    "    \n",
    "    return final_score"
   ]
  },
  {
   "cell_type": "code",
   "execution_count": 59,
   "id": "6907b8ee",
   "metadata": {
    "scrolled": true
   },
   "outputs": [
    {
     "data": {
      "text/plain": [
       "7"
      ]
     },
     "execution_count": 59,
     "metadata": {},
     "output_type": "execute_result"
    }
   ],
   "source": [
    "picky_piggy(6)"
   ]
  },
  {
   "cell_type": "code",
   "execution_count": 152,
   "id": "bab0ecd5",
   "metadata": {
    "scrolled": true
   },
   "outputs": [
    {
     "data": {
      "text/plain": [
       "4"
      ]
     },
     "execution_count": 152,
     "metadata": {},
     "output_type": "execute_result"
    }
   ],
   "source": [
    "picky_piggy(14)"
   ]
  },
  {
   "cell_type": "code",
   "execution_count": 172,
   "id": "902097ff",
   "metadata": {},
   "outputs": [
    {
     "data": {
      "text/plain": [
       "5"
      ]
     },
     "execution_count": 172,
     "metadata": {},
     "output_type": "execute_result"
    }
   ],
   "source": [
    "picky_piggy(5)"
   ]
  },
  {
   "cell_type": "code",
   "execution_count": 60,
   "id": "9dfb65ae",
   "metadata": {},
   "outputs": [
    {
     "data": {
      "text/plain": [
       "7"
      ]
     },
     "execution_count": 60,
     "metadata": {},
     "output_type": "execute_result"
    }
   ],
   "source": [
    "picky_piggy(24) # anw: 7"
   ]
  },
  {
   "cell_type": "code",
   "execution_count": 116,
   "id": "35309861",
   "metadata": {
    "scrolled": true
   },
   "outputs": [
    {
     "data": {
      "text/plain": [
       "2.0"
      ]
     },
     "execution_count": 116,
     "metadata": {},
     "output_type": "execute_result"
    }
   ],
   "source": [
    "1/7 * pow(10, 24)%10"
   ]
  },
  {
   "cell_type": "code",
   "execution_count": 167,
   "id": "54b0722a",
   "metadata": {
    "scrolled": true
   },
   "outputs": [
    {
     "name": "stdout",
     "output_type": "stream",
     "text": [
      "f-string example10 : 0.142857142857142849212693\n"
     ]
    }
   ],
   "source": [
    "print(f'f-string example10 : {1.0/7.0:.24f}')"
   ]
  },
  {
   "cell_type": "code",
   "execution_count": 171,
   "id": "8f2c9b07",
   "metadata": {},
   "outputs": [
    {
     "data": {
      "text/plain": [
       "Decimal('142857142857142849212692.6812')"
      ]
     },
     "execution_count": 171,
     "metadata": {},
     "output_type": "execute_result"
    }
   ],
   "source": [
    "import decimal\n",
    "decimal.Decimal(1/7)*10**24"
   ]
  },
  {
   "cell_type": "code",
   "execution_count": 3,
   "id": "dc6f3d9d",
   "metadata": {},
   "outputs": [],
   "source": [
    "def take_turn(num_rolls, opponent_score, dice=six_sided, goal=GOAL_SCORE):\n",
    "    \"\"\"Simulate a turn rolling NUM_ROLLS dice, which may be 0 in the case\n",
    "    of a player using Picky Piggy.\n",
    "    Return the points scored for the turn by the current player.\n",
    "\n",
    "    num_rolls:       The number of dice rolls that will be made.\n",
    "    opponent_score:  The total score of the opponent.\n",
    "    dice:            A function that simulates a single dice roll outcome.\n",
    "    goal:            The goal score of the game.\n",
    "    \"\"\"\n",
    "    # Leave these assert statements here; they help check for errors.\n",
    "    assert type(num_rolls) == int, 'num_rolls must be an integer.'\n",
    "    assert num_rolls >= 0, 'Cannot roll a negative number of dice in take_turn.'\n",
    "    assert num_rolls <= 10, 'Cannot roll more than 10 dice.'\n",
    "    assert opponent_score < goal, 'The game should be over.'\n",
    "    # BEGIN PROBLEM 3\n",
    "    \n",
    "    if num_rolls == 0:\n",
    "        return picky_piggy(opponent_score)\n",
    "    else:\n",
    "        return roll_dice(num_rolls, dice)\n",
    "    "
   ]
  },
  {
   "cell_type": "code",
   "execution_count": 119,
   "id": "52f94fca",
   "metadata": {},
   "outputs": [
    {
     "data": {
      "text/plain": [
       "9"
      ]
     },
     "execution_count": 119,
     "metadata": {},
     "output_type": "execute_result"
    }
   ],
   "source": [
    "take_turn(2, 0, make_test_dice(4, 5, 1))"
   ]
  },
  {
   "cell_type": "code",
   "execution_count": 120,
   "id": "a2aed9d1",
   "metadata": {},
   "outputs": [
    {
     "data": {
      "text/plain": [
       "1"
      ]
     },
     "execution_count": 120,
     "metadata": {},
     "output_type": "execute_result"
    }
   ],
   "source": [
    "take_turn(3, 0, make_test_dice(4, 6, 1))"
   ]
  },
  {
   "cell_type": "code",
   "execution_count": 121,
   "id": "702b6769",
   "metadata": {},
   "outputs": [
    {
     "data": {
      "text/plain": [
       "4"
      ]
     },
     "execution_count": 121,
     "metadata": {},
     "output_type": "execute_result"
    }
   ],
   "source": [
    "take_turn(0, 2)"
   ]
  },
  {
   "cell_type": "code",
   "execution_count": 122,
   "id": "735a180d",
   "metadata": {},
   "outputs": [],
   "source": [
    "a = lambda x: player_score if opponent_score == player_score else 0"
   ]
  },
  {
   "cell_type": "code",
   "execution_count": 123,
   "id": "aff3b904",
   "metadata": {},
   "outputs": [],
   "source": [
    "player_score, opponent_score = 10, 10\n",
    "\n",
    "a = lambda x: 'player_score' if x == player_score else '0'"
   ]
  },
  {
   "cell_type": "code",
   "execution_count": 124,
   "id": "fed3c125",
   "metadata": {},
   "outputs": [
    {
     "name": "stdout",
     "output_type": "stream",
     "text": [
      "<function <lambda> at 0x7f7bd120c040>\n"
     ]
    }
   ],
   "source": [
    "print(a)"
   ]
  },
  {
   "cell_type": "code",
   "execution_count": 125,
   "id": "227e96cc",
   "metadata": {
    "scrolled": true
   },
   "outputs": [
    {
     "data": {
      "text/plain": [
       "<function __main__.<lambda>(x)>"
      ]
     },
     "execution_count": 125,
     "metadata": {},
     "output_type": "execute_result"
    }
   ],
   "source": [
    "a"
   ]
  },
  {
   "cell_type": "code",
   "execution_count": 4,
   "id": "d07e41bc",
   "metadata": {},
   "outputs": [],
   "source": [
    "def hog_pile(player_score, opponent_score):\n",
    "    \"\"\"Return the points scored by player due to Hog Pile.\n",
    "\n",
    "    player_score:   The total score of the current player.\n",
    "    opponent_score: The total score of the other player.\n",
    "    \"\"\"\n",
    "    # BEGIN PROBLEM 4\n",
    "    \n",
    "    if opponent_score == player_score:\n",
    "        return player_score\n",
    "    else:\n",
    "        return 0\n",
    "    # END PROBLEM 4"
   ]
  },
  {
   "cell_type": "code",
   "execution_count": 5,
   "id": "f3dc2660",
   "metadata": {},
   "outputs": [],
   "source": [
    "def next_player(who):\n",
    "    \"\"\"Return the other player, for a player WHO numbered 0 or 1.\n",
    "\n",
    "    >>> next_player(0)\n",
    "    1\n",
    "    >>> next_player(1)\n",
    "    0\n",
    "    \"\"\"\n",
    "    return 1 - who\n",
    "\n",
    "\n",
    "def silence(score0, score1):\n",
    "    \"\"\"Announce nothing (see Phase 2).\"\"\"\n",
    "    return silence"
   ]
  },
  {
   "cell_type": "code",
   "execution_count": 66,
   "id": "d1286a0d",
   "metadata": {},
   "outputs": [],
   "source": [
    "def play(strategy0, strategy1, score0=0, score1=0, dice=six_sided,\n",
    "         goal=GOAL_SCORE, say=silence):\n",
    "    \"\"\"Simulate a game and return the final scores of both players, with Player\n",
    "    0's score first, and Player 1's score second.\n",
    "\n",
    "    A strategy is a function that takes two total scores as arguments (the\n",
    "    current player's score, and the opponent's score), and returns a number of\n",
    "    dice that the current player will roll this turn.\n",
    "\n",
    "    strategy0:  The strategy function for Player 0, who plays first.\n",
    "    strategy1:  The strategy function for Player 1, who plays second.\n",
    "    score0:     Starting score for Player 0\n",
    "    score1:     Starting score for Player 1\n",
    "    dice:       A function of zero arguments that simulates a dice roll.\n",
    "    goal:       The game ends and someone wins when this score is reached.\n",
    "    say:        The commentary function to call at the end of the first turn.\n",
    "    \"\"\"\n",
    "    who = 0  # Who is about to take a turn, 0 (first) or 1 (second)\n",
    "    # BEGIN PROBLEM 5\n",
    "    \n",
    "    while 1:\n",
    "        score0 += hog_pile(take_turn(5, score1, dice, goal), score1) # 5 -> strategy0(score0, score1)\n",
    "        if score0 >= 100:\n",
    "            break\n",
    "        # who = next_player(who)\n",
    "        score1 += hog_pile(take_turn(3, score0, dice, goal), score0) # 3 -> strategy1(score1, score0)\n",
    "        if score1 >= 100:\n",
    "            break\n",
    "\n",
    "    # END PROBLEM 5\n",
    "    # (note that the indentation for the problem 6 prompt (***YOUR CODE HERE***) might be misleading)\n",
    "    # BEGIN PROBLEM 6\n",
    "    \n",
    "    # END PROBLEM 6\n",
    "    return score0, score1"
   ]
  },
  {
   "cell_type": "code",
   "execution_count": 16,
   "id": "9fbd5adc",
   "metadata": {},
   "outputs": [],
   "source": [
    "always_three = make_test_dice(3)"
   ]
  },
  {
   "cell_type": "code",
   "execution_count": 146,
   "id": "3903bc75",
   "metadata": {
    "scrolled": true
   },
   "outputs": [
    {
     "name": "stdout",
     "output_type": "stream",
     "text": [
      "106 10\n"
     ]
    }
   ],
   "source": [
    "s0, s1 = play(5, 3, score0=91, score1=10, dice=always_three, say_scores)\n"
   ]
  },
  {
   "cell_type": "code",
   "execution_count": 147,
   "id": "8d365238",
   "metadata": {},
   "outputs": [
    {
     "data": {
      "text/plain": [
       "106"
      ]
     },
     "execution_count": 147,
     "metadata": {},
     "output_type": "execute_result"
    }
   ],
   "source": [
    "s0"
   ]
  },
  {
   "cell_type": "code",
   "execution_count": null,
   "id": "fca29f30",
   "metadata": {},
   "outputs": [],
   "source": [
    "# take_turn(num_rolls, opponent_score, dice=six_sided, goal=GOAL_SCORE):"
   ]
  },
  {
   "cell_type": "code",
   "execution_count": 67,
   "id": "43fcc577",
   "metadata": {},
   "outputs": [],
   "source": [
    "def say_scores(score0, score1):\n",
    "    \"\"\"A commentary function that announces the score for each player.\"\"\"\n",
    "    print(\"Player 0 now has\", score0, \"and Player 1 now has\", score1)\n",
    "    return say_scores"
   ]
  },
  {
   "cell_type": "code",
   "execution_count": 10,
   "id": "8a0e9a20",
   "metadata": {},
   "outputs": [],
   "source": [
    "a = say_scores"
   ]
  },
  {
   "cell_type": "code",
   "execution_count": 11,
   "id": "0a1d3bdc",
   "metadata": {
    "scrolled": false
   },
   "outputs": [
    {
     "name": "stdout",
     "output_type": "stream",
     "text": [
      "Player 0 now has 19 and Player 1 now has 20\n",
      "Player 0 now has 29 and Player 1 now has 3\n",
      "Player 0 now has 29 and Player 1 now has 3\n",
      "Player 0 now has 29 and Player 1 now has 3\n",
      "Player 0 now has 29 and Player 1 now has 3\n"
     ]
    },
    {
     "data": {
      "text/plain": [
       "<function __main__.say_scores(score0, score1)>"
      ]
     },
     "execution_count": 11,
     "metadata": {},
     "output_type": "execute_result"
    }
   ],
   "source": [
    "a(19, 20)(29, 3)(29, 3)(29, 3)(29, 3)"
   ]
  },
  {
   "cell_type": "code",
   "execution_count": 105,
   "id": "99758064",
   "metadata": {},
   "outputs": [],
   "source": [
    "def play(strategy0, strategy1, score0=0, score1=0, dice=six_sided,\n",
    "         goal=GOAL_SCORE, say=silence):\n",
    "    \"\"\"Simulate a game and return the final scores of both players, with Player\n",
    "    0's score first, and Player 1's score second.\n",
    "\n",
    "    A strategy is a function that takes two total scores as arguments (the\n",
    "    current player's score, and the opponent's score), and returns a number of\n",
    "    dice that the current player will roll this turn.\n",
    "\n",
    "    strategy0:  The strategy function for Player 0, who plays first.\n",
    "    strategy1:  The strategy function for Player 1, who plays second.\n",
    "    score0:     Starting score for Player 0\n",
    "    score1:     Starting score for Player 1\n",
    "    dice:       A function of zero arguments that simulates a dice roll.\n",
    "    goal:       The game ends and someone wins when this score is reached.\n",
    "    say:        The commentary function to call at the end of the first turn.\n",
    "    \"\"\"\n",
    "    who = 0  # Who is about to take a turn, 0 (first) or 1 (second)\n",
    "    # BEGIN PROBLEM 5\n",
    "    \n",
    "    \n",
    "    score0 += take_turn(strategy0(score0, score1), score1, dice, goal)\n",
    "    score0 += hog_pile(score0, score1)\n",
    "    say = say(score0, score1)\n",
    "    if score0 >= goal:\n",
    "        return score0, score1\n",
    "\n",
    "    # who = next_player(w ho)\n",
    "    score1 += take_turn(strategy1(score1, score0), score0, dice, goal)\n",
    "    score1 += hog_pile(score1, score0)\n",
    "    say = say(score0, score1)\n",
    "    if score1 >= goal:\n",
    "        return score0, score1\n",
    "    \n",
    "    return play(strategy0, strategy1, score0, score1, dice, goal, say)\n",
    "    \n",
    "    # END PROBLEM 5\n",
    "    # (note that the indentation for the problem 6 prompt (***YOUR CODE HERE***) might be misleading)\n",
    "    # BEGIN PROBLEM 6\n",
    "    say(score0, score1)\n",
    "    \n",
    "    \n",
    "    # END PROBLEM 6\n",
    "    # return score0, score1"
   ]
  },
  {
   "cell_type": "code",
   "execution_count": 124,
   "id": "eb381c61",
   "metadata": {},
   "outputs": [],
   "source": [
    "def play(strategy0, strategy1, score0=0, score1=0, dice=six_sided,\n",
    "         goal=GOAL_SCORE, say=silence):\n",
    "    \"\"\"Simulate a game and return the final scores of both players, with Player\n",
    "    0's score first, and Player 1's score second.\n",
    "\n",
    "    A strategy is a function that takes two total scores as arguments (the\n",
    "    current player's score, and the opponent's score), and returns a number of\n",
    "    dice that the current player will roll this turn.\n",
    "\n",
    "    strategy0:  The strategy function for Player 0, who plays first.\n",
    "    strategy1:  The strategy function for Player 1, who plays second.\n",
    "    score0:     Starting score for Player 0\n",
    "    score1:     Starting score for Player 1\n",
    "    dice:       A function of zero arguments that simulates a dice roll.\n",
    "    goal:       The game ends and someone wins when this score is reached.\n",
    "    say:        The commentary function to call at the end of the first turn.\n",
    "    \"\"\"\n",
    "    who = 0  # Who is about to take a turn, 0 (first) or 1 (second)\n",
    "    # BEGIN PROBLEM 5\n",
    "    \n",
    "    \n",
    "    while 1:\n",
    "        score0 += take_turn(strategy0(score0, score1), score1, dice, goal)\n",
    "        score0 += hog_pile(score0, score1)\n",
    "        say = say(score0, score1)\n",
    "        \n",
    "        if score0 >= goal:\n",
    "            break\n",
    "            \n",
    "        # who = next_player(w ho)\n",
    "        score1 += take_turn(strategy1(score1, score0), score0, dice, goal)\n",
    "        score1 += hog_pile(score1, score0)\n",
    "        say = say(score0, score1)\n",
    "        \n",
    "        if score1 >= goal:\n",
    "            break\n",
    "\n",
    "    # END PROBLEM 5\n",
    "    # (note that the indentation for the problem 6 prompt (***YOUR CODE HERE***) might be misleading)\n",
    "    # BEGIN PROBLEM 6\n",
    "    \n",
    "    \n",
    "    \n",
    "    # END PROBLEM 6\n",
    "    return score0, score1"
   ]
  },
  {
   "cell_type": "code",
   "execution_count": null,
   "id": "82bc0ca9",
   "metadata": {},
   "outputs": [],
   "source": []
  },
  {
   "cell_type": "code",
   "execution_count": 114,
   "id": "8954b90f",
   "metadata": {},
   "outputs": [],
   "source": [
    "def always_roll(n):\n",
    "    \"\"\"Return a strategy that always rolls N dice.\n",
    "\n",
    "    A strategy is a function that takes two total scores as arguments (the\n",
    "    current player's score, and the opponent's score), and returns a number of\n",
    "    dice that the current player will roll this turn.\n",
    "\n",
    "    >>> strategy = always_roll(5)\n",
    "    >>> strategy(0, 0)\n",
    "    5\n",
    "    >>> strategy(99, 99)\n",
    "    5\n",
    "    \"\"\"\n",
    "    def strategy(score, opponent_score):\n",
    "        return n\n",
    "    return strategy"
   ]
  },
  {
   "cell_type": "code",
   "execution_count": 115,
   "id": "f4f4249f",
   "metadata": {},
   "outputs": [],
   "source": [
    "def echo(s0, s1):\n",
    "    print(s0, s1)\n",
    "    return echo\n"
   ]
  },
  {
   "cell_type": "code",
   "execution_count": 125,
   "id": "e4eb2c30",
   "metadata": {},
   "outputs": [
    {
     "name": "stdout",
     "output_type": "stream",
     "text": [
      "3 0\n",
      "3 6\n"
     ]
    }
   ],
   "source": [
    "s0, s1 = play(always_roll(1), always_roll(1), dice=make_test_dice(3), goal=5, say=echo)"
   ]
  },
  {
   "cell_type": "code",
   "execution_count": 126,
   "id": "062adee3",
   "metadata": {},
   "outputs": [],
   "source": [
    "def count(n):\n",
    "    def say(s0, s1):\n",
    "        print(n, s0)\n",
    "        return count(n + 1)\n",
    "    return say\n"
   ]
  },
  {
   "cell_type": "code",
   "execution_count": 127,
   "id": "263bb87f",
   "metadata": {},
   "outputs": [
    {
     "name": "stdout",
     "output_type": "stream",
     "text": [
      "1 5\n",
      "2 5\n",
      "3 20\n"
     ]
    }
   ],
   "source": [
    "s0, s1 = play(always_roll(1), always_roll(1), dice=make_test_dice(5), goal=15, say=count(1))"
   ]
  },
  {
   "cell_type": "code",
   "execution_count": 128,
   "id": "d5bd179a",
   "metadata": {},
   "outputs": [
    {
     "name": "stdout",
     "output_type": "stream",
     "text": [
      "4 0\n",
      "4 12\n",
      "11 12\n",
      "11 24\n"
     ]
    }
   ],
   "source": [
    "strat0 = lambda score, opponent: 1 - opponent // 10\n",
    "strat1 = always_roll(3)\n",
    "\n",
    "s0, s1 = play(strat0, strat1, dice=make_test_dice(4, 2, 6), goal=15, say=echo)"
   ]
  },
  {
   "cell_type": "code",
   "execution_count": 131,
   "id": "097cd208",
   "metadata": {},
   "outputs": [],
   "source": [
    "def total(s0, s1):\n",
    "    print(s0 + s1)\n",
    "    return echo\n",
    "\n",
    "def echo(s0, s1):\n",
    "    print(s0, s1)\n",
    "    return total\n"
   ]
  },
  {
   "cell_type": "code",
   "execution_count": 132,
   "id": "5585e3b3",
   "metadata": {},
   "outputs": [
    {
     "name": "stdout",
     "output_type": "stream",
     "text": [
      "2 0\n",
      "7\n",
      "4 5\n",
      "14\n"
     ]
    }
   ],
   "source": [
    "s0, s1 = play(always_roll(1), always_roll(1), dice=make_test_dice(2, 5), goal=10, say=echo)\n"
   ]
  },
  {
   "cell_type": "code",
   "execution_count": 133,
   "id": "c54ba237",
   "metadata": {},
   "outputs": [],
   "source": [
    "def echo_0(s0, s1):\n",
    "    print('*', s0)\n",
    "    return echo_0\n",
    "def echo_1(s0, s1):\n",
    "    print('**', s1)\n",
    "    return echo_1\n"
   ]
  },
  {
   "cell_type": "code",
   "execution_count": 136,
   "id": "01c1e695",
   "metadata": {},
   "outputs": [],
   "source": [
    "\n",
    "def both(f, g):\n",
    "    \"\"\"Return a commentary function that says what f says, then what g says.\n",
    "\n",
    "    >>> h0 = both(say_scores, announce_lead_changes())\n",
    "    >>> h1 = h0(10, 0)\n",
    "    Player 0 now has 10 and Player 1 now has 0\n",
    "    Player 0 takes the lead by 10\n",
    "    >>> h2 = h1(10, 8)\n",
    "    Player 0 now has 10 and Player 1 now has 8\n",
    "    >>> h3 = h2(10, 17)\n",
    "    Player 0 now has 10 and Player 1 now has 17\n",
    "    Player 1 takes the lead by 7\n",
    "    \"\"\"\n",
    "    def say(score0, score1):\n",
    "        return both(f(score0, score1), g(score0, score1))\n",
    "    return say"
   ]
  },
  {
   "cell_type": "code",
   "execution_count": 137,
   "id": "1e658e8f",
   "metadata": {},
   "outputs": [
    {
     "name": "stdout",
     "output_type": "stream",
     "text": [
      "* 2\n",
      "** 0\n",
      "* 2\n",
      "** 4\n",
      "* 8\n",
      "** 4\n"
     ]
    }
   ],
   "source": [
    "s0, s1 = play(always_roll(1), always_roll(1), dice=make_test_dice(2), goal=5, say=both(echo_0, echo_1))"
   ]
  },
  {
   "cell_type": "code",
   "execution_count": null,
   "id": "edac963f",
   "metadata": {},
   "outputs": [],
   "source": [
    "def announce_highest(who, last_score=0, running_high=0):\n",
    "    \"\"\"Return a commentary function that announces when WHO's score\n",
    "    increases by more than ever before in the game.\n",
    "\n",
    "    >>> f0 = announce_highest(1) # Only announce Player 1 score gains\n",
    "    >>> f1 = f0(12, 0)\n",
    "    >>> f2 = f1(12, 9)\n",
    "    9 point(s)! That's a record gain for Player 1!\n",
    "    >>> f3 = f2(20, 9)\n",
    "    >>> f4 = f3(20, 30)\n",
    "    21 point(s)! That's a record gain for Player 1!\n",
    "    >>> f5 = f4(20, 47) # Player 1 gets 17 points; not enough for a new high\n",
    "    >>> f6 = f5(21, 47)\n",
    "    >>> f7 = f6(21, 77)\n",
    "    30 point(s)! That's a record gain for Player 1!\n",
    "    \"\"\"\n",
    "    assert who == 0 or who == 1, 'The who argument should indicate a player.'\n",
    "    # BEGIN PROBLEM 7\n",
    "    \n",
    "    \n",
    "    \n",
    "    \n",
    "    # END PROBLEM 7\n"
   ]
  },
  {
   "cell_type": "markdown",
   "id": "b5442102",
   "metadata": {},
   "source": [
    "Choose the number of the correct choice:\n",
    "0) A string containing the largest point increase for the\n",
    "   current player.\n",
    "1) The current largest point increase between both\n",
    "   players.\n",
    "2) A commentary function that prints information about the\n",
    "   biggest point increase for the current player.\n",
    "? 2\n",
    "-- OK! --\n",
    "\n",
    "Choose the number of the correct choice:\n",
    "0) After each turn.\n",
    "1) When the current player, given by the parameter `who`,\n",
    "   earns the biggest point increase yet between both\n",
    "   players in the game.\n",
    "2) When the current player, given by the parameter `who`,\n",
    "   earns their biggest point increase yet in the game.\n",
    "? 2\n",
    "-- OK! --\n",
    "\n",
    "Choose the number of the correct choice:\n",
    "0) The relevant player's score before this turn.\n",
    "1) The opponent's score before this turn.\n",
    "2) The last highest gain for the current player.\n",
    "? 0\n",
    "-- OK! --\n",
    "\n"
   ]
  },
  {
   "cell_type": "code",
   "execution_count": null,
   "id": "5513dde3",
   "metadata": {},
   "outputs": [],
   "source": []
  },
  {
   "cell_type": "code",
   "execution_count": 5,
   "id": "6ed6e091",
   "metadata": {},
   "outputs": [],
   "source": [
    "def announce_lead_changes(last_leader=None):\n",
    "    \"\"\"Return a commentary function that announces lead changes.\n",
    "\n",
    "    >>> f0 = announce_lead_changes()\n",
    "    >>> f1 = f0(5, 0)\n",
    "    Player 0 takes the lead by 5\n",
    "    >>> f2 = f1(5, 12)\n",
    "    Player 1 takes the lead by 7\n",
    "    >>> f3 = f2(8, 12)\n",
    "    >>> f4 = f3(8, 13)\n",
    "    >>> f5 = f4(15, 13)\n",
    "    Player 0 takes the lead by 2\n",
    "    \"\"\"\n",
    "    def say(score0, score1):\n",
    "        if score0 > score1:\n",
    "            leader = 0\n",
    "        elif score1 > score0:\n",
    "            leader = 1\n",
    "        else: # 스코어가 동일할때\n",
    "            leader = None\n",
    "        if leader != None and leader != last_leader:\n",
    "            print('Player', leader, 'takes the lead by', abs(score0 - score1))\n",
    "        return announce_lead_changes(leader)\n",
    "    return say"
   ]
  },
  {
   "cell_type": "code",
   "execution_count": 6,
   "id": "e2e7c75c",
   "metadata": {},
   "outputs": [
    {
     "name": "stdout",
     "output_type": "stream",
     "text": [
      "Player 0 takes the lead by 5\n",
      "Player 1 takes the lead by 7\n"
     ]
    }
   ],
   "source": [
    "f0 = announce_lead_changes() # f0 -> 리더가 없음\n",
    "f1 = f0(5, 0) # f1 -> 리더가 0\n",
    "f2 = f1(5, 12) "
   ]
  },
  {
   "cell_type": "code",
   "execution_count": 7,
   "id": "a34b92a5",
   "metadata": {},
   "outputs": [],
   "source": [
    "f3 = f2(12, 12)"
   ]
  },
  {
   "cell_type": "code",
   "execution_count": 8,
   "id": "f591018d",
   "metadata": {},
   "outputs": [],
   "source": [
    "f4 = f1(14, 2)"
   ]
  },
  {
   "cell_type": "code",
   "execution_count": 139,
   "id": "689429b2",
   "metadata": {},
   "outputs": [],
   "source": [
    "f0 = announce_lead_changes()"
   ]
  },
  {
   "cell_type": "code",
   "execution_count": 140,
   "id": "5268216d",
   "metadata": {},
   "outputs": [
    {
     "name": "stdout",
     "output_type": "stream",
     "text": [
      "Player 0 takes the lead by 5\n"
     ]
    }
   ],
   "source": [
    "f1 = f0(5, 0)"
   ]
  },
  {
   "cell_type": "code",
   "execution_count": 141,
   "id": "b5616e82",
   "metadata": {},
   "outputs": [
    {
     "name": "stdout",
     "output_type": "stream",
     "text": [
      "Player 1 takes the lead by 7\n"
     ]
    }
   ],
   "source": [
    "f2 = f1(5, 12)"
   ]
  },
  {
   "cell_type": "code",
   "execution_count": 1,
   "id": "ab7d7d6d",
   "metadata": {},
   "outputs": [],
   "source": [
    "def announce_highest(who, last_score=0, running_high=0):\n",
    "    \"\"\"Return a commentary function that announces when WHO's score\n",
    "    increases by more than ever before in the game.\n",
    "\n",
    "    >>> f0 = announce_highest(1) # Only announce Player 1 score gains\n",
    "    >>> f1 = f0(12, 0)\n",
    "    >>> f2 = f1(12, 9)\n",
    "    9 point(s)! That's a record gain for Player 1!\n",
    "    >>> f3 = f2(20, 9)\n",
    "    >>> f4 = f3(20, 30)\n",
    "    21 point(s)! That's a record gain for Player 1!\n",
    "    >>> f5 = f4(20, 47) # Player 1 gets 17 points; not enough for a new high\n",
    "    >>> f6 = f5(21, 47)\n",
    "    >>> f7 = f6(21, 77)\n",
    "    30 point(s)! That's a record gain for Player 1!\n",
    "    \"\"\"\n",
    "    assert who == 0 or who == 1, 'The who argument should indicate a player.'\n",
    "    # BEGIN PROBLEM 7\n",
    "    \n",
    "\n",
    "    def announce(score0, score1):\n",
    "        if who == 0:\n",
    "            score_gap = score0 - last_score\n",
    "            \n",
    "            if score_gap > running_high:\n",
    "                print(score_gap, \"point(s)! That's a record gain for Player\", str(who)+\"!\")\n",
    "                \n",
    "                return announce_highest(who, score0, score_gap)\n",
    "            \n",
    "            return announce_highest(who, score0, running_high)\n",
    "            \n",
    "        else:\n",
    "            score_gap = score1 - last_score\n",
    "            \n",
    "            if score_gap > running_high:\n",
    "                print(score_gap, \"point(s)! That's a record gain for Player\", str(who)+\"!\")\n",
    "                \n",
    "                return announce_highest(who, score1, score_gap)\n",
    "                \n",
    "            return announce_highest(who, score1, running_high)\n",
    "    \n",
    "    return announce# (whom, last_score, running_hihg)\n",
    "    \n",
    "    \n",
    "    # END PROBLEM 7\n"
   ]
  },
  {
   "cell_type": "code",
   "execution_count": 15,
   "id": "0ebf0f0d",
   "metadata": {},
   "outputs": [],
   "source": [
    "f0 = announce_highest(0) # who = 1, last_score, running_high = 0, 0"
   ]
  },
  {
   "cell_type": "code",
   "execution_count": 16,
   "id": "be32aac3",
   "metadata": {},
   "outputs": [
    {
     "name": "stdout",
     "output_type": "stream",
     "text": [
      "12 point(s)! That's a record gain for Player 0!\n"
     ]
    }
   ],
   "source": [
    "f1 = f0(12, 0) # "
   ]
  },
  {
   "cell_type": "code",
   "execution_count": 17,
   "id": "4c979fb7",
   "metadata": {},
   "outputs": [],
   "source": [
    "f2 = f1(12, 10)"
   ]
  },
  {
   "cell_type": "code",
   "execution_count": 18,
   "id": "e016984c",
   "metadata": {},
   "outputs": [],
   "source": [
    "f3 = f2(12, 11)"
   ]
  },
  {
   "cell_type": "code",
   "execution_count": 19,
   "id": "543a6848",
   "metadata": {},
   "outputs": [],
   "source": [
    "f4 = f3(15, 30)"
   ]
  },
  {
   "cell_type": "code",
   "execution_count": 196,
   "id": "46b69a3d",
   "metadata": {},
   "outputs": [
    {
     "data": {
      "text/plain": [
       "10"
      ]
     },
     "execution_count": 196,
     "metadata": {},
     "output_type": "execute_result"
    }
   ],
   "source": [
    "a(1, 1)"
   ]
  },
  {
   "cell_type": "code",
   "execution_count": 147,
   "id": "f3a54b53",
   "metadata": {},
   "outputs": [
    {
     "ename": "SyntaxError",
     "evalue": "cannot assign to operator (<ipython-input-147-472c94510a7e>, line 2)",
     "output_type": "error",
     "traceback": [
      "\u001b[0;36m  File \u001b[0;32m\"<ipython-input-147-472c94510a7e>\"\u001b[0;36m, line \u001b[0;32m2\u001b[0m\n\u001b[0;31m    b+a = \"printa\"\u001b[0m\n\u001b[0m    ^\u001b[0m\n\u001b[0;31mSyntaxError\u001b[0m\u001b[0;31m:\u001b[0m cannot assign to operator\n"
     ]
    }
   ],
   "source": [
    "a = '10'\n",
    "b+a = \"printa\""
   ]
  },
  {
   "cell_type": "code",
   "execution_count": 248,
   "id": "9cc1b734",
   "metadata": {},
   "outputs": [],
   "source": [
    "def make_adder(n, a=1, b=2):\n",
    "    def adder(k):\n",
    "        score = a\n",
    "        print(score)\n",
    "        print('hey', a)\n",
    "        return k+n\n",
    "    return adder"
   ]
  },
  {
   "cell_type": "code",
   "execution_count": 249,
   "id": "8efc74c4",
   "metadata": {},
   "outputs": [],
   "source": [
    "f0 = make_adder(1)"
   ]
  },
  {
   "cell_type": "code",
   "execution_count": 250,
   "id": "a42da414",
   "metadata": {},
   "outputs": [
    {
     "name": "stdout",
     "output_type": "stream",
     "text": [
      "1\n",
      "hey 1\n"
     ]
    }
   ],
   "source": [
    "f1 = f0(2)"
   ]
  },
  {
   "cell_type": "code",
   "execution_count": 240,
   "id": "ae56aeb6",
   "metadata": {},
   "outputs": [
    {
     "data": {
      "text/plain": [
       "<function __main__.make_adder.<locals>.adder(k)>"
      ]
     },
     "execution_count": 240,
     "metadata": {},
     "output_type": "execute_result"
    }
   ],
   "source": []
  },
  {
   "cell_type": "code",
   "execution_count": 233,
   "id": "a2a935b2",
   "metadata": {},
   "outputs": [],
   "source": [
    "def announce_highest(who, alst_score=0, running_high=0):\n",
    "    assert who == 0 or who == 1\n",
    "    \n",
    "    def announce_score(score0, score1)"
   ]
  },
  {
   "cell_type": "code",
   "execution_count": 235,
   "id": "941fb08b",
   "metadata": {},
   "outputs": [],
   "source": [
    "\n",
    "a1 = a(2)"
   ]
  },
  {
   "cell_type": "code",
   "execution_count": 236,
   "id": "05c24e07",
   "metadata": {},
   "outputs": [
    {
     "data": {
      "text/plain": [
       "3"
      ]
     },
     "execution_count": 236,
     "metadata": {},
     "output_type": "execute_result"
    }
   ],
   "source": [
    "a1"
   ]
  },
  {
   "cell_type": "code",
   "execution_count": 273,
   "id": "356cf782",
   "metadata": {},
   "outputs": [],
   "source": [
    "def make_adder(n):\n",
    "    def adder(k):\n",
    "        return k + n\n",
    "    return adder"
   ]
  },
  {
   "cell_type": "code",
   "execution_count": 274,
   "id": "4d2e97e5",
   "metadata": {},
   "outputs": [],
   "source": [
    "a0 = make_adder(1)"
   ]
  },
  {
   "cell_type": "code",
   "execution_count": 275,
   "id": "1349f654",
   "metadata": {},
   "outputs": [],
   "source": [
    "a1 = a0(1)"
   ]
  },
  {
   "cell_type": "code",
   "execution_count": null,
   "id": "9a67fa4c",
   "metadata": {},
   "outputs": [],
   "source": []
  },
  {
   "cell_type": "code",
   "execution_count": 278,
   "id": "1c5faccb",
   "metadata": {
    "scrolled": true
   },
   "outputs": [
    {
     "ename": "TypeError",
     "evalue": "'int' object is not callable",
     "output_type": "error",
     "traceback": [
      "\u001b[0;31m---------------------------------------------------------------------------\u001b[0m",
      "\u001b[0;31mTypeError\u001b[0m                                 Traceback (most recent call last)",
      "\u001b[0;32m<ipython-input-278-1e5e569c09f1>\u001b[0m in \u001b[0;36m<module>\u001b[0;34m\u001b[0m\n\u001b[0;32m----> 1\u001b[0;31m \u001b[0ma2\u001b[0m \u001b[0;34m=\u001b[0m \u001b[0ma1\u001b[0m\u001b[0;34m(\u001b[0m\u001b[0;36m2\u001b[0m\u001b[0;34m)\u001b[0m\u001b[0;34m(\u001b[0m\u001b[0;36m3\u001b[0m\u001b[0;34m)\u001b[0m\u001b[0;34m\u001b[0m\u001b[0;34m\u001b[0m\u001b[0m\n\u001b[0m",
      "\u001b[0;31mTypeError\u001b[0m: 'int' object is not callable"
     ]
    }
   ],
   "source": [
    "a2 = a1(2)(3)"
   ]
  },
  {
   "cell_type": "code",
   "execution_count": 349,
   "id": "44c0edc5",
   "metadata": {},
   "outputs": [],
   "source": [
    "def make_averaged(original_function, trials_count=1000):\n",
    "    \"\"\"Return a function that returns the average value of ORIGINAL_FUNCTION\n",
    "    called TRIALS_COUNT times.\n",
    "\n",
    "    To implement this function, you will have to use *args syntax, a new Python\n",
    "    feature introduced in this project.  See the project description.\n",
    "\n",
    "    >>> dice = make_test_dice(4, 2, 5, 1)\n",
    "    >>> averaged_dice = make_averaged(roll_dice, 1000)\n",
    "    >>> averaged_dice(1, dice)\n",
    "    3.0\n",
    "    \"\"\"\n",
    "    # BEGIN PROBLEM 8\n",
    "    \n",
    "    def find_average(*args):\n",
    "        total = 0\n",
    "        for i in range(trials_count):\n",
    "            total += original_function(*args)\n",
    "            \n",
    "        return total / trials_count\n",
    "    \n",
    "    return find_average\n",
    "    \n",
    "    # END PROBLEM 8\n"
   ]
  },
  {
   "cell_type": "code",
   "execution_count": 350,
   "id": "bb0129ac",
   "metadata": {},
   "outputs": [],
   "source": [
    "dice = make_test_dice(4, 2, 5, 1)"
   ]
  },
  {
   "cell_type": "code",
   "execution_count": 351,
   "id": "df28f487",
   "metadata": {},
   "outputs": [],
   "source": [
    "averaged_dice = make_averaged(roll_dice, 1000)"
   ]
  },
  {
   "cell_type": "code",
   "execution_count": 352,
   "id": "dd2d453c",
   "metadata": {},
   "outputs": [
    {
     "data": {
      "text/plain": [
       "3.0"
      ]
     },
     "execution_count": 352,
     "metadata": {},
     "output_type": "execute_result"
    }
   ],
   "source": [
    "averaged_dice(1, dice)"
   ]
  },
  {
   "cell_type": "code",
   "execution_count": 357,
   "id": "362b3935",
   "metadata": {},
   "outputs": [
    {
     "data": {
      "text/plain": [
       "3.75"
      ]
     },
     "execution_count": 357,
     "metadata": {},
     "output_type": "execute_result"
    }
   ],
   "source": [
    "dice = make_test_dice(3, 1, 5, 6)\n",
    "averaged_dice = make_averaged(dice, 1000)\n",
    "averaged_dice()"
   ]
  },
  {
   "cell_type": "code",
   "execution_count": 358,
   "id": "405f12e5",
   "metadata": {},
   "outputs": [
    {
     "data": {
      "text/plain": [
       "6.0"
      ]
     },
     "execution_count": 358,
     "metadata": {},
     "output_type": "execute_result"
    }
   ],
   "source": [
    "dice = make_test_dice(3, 1, 5, 6)\n",
    "averaged_roll_dice = make_averaged(roll_dice, 1000)\n",
    "averaged_roll_dice(2, dice)"
   ]
  },
  {
   "cell_type": "code",
   "execution_count": 356,
   "id": "746c7edb",
   "metadata": {},
   "outputs": [
    {
     "data": {
      "text/plain": [
       "6.0"
      ]
     },
     "execution_count": 356,
     "metadata": {},
     "output_type": "execute_result"
    }
   ],
   "source": [
    "\n",
    "averaged_roll_dice(2, dice)"
   ]
  },
  {
   "cell_type": "code",
   "execution_count": 114,
   "id": "672d7c5e",
   "metadata": {},
   "outputs": [],
   "source": [
    "# def roll_dice(num_rolls, dice=six_sided):\n",
    "\n",
    "def max_scoring_num_rolls(dice=six_sided, trials_count=1000):\n",
    "    \"\"\"\n",
    "    Return the number of dice (1 to 10) that gives the highest average turn score\n",
    "    by calling roll_dice with the provided DICE a total of TRIALS_COUNT times.\n",
    "    Assume that the dice always return positive outcomes.\n",
    "\n",
    "    >>> dice = make_test_dice(1, 6)\n",
    "    >>> max_scoring_num_rolls(dice)\n",
    "    1\n",
    "    \"\"\"\n",
    "    # BEGIN PROBLEM 9\n",
    "    \n",
    "    \n",
    "\n",
    "    max_num = 0\n",
    "    num_dice = 0 # return value\n",
    "    \n",
    "    for i in range(1, 11):\n",
    "        total_dice_sum = 0\n",
    "        # print(\"ii\", i)\n",
    "        for j in range(trials_count):\n",
    "            total_dice_sum += roll_dice(i, dice)\n",
    "\n",
    "        if total_dice_sum / trials_count > max_num:\n",
    "            max_num = total_dice_sum / trials_count\n",
    "            num_dice = i\n",
    "            # print(\"here\")\n",
    "    return num_dice\n",
    "    \n",
    "    # END PROBLEM 9"
   ]
  },
  {
   "cell_type": "code",
   "execution_count": 115,
   "id": "1e0ad69c",
   "metadata": {},
   "outputs": [],
   "source": [
    "dice = make_test_dice(1, 6)"
   ]
  },
  {
   "cell_type": "code",
   "execution_count": 116,
   "id": "28b60030",
   "metadata": {},
   "outputs": [
    {
     "data": {
      "text/plain": [
       "1"
      ]
     },
     "execution_count": 116,
     "metadata": {},
     "output_type": "execute_result"
    }
   ],
   "source": [
    "max_scoring_num_rolls(dice)"
   ]
  },
  {
   "cell_type": "code",
   "execution_count": 117,
   "id": "d2a5d978",
   "metadata": {},
   "outputs": [
    {
     "data": {
      "text/plain": [
       "10"
      ]
     },
     "execution_count": 117,
     "metadata": {},
     "output_type": "execute_result"
    }
   ],
   "source": [
    "dice = make_test_dice(3)   # dice always returns 3\n",
    "max_scoring_num_rolls(dice, trials_count=1000)"
   ]
  },
  {
   "cell_type": "code",
   "execution_count": 118,
   "id": "8366fb04",
   "metadata": {},
   "outputs": [
    {
     "data": {
      "text/plain": [
       "10"
      ]
     },
     "execution_count": 118,
     "metadata": {},
     "output_type": "execute_result"
    }
   ],
   "source": [
    "dice = make_test_dice(2)     # dice always rolls 2\n",
    "max_scoring_num_rolls(dice, trials_count=1000)"
   ]
  },
  {
   "cell_type": "code",
   "execution_count": 126,
   "id": "a35475a4",
   "metadata": {},
   "outputs": [],
   "source": [
    "def picky_piggy_strategy(score, opponent_score, cutoff=8, num_rolls=6):\n",
    "    \"\"\"This strategy returns 0 dice if that gives at least CUTOFF points, and\n",
    "    returns NUM_ROLLS otherwise.\n",
    "    \"\"\"\n",
    "    # BEGIN PROBLEM 10\n",
    "    \n",
    "    if cutoff <= picky_piggy(opponent_score):\n",
    "        return 0\n",
    "    return num_rolls\n",
    "    \n",
    "    # Remove this line once implemented.\n",
    "    # END PROBLEM 10"
   ]
  },
  {
   "cell_type": "code",
   "execution_count": 127,
   "id": "856af93f",
   "metadata": {},
   "outputs": [
    {
     "data": {
      "text/plain": [
       "0"
      ]
     },
     "execution_count": 127,
     "metadata": {},
     "output_type": "execute_result"
    }
   ],
   "source": [
    "picky_piggy_strategy(0, 4, cutoff=7, num_rolls=5)"
   ]
  },
  {
   "cell_type": "code",
   "execution_count": 128,
   "id": "5e9c4589",
   "metadata": {},
   "outputs": [
    {
     "data": {
      "text/plain": [
       "0"
      ]
     },
     "execution_count": 128,
     "metadata": {},
     "output_type": "execute_result"
    }
   ],
   "source": [
    "picky_piggy_strategy(9, 0, cutoff=6, num_rolls=5)"
   ]
  },
  {
   "cell_type": "code",
   "execution_count": 129,
   "id": "9b7f6265",
   "metadata": {},
   "outputs": [
    {
     "data": {
      "text/plain": [
       "5"
      ]
     },
     "execution_count": 129,
     "metadata": {},
     "output_type": "execute_result"
    }
   ],
   "source": [
    "picky_piggy_strategy(50, 3, cutoff=7, num_rolls=5)"
   ]
  },
  {
   "cell_type": "code",
   "execution_count": 130,
   "id": "fa5680ab",
   "metadata": {},
   "outputs": [
    {
     "data": {
      "text/plain": [
       "4"
      ]
     },
     "execution_count": 130,
     "metadata": {},
     "output_type": "execute_result"
    }
   ],
   "source": [
    "picky_piggy_strategy(32, 0, cutoff=8, num_rolls=4)"
   ]
  },
  {
   "cell_type": "code",
   "execution_count": 131,
   "id": "261834c5",
   "metadata": {},
   "outputs": [
    {
     "data": {
      "text/plain": [
       "0"
      ]
     },
     "execution_count": 131,
     "metadata": {},
     "output_type": "execute_result"
    }
   ],
   "source": [
    "picky_piggy_strategy(20, 0, cutoff=1, num_rolls=4)"
   ]
  },
  {
   "cell_type": "code",
   "execution_count": 132,
   "id": "e32844a5",
   "metadata": {},
   "outputs": [
    {
     "data": {
      "text/plain": [
       "0"
      ]
     },
     "execution_count": 132,
     "metadata": {},
     "output_type": "execute_result"
    }
   ],
   "source": [
    "picky_piggy_strategy(88, 12, 7, 10)\n"
   ]
  },
  {
   "cell_type": "code",
   "execution_count": 166,
   "id": "4051f4e6",
   "metadata": {},
   "outputs": [],
   "source": [
    "def hog_pile_strategy(score, opponent_score, cutoff=8, num_rolls=6):\n",
    "    \"\"\"This strategy returns 0 dice when this would result in Hog Pile taking\n",
    "    effect. It also returns 0 dice if it gives at least CUTOFF points.\n",
    "    Otherwise, it returns NUM_ROLLS.\n",
    "    \"\"\"\n",
    "    # BEGIN PROBLEM 11\n",
    "    \n",
    "    score += picky_piggy(opponent_score)\n",
    "    \n",
    "    if (hog_pile(score, opponent_score) >= cutoff) | (picky_piggy(opponent_score) >= cutoff):\n",
    "        return 0\n",
    "    \n",
    "    return num_rolls\n",
    "    # END PROBLEM 11"
   ]
  },
  {
   "cell_type": "code",
   "execution_count": 167,
   "id": "5f208587",
   "metadata": {},
   "outputs": [
    {
     "data": {
      "text/plain": [
       "7"
      ]
     },
     "execution_count": 167,
     "metadata": {},
     "output_type": "execute_result"
    }
   ],
   "source": [
    "picky_piggy(36)"
   ]
  },
  {
   "cell_type": "code",
   "execution_count": 168,
   "id": "57381154",
   "metadata": {},
   "outputs": [
    {
     "data": {
      "text/plain": [
       "0"
      ]
     },
     "execution_count": 168,
     "metadata": {},
     "output_type": "execute_result"
    }
   ],
   "source": [
    "hog_pile_strategy(20, 36, cutoff=7, num_rolls=6) # 0\n"
   ]
  },
  {
   "cell_type": "code",
   "execution_count": 159,
   "id": "d7e1cba2",
   "metadata": {},
   "outputs": [
    {
     "name": "stdout",
     "output_type": "stream",
     "text": [
      "10\n"
     ]
    },
    {
     "data": {
      "text/plain": [
       "6"
      ]
     },
     "execution_count": 159,
     "metadata": {},
     "output_type": "execute_result"
    }
   ],
   "source": [
    "hog_pile_strategy(2, 10, cutoff=10, num_rolls=6)"
   ]
  },
  {
   "cell_type": "code",
   "execution_count": 157,
   "id": "d08d97b3",
   "metadata": {},
   "outputs": [
    {
     "name": "stdout",
     "output_type": "stream",
     "text": [
      "10\n"
     ]
    },
    {
     "data": {
      "text/plain": [
       "6"
      ]
     },
     "execution_count": 157,
     "metadata": {},
     "output_type": "execute_result"
    }
   ],
   "source": [
    "hog_pile_strategy(2, 10, cutoff=10, num_rolls=6)"
   ]
  },
  {
   "cell_type": "code",
   "execution_count": 152,
   "id": "21a0a9b1",
   "metadata": {},
   "outputs": [
    {
     "data": {
      "text/plain": [
       "6"
      ]
     },
     "execution_count": 152,
     "metadata": {},
     "output_type": "execute_result"
    }
   ],
   "source": [
    "hog_pile_strategy(30, 54, cutoff=10, num_rolls=6)"
   ]
  },
  {
   "cell_type": "code",
   "execution_count": 153,
   "id": "78ef6659",
   "metadata": {},
   "outputs": [
    {
     "data": {
      "text/plain": [
       "6"
      ]
     },
     "execution_count": 153,
     "metadata": {},
     "output_type": "execute_result"
    }
   ],
   "source": [
    "hog_pile_strategy(20, 36, cutoff=7, num_rolls=6)"
   ]
  },
  {
   "cell_type": "code",
   "execution_count": 158,
   "id": "835c0eef",
   "metadata": {},
   "outputs": [
    {
     "name": "stdout",
     "output_type": "stream",
     "text": [
      "0\n"
     ]
    },
    {
     "data": {
      "text/plain": [
       "6"
      ]
     },
     "execution_count": 158,
     "metadata": {},
     "output_type": "execute_result"
    }
   ],
   "source": [
    "hog_pile_strategy(24, 5, cutoff=8, num_rolls=6)"
   ]
  },
  {
   "cell_type": "code",
   "execution_count": 170,
   "id": "383a480f",
   "metadata": {},
   "outputs": [
    {
     "name": "stdout",
     "output_type": "stream",
     "text": [
      "1\n",
      "2\n",
      "3\n",
      "4\n",
      "5\n",
      "6\n",
      "1\n",
      "2\n",
      "3\n",
      "4\n"
     ]
    }
   ],
   "source": [
    "for i in range(1, 11):\n",
    "\n",
    "    print(i % 6 if i % 6 else 6)"
   ]
  },
  {
   "cell_type": "code",
   "execution_count": 171,
   "id": "8328eba9",
   "metadata": {},
   "outputs": [
    {
     "data": {
      "text/plain": [
       "0.14285714285714285"
      ]
     },
     "execution_count": 171,
     "metadata": {},
     "output_type": "execute_result"
    }
   ],
   "source": [
    "1/7"
   ]
  },
  {
   "cell_type": "code",
   "execution_count": null,
   "id": "efe22418",
   "metadata": {},
   "outputs": [],
   "source": []
  }
 ],
 "metadata": {
  "kernelspec": {
   "display_name": "Python 3 (ipykernel)",
   "language": "python",
   "name": "python3"
  },
  "language_info": {
   "codemirror_mode": {
    "name": "ipython",
    "version": 3
   },
   "file_extension": ".py",
   "mimetype": "text/x-python",
   "name": "python",
   "nbconvert_exporter": "python",
   "pygments_lexer": "ipython3",
   "version": "3.8.11"
  }
 },
 "nbformat": 4,
 "nbformat_minor": 5
}
