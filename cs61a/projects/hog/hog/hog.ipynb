{
 "cells": [
  {
   "cell_type": "code",
   "execution_count": 25,
   "id": "74a13ab5",
   "metadata": {},
   "outputs": [],
   "source": [
    "\"\"\"CS 61A Presents The Game of Hog.\"\"\"\n",
    "\n",
    "from dice import six_sided, four_sided, make_test_dice\n",
    "from ucb import main, trace, interact\n",
    "\n",
    "GOAL_SCORE = 100  # The goal of Hog is to score 100 points.\n",
    "\n",
    "######################\n",
    "# Phase 1: Simulator #\n",
    "######################\n",
    "\n",
    "\n",
    "def roll_dice(num_rolls, dice=six_sided):\n",
    "    \"\"\"Simulate rolling the DICE exactly NUM_ROLLS > 0 times. Return the sum of\n",
    "    the outcomes unless any of the outcomes is 1. In that case, return 1.\n",
    "\n",
    "    num_rolls:  The number of dice rolls that will be made.\n",
    "    dice:       A function that simulates a single dice roll outcome.\n",
    "    \"\"\"\n",
    "    # These assert statements ensure that num_rolls is a positive integer.\n",
    "    assert type(num_rolls) == int, 'num_rolls must be an integer.'\n",
    "    assert num_rolls > 0, 'Must roll at least once.'\n",
    "    # BEGIN PROBLEM 1\n",
    "    \n",
    "    sum_dice = []\n",
    "    \n",
    "    for i in range(num_rolls):\n",
    "        sum_dice += [dice()]\n",
    "        \n",
    "    for i in range(num_rolls):\n",
    "        if sum_dice[i] == 1:\n",
    "            return 1\n",
    "    return sum(sum_dice)\n",
    "    # END PROBLEM 1"
   ]
  },
  {
   "cell_type": "code",
   "execution_count": 17,
   "id": "6593f4df",
   "metadata": {},
   "outputs": [
    {
     "name": "stdout",
     "output_type": "stream",
     "text": [
      "4\n",
      "1\n"
     ]
    },
    {
     "data": {
      "text/plain": [
       "1"
      ]
     },
     "execution_count": 17,
     "metadata": {},
     "output_type": "execute_result"
    }
   ],
   "source": [
    "counted_dice = make_test_dice(4, 1, 2, 6)\n",
    "roll_dice(3, counted_dice)"
   ]
  },
  {
   "cell_type": "code",
   "execution_count": 24,
   "id": "b56d5462",
   "metadata": {},
   "outputs": [
    {
     "name": "stdout",
     "output_type": "stream",
     "text": [
      "4\n"
     ]
    },
    {
     "data": {
      "text/plain": [
       "4"
      ]
     },
     "execution_count": 24,
     "metadata": {},
     "output_type": "execute_result"
    }
   ],
   "source": [
    "roll_dice(1, counted_dice)"
   ]
  },
  {
   "cell_type": "code",
   "execution_count": 55,
   "id": "482efef0",
   "metadata": {},
   "outputs": [],
   "source": [
    "def picky_piggy(score):\n",
    "    \"\"\"Return the points scored from rolling 0 dice.\n",
    "\n",
    "    score:  The opponent's current score.\n",
    "    \"\"\"\n",
    "    # BEGIN PROBLEM 2\n",
    "    if score == 0:\n",
    "        return 7\n",
    "    \n",
    "    decimal_position = 10 ** score\n",
    "    final_score = int(1 / 7 * decimal_position) % 10\n",
    "    \n",
    "    return final_score\n",
    "    "
   ]
  },
  {
   "cell_type": "code",
   "execution_count": 56,
   "id": "6907b8ee",
   "metadata": {},
   "outputs": [
    {
     "data": {
      "text/plain": [
       "1"
      ]
     },
     "execution_count": 56,
     "metadata": {},
     "output_type": "execute_result"
    }
   ],
   "source": [
    "picky_piggy(1)"
   ]
  },
  {
   "cell_type": "code",
   "execution_count": 57,
   "id": "bab0ecd5",
   "metadata": {},
   "outputs": [
    {
     "data": {
      "text/plain": [
       "4"
      ]
     },
     "execution_count": 57,
     "metadata": {},
     "output_type": "execute_result"
    }
   ],
   "source": [
    "picky_piggy(14)"
   ]
  },
  {
   "cell_type": "code",
   "execution_count": 58,
   "id": "902097ff",
   "metadata": {},
   "outputs": [
    {
     "data": {
      "text/plain": [
       "2"
      ]
     },
     "execution_count": 58,
     "metadata": {},
     "output_type": "execute_result"
    }
   ],
   "source": [
    "picky_piggy(3)"
   ]
  },
  {
   "cell_type": "code",
   "execution_count": 59,
   "id": "9dfb65ae",
   "metadata": {},
   "outputs": [
    {
     "data": {
      "text/plain": [
       "2"
      ]
     },
     "execution_count": 59,
     "metadata": {},
     "output_type": "execute_result"
    }
   ],
   "source": [
    "picky_piggy(24)"
   ]
  },
  {
   "cell_type": "code",
   "execution_count": 60,
   "id": "35309861",
   "metadata": {},
   "outputs": [
    {
     "data": {
      "text/plain": [
       "2.0"
      ]
     },
     "execution_count": 60,
     "metadata": {},
     "output_type": "execute_result"
    }
   ],
   "source": [
    "1/7 * pow(10, 24)%10"
   ]
  },
  {
   "cell_type": "code",
   "execution_count": 61,
   "id": "54b0722a",
   "metadata": {},
   "outputs": [
    {
     "name": "stdout",
     "output_type": "stream",
     "text": [
      "f-string example10 : 0.14285714285714284921269268\n"
     ]
    }
   ],
   "source": [
    "print(f'f-string example10 : {1/7:.26f}')"
   ]
  },
  {
   "cell_type": "code",
   "execution_count": 62,
   "id": "dc6f3d9d",
   "metadata": {},
   "outputs": [],
   "source": [
    "def take_turn(num_rolls, opponent_score, dice=six_sided, goal=GOAL_SCORE):\n",
    "    \"\"\"Simulate a turn rolling NUM_ROLLS dice, which may be 0 in the case\n",
    "    of a player using Picky Piggy.\n",
    "    Return the points scored for the turn by the current player.\n",
    "\n",
    "    num_rolls:       The number of dice rolls that will be made.\n",
    "    opponent_score:  The total score of the opponent.\n",
    "    dice:            A function that simulates a single dice roll outcome.\n",
    "    goal:            The goal score of the game.\n",
    "    \"\"\"\n",
    "    # Leave these assert statements here; they help check for errors.\n",
    "    assert type(num_rolls) == int, 'num_rolls must be an integer.'\n",
    "    assert num_rolls >= 0, 'Cannot roll a negative number of dice in take_turn.'\n",
    "    assert num_rolls <= 10, 'Cannot roll more than 10 dice.'\n",
    "    assert opponent_score < goal, 'The game should be over.'\n",
    "    # BEGIN PROBLEM 3\n",
    "    \n",
    "    if num_rolls == 0:\n",
    "        return picky_piggy(opponent_score)\n",
    "    else:\n",
    "        return roll_dice(num_rolls, dice)\n",
    "    "
   ]
  },
  {
   "cell_type": "code",
   "execution_count": 63,
   "id": "52f94fca",
   "metadata": {},
   "outputs": [
    {
     "data": {
      "text/plain": [
       "9"
      ]
     },
     "execution_count": 63,
     "metadata": {},
     "output_type": "execute_result"
    }
   ],
   "source": [
    "take_turn(2, 0, make_test_dice(4, 5, 1))"
   ]
  },
  {
   "cell_type": "code",
   "execution_count": 64,
   "id": "a2aed9d1",
   "metadata": {},
   "outputs": [
    {
     "data": {
      "text/plain": [
       "1"
      ]
     },
     "execution_count": 64,
     "metadata": {},
     "output_type": "execute_result"
    }
   ],
   "source": [
    "take_turn(3, 0, make_test_dice(4, 6, 1))"
   ]
  },
  {
   "cell_type": "code",
   "execution_count": 65,
   "id": "702b6769",
   "metadata": {},
   "outputs": [
    {
     "data": {
      "text/plain": [
       "4"
      ]
     },
     "execution_count": 65,
     "metadata": {},
     "output_type": "execute_result"
    }
   ],
   "source": [
    "take_turn(0, 2)"
   ]
  },
  {
   "cell_type": "code",
   "execution_count": null,
   "id": "735a180d",
   "metadata": {},
   "outputs": [],
   "source": []
  }
 ],
 "metadata": {
  "kernelspec": {
   "display_name": "Python 3",
   "language": "python",
   "name": "python3"
  },
  "language_info": {
   "codemirror_mode": {
    "name": "ipython",
    "version": 3
   },
   "file_extension": ".py",
   "mimetype": "text/x-python",
   "name": "python",
   "nbconvert_exporter": "python",
   "pygments_lexer": "ipython3",
   "version": "3.8.11"
  }
 },
 "nbformat": 4,
 "nbformat_minor": 5
}
