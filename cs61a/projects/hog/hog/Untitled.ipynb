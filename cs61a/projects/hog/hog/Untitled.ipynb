{
 "cells": [
  {
   "cell_type": "code",
   "execution_count": 2,
   "id": "f3463d48",
   "metadata": {},
   "outputs": [],
   "source": [
    "from random import randint"
   ]
  },
  {
   "cell_type": "code",
   "execution_count": 3,
   "id": "20b134f7",
   "metadata": {},
   "outputs": [],
   "source": [
    "def make_fair_dice(sides):\n",
    "    \"\"\"Return a die that returns 1 to SIDES with equal chance.\"\"\"\n",
    "    assert type(sides) == int and sides >= 1, 'Illegal value for sides'\n",
    "\n",
    "    def dice():\n",
    "        return randint(1, sides)\n",
    "    return dice\n",
    "\n",
    "\n",
    "four_sided = make_fair_dice(4)\n",
    "six_sided = make_fair_dice(6)"
   ]
  },
  {
   "cell_type": "code",
   "execution_count": 9,
   "id": "a4d2807b",
   "metadata": {},
   "outputs": [
    {
     "data": {
      "text/plain": [
       "4"
      ]
     },
     "execution_count": 9,
     "metadata": {},
     "output_type": "execute_result"
    }
   ],
   "source": [
    "four_sided()"
   ]
  },
  {
   "cell_type": "code",
   "execution_count": null,
   "id": "6378939e",
   "metadata": {},
   "outputs": [],
   "source": []
  },
  {
   "cell_type": "code",
   "execution_count": null,
   "id": "57d11ab8",
   "metadata": {},
   "outputs": [],
   "source": []
  }
 ],
 "metadata": {
  "kernelspec": {
   "display_name": "Python 3 (ipykernel)",
   "language": "python",
   "name": "python3"
  },
  "language_info": {
   "codemirror_mode": {
    "name": "ipython",
    "version": 3
   },
   "file_extension": ".py",
   "mimetype": "text/x-python",
   "name": "python",
   "nbconvert_exporter": "python",
   "pygments_lexer": "ipython3",
   "version": "3.8.11"
  }
 },
 "nbformat": 4,
 "nbformat_minor": 5
}
