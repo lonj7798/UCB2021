{
 "cells": [
  {
   "cell_type": "code",
   "execution_count": 1,
   "id": "8d684996",
   "metadata": {},
   "outputs": [
    {
     "data": {
      "text/plain": [
       "True"
      ]
     },
     "execution_count": 1,
     "metadata": {},
     "output_type": "execute_result"
    }
   ],
   "source": [
    ">>> from scheme import *\n",
    ">>> global_frame = create_global_frame()\n",
    ">>> global_frame.define(\"x\", 3)\n",
    ">>> global_frame.parent is None"
   ]
  },
  {
   "cell_type": "code",
   "execution_count": 2,
   "id": "20734733",
   "metadata": {},
   "outputs": [
    {
     "data": {
      "text/plain": [
       "3"
      ]
     },
     "execution_count": 2,
     "metadata": {},
     "output_type": "execute_result"
    }
   ],
   "source": [
    ">>> global_frame.lookup(\"x\")"
   ]
  },
  {
   "cell_type": "code",
   "execution_count": 3,
   "id": "07551732",
   "metadata": {},
   "outputs": [
    {
     "data": {
      "text/plain": [
       "2"
      ]
     },
     "execution_count": 3,
     "metadata": {},
     "output_type": "execute_result"
    }
   ],
   "source": [
    ">>> global_frame.define(\"x\", 2)\n",
    ">>> global_frame.lookup(\"x\")\n"
   ]
  },
  {
   "cell_type": "code",
   "execution_count": 4,
   "id": "ff4c5207",
   "metadata": {},
   "outputs": [
    {
     "data": {
      "text/plain": [
       "True"
      ]
     },
     "execution_count": 4,
     "metadata": {},
     "output_type": "execute_result"
    }
   ],
   "source": [
    ">>> from scheme import *\n",
    ">>> first_frame = create_global_frame()\n",
    ">>> first_frame.define(\"x\", 3)\n",
    ">>> first_frame.define(\"y\", False)\n",
    ">>> second_frame = Frame(first_frame)\n",
    ">>> second_frame.parent == first_frame"
   ]
  },
  {
   "cell_type": "code",
   "execution_count": 5,
   "id": "ea9df605",
   "metadata": {},
   "outputs": [
    {
     "data": {
      "text/plain": [
       "3"
      ]
     },
     "execution_count": 5,
     "metadata": {},
     "output_type": "execute_result"
    }
   ],
   "source": [
    ">>> second_frame.lookup(\"x\")"
   ]
  },
  {
   "cell_type": "code",
   "execution_count": 6,
   "id": "1ddc33c6",
   "metadata": {},
   "outputs": [
    {
     "data": {
      "text/plain": [
       "False"
      ]
     },
     "execution_count": 6,
     "metadata": {},
     "output_type": "execute_result"
    }
   ],
   "source": [
    ">>> second_frame.lookup(\"y\")"
   ]
  },
  {
   "cell_type": "code",
   "execution_count": 1,
   "id": "64959cfc",
   "metadata": {},
   "outputs": [
    {
     "data": {
      "text/plain": [
       "4"
      ]
     },
     "execution_count": 1,
     "metadata": {},
     "output_type": "execute_result"
    }
   ],
   "source": [
    ">>> from scheme import *\n",
    ">>> env = create_global_frame()\n",
    ">>> twos = Pair(2, Pair(2, nil))\n",
    ">>> plus = BuiltinProcedure(scheme_add) # + procedure\n",
    ">>> scheme_apply(plus, twos, env) # Type SchemeError if you think this errors\n"
   ]
  },
  {
   "cell_type": "code",
   "execution_count": 2,
   "id": "b7b3ed13",
   "metadata": {},
   "outputs": [
    {
     "data": {
      "text/plain": [
       "0"
      ]
     },
     "execution_count": 2,
     "metadata": {},
     "output_type": "execute_result"
    }
   ],
   "source": [
    ">>> from scheme import *\n",
    ">>> env = create_global_frame()\n",
    ">>> plus = BuiltinProcedure(scheme_add) # + procedure\n",
    ">>> scheme_apply(plus, nil, env) # Remember what (+) evaluates to in scheme"
   ]
  },
  {
   "cell_type": "code",
   "execution_count": 3,
   "id": "20f758e2",
   "metadata": {},
   "outputs": [
    {
     "ename": "SchemeError",
     "evalue": "incorrect number of arguments : #[builtin]",
     "output_type": "error",
     "traceback": [
      "\u001b[0;31m---------------------------------------------------------------------------\u001b[0m",
      "\u001b[0;31mTypeError\u001b[0m                                 Traceback (most recent call last)",
      "\u001b[0;32m~/MyWork/UCB2021/cs61a/projects/scheme/scheme_eval_apply.py\u001b[0m in \u001b[0;36mscheme_apply\u001b[0;34m(procedure, args, env)\u001b[0m\n\u001b[1;32m     55\u001b[0m         \u001b[0;32mtry\u001b[0m\u001b[0;34m:\u001b[0m\u001b[0;34m\u001b[0m\u001b[0;34m\u001b[0m\u001b[0m\n\u001b[0;32m---> 56\u001b[0;31m             \u001b[0;32mreturn\u001b[0m \u001b[0mprocedure\u001b[0m\u001b[0;34m.\u001b[0m\u001b[0mpy_func\u001b[0m\u001b[0;34m(\u001b[0m\u001b[0;34m*\u001b[0m\u001b[0mtemp\u001b[0m\u001b[0;34m)\u001b[0m\u001b[0;34m\u001b[0m\u001b[0;34m\u001b[0m\u001b[0m\n\u001b[0m\u001b[1;32m     57\u001b[0m         \u001b[0;32mexcept\u001b[0m \u001b[0mTypeError\u001b[0m\u001b[0;34m:\u001b[0m\u001b[0;34m\u001b[0m\u001b[0;34m\u001b[0m\u001b[0m\n",
      "\u001b[0;31mTypeError\u001b[0m: scheme_oddp() takes 1 positional argument but 2 were given",
      "\nDuring handling of the above exception, another exception occurred:\n",
      "\u001b[0;31mSchemeError\u001b[0m                               Traceback (most recent call last)",
      "\u001b[0;32m/var/folders/m5/b577jf4d20jc309f4phr3lvr0000gn/T/ipykernel_1364/3037756385.py\u001b[0m in \u001b[0;36m<module>\u001b[0;34m\u001b[0m\n\u001b[1;32m      3\u001b[0m \u001b[0mtwos\u001b[0m \u001b[0;34m=\u001b[0m \u001b[0mPair\u001b[0m\u001b[0;34m(\u001b[0m\u001b[0;36m2\u001b[0m\u001b[0;34m,\u001b[0m \u001b[0mPair\u001b[0m\u001b[0;34m(\u001b[0m\u001b[0;36m2\u001b[0m\u001b[0;34m,\u001b[0m \u001b[0mnil\u001b[0m\u001b[0;34m)\u001b[0m\u001b[0;34m)\u001b[0m\u001b[0;34m\u001b[0m\u001b[0;34m\u001b[0m\u001b[0m\n\u001b[1;32m      4\u001b[0m \u001b[0moddp\u001b[0m \u001b[0;34m=\u001b[0m \u001b[0mBuiltinProcedure\u001b[0m\u001b[0;34m(\u001b[0m\u001b[0mscheme_oddp\u001b[0m\u001b[0;34m)\u001b[0m \u001b[0;31m# odd? procedure\u001b[0m\u001b[0;34m\u001b[0m\u001b[0;34m\u001b[0m\u001b[0m\n\u001b[0;32m----> 5\u001b[0;31m \u001b[0mscheme_apply\u001b[0m\u001b[0;34m(\u001b[0m\u001b[0moddp\u001b[0m\u001b[0;34m,\u001b[0m \u001b[0mtwos\u001b[0m\u001b[0;34m,\u001b[0m \u001b[0menv\u001b[0m\u001b[0;34m)\u001b[0m \u001b[0;31m# Type SchemeError if you think this errors\u001b[0m\u001b[0;34m\u001b[0m\u001b[0;34m\u001b[0m\u001b[0m\n\u001b[0m",
      "\u001b[0;32m~/MyWork/UCB2021/cs61a/projects/scheme/scheme_eval_apply.py\u001b[0m in \u001b[0;36mscheme_apply\u001b[0;34m(procedure, args, env)\u001b[0m\n\u001b[1;32m     56\u001b[0m             \u001b[0;32mreturn\u001b[0m \u001b[0mprocedure\u001b[0m\u001b[0;34m.\u001b[0m\u001b[0mpy_func\u001b[0m\u001b[0;34m(\u001b[0m\u001b[0;34m*\u001b[0m\u001b[0mtemp\u001b[0m\u001b[0;34m)\u001b[0m\u001b[0;34m\u001b[0m\u001b[0;34m\u001b[0m\u001b[0m\n\u001b[1;32m     57\u001b[0m         \u001b[0;32mexcept\u001b[0m \u001b[0mTypeError\u001b[0m\u001b[0;34m:\u001b[0m\u001b[0;34m\u001b[0m\u001b[0;34m\u001b[0m\u001b[0m\n\u001b[0;32m---> 58\u001b[0;31m             \u001b[0;32mraise\u001b[0m \u001b[0mSchemeError\u001b[0m\u001b[0;34m(\u001b[0m\u001b[0;34m'incorrect number of arguments : {0}'\u001b[0m\u001b[0;34m.\u001b[0m\u001b[0mformat\u001b[0m\u001b[0;34m(\u001b[0m\u001b[0mprocedure\u001b[0m\u001b[0;34m)\u001b[0m\u001b[0;34m)\u001b[0m\u001b[0;34m\u001b[0m\u001b[0;34m\u001b[0m\u001b[0m\n\u001b[0m\u001b[1;32m     59\u001b[0m \u001b[0;34m\u001b[0m\u001b[0m\n\u001b[1;32m     60\u001b[0m         \u001b[0;31m# END PROBLEM 2\u001b[0m\u001b[0;34m\u001b[0m\u001b[0;34m\u001b[0m\u001b[0;34m\u001b[0m\u001b[0m\n",
      "\u001b[0;31mSchemeError\u001b[0m: incorrect number of arguments : #[builtin]"
     ]
    }
   ],
   "source": [
    ">>> from scheme import *\n",
    ">>> env = create_global_frame()\n",
    ">>> twos = Pair(2, Pair(2, nil))\n",
    ">>> oddp = BuiltinProcedure(scheme_oddp) # odd? procedure\n",
    ">>> scheme_apply(oddp, twos, env) # Type SchemeError if you think this errors"
   ]
  },
  {
   "cell_type": "code",
   "execution_count": 1,
   "id": "c43aeb68",
   "metadata": {},
   "outputs": [
    {
     "data": {
      "text/plain": [
       "4"
      ]
     },
     "execution_count": 1,
     "metadata": {},
     "output_type": "execute_result"
    }
   ],
   "source": [
    "# >>> from scheme_reader import *\n",
    ">>> from scheme import *\n",
    ">>> expr = read_line('(+ 2 2)')\n",
    ">>> scheme_eval(expr, create_global_frame()) # Type SchemeError if you think this errors"
   ]
  },
  {
   "cell_type": "code",
   "execution_count": 2,
   "id": "d24521d0",
   "metadata": {},
   "outputs": [
    {
     "ename": "SyntaxError",
     "evalue": "invalid syntax (1195070695.py, line 1)",
     "output_type": "error",
     "traceback": [
      "\u001b[0;36m  File \u001b[0;32m\"/var/folders/m5/b577jf4d20jc309f4phr3lvr0000gn/T/ipykernel_1428/1195070695.py\"\u001b[0;36m, line \u001b[0;32m1\u001b[0m\n\u001b[0;31m    (1 (print 0))\u001b[0m\n\u001b[0m              ^\u001b[0m\n\u001b[0;31mSyntaxError\u001b[0m\u001b[0;31m:\u001b[0m invalid syntax\n"
     ]
    }
   ],
   "source": [
    "(1 (print 0))"
   ]
  },
  {
   "cell_type": "code",
   "execution_count": 3,
   "id": "40394688",
   "metadata": {},
   "outputs": [
    {
     "ename": "SyntaxError",
     "evalue": "invalid syntax (3478719334.py, line 1)",
     "output_type": "error",
     "traceback": [
      "\u001b[0;36m  File \u001b[0;32m\"/var/folders/m5/b577jf4d20jc309f4phr3lvr0000gn/T/ipykernel_1428/3478719334.py\"\u001b[0;36m, line \u001b[0;32m1\u001b[0m\n\u001b[0;31m    (* (+ 3 2) (+ 1 7))\u001b[0m\n\u001b[0m            ^\u001b[0m\n\u001b[0;31mSyntaxError\u001b[0m\u001b[0;31m:\u001b[0m invalid syntax\n"
     ]
    }
   ],
   "source": [
    "(* (+ 3 2) (+ 1 7))"
   ]
  },
  {
   "cell_type": "code",
   "execution_count": 4,
   "id": "e5f0fa2f",
   "metadata": {},
   "outputs": [
    {
     "data": {
      "text/plain": [
       "4"
      ]
     },
     "execution_count": 4,
     "metadata": {},
     "output_type": "execute_result"
    }
   ],
   "source": [
    ">>> from scheme_reader import *\n",
    ">>> from scheme import *\n",
    ">>> expr = read_line('(+ 2 2)')\n",
    ">>> scheme_eval(expr, create_global_frame()) # Type SchemeError if you think this errors"
   ]
  },
  {
   "cell_type": "code",
   "execution_count": 5,
   "id": "691745c1",
   "metadata": {},
   "outputs": [
    {
     "ename": "SyntaxError",
     "evalue": "invalid syntax (1195070695.py, line 1)",
     "output_type": "error",
     "traceback": [
      "\u001b[0;36m  File \u001b[0;32m\"/var/folders/m5/b577jf4d20jc309f4phr3lvr0000gn/T/ipykernel_1428/1195070695.py\"\u001b[0;36m, line \u001b[0;32m1\u001b[0m\n\u001b[0;31m    (1 (print 0))\u001b[0m\n\u001b[0m              ^\u001b[0m\n\u001b[0;31mSyntaxError\u001b[0m\u001b[0;31m:\u001b[0m invalid syntax\n"
     ]
    }
   ],
   "source": [
    "(1 (print 0))"
   ]
  },
  {
   "cell_type": "code",
   "execution_count": 7,
   "id": "b69c0f58",
   "metadata": {},
   "outputs": [
    {
     "name": "stdout",
     "output_type": "stream",
     "text": [
      "0\n"
     ]
    },
    {
     "ename": "SchemeError",
     "evalue": "int is not callable: 1",
     "output_type": "error",
     "traceback": [
      "\u001b[0;31m---------------------------------------------------------------------------\u001b[0m",
      "\u001b[0;31mSchemeError\u001b[0m                               Traceback (most recent call last)",
      "\u001b[0;32m/var/folders/m5/b577jf4d20jc309f4phr3lvr0000gn/T/ipykernel_1428/3812162959.py\u001b[0m in \u001b[0;36m<module>\u001b[0;34m\u001b[0m\n\u001b[1;32m      1\u001b[0m \u001b[0mexpr\u001b[0m \u001b[0;34m=\u001b[0m \u001b[0mread_line\u001b[0m\u001b[0;34m(\u001b[0m\u001b[0;34m'(1 (print 0))'\u001b[0m\u001b[0;34m)\u001b[0m\u001b[0;34m\u001b[0m\u001b[0;34m\u001b[0m\u001b[0m\n\u001b[0;32m----> 2\u001b[0;31m \u001b[0mscheme_eval\u001b[0m\u001b[0;34m(\u001b[0m\u001b[0mexpr\u001b[0m\u001b[0;34m,\u001b[0m \u001b[0mcreate_global_frame\u001b[0m\u001b[0;34m(\u001b[0m\u001b[0;34m)\u001b[0m\u001b[0;34m)\u001b[0m \u001b[0;31m# Type SchemeError if you think this errors\u001b[0m\u001b[0;34m\u001b[0m\u001b[0;34m\u001b[0m\u001b[0m\n\u001b[0m",
      "\u001b[0;32m~/MyWork/UCB2021/cs61a/projects/scheme/scheme_eval_apply.py\u001b[0m in \u001b[0;36mscheme_eval\u001b[0;34m(expr, env, _)\u001b[0m\n\u001b[1;32m     41\u001b[0m             \u001b[0;32mreturn\u001b[0m \u001b[0mscheme_eval\u001b[0m\u001b[0;34m(\u001b[0m\u001b[0minput\u001b[0m\u001b[0;34m,\u001b[0m \u001b[0menv\u001b[0m\u001b[0;34m)\u001b[0m\u001b[0;34m\u001b[0m\u001b[0;34m\u001b[0m\u001b[0m\n\u001b[1;32m     42\u001b[0m \u001b[0;34m\u001b[0m\u001b[0m\n\u001b[0;32m---> 43\u001b[0;31m         \u001b[0;32mreturn\u001b[0m \u001b[0mscheme_apply\u001b[0m\u001b[0;34m(\u001b[0m\u001b[0mscheme_eval\u001b[0m\u001b[0;34m(\u001b[0m\u001b[0mexpr\u001b[0m\u001b[0;34m.\u001b[0m\u001b[0mfirst\u001b[0m\u001b[0;34m,\u001b[0m \u001b[0menv\u001b[0m\u001b[0;34m)\u001b[0m\u001b[0;34m,\u001b[0m \u001b[0mexpr\u001b[0m\u001b[0;34m.\u001b[0m\u001b[0mrest\u001b[0m\u001b[0;34m.\u001b[0m\u001b[0mmap\u001b[0m\u001b[0;34m(\u001b[0m\u001b[0minner_func\u001b[0m\u001b[0;34m)\u001b[0m\u001b[0;34m,\u001b[0m \u001b[0menv\u001b[0m\u001b[0;34m)\u001b[0m\u001b[0;34m\u001b[0m\u001b[0;34m\u001b[0m\u001b[0m\n\u001b[0m\u001b[1;32m     44\u001b[0m \u001b[0;34m\u001b[0m\u001b[0m\n\u001b[1;32m     45\u001b[0m         \u001b[0;31m# END PROBLEM 3\u001b[0m\u001b[0;34m\u001b[0m\u001b[0;34m\u001b[0m\u001b[0;34m\u001b[0m\u001b[0m\n",
      "\u001b[0;32m~/MyWork/UCB2021/cs61a/projects/scheme/scheme_eval_apply.py\u001b[0m in \u001b[0;36mscheme_apply\u001b[0;34m(procedure, args, env)\u001b[0m\n\u001b[1;32m     49\u001b[0m     \"\"\"Apply Scheme PROCEDURE to argument values ARGS (a Scheme list) in\n\u001b[1;32m     50\u001b[0m     Frame ENV, the current environment.\"\"\"\n\u001b[0;32m---> 51\u001b[0;31m     \u001b[0mvalidate_procedure\u001b[0m\u001b[0;34m(\u001b[0m\u001b[0mprocedure\u001b[0m\u001b[0;34m)\u001b[0m\u001b[0;34m\u001b[0m\u001b[0;34m\u001b[0m\u001b[0m\n\u001b[0m\u001b[1;32m     52\u001b[0m     \u001b[0;32mif\u001b[0m \u001b[0misinstance\u001b[0m\u001b[0;34m(\u001b[0m\u001b[0mprocedure\u001b[0m\u001b[0;34m,\u001b[0m \u001b[0mBuiltinProcedure\u001b[0m\u001b[0;34m)\u001b[0m\u001b[0;34m:\u001b[0m\u001b[0;34m\u001b[0m\u001b[0;34m\u001b[0m\u001b[0m\n\u001b[1;32m     53\u001b[0m         \u001b[0;31m# BEGIN PROBLEM 2\u001b[0m\u001b[0;34m\u001b[0m\u001b[0;34m\u001b[0m\u001b[0;34m\u001b[0m\u001b[0m\n",
      "\u001b[0;32m~/MyWork/UCB2021/cs61a/projects/scheme/scheme_utils.py\u001b[0m in \u001b[0;36mvalidate_procedure\u001b[0;34m(procedure)\u001b[0m\n\u001b[1;32m     80\u001b[0m     \u001b[0;34m\"\"\"Check that PROCEDURE is a valid Scheme procedure.\"\"\"\u001b[0m\u001b[0;34m\u001b[0m\u001b[0;34m\u001b[0m\u001b[0m\n\u001b[1;32m     81\u001b[0m     \u001b[0;32mif\u001b[0m \u001b[0;32mnot\u001b[0m \u001b[0mscheme_procedurep\u001b[0m\u001b[0;34m(\u001b[0m\u001b[0mprocedure\u001b[0m\u001b[0;34m)\u001b[0m\u001b[0;34m:\u001b[0m\u001b[0;34m\u001b[0m\u001b[0;34m\u001b[0m\u001b[0m\n\u001b[0;32m---> 82\u001b[0;31m         raise SchemeError('{0} is not callable: {1}'.format(\n\u001b[0m\u001b[1;32m     83\u001b[0m             type(procedure).__name__.lower(), repl_str(procedure)))\n\u001b[1;32m     84\u001b[0m \u001b[0;34m\u001b[0m\u001b[0m\n",
      "\u001b[0;31mSchemeError\u001b[0m: int is not callable: 1"
     ]
    }
   ],
   "source": [
    ">>> expr = read_line('(1 (print 0))')\n",
    ">>> scheme_eval(expr, create_global_frame()) # Type SchemeError if you think this errors"
   ]
  },
  {
   "cell_type": "code",
   "execution_count": 6,
   "id": "e5054a63",
   "metadata": {
    "scrolled": true
   },
   "outputs": [
    {
     "ename": "SyntaxError",
     "evalue": "invalid syntax (3478719334.py, line 1)",
     "output_type": "error",
     "traceback": [
      "\u001b[0;36m  File \u001b[0;32m\"/var/folders/m5/b577jf4d20jc309f4phr3lvr0000gn/T/ipykernel_1428/3478719334.py\"\u001b[0;36m, line \u001b[0;32m1\u001b[0m\n\u001b[0;31m    (* (+ 3 2) (+ 1 7))\u001b[0m\n\u001b[0m            ^\u001b[0m\n\u001b[0;31mSyntaxError\u001b[0m\u001b[0;31m:\u001b[0m invalid syntax\n"
     ]
    }
   ],
   "source": [
    "(* (+ 3 2) (+ 1 7))"
   ]
  },
  {
   "cell_type": "code",
   "execution_count": 9,
   "id": "fc0751d2",
   "metadata": {},
   "outputs": [],
   "source": [
    ">>> from scheme import *\n",
    ">>> global_frame = create_global_frame()\n",
    ">>> do_quote_form(Pair(3, nil), global_frame)"
   ]
  },
  {
   "cell_type": "code",
   "execution_count": 10,
   "id": "b459ae2f",
   "metadata": {},
   "outputs": [],
   "source": [
    ">>> expr = Pair(Pair('+', Pair('x', Pair(2, nil))), nil)\n",
    ">>> do_quote_form(expr, global_frame) # Make sure to use Pair notation"
   ]
  },
  {
   "cell_type": "code",
   "execution_count": 11,
   "id": "4cf7ac2c",
   "metadata": {},
   "outputs": [],
   "source": [
    ">>> expr = Pair(Pair('+', Pair('x', Pair(2, nil))), nil)\n",
    ">>> do_quote_form(expr, global_frame) # Make sure to use Pair notation"
   ]
  },
  {
   "cell_type": "code",
   "execution_count": 1,
   "id": "12c4c779",
   "metadata": {},
   "outputs": [
    {
     "data": {
      "text/plain": [
       "3"
      ]
     },
     "execution_count": 1,
     "metadata": {},
     "output_type": "execute_result"
    }
   ],
   "source": [
    ">>> from scheme import *\n",
    ">>> global_frame = create_global_frame()\n",
    ">>> do_quote_form(Pair(3, nil), global_frame)"
   ]
  },
  {
   "cell_type": "code",
   "execution_count": 2,
   "id": "f3efd2fd",
   "metadata": {},
   "outputs": [
    {
     "data": {
      "text/plain": [
       "'hi'"
      ]
     },
     "execution_count": 2,
     "metadata": {},
     "output_type": "execute_result"
    }
   ],
   "source": [
    ">>> do_quote_form(Pair('hi', nil), global_frame)"
   ]
  },
  {
   "cell_type": "code",
   "execution_count": 3,
   "id": "3cb174be",
   "metadata": {},
   "outputs": [
    {
     "data": {
      "text/plain": [
       "Pair('+', Pair('x', Pair(2, nil)))"
      ]
     },
     "execution_count": 3,
     "metadata": {},
     "output_type": "execute_result"
    }
   ],
   "source": [
    "expr = Pair(Pair('+', Pair('x', Pair(2, nil))), nil)\n",
    ">>> do_quote_form(expr, global_frame) # Make sure to use Pair notation"
   ]
  },
  {
   "cell_type": "code",
   "execution_count": 4,
   "id": "be4bd3b1",
   "metadata": {},
   "outputs": [
    {
     "ename": "SyntaxError",
     "evalue": "invalid syntax (1318378981.py, line 1)",
     "output_type": "error",
     "traceback": [
      "\u001b[0;36m  File \u001b[0;32m\"/var/folders/m5/b577jf4d20jc309f4phr3lvr0000gn/T/ipykernel_1654/1318378981.py\"\u001b[0;36m, line \u001b[0;32m1\u001b[0m\n\u001b[0;31m    (quote (1 2))\u001b[0m\n\u001b[0m              ^\u001b[0m\n\u001b[0;31mSyntaxError\u001b[0m\u001b[0;31m:\u001b[0m invalid syntax\n"
     ]
    }
   ],
   "source": [
    "(quote (1 2))"
   ]
  },
  {
   "cell_type": "code",
   "execution_count": null,
   "id": "d1570700",
   "metadata": {},
   "outputs": [],
   "source": []
  }
 ],
 "metadata": {
  "kernelspec": {
   "display_name": "Python 3 (ipykernel)",
   "language": "python",
   "name": "python3"
  },
  "language_info": {
   "codemirror_mode": {
    "name": "ipython",
    "version": 3
   },
   "file_extension": ".py",
   "mimetype": "text/x-python",
   "name": "python",
   "nbconvert_exporter": "python",
   "pygments_lexer": "ipython3",
   "version": "3.8.11"
  }
 },
 "nbformat": 4,
 "nbformat_minor": 5
}
