{
 "cells": [
  {
   "cell_type": "code",
   "execution_count": 1,
   "id": "d60b1837",
   "metadata": {},
   "outputs": [],
   "source": [
    ">>> from ants_plans import *\n",
    ">>> from ants import *\n",
    ">>> beehive, layout = Hive(make_test_assault_plan()), dry_layout\n",
    ">>> dimensions = (1, 9)\n",
    ">>> gamestate = GameState(None, beehive, ant_types(), layout, dimensions)\n",
    ">>> #\n",
    ">>> # Testing TankAnt action\n",
    ">>> tank = TankAnt()\n",
    ">>> place = gamestate.places['tunnel_0_1']\n",
    ">>> other_place = gamestate.places['tunnel_0_2']\n",
    ">>> place.add_insect(tank)\n",
    ">>> for _ in range(3):\n",
    "...     place.add_insect(Bee(3))\n",
    ">>> other_place.add_insect(Bee(3))\n",
    ">>> tank.action(gamestate)"
   ]
  },
  {
   "cell_type": "code",
   "execution_count": 2,
   "id": "dd36fa87",
   "metadata": {},
   "outputs": [
    {
     "data": {
      "text/plain": [
       "[Bee(2, tunnel_0_1), Bee(2, tunnel_0_1), Bee(2, tunnel_0_1)]"
      ]
     },
     "execution_count": 2,
     "metadata": {},
     "output_type": "execute_result"
    }
   ],
   "source": [
    "tank.place.bees"
   ]
  },
  {
   "cell_type": "code",
   "execution_count": 3,
   "id": "c857f04b",
   "metadata": {},
   "outputs": [
    {
     "data": {
      "text/plain": [
       "True"
      ]
     },
     "execution_count": 3,
     "metadata": {},
     "output_type": "execute_result"
    }
   ],
   "source": [
    "from ants_plans import *\n",
    ">>> from ants import *\n",
    ">>> beehive, layout = Hive(make_test_assault_plan()), dry_layout\n",
    ">>> dimensions = (1, 9)\n",
    ">>> gamestate = GameState(None, beehive, ant_types(), layout, dimensions)\n",
    ">>> #\n",
    ">>> # Testing TankAnt container methods\n",
    ">>> tank = TankAnt()\n",
    ">>> thrower = ThrowerAnt()\n",
    ">>> place = gamestate.places['tunnel_0_1']\n",
    ">>> place.add_insect(thrower)\n",
    ">>> place.add_insect(tank)\n",
    ">>> place.ant is tank\n"
   ]
  },
  {
   "cell_type": "code",
   "execution_count": 4,
   "id": "cf4585b9",
   "metadata": {},
   "outputs": [
    {
     "data": {
      "text/plain": [
       "1"
      ]
     },
     "execution_count": 4,
     "metadata": {},
     "output_type": "execute_result"
    }
   ],
   "source": [
    ">>> bee = Bee(3)\n",
    ">>> place.add_insect(bee)\n",
    ">>> tank.action(gamestate)   # Both ants attack bee\n",
    ">>> bee.health"
   ]
  },
  {
   "cell_type": "code",
   "execution_count": 5,
   "id": "9bc32422",
   "metadata": {},
   "outputs": [
    {
     "data": {
      "text/plain": [
       "1"
      ]
     },
     "execution_count": 5,
     "metadata": {},
     "output_type": "execute_result"
    }
   ],
   "source": [
    "thrower.damage"
   ]
  },
  {
   "cell_type": "code",
   "execution_count": 6,
   "id": "e880a179",
   "metadata": {},
   "outputs": [
    {
     "data": {
      "text/plain": [
       "1"
      ]
     },
     "execution_count": 6,
     "metadata": {},
     "output_type": "execute_result"
    }
   ],
   "source": [
    "tank.damage"
   ]
  },
  {
   "cell_type": "code",
   "execution_count": 7,
   "id": "9b6ecee4",
   "metadata": {},
   "outputs": [
    {
     "data": {
      "text/plain": [
       "1"
      ]
     },
     "execution_count": 7,
     "metadata": {},
     "output_type": "execute_result"
    }
   ],
   "source": [
    ">>> from ants_plans import *\n",
    ">>> from ants import *\n",
    ">>> beehive, layout = Hive(make_test_assault_plan()), dry_layout\n",
    ">>> dimensions = (1, 9)\n",
    ">>> gamestate = GameState(None, beehive, ant_types(), layout, dimensions)\n",
    ">>> #\n",
    ">>> # Placement of ants\n",
    ">>> tank = TankAnt()\n",
    ">>> harvester = HarvesterAnt()\n",
    ">>> place = gamestate.places['tunnel_0_0']\n",
    ">>> # Add tank before harvester\n",
    ">>> place.add_insect(tank)\n",
    ">>> place.add_insect(harvester)\n",
    ">>> gamestate.food = 0\n",
    ">>> tank.action(gamestate)\n",
    ">>> gamestate.food"
   ]
  },
  {
   "cell_type": "code",
   "execution_count": null,
   "id": "bcac6d8f",
   "metadata": {},
   "outputs": [],
   "source": []
  },
  {
   "cell_type": "code",
   "execution_count": null,
   "id": "2f6549dc",
   "metadata": {},
   "outputs": [],
   "source": []
  },
  {
   "cell_type": "code",
   "execution_count": null,
   "id": "e82e48ee",
   "metadata": {},
   "outputs": [],
   "source": []
  }
 ],
 "metadata": {
  "kernelspec": {
   "display_name": "Python 3",
   "language": "python",
   "name": "python3"
  },
  "language_info": {
   "codemirror_mode": {
    "name": "ipython",
    "version": 3
   },
   "file_extension": ".py",
   "mimetype": "text/x-python",
   "name": "python",
   "nbconvert_exporter": "python",
   "pygments_lexer": "ipython3",
   "version": "3.8.11"
  }
 },
 "nbformat": 4,
 "nbformat_minor": 5
}
