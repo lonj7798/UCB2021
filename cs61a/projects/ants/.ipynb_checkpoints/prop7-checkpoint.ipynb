{
 "cells": [
  {
   "cell_type": "code",
   "execution_count": 1,
   "id": "2c23f756",
   "metadata": {},
   "outputs": [],
   "source": [
    ">>> from ants import *\n",
    ">>> beehive, layout = Hive(AssaultPlan()), dry_layout\n",
    ">>> dimensions = (1, 9)\n",
    ">>> gamestate = GameState(None, beehive, ant_types(), layout, dimensions)\n",
    ">>> #\n",
    ">>> # Testing HungryAnt eats and chews\n",
    ">>> hungry = HungryAnt()\n",
    ">>> super_bee, wimpy_bee = Bee(1000), Bee(1)\n",
    ">>> place = gamestate.places[\"tunnel_0_0\"]\n",
    ">>> place.add_insect(hungry)\n",
    ">>> place.add_insect(super_bee)"
   ]
  },
  {
   "cell_type": "code",
   "execution_count": 2,
   "id": "4ae689a2",
   "metadata": {},
   "outputs": [
    {
     "data": {
      "text/plain": [
       "0"
      ]
     },
     "execution_count": 2,
     "metadata": {},
     "output_type": "execute_result"
    }
   ],
   "source": [
    "\n",
    ">>> hungry.action(gamestate)         # super_bee is no match for HungryAnt!\n",
    ">>> super_bee.health"
   ]
  },
  {
   "cell_type": "code",
   "execution_count": 4,
   "id": "cb67deac",
   "metadata": {},
   "outputs": [
    {
     "data": {
      "text/plain": [
       "1"
      ]
     },
     "execution_count": 4,
     "metadata": {},
     "output_type": "execute_result"
    }
   ],
   "source": [
    "place.add_insect(wimpy_bee)\n",
    "for _ in range(3):\n",
    "    hungry.action(gamestate)     # chewing...not eating\n",
    "wimpy_bee.health"
   ]
  },
  {
   "cell_type": "code",
   "execution_count": 5,
   "id": "05956492",
   "metadata": {},
   "outputs": [],
   "source": [
    "hungry.action(gamestate)"
   ]
  },
  {
   "cell_type": "code",
   "execution_count": 6,
   "id": "787e661b",
   "metadata": {},
   "outputs": [
    {
     "data": {
      "text/plain": [
       "0"
      ]
     },
     "execution_count": 6,
     "metadata": {},
     "output_type": "execute_result"
    }
   ],
   "source": [
    "wimpy_bee.health"
   ]
  },
  {
   "cell_type": "code",
   "execution_count": 1,
   "id": "b1ab814c",
   "metadata": {},
   "outputs": [
    {
     "name": "stdout",
     "output_type": "stream",
     "text": [
      "init\n"
     ]
    }
   ],
   "source": [
    "from ants import *\n",
    ">>> beehive, layout = Hive(AssaultPlan()), dry_layout\n",
    ">>> dimensions = (1, 9)\n",
    ">>> gamestate = GameState(None, beehive, ant_types(), layout, dimensions)\n",
    ">>> #\n",
    ">>> # Abstraction tests\n",
    ">>> original = Ant.__init__\n",
    ">>> Ant.__init__ = lambda self, health: print(\"init\")  # If this errors, you are not calling the parent constructor correctly.\n",
    ">>> hungry = HungryAnt()"
   ]
  },
  {
   "cell_type": "code",
   "execution_count": 1,
   "id": "d8b1ee20",
   "metadata": {},
   "outputs": [
    {
     "name": "stdout",
     "output_type": "stream",
     "text": [
      "init\n"
     ]
    },
    {
     "data": {
      "text/plain": [
       "False"
      ]
     },
     "execution_count": 1,
     "metadata": {},
     "output_type": "execute_result"
    }
   ],
   "source": [
    "from ants import *\n",
    ">>> beehive, layout = Hive(AssaultPlan()), dry_layout\n",
    ">>> dimensions = (1, 9)\n",
    ">>> gamestate = GameState(None, beehive, ant_types(), layout, dimensions)\n",
    ">>> #\n",
    ">>> # Abstraction tests\n",
    ">>> original = Ant.__init__\n",
    ">>> Ant.__init__ = lambda self, health: print(\"init\")  # If this errors, you are not calling the parent constructor correctly.\n",
    ">>> hungry = HungryAnt()\n",
    "\n",
    ">>> Ant.__init__ = original\n",
    ">>> hungry = HungryAnt()\n",
    ">>> # Class vs Instance attributes\n",
    ">>> hasattr(HungryAnt, 'chew_countdown')  # chew_countdown should be an instance attribute\\"
   ]
  },
  {
   "cell_type": "code",
   "execution_count": 1,
   "id": "a02e360d",
   "metadata": {},
   "outputs": [
    {
     "name": "stdout",
     "output_type": "stream",
     "text": [
      "0\n",
      "0\n",
      "0\n",
      "0\n",
      "0\n"
     ]
    }
   ],
   "source": [
    ">>> from ants import *\n",
    ">>> beehive, layout = Hive(AssaultPlan()), dry_layout\n",
    ">>> dimensions = (1, 9)\n",
    ">>> gamestate = GameState(None, beehive, ant_types(), layout, dimensions)\n",
    ">>> #\n",
    ">>> # Testing HungryAnt only waits when chewing\n",
    ">>> hungry = HungryAnt()\n",
    ">>> place = gamestate.places[\"tunnel_0_0\"]\n",
    ">>> place.add_insect(hungry)\n",
    ">>> # Wait a few turns before adding Bee\n",
    ">>> for _ in range(5):\n",
    "...     print(hungry.chew_countdown)\n",
    "...     hungry.action(gamestate)  # shouldn't be chewing\n",
    ">>> bee = Bee(3)\n",
    ">>> place.add_insect(bee)\n",
    ">>> hungry.action(gamestate)  # Eating time!"
   ]
  },
  {
   "cell_type": "code",
   "execution_count": 2,
   "id": "94ab4c6f",
   "metadata": {},
   "outputs": [
    {
     "data": {
      "text/plain": [
       "'tunnel_0_0'"
      ]
     },
     "execution_count": 2,
     "metadata": {},
     "output_type": "execute_result"
    }
   ],
   "source": [
    "hungry.place.name"
   ]
  },
  {
   "cell_type": "code",
   "execution_count": 4,
   "id": "7f8f3a44",
   "metadata": {},
   "outputs": [
    {
     "data": {
      "text/plain": [
       "1"
      ]
     },
     "execution_count": 4,
     "metadata": {},
     "output_type": "execute_result"
    }
   ],
   "source": [
    "hungry.chew_countdown"
   ]
  },
  {
   "cell_type": "code",
   "execution_count": 5,
   "id": "020cd2d7",
   "metadata": {},
   "outputs": [
    {
     "data": {
      "text/plain": [
       "0"
      ]
     },
     "execution_count": 5,
     "metadata": {},
     "output_type": "execute_result"
    }
   ],
   "source": [
    "\n",
    ">>> bee.health #0"
   ]
  },
  {
   "cell_type": "code",
   "execution_count": 1,
   "id": "c7b57ac7",
   "metadata": {},
   "outputs": [
    {
     "data": {
      "text/plain": [
       "0"
      ]
     },
     "execution_count": 1,
     "metadata": {},
     "output_type": "execute_result"
    }
   ],
   "source": [
    ">>> from ants import *\n",
    ">>> beehive, layout = Hive(AssaultPlan()), dry_layout\n",
    ">>> dimensions = (1, 9)\n",
    ">>> gamestate = GameState(None, beehive, ant_types(), layout, dimensions)\n",
    ">>> #\n",
    ">>> # Testing HungryAnt eats and chews\n",
    ">>> hungry = HungryAnt()\n",
    ">>> bee1 = Bee(1000)              # A Bee with 1000 health\n",
    ">>> place = gamestate.places[\"tunnel_0_0\"]\n",
    ">>> place.add_insect(hungry)\n",
    ">>> place.add_insect(bee1)         # Add the Bee to the same place as HungryAnt\n",
    ">>> hungry.action(gamestate)\n",
    ">>> bee1.health"
   ]
  },
  {
   "cell_type": "code",
   "execution_count": null,
   "id": "273472c3",
   "metadata": {},
   "outputs": [],
   "source": []
  },
  {
   "cell_type": "code",
   "execution_count": 2,
   "id": "cd047718",
   "metadata": {},
   "outputs": [
    {
     "name": "stdout",
     "output_type": "stream",
     "text": [
      "1\n",
      "2\n",
      "3\n"
     ]
    }
   ],
   "source": [
    ">>> bee2 = Bee(1)                 # A Bee with 1 health\n",
    ">>> place.add_insect(bee2)\n",
    ">>> for _ in range(3):\n",
    "...     print(hungry.chew_countdown)\n",
    "...     hungry.action(gamestate)     # Digesting...not eating\n"
   ]
  },
  {
   "cell_type": "code",
   "execution_count": 3,
   "id": "40852ede",
   "metadata": {},
   "outputs": [
    {
     "data": {
      "text/plain": [
       "1"
      ]
     },
     "execution_count": 3,
     "metadata": {},
     "output_type": "execute_result"
    }
   ],
   "source": [
    ">>> bee2.health"
   ]
  },
  {
   "cell_type": "code",
   "execution_count": 4,
   "id": "73f2115e",
   "metadata": {},
   "outputs": [
    {
     "data": {
      "text/plain": [
       "0"
      ]
     },
     "execution_count": 4,
     "metadata": {},
     "output_type": "execute_result"
    }
   ],
   "source": [
    ">>> hungry.action(gamestate)\n",
    ">>> bee2.health"
   ]
  },
  {
   "cell_type": "code",
   "execution_count": 1,
   "id": "8631bcbb",
   "metadata": {},
   "outputs": [
    {
     "data": {
      "text/plain": [
       "1"
      ]
     },
     "execution_count": 1,
     "metadata": {},
     "output_type": "execute_result"
    }
   ],
   "source": [
    ">>> from ants import *\n",
    ">>> beehive, layout = Hive(AssaultPlan()), dry_layout\n",
    ">>> dimensions = (1, 9)\n",
    ">>> gamestate = GameState(None, beehive, ant_types(), layout, dimensions)\n",
    ">>> #\n",
    ">>> # Testing HungryAnt removes bee when eating.\n",
    ">>> hungry = HungryAnt()\n",
    ">>> place = gamestate.places[\"tunnel_0_0\"]\n",
    ">>> place.add_insect(hungry)\n",
    ">>> place.add_insect(Bee(3))\n",
    ">>> place.add_insect(Bee(3))\n",
    ">>> hungry.action(gamestate)\n",
    ">>> len(place.bees)"
   ]
  },
  {
   "cell_type": "code",
   "execution_count": null,
   "id": "6bd78095",
   "metadata": {},
   "outputs": [],
   "source": []
  }
 ],
 "metadata": {
  "kernelspec": {
   "display_name": "Python 3 (ipykernel)",
   "language": "python",
   "name": "python3"
  },
  "language_info": {
   "codemirror_mode": {
    "name": "ipython",
    "version": 3
   },
   "file_extension": ".py",
   "mimetype": "text/x-python",
   "name": "python",
   "nbconvert_exporter": "python",
   "pygments_lexer": "ipython3",
   "version": "3.8.11"
  }
 },
 "nbformat": 4,
 "nbformat_minor": 5
}
