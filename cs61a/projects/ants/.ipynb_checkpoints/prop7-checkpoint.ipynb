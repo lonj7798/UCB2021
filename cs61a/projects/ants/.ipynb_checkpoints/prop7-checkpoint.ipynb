{
 "cells": [
  {
   "cell_type": "code",
   "execution_count": 1,
   "id": "2c23f756",
   "metadata": {},
   "outputs": [
    {
     "ename": "TypeError",
     "evalue": "action() takes 1 positional argument but 2 were given",
     "output_type": "error",
     "traceback": [
      "\u001b[0;31m---------------------------------------------------------------------------\u001b[0m",
      "\u001b[0;31mTypeError\u001b[0m                                 Traceback (most recent call last)",
      "\u001b[0;32m<ipython-input-1-dbe89ea1d979>\u001b[0m in \u001b[0;36m<module>\u001b[0;34m\u001b[0m\n\u001b[1;32m     10\u001b[0m \u001b[0mplace\u001b[0m\u001b[0;34m.\u001b[0m\u001b[0madd_insect\u001b[0m\u001b[0;34m(\u001b[0m\u001b[0mhungry\u001b[0m\u001b[0;34m)\u001b[0m\u001b[0;34m\u001b[0m\u001b[0;34m\u001b[0m\u001b[0m\n\u001b[1;32m     11\u001b[0m \u001b[0mplace\u001b[0m\u001b[0;34m.\u001b[0m\u001b[0madd_insect\u001b[0m\u001b[0;34m(\u001b[0m\u001b[0msuper_bee\u001b[0m\u001b[0;34m)\u001b[0m\u001b[0;34m\u001b[0m\u001b[0;34m\u001b[0m\u001b[0m\n\u001b[0;32m---> 12\u001b[0;31m \u001b[0mhungry\u001b[0m\u001b[0;34m.\u001b[0m\u001b[0maction\u001b[0m\u001b[0;34m(\u001b[0m\u001b[0mgamestate\u001b[0m\u001b[0;34m)\u001b[0m         \u001b[0;31m# super_bee is no match for HungryAnt!\u001b[0m\u001b[0;34m\u001b[0m\u001b[0;34m\u001b[0m\u001b[0m\n\u001b[0m\u001b[1;32m     13\u001b[0m \u001b[0msuper_bee\u001b[0m\u001b[0;34m.\u001b[0m\u001b[0mhealth\u001b[0m\u001b[0;34m\u001b[0m\u001b[0;34m\u001b[0m\u001b[0m\n",
      "\u001b[0;31mTypeError\u001b[0m: action() takes 1 positional argument but 2 were given"
     ]
    }
   ],
   "source": [
    ">>> from ants import *\n",
    ">>> beehive, layout = Hive(AssaultPlan()), dry_layout\n",
    ">>> dimensions = (1, 9)\n",
    ">>> gamestate = GameState(None, beehive, ant_types(), layout, dimensions)\n",
    ">>> #\n",
    ">>> # Testing HungryAnt eats and chews\n",
    ">>> hungry = HungryAnt()\n",
    ">>> super_bee, wimpy_bee = Bee(1000), Bee(1)\n",
    ">>> place = gamestate.places[\"tunnel_0_0\"]\n",
    ">>> place.add_insect(hungry)\n",
    ">>> place.add_insect(super_bee)\n",
    ">>> hungry.action(gamestate)         # super_bee is no match for HungryAnt!\n",
    ">>> super_bee.health"
   ]
  },
  {
   "cell_type": "code",
   "execution_count": null,
   "id": "4ae689a2",
   "metadata": {},
   "outputs": [],
   "source": []
  }
 ],
 "metadata": {
  "kernelspec": {
   "display_name": "Python 3",
   "language": "python",
   "name": "python3"
  },
  "language_info": {
   "codemirror_mode": {
    "name": "ipython",
    "version": 3
   },
   "file_extension": ".py",
   "mimetype": "text/x-python",
   "name": "python",
   "nbconvert_exporter": "python",
   "pygments_lexer": "ipython3",
   "version": "3.8.11"
  }
 },
 "nbformat": 4,
 "nbformat_minor": 5
}
