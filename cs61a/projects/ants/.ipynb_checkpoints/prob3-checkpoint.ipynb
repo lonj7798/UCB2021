{
 "cells": [
  {
   "cell_type": "code",
   "execution_count": 1,
   "id": "19539c82",
   "metadata": {},
   "outputs": [],
   "source": [
    "\"\"\"CS 61A presents Ants Vs. SomeBees.\"\"\"\n",
    "\n",
    "import random\n",
    "from ucb import main, interact, trace\n",
    "from collections import OrderedDict\n",
    "from ants import *"
   ]
  },
  {
   "cell_type": "code",
   "execution_count": 2,
   "id": "665cd70a",
   "metadata": {},
   "outputs": [],
   "source": [
    ">>> beehive, layout = Hive(AssaultPlan()), dry_layout\n",
    ">>> dimensions = (1, 9)\n",
    ">>> gamestate = GameState(None, beehive, ant_types(), layout, dimensions)\n",
    ">>> thrower = ThrowerAnt()\n",
    ">>> ant_place = gamestate.places[\"tunnel_0_0\"]\n",
    ">>> ant_place.add_insect(thrower)\n",
    ">>> #\n",
    ">>> # Testing nearest_bee\n",
    ">>> near_bee = Bee(2) # A Bee with 2 health\n",
    ">>> far_bee = Bee(3)  # A Bee with 3 health\n",
    ">>> hive_bee = Bee(4) # A Bee with 4 health\n",
    ">>> hive_place = gamestate.beehive"
   ]
  },
  {
   "cell_type": "code",
   "execution_count": 3,
   "id": "4d4918f3",
   "metadata": {},
   "outputs": [
    {
     "data": {
      "text/plain": [
       "True"
      ]
     },
     "execution_count": 3,
     "metadata": {},
     "output_type": "execute_result"
    }
   ],
   "source": [
    "hive_place.is_hive"
   ]
  },
  {
   "cell_type": "code",
   "execution_count": 4,
   "id": "cac514e6",
   "metadata": {},
   "outputs": [
    {
     "data": {
      "text/plain": [
       "True"
      ]
     },
     "execution_count": 4,
     "metadata": {},
     "output_type": "execute_result"
    }
   ],
   "source": [
    "hive_place.add_insect(hive_bee)\n",
    "thrower.nearest_bee() is hive_bee"
   ]
  },
  {
   "cell_type": "code",
   "execution_count": 5,
   "id": "8b5834e0",
   "metadata": {},
   "outputs": [],
   "source": [
    ">>> near_place = gamestate.places['tunnel_0_3']\n",
    ">>> far_place = gamestate.places['tunnel_0_6']"
   ]
  },
  {
   "cell_type": "code",
   "execution_count": 6,
   "id": "9632630c",
   "metadata": {},
   "outputs": [
    {
     "data": {
      "text/plain": [
       "False"
      ]
     },
     "execution_count": 6,
     "metadata": {},
     "output_type": "execute_result"
    }
   ],
   "source": [
    "near_place.is_hive"
   ]
  },
  {
   "cell_type": "code",
   "execution_count": 7,
   "id": "40976ee8",
   "metadata": {},
   "outputs": [
    {
     "data": {
      "text/plain": [
       "False"
      ]
     },
     "execution_count": 7,
     "metadata": {},
     "output_type": "execute_result"
    }
   ],
   "source": [
    ">>> near_place.add_insect(near_bee)\n",
    ">>> far_place.add_insect(far_bee)\n",
    ">>> nearest_bee = thrower.nearest_bee()\n",
    ">>> nearest_bee is far_bee"
   ]
  },
  {
   "cell_type": "code",
   "execution_count": 8,
   "id": "8f428fc3",
   "metadata": {},
   "outputs": [
    {
     "data": {
      "text/plain": [
       "'tunnel_0_1'"
      ]
     },
     "execution_count": 8,
     "metadata": {},
     "output_type": "execute_result"
    }
   ],
   "source": [
    "thrower.place.entrance.name"
   ]
  },
  {
   "cell_type": "code",
   "execution_count": 9,
   "id": "ce8f23c1",
   "metadata": {},
   "outputs": [
    {
     "data": {
      "text/plain": [
       "True"
      ]
     },
     "execution_count": 9,
     "metadata": {},
     "output_type": "execute_result"
    }
   ],
   "source": [
    "thrower.place.entrance.entrance.entrance is near_place"
   ]
  },
  {
   "cell_type": "code",
   "execution_count": 11,
   "id": "5b82115e",
   "metadata": {},
   "outputs": [
    {
     "data": {
      "text/plain": [
       "True"
      ]
     },
     "execution_count": 11,
     "metadata": {},
     "output_type": "execute_result"
    }
   ],
   "source": [
    "nearest_bee is near_bee"
   ]
  },
  {
   "cell_type": "code",
   "execution_count": 12,
   "id": "63b7c154",
   "metadata": {},
   "outputs": [
    {
     "data": {
      "text/plain": [
       "2"
      ]
     },
     "execution_count": 12,
     "metadata": {},
     "output_type": "execute_result"
    }
   ],
   "source": [
    "nearest_bee.health"
   ]
  },
  {
   "cell_type": "code",
   "execution_count": null,
   "id": "c45738f6",
   "metadata": {},
   "outputs": [],
   "source": []
  }
 ],
 "metadata": {
  "kernelspec": {
   "display_name": "Python 3",
   "language": "python",
   "name": "python3"
  },
  "language_info": {
   "codemirror_mode": {
    "name": "ipython",
    "version": 3
   },
   "file_extension": ".py",
   "mimetype": "text/x-python",
   "name": "python",
   "nbconvert_exporter": "python",
   "pygments_lexer": "ipython3",
   "version": "3.8.11"
  }
 },
 "nbformat": 4,
 "nbformat_minor": 5
}
