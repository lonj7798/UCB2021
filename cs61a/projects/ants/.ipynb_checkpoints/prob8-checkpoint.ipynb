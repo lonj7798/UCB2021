{
 "cells": [
  {
   "cell_type": "code",
   "execution_count": 1,
   "id": "2a939af4",
   "metadata": {
    "scrolled": true
   },
   "outputs": [
    {
     "data": {
      "text/plain": [
       "True"
      ]
     },
     "execution_count": 1,
     "metadata": {},
     "output_type": "execute_result"
    }
   ],
   "source": [
    ">>> from ants import *\n",
    ">>> beehive, layout = Hive(AssaultPlan()), dry_layout\n",
    ">>> gamestate = GameState(None, beehive, ant_types(), layout, (1, 9))\n",
    ">>> #\n",
    ">>> # Bodyguard ant added before another ant\n",
    ">>> bodyguard = BodyguardAnt()\n",
    ">>> other_ant = ThrowerAnt()\n",
    ">>> place = gamestate.places['tunnel_0_0']\n",
    ">>> place.add_insect(bodyguard)  # Bodyguard in place first\n",
    ">>> place.add_insect(other_ant)\n",
    ">>> place.ant is bodyguard"
   ]
  },
  {
   "cell_type": "code",
   "execution_count": 2,
   "id": "db6507ae",
   "metadata": {},
   "outputs": [
    {
     "data": {
      "text/plain": [
       "True"
      ]
     },
     "execution_count": 2,
     "metadata": {},
     "output_type": "execute_result"
    }
   ],
   "source": [
    "bodyguard.ant_contained is other_ant"
   ]
  },
  {
   "cell_type": "code",
   "execution_count": 3,
   "id": "eafe0590",
   "metadata": {},
   "outputs": [
    {
     "data": {
      "text/plain": [
       "False"
      ]
     },
     "execution_count": 3,
     "metadata": {},
     "output_type": "execute_result"
    }
   ],
   "source": [
    "place.ant is other_ant"
   ]
  },
  {
   "cell_type": "code",
   "execution_count": null,
   "id": "50aa0027",
   "metadata": {},
   "outputs": [],
   "source": []
  },
  {
   "cell_type": "code",
   "execution_count": 1,
   "id": "4c5f2f30",
   "metadata": {},
   "outputs": [
    {
     "data": {
      "text/plain": [
       "True"
      ]
     },
     "execution_count": 1,
     "metadata": {},
     "output_type": "execute_result"
    }
   ],
   "source": [
    "from ants import *\n",
    ">>> beehive, layout = Hive(AssaultPlan()), dry_layout\n",
    ">>> gamestate = GameState(None, beehive, ant_types(), layout, (1, 9))\n",
    ">>> #\n",
    ">>> # Bodyguard ant can be added after another ant\n",
    ">>> bodyguard = BodyguardAnt()\n",
    ">>> other_ant = ThrowerAnt()\n",
    ">>> place = gamestate.places['tunnel_0_0']\n",
    ">>> place.add_insect(other_ant)  # Other ant in place first\n",
    ">>> place.ant is other_ant"
   ]
  },
  {
   "cell_type": "code",
   "execution_count": 2,
   "id": "49220f67",
   "metadata": {},
   "outputs": [
    {
     "data": {
      "text/plain": [
       "True"
      ]
     },
     "execution_count": 2,
     "metadata": {},
     "output_type": "execute_result"
    }
   ],
   "source": [
    ">>> place.add_insect(bodyguard)\n",
    ">>> place.ant is bodyguard"
   ]
  },
  {
   "cell_type": "code",
   "execution_count": 5,
   "id": "6687ba12",
   "metadata": {},
   "outputs": [
    {
     "data": {
      "text/plain": [
       "True"
      ]
     },
     "execution_count": 5,
     "metadata": {},
     "output_type": "execute_result"
    }
   ],
   "source": [
    "place.ant.ant_contained is other_ant"
   ]
  },
  {
   "cell_type": "code",
   "execution_count": null,
   "id": "0668eee3",
   "metadata": {},
   "outputs": [],
   "source": []
  }
 ],
 "metadata": {
  "kernelspec": {
   "display_name": "Python 3",
   "language": "python",
   "name": "python3"
  },
  "language_info": {
   "codemirror_mode": {
    "name": "ipython",
    "version": 3
   },
   "file_extension": ".py",
   "mimetype": "text/x-python",
   "name": "python",
   "nbconvert_exporter": "python",
   "pygments_lexer": "ipython3",
   "version": "3.8.11"
  }
 },
 "nbformat": 4,
 "nbformat_minor": 5
}
