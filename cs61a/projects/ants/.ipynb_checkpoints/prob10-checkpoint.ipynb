{
 "cells": [
  {
   "cell_type": "code",
   "execution_count": 1,
   "id": "98f09683",
   "metadata": {},
   "outputs": [],
   "source": [
    ">>> from ants import *\n",
    ">>> from ants_plans import *\n",
    ">>> beehive, layout = Hive(make_test_assault_plan()), dry_layout\n",
    ">>> dimensions = (1, 9)\n",
    ">>> gamestate = GameState(None, beehive, ant_types(), layout, dimensions)\n",
    ">>> #\n",
    ">>> # Testing water with soggy (non-waterproof) bees\n",
    ">>> test_bee = Bee(1000000)\n",
    ">>> test_bee.is_waterproof = False    # Make Bee non-waterproof\n",
    ">>> test_water = Water('Water Test2')"
   ]
  },
  {
   "cell_type": "code",
   "execution_count": 2,
   "id": "d8f86dc2",
   "metadata": {},
   "outputs": [
    {
     "data": {
      "text/plain": [
       "0"
      ]
     },
     "execution_count": 2,
     "metadata": {},
     "output_type": "execute_result"
    }
   ],
   "source": [
    "\n",
    ">>> test_water.add_insect(test_bee)\n",
    ">>> test_bee.health"
   ]
  },
  {
   "cell_type": "code",
   "execution_count": 3,
   "id": "90152727",
   "metadata": {},
   "outputs": [
    {
     "data": {
      "text/plain": [
       "[]"
      ]
     },
     "execution_count": 3,
     "metadata": {},
     "output_type": "execute_result"
    }
   ],
   "source": [
    "test_water.bees"
   ]
  },
  {
   "cell_type": "code",
   "execution_count": 4,
   "id": "186513de",
   "metadata": {},
   "outputs": [
    {
     "data": {
      "text/plain": [
       "1"
      ]
     },
     "execution_count": 4,
     "metadata": {},
     "output_type": "execute_result"
    }
   ],
   "source": [
    ">>> from ants import *\n",
    ">>> from ants_plans import *\n",
    ">>> beehive, layout = Hive(make_test_assault_plan()), dry_layout\n",
    ">>> dimensions = (1, 9)\n",
    ">>> gamestate = GameState(None, beehive, ant_types(), layout, dimensions)\n",
    ">>> #\n",
    ">>> # Testing water with waterproof bees\n",
    ">>> test_bee = Bee(1)\n",
    ">>> test_water = Water('Water Test3')\n",
    ">>> test_water.add_insect(test_bee)\n",
    ">>> test_bee.health"
   ]
  },
  {
   "cell_type": "code",
   "execution_count": 1,
   "id": "528efd1e",
   "metadata": {},
   "outputs": [
    {
     "name": "stdout",
     "output_type": "stream",
     "text": [
      "called add_insect\n"
     ]
    }
   ],
   "source": [
    ">>> from ants import *\n",
    ">>> from ants_plans import *\n",
    ">>> beehive, layout = Hive(make_test_assault_plan()), dry_layout\n",
    ">>> dimensions = (1, 9)\n",
    ">>> gamestate = GameState(None, beehive, ant_types(), layout, dimensions)\n",
    ">>> old_add_insect = Place.add_insect\n",
    ">>> # Testing water inheritance\n",
    ">>> old_add_insect = Place.add_insect\n",
    ">>> def new_add_insect(self, insect):\n",
    "...     print(\"called add_insect\")\n",
    "...     old_add_insect(self, insect)\n",
    ">>> Place.add_insect = new_add_insect\n",
    ">>> test_bee = Bee(1)\n",
    ">>> test_water = Water('Water Test4')\n",
    ">>> test_water.add_insect(test_bee) # if this fails you probably didn't call `add_insect"
   ]
  },
  {
   "cell_type": "code",
   "execution_count": null,
   "id": "1f079c1f",
   "metadata": {},
   "outputs": [],
   "source": []
  }
 ],
 "metadata": {
  "kernelspec": {
   "display_name": "Python 3",
   "language": "python",
   "name": "python3"
  },
  "language_info": {
   "codemirror_mode": {
    "name": "ipython",
    "version": 3
   },
   "file_extension": ".py",
   "mimetype": "text/x-python",
   "name": "python",
   "nbconvert_exporter": "python",
   "pygments_lexer": "ipython3",
   "version": "3.8.11"
  }
 },
 "nbformat": 4,
 "nbformat_minor": 5
}
