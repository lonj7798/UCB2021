{
 "cells": [
  {
   "cell_type": "code",
   "execution_count": 6,
   "id": "6a5bc3be",
   "metadata": {},
   "outputs": [
    {
     "data": {
      "text/plain": [
       "'tunnel_0_4'"
      ]
     },
     "execution_count": 6,
     "metadata": {},
     "output_type": "execute_result"
    }
   ],
   "source": [
    ">>> from ants import *\n",
    ">>> beehive, layout = Hive(AssaultPlan()), dry_layout\n",
    ">>> dimensions = (1, 9)\n",
    ">>> gamestate = GameState(None, beehive, ant_types(), layout, dimensions)\n",
    ">>> # Testing long status stack\n",
    ">>> scary = ScaryThrower()\n",
    ">>> slow = SlowThrower()\n",
    ">>> bee = Bee(3)\n",
    ">>> gamestate.places[\"tunnel_0_0\"].add_insect(scary)\n",
    ">>> gamestate.places[\"tunnel_0_1\"].add_insect(slow)\n",
    ">>> gamestate.places[\"tunnel_0_3\"].add_insect(bee)\n",
    ">>> scary.action(gamestate) # scare bee once\n",
    ">>> gamestate.time = 0\n",
    ">>> bee.action(gamestate) # scared\n",
    ">>> bee.place.name\n",
    "# 'tunnel_0_4'"
   ]
  },
  {
   "cell_type": "code",
   "execution_count": 7,
   "id": "a669ef9f",
   "metadata": {},
   "outputs": [
    {
     "data": {
      "text/plain": [
       "'tunnel_0_4'"
      ]
     },
     "execution_count": 7,
     "metadata": {},
     "output_type": "execute_result"
    }
   ],
   "source": [
    "\n",
    ">>> for _ in range(3): # slow bee three times, for a total of 9 turns\n",
    "...    slow.action(gamestate)\n",
    ">>> gamestate.time = 1\n",
    ">>> bee.action(gamestate) # scared, but also slowed for 9 more turns, so it doesn't move back yet\n",
    ">>> bee.place.name\n",
    "#'tunnel_0_4'"
   ]
  },
  {
   "cell_type": "code",
   "execution_count": 8,
   "id": "ef099aa5",
   "metadata": {},
   "outputs": [
    {
     "data": {
      "text/plain": [
       "'tunnel_0_5'"
      ]
     },
     "execution_count": 8,
     "metadata": {},
     "output_type": "execute_result"
    }
   ],
   "source": [
    "\n",
    ">>> gamestate.time = 2\n",
    ">>> bee.action(gamestate) # after this, no longer scared, but still slowed for 8 turns\n",
    ">>> bee.place.name #  it's an even turn, so it can be scared and move backwards\n",
    "#'tunnel_0_5'"
   ]
  },
  {
   "cell_type": "code",
   "execution_count": 9,
   "id": "2294e18d",
   "metadata": {},
   "outputs": [
    {
     "data": {
      "text/plain": [
       "'tunnel_0_4'"
      ]
     },
     "execution_count": 9,
     "metadata": {},
     "output_type": "execute_result"
    }
   ],
   "source": [
    "\n",
    ">>> gamestate.time = 3\n",
    ">>> bee.action(gamestate) # slowed for 7 more turns\n",
    ">>> bee.place.name\n",
    "#     'tunnel_0_5'"
   ]
  },
  {
   "cell_type": "code",
   "execution_count": null,
   "id": "589851e0",
   "metadata": {},
   "outputs": [],
   "source": []
  }
 ],
 "metadata": {
  "kernelspec": {
   "display_name": "Python 3 (ipykernel)",
   "language": "python",
   "name": "python3"
  },
  "language_info": {
   "codemirror_mode": {
    "name": "ipython",
    "version": 3
   },
   "file_extension": ".py",
   "mimetype": "text/x-python",
   "name": "python",
   "nbconvert_exporter": "python",
   "pygments_lexer": "ipython3",
   "version": "3.8.11"
  }
 },
 "nbformat": 4,
 "nbformat_minor": 5
}
