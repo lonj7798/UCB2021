{
 "cells": [
  {
   "cell_type": "code",
   "execution_count": 2,
   "id": "48744473",
   "metadata": {
    "scrolled": true
   },
   "outputs": [
    {
     "data": {
      "text/plain": [
       "2"
      ]
     },
     "execution_count": 2,
     "metadata": {},
     "output_type": "execute_result"
    }
   ],
   "source": [
    "from ants import *\n",
    ">>> beehive, layout = Hive(AssaultPlan()), dry_layout\n",
    ">>> dimensions = (1, 9)\n",
    ">>> gamestate = GameState(None, beehive, ant_types(), layout, dimensions)\n",
    ">>> #\n",
    ">>> # Testing fire does damage to all Bees in its Place\n",
    ">>> place = gamestate.places['tunnel_0_4']\n",
    ">>> fire = FireAnt(health=1)\n",
    ">>> place.add_insect(fire)        # Add a FireAnt with 1 health\n",
    ">>> place.add_insect(Bee(3))      # Add a Bee with 3 health\n",
    ">>> place.add_insect(Bee(5))      # Add a Bee with 5 health\n",
    ">>> len(place.bees) #2"
   ]
  },
  {
   "cell_type": "code",
   "execution_count": 3,
   "id": "415f723d",
   "metadata": {},
   "outputs": [
    {
     "data": {
      "text/plain": [
       "0"
      ]
     },
     "execution_count": 3,
     "metadata": {},
     "output_type": "execute_result"
    }
   ],
   "source": [
    "place.bees[0].action(gamestate)  # The first Bee attacks FireAnt\n",
    ">>> fire.health #2 ->> ?????"
   ]
  },
  {
   "cell_type": "code",
   "execution_count": 6,
   "id": "5a325e14",
   "metadata": {},
   "outputs": [
    {
     "data": {
      "text/plain": [
       "1"
      ]
     },
     "execution_count": 6,
     "metadata": {},
     "output_type": "execute_result"
    }
   ],
   "source": [
    "len(place.bees)  # 1"
   ]
  },
  {
   "cell_type": "code",
   "execution_count": 7,
   "id": "48ba38e0",
   "metadata": {},
   "outputs": [
    {
     "data": {
      "text/plain": [
       "1"
      ]
     },
     "execution_count": 7,
     "metadata": {},
     "output_type": "execute_result"
    }
   ],
   "source": [
    "place.bees[0].health  # 1 / one of bee dead / damage = taken + 3 (default)"
   ]
  },
  {
   "cell_type": "code",
   "execution_count": 1,
   "id": "dc254611",
   "metadata": {},
   "outputs": [
    {
     "data": {
      "text/plain": [
       "99"
      ]
     },
     "execution_count": 1,
     "metadata": {},
     "output_type": "execute_result"
    }
   ],
   "source": [
    ">>> from ants import *\n",
    ">>> beehive, layout = Hive(AssaultPlan()), dry_layout\n",
    ">>> dimensions = (1, 9)\n",
    ">>> gamestate = GameState(None, beehive, ant_types(), layout, dimensions)\n",
    ">>> #\n",
    ">>> # Testing fire damage when the fire ant does not die\n",
    ">>> place = gamestate.places['tunnel_0_4']\n",
    ">>> bee = Bee(5)\n",
    ">>> ant = FireAnt(health=100)\n",
    ">>> place.add_insect(bee)\n",
    ">>> place.add_insect(ant)\n",
    ">>> bee.action(gamestate) # attack the FireAnt\n",
    ">>> ant.health"
   ]
  },
  {
   "cell_type": "code",
   "execution_count": 2,
   "id": "3281a747",
   "metadata": {},
   "outputs": [
    {
     "data": {
      "text/plain": [
       "4"
      ]
     },
     "execution_count": 2,
     "metadata": {},
     "output_type": "execute_result"
    }
   ],
   "source": [
    "bee.health"
   ]
  },
  {
   "cell_type": "code",
   "execution_count": null,
   "id": "9d701071",
   "metadata": {},
   "outputs": [],
   "source": []
  }
 ],
 "metadata": {
  "kernelspec": {
   "display_name": "Python 3",
   "language": "python",
   "name": "python3"
  },
  "language_info": {
   "codemirror_mode": {
    "name": "ipython",
    "version": 3
   },
   "file_extension": ".py",
   "mimetype": "text/x-python",
   "name": "python",
   "nbconvert_exporter": "python",
   "pygments_lexer": "ipython3",
   "version": "3.8.11"
  }
 },
 "nbformat": 4,
 "nbformat_minor": 5
}
