{
 "cells": [
  {
   "cell_type": "code",
   "execution_count": 1,
   "id": "4c6bdd22",
   "metadata": {},
   "outputs": [
    {
     "name": "stdout",
     "output_type": "stream",
     "text": [
      "scuba construct\n",
      "scuba init\n"
     ]
    }
   ],
   "source": [
    ">>> from ants import *\n",
    ">>> beehive = Hive(AssaultPlan())\n",
    ">>> dimensions = (2, 9)\n",
    ">>> gamestate = GameState(None, beehive, ant_types(), dry_layout, dimensions, food=100)\n",
    ">>> # Abstraction tests\n",
    ">>> original = ScubaThrower.construct\n",
    ">>> ScubaThrower.__init__ = lambda self, health=2: print(\"scuba init\")\n",
    ">>> def modified_construct(cls, gamestate):\n",
    "...   print(\"scuba construct\")\n",
    "...   return super(ScubaThrower, cls).construct(gamestate)\n",
    ">>> ScubaThrower.construct = classmethod(modified_construct)\n",
    ">>> queen = QueenAnt.construct(gamestate)\n",
    "\n",
    "# scuba construct\n",
    "# scuba init"
   ]
  },
  {
   "cell_type": "code",
   "execution_count": 2,
   "id": "4e614047",
   "metadata": {
    "scrolled": true
   },
   "outputs": [
    {
     "name": "stdout",
     "output_type": "stream",
     "text": [
      "scuba init\n"
     ]
    }
   ],
   "source": [
    "\n",
    ">>> ScubaThrower.construct = original\n",
    ">>> queen = QueenAnt.construct(gamestate)"
   ]
  },
  {
   "cell_type": "code",
   "execution_count": 1,
   "id": "f20447fd",
   "metadata": {},
   "outputs": [
    {
     "name": "stdout",
     "output_type": "stream",
     "text": [
      "hey\n"
     ]
    }
   ],
   "source": [
    ">>> import ants, importlib\n",
    ">>> importlib.reload(ants)\n",
    ">>> beehive = ants.Hive(ants.AssaultPlan())\n",
    ">>> dimensions = (2, 9)\n",
    ">>> gamestate = ants.GameState(None, beehive, ants.ant_types(),\n",
    "...         ants.dry_layout, dimensions, food=20)\n",
    ">>> ants.ants_lose = lambda: None\n",
    ">>> # QueenAnt Placement\n",
    ">>> queen = ants.QueenAnt.construct(gamestate)\n"
   ]
  },
  {
   "cell_type": "code",
   "execution_count": 2,
   "id": "5eda8fd0",
   "metadata": {},
   "outputs": [
    {
     "data": {
      "text/plain": [
       "True"
      ]
     },
     "execution_count": 2,
     "metadata": {},
     "output_type": "execute_result"
    }
   ],
   "source": [
    "\n",
    ">>> impostor = ants.QueenAnt.construct(gamestate)\n",
    ">>> impostor is None # you cannot create a second QueenAnt!"
   ]
  },
  {
   "cell_type": "code",
   "execution_count": 3,
   "id": "6c90dcda",
   "metadata": {},
   "outputs": [],
   "source": [
    ">>> front_ant, back_ant = ants.ThrowerAnt(), ants.ThrowerAnt()\n",
    ">>> tunnel = [gamestate.places['tunnel_0_{0}'.format(i)]\n",
    "...         for i in range(9)]\n",
    ">>> tunnel[1].add_insect(back_ant)\n",
    ">>> tunnel[7].add_insect(front_ant)\n"
   ]
  },
  {
   "cell_type": "code",
   "execution_count": 3,
   "id": "3ef4f158",
   "metadata": {},
   "outputs": [
    {
     "data": {
      "text/plain": [
       "1"
      ]
     },
     "execution_count": 3,
     "metadata": {},
     "output_type": "execute_result"
    }
   ],
   "source": [
    ">>> back_ant.damage "
   ]
  },
  {
   "cell_type": "code",
   "execution_count": 4,
   "id": "9e8e9833",
   "metadata": {
    "scrolled": true
   },
   "outputs": [
    {
     "data": {
      "text/plain": [
       "1"
      ]
     },
     "execution_count": 4,
     "metadata": {},
     "output_type": "execute_result"
    }
   ],
   "source": [
    ">>> back_ant.damage "
   ]
  },
  {
   "cell_type": "code",
   "execution_count": 5,
   "id": "758e41d3",
   "metadata": {},
   "outputs": [
    {
     "data": {
      "text/plain": [
       "True"
      ]
     },
     "execution_count": 5,
     "metadata": {},
     "output_type": "execute_result"
    }
   ],
   "source": [
    "tunnel[4].ant is None"
   ]
  },
  {
   "cell_type": "code",
   "execution_count": 6,
   "id": "15012ea6",
   "metadata": {},
   "outputs": [],
   "source": [
    "tunnel[4].add_insect(back_ant)"
   ]
  },
  {
   "cell_type": "code",
   "execution_count": 12,
   "id": "f784ab0e",
   "metadata": {},
   "outputs": [
    {
     "ename": "AttributeError",
     "evalue": "'NoneType' object has no attribute 'add_to'",
     "output_type": "error",
     "traceback": [
      "\u001b[0;31m---------------------------------------------------------------------------\u001b[0m",
      "\u001b[0;31mAttributeError\u001b[0m                            Traceback (most recent call last)",
      "\u001b[0;32m/var/folders/m5/b577jf4d20jc309f4phr3lvr0000gn/T/ipykernel_2713/3277917533.py\u001b[0m in \u001b[0;36m<module>\u001b[0;34m\u001b[0m\n\u001b[0;32m----> 1\u001b[0;31m \u001b[0mtunnel\u001b[0m\u001b[0;34m[\u001b[0m\u001b[0;36m4\u001b[0m\u001b[0;34m]\u001b[0m\u001b[0;34m.\u001b[0m\u001b[0madd_insect\u001b[0m\u001b[0;34m(\u001b[0m\u001b[0mqueen\u001b[0m\u001b[0;34m)\u001b[0m\u001b[0;34m\u001b[0m\u001b[0;34m\u001b[0m\u001b[0m\n\u001b[0m",
      "\u001b[0;32m~/MyWork/UCB2021/cs61a/projects/ants/ants.py\u001b[0m in \u001b[0;36madd_insect\u001b[0;34m(self, insect)\u001b[0m\n\u001b[1;32m     38\u001b[0m             \u001b[0mit\u001b[0m \u001b[0mcan\u001b[0m \u001b[0mbe\u001b[0m \u001b[0menhanced\u001b[0m \u001b[0;32min\u001b[0m \u001b[0msubclasses\u001b[0m\u001b[0;34m.\u001b[0m\u001b[0;34m\u001b[0m\u001b[0;34m\u001b[0m\u001b[0m\n\u001b[1;32m     39\u001b[0m         \"\"\"\n\u001b[0;32m---> 40\u001b[0;31m         \u001b[0minsect\u001b[0m\u001b[0;34m.\u001b[0m\u001b[0madd_to\u001b[0m\u001b[0;34m(\u001b[0m\u001b[0mself\u001b[0m\u001b[0;34m)\u001b[0m\u001b[0;34m\u001b[0m\u001b[0;34m\u001b[0m\u001b[0m\n\u001b[0m\u001b[1;32m     41\u001b[0m \u001b[0;34m\u001b[0m\u001b[0m\n\u001b[1;32m     42\u001b[0m     \u001b[0;32mdef\u001b[0m \u001b[0mremove_insect\u001b[0m\u001b[0;34m(\u001b[0m\u001b[0mself\u001b[0m\u001b[0;34m,\u001b[0m \u001b[0minsect\u001b[0m\u001b[0;34m)\u001b[0m\u001b[0;34m:\u001b[0m\u001b[0;34m\u001b[0m\u001b[0;34m\u001b[0m\u001b[0m\n",
      "\u001b[0;31mAttributeError\u001b[0m: 'NoneType' object has no attribute 'add_to'"
     ]
    }
   ],
   "source": [
    "tunnel[4].add_insect(queen)"
   ]
  }
 ],
 "metadata": {
  "kernelspec": {
   "display_name": "Python 3 (ipykernel)",
   "language": "python",
   "name": "python3"
  },
  "language_info": {
   "codemirror_mode": {
    "name": "ipython",
    "version": 3
   },
   "file_extension": ".py",
   "mimetype": "text/x-python",
   "name": "python",
   "nbconvert_exporter": "python",
   "pygments_lexer": "ipython3",
   "version": "3.8.11"
  }
 },
 "nbformat": 4,
 "nbformat_minor": 5
}
