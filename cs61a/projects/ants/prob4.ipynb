{
 "cells": [
  {
   "cell_type": "code",
   "execution_count": 1,
   "id": "327dc921",
   "metadata": {},
   "outputs": [],
   "source": [
    "import random\n",
    "from ucb import main, interact, trace\n",
    "from collections import OrderedDict\n",
    "from ants import *"
   ]
  },
  {
   "cell_type": "code",
   "execution_count": 2,
   "id": "8117678e",
   "metadata": {},
   "outputs": [],
   "source": [
    ">>> beehive, layout = Hive(AssaultPlan()), dry_layout\n",
    ">>> dimensions = (1, 9)\n",
    ">>> gamestate = GameState(None, beehive, ant_types(), layout, dimensions)\n",
    ">>> #\n",
    ">>> # Testing LongThrower targets farther one\n",
    ">>> ant = LongThrower()\n",
    ">>> out_of_range = Bee(2)\n",
    ">>> in_range = Bee(2)\n",
    ">>> gamestate.places[\"tunnel_0_0\"].add_insect(ant)\n",
    ">>> gamestate.places[\"tunnel_0_4\"].add_insect(out_of_range)\n",
    ">>> gamestate.places[\"tunnel_0_5\"].add_insect(in_range)"
   ]
  },
  {
   "cell_type": "code",
   "execution_count": 3,
   "id": "7c68cc11",
   "metadata": {},
   "outputs": [
    {
     "data": {
      "text/plain": [
       "2"
      ]
     },
     "execution_count": 3,
     "metadata": {},
     "output_type": "execute_result"
    }
   ],
   "source": [
    "\n",
    ">>> ant.action(gamestate)\n",
    ">>> out_of_range.health"
   ]
  },
  {
   "cell_type": "code",
   "execution_count": 4,
   "id": "1515bda7",
   "metadata": {},
   "outputs": [
    {
     "data": {
      "text/plain": [
       "1"
      ]
     },
     "execution_count": 4,
     "metadata": {},
     "output_type": "execute_result"
    }
   ],
   "source": [
    "in_range.health"
   ]
  },
  {
   "cell_type": "code",
   "execution_count": 5,
   "id": "ecc3d58c",
   "metadata": {},
   "outputs": [
    {
     "data": {
      "text/plain": [
       "1"
      ]
     },
     "execution_count": 5,
     "metadata": {},
     "output_type": "execute_result"
    }
   ],
   "source": [
    "in_range.health"
   ]
  },
  {
   "cell_type": "code",
   "execution_count": 6,
   "id": "edb4ce73",
   "metadata": {},
   "outputs": [
    {
     "data": {
      "text/plain": [
       "1"
      ]
     },
     "execution_count": 6,
     "metadata": {},
     "output_type": "execute_result"
    }
   ],
   "source": [
    ">>> beehive, layout = Hive(AssaultPlan()), dry_layout\n",
    ">>> dimensions = (1, 9)\n",
    ">>> gamestate = GameState(None, beehive, ant_types(), layout, dimensions)\n",
    ">>> #\n",
    ">>> # Testing if max_range is looked up in the instance\n",
    ">>> # and check that the code isnt dependent on the ants name\n",
    ">>> ant = ShortThrower()\n",
    ">>> ant.name = 'short2'\n",
    ">>> ant.max_range = 10   # Buff the ant's range\n",
    ">>> gamestate.places[\"tunnel_0_0\"].add_insect(ant)\n",
    ">>> bee = Bee(2)\n",
    ">>> gamestate.places[\"tunnel_0_6\"].add_insect(bee)\n",
    ">>> ant.action(gamestate)\n",
    "bee.health"
   ]
  },
  {
   "cell_type": "code",
   "execution_count": null,
   "id": "38f2286f",
   "metadata": {},
   "outputs": [],
   "source": []
  }
 ],
 "metadata": {
  "kernelspec": {
   "display_name": "Python 3",
   "language": "python",
   "name": "python3"
  },
  "language_info": {
   "codemirror_mode": {
    "name": "ipython",
    "version": 3
   },
   "file_extension": ".py",
   "mimetype": "text/x-python",
   "name": "python",
   "nbconvert_exporter": "python",
   "pygments_lexer": "ipython3",
   "version": "3.8.11"
  }
 },
 "nbformat": 4,
 "nbformat_minor": 5
}
