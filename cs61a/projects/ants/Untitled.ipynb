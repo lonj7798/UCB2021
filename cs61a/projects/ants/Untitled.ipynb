{
 "cells": [
  {
   "cell_type": "code",
   "execution_count": 53,
   "id": "7ed61683",
   "metadata": {},
   "outputs": [
    {
     "data": {
      "text/plain": [
       "'tunnel_0_4'"
      ]
     },
     "execution_count": 53,
     "metadata": {},
     "output_type": "execute_result"
    }
   ],
   "source": [
    ">>> from ants import *\n",
    ">>> beehive, layout = Hive(AssaultPlan()), dry_layout\n",
    ">>> dimensions = (1, 9)\n",
    ">>> gamestate = GameState(None, beehive, ant_types(), layout, dimensions)\n",
    ">>> # Testing Slow\n",
    ">>> slow = SlowThrower()\n",
    ">>> bee = Bee(3)\n",
    ">>> gamestate.places[\"tunnel_0_0\"].add_insect(slow)\n",
    ">>> gamestate.places[\"tunnel_0_4\"].add_insect(bee)\n",
    ">>> slow.action(gamestate)\n",
    ">>> gamestate.time = 1\n",
    ">>> bee.action(gamestate)\n",
    ">>> bee.place.name # SlowThrower should cause slowness on odd turns"
   ]
  },
  {
   "cell_type": "code",
   "execution_count": 54,
   "id": "d742eb74",
   "metadata": {},
   "outputs": [
    {
     "data": {
      "text/plain": [
       "'tunnel_0_3'"
      ]
     },
     "execution_count": 54,
     "metadata": {},
     "output_type": "execute_result"
    }
   ],
   "source": [
    ">>> gamestate.time += 1\n",
    ">>> bee.action(gamestate)\n",
    ">>> bee.place.name # SlowThrower should cause slowness on odd turns\n"
   ]
  },
  {
   "cell_type": "code",
   "execution_count": 55,
   "id": "18644ebc",
   "metadata": {},
   "outputs": [
    {
     "name": "stdout",
     "output_type": "stream",
     "text": [
      "time: 3\n",
      "time: 4\n",
      "time: 5\n"
     ]
    },
    {
     "data": {
      "text/plain": [
       "'tunnel_0_1'"
      ]
     },
     "execution_count": 55,
     "metadata": {},
     "output_type": "execute_result"
    }
   ],
   "source": [
    "for i in range(3):\n",
    "    gamestate.time += 1\n",
    "    print('time:', gamestate.time)\n",
    "    bee.action(gamestate)\n",
    "bee.place.name"
   ]
  },
  {
   "cell_type": "code",
   "execution_count": 1,
   "id": "e28eef09",
   "metadata": {},
   "outputs": [
    {
     "data": {
      "text/plain": [
       "'tunnel_0_5'"
      ]
     },
     "execution_count": 1,
     "metadata": {},
     "output_type": "execute_result"
    }
   ],
   "source": [
    ">>> from ants import *\n",
    ">>> beehive, layout = Hive(AssaultPlan()), dry_layout\n",
    ">>> dimensions = (1, 9)\n",
    ">>> gamestate = GameState(None, beehive, ant_types(), layout, dimensions)\n",
    ">>> # Testing Scare\n",
    ">>> scary = ScaryThrower()\n",
    ">>> bee = Bee(3)\n",
    ">>> gamestate.places[\"tunnel_0_0\"].add_insect(scary)\n",
    ">>> gamestate.places[\"tunnel_0_4\"].add_insect(bee)\n",
    ">>> scary.action(gamestate)\n",
    ">>> bee.action(gamestate)\n",
    ">>> bee.place.name # ScaryThrower should scare for two turns"
   ]
  },
  {
   "cell_type": "code",
   "execution_count": 2,
   "id": "92be1aa6",
   "metadata": {},
   "outputs": [
    {
     "data": {
      "text/plain": [
       "'tunnel_0_6'"
      ]
     },
     "execution_count": 2,
     "metadata": {},
     "output_type": "execute_result"
    }
   ],
   "source": [
    ">>> bee.action(gamestate)\n",
    ">>> bee.place.name # ScaryThrower should scare for two turns"
   ]
  },
  {
   "cell_type": "code",
   "execution_count": 3,
   "id": "d6ee692a",
   "metadata": {},
   "outputs": [
    {
     "data": {
      "text/plain": [
       "'tunnel_0_5'"
      ]
     },
     "execution_count": 3,
     "metadata": {},
     "output_type": "execute_result"
    }
   ],
   "source": [
    ">>> bee.action(gamestate)\n",
    ">>> bee.place.name"
   ]
  },
  {
   "cell_type": "code",
   "execution_count": 3,
   "id": "db620056",
   "metadata": {},
   "outputs": [
    {
     "data": {
      "text/plain": [
       "'tunnel_0_5'"
      ]
     },
     "execution_count": 3,
     "metadata": {},
     "output_type": "execute_result"
    }
   ],
   "source": [
    ">>> from ants import *\n",
    ">>> beehive, layout = Hive(AssaultPlan()), dry_layout\n",
    ">>> dimensions = (1, 9)\n",
    ">>> gamestate = GameState(None, beehive, ant_types(), layout, dimensions)\n",
    ">>> # Scary stings an ant\n",
    ">>> scary = ScaryThrower()\n",
    ">>> harvester = HarvesterAnt()\n",
    ">>> bee = Bee(3)\n",
    ">>> gamestate.places[\"tunnel_0_0\"].add_insect(scary)\n",
    ">>> gamestate.places[\"tunnel_0_4\"].add_insect(bee)\n",
    ">>> gamestate.places[\"tunnel_0_5\"].add_insect(harvester)\n",
    ">>> scary.action(gamestate)\n",
    ">>> bee.action(gamestate)\n",
    ">>> bee.place.name # ScaryThrower should scare for two turns"
   ]
  },
  {
   "cell_type": "code",
   "execution_count": 4,
   "id": "e9478bec",
   "metadata": {},
   "outputs": [
    {
     "data": {
      "text/plain": [
       "0"
      ]
     },
     "execution_count": 4,
     "metadata": {},
     "output_type": "execute_result"
    }
   ],
   "source": [
    ">>> harvester.health"
   ]
  },
  {
   "cell_type": "code",
   "execution_count": 1,
   "id": "668514c5",
   "metadata": {},
   "outputs": [
    {
     "data": {
      "text/plain": [
       "True"
      ]
     },
     "execution_count": 1,
     "metadata": {},
     "output_type": "execute_result"
    }
   ],
   "source": [
    ">>> from ants import *\n",
    ">>> beehive, layout = Hive(AssaultPlan()), dry_layout\n",
    ">>> dimensions = (1, 9)\n",
    ">>> gamestate = GameState(None, beehive, ant_types(), layout, dimensions)\n",
    ">>> ScaryThrower.implemented"
   ]
  },
  {
   "cell_type": "code",
   "execution_count": 2,
   "id": "e136fbd4",
   "metadata": {},
   "outputs": [
    {
     "data": {
      "text/plain": [
       "True"
      ]
     },
     "execution_count": 2,
     "metadata": {},
     "output_type": "execute_result"
    }
   ],
   "source": [
    ">>> SlowThrower.implemented"
   ]
  },
  {
   "cell_type": "code",
   "execution_count": 5,
   "id": "83bb7457",
   "metadata": {},
   "outputs": [
    {
     "data": {
      "text/plain": [
       "'tunnel_0_5'"
      ]
     },
     "execution_count": 5,
     "metadata": {},
     "output_type": "execute_result"
    }
   ],
   "source": [
    ">>> from ants import *\n",
    ">>> beehive, layout = Hive(AssaultPlan()), dry_layout\n",
    ">>> dimensions = (1, 9)\n",
    ">>> gamestate = GameState(None, beehive, ant_types(), layout, dimensions)\n",
    ">>> # Scary stings an ant\n",
    ">>> scary = ScaryThrower()\n",
    ">>> harvester = HarvesterAnt()\n",
    ">>> bee = Bee(3)\n",
    ">>> gamestate.places[\"tunnel_0_0\"].add_insect(scary)\n",
    ">>> gamestate.places[\"tunnel_0_4\"].add_insect(bee)\n",
    ">>> gamestate.places[\"tunnel_0_5\"].add_insect(harvester)\n",
    ">>> scary.action(gamestate)\n",
    ">>> bee.action(gamestate)\n",
    ">>> bee.place.name # ScaryThrower should scare for two turns"
   ]
  },
  {
   "cell_type": "code",
   "execution_count": 6,
   "id": "0ad4358d",
   "metadata": {},
   "outputs": [
    {
     "data": {
      "text/plain": [
       "0"
      ]
     },
     "execution_count": 6,
     "metadata": {},
     "output_type": "execute_result"
    }
   ],
   "source": [
    "harvester.health"
   ]
  },
  {
   "cell_type": "code",
   "execution_count": 1,
   "id": "b768a40f",
   "metadata": {},
   "outputs": [
    {
     "data": {
      "text/plain": [
       "'tunnel_0_5'"
      ]
     },
     "execution_count": 1,
     "metadata": {},
     "output_type": "execute_result"
    }
   ],
   "source": [
    ">>> from ants import *\n",
    ">>> beehive, layout = Hive(AssaultPlan()), dry_layout\n",
    ">>> dimensions = (1, 9)\n",
    ">>> gamestate = GameState(None, beehive, ant_types(), layout, dimensions)\n",
    ">>> # Scary stings an ant\n",
    ">>> scary = ScaryThrower()\n",
    ">>> harvester = HarvesterAnt()\n",
    ">>> bee = Bee(3)\n",
    ">>> gamestate.places[\"tunnel_0_0\"].add_insect(scary)\n",
    ">>> gamestate.places[\"tunnel_0_4\"].add_insect(bee)\n",
    ">>> gamestate.places[\"tunnel_0_5\"].add_insect(harvester)\n",
    ">>> scary.action(gamestate)\n",
    ">>> bee.action(gamestate)\n",
    ">>> bee.place.name # ScaryThrower should scare for two turns\n",
    "# 'tunnel_0_5'\n"
   ]
  },
  {
   "cell_type": "code",
   "execution_count": 2,
   "id": "362c7e98",
   "metadata": {},
   "outputs": [
    {
     "data": {
      "text/plain": [
       "1"
      ]
     },
     "execution_count": 2,
     "metadata": {},
     "output_type": "execute_result"
    }
   ],
   "source": [
    "\n",
    ">>> harvester.health\n",
    "# 1"
   ]
  },
  {
   "cell_type": "code",
   "execution_count": 3,
   "id": "c1a08ada",
   "metadata": {},
   "outputs": [
    {
     "data": {
      "text/plain": [
       "0"
      ]
     },
     "execution_count": 3,
     "metadata": {},
     "output_type": "execute_result"
    }
   ],
   "source": [
    "\n",
    ">>> bee.action(gamestate)\n",
    ">>> harvester.health\n",
    "# 0"
   ]
  },
  {
   "cell_type": "code",
   "execution_count": 1,
   "id": "eede7edb",
   "metadata": {},
   "outputs": [
    {
     "name": "stdout",
     "output_type": "stream",
     "text": [
      "9\n"
     ]
    }
   ],
   "source": [
    ">>> from ants import *\n",
    ">>> beehive, layout = Hive(AssaultPlan()), dry_layout\n",
    ">>> dimensions = (1, 9)\n",
    ">>> gamestate = GameState(None, beehive, ant_types(), layout, dimensions)\n",
    ">>> # Testing long status stack\n",
    ">>> scary = ScaryThrower()\n",
    ">>> slow = SlowThrower()\n",
    ">>> bee = Bee(3)\n",
    ">>> gamestate.places[\"tunnel_0_0\"].add_insect(scary)\n",
    ">>> gamestate.places[\"tunnel_0_1\"].add_insect(slow)\n",
    ">>> gamestate.places[\"tunnel_0_3\"].add_insect(bee)\n",
    ">>> scary.action(gamestate) # scare bee once\n",
    ">>> gamestate.time = 0\n",
    ">>> bee.action(gamestate) # scared\n",
    ">>> bee.place.name\n",
    "# 'tunnel_0_4'\n",
    ">>> for _ in range(3): # slow bee three times, for a total of 9 turns\n",
    "...    slow.action(gamestate)\n",
    "print(bee.slow_time)"
   ]
  },
  {
   "cell_type": "code",
   "execution_count": 2,
   "id": "ccaca2be",
   "metadata": {},
   "outputs": [
    {
     "data": {
      "text/plain": [
       "'tunnel_0_4'"
      ]
     },
     "execution_count": 2,
     "metadata": {},
     "output_type": "execute_result"
    }
   ],
   "source": [
    "\n",
    ">>> gamestate.time = 1\n",
    ">>> bee.action(gamestate) # scared, but also slowed for 9 more turns, so it doesn't move back yet\n",
    ">>> bee.place.name\n",
    "# 'tunnel_0_4'"
   ]
  },
  {
   "cell_type": "code",
   "execution_count": 3,
   "id": "3d961d27",
   "metadata": {},
   "outputs": [
    {
     "data": {
      "text/plain": [
       "1"
      ]
     },
     "execution_count": 3,
     "metadata": {},
     "output_type": "execute_result"
    }
   ],
   "source": [
    "bee.scared_time"
   ]
  },
  {
   "cell_type": "code",
   "execution_count": 4,
   "id": "9dcdace5",
   "metadata": {},
   "outputs": [
    {
     "data": {
      "text/plain": [
       "8"
      ]
     },
     "execution_count": 4,
     "metadata": {},
     "output_type": "execute_result"
    }
   ],
   "source": [
    "bee.slow_time"
   ]
  },
  {
   "cell_type": "code",
   "execution_count": 5,
   "id": "97c94329",
   "metadata": {},
   "outputs": [
    {
     "data": {
      "text/plain": [
       "'tunnel_0_5'"
      ]
     },
     "execution_count": 5,
     "metadata": {},
     "output_type": "execute_result"
    }
   ],
   "source": [
    "\n",
    ">>> gamestate.time = 2\n",
    ">>> bee.action(gamestate) # after this, no longer scared, but still slowed for 8 turns\n",
    ">>> bee.place.name #  it's an even turn, so it can be scared and move backwards\n",
    "# should be 5"
   ]
  },
  {
   "cell_type": "code",
   "execution_count": 6,
   "id": "afad8b7c",
   "metadata": {
    "scrolled": true
   },
   "outputs": [
    {
     "data": {
      "text/plain": [
       "0"
      ]
     },
     "execution_count": 6,
     "metadata": {},
     "output_type": "execute_result"
    }
   ],
   "source": [
    "bee.scared_time"
   ]
  },
  {
   "cell_type": "code",
   "execution_count": 7,
   "id": "53b54b4f",
   "metadata": {},
   "outputs": [
    {
     "data": {
      "text/plain": [
       "0"
      ]
     },
     "execution_count": 7,
     "metadata": {},
     "output_type": "execute_result"
    }
   ],
   "source": [
    "bee.slow_time"
   ]
  },
  {
   "cell_type": "code",
   "execution_count": 8,
   "id": "4b04990a",
   "metadata": {},
   "outputs": [
    {
     "data": {
      "text/plain": [
       "'tunnel_0_4'"
      ]
     },
     "execution_count": 8,
     "metadata": {},
     "output_type": "execute_result"
    }
   ],
   "source": [
    ">>> gamestate.time = 3\n",
    ">>> bee.action(gamestate) # neither scared nor slowed\n",
    ">>> bee.place.name\n",
    "#'tunnel_0_5'\n"
   ]
  },
  {
   "cell_type": "code",
   "execution_count": 9,
   "id": "5df1244c",
   "metadata": {},
   "outputs": [
    {
     "data": {
      "text/plain": [
       "6"
      ]
     },
     "execution_count": 9,
     "metadata": {},
     "output_type": "execute_result"
    }
   ],
   "source": [
    "bee.slow_time"
   ]
  },
  {
   "cell_type": "code",
   "execution_count": null,
   "id": "96c0ae50",
   "metadata": {},
   "outputs": [],
   "source": []
  }
 ],
 "metadata": {
  "kernelspec": {
   "display_name": "Python 3 (ipykernel)",
   "language": "python",
   "name": "python3"
  },
  "language_info": {
   "codemirror_mode": {
    "name": "ipython",
    "version": 3
   },
   "file_extension": ".py",
   "mimetype": "text/x-python",
   "name": "python",
   "nbconvert_exporter": "python",
   "pygments_lexer": "ipython3",
   "version": "3.8.11"
  }
 },
 "nbformat": 4,
 "nbformat_minor": 5
}
