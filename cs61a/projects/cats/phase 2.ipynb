{
 "cells": [
  {
   "cell_type": "code",
   "execution_count": 1,
   "id": "fcde306d",
   "metadata": {},
   "outputs": [],
   "source": [
    "from utils import lower, split, remove_punctuation, lines_from_file\n",
    "from ucb import main, interact, trace\n",
    "from datetime import datetime"
   ]
  },
  {
   "cell_type": "code",
   "execution_count": 1,
   "id": "4cd6ef9b",
   "metadata": {},
   "outputs": [],
   "source": [
    "def choose(paragraphs, select, k):\n",
    "    \"\"\"Return the Kth paragraph from PARAGRAPHS for which SELECT called on the\n",
    "    paragraph returns True. If there are fewer than K such paragraphs, return\n",
    "    the empty string.\n",
    "\n",
    "    Arguments:\n",
    "        paragraphs: a list of strings\n",
    "        select: a function that returns True for paragraphs that can be selected\n",
    "        k: an integer\n",
    "\n",
    "    >>> ps = ['hi', 'how are you', 'fine']\n",
    "    >>> s = lambda p: len(p) <= 4\n",
    "    >>> choose(ps, s, 0)\n",
    "    'hi'\n",
    "    >>> choose(ps, s, 1)\n",
    "    'fine'\n",
    "    >>> choose(ps, s, 2)\n",
    "    ''\n",
    "    \"\"\"\n",
    "    # BEGIN PROBLEM 1\n",
    "    temp = []\n",
    "    \n",
    "    for paragraph in paragraphs:\n",
    "        if select(paragraph):\n",
    "            temp.append(paragraph)\n",
    "    \n",
    "    if k >= len(temp):\n",
    "        return \"\"\n",
    "    \n",
    "    return temp[k]\n",
    "\n",
    "    # END PROBLEM 1\n",
    "    \n",
    "def about(topic):\n",
    "    \"\"\"Return a select function that returns whether\n",
    "    a paragraph contains one of the words in TOPIC.\n",
    "\n",
    "    Arguments:\n",
    "        topic: a list of words related to a subject\n",
    "\n",
    "    >>> about_dogs = about(['dog', 'dogs', 'pup', 'puppy'])\n",
    "    >>> choose(['Cute Dog!', 'That is a cat.', 'Nice pup!'], about_dogs, 0)\n",
    "    'Cute Dog!'\n",
    "    >>> choose(['Cute Dog!', 'That is a cat.', 'Nice pup.'], about_dogs, 1)\n",
    "    'Nice pup.'\n",
    "    \"\"\"\n",
    "    assert all([lower(x) == x for x in topic]), 'topics should be lowercase.'\n",
    "    # BEGIN PROBLEM 2\n",
    "    \n",
    "    def compare(string):\n",
    "        # string = string.split(' ')\n",
    "        string = split(string)\n",
    "        for word in string:\n",
    "            for compare in topic:\n",
    "                temp = ''.join(x for x in word if x.isalnum())  # remove special characters\n",
    "                if temp.lower() == compare:\n",
    "                    return True\n",
    "        return False\n",
    "            \n",
    "    \n",
    "    return compare\n",
    "    # END PROBLEM 2\n",
    "    \n",
    "def accuracy(typed, reference):\n",
    "    \"\"\"Return the accuracy (percentage of words typed correctly) of TYPED\n",
    "    when compared to the prefix of REFERENCE that was typed.\n",
    "\n",
    "    Arguments:\n",
    "        typed: a string that may contain typos\n",
    "        reference: a string without errors\n",
    "\n",
    "    >>> accuracy('Cute Dog!', 'Cute Dog.')\n",
    "    50.0\n",
    "    >>> accuracy('A Cute Dog!', 'Cute Dog.')\n",
    "    0.0\n",
    "    >>> accuracy('cute Dog.', 'Cute Dog.')\n",
    "    50.0\n",
    "    >>> accuracy('Cute Dog. I say!', 'Cute Dog.')\n",
    "    50.0\n",
    "    >>> accuracy('Cute', 'Cute Dog.')\n",
    "    100.0\n",
    "    >>> accuracy('', 'Cute Dog.')\n",
    "    0.0\n",
    "    >>> accuracy('', '')\n",
    "    100.0\n",
    "    \"\"\"\n",
    "    typed_words = split(typed)\n",
    "    reference_words = split(reference)\n",
    "    # BEGIN PROBLEM 3\n",
    "    \n",
    "    typed_len = len(typed_words)\n",
    "    reference_len = len(reference_words)\n",
    "    error_count = 0\n",
    "    \n",
    "    if typed_len == reference_len:\n",
    "        if not typed_words: # if both of strings are empty\n",
    "            return 100.0\n",
    "        \n",
    "        for i in range(typed_len):\n",
    "            if typed_words[i] != reference_words[i]:\n",
    "                error_count += 1\n",
    "                \n",
    "        if error_count == 0:\n",
    "            return 100.0\n",
    "        \n",
    "        return 100 - error_count / typed_len * 100\n",
    "\n",
    "    elif typed_len > reference_len:\n",
    "        if not reference_len:\n",
    "            return 0.0\n",
    "        \n",
    "        for i in range(reference_len):\n",
    "            if typed_words[i] != reference_words[i]:\n",
    "                error_count += 1\n",
    "\n",
    "        return 100 - (typed_len - reference_len + error_count) / typed_len * 100\n",
    "    \n",
    "    else:\n",
    "        if not typed_len:\n",
    "            return 0.0\n",
    "        \n",
    "        for i in range(typed_len):\n",
    "            if typed_words[i] != reference_words[i]:\n",
    "                error_count += 1\n",
    "                \n",
    "        return (typed_len - error_count) / typed_len * 100\n",
    "    # END PROBLEM 3\n",
    "\n",
    "def wpm(typed, elapsed):\n",
    "    \"\"\"Return the words-per-minute (WPM) of the TYPED string.\n",
    "\n",
    "    Arguments:\n",
    "        typed: an entered string\n",
    "        elapsed: an amount of time in seconds\n",
    "\n",
    "    >>> wpm('hello friend hello buddy hello', 15) -> num of space:4, total characters: 30, time:15/60\n",
    "    24.0\n",
    "    >>> wpm('0123456789',60)\n",
    "    2.0\n",
    "    \"\"\"\n",
    "    assert elapsed > 0, 'Elapsed time must be positive'\n",
    "    # BEGIN PROBLEM 4\n",
    "    \n",
    "    return len(typed) * 12 / elapsed # len(typed) / 5 / (elapsed / 60)\n",
    "    \n",
    "    # END PROBLEM 4"
   ]
  },
  {
   "cell_type": "code",
   "execution_count": 144,
   "id": "5abd9d4e",
   "metadata": {},
   "outputs": [],
   "source": [
    "def autocorrect(typed_word, valid_words, diff_function, limit):\n",
    "    \"\"\"Returns the element of VALID_WORDS that has the smallest difference\n",
    "    from TYPED_WORD. Instead returns TYPED_WORD if that difference is greater\n",
    "    than LIMIT.\n",
    "\n",
    "    Arguments:\n",
    "        typed_word: a string representing a word that may contain typos\n",
    "        valid_words: a list of strings representing valid words\n",
    "        diff_function: a function quantifying the difference between two words\n",
    "        limit: a number\n",
    "\n",
    "    >>> ten_diff = lambda w1, w2, limit: 10 # Always returns 10\n",
    "    >>> autocorrect(\"hwllo\", [\"butter\", \"hello\", \"potato\"], ten_diff, 20)\n",
    "    'butter'\n",
    "    >>> first_diff = lambda w1, w2, limit: (1 if w1[0] != w2[0] else 0) # Checks for matching first char\n",
    "    >>> autocorrect(\"tosting\", [\"testing\", \"asking\", \"fasting\"], first_diff, 10)\n",
    "    'testing'\n",
    "    \"\"\"\n",
    "    # BEGIN PROBLEM 5\n",
    "    \n",
    "    diff = []\n",
    "    for word in valid_words:\n",
    "        if word == typed_word:\n",
    "            return word\n",
    "        diff.append(diff_function(typed_word, word, limit))\n",
    "    \n",
    "    if min(diff) <= limit:\n",
    "        return valid_words[diff.index(min(diff))]\n",
    "    else:\n",
    "        return typed_word\n",
    "    \n",
    "    \n",
    "    \"\"\" elif round(limit) == 0:\n",
    "        return typed_word\n",
    "    \n",
    "    elif limit >= len(valid_words):\n",
    "        return typed_word\n",
    "    \n",
    "    else:\n",
    "        return typed_word\"\"\"\n",
    "    \n",
    "    \n",
    "    \n",
    "    # END PROBLEM 5"
   ]
  },
  {
   "cell_type": "code",
   "execution_count": null,
   "id": "7ec8d1e2",
   "metadata": {},
   "outputs": [],
   "source": []
  },
  {
   "cell_type": "code",
   "execution_count": 127,
   "id": "1c54bd1f",
   "metadata": {},
   "outputs": [
    {
     "data": {
      "text/plain": [
       "'butter'"
      ]
     },
     "execution_count": 127,
     "metadata": {},
     "output_type": "execute_result"
    }
   ],
   "source": [
    "ten_diff = lambda w1, w2, limit: 10\n",
    "autocorrect(\"hwllo\", [\"butter\", \"hello\", \"potato\"], ten_diff, 20) # butter"
   ]
  },
  {
   "cell_type": "code",
   "execution_count": 128,
   "id": "6bd7a928",
   "metadata": {},
   "outputs": [
    {
     "data": {
      "text/plain": [
       "'testing'"
      ]
     },
     "execution_count": 128,
     "metadata": {},
     "output_type": "execute_result"
    }
   ],
   "source": [
    "first_diff = lambda w1, w2, limit: (1 if w1[0] != w2[0] else 0)\n",
    "autocorrect(\"tosting\", [\"testing\", \"asking\", \"fasting\"], first_diff, 10) # testing"
   ]
  },
  {
   "cell_type": "code",
   "execution_count": 129,
   "id": "af022f32",
   "metadata": {},
   "outputs": [
    {
     "data": {
      "text/plain": [
       "'cult'"
      ]
     },
     "execution_count": 129,
     "metadata": {},
     "output_type": "execute_result"
    }
   ],
   "source": [
    "abs_diff = lambda w1, w2, limit: abs(len(w2) - len(w1))\n",
    "autocorrect(\"cul\", [\"culture\", \"cult\", \"cultivate\"], abs_diff, 10) # cult"
   ]
  },
  {
   "cell_type": "code",
   "execution_count": 130,
   "id": "f59731a0",
   "metadata": {},
   "outputs": [
    {
     "data": {
      "text/plain": [
       "'cul'"
      ]
     },
     "execution_count": 130,
     "metadata": {},
     "output_type": "execute_result"
    }
   ],
   "source": [
    "autocorrect(\"cul\", [\"culture\", \"cult\", \"cultivate\"], abs_diff, 0) # cul"
   ]
  },
  {
   "cell_type": "code",
   "execution_count": 131,
   "id": "e0fbefa7",
   "metadata": {},
   "outputs": [
    {
     "data": {
      "text/plain": [
       "'car'"
      ]
     },
     "execution_count": 131,
     "metadata": {},
     "output_type": "execute_result"
    }
   ],
   "source": [
    "autocorrect(\"wor\", [\"worry\", \"car\", \"part\"], abs_diff, 10)"
   ]
  },
  {
   "cell_type": "code",
   "execution_count": 132,
   "id": "4ad10f92",
   "metadata": {},
   "outputs": [
    {
     "data": {
      "text/plain": [
       "'word'"
      ]
     },
     "execution_count": 132,
     "metadata": {},
     "output_type": "execute_result"
    }
   ],
   "source": [
    "first_diff = lambda w1, w2, limit: 1 if w1[0] != w2[0] else 0\n",
    "autocorrect(\"wrod\", [\"word\", \"rod\"], first_diff, 1) # word"
   ]
  },
  {
   "cell_type": "code",
   "execution_count": 133,
   "id": "89af5f56",
   "metadata": {},
   "outputs": [
    {
     "data": {
      "text/plain": [
       "'inside'"
      ]
     },
     "execution_count": 133,
     "metadata": {},
     "output_type": "execute_result"
    }
   ],
   "source": [
    "first_diff = lambda w1, w2, limit: 1 if w1[0] != w2[0] else 0\n",
    "autocorrect(\"inside\", [\"idea\", \"inside\"], first_diff, 0.5) # inside /// how limit works?\n",
    "\n",
    "# both of words show: 0, 0"
   ]
  },
  {
   "cell_type": "code",
   "execution_count": 134,
   "id": "686a5bcc",
   "metadata": {},
   "outputs": [
    {
     "data": {
      "text/plain": [
       "'idea'"
      ]
     },
     "execution_count": 134,
     "metadata": {},
     "output_type": "execute_result"
    }
   ],
   "source": [
    "autocorrect(\"inside\", [\"idea\", \"insider\"], first_diff, 0.5) # idea"
   ]
  },
  {
   "cell_type": "code",
   "execution_count": 135,
   "id": "0e82636e",
   "metadata": {
    "scrolled": true
   },
   "outputs": [
    {
     "data": {
      "text/plain": [
       "'outside'"
      ]
     },
     "execution_count": 135,
     "metadata": {},
     "output_type": "execute_result"
    }
   ],
   "source": [
    "autocorrect(\"outside\", [\"idea\", \"insider\"], first_diff, 0.5) # outside"
   ]
  },
  {
   "cell_type": "code",
   "execution_count": null,
   "id": "414bde1a",
   "metadata": {},
   "outputs": [],
   "source": []
  },
  {
   "cell_type": "code",
   "execution_count": 122,
   "id": "3b9de493",
   "metadata": {},
   "outputs": [
    {
     "data": {
      "text/plain": [
       "'idea'"
      ]
     },
     "execution_count": 122,
     "metadata": {},
     "output_type": "execute_result"
    }
   ],
   "source": [
    "autocorrect(\"inside\", [\"idea\", \"inside\"], first_diff, 0.5) # inside"
   ]
  },
  {
   "cell_type": "code",
   "execution_count": 123,
   "id": "b149b9c5",
   "metadata": {},
   "outputs": [
    {
     "data": {
      "text/plain": [
       "'idea'"
      ]
     },
     "execution_count": 123,
     "metadata": {},
     "output_type": "execute_result"
    }
   ],
   "source": [
    "\n",
    "autocorrect(\"inside\", [\"idea\", \"insider\"], first_diff, 0.5) # idea"
   ]
  },
  {
   "cell_type": "code",
   "execution_count": 142,
   "id": "50a60779",
   "metadata": {},
   "outputs": [
    {
     "data": {
      "text/plain": [
       "'foelike'"
      ]
     },
     "execution_count": 142,
     "metadata": {},
     "output_type": "execute_result"
    }
   ],
   "source": [
    "autocorrect('foelike', ['nonpublication'], lambda x, y, lim: min(lim + 1, abs(len(x) - len(y))), 1)"
   ]
  },
  {
   "cell_type": "code",
   "execution_count": 145,
   "id": "ffc33eb6",
   "metadata": {},
   "outputs": [
    {
     "name": "stdout",
     "output_type": "stream",
     "text": [
      "[2, 2, 2, 2]\n"
     ]
    },
    {
     "data": {
      "text/plain": [
       "'excecate'"
      ]
     },
     "execution_count": 145,
     "metadata": {},
     "output_type": "execute_result"
    }
   ],
   "source": [
    "autocorrect('panichthyophagous', ['involucriform', 'excecate', 'patrist', 'rhamnohexite'],\n",
    "            lambda x, y, lim: min(lim + 1, abs(len(x) - len(y))), 1)\n",
    "# 'panichthyophagous'\n"
   ]
  },
  {
   "cell_type": "code",
   "execution_count": 199,
   "id": "5a37c876",
   "metadata": {},
   "outputs": [],
   "source": [
    "def feline_flips(start, goal, limit):\n",
    "    \"\"\"A diff function for autocorrect that determines how many letters\n",
    "    in START need to be substituted to create GOAL, then adds the difference in\n",
    "    their lengths and returns the result.\n",
    "\n",
    "    Arguments:\n",
    "        start: a starting word\n",
    "        goal: a string representing a desired goal word\n",
    "        limit: a number representing an upper bound on the number of chars that must change\n",
    "\n",
    "    >>> big_limit = 10\n",
    "    >>> feline_flips(\"nice\", \"rice\", big_limit)    # Substitute: n -> r\n",
    "    1\n",
    "    >>> feline_flips(\"range\", \"rungs\", big_limit)  # Substitute: a -> u, e -> s\n",
    "    2\n",
    "    >>> feline_flips(\"pill\", \"pillage\", big_limit) # Don't substitute anything, length difference of 3.\n",
    "    3\n",
    "    >>> feline_flips(\"roses\", \"arose\", big_limit)  # Substitute: r -> a, o -> r, s -> o, e -> s, s -> e\n",
    "    5\n",
    "    >>> feline_flips(\"rose\", \"hello\", big_limit)   # Substitute: r->h, o->e, s->l, e->l, length difference of 1.\n",
    "    5\n",
    "    \"\"\"\n",
    "    # BEGIN PROBLEM 6\n",
    "    \n",
    "    \n",
    "    ########################################################## use recursion !!!!!\n",
    "    i = 0\n",
    "    len_start = len(start)\n",
    "    len_goal = len(goal)\n",
    "    \n",
    "    def compare(i):\n",
    "        if len_start == i or len_goal == i:\n",
    "            return 0\n",
    "        \n",
    "        if start[i] != goal[i]:\n",
    "            i += 1\n",
    "            return 1 + compare(i)\n",
    "        \n",
    "        i += 1\n",
    "        return compare(i)\n",
    "    \n",
    "    #for i in range(min(len_start, len_goal)):\n",
    "    #    if start[i] != goal[i]:\n",
    "    #        error_count += 1\n",
    "    \n",
    "    error_count = compare(i)\n",
    "    \n",
    "    total_error = error_count + abs(len_start - len_goal)\n",
    "    \n",
    "    if total_error <= limit:\n",
    "        return total_error\n",
    "    \n",
    "    return limit + 1\n",
    "\n",
    "\n",
    "    # END PROBLEM 6"
   ]
  },
  {
   "cell_type": "code",
   "execution_count": 223,
   "id": "32c1c0f8",
   "metadata": {},
   "outputs": [],
   "source": [
    "def feline_flips(start, goal, limit):\n",
    "    \"\"\"A diff function for autocorrect that determines how many letters\n",
    "    in START need to be substituted to create GOAL, then adds the difference in\n",
    "    their lengths and returns the result.\n",
    "\n",
    "    Arguments:\n",
    "        start: a starting word\n",
    "        goal: a string representing a desired goal word\n",
    "        limit: a number representing an upper bound on the number of chars that must change\n",
    "\n",
    "    >>> big_limit = 10\n",
    "    >>> feline_flips(\"nice\", \"rice\", big_limit)    # Substitute: n -> r\n",
    "    1\n",
    "    >>> feline_flips(\"range\", \"rungs\", big_limit)  # Substitute: a -> u, e -> s\n",
    "    2\n",
    "    >>> feline_flips(\"pill\", \"pillage\", big_limit) # Don't substitute anything, length difference of 3.\n",
    "    3\n",
    "    >>> feline_flips(\"roses\", \"arose\", big_limit)  # Substitute: r -> a, o -> r, s -> o, e -> s, s -> e\n",
    "    5\n",
    "    >>> feline_flips(\"rose\", \"hello\", big_limit)   # Substitute: r->h, o->e, s->l, e->l, length difference of 1.\n",
    "    5\n",
    "    \"\"\"\n",
    "    # BEGIN PROBLEM 6\n",
    "    \n",
    "    if start == goal:\n",
    "        return 0\n",
    "    \n",
    "    if limit < 0:\n",
    "        return 9999\n",
    "    \n",
    "    elif not start or not goal:\n",
    "        return abs(len(start) - len(goal)) # length difference\n",
    "\n",
    "    elif start[0] != goal[0]:\n",
    "        return feline_flips(start[1:], goal[1:], limit - 1) + 1 # Substitute\n",
    "   \n",
    "    return feline_flips(start[1:], goal[1:], limit)"
   ]
  },
  {
   "cell_type": "code",
   "execution_count": 224,
   "id": "17b03872",
   "metadata": {},
   "outputs": [
    {
     "data": {
      "text/plain": [
       "False"
      ]
     },
     "execution_count": 224,
     "metadata": {},
     "output_type": "execute_result"
    }
   ],
   "source": [
    "feline_flips(\"awful\", \"awesome\", 5) > 5 # False\n",
    "# if limit == error_count, return error_cout or limit"
   ]
  },
  {
   "cell_type": "code",
   "execution_count": 154,
   "id": "1a0639c6",
   "metadata": {},
   "outputs": [
    {
     "data": {
      "text/plain": [
       "5"
      ]
     },
     "execution_count": 154,
     "metadata": {},
     "output_type": "execute_result"
    }
   ],
   "source": [
    "limit = 4\n",
    "feline_flips(\"roses\", \"arose\", limit)"
   ]
  },
  {
   "cell_type": "code",
   "execution_count": 155,
   "id": "6787611d",
   "metadata": {},
   "outputs": [
    {
     "data": {
      "text/plain": [
       "True"
      ]
     },
     "execution_count": 155,
     "metadata": {},
     "output_type": "execute_result"
    }
   ],
   "source": [
    "feline_flips(\"rosesabcdefghijklm\", \"arosenopqrstuvwxyz\", limit) > limit"
   ]
  },
  {
   "cell_type": "code",
   "execution_count": 156,
   "id": "70bd7ad4",
   "metadata": {},
   "outputs": [
    {
     "data": {
      "text/plain": [
       "False"
      ]
     },
     "execution_count": 156,
     "metadata": {},
     "output_type": "execute_result"
    }
   ],
   "source": [
    "feline_flips(\"awful\", \"awesome\", 5) > 5\n"
   ]
  },
  {
   "cell_type": "code",
   "execution_count": 157,
   "id": "6f3a7961",
   "metadata": {
    "scrolled": true
   },
   "outputs": [
    {
     "data": {
      "text/plain": [
       "False"
      ]
     },
     "execution_count": 157,
     "metadata": {},
     "output_type": "execute_result"
    }
   ],
   "source": [
    "feline_flips(\"awful\", \"awesome\", 5) > 5"
   ]
  },
  {
   "cell_type": "code",
   "execution_count": 158,
   "id": "f1829a81",
   "metadata": {},
   "outputs": [
    {
     "data": {
      "text/plain": [
       "True"
      ]
     },
     "execution_count": 158,
     "metadata": {},
     "output_type": "execute_result"
    }
   ],
   "source": [
    "feline_flips(\"rosesabcdefghijklm\", \"arosenopqrstuvwxyz\", limit) > limit"
   ]
  },
  {
   "cell_type": "code",
   "execution_count": 159,
   "id": "37120507",
   "metadata": {},
   "outputs": [
    {
     "data": {
      "text/plain": [
       "10003"
      ]
     },
     "execution_count": 159,
     "metadata": {},
     "output_type": "execute_result"
    }
   ],
   "source": [
    "feline_flips(\"someaweqwertyuio\", \"awesomeasdfghjkl\", 3)"
   ]
  },
  {
   "cell_type": "code",
   "execution_count": 160,
   "id": "d08c75c4",
   "metadata": {
    "scrolled": true
   },
   "outputs": [
    {
     "data": {
      "text/plain": [
       "False"
      ]
     },
     "execution_count": 160,
     "metadata": {},
     "output_type": "execute_result"
    }
   ],
   "source": [
    "feline_flips(\"someaweqwertyuio\", \"awesomeasdfghjkl\", 3) < 10"
   ]
  },
  {
   "cell_type": "code",
   "execution_count": 161,
   "id": "c9de9881",
   "metadata": {},
   "outputs": [
    {
     "data": {
      "text/plain": [
       "True"
      ]
     },
     "execution_count": 161,
     "metadata": {},
     "output_type": "execute_result"
    }
   ],
   "source": [
    "feline_flips(\"awful\", \"awesome\", 3) > 3"
   ]
  },
  {
   "cell_type": "code",
   "execution_count": 162,
   "id": "135df776",
   "metadata": {
    "scrolled": false
   },
   "outputs": [
    {
     "data": {
      "text/plain": [
       "False"
      ]
     },
     "execution_count": 162,
     "metadata": {},
     "output_type": "execute_result"
    }
   ],
   "source": [
    "from cats import feline_flips, autocorrect\n",
    "import tests.construct_check as test\n",
    "import trace, io\n",
    "from contextlib import redirect_stdout\n",
    "\n",
    "with io.StringIO() as buf, redirect_stdout(buf):\n",
    "    trace.Trace(trace=True).runfunc(feline_flips, \"someaweqwertyuio\", \"awesomeasdfghjkl\", 3)\n",
    "    output = buf.getvalue()\n",
    "    \n",
    "    \n",
    "len([line for line in output.split('\\n') if 'a' in line]) < 10"
   ]
  },
  {
   "cell_type": "code",
   "execution_count": 217,
   "id": "2399f0e5",
   "metadata": {},
   "outputs": [
    {
     "data": {
      "text/plain": [
       "0"
      ]
     },
     "execution_count": 217,
     "metadata": {},
     "output_type": "execute_result"
    }
   ],
   "source": [
    "sum([feline_flips('silly', 'silly', k) > k for k in range(5)])"
   ]
  },
  {
   "cell_type": "code",
   "execution_count": 193,
   "id": "6fee0437",
   "metadata": {},
   "outputs": [
    {
     "name": "stdout",
     "output_type": "stream",
     "text": [
      "0 9999\n",
      "1 9999\n",
      "o\n",
      "2 10000\n",
      "o\n",
      "3 10000\n",
      "o\n",
      "4 2\n"
     ]
    }
   ],
   "source": [
    "for k in range(5):\n",
    "    print(k, feline_flips('scold', 'scql', k))"
   ]
  },
  {
   "cell_type": "code",
   "execution_count": 201,
   "id": "7f9f5147",
   "metadata": {},
   "outputs": [
    {
     "name": "stdout",
     "output_type": "stream",
     "text": [
      "o\n"
     ]
    },
    {
     "data": {
      "text/plain": [
       "10000"
      ]
     },
     "execution_count": 201,
     "metadata": {},
     "output_type": "execute_result"
    }
   ],
   "source": [
    "feline_flips('scold', 'scql', 2)"
   ]
  },
  {
   "cell_type": "code",
   "execution_count": 167,
   "id": "e13ed215",
   "metadata": {},
   "outputs": [
    {
     "data": {
      "text/plain": [
       "0"
      ]
     },
     "execution_count": 167,
     "metadata": {},
     "output_type": "execute_result"
    }
   ],
   "source": [
    "feline_flips('scold', 'scql', 0)"
   ]
  },
  {
   "cell_type": "code",
   "execution_count": 216,
   "id": "d27e18c6",
   "metadata": {},
   "outputs": [
    {
     "name": "stdout",
     "output_type": "stream",
     "text": [
      "s 4\n",
      "c 3\n",
      "o 2\n",
      "change: o\n",
      "l 1\n",
      "d 0\n",
      "d \n"
     ]
    },
    {
     "data": {
      "text/plain": [
       "2"
      ]
     },
     "execution_count": 216,
     "metadata": {},
     "output_type": "execute_result"
    }
   ],
   "source": [
    "feline_flips('scold', 'scql', 4)"
   ]
  },
  {
   "cell_type": "code",
   "execution_count": 238,
   "id": "9c35b261",
   "metadata": {},
   "outputs": [
    {
     "data": {
      "text/plain": [
       "4"
      ]
     },
     "execution_count": 238,
     "metadata": {},
     "output_type": "execute_result"
    }
   ],
   "source": [
    "sum([feline_flips('scql', 'scold', k) > k for k in range(5)])"
   ]
  },
  {
   "cell_type": "code",
   "execution_count": 234,
   "id": "6457134f",
   "metadata": {},
   "outputs": [
    {
     "data": {
      "text/plain": [
       "5"
      ]
     },
     "execution_count": 234,
     "metadata": {},
     "output_type": "execute_result"
    }
   ],
   "source": [
    "feline_flips(\"awful\", \"awesome\", 7)"
   ]
  },
  {
   "cell_type": "code",
   "execution_count": null,
   "id": "6648e574",
   "metadata": {},
   "outputs": [],
   "source": []
  },
  {
   "cell_type": "code",
   "execution_count": 258,
   "id": "c4e28f89",
   "metadata": {},
   "outputs": [],
   "source": [
    "\n",
    "def minimum_mewtations(start, goal, limit):\n",
    "    \"\"\"A diff function that computes the edit distance from START to GOAL.\n",
    "    This function takes in a string START, a string GOAL, and a number LIMIT.\n",
    "\n",
    "    Arguments:\n",
    "        start: a starting word\n",
    "        goal: a goal word\n",
    "        limit: a number representing an upper bound on the number of edits\n",
    "\n",
    "    >>> big_limit = 10\n",
    "    >>> minimum_mewtations(\"cats\", \"scat\", big_limit)       # cats -> scats -> scat\n",
    "    2\n",
    "    >>> minimum_mewtations(\"purng\", \"purring\", big_limit)   # purng -> purrng -> purring\n",
    "    2\n",
    "    >>> minimum_mewtations(\"ckiteus\", \"kittens\", big_limit) # ckiteus -> kiteus -> kitteus -> kittens\n",
    "    3\n",
    "    \"\"\"\n",
    "    \n",
    "    if start == goal:\n",
    "        return 0\n",
    "    \n",
    "    if len(start) < len(goal):\n",
    "        if start[0] != goal[0]:\n",
    "            print('add:', start)\n",
    "            start = goal[0] + start\n",
    "            return minimum_mewtations(start[1:], goal[1:], limit - 1) + 1\n",
    "        return minimum_mewtations(start[1:], goal[1:], limit - 1)\n",
    "    \n",
    "    elif len(start) == len(goal):\n",
    "        if start[0] != goal[0]:\n",
    "            print('change:', start)\n",
    "            temp = start.replace(start[0], goal[0], 1)\n",
    "            return minimum_mewtations(temp[1:], goal[1:], limit - 1) + 1\n",
    "        return minimum_mewtations(start[1:], goal[1:], limit - 1)\n",
    "    \n",
    "    elif len(start) > len(goal):\n",
    "        if start[0] != goal[0]:\n",
    "            print('pop:', start)\n",
    "            return minimum_mewtations(start[1:], goal[0:], limit - 1) + 1\n",
    "        return minimum_mewtations(start[1:], goal[1:], limit - 1)\n",
    "        \n",
    "        \n",
    "    \n",
    "    else:\n",
    "        add = ...  # Fill in these lines\n",
    "        remove = ...\n",
    "        substitute = ...\n",
    "        # BEGIN\n",
    "        \"*** YOUR CODE HERE ***\"\n",
    "        # END\n",
    "    "
   ]
  },
  {
   "cell_type": "code",
   "execution_count": 259,
   "id": "cab64174",
   "metadata": {},
   "outputs": [
    {
     "name": "stdout",
     "output_type": "stream",
     "text": [
      "change: cats\n",
      "change: ats\n",
      "change: ts\n",
      "change: s\n"
     ]
    },
    {
     "data": {
      "text/plain": [
       "4"
      ]
     },
     "execution_count": 259,
     "metadata": {},
     "output_type": "execute_result"
    }
   ],
   "source": [
    "big_limit = 10\n",
    "minimum_mewtations(\"cats\", \"scat\", big_limit)"
   ]
  },
  {
   "cell_type": "code",
   "execution_count": 260,
   "id": "05ea9e71",
   "metadata": {},
   "outputs": [
    {
     "name": "stdout",
     "output_type": "stream",
     "text": [
      "add: ng\n",
      "add: ng\n"
     ]
    },
    {
     "data": {
      "text/plain": [
       "2"
      ]
     },
     "execution_count": 260,
     "metadata": {},
     "output_type": "execute_result"
    }
   ],
   "source": [
    "minimum_mewtations(\"purng\", \"purring\", big_limit)"
   ]
  },
  {
   "cell_type": "code",
   "execution_count": 257,
   "id": "b15b8678",
   "metadata": {},
   "outputs": [
    {
     "data": {
      "text/plain": [
       "4"
      ]
     },
     "execution_count": 257,
     "metadata": {},
     "output_type": "execute_result"
    }
   ],
   "source": [
    "minimum_mewtations(\"ckiteus\", \"kittens\", big_limit)"
   ]
  },
  {
   "cell_type": "code",
   "execution_count": 244,
   "id": "cb4479b1",
   "metadata": {},
   "outputs": [],
   "source": [
    "a = 'abc'"
   ]
  },
  {
   "cell_type": "code",
   "execution_count": 247,
   "id": "5e0ab6d8",
   "metadata": {},
   "outputs": [
    {
     "ename": "TypeError",
     "evalue": "'str' object does not support item assignment",
     "output_type": "error",
     "traceback": [
      "\u001b[0;31m---------------------------------------------------------------------------\u001b[0m",
      "\u001b[0;31mTypeError\u001b[0m                                 Traceback (most recent call last)",
      "\u001b[0;32m<ipython-input-247-656fd04b67cb>\u001b[0m in \u001b[0;36m<module>\u001b[0;34m\u001b[0m\n\u001b[0;32m----> 1\u001b[0;31m \u001b[0ma\u001b[0m\u001b[0;34m[\u001b[0m\u001b[0;36m0\u001b[0m\u001b[0;34m]\u001b[0m \u001b[0;34m=\u001b[0m \u001b[0;34m'b'\u001b[0m\u001b[0;34m\u001b[0m\u001b[0;34m\u001b[0m\u001b[0m\n\u001b[0m",
      "\u001b[0;31mTypeError\u001b[0m: 'str' object does not support item assignment"
     ]
    }
   ],
   "source": [
    "a[0] = 'b'"
   ]
  },
  {
   "cell_type": "code",
   "execution_count": 250,
   "id": "c68bea09",
   "metadata": {},
   "outputs": [
    {
     "ename": "AttributeError",
     "evalue": "'str' object has no attribute 'pop'",
     "output_type": "error",
     "traceback": [
      "\u001b[0;31m---------------------------------------------------------------------------\u001b[0m",
      "\u001b[0;31mAttributeError\u001b[0m                            Traceback (most recent call last)",
      "\u001b[0;32m<ipython-input-250-9c070c907602>\u001b[0m in \u001b[0;36m<module>\u001b[0;34m\u001b[0m\n\u001b[0;32m----> 1\u001b[0;31m \u001b[0ma\u001b[0m\u001b[0;34m.\u001b[0m\u001b[0mpop\u001b[0m\u001b[0;34m(\u001b[0m\u001b[0;34m)\u001b[0m\u001b[0;34m\u001b[0m\u001b[0;34m\u001b[0m\u001b[0m\n\u001b[0m",
      "\u001b[0;31mAttributeError\u001b[0m: 'str' object has no attribute 'pop'"
     ]
    }
   ],
   "source": [
    "a.pop()"
   ]
  },
  {
   "cell_type": "code",
   "execution_count": 16,
   "id": "6d27428c",
   "metadata": {},
   "outputs": [],
   "source": [
    "def minimum_mewtations(start, goal, limit):\n",
    "    \"\"\"A diff function that computes the edit distance from START to GOAL.\n",
    "    This function takes in a string START, a string GOAL, and a number LIMIT.\n",
    "\n",
    "    Arguments:\n",
    "        start: a starting word\n",
    "        goal: a goal word\n",
    "        limit: a number representing an upper bound on the number of edits\n",
    "\n",
    "    >>> big_limit = 10\n",
    "    >>> minimum_mewtations(\"cats\", \"scat\", big_limit)       # cats -> scats -> scat\n",
    "    2\n",
    "    >>> minimum_mewtations(\"purng\", \"purring\", big_limit)   # purng -> purrng -> purring\n",
    "    2\n",
    "    >>> minimum_mewtations(\"ckiteus\", \"kittens\", big_limit) # ckiteus -> kiteus -> kitteus -> kittens\n",
    "    3\n",
    "    \"\"\"\n",
    "\n",
    "    if start == goal:\n",
    "        return 0\n",
    "    \n",
    "    if limit == 0:\n",
    "        return 9999\n",
    "    elif not start or not goal: \n",
    "        return abs(len(start) - len(goal))\n",
    "    elif start[0] == goal[0]:\n",
    "        return minimum_mewtations(start[1:], goal[1:], limit)\n",
    "\n",
    "    else:\n",
    "        add = minimum_mewtations(start, goal[1:], limit - 1)\n",
    "        remove = minimum_mewtations(start[1:], goal, limit - 1)\n",
    "        substitute = minimum_mewtations(start[1:], goal[1:], limit - 1)\n",
    "        \n",
    "        return min(add, remove, substitute) + 1"
   ]
  },
  {
   "cell_type": "code",
   "execution_count": 19,
   "id": "04503cbd",
   "metadata": {},
   "outputs": [
    {
     "data": {
      "text/plain": [
       "10001"
      ]
     },
     "execution_count": 19,
     "metadata": {},
     "output_type": "execute_result"
    }
   ],
   "source": [
    "big_limit = 2\n",
    "minimum_mewtations(\"ckiteus\", \"kittens\", big_limit)"
   ]
  },
  {
   "cell_type": "code",
   "execution_count": null,
   "id": "6280ae36",
   "metadata": {},
   "outputs": [],
   "source": []
  }
 ],
 "metadata": {
  "kernelspec": {
   "display_name": "Python 3 (ipykernel)",
   "language": "python",
   "name": "python3"
  },
  "language_info": {
   "codemirror_mode": {
    "name": "ipython",
    "version": 3
   },
   "file_extension": ".py",
   "mimetype": "text/x-python",
   "name": "python",
   "nbconvert_exporter": "python",
   "pygments_lexer": "ipython3",
   "version": "3.8.11"
  }
 },
 "nbformat": 4,
 "nbformat_minor": 5
}
