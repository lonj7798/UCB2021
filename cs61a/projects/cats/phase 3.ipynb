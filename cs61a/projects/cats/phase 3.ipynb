{
 "cells": [
  {
   "cell_type": "code",
   "execution_count": 1,
   "id": "5256c150",
   "metadata": {},
   "outputs": [],
   "source": [
    "from utils import lower, split, remove_punctuation, lines_from_file\n",
    "from ucb import main, interact, trace\n",
    "from datetime import datetime"
   ]
  },
  {
   "cell_type": "code",
   "execution_count": 4,
   "id": "2d383da5",
   "metadata": {},
   "outputs": [],
   "source": [
    "def accuracy(typed, reference):\n",
    "    \"\"\"Return the accuracy (percentage of words typed correctly) of TYPED\n",
    "    when compared to the prefix of REFERENCE that was typed.\n",
    "\n",
    "    Arguments:\n",
    "        typed: a string that may contain typos\n",
    "        reference: a string without errors\n",
    "\n",
    "    >>> accuracy('Cute Dog!', 'Cute Dog.')\n",
    "    50.0\n",
    "    >>> accuracy('A Cute Dog!', 'Cute Dog.')\n",
    "    0.0\n",
    "    >>> accuracy('cute Dog.', 'Cute Dog.')\n",
    "    50.0\n",
    "    >>> accuracy('Cute Dog. I say!', 'Cute Dog.')\n",
    "    50.0\n",
    "    >>> accuracy('Cute', 'Cute Dog.')\n",
    "    100.0\n",
    "    >>> accuracy('', 'Cute Dog.')\n",
    "    0.0\n",
    "    >>> accuracy('', '')\n",
    "    100.0\n",
    "    \"\"\"\n",
    "    typed_words = split(typed)\n",
    "    reference_words = split(reference)\n",
    "    # BEGIN PROBLEM 3\n",
    "    \n",
    "    typed_len = len(typed_words)\n",
    "    reference_len = len(reference_words)\n",
    "    error_count = 0\n",
    "    \n",
    "    if typed_len == reference_len:\n",
    "        if not typed_words: # if both of strings are empty\n",
    "            return 100.0\n",
    "        \n",
    "        for i in range(typed_len):\n",
    "            if typed_words[i] != reference_words[i]:\n",
    "                error_count += 1\n",
    "                \n",
    "        if error_count == 0:\n",
    "            return 100.0\n",
    "        \n",
    "        return 100 - error_count / typed_len * 100\n",
    "\n",
    "    elif typed_len > reference_len:\n",
    "        if not reference_len:\n",
    "            return 0.0\n",
    "        \n",
    "        for i in range(reference_len):\n",
    "            if typed_words[i] != reference_words[i]:\n",
    "                error_count += 1\n",
    "\n",
    "        return 100 - (typed_len - reference_len + error_count) / typed_len * 100\n",
    "    \n",
    "    else:\n",
    "        if not typed_len:\n",
    "            return 0.0\n",
    "        \n",
    "        for i in range(typed_len):\n",
    "            if typed_words[i] != reference_words[i]:\n",
    "                error_count += 1\n",
    "                \n",
    "        return (typed_len - error_count) / typed_len * 100"
   ]
  },
  {
   "cell_type": "code",
   "execution_count": 186,
   "id": "369cd48c",
   "metadata": {},
   "outputs": [],
   "source": [
    "def report_progress(sofar, prompt, user_id, upload):\n",
    "    \"\"\"Upload a report of your id and progress so far to the multiplayer server.\n",
    "    Returns the progress so far.\n",
    "\n",
    "    Arguments:\n",
    "        sofar: a list of the words input so far\n",
    "        prompt: a list of the words in the typing prompt\n",
    "        user_id: a number representing the id of the current user\n",
    "        upload: a function used to upload progress to the multiplayer server\n",
    "\n",
    "    >>> print_progress = lambda d: print('ID:', d['id'], 'Progress:', d['progress'])\n",
    "    >>> # The above function displays progress in the format ID: __, Progress: __\n",
    "    >>> print_progress({'id': 1, 'progress': 0.6})\n",
    "    ID: 1 Progress: 0.6\n",
    "    >>> sofar = ['how', 'are', 'you']\n",
    "    >>> prompt = ['how', 'are', 'you', 'doing', 'today']\n",
    "    >>> report_progress(sofar, prompt, 2, print_progress)\n",
    "    ID: 2 Progress: 0.6\n",
    "    0.6\n",
    "    >>> report_progress(['how', 'aree'], prompt, 3, print_progress)\n",
    "    ID: 3 Progress: 0.2\n",
    "    0.2\n",
    "    \"\"\"\n",
    "    # BEGIN PROBLEM 8\n",
    "\n",
    "    \"\"\" floating point problem\n",
    "    for i in range(len(sofar)):\n",
    "        if sofar[i] != prompt[i]:\n",
    "            acc = round(1 - (len(prompt) - i) / len(prompt), 15)\n",
    "            upload({'id': user_id, 'progress': acc})\n",
    "            return acc\n",
    "            \n",
    "\n",
    "    acc = round(1 - (len(prompt) - len(sofar)) / len(prompt), 15)\n",
    "    upload({'id': user_id, 'progress': acc})\n",
    "    return acc  \"\"\"  \n",
    "    \n",
    "    acc = 0\n",
    "    for i in range(len(sofar)):\n",
    "        if sofar[i] == prompt[i]:\n",
    "            acc += 1\n",
    "        else:\n",
    "            break\n",
    "            \n",
    "    acc /= len(prompt)\n",
    "    upload({'id': user_id, 'progress': acc})\n",
    "    return acc\n",
    "    \n",
    "    # END PROBLEM 8"
   ]
  },
  {
   "cell_type": "code",
   "execution_count": 183,
   "id": "f95aa7b6",
   "metadata": {},
   "outputs": [],
   "source": [
    "print_progress = lambda d: print('ID:', d['id'], 'Progress:', d['progress'])"
   ]
  },
  {
   "cell_type": "code",
   "execution_count": 184,
   "id": "22a402b7",
   "metadata": {},
   "outputs": [
    {
     "name": "stdout",
     "output_type": "stream",
     "text": [
      "ID: 1 Progress: 0.6\n"
     ]
    }
   ],
   "source": [
    "print_progress({'id': 1, 'progress': 0.6})"
   ]
  },
  {
   "cell_type": "code",
   "execution_count": 169,
   "id": "a247f2c7",
   "metadata": {},
   "outputs": [],
   "source": [
    "sofar = ['how', 'are', 'you']\n",
    "prompt = ['how', 'are', 'you', 'doing', 'today']"
   ]
  },
  {
   "cell_type": "code",
   "execution_count": 170,
   "id": "ee92d7d9",
   "metadata": {},
   "outputs": [
    {
     "name": "stdout",
     "output_type": "stream",
     "text": [
      "ID: 2 Progress: 0.6\n"
     ]
    },
    {
     "data": {
      "text/plain": [
       "0.6"
      ]
     },
     "execution_count": 170,
     "metadata": {},
     "output_type": "execute_result"
    }
   ],
   "source": [
    "report_progress(sofar, prompt, 2, print_progress)"
   ]
  },
  {
   "cell_type": "code",
   "execution_count": 171,
   "id": "d8c65344",
   "metadata": {},
   "outputs": [
    {
     "name": "stdout",
     "output_type": "stream",
     "text": [
      "ID: 3 Progress: 0.19999999999999996\n"
     ]
    },
    {
     "data": {
      "text/plain": [
       "0.19999999999999996"
      ]
     },
     "execution_count": 171,
     "metadata": {},
     "output_type": "execute_result"
    }
   ],
   "source": [
    "report_progress(['how', 'aree'], prompt, 3, print_progress)"
   ]
  },
  {
   "cell_type": "code",
   "execution_count": 172,
   "id": "4d36daa3",
   "metadata": {},
   "outputs": [
    {
     "name": "stdout",
     "output_type": "stream",
     "text": [
      "ID: 1 Progress: 0.6\n"
     ]
    }
   ],
   "source": [
    "print_progress = lambda d: print('ID:', d['id'], 'Progress:', d['progress'])\n",
    "typed = ['I', 'have', 'begun']\n",
    "prompt = ['I', 'have', 'begun', 'to', 'type']\n",
    "print_progress({'id': 1, 'progress': 0.6})\n"
   ]
  },
  {
   "cell_type": "code",
   "execution_count": 173,
   "id": "e0a1f2a0",
   "metadata": {},
   "outputs": [
    {
     "name": "stdout",
     "output_type": "stream",
     "text": [
      "ID: 1 Progress: 0.6\n"
     ]
    },
    {
     "data": {
      "text/plain": [
       "0.6"
      ]
     },
     "execution_count": 173,
     "metadata": {},
     "output_type": "execute_result"
    }
   ],
   "source": [
    "report_progress(typed, prompt, 1, print_progress)"
   ]
  },
  {
   "cell_type": "code",
   "execution_count": 174,
   "id": "88309a03",
   "metadata": {},
   "outputs": [
    {
     "name": "stdout",
     "output_type": "stream",
     "text": [
      "ID: 2 Progress: 0.19999999999999996\n"
     ]
    },
    {
     "data": {
      "text/plain": [
       "0.19999999999999996"
      ]
     },
     "execution_count": 174,
     "metadata": {},
     "output_type": "execute_result"
    }
   ],
   "source": [
    "report_progress(['I', 'begun'], prompt, 2, print_progress)"
   ]
  },
  {
   "cell_type": "code",
   "execution_count": 178,
   "id": "88bb6a68",
   "metadata": {
    "scrolled": true
   },
   "outputs": [
    {
     "name": "stdout",
     "output_type": "stream",
     "text": [
      "ID: 3 Progress: 0.2\n"
     ]
    },
    {
     "data": {
      "text/plain": [
       "0.2"
      ]
     },
     "execution_count": 178,
     "metadata": {},
     "output_type": "execute_result"
    }
   ],
   "source": [
    "report_progress(['I', 'hve', 'begun', 'to', 'type'], prompt, 3, print_progress)"
   ]
  },
  {
   "cell_type": "code",
   "execution_count": 179,
   "id": "8722bb31",
   "metadata": {},
   "outputs": [
    {
     "name": "stdout",
     "output_type": "stream",
     "text": [
      "ID: 9 Progress: 0.0\n"
     ]
    },
    {
     "data": {
      "text/plain": [
       "0.0"
      ]
     },
     "execution_count": 179,
     "metadata": {},
     "output_type": "execute_result"
    }
   ],
   "source": [
    "report_progress(['baNtinOise', 'archcupbearer'], ['antinoise', 'archcupbearer', 'opisthotonoid'], 9, print_progress)"
   ]
  },
  {
   "cell_type": "code",
   "execution_count": 182,
   "id": "582e4cc9",
   "metadata": {},
   "outputs": [],
   "source": [
    "\"\"\"Typing test implementation\"\"\"\n",
    "\n",
    "from utils import lower, split, remove_punctuation, lines_from_file\n",
    "from ucb import main, interact, trace\n",
    "from datetime import datetime\n",
    "\n",
    "\n",
    "###########\n",
    "# Phase 1 #\n",
    "###########\n",
    "\n",
    "\n",
    "def choose(paragraphs, select, k):\n",
    "    \"\"\"Return the Kth paragraph from PARAGRAPHS for which SELECT called on the\n",
    "    paragraph returns True. If there are fewer than K such paragraphs, return\n",
    "    the empty string.\n",
    "\n",
    "    Arguments:\n",
    "        paragraphs: a list of strings\n",
    "        select: a function that returns True for paragraphs that can be selected\n",
    "        k: an integer\n",
    "\n",
    "    >>> ps = ['hi', 'how are you', 'fine']\n",
    "    >>> s = lambda p: len(p) <= 4\n",
    "    >>> choose(ps, s, 0)\n",
    "    'hi'\n",
    "    >>> choose(ps, s, 1)\n",
    "    'fine'\n",
    "    >>> choose(ps, s, 2)\n",
    "    ''\n",
    "    \"\"\"\n",
    "    # BEGIN PROBLEM 1\n",
    "    \"\"\"\n",
    "    temp = []\n",
    "    \n",
    "    for paragraph in paragraphs:\n",
    "        if select(paragraph):\n",
    "            temp.append(paragraph)\n",
    "    \"\"\"      \n",
    "    temp = [paragraph for paragraph in paragraphs if select(paragraph)]\n",
    "    \n",
    "    if k >= len(temp):\n",
    "        return \"\"\n",
    "    \n",
    "    return temp[k]\n",
    "\n",
    "    # END PROBLEM 1\n",
    "\n",
    "\n",
    "def about(topic):\n",
    "    \"\"\"Return a select function that returns whether\n",
    "    a paragraph contains one of the words in TOPIC.\n",
    "\n",
    "    Arguments:\n",
    "        topic: a list of words related to a subject\n",
    "\n",
    "    >>> about_dogs = about(['dog', 'dogs', 'pup', 'puppy'])\n",
    "    >>> choose(['Cute Dog!', 'That is a cat.', 'Nice pup!'], about_dogs, 0)\n",
    "    'Cute Dog!'\n",
    "    >>> choose(['Cute Dog!', 'That is a cat.', 'Nice pup.'], about_dogs, 1)\n",
    "    'Nice pup.'\n",
    "    \"\"\"\n",
    "    assert all([lower(x) == x for x in topic]), 'topics should be lowercase.'\n",
    "    # BEGIN PROBLEM 2\n",
    "    def compare(string):\n",
    "        # string = string.split(' ')\n",
    "        string = split(remove_punctuation(lower(string)))\n",
    "        for word in string:            \n",
    "            for compare in topic:\n",
    "                # temp = ''.join(x for x in word if x.isalnum())  # remove special characters\n",
    "                if word == compare:\n",
    "                    return True\n",
    "        return False\n",
    "    \n",
    "    return compare    \n",
    "    # END PROBLEM 2\n",
    "\n",
    "\n",
    "def accuracy(typed, reference):\n",
    "    \"\"\"Return the accuracy (percentage of words typed correctly) of TYPED\n",
    "    when compared to the prefix of REFERENCE that was typed.\n",
    "\n",
    "    Arguments:\n",
    "        typed: a string that may contain typos\n",
    "        reference: a string without errors\n",
    "\n",
    "    >>> accuracy('Cute Dog!', 'Cute Dog.')\n",
    "    50.0\n",
    "    >>> accuracy('A Cute Dog!', 'Cute Dog.')\n",
    "    0.0\n",
    "    >>> accuracy('cute Dog.', 'Cute Dog.')\n",
    "    50.0\n",
    "    >>> accuracy('Cute Dog. I say!', 'Cute Dog.')\n",
    "    50.0\n",
    "    >>> accuracy('Cute', 'Cute Dog.')\n",
    "    100.0\n",
    "    >>> accuracy('', 'Cute Dog.')\n",
    "    0.0\n",
    "    >>> accuracy('', '')\n",
    "    100.0\n",
    "    \"\"\"\n",
    "    typed_words = split(typed)\n",
    "    reference_words = split(reference)\n",
    "    # BEGIN PROBLEM 3\n",
    "    typed_len = len(typed_words)\n",
    "    reference_len = len(reference_words)\n",
    "    error_count = 0\n",
    "    \n",
    "    if typed_len == reference_len:\n",
    "        if not typed_words: # if both of strings are empty\n",
    "            return 100.0\n",
    "        \n",
    "        for i in range(typed_len):\n",
    "            if typed_words[i] != reference_words[i]:\n",
    "                error_count += 1\n",
    "                \n",
    "        if error_count == 0:\n",
    "            return 100.0\n",
    "\n",
    "        return 100 - error_count / typed_len * 100\n",
    "\n",
    "    elif typed_len > reference_len:\n",
    "        if not reference_len:\n",
    "            return 0.0\n",
    "        \n",
    "        for i in range(reference_len):\n",
    "            if typed_words[i] != reference_words[i]:\n",
    "                error_count += 1\n",
    "\n",
    "        return 100 - (typed_len - reference_len + error_count) / typed_len * 100\n",
    "    \n",
    "    else:\n",
    "        if not typed_len:\n",
    "            return 0.0\n",
    "        \n",
    "        for i in range(typed_len):\n",
    "            if typed_words[i] != reference_words[i]:\n",
    "                error_count += 1\n",
    "                \n",
    "        return (typed_len - error_count) / typed_len * 100\n",
    "    # END PROBLEM 3\n",
    "\n",
    "\n",
    "def wpm(typed, elapsed):\n",
    "    \"\"\"Return the words-per-minute (WPM) of the TYPED string.\n",
    "\n",
    "    Arguments:\n",
    "        typed: an entered string\n",
    "        elapsed: an amount of time in seconds\n",
    "\n",
    "    >>> wpm('hello friend hello buddy hello', 15)\n",
    "    24.0\n",
    "    >>> wpm('0123456789',60)\n",
    "    2.0\n",
    "    \"\"\"\n",
    "    assert elapsed > 0, 'Elapsed time must be positive'\n",
    "    # BEGIN PROBLEM 4\n",
    "    \n",
    "    return len(typed) * 12 / elapsed # len(typed) / 5 / (elapsed / 60)\n",
    "\n",
    "    # END PROBLEM 4\n",
    "\n",
    "\n",
    "###########\n",
    "# Phase 2 #\n",
    "###########\n",
    "\n",
    "def autocorrect(typed_word, valid_words, diff_function, limit):\n",
    "    \"\"\"Returns the element of VALID_WORDS that has the smallest difference\n",
    "    from TYPED_WORD. Instead returns TYPED_WORD if that difference is greater\n",
    "    than LIMIT.\n",
    "\n",
    "    Arguments:\n",
    "        typed_word: a string representing a word that may contain typos\n",
    "        valid_words: a list of strings representing valid words\n",
    "        diff_function: a function quantifying the difference between two words\n",
    "        limit: a number\n",
    "\n",
    "    >>> ten_diff = lambda w1, w2, limit: 10 # Always returns 10\n",
    "    >>> autocorrect(\"hwllo\", [\"butter\", \"hello\", \"potato\"], ten_diff, 20)\n",
    "    'butter'\n",
    "    >>> first_diff = lambda w1, w2, limit: (1 if w1[0] != w2[0] else 0) # Checks for matching first char\n",
    "    >>> autocorrect(\"tosting\", [\"testing\", \"asking\", \"fasting\"], first_diff, 10)\n",
    "    'testing'\n",
    "    \"\"\"\n",
    "    # BEGIN PROBLEM 5\n",
    "    \n",
    "    diff = []\n",
    "    for word in valid_words:\n",
    "        if word == typed_word:\n",
    "            return word\n",
    "        \n",
    "        diff.append(diff_function(typed_word, word, limit))\n",
    "    \n",
    "       \n",
    "    if min(diff) <= limit:\n",
    "        return valid_words[diff.index(min(diff))]\n",
    "    \n",
    "    else:\n",
    "        return typed_word\n",
    "    \n",
    "    # END PROBLEM 5\n",
    "\n",
    "\n",
    "def feline_flips(start, goal, limit):\n",
    "    \"\"\"A diff function for autocorrect that determines how many letters\n",
    "    in START need to be substituted to create GOAL, then adds the difference in\n",
    "    their lengths and returns the result.\n",
    "\n",
    "    Arguments:\n",
    "        start: a starting word\n",
    "        goal: a string representing a desired goal word\n",
    "        limit: a number representing an upper bound on the number of chars that must change\n",
    "\n",
    "    >>> big_limit = 10\n",
    "    >>> feline_flips(\"nice\", \"rice\", big_limit)    # Substitute: n -> r\n",
    "    1\n",
    "    >>> feline_flips(\"range\", \"rungs\", big_limit)  # Substitute: a -> u, e -> s\n",
    "    2\n",
    "    >>> feline_flips(\"pill\", \"pillage\", big_limit) # Don't substitute anything, length difference of 3.\n",
    "    3\n",
    "    >>> feline_flips(\"roses\", \"arose\", big_limit)  # Substitute: r -> a, o -> r, s -> o, e -> s, s -> e\n",
    "    5\n",
    "    >>> feline_flips(\"rose\", \"hello\", big_limit)   # Substitute: r->h, o->e, s->l, e->l, length difference of 1.\n",
    "    5\n",
    "    \"\"\"\n",
    "    # BEGIN PROBLEM 6\n",
    "    \n",
    "    if start == goal:\n",
    "        return 0\n",
    "    \n",
    "    if limit < 0:\n",
    "        return 9999\n",
    "    \n",
    "    elif not start or not goal:\n",
    "        return abs(len(start) - len(goal)) # length difference\n",
    "\n",
    "    elif start[0] != goal[0]:\n",
    "        return feline_flips(start[1:], goal[1:], limit - 1) + 1 # Substitute\n",
    "   \n",
    "    return feline_flips(start[1:], goal[1:], limit)\n",
    "    # END PROBLEM 6\n",
    "\n",
    "\n",
    "def minimum_mewtations(start, goal, limit):\n",
    "    \"\"\"A diff function that computes the edit distance from START to GOAL.\n",
    "    This function takes in a string START, a string GOAL, and a number LIMIT.\n",
    "\n",
    "    Arguments:\n",
    "        start: a starting word\n",
    "        goal: a goal word\n",
    "        limit: a number representing an upper bound on the number of edits\n",
    "\n",
    "    >>> big_limit = 10\n",
    "    >>> minimum_mewtations(\"cats\", \"scat\", big_limit)       # cats -> scats -> scat\n",
    "    2\n",
    "    >>> minimum_mewtations(\"purng\", \"purring\", big_limit)   # purng -> purrng -> purring\n",
    "    2\n",
    "    >>> minimum_mewtations(\"ckiteus\", \"kittens\", big_limit) # ckiteus -> kiteus -> kitteus -> kittens\n",
    "    3\n",
    "    \"\"\"\n",
    "    if start == goal:\n",
    "        return 0\n",
    "    \n",
    "    if limit == 0:\n",
    "        return 9999\n",
    "    \n",
    "    elif not start or not goal: \n",
    "        return abs(len(start) - len(goal))\n",
    "    \n",
    "    elif start[0] == goal[0]:\n",
    "        return minimum_mewtations(start[1:], goal[1:], limit)\n",
    "\n",
    "    else:\n",
    "        add = minimum_mewtations(start, goal[1:], limit - 1)\n",
    "        remove = minimum_mewtations(start[1:], goal, limit - 1)\n",
    "        substitute = minimum_mewtations(start[1:], goal[1:], limit - 1)\n",
    "        \n",
    "        # BEGIN\n",
    "        \n",
    "        return min(add, remove, substitute) + 1\n",
    "        \n",
    "        # END\n",
    "\n",
    "def final_diff(start, goal, limit):\n",
    "    \"\"\"A diff function that takes in a string START, a string GOAL, and a number LIMIT.\n",
    "    If you implement this function, it will be used.\"\"\"\n",
    "    assert False, 'Remove this line to use your final_diff function.'\n",
    "\n",
    "\n",
    "FINAL_DIFF_LIMIT = 6  # REPLACE THIS WITH YOUR LIMIT\n",
    "\n",
    "\n",
    "###########\n",
    "# Phase 3 #\n",
    "###########\n",
    "\n",
    "\n",
    "def report_progress(sofar, prompt, user_id, upload):\n",
    "    \"\"\"Upload a report of your id and progress so far to the multiplayer server.\n",
    "    Returns the progress so far.\n",
    "\n",
    "    Arguments:\n",
    "        sofar: a list of the words input so far\n",
    "        prompt: a list of the words in the typing prompt\n",
    "        user_id: a number representing the id of the current user\n",
    "        upload: a function used to upload progress to the multiplayer server\n",
    "\n",
    "    >>> print_progress = lambda d: print('ID:', d['id'], 'Progress:', d['progress'])\n",
    "    >>> # The above function displays progress in the format ID: __, Progress: __\n",
    "    >>> print_progress({'id': 1, 'progress': 0.6})\n",
    "    ID: 1 Progress: 0.6\n",
    "    >>> sofar = ['how', 'are', 'you']\n",
    "    >>> prompt = ['how', 'are', 'you', 'doing', 'today']\n",
    "    >>> report_progress(sofar, prompt, 2, print_progress)\n",
    "    ID: 2 Progress: 0.6\n",
    "    0.6\n",
    "    >>> report_progress(['how', 'aree'], prompt, 3, print_progress)\n",
    "    ID: 3 Progress: 0.2\n",
    "    0.2\n",
    "    \"\"\"\n",
    "    # BEGIN PROBLEM 8\n",
    "\n",
    "    \"\"\" floating point problem\n",
    "    for i in range(len(sofar)):\n",
    "        if sofar[i] != prompt[i]:\n",
    "            acc = round(1 - (len(prompt) - i) / len(prompt), 15)\n",
    "            upload({'id': user_id, 'progress': acc})\n",
    "            return acc\n",
    "            \n",
    "\n",
    "    acc = round(1 - (len(prompt) - len(sofar)) / len(prompt), 15)\n",
    "    upload({'id': user_id, 'progress': acc})\n",
    "    return acc  \"\"\"  \n",
    "    \n",
    "    acc = 0\n",
    "    for i in range(len(sofar)):\n",
    "        if sofar[i] == prompt[i]:\n",
    "            acc += 1\n",
    "        else:\n",
    "            break\n",
    "            \n",
    "    acc /= len(prompt)\n",
    "    upload({'id': user_id, 'progress': acc})\n",
    "    return acc\n",
    "\n",
    "    # END PROBLEM 8\n",
    "\n",
    "\n",
    "def time_per_word(words, times_per_player):\n",
    "    \"\"\"Given timing data, return a match data abstraction, which contains a\n",
    "    list of words and the amount of time each player took to type each word.\n",
    "\n",
    "    Arguments:\n",
    "        words: a list of words, in the order they are typed.\n",
    "        times_per_player: A list of lists of timestamps including the time\n",
    "                          the player started typing, followed by the time\n",
    "                          the player finished typing each word.\n",
    "\n",
    "    >>> p = [[75, 81, 84, 90, 92], [19, 29, 35, 36, 38]]\n",
    "    >>> match = time_per_word(['collar', 'plush', 'blush', 'repute'], p)\n",
    "    >>> get_words(match)\n",
    "    ['collar', 'plush', 'blush', 'repute']\n",
    "    >>> get_times(match)\n",
    "    [[6, 3, 6, 2], [10, 6, 1, 2]]\n",
    "    \"\"\"\n",
    "    # BEGIN PROBLEM 9\n",
    "    \"*** YOUR CODE HERE ***\"\n",
    "    # END PROBLEM 9\n",
    "\n",
    "\n",
    "def fastest_words(match):\n",
    "    \"\"\"Return a list of lists of which words each player typed fastest.\n",
    "\n",
    "    Arguments:\n",
    "        match: a match data abstraction as returned by time_per_word.\n",
    "\n",
    "    >>> p0 = [5, 1, 3]\n",
    "    >>> p1 = [4, 1, 6]\n",
    "    >>> fastest_words(match(['Just', 'have', 'fun'], [p0, p1]))\n",
    "    [['have', 'fun'], ['Just']]\n",
    "    >>> p0  # input lists should not be mutated\n",
    "    [5, 1, 3]\n",
    "    >>> p1\n",
    "    [4, 1, 6]\n",
    "    \"\"\"\n",
    "    player_indices = range(len(get_times(match)))  # contains an *index* for each player\n",
    "    word_indices = range(len(get_words(match)))    # contains an *index* for each word\n",
    "    # BEGIN PROBLEM 10\n",
    "    \"*** YOUR CODE HERE ***\"\n",
    "    # END PROBLEM 10\n",
    "\n",
    "\n",
    "def match(words, times):\n",
    "    \"\"\"A data abstraction containing all words typed and their times.\n",
    "\n",
    "    Arguments:\n",
    "        words: A list of strings, each string representing a word typed.\n",
    "        times: A list of lists for how long it took for each player to type\n",
    "            each word.\n",
    "            times[i][j] = time it took for player i to type words[j].\n",
    "\n",
    "    Example input:\n",
    "        words: ['Hello', 'world']\n",
    "        times: [[5, 1], [4, 2]]\n",
    "    \"\"\"\n",
    "    assert all([type(w) == str for w in words]), 'words should be a list of strings'\n",
    "    assert all([type(t) == list for t in times]), 'times should be a list of lists'\n",
    "    assert all([isinstance(i, (int, float)) for t in times for i in t]), 'times lists should contain numbers'\n",
    "    assert all([len(t) == len(words) for t in times]), 'There should be one word per time.'\n",
    "    return [words, times]\n",
    "\n",
    "\n",
    "def word_at(match, word_index):\n",
    "    \"\"\"A selector function that gets the word with index word_index\"\"\"\n",
    "    assert 0 <= word_index < len(match[0]), \"word_index out of range of words\"\n",
    "    return match[0][word_index]\n",
    "\n",
    "\n",
    "def get_words(match):\n",
    "    \"\"\"A selector function for all the words in the match\"\"\"\n",
    "    return match[0]\n",
    "\n",
    "\n",
    "def get_times(match):\n",
    "    \"\"\"A selector function for all typing times for all players\"\"\"\n",
    "    return match[1]\n",
    "\n",
    "\n",
    "def time(match, player_num, word_index):\n",
    "    \"\"\"A selector function for the time it took player_num to type the word at word_index\"\"\"\n",
    "    assert word_index < len(match[0]), \"word_index out of range of words\"\n",
    "    assert player_num < len(match[1]), \"player_num out of range of players\"\n",
    "    return match[1][player_num][word_index]\n",
    "\n",
    "\n",
    "def match_string(match):\n",
    "    \"\"\"A helper function that takes in a match object and returns a string representation of it\"\"\"\n",
    "    return \"match(%s, %s)\" % (match[0], match[1])\n",
    "\n"
   ]
  },
  {
   "cell_type": "code",
   "execution_count": 183,
   "id": "15746a52",
   "metadata": {},
   "outputs": [],
   "source": [
    "def time_per_word(words, times_per_player):\n",
    "    \"\"\"Given timing data, return a match data abstraction, which contains a\n",
    "    list of words and the amount of time each player took to type each word.\n",
    "\n",
    "    Arguments:\n",
    "        words: a list of words, in the order they are typed.\n",
    "        times_per_player: A list of lists of timestamps including the time\n",
    "                          the player started typing, followed by the time\n",
    "                          the player finished typing each word.\n",
    "\n",
    "    >>> p = [[75, 81, 84, 90, 92], [19, 29, 35, 36, 38]]\n",
    "    >>> match = time_per_word(['collar', 'plush', 'blush', 'repute'], p)\n",
    "    >>> get_words(match)\n",
    "    ['collar', 'plush', 'blush', 'repute']\n",
    "    >>> get_times(match)\n",
    "    [[6, 3, 6, 2], [10, 6, 1, 2]]\n",
    "    \"\"\"\n",
    "    # BEGIN PROBLEM 9\n",
    "    \n",
    "    times = []\n",
    "    \n",
    "    for col in range(len(times_per_player)):\n",
    "        temp = [times_per_player[col][row] - times_per_player[col][row - 1]\n",
    "                for row in range(1, len(times_per_player[0]))]  \n",
    "        times.append(temp)\n",
    "        \n",
    "    return match(words, times)\n",
    "\n",
    "    # END PROBLEM 9"
   ]
  },
  {
   "cell_type": "code",
   "execution_count": 85,
   "id": "96b727c1",
   "metadata": {
    "scrolled": true
   },
   "outputs": [],
   "source": [
    "p = [[75, 81, 84, 90, 92], [19, 29, 35, 36, 38]]\n",
    "match = time_per_word(['collar', 'plush', 'blush', 'repute'], p)"
   ]
  },
  {
   "cell_type": "code",
   "execution_count": null,
   "id": "6453a0b7",
   "metadata": {},
   "outputs": [],
   "source": []
  },
  {
   "cell_type": "code",
   "execution_count": 86,
   "id": "a65fce01",
   "metadata": {},
   "outputs": [
    {
     "data": {
      "text/plain": [
       "['collar', 'plush', 'blush', 'repute']"
      ]
     },
     "execution_count": 86,
     "metadata": {},
     "output_type": "execute_result"
    }
   ],
   "source": [
    "get_words(match)"
   ]
  },
  {
   "cell_type": "code",
   "execution_count": 68,
   "id": "32dc9434",
   "metadata": {},
   "outputs": [
    {
     "data": {
      "text/plain": [
       "[[6, 3, 6, 2], [10, 6, 1, 2]]"
      ]
     },
     "execution_count": 68,
     "metadata": {},
     "output_type": "execute_result"
    }
   ],
   "source": [
    "get_times(match)"
   ]
  },
  {
   "cell_type": "code",
   "execution_count": 69,
   "id": "036c0ceb",
   "metadata": {},
   "outputs": [
    {
     "data": {
      "text/plain": [
       "['This', 'is', 'fun']"
      ]
     },
     "execution_count": 69,
     "metadata": {},
     "output_type": "execute_result"
    }
   ],
   "source": [
    "p = [[1, 4, 6, 7], [0, 4, 6, 9]]\n",
    "words = ['This', 'is', 'fun']\n",
    "match = time_per_word(words, p)\n",
    "get_words(match)"
   ]
  },
  {
   "cell_type": "code",
   "execution_count": 70,
   "id": "55f8e959",
   "metadata": {},
   "outputs": [
    {
     "data": {
      "text/plain": [
       "[[3, 2, 1], [4, 2, 3]]"
      ]
     },
     "execution_count": 70,
     "metadata": {},
     "output_type": "execute_result"
    }
   ],
   "source": [
    "get_times(match)"
   ]
  },
  {
   "cell_type": "code",
   "execution_count": 71,
   "id": "754996bd",
   "metadata": {},
   "outputs": [
    {
     "data": {
      "text/plain": [
       "'world'"
      ]
     },
     "execution_count": 71,
     "metadata": {},
     "output_type": "execute_result"
    }
   ],
   "source": [
    "p = [[0, 2, 3], [2, 4, 7]]\n",
    "match = time_per_word(['hello', 'world'], p)\n",
    "word_at(match, word_index=1)"
   ]
  },
  {
   "cell_type": "code",
   "execution_count": 72,
   "id": "98278ad0",
   "metadata": {},
   "outputs": [
    {
     "data": {
      "text/plain": [
       "[[2, 1], [2, 3]]"
      ]
     },
     "execution_count": 72,
     "metadata": {},
     "output_type": "execute_result"
    }
   ],
   "source": [
    "get_times(match)"
   ]
  },
  {
   "cell_type": "code",
   "execution_count": 73,
   "id": "c3f3be8b",
   "metadata": {},
   "outputs": [
    {
     "data": {
      "text/plain": [
       "1"
      ]
     },
     "execution_count": 73,
     "metadata": {},
     "output_type": "execute_result"
    }
   ],
   "source": [
    "time(match, player_num=0, word_index=1)"
   ]
  },
  {
   "cell_type": "code",
   "execution_count": 74,
   "id": "c91e6fd9",
   "metadata": {},
   "outputs": [
    {
     "data": {
      "text/plain": [
       "['This', 'is', 'fun']"
      ]
     },
     "execution_count": 74,
     "metadata": {},
     "output_type": "execute_result"
    }
   ],
   "source": [
    "p = [[1, 4, 6, 7], [0, 4, 6, 9]]\n",
    "words = ['This', 'is', 'fun']\n",
    "match = time_per_word(words, p)\n",
    "get_words(match)"
   ]
  },
  {
   "cell_type": "code",
   "execution_count": 217,
   "id": "13205ba9",
   "metadata": {},
   "outputs": [],
   "source": [
    "def fastest_words(match):\n",
    "    \"\"\"Return a list of lists of which words each player typed fastest.\n",
    "\n",
    "    Arguments:\n",
    "        match: a match data abstraction as returned by time_per_word.\n",
    "\n",
    "    >>> p0 = [5, 1, 3]\n",
    "    >>> p1 = [4, 1, 6]\n",
    "    >>> fastest_words(match(['Just', 'have', 'fun'], [p0, p1]))\n",
    "    [['have', 'fun'], ['Just']]\n",
    "    >>> p0  # input lists should not be mutated\n",
    "    [5, 1, 3]\n",
    "    >>> p1\n",
    "    [4, 1, 6]\n",
    "    \"\"\"\n",
    "    player_indices = range(len(get_times(match)))  # contains an *index* for each player\n",
    "    word_indices = range(len(get_words(match)))    # contains an *index* for each word\n",
    "    # BEGIN PROBLEM 10\n",
    "    \n",
    "    \"\"\"\n",
    "    anw = [[] for player in player_indices]\n",
    "     # num of players\n",
    "    for i in word_indices:\n",
    "        temp = [match[1][player][i] for player in player_indices]\n",
    "        max_index = temp.index(min(temp))\n",
    "        anw[max_index].append(word_at(match, i))\n",
    "    \"\"\"\n",
    "    # word_at(match, word_index): return the word on index\n",
    "    # get_words(match): return match[0]\n",
    "    # get_times(match): return match[1]\n",
    "    # time(match, player_num, word_index): return match[1][player_num][word_index]\n",
    "    \n",
    "    anw = [[] for player in player_indices]\n",
    "    for i in word_indices:\n",
    "        temp = [time(match, player, i) for player in player_indices]\n",
    "        max_index = temp.index(min(temp))\n",
    "        \n",
    "        anw[max_index].append(word_at(match, i))\n",
    "         \n",
    "    return anw\n",
    "                \n",
    "    # END PROBLEM 10"
   ]
  },
  {
   "cell_type": "code",
   "execution_count": 218,
   "id": "39d9e7c8",
   "metadata": {
    "scrolled": true
   },
   "outputs": [
    {
     "data": {
      "text/plain": [
       "[['have', 'fun'], ['Just']]"
      ]
     },
     "execution_count": 218,
     "metadata": {},
     "output_type": "execute_result"
    }
   ],
   "source": [
    "p0 = [5, 1, 3]\n",
    "p1 = [4, 1, 6]\n",
    "fastest_words(match(['Just', 'have', 'fun'], [p0, p1]))"
   ]
  },
  {
   "cell_type": "code",
   "execution_count": 219,
   "id": "12c92d08",
   "metadata": {},
   "outputs": [
    {
     "data": {
      "text/plain": [
       "[['What'], ['great', 'luck']]"
      ]
     },
     "execution_count": 219,
     "metadata": {},
     "output_type": "execute_result"
    }
   ],
   "source": [
    "p0 = [2, 2, 3]\n",
    "p1 = [6, 1, 2]\n",
    "fastest_words(match(['What', 'great', 'luck'], [p0, p1]))"
   ]
  },
  {
   "cell_type": "code",
   "execution_count": 220,
   "id": "339577b5",
   "metadata": {},
   "outputs": [
    {
     "data": {
      "text/plain": [
       "[['What', 'luck'], ['great']]"
      ]
     },
     "execution_count": 220,
     "metadata": {},
     "output_type": "execute_result"
    }
   ],
   "source": [
    "p0 = [2, 2, 3]\n",
    "p1 = [6, 1, 3]\n",
    "fastest_words(match(['What', 'great', 'luck'], [p0, p1]))"
   ]
  },
  {
   "cell_type": "code",
   "execution_count": 221,
   "id": "8ebd828b",
   "metadata": {},
   "outputs": [
    {
     "data": {
      "text/plain": [
       "[['What'], ['great'], ['luck']]"
      ]
     },
     "execution_count": 221,
     "metadata": {},
     "output_type": "execute_result"
    }
   ],
   "source": [
    "p2 = [4, 3, 1]\n",
    "fastest_words(match(['What', 'great', 'luck'], [p0, p1, p2]))"
   ]
  },
  {
   "cell_type": "code",
   "execution_count": 222,
   "id": "bbfbc4e4",
   "metadata": {},
   "outputs": [
    {
     "data": {
      "text/plain": [
       "[['What'], ['great', 'luck']]"
      ]
     },
     "execution_count": 222,
     "metadata": {},
     "output_type": "execute_result"
    }
   ],
   "source": [
    "p0 = [2, 2, 3]\n",
    "p1 = [6, 1, 2]\n",
    "fastest_words(match(['What', 'great', 'luck'], [p0, p1]))"
   ]
  },
  {
   "cell_type": "code",
   "execution_count": null,
   "id": "c25da1ef",
   "metadata": {},
   "outputs": [],
   "source": []
  }
 ],
 "metadata": {
  "kernelspec": {
   "display_name": "Python 3 (ipykernel)",
   "language": "python",
   "name": "python3"
  },
  "language_info": {
   "codemirror_mode": {
    "name": "ipython",
    "version": 3
   },
   "file_extension": ".py",
   "mimetype": "text/x-python",
   "name": "python",
   "nbconvert_exporter": "python",
   "pygments_lexer": "ipython3",
   "version": "3.8.11"
  }
 },
 "nbformat": 4,
 "nbformat_minor": 5
}
