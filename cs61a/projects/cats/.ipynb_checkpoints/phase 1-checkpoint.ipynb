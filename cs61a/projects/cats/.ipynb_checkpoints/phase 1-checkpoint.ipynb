{
 "cells": [
  {
   "cell_type": "code",
   "execution_count": 2,
   "id": "6d500033",
   "metadata": {},
   "outputs": [],
   "source": [
    "from utils import lower, split, remove_punctuation, lines_from_file\n",
    "from ucb import main, interact, trace\n",
    "from datetime import datetime"
   ]
  },
  {
   "cell_type": "code",
   "execution_count": 3,
   "id": "6a5964f6",
   "metadata": {},
   "outputs": [],
   "source": [
    "def choose(paragraphs, select, k):\n",
    "    \"\"\"Return the Kth paragraph from PARAGRAPHS for which SELECT called on the\n",
    "    paragraph returns True. If there are fewer than K such paragraphs, return\n",
    "    the empty string.\n",
    "\n",
    "    Arguments:\n",
    "        paragraphs: a list of strings\n",
    "        select: a function that returns True for paragraphs that can be selected\n",
    "        k: an integer\n",
    "\n",
    "    >>> ps = ['hi', 'how are you', 'fine']\n",
    "    >>> s = lambda p: len(p) <= 4\n",
    "    >>> choose(ps, s, 0)\n",
    "    'hi'\n",
    "    >>> choose(ps, s, 1)\n",
    "    'fine'\n",
    "    >>> choose(ps, s, 2)\n",
    "    ''\n",
    "    \"\"\"\n",
    "    # BEGIN PROBLEM 1\n",
    "    temp = []\n",
    "    \n",
    "    for paragraph in paragraphs:\n",
    "        if select(paragraph):\n",
    "            temp.append(paragraph)\n",
    "    \n",
    "    if k >= len(temp):\n",
    "        return \"\"\n",
    "    \n",
    "    return temp[k]\n",
    "\n",
    "    # END PROBLEM 1"
   ]
  },
  {
   "cell_type": "code",
   "execution_count": 27,
   "id": "0f98055e",
   "metadata": {},
   "outputs": [
    {
     "data": {
      "text/plain": [
       "'hi'"
      ]
     },
     "execution_count": 27,
     "metadata": {},
     "output_type": "execute_result"
    }
   ],
   "source": [
    "ps = ['hi', 'how are you', 'fine']\n",
    "s = lambda p: len(p) <= 4\n",
    "choose(ps, s, 0)"
   ]
  },
  {
   "cell_type": "code",
   "execution_count": 28,
   "id": "3e66d9b3",
   "metadata": {},
   "outputs": [
    {
     "data": {
      "text/plain": [
       "'fine'"
      ]
     },
     "execution_count": 28,
     "metadata": {},
     "output_type": "execute_result"
    }
   ],
   "source": [
    "choose(ps, s, 1)"
   ]
  },
  {
   "cell_type": "code",
   "execution_count": 29,
   "id": "b25d12a4",
   "metadata": {},
   "outputs": [
    {
     "data": {
      "text/plain": [
       "''"
      ]
     },
     "execution_count": 29,
     "metadata": {},
     "output_type": "execute_result"
    }
   ],
   "source": [
    "choose(ps, s, 2)"
   ]
  },
  {
   "cell_type": "code",
   "execution_count": 30,
   "id": "33ad08ab",
   "metadata": {},
   "outputs": [
    {
     "data": {
      "text/plain": [
       "'short'"
      ]
     },
     "execution_count": 30,
     "metadata": {},
     "output_type": "execute_result"
    }
   ],
   "source": [
    "ps = ['short', 'really long', 'tiny']\n",
    "s = lambda p: len(p) <= 5\n",
    "choose(ps, s, 0)"
   ]
  },
  {
   "cell_type": "code",
   "execution_count": 54,
   "id": "94d597b3",
   "metadata": {},
   "outputs": [],
   "source": [
    "def about(topic):\n",
    "    \"\"\"Return a select function that returns whether\n",
    "    a paragraph contains one of the words in TOPIC.\n",
    "\n",
    "    Arguments:\n",
    "        topic: a list of words related to a subject\n",
    "\n",
    "    >>> about_dogs = about(['dog', 'dogs', 'pup', 'puppy'])\n",
    "    >>> choose(['Cute Dog!', 'That is a cat.', 'Nice pup!'], about_dogs, 0)\n",
    "    'Cute Dog!'\n",
    "    >>> choose(['Cute Dog!', 'That is a cat.', 'Nice pup.'], about_dogs, 1)\n",
    "    'Nice pup.'\n",
    "    \"\"\"\n",
    "    assert all([lower(x) == x for x in topic]), 'topics should be lowercase.'\n",
    "    # BEGIN PROBLEM 2\n",
    "    \n",
    "    def compare(string):\n",
    "        # string = string.split(' ')\n",
    "        string = split(string)\n",
    "        for word in string:\n",
    "            for compare in topic:\n",
    "                temp = ''.join(x for x in word if x.isalnum())  # remove special characters\n",
    "                if temp.lower() == compare:\n",
    "                    return True\n",
    "        return False\n",
    "            \n",
    "    \n",
    "    return compare\n",
    "    # END PROBLEM 2"
   ]
  },
  {
   "cell_type": "code",
   "execution_count": 55,
   "id": "3f25f53b",
   "metadata": {},
   "outputs": [
    {
     "data": {
      "text/plain": [
       "'Cute Dog'"
      ]
     },
     "execution_count": 55,
     "metadata": {},
     "output_type": "execute_result"
    }
   ],
   "source": [
    "about_dogs = about(['dog', 'dogs', 'pup', 'puppy'])\n",
    "choose(['Cute Dog', 'That is a cat.', 'Nice pup!'], about_dogs, 0)"
   ]
  },
  {
   "cell_type": "code",
   "execution_count": 56,
   "id": "ab876aee",
   "metadata": {},
   "outputs": [
    {
     "data": {
      "text/plain": [
       "False"
      ]
     },
     "execution_count": 56,
     "metadata": {},
     "output_type": "execute_result"
    }
   ],
   "source": [
    "dogs = about(['dogs', 'hounds']) \n",
    "dogs(\"AdogsParagraph\") # False\n"
   ]
  },
  {
   "cell_type": "code",
   "execution_count": null,
   "id": "c9ff7cad",
   "metadata": {},
   "outputs": [],
   "source": []
  },
  {
   "cell_type": "code",
   "execution_count": 127,
   "id": "1da224c3",
   "metadata": {},
   "outputs": [],
   "source": [
    "def accuracy(typed, reference):\n",
    "    \"\"\"Return the accuracy (percentage of words typed correctly) of TYPED\n",
    "    when compared to the prefix of REFERENCE that was typed.\n",
    "\n",
    "    Arguments:\n",
    "        typed: a string that may contain typos\n",
    "        reference: a string without errors\n",
    "\n",
    "    >>> accuracy('Cute Dog!', 'Cute Dog.')\n",
    "    50.0\n",
    "    >>> accuracy('A Cute Dog!', 'Cute Dog.')\n",
    "    0.0\n",
    "    >>> accuracy('cute Dog.', 'Cute Dog.')\n",
    "    50.0\n",
    "    >>> accuracy('Cute Dog. I say!', 'Cute Dog.')\n",
    "    50.0\n",
    "    >>> accuracy('Cute', 'Cute Dog.')\n",
    "    100.0\n",
    "    >>> accuracy('', 'Cute Dog.')\n",
    "    0.0\n",
    "    >>> accuracy('', '')\n",
    "    100.0\n",
    "    \"\"\"\n",
    "    typed_words = split(typed)\n",
    "    reference_words = split(reference)\n",
    "    # BEGIN PROBLEM 3\n",
    "    \n",
    "    typed_len = len(typed_words)\n",
    "    reference_len = len(reference_words)\n",
    "    error_count = 0\n",
    "    \n",
    "    if typed_len == reference_len:\n",
    "        if not typed_words: # if both of strings are empty\n",
    "            return 100.0\n",
    "        \n",
    "        for i in range(typed_len):\n",
    "            if typed_words[i] != reference_words[i]:\n",
    "                error_count += 1\n",
    "                \n",
    "        if error_count == 0:\n",
    "            return 100.0\n",
    "        \n",
    "        return 100 - error_count / typed_len * 100\n",
    "\n",
    "    elif typed_len > reference_len:\n",
    "        if not reference_len:\n",
    "            return 0.0\n",
    "        \n",
    "        for i in range(reference_len):\n",
    "            if typed_words[i] != reference_words[i]:\n",
    "                error_count += 1\n",
    "\n",
    "        return 100 - (typed_len - reference_len + error_count) / typed_len * 100\n",
    "    \n",
    "    else:\n",
    "        if not typed_len:\n",
    "            return 0.0\n",
    "        \n",
    "        for i in range(typed_len):\n",
    "            if typed_words[i] != reference_words[i]:\n",
    "                error_count += 1\n",
    "                \n",
    "        return (typed_len - error_count) / typed_len * 100\n",
    "    # END PROBLEM 3\n"
   ]
  },
  {
   "cell_type": "code",
   "execution_count": 128,
   "id": "b2453e5e",
   "metadata": {},
   "outputs": [
    {
     "data": {
      "text/plain": [
       "0.0"
      ]
     },
     "execution_count": 128,
     "metadata": {},
     "output_type": "execute_result"
    }
   ],
   "source": [
    "accuracy(\"a b\", \"c d e\")"
   ]
  },
  {
   "cell_type": "code",
   "execution_count": 124,
   "id": "6f2fed8d",
   "metadata": {},
   "outputs": [
    {
     "data": {
      "text/plain": [
       "100.0"
      ]
     },
     "execution_count": 124,
     "metadata": {},
     "output_type": "execute_result"
    }
   ],
   "source": [
    "accuracy('Cute', 'Cute Dog.') # 100"
   ]
  },
  {
   "cell_type": "code",
   "execution_count": 125,
   "id": "9bd6b6a4",
   "metadata": {},
   "outputs": [
    {
     "data": {
      "text/plain": [
       "100.0"
      ]
     },
     "execution_count": 125,
     "metadata": {},
     "output_type": "execute_result"
    }
   ],
   "source": [
    "accuracy('Cute', 'Cute Dog.')"
   ]
  },
  {
   "cell_type": "code",
   "execution_count": 85,
   "id": "68a36187",
   "metadata": {
    "scrolled": true
   },
   "outputs": [
    {
     "data": {
      "text/plain": [
       "50.0"
      ]
     },
     "execution_count": 85,
     "metadata": {},
     "output_type": "execute_result"
    }
   ],
   "source": [
    "accuracy('Cute Dog!', 'Cute Dog.')"
   ]
  },
  {
   "cell_type": "code",
   "execution_count": 110,
   "id": "0b9e800c",
   "metadata": {},
   "outputs": [
    {
     "data": {
      "text/plain": [
       "100.0"
      ]
     },
     "execution_count": 110,
     "metadata": {},
     "output_type": "execute_result"
    }
   ],
   "source": [
    "accuracy(\"Cat\", \"cat\")"
   ]
  },
  {
   "cell_type": "code",
   "execution_count": 111,
   "id": "19f129f8",
   "metadata": {},
   "outputs": [
    {
     "data": {
      "text/plain": [
       "False"
      ]
     },
     "execution_count": 111,
     "metadata": {},
     "output_type": "execute_result"
    }
   ],
   "source": [
    "\"Cat\" == \"cat\""
   ]
  },
  {
   "cell_type": "code",
   "execution_count": 146,
   "id": "d3b2d244",
   "metadata": {},
   "outputs": [],
   "source": [
    "def wpm(typed, elapsed):\n",
    "    \"\"\"Return the words-per-minute (WPM) of the TYPED string.\n",
    "\n",
    "    Arguments:\n",
    "        typed: an entered string\n",
    "        elapsed: an amount of time in seconds\n",
    "\n",
    "    >>> wpm('hello friend hello buddy hello', 15) -> num of space:4, total characters: 30, time:15/60\n",
    "    24.0\n",
    "    >>> wpm('0123456789',60)\n",
    "    2.0\n",
    "    \"\"\"\n",
    "    assert elapsed > 0, 'Elapsed time must be positive'\n",
    "    # BEGIN PROBLEM 4\n",
    "    \n",
    "    return len(typed) * 12 / elapsed # len(typed) / 5 / (elapsed / 60)\n",
    "    \n",
    "    # END PROBLEM 4"
   ]
  },
  {
   "cell_type": "code",
   "execution_count": 149,
   "id": "d84770d4",
   "metadata": {},
   "outputs": [
    {
     "data": {
      "text/plain": [
       "24.0"
      ]
     },
     "execution_count": 149,
     "metadata": {},
     "output_type": "execute_result"
    }
   ],
   "source": [
    "wpm('hello friend hello buddy hello', 15)"
   ]
  },
  {
   "cell_type": "code",
   "execution_count": 151,
   "id": "5b4a67e5",
   "metadata": {},
   "outputs": [
    {
     "data": {
      "text/plain": [
       "4.0"
      ]
     },
     "execution_count": 151,
     "metadata": {},
     "output_type": "execute_result"
    }
   ],
   "source": [
    "wpm(\"I am glad!\", 30)"
   ]
  },
  {
   "cell_type": "code",
   "execution_count": 152,
   "id": "43089df9",
   "metadata": {
    "scrolled": true
   },
   "outputs": [
    {
     "data": {
      "text/plain": [
       "20.0"
      ]
     },
     "execution_count": 152,
     "metadata": {},
     "output_type": "execute_result"
    }
   ],
   "source": [
    "wpm('12345', 3)"
   ]
  },
  {
   "cell_type": "code",
   "execution_count": 153,
   "id": "e74d86f1",
   "metadata": {},
   "outputs": [
    {
     "data": {
      "text/plain": [
       "3.0"
      ]
     },
     "execution_count": 153,
     "metadata": {},
     "output_type": "execute_result"
    }
   ],
   "source": [
    "wpm('a b c', 20)"
   ]
  },
  {
   "cell_type": "code",
   "execution_count": 154,
   "id": "d5306914",
   "metadata": {},
   "outputs": [
    {
     "data": {
      "text/plain": [
       "0.0"
      ]
     },
     "execution_count": 154,
     "metadata": {},
     "output_type": "execute_result"
    }
   ],
   "source": [
    "wpm('', 10)"
   ]
  },
  {
   "cell_type": "code",
   "execution_count": 38,
   "id": "2432ccb3",
   "metadata": {},
   "outputs": [
    {
     "data": {
      "text/plain": [
       "30"
      ]
     },
     "execution_count": 38,
     "metadata": {},
     "output_type": "execute_result"
    }
   ],
   "source": [
    "len('hello friend hello buddy hello')"
   ]
  },
  {
   "cell_type": "code",
   "execution_count": 130,
   "id": "323a6d3c",
   "metadata": {},
   "outputs": [
    {
     "data": {
      "text/plain": [
       "24.0"
      ]
     },
     "execution_count": 130,
     "metadata": {},
     "output_type": "execute_result"
    }
   ],
   "source": [
    "30/5 / (15/60)"
   ]
  },
  {
   "cell_type": "code",
   "execution_count": 136,
   "id": "421084db",
   "metadata": {},
   "outputs": [
    {
     "data": {
      "text/plain": [
       "2.0"
      ]
     },
     "execution_count": 136,
     "metadata": {},
     "output_type": "execute_result"
    }
   ],
   "source": [
    "10/5/(60/60)"
   ]
  },
  {
   "cell_type": "code",
   "execution_count": null,
   "id": "96d1dca4",
   "metadata": {},
   "outputs": [],
   "source": []
  }
 ],
 "metadata": {
  "kernelspec": {
   "display_name": "Python 3",
   "language": "python",
   "name": "python3"
  },
  "language_info": {
   "codemirror_mode": {
    "name": "ipython",
    "version": 3
   },
   "file_extension": ".py",
   "mimetype": "text/x-python",
   "name": "python",
   "nbconvert_exporter": "python",
   "pygments_lexer": "ipython3",
   "version": "3.8.11"
  }
 },
 "nbformat": 4,
 "nbformat_minor": 5
}
