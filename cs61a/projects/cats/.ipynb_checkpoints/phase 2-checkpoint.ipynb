{
 "cells": [
  {
   "cell_type": "code",
   "execution_count": 1,
   "id": "e4373590",
   "metadata": {},
   "outputs": [],
   "source": [
    "def choose(paragraphs, select, k):\n",
    "    \"\"\"Return the Kth paragraph from PARAGRAPHS for which SELECT called on the\n",
    "    paragraph returns True. If there are fewer than K such paragraphs, return\n",
    "    the empty string.\n",
    "\n",
    "    Arguments:\n",
    "        paragraphs: a list of strings\n",
    "        select: a function that returns True for paragraphs that can be selected\n",
    "        k: an integer\n",
    "\n",
    "    >>> ps = ['hi', 'how are you', 'fine']\n",
    "    >>> s = lambda p: len(p) <= 4\n",
    "    >>> choose(ps, s, 0)\n",
    "    'hi'\n",
    "    >>> choose(ps, s, 1)\n",
    "    'fine'\n",
    "    >>> choose(ps, s, 2)\n",
    "    ''\n",
    "    \"\"\"\n",
    "    # BEGIN PROBLEM 1\n",
    "    temp = []\n",
    "    \n",
    "    for paragraph in paragraphs:\n",
    "        if select(paragraph):\n",
    "            temp.append(paragraph)\n",
    "    \n",
    "    if k >= len(temp):\n",
    "        return \"\"\n",
    "    \n",
    "    return temp[k]\n",
    "\n",
    "    # END PROBLEM 1\n",
    "    \n",
    "def about(topic):\n",
    "    \"\"\"Return a select function that returns whether\n",
    "    a paragraph contains one of the words in TOPIC.\n",
    "\n",
    "    Arguments:\n",
    "        topic: a list of words related to a subject\n",
    "\n",
    "    >>> about_dogs = about(['dog', 'dogs', 'pup', 'puppy'])\n",
    "    >>> choose(['Cute Dog!', 'That is a cat.', 'Nice pup!'], about_dogs, 0)\n",
    "    'Cute Dog!'\n",
    "    >>> choose(['Cute Dog!', 'That is a cat.', 'Nice pup.'], about_dogs, 1)\n",
    "    'Nice pup.'\n",
    "    \"\"\"\n",
    "    assert all([lower(x) == x for x in topic]), 'topics should be lowercase.'\n",
    "    # BEGIN PROBLEM 2\n",
    "    \n",
    "    def compare(string):\n",
    "        # string = string.split(' ')\n",
    "        string = split(string)\n",
    "        for word in string:\n",
    "            for compare in topic:\n",
    "                temp = ''.join(x for x in word if x.isalnum())  # remove special characters\n",
    "                if temp.lower() == compare:\n",
    "                    return True\n",
    "        return False\n",
    "            \n",
    "    \n",
    "    return compare\n",
    "    # END PROBLEM 2\n",
    "    \n",
    "def accuracy(typed, reference):\n",
    "    \"\"\"Return the accuracy (percentage of words typed correctly) of TYPED\n",
    "    when compared to the prefix of REFERENCE that was typed.\n",
    "\n",
    "    Arguments:\n",
    "        typed: a string that may contain typos\n",
    "        reference: a string without errors\n",
    "\n",
    "    >>> accuracy('Cute Dog!', 'Cute Dog.')\n",
    "    50.0\n",
    "    >>> accuracy('A Cute Dog!', 'Cute Dog.')\n",
    "    0.0\n",
    "    >>> accuracy('cute Dog.', 'Cute Dog.')\n",
    "    50.0\n",
    "    >>> accuracy('Cute Dog. I say!', 'Cute Dog.')\n",
    "    50.0\n",
    "    >>> accuracy('Cute', 'Cute Dog.')\n",
    "    100.0\n",
    "    >>> accuracy('', 'Cute Dog.')\n",
    "    0.0\n",
    "    >>> accuracy('', '')\n",
    "    100.0\n",
    "    \"\"\"\n",
    "    typed_words = split(typed)\n",
    "    reference_words = split(reference)\n",
    "    # BEGIN PROBLEM 3\n",
    "    \n",
    "    typed_len = len(typed_words)\n",
    "    reference_len = len(reference_words)\n",
    "    error_count = 0\n",
    "    \n",
    "    if typed_len == reference_len:\n",
    "        if not typed_words: # if both of strings are empty\n",
    "            return 100.0\n",
    "        \n",
    "        for i in range(typed_len):\n",
    "            if typed_words[i] != reference_words[i]:\n",
    "                error_count += 1\n",
    "                \n",
    "        if error_count == 0:\n",
    "            return 100.0\n",
    "        \n",
    "        return 100 - error_count / typed_len * 100\n",
    "\n",
    "    elif typed_len > reference_len:\n",
    "        if not reference_len:\n",
    "            return 0.0\n",
    "        \n",
    "        for i in range(reference_len):\n",
    "            if typed_words[i] != reference_words[i]:\n",
    "                error_count += 1\n",
    "\n",
    "        return 100 - (typed_len - reference_len + error_count) / typed_len * 100\n",
    "    \n",
    "    else:\n",
    "        if not typed_len:\n",
    "            return 0.0\n",
    "        \n",
    "        for i in range(typed_len):\n",
    "            if typed_words[i] != reference_words[i]:\n",
    "                error_count += 1\n",
    "                \n",
    "        return (typed_len - error_count) / typed_len * 100\n",
    "    # END PROBLEM 3\n",
    "\n",
    "def wpm(typed, elapsed):\n",
    "    \"\"\"Return the words-per-minute (WPM) of the TYPED string.\n",
    "\n",
    "    Arguments:\n",
    "        typed: an entered string\n",
    "        elapsed: an amount of time in seconds\n",
    "\n",
    "    >>> wpm('hello friend hello buddy hello', 15) -> num of space:4, total characters: 30, time:15/60\n",
    "    24.0\n",
    "    >>> wpm('0123456789',60)\n",
    "    2.0\n",
    "    \"\"\"\n",
    "    assert elapsed > 0, 'Elapsed time must be positive'\n",
    "    # BEGIN PROBLEM 4\n",
    "    \n",
    "    return len(typed) * 12 / elapsed # len(typed) / 5 / (elapsed / 60)\n",
    "    \n",
    "    # END PROBLEM 4"
   ]
  },
  {
   "cell_type": "code",
   "execution_count": 144,
   "id": "acbee7d9",
   "metadata": {},
   "outputs": [],
   "source": [
    "def autocorrect(typed_word, valid_words, diff_function, limit):\n",
    "    \"\"\"Returns the element of VALID_WORDS that has the smallest difference\n",
    "    from TYPED_WORD. Instead returns TYPED_WORD if that difference is greater\n",
    "    than LIMIT.\n",
    "\n",
    "    Arguments:\n",
    "        typed_word: a string representing a word that may contain typos\n",
    "        valid_words: a list of strings representing valid words\n",
    "        diff_function: a function quantifying the difference between two words\n",
    "        limit: a number\n",
    "\n",
    "    >>> ten_diff = lambda w1, w2, limit: 10 # Always returns 10\n",
    "    >>> autocorrect(\"hwllo\", [\"butter\", \"hello\", \"potato\"], ten_diff, 20)\n",
    "    'butter'\n",
    "    >>> first_diff = lambda w1, w2, limit: (1 if w1[0] != w2[0] else 0) # Checks for matching first char\n",
    "    >>> autocorrect(\"tosting\", [\"testing\", \"asking\", \"fasting\"], first_diff, 10)\n",
    "    'testing'\n",
    "    \"\"\"\n",
    "    # BEGIN PROBLEM 5\n",
    "    \n",
    "    diff = []\n",
    "    for word in valid_words:\n",
    "        if word == typed_word:\n",
    "            return word\n",
    "        diff.append(diff_function(typed_word, word, limit))\n",
    "    \n",
    "    if min(diff) <= limit:\n",
    "        return valid_words[diff.index(min(diff))]\n",
    "    else:\n",
    "        return typed_word\n",
    "    \n",
    "    \n",
    "    \"\"\" elif round(limit) == 0:\n",
    "        return typed_word\n",
    "    \n",
    "    elif limit >= len(valid_words):\n",
    "        return typed_word\n",
    "    \n",
    "    else:\n",
    "        return typed_word\"\"\"\n",
    "    \n",
    "    \n",
    "    \n",
    "    # END PROBLEM 5"
   ]
  },
  {
   "cell_type": "code",
   "execution_count": 127,
   "id": "0099a196",
   "metadata": {},
   "outputs": [
    {
     "data": {
      "text/plain": [
       "'butter'"
      ]
     },
     "execution_count": 127,
     "metadata": {},
     "output_type": "execute_result"
    }
   ],
   "source": [
    "ten_diff = lambda w1, w2, limit: 10\n",
    "autocorrect(\"hwllo\", [\"butter\", \"hello\", \"potato\"], ten_diff, 20) # butter"
   ]
  },
  {
   "cell_type": "code",
   "execution_count": 128,
   "id": "03268689",
   "metadata": {},
   "outputs": [
    {
     "data": {
      "text/plain": [
       "'testing'"
      ]
     },
     "execution_count": 128,
     "metadata": {},
     "output_type": "execute_result"
    }
   ],
   "source": [
    "first_diff = lambda w1, w2, limit: (1 if w1[0] != w2[0] else 0)\n",
    "autocorrect(\"tosting\", [\"testing\", \"asking\", \"fasting\"], first_diff, 10) # testing"
   ]
  },
  {
   "cell_type": "code",
   "execution_count": 129,
   "id": "b1c009b4",
   "metadata": {},
   "outputs": [
    {
     "data": {
      "text/plain": [
       "'cult'"
      ]
     },
     "execution_count": 129,
     "metadata": {},
     "output_type": "execute_result"
    }
   ],
   "source": [
    "abs_diff = lambda w1, w2, limit: abs(len(w2) - len(w1))\n",
    "autocorrect(\"cul\", [\"culture\", \"cult\", \"cultivate\"], abs_diff, 10) # cult"
   ]
  },
  {
   "cell_type": "code",
   "execution_count": 130,
   "id": "13d05a09",
   "metadata": {},
   "outputs": [
    {
     "data": {
      "text/plain": [
       "'cul'"
      ]
     },
     "execution_count": 130,
     "metadata": {},
     "output_type": "execute_result"
    }
   ],
   "source": [
    "autocorrect(\"cul\", [\"culture\", \"cult\", \"cultivate\"], abs_diff, 0) # cul"
   ]
  },
  {
   "cell_type": "code",
   "execution_count": 131,
   "id": "a48ec6aa",
   "metadata": {},
   "outputs": [
    {
     "data": {
      "text/plain": [
       "'car'"
      ]
     },
     "execution_count": 131,
     "metadata": {},
     "output_type": "execute_result"
    }
   ],
   "source": [
    "autocorrect(\"wor\", [\"worry\", \"car\", \"part\"], abs_diff, 10)"
   ]
  },
  {
   "cell_type": "code",
   "execution_count": 132,
   "id": "c86c451e",
   "metadata": {},
   "outputs": [
    {
     "data": {
      "text/plain": [
       "'word'"
      ]
     },
     "execution_count": 132,
     "metadata": {},
     "output_type": "execute_result"
    }
   ],
   "source": [
    "first_diff = lambda w1, w2, limit: 1 if w1[0] != w2[0] else 0\n",
    "autocorrect(\"wrod\", [\"word\", \"rod\"], first_diff, 1) # word"
   ]
  },
  {
   "cell_type": "code",
   "execution_count": 133,
   "id": "9b1915b2",
   "metadata": {},
   "outputs": [
    {
     "data": {
      "text/plain": [
       "'inside'"
      ]
     },
     "execution_count": 133,
     "metadata": {},
     "output_type": "execute_result"
    }
   ],
   "source": [
    "first_diff = lambda w1, w2, limit: 1 if w1[0] != w2[0] else 0\n",
    "autocorrect(\"inside\", [\"idea\", \"inside\"], first_diff, 0.5) # inside /// how limit works?\n",
    "\n",
    "# both of words show: 0, 0"
   ]
  },
  {
   "cell_type": "code",
   "execution_count": 134,
   "id": "400a85aa",
   "metadata": {},
   "outputs": [
    {
     "data": {
      "text/plain": [
       "'idea'"
      ]
     },
     "execution_count": 134,
     "metadata": {},
     "output_type": "execute_result"
    }
   ],
   "source": [
    "autocorrect(\"inside\", [\"idea\", \"insider\"], first_diff, 0.5) # idea"
   ]
  },
  {
   "cell_type": "code",
   "execution_count": 135,
   "id": "1af9eb38",
   "metadata": {
    "scrolled": true
   },
   "outputs": [
    {
     "data": {
      "text/plain": [
       "'outside'"
      ]
     },
     "execution_count": 135,
     "metadata": {},
     "output_type": "execute_result"
    }
   ],
   "source": [
    "autocorrect(\"outside\", [\"idea\", \"insider\"], first_diff, 0.5) # outside"
   ]
  },
  {
   "cell_type": "code",
   "execution_count": null,
   "id": "6b33842f",
   "metadata": {},
   "outputs": [],
   "source": []
  },
  {
   "cell_type": "code",
   "execution_count": 122,
   "id": "1a129efc",
   "metadata": {},
   "outputs": [
    {
     "data": {
      "text/plain": [
       "'idea'"
      ]
     },
     "execution_count": 122,
     "metadata": {},
     "output_type": "execute_result"
    }
   ],
   "source": [
    "autocorrect(\"inside\", [\"idea\", \"inside\"], first_diff, 0.5) # inside"
   ]
  },
  {
   "cell_type": "code",
   "execution_count": 123,
   "id": "519564b1",
   "metadata": {},
   "outputs": [
    {
     "data": {
      "text/plain": [
       "'idea'"
      ]
     },
     "execution_count": 123,
     "metadata": {},
     "output_type": "execute_result"
    }
   ],
   "source": [
    "\n",
    "autocorrect(\"inside\", [\"idea\", \"insider\"], first_diff, 0.5) # idea"
   ]
  },
  {
   "cell_type": "code",
   "execution_count": 142,
   "id": "b2864ac7",
   "metadata": {},
   "outputs": [
    {
     "data": {
      "text/plain": [
       "'foelike'"
      ]
     },
     "execution_count": 142,
     "metadata": {},
     "output_type": "execute_result"
    }
   ],
   "source": [
    "autocorrect('foelike', ['nonpublication'], lambda x, y, lim: min(lim + 1, abs(len(x) - len(y))), 1)"
   ]
  },
  {
   "cell_type": "code",
   "execution_count": 145,
   "id": "01ccba65",
   "metadata": {},
   "outputs": [
    {
     "name": "stdout",
     "output_type": "stream",
     "text": [
      "[2, 2, 2, 2]\n"
     ]
    },
    {
     "data": {
      "text/plain": [
       "'excecate'"
      ]
     },
     "execution_count": 145,
     "metadata": {},
     "output_type": "execute_result"
    }
   ],
   "source": [
    "autocorrect('panichthyophagous', ['involucriform', 'excecate', 'patrist', 'rhamnohexite'],\n",
    "            lambda x, y, lim: min(lim + 1, abs(len(x) - len(y))), 1)\n",
    "# 'panichthyophagous'\n"
   ]
  },
  {
   "cell_type": "code",
   "execution_count": 192,
   "id": "4b2c291e",
   "metadata": {},
   "outputs": [],
   "source": [
    "def feline_flips(start, goal, limit):\n",
    "    \"\"\"A diff function for autocorrect that determines how many letters\n",
    "    in START need to be substituted to create GOAL, then adds the difference in\n",
    "    their lengths and returns the result.\n",
    "\n",
    "    Arguments:\n",
    "        start: a starting word\n",
    "        goal: a string representing a desired goal word\n",
    "        limit: a number representing an upper bound on the number of chars that must change\n",
    "\n",
    "    >>> big_limit = 10\n",
    "    >>> feline_flips(\"nice\", \"rice\", big_limit)    # Substitute: n -> r\n",
    "    1\n",
    "    >>> feline_flips(\"range\", \"rungs\", big_limit)  # Substitute: a -> u, e -> s\n",
    "    2\n",
    "    >>> feline_flips(\"pill\", \"pillage\", big_limit) # Don't substitute anything, length difference of 3.\n",
    "    3\n",
    "    >>> feline_flips(\"roses\", \"arose\", big_limit)  # Substitute: r -> a, o -> r, s -> o, e -> s, s -> e\n",
    "    5\n",
    "    >>> feline_flips(\"rose\", \"hello\", big_limit)   # Substitute: r->h, o->e, s->l, e->l, length difference of 1.\n",
    "    5\n",
    "    \"\"\"\n",
    "    # BEGIN PROBLEM 6\n",
    "    # END PROBLEM 6\n",
    "    \n",
    "    error_count = 0\n",
    "    len_start = len(start)\n",
    "    len_goal = len(goal)\n",
    "    \n",
    "    for i in range(min(len_start, len_goal)):\n",
    "        if start[i] != goal[i]:\n",
    "            error_count += 1\n",
    "    \n",
    "    total_error = error_count + abs(len_start - len_goal)\n",
    "    \n",
    "    if total_error <= limit:\n",
    "        return total_error\n",
    "    return limit + 1\n",
    "    \n",
    "    \n",
    "    \n",
    "    \"\"\"def limit_check(correction, limitation):\n",
    "        if correction > limitation:\n",
    "            return limitation + 1\n",
    "        else:\n",
    "            return correction\n",
    "    \n",
    "    if len_start == len_goal:\n",
    "        for ch_start, ch_goal in zip(start, goal):\n",
    "            if ch_start != ch_goal:\n",
    "                error_count += 1\n",
    "                \n",
    "        limit_check(error_count, limit)\n",
    "    \n",
    "    elif len_start < len_goal:\n",
    "        for i in range(len_start):\n",
    "            if start[i] != goal[i]:\n",
    "                error_count += 1\n",
    "        \n",
    "        limit_check(error_count + len_goal - len_start, limit)\n",
    "    \n",
    "    else:\n",
    "        for i in range(len_goal):\n",
    "            if start[i] != goal[i]:\n",
    "                error_count += 1\n",
    "        limit_check(error_count + len_start - len_goal, limit)\"\"\""
   ]
  },
  {
   "cell_type": "code",
   "execution_count": 180,
   "id": "a72ebeb4",
   "metadata": {},
   "outputs": [
    {
     "data": {
      "text/plain": [
       "1"
      ]
     },
     "execution_count": 180,
     "metadata": {},
     "output_type": "execute_result"
    }
   ],
   "source": [
    "big_limit = 10\n",
    "feline_flips(\"nice\", \"rice\", big_limit)"
   ]
  },
  {
   "cell_type": "code",
   "execution_count": 181,
   "id": "86f5f869",
   "metadata": {},
   "outputs": [
    {
     "data": {
      "text/plain": [
       "2"
      ]
     },
     "execution_count": 181,
     "metadata": {},
     "output_type": "execute_result"
    }
   ],
   "source": [
    "feline_flips(\"range\", \"rungs\", big_limit)"
   ]
  },
  {
   "cell_type": "code",
   "execution_count": 182,
   "id": "8805d238",
   "metadata": {},
   "outputs": [
    {
     "data": {
      "text/plain": [
       "5"
      ]
     },
     "execution_count": 182,
     "metadata": {},
     "output_type": "execute_result"
    }
   ],
   "source": [
    "feline_flips(\"rose\", \"hello\", big_limit)"
   ]
  },
  {
   "cell_type": "code",
   "execution_count": 183,
   "id": "ef26a04e",
   "metadata": {},
   "outputs": [
    {
     "data": {
      "text/plain": [
       "5"
      ]
     },
     "execution_count": 183,
     "metadata": {},
     "output_type": "execute_result"
    }
   ],
   "source": [
    "feline_flips(\"roses\", \"arose\", big_limit)"
   ]
  },
  {
   "cell_type": "code",
   "execution_count": 188,
   "id": "963b4ac6",
   "metadata": {},
   "outputs": [
    {
     "data": {
      "text/plain": [
       "True"
      ]
     },
     "execution_count": 188,
     "metadata": {},
     "output_type": "execute_result"
    }
   ],
   "source": [
    "feline_flips(\"awful\", \"awesome\", 3) > 3 # True"
   ]
  },
  {
   "cell_type": "code",
   "execution_count": 193,
   "id": "4c852665",
   "metadata": {},
   "outputs": [
    {
     "data": {
      "text/plain": [
       "False"
      ]
     },
     "execution_count": 193,
     "metadata": {},
     "output_type": "execute_result"
    }
   ],
   "source": [
    "feline_flips(\"awful\", \"awesome\", 5) > 5"
   ]
  },
  {
   "cell_type": "code",
   "execution_count": 185,
   "id": "f3044e11",
   "metadata": {},
   "outputs": [
    {
     "data": {
      "text/plain": [
       "True"
      ]
     },
     "execution_count": 185,
     "metadata": {},
     "output_type": "execute_result"
    }
   ],
   "source": [
    "feline_flips(\"awful\", \"awesome\", 4) > 4"
   ]
  },
  {
   "cell_type": "code",
   "execution_count": 186,
   "id": "49c7aae6",
   "metadata": {},
   "outputs": [
    {
     "data": {
      "text/plain": [
       "True"
      ]
     },
     "execution_count": 186,
     "metadata": {},
     "output_type": "execute_result"
    }
   ],
   "source": [
    "limit = 4\n",
    "feline_flips(\"roses\", \"arose\", limit) > limit"
   ]
  },
  {
   "cell_type": "code",
   "execution_count": 187,
   "id": "cb78c6fc",
   "metadata": {},
   "outputs": [
    {
     "data": {
      "text/plain": [
       "True"
      ]
     },
     "execution_count": 187,
     "metadata": {},
     "output_type": "execute_result"
    }
   ],
   "source": [
    "feline_flips(\"rosesabcdefghijklm\", \"arosenopqrstuvwxyz\", limit) > limit"
   ]
  },
  {
   "cell_type": "code",
   "execution_count": 194,
   "id": "b5cb2e42",
   "metadata": {},
   "outputs": [],
   "source": [
    "small_words_list = [\"spell\", \"nest\", \"test\", \"pest\", \"best\", \"bird\", \"wired\",\n",
    "...                     \"abstraction\", \"abstract\", \"peeling\", \"gestate\", \"west\",\n",
    "...                     \"spelling\", \"bastion\"]"
   ]
  },
  {
   "cell_type": "code",
   "execution_count": 195,
   "id": "22eea204",
   "metadata": {},
   "outputs": [
    {
     "name": "stdout",
     "output_type": "stream",
     "text": [
      "[3, 7, 7, 7, 7, 7, 7, 11, 8, 2, 7, 7, 4, 6]\n"
     ]
    },
    {
     "data": {
      "text/plain": [
       "'peeling'"
      ]
     },
     "execution_count": 195,
     "metadata": {},
     "output_type": "execute_result"
    }
   ],
   "source": [
    "autocorrect(\"speling\", small_words_list, feline_flips, 10)"
   ]
  },
  {
   "cell_type": "code",
   "execution_count": 196,
   "id": "c12b4f89",
   "metadata": {},
   "outputs": [
    {
     "name": "stdout",
     "output_type": "stream",
     "text": [
      "[5, 1, 1, 1, 1, 4, 5, 9, 6, 6, 3, 1, 8, 5]\n"
     ]
    },
    {
     "data": {
      "text/plain": [
       "'nest'"
      ]
     },
     "execution_count": 196,
     "metadata": {},
     "output_type": "execute_result"
    }
   ],
   "source": [
    "autocorrect(\"gest\", small_words_list, feline_flips, 10)\n"
   ]
  },
  {
   "cell_type": "code",
   "execution_count": null,
   "id": "047103cb",
   "metadata": {},
   "outputs": [],
   "source": []
  }
 ],
 "metadata": {
  "kernelspec": {
   "display_name": "Python 3",
   "language": "python",
   "name": "python3"
  },
  "language_info": {
   "codemirror_mode": {
    "name": "ipython",
    "version": 3
   },
   "file_extension": ".py",
   "mimetype": "text/x-python",
   "name": "python",
   "nbconvert_exporter": "python",
   "pygments_lexer": "ipython3",
   "version": "3.8.11"
  }
 },
 "nbformat": 4,
 "nbformat_minor": 5
}
