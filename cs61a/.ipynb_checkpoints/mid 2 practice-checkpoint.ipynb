{
 "cells": [
  {
   "cell_type": "markdown",
   "id": "40a80b24",
   "metadata": {},
   "source": [
    "### lambda"
   ]
  },
  {
   "cell_type": "code",
   "execution_count": 2,
   "id": "b4053d68",
   "metadata": {},
   "outputs": [
    {
     "data": {
      "text/plain": [
       "7"
      ]
     },
     "execution_count": 2,
     "metadata": {},
     "output_type": "execute_result"
    }
   ],
   "source": [
    "def add(x, y):\n",
    "    return x + y\n",
    "\n",
    "add(3, 4)"
   ]
  },
  {
   "cell_type": "code",
   "execution_count": 4,
   "id": "e31a88be",
   "metadata": {},
   "outputs": [
    {
     "data": {
      "text/plain": [
       "7"
      ]
     },
     "execution_count": 4,
     "metadata": {},
     "output_type": "execute_result"
    }
   ],
   "source": [
    "(lambda x, y: x + y)(3, 4)"
   ]
  },
  {
   "cell_type": "code",
   "execution_count": 5,
   "id": "defdd1a8",
   "metadata": {},
   "outputs": [
    {
     "data": {
      "text/plain": [
       "<map at 0x7fa0c9034b80>"
      ]
     },
     "execution_count": 5,
     "metadata": {},
     "output_type": "execute_result"
    }
   ],
   "source": [
    "map(lambda x: x ** 2, range(5))"
   ]
  },
  {
   "cell_type": "code",
   "execution_count": 6,
   "id": "328cf473",
   "metadata": {},
   "outputs": [
    {
     "data": {
      "text/plain": [
       "[0, 1, 4, 9, 16]"
      ]
     },
     "execution_count": 6,
     "metadata": {},
     "output_type": "execute_result"
    }
   ],
   "source": [
    "list(map(lambda x: x ** 2, range(5)))"
   ]
  },
  {
   "cell_type": "code",
   "execution_count": 11,
   "id": "787cd4c4",
   "metadata": {},
   "outputs": [
    {
     "data": {
      "text/plain": [
       "999"
      ]
     },
     "execution_count": 11,
     "metadata": {},
     "output_type": "execute_result"
    }
   ],
   "source": [
    "(lambda x: 10 if x == 10 else 999)(9)"
   ]
  },
  {
   "cell_type": "markdown",
   "id": "25e4acfc",
   "metadata": {},
   "source": [
    "### high-order function (HOF)"
   ]
  },
  {
   "cell_type": "code",
   "execution_count": 12,
   "id": "c3226233",
   "metadata": {},
   "outputs": [],
   "source": [
    "def add(x):\n",
    "    \n",
    "    def add_2(y):\n",
    "        return x + y\n",
    "    return add_2"
   ]
  },
  {
   "cell_type": "code",
   "execution_count": 14,
   "id": "ab183243",
   "metadata": {},
   "outputs": [
    {
     "data": {
      "text/plain": [
       "30"
      ]
     },
     "execution_count": 14,
     "metadata": {},
     "output_type": "execute_result"
    }
   ],
   "source": [
    "add(10)(20)"
   ]
  },
  {
   "cell_type": "code",
   "execution_count": 15,
   "id": "14e00b1a",
   "metadata": {},
   "outputs": [
    {
     "data": {
      "text/plain": [
       "30"
      ]
     },
     "execution_count": 15,
     "metadata": {},
     "output_type": "execute_result"
    }
   ],
   "source": [
    "func = add(10)\n",
    "func(20)"
   ]
  },
  {
   "cell_type": "code",
   "execution_count": null,
   "id": "d207b1cf",
   "metadata": {},
   "outputs": [],
   "source": []
  }
 ],
 "metadata": {
  "kernelspec": {
   "display_name": "Python 3 (ipykernel)",
   "language": "python",
   "name": "python3"
  },
  "language_info": {
   "codemirror_mode": {
    "name": "ipython",
    "version": 3
   },
   "file_extension": ".py",
   "mimetype": "text/x-python",
   "name": "python",
   "nbconvert_exporter": "python",
   "pygments_lexer": "ipython3",
   "version": "3.8.11"
  }
 },
 "nbformat": 4,
 "nbformat_minor": 5
}
