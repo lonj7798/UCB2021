{
 "cells": [
  {
   "cell_type": "code",
   "execution_count": 19,
   "id": "558a153f",
   "metadata": {},
   "outputs": [],
   "source": [
    "p = [[2], [2, 2]]"
   ]
  },
  {
   "cell_type": "code",
   "execution_count": 20,
   "id": "d5f5a710",
   "metadata": {},
   "outputs": [],
   "source": [
    "p[0].append(p[1])"
   ]
  },
  {
   "cell_type": "code",
   "execution_count": 21,
   "id": "5c9359aa",
   "metadata": {},
   "outputs": [
    {
     "data": {
      "text/plain": [
       "[[2, [2, 2]], [2, 2]]"
      ]
     },
     "execution_count": 21,
     "metadata": {},
     "output_type": "execute_result"
    }
   ],
   "source": [
    "p"
   ]
  },
  {
   "cell_type": "code",
   "execution_count": 22,
   "id": "38264ba3",
   "metadata": {},
   "outputs": [
    {
     "data": {
      "text/plain": [
       "[2, 2]"
      ]
     },
     "execution_count": 22,
     "metadata": {},
     "output_type": "execute_result"
    }
   ],
   "source": [
    "p.pop()"
   ]
  },
  {
   "cell_type": "code",
   "execution_count": 23,
   "id": "fa5551a5",
   "metadata": {},
   "outputs": [
    {
     "data": {
      "text/plain": [
       "[[2, [2, 2]]]"
      ]
     },
     "execution_count": 23,
     "metadata": {},
     "output_type": "execute_result"
    }
   ],
   "source": [
    "p"
   ]
  },
  {
   "cell_type": "code",
   "execution_count": 37,
   "id": "119e51cd",
   "metadata": {},
   "outputs": [],
   "source": [
    "from datetime import time as time"
   ]
  },
  {
   "cell_type": "code",
   "execution_count": 46,
   "id": "50369802",
   "metadata": {},
   "outputs": [],
   "source": [
    "a = time(10, 2, 3)"
   ]
  },
  {
   "cell_type": "code",
   "execution_count": 48,
   "id": "6bca5723",
   "metadata": {},
   "outputs": [
    {
     "name": "stdout",
     "output_type": "stream",
     "text": [
      "10:02:03\n"
     ]
    }
   ],
   "source": [
    "print(a)"
   ]
  },
  {
   "cell_type": "code",
   "execution_count": 43,
   "id": "884bbbba",
   "metadata": {},
   "outputs": [],
   "source": [
    "class Game:\n",
    "    time = None\n",
    "    def __init__(self, time):\n",
    "        Game.time = time\n",
    "    def __str__(self):\n",
    "        return self.time"
   ]
  },
  {
   "cell_type": "code",
   "execution_count": 45,
   "id": "fb64e17a",
   "metadata": {},
   "outputs": [
    {
     "ename": "TypeError",
     "evalue": "__str__ returned non-string (type datetime.time)",
     "output_type": "error",
     "traceback": [
      "\u001b[0;31m---------------------------------------------------------------------------\u001b[0m",
      "\u001b[0;31mTypeError\u001b[0m                                 Traceback (most recent call last)",
      "\u001b[0;32m/var/folders/m5/b577jf4d20jc309f4phr3lvr0000gn/T/ipykernel_1094/2166506243.py\u001b[0m in \u001b[0;36m<module>\u001b[0;34m\u001b[0m\n\u001b[0;32m----> 1\u001b[0;31m \u001b[0mprint\u001b[0m\u001b[0;34m(\u001b[0m\u001b[0mGame\u001b[0m\u001b[0;34m(\u001b[0m\u001b[0mtime\u001b[0m\u001b[0;34m(\u001b[0m\u001b[0;36m2\u001b[0m\u001b[0;34m,\u001b[0m \u001b[0;36m10\u001b[0m\u001b[0;34m,\u001b[0m \u001b[0;36m0\u001b[0m\u001b[0;34m)\u001b[0m\u001b[0;34m)\u001b[0m\u001b[0;34m)\u001b[0m\u001b[0;34m\u001b[0m\u001b[0;34m\u001b[0m\u001b[0m\n\u001b[0m",
      "\u001b[0;31mTypeError\u001b[0m: __str__ returned non-string (type datetime.time)"
     ]
    }
   ],
   "source": [
    "print(Game(time(2, 10, 0)))"
   ]
  },
  {
   "cell_type": "code",
   "execution_count": 4,
   "id": "0508b908",
   "metadata": {},
   "outputs": [],
   "source": [
    "a = [1, 2, 3]\n",
    "b = [8]"
   ]
  },
  {
   "cell_type": "code",
   "execution_count": 5,
   "id": "aea005d4",
   "metadata": {},
   "outputs": [],
   "source": [
    "a.extend(b)"
   ]
  },
  {
   "cell_type": "code",
   "execution_count": 6,
   "id": "f34f01a2",
   "metadata": {},
   "outputs": [
    {
     "data": {
      "text/plain": [
       "[1, 2, 3, 8]"
      ]
     },
     "execution_count": 6,
     "metadata": {},
     "output_type": "execute_result"
    }
   ],
   "source": [
    "a"
   ]
  },
  {
   "cell_type": "code",
   "execution_count": 8,
   "id": "1ee581bb",
   "metadata": {},
   "outputs": [],
   "source": [
    "a.extend([8])"
   ]
  },
  {
   "cell_type": "code",
   "execution_count": 9,
   "id": "9d74acb6",
   "metadata": {},
   "outputs": [
    {
     "data": {
      "text/plain": [
       "[1, 2, 3, 8, 8]"
      ]
     },
     "execution_count": 9,
     "metadata": {},
     "output_type": "execute_result"
    }
   ],
   "source": [
    "a"
   ]
  },
  {
   "cell_type": "code",
   "execution_count": 10,
   "id": "89a21def",
   "metadata": {},
   "outputs": [],
   "source": [
    "list(a).extend([8])"
   ]
  },
  {
   "cell_type": "code",
   "execution_count": 11,
   "id": "a3f359ce",
   "metadata": {},
   "outputs": [
    {
     "data": {
      "text/plain": [
       "[1, 2, 3, 8, 8]"
      ]
     },
     "execution_count": 11,
     "metadata": {},
     "output_type": "execute_result"
    }
   ],
   "source": [
    "a"
   ]
  },
  {
   "cell_type": "code",
   "execution_count": 12,
   "id": "2b7d7f3f",
   "metadata": {},
   "outputs": [],
   "source": [
    "a.append([8])"
   ]
  },
  {
   "cell_type": "code",
   "execution_count": 13,
   "id": "9273ebc6",
   "metadata": {},
   "outputs": [
    {
     "data": {
      "text/plain": [
       "[1, 2, 3, 8, 8, [8]]"
      ]
     },
     "execution_count": 13,
     "metadata": {},
     "output_type": "execute_result"
    }
   ],
   "source": [
    "a"
   ]
  },
  {
   "cell_type": "code",
   "execution_count": 14,
   "id": "35fb50fa",
   "metadata": {},
   "outputs": [
    {
     "data": {
      "text/plain": [
       "[1, 2, 3, 8, 8, [8], 8]"
      ]
     },
     "execution_count": 14,
     "metadata": {},
     "output_type": "execute_result"
    }
   ],
   "source": [
    "a+b"
   ]
  },
  {
   "cell_type": "code",
   "execution_count": 15,
   "id": "21d95a54",
   "metadata": {},
   "outputs": [
    {
     "data": {
      "text/plain": [
       "[1, 2, 3, 8, 8, [8]]"
      ]
     },
     "execution_count": 15,
     "metadata": {},
     "output_type": "execute_result"
    }
   ],
   "source": [
    "a"
   ]
  },
  {
   "cell_type": "code",
   "execution_count": 17,
   "id": "a1a5f261",
   "metadata": {},
   "outputs": [],
   "source": [
    "a = lambda x: lambda y: 1"
   ]
  },
  {
   "cell_type": "code",
   "execution_count": 20,
   "id": "ab125d2f",
   "metadata": {},
   "outputs": [],
   "source": [
    "a = lambda x: x*10"
   ]
  },
  {
   "cell_type": "code",
   "execution_count": 21,
   "id": "8ec54d7c",
   "metadata": {},
   "outputs": [
    {
     "data": {
      "text/plain": [
       "100"
      ]
     },
     "execution_count": 21,
     "metadata": {},
     "output_type": "execute_result"
    }
   ],
   "source": [
    "a(10)"
   ]
  },
  {
   "cell_type": "code",
   "execution_count": 26,
   "id": "211e8f06",
   "metadata": {},
   "outputs": [],
   "source": [
    "a = lambda x, y: 1"
   ]
  },
  {
   "cell_type": "code",
   "execution_count": 27,
   "id": "327a1d54",
   "metadata": {},
   "outputs": [
    {
     "data": {
      "text/plain": [
       "1"
      ]
     },
     "execution_count": 27,
     "metadata": {},
     "output_type": "execute_result"
    }
   ],
   "source": [
    "a(10, 20)"
   ]
  },
  {
   "cell_type": "code",
   "execution_count": 28,
   "id": "b7ceecca",
   "metadata": {},
   "outputs": [
    {
     "data": {
      "text/plain": [
       "26"
      ]
     },
     "execution_count": 28,
     "metadata": {},
     "output_type": "execute_result"
    }
   ],
   "source": [
    "52//2"
   ]
  },
  {
   "cell_type": "code",
   "execution_count": 29,
   "id": "7440f353",
   "metadata": {},
   "outputs": [
    {
     "data": {
      "text/plain": [
       "26.0"
      ]
     },
     "execution_count": 29,
     "metadata": {},
     "output_type": "execute_result"
    }
   ],
   "source": [
    "52/2"
   ]
  },
  {
   "cell_type": "code",
   "execution_count": 30,
   "id": "539004d2",
   "metadata": {},
   "outputs": [
    {
     "data": {
      "text/plain": [
       "100"
      ]
     },
     "execution_count": 30,
     "metadata": {},
     "output_type": "execute_result"
    }
   ],
   "source": [
    "1000//10"
   ]
  },
  {
   "cell_type": "code",
   "execution_count": 31,
   "id": "b854ecce",
   "metadata": {},
   "outputs": [
    {
     "data": {
      "text/plain": [
       "100.0"
      ]
     },
     "execution_count": 31,
     "metadata": {},
     "output_type": "execute_result"
    }
   ],
   "source": [
    "1000/10"
   ]
  },
  {
   "cell_type": "code",
   "execution_count": 32,
   "id": "3d2912e7",
   "metadata": {},
   "outputs": [],
   "source": [
    "found = None"
   ]
  },
  {
   "cell_type": "code",
   "execution_count": 33,
   "id": "7758d489",
   "metadata": {},
   "outputs": [
    {
     "ename": "AttributeError",
     "evalue": "'NoneType' object has no attribute 'append'",
     "output_type": "error",
     "traceback": [
      "\u001b[0;31m---------------------------------------------------------------------------\u001b[0m",
      "\u001b[0;31mAttributeError\u001b[0m                            Traceback (most recent call last)",
      "\u001b[0;32m/var/folders/m5/b577jf4d20jc309f4phr3lvr0000gn/T/ipykernel_6932/3172488837.py\u001b[0m in \u001b[0;36m<module>\u001b[0;34m\u001b[0m\n\u001b[0;32m----> 1\u001b[0;31m \u001b[0mfound\u001b[0m\u001b[0;34m.\u001b[0m\u001b[0mappend\u001b[0m\u001b[0;34m(\u001b[0m\u001b[0;36m19\u001b[0m\u001b[0;34m)\u001b[0m\u001b[0;34m\u001b[0m\u001b[0;34m\u001b[0m\u001b[0m\n\u001b[0m",
      "\u001b[0;31mAttributeError\u001b[0m: 'NoneType' object has no attribute 'append'"
     ]
    }
   ],
   "source": [
    "found.append(19)"
   ]
  },
  {
   "cell_type": "code",
   "execution_count": 1,
   "id": "17da9f1b",
   "metadata": {},
   "outputs": [
    {
     "name": "stdout",
     "output_type": "stream",
     "text": [
      "2\n",
      "None\n"
     ]
    }
   ],
   "source": [
    "print(print(2))"
   ]
  },
  {
   "cell_type": "code",
   "execution_count": 2,
   "id": "b058c11a",
   "metadata": {},
   "outputs": [
    {
     "ename": "SyntaxError",
     "evalue": "invalid syntax (3686327395.py, line 1)",
     "output_type": "error",
     "traceback": [
      "\u001b[0;36m  File \u001b[0;32m\"/var/folders/m5/b577jf4d20jc309f4phr3lvr0000gn/T/ipykernel_7307/3686327395.py\"\u001b[0;36m, line \u001b[0;32m1\u001b[0m\n\u001b[0;31m    1 뭉 -1\u001b[0m\n\u001b[0m      ^\u001b[0m\n\u001b[0;31mSyntaxError\u001b[0m\u001b[0;31m:\u001b[0m invalid syntax\n"
     ]
    }
   ],
   "source": [
    "1 뭉 -1"
   ]
  },
  {
   "cell_type": "code",
   "execution_count": 3,
   "id": "afd2e710",
   "metadata": {},
   "outputs": [
    {
     "data": {
      "text/plain": [
       "-1"
      ]
     },
     "execution_count": 3,
     "metadata": {},
     "output_type": "execute_result"
    }
   ],
   "source": [
    "1 and -1"
   ]
  },
  {
   "cell_type": "code",
   "execution_count": 4,
   "id": "c7fc72b3",
   "metadata": {},
   "outputs": [
    {
     "name": "stdout",
     "output_type": "stream",
     "text": [
      "3\n"
     ]
    }
   ],
   "source": [
    "if -1:\n",
    "    print(3)"
   ]
  },
  {
   "cell_type": "code",
   "execution_count": 5,
   "id": "d0469bc0",
   "metadata": {},
   "outputs": [
    {
     "data": {
      "text/plain": [
       "1"
      ]
     },
     "execution_count": 5,
     "metadata": {},
     "output_type": "execute_result"
    }
   ],
   "source": [
    "1 or -1"
   ]
  },
  {
   "cell_type": "code",
   "execution_count": 6,
   "id": "30528607",
   "metadata": {},
   "outputs": [
    {
     "data": {
      "text/plain": [
       "False"
      ]
     },
     "execution_count": 6,
     "metadata": {},
     "output_type": "execute_result"
    }
   ],
   "source": [
    "not 1"
   ]
  },
  {
   "cell_type": "code",
   "execution_count": 1,
   "id": "d25efd31",
   "metadata": {},
   "outputs": [],
   "source": [
    "a = [1, 2, 3]\n",
    "b = [2,3, 4]"
   ]
  },
  {
   "cell_type": "code",
   "execution_count": 2,
   "id": "34a321ad",
   "metadata": {},
   "outputs": [],
   "source": [
    "a+=b"
   ]
  },
  {
   "cell_type": "code",
   "execution_count": 3,
   "id": "e80cf869",
   "metadata": {},
   "outputs": [
    {
     "data": {
      "text/plain": [
       "[1, 2, 3, 2, 3, 4]"
      ]
     },
     "execution_count": 3,
     "metadata": {},
     "output_type": "execute_result"
    }
   ],
   "source": [
    "a"
   ]
  },
  {
   "cell_type": "code",
   "execution_count": 10,
   "id": "daa45843",
   "metadata": {},
   "outputs": [],
   "source": [
    "n = 12345"
   ]
  },
  {
   "cell_type": "code",
   "execution_count": 11,
   "id": "ebea9af9",
   "metadata": {},
   "outputs": [],
   "source": [
    "a, b, c = n//10, n%10, n"
   ]
  },
  {
   "cell_type": "code",
   "execution_count": 12,
   "id": "c60f283e",
   "metadata": {},
   "outputs": [
    {
     "name": "stdout",
     "output_type": "stream",
     "text": [
      "1234 5 12345\n"
     ]
    }
   ],
   "source": [
    "print(a, b, c)"
   ]
  },
  {
   "cell_type": "code",
   "execution_count": 41,
   "id": "9b605807",
   "metadata": {},
   "outputs": [],
   "source": [
    "class A():\n",
    "    def __init__(self):\n",
    "        self.b = 1\n",
    "    \n",
    "    def __str__(self):\n",
    "        return \"asdf\"\n",
    "    \n",
    "    def __repr__(self):\n",
    "        return \"REPR\""
   ]
  },
  {
   "cell_type": "code",
   "execution_count": 42,
   "id": "68a7e806",
   "metadata": {},
   "outputs": [
    {
     "name": "stdout",
     "output_type": "stream",
     "text": [
      "1\n"
     ]
    }
   ],
   "source": [
    "print(A().b)"
   ]
  },
  {
   "cell_type": "code",
   "execution_count": 43,
   "id": "06f6fc0f",
   "metadata": {},
   "outputs": [],
   "source": [
    "a = A()"
   ]
  },
  {
   "cell_type": "code",
   "execution_count": 44,
   "id": "00d49b2a",
   "metadata": {},
   "outputs": [
    {
     "name": "stdout",
     "output_type": "stream",
     "text": [
      "asdf\n"
     ]
    }
   ],
   "source": [
    "print(a)"
   ]
  },
  {
   "cell_type": "code",
   "execution_count": 48,
   "id": "253b9288",
   "metadata": {},
   "outputs": [
    {
     "data": {
      "text/plain": [
       "'asdf'"
      ]
     },
     "execution_count": 48,
     "metadata": {},
     "output_type": "execute_result"
    }
   ],
   "source": [
    "str(a)"
   ]
  },
  {
   "cell_type": "code",
   "execution_count": 49,
   "id": "3a3fcd95",
   "metadata": {},
   "outputs": [],
   "source": [
    "a = ['falco']\n",
    "a.append('abc')"
   ]
  },
  {
   "cell_type": "code",
   "execution_count": 50,
   "id": "b93c427b",
   "metadata": {},
   "outputs": [
    {
     "data": {
      "text/plain": [
       "['falco', 'abc']"
      ]
     },
     "execution_count": 50,
     "metadata": {},
     "output_type": "execute_result"
    }
   ],
   "source": [
    "a"
   ]
  },
  {
   "cell_type": "code",
   "execution_count": 51,
   "id": "0b6b707d",
   "metadata": {},
   "outputs": [
    {
     "ename": "TypeError",
     "evalue": "argument of type 'int' is not iterable",
     "output_type": "error",
     "traceback": [
      "\u001b[0;31m---------------------------------------------------------------------------\u001b[0m",
      "\u001b[0;31mTypeError\u001b[0m                                 Traceback (most recent call last)",
      "\u001b[0;32m/var/folders/m5/b577jf4d20jc309f4phr3lvr0000gn/T/ipykernel_8372/3108959770.py\u001b[0m in \u001b[0;36m<module>\u001b[0;34m\u001b[0m\n\u001b[0;32m----> 1\u001b[0;31m \u001b[0;34m[\u001b[0m\u001b[0;36m1\u001b[0m\u001b[0;34m,\u001b[0m \u001b[0;36m2\u001b[0m\u001b[0;34m,\u001b[0m \u001b[0;34m[\u001b[0m\u001b[0;34m[\u001b[0m\u001b[0;36m3\u001b[0m\u001b[0;34m]\u001b[0m\u001b[0;34m,\u001b[0m \u001b[0;36m4\u001b[0m\u001b[0;34m]\u001b[0m\u001b[0;34m]\u001b[0m \u001b[0;32min\u001b[0m \u001b[0;36m3\u001b[0m\u001b[0;34m\u001b[0m\u001b[0;34m\u001b[0m\u001b[0m\n\u001b[0m",
      "\u001b[0;31mTypeError\u001b[0m: argument of type 'int' is not iterable"
     ]
    }
   ],
   "source": [
    "[1, 2, [[3], 4]] in 3"
   ]
  },
  {
   "cell_type": "code",
   "execution_count": 52,
   "id": "f14d02c9",
   "metadata": {},
   "outputs": [
    {
     "ename": "TypeError",
     "evalue": "'type' object is not subscriptable",
     "output_type": "error",
     "traceback": [
      "\u001b[0;31m---------------------------------------------------------------------------\u001b[0m",
      "\u001b[0;31mTypeError\u001b[0m                                 Traceback (most recent call last)",
      "\u001b[0;32m/var/folders/m5/b577jf4d20jc309f4phr3lvr0000gn/T/ipykernel_8372/1509638983.py\u001b[0m in \u001b[0;36m<module>\u001b[0;34m\u001b[0m\n\u001b[0;32m----> 1\u001b[0;31m \u001b[0mtype\u001b[0m\u001b[0;34m[\u001b[0m\u001b[0;36m1\u001b[0m\u001b[0;34m,\u001b[0m \u001b[0;36m2\u001b[0m\u001b[0;34m]\u001b[0m\u001b[0;34m\u001b[0m\u001b[0;34m\u001b[0m\u001b[0m\n\u001b[0m",
      "\u001b[0;31mTypeError\u001b[0m: 'type' object is not subscriptable"
     ]
    }
   ],
   "source": [
    "type[1, 2]"
   ]
  },
  {
   "cell_type": "code",
   "execution_count": 53,
   "id": "fff97f47",
   "metadata": {},
   "outputs": [
    {
     "ename": "TypeError",
     "evalue": "any() takes exactly one argument (3 given)",
     "output_type": "error",
     "traceback": [
      "\u001b[0;31m---------------------------------------------------------------------------\u001b[0m",
      "\u001b[0;31mTypeError\u001b[0m                                 Traceback (most recent call last)",
      "\u001b[0;32m/var/folders/m5/b577jf4d20jc309f4phr3lvr0000gn/T/ipykernel_8372/3825239592.py\u001b[0m in \u001b[0;36m<module>\u001b[0;34m\u001b[0m\n\u001b[0;32m----> 1\u001b[0;31m \u001b[0many\u001b[0m\u001b[0;34m(\u001b[0m\u001b[0;36m1\u001b[0m\u001b[0;34m,\u001b[0m \u001b[0;36m2\u001b[0m\u001b[0;34m,\u001b[0m \u001b[0;36m3\u001b[0m\u001b[0;34m)\u001b[0m\u001b[0;34m\u001b[0m\u001b[0;34m\u001b[0m\u001b[0m\n\u001b[0m",
      "\u001b[0;31mTypeError\u001b[0m: any() takes exactly one argument (3 given)"
     ]
    }
   ],
   "source": [
    "any(1, 2, 3)"
   ]
  },
  {
   "cell_type": "code",
   "execution_count": 54,
   "id": "89aba674",
   "metadata": {},
   "outputs": [
    {
     "data": {
      "text/plain": [
       "True"
      ]
     },
     "execution_count": 54,
     "metadata": {},
     "output_type": "execute_result"
    }
   ],
   "source": [
    "any([1, 0, 10])"
   ]
  },
  {
   "cell_type": "code",
   "execution_count": 55,
   "id": "5a3cc312",
   "metadata": {},
   "outputs": [
    {
     "data": {
      "text/plain": [
       "False"
      ]
     },
     "execution_count": 55,
     "metadata": {},
     "output_type": "execute_result"
    }
   ],
   "source": [
    "all([1, 0, 0])"
   ]
  },
  {
   "cell_type": "code",
   "execution_count": 56,
   "id": "e8acb490",
   "metadata": {},
   "outputs": [
    {
     "ename": "KeyError",
     "evalue": "'key'",
     "output_type": "error",
     "traceback": [
      "\u001b[0;31m---------------------------------------------------------------------------\u001b[0m",
      "\u001b[0;31mKeyError\u001b[0m                                  Traceback (most recent call last)",
      "\u001b[0;32m/var/folders/m5/b577jf4d20jc309f4phr3lvr0000gn/T/ipykernel_8372/1113996559.py\u001b[0m in \u001b[0;36m<module>\u001b[0;34m\u001b[0m\n\u001b[1;32m      1\u001b[0m \u001b[0mD\u001b[0m \u001b[0;34m=\u001b[0m \u001b[0;34m{\u001b[0m\u001b[0;34m}\u001b[0m\u001b[0;34m\u001b[0m\u001b[0;34m\u001b[0m\u001b[0m\n\u001b[1;32m      2\u001b[0m \u001b[0;34m\u001b[0m\u001b[0m\n\u001b[0;32m----> 3\u001b[0;31m \u001b[0;32mif\u001b[0m \u001b[0mD\u001b[0m\u001b[0;34m[\u001b[0m\u001b[0;34m'key'\u001b[0m\u001b[0;34m]\u001b[0m\u001b[0;34m:\u001b[0m\u001b[0;34m\u001b[0m\u001b[0;34m\u001b[0m\u001b[0m\n\u001b[0m\u001b[1;32m      4\u001b[0m     \u001b[0mprint\u001b[0m\u001b[0;34m(\u001b[0m\u001b[0ma\u001b[0m\u001b[0;34m)\u001b[0m\u001b[0;34m\u001b[0m\u001b[0;34m\u001b[0m\u001b[0m\n",
      "\u001b[0;31mKeyError\u001b[0m: 'key'"
     ]
    }
   ],
   "source": [
    "D = {}\n",
    "\n",
    "if D['key']:\n",
    "    print(a)"
   ]
  },
  {
   "cell_type": "code",
   "execution_count": 67,
   "id": "f90cd863",
   "metadata": {},
   "outputs": [],
   "source": [
    "def love():\n",
    "    yield 1000\n",
    "    yield from [2000, 3000]"
   ]
  },
  {
   "cell_type": "code",
   "execution_count": 68,
   "id": "4873decd",
   "metadata": {},
   "outputs": [],
   "source": [
    "x = love()"
   ]
  },
  {
   "cell_type": "code",
   "execution_count": 59,
   "id": "1f0ff020",
   "metadata": {},
   "outputs": [],
   "source": [
    "L = list(x)"
   ]
  },
  {
   "cell_type": "code",
   "execution_count": 60,
   "id": "696d9ad5",
   "metadata": {},
   "outputs": [
    {
     "data": {
      "text/plain": [
       "[1000, 2000, 3000]"
      ]
     },
     "execution_count": 60,
     "metadata": {},
     "output_type": "execute_result"
    }
   ],
   "source": [
    "L"
   ]
  },
  {
   "cell_type": "code",
   "execution_count": 64,
   "id": "5c4fb1ae",
   "metadata": {},
   "outputs": [],
   "source": [
    "thanos = ['power', 'space', 'reality']\n",
    "tony = ['mind', 'soul', 'time']\n",
    "i = iter(tony)\n",
    "next(i)\n",
    "tony.extend(list(i))\n",
    "thanos = tony[2::-2]"
   ]
  },
  {
   "cell_type": "code",
   "execution_count": 66,
   "id": "2c743beb",
   "metadata": {},
   "outputs": [
    {
     "data": {
      "text/plain": [
       "['mind', 'soul', 'time', 'soul', 'time']"
      ]
     },
     "execution_count": 66,
     "metadata": {},
     "output_type": "execute_result"
    }
   ],
   "source": [
    "tony"
   ]
  },
  {
   "cell_type": "code",
   "execution_count": 65,
   "id": "5ebd2981",
   "metadata": {},
   "outputs": [
    {
     "data": {
      "text/plain": [
       "['time', 'mind']"
      ]
     },
     "execution_count": 65,
     "metadata": {},
     "output_type": "execute_result"
    }
   ],
   "source": [
    "thanos"
   ]
  },
  {
   "cell_type": "code",
   "execution_count": 4,
   "id": "5fed7309",
   "metadata": {},
   "outputs": [],
   "source": [
    "a = lambda x: lambda y: x/y"
   ]
  },
  {
   "cell_type": "code",
   "execution_count": 5,
   "id": "214f854c",
   "metadata": {},
   "outputs": [
    {
     "data": {
      "text/plain": [
       "0.5"
      ]
     },
     "execution_count": 5,
     "metadata": {},
     "output_type": "execute_result"
    }
   ],
   "source": [
    "a(10)(20)"
   ]
  },
  {
   "cell_type": "code",
   "execution_count": 6,
   "id": "4e2a73f5",
   "metadata": {},
   "outputs": [],
   "source": [
    "bounds = [(2, 6), (3, 4)]"
   ]
  },
  {
   "cell_type": "code",
   "execution_count": 7,
   "id": "689a4a6c",
   "metadata": {},
   "outputs": [
    {
     "data": {
      "text/plain": [
       "[(2, 6), (3, 4)]"
      ]
     },
     "execution_count": 7,
     "metadata": {},
     "output_type": "execute_result"
    }
   ],
   "source": [
    "[b for b in bounds if b]"
   ]
  },
  {
   "cell_type": "code",
   "execution_count": null,
   "id": "73341b12",
   "metadata": {},
   "outputs": [],
   "source": []
  }
 ],
 "metadata": {
  "kernelspec": {
   "display_name": "Python 3 (ipykernel)",
   "language": "python",
   "name": "python3"
  },
  "language_info": {
   "codemirror_mode": {
    "name": "ipython",
    "version": 3
   },
   "file_extension": ".py",
   "mimetype": "text/x-python",
   "name": "python",
   "nbconvert_exporter": "python",
   "pygments_lexer": "ipython3",
   "version": "3.8.11"
  }
 },
 "nbformat": 4,
 "nbformat_minor": 5
}
