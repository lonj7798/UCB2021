{
 "cells": [
  {
   "cell_type": "markdown",
   "id": "7f4fba15",
   "metadata": {},
   "source": [
    "### lambda"
   ]
  },
  {
   "cell_type": "code",
   "execution_count": 2,
   "id": "7e7db067",
   "metadata": {},
   "outputs": [
    {
     "data": {
      "text/plain": [
       "7"
      ]
     },
     "execution_count": 2,
     "metadata": {},
     "output_type": "execute_result"
    }
   ],
   "source": [
    "def add(x, y):\n",
    "    return x + y\n",
    "\n",
    "add(3, 4)"
   ]
  },
  {
   "cell_type": "code",
   "execution_count": 4,
   "id": "10d58b15",
   "metadata": {},
   "outputs": [
    {
     "data": {
      "text/plain": [
       "7"
      ]
     },
     "execution_count": 4,
     "metadata": {},
     "output_type": "execute_result"
    }
   ],
   "source": [
    "(lambda x, y: x + y)(3, 4)"
   ]
  },
  {
   "cell_type": "code",
   "execution_count": 5,
   "id": "6dcdc902",
   "metadata": {},
   "outputs": [
    {
     "data": {
      "text/plain": [
       "<map at 0x7fa0c9034b80>"
      ]
     },
     "execution_count": 5,
     "metadata": {},
     "output_type": "execute_result"
    }
   ],
   "source": [
    "map(lambda x: x ** 2, range(5))"
   ]
  },
  {
   "cell_type": "code",
   "execution_count": 6,
   "id": "e05431d9",
   "metadata": {},
   "outputs": [
    {
     "data": {
      "text/plain": [
       "[0, 1, 4, 9, 16]"
      ]
     },
     "execution_count": 6,
     "metadata": {},
     "output_type": "execute_result"
    }
   ],
   "source": [
    "list(map(lambda x: x ** 2, range(5)))"
   ]
  },
  {
   "cell_type": "code",
   "execution_count": 11,
   "id": "9d81fb95",
   "metadata": {},
   "outputs": [
    {
     "data": {
      "text/plain": [
       "999"
      ]
     },
     "execution_count": 11,
     "metadata": {},
     "output_type": "execute_result"
    }
   ],
   "source": [
    "(lambda x: 10 if x == 10 else 999)(9)"
   ]
  },
  {
   "cell_type": "markdown",
   "id": "83df5201",
   "metadata": {},
   "source": [
    "### high-order function (HOF)"
   ]
  },
  {
   "cell_type": "code",
   "execution_count": 12,
   "id": "e0294bce",
   "metadata": {},
   "outputs": [],
   "source": [
    "def add(x):\n",
    "    \n",
    "    def add_2(y):\n",
    "        return x + y\n",
    "    return add_2"
   ]
  },
  {
   "cell_type": "code",
   "execution_count": 14,
   "id": "024e9c96",
   "metadata": {},
   "outputs": [
    {
     "data": {
      "text/plain": [
       "30"
      ]
     },
     "execution_count": 14,
     "metadata": {},
     "output_type": "execute_result"
    }
   ],
   "source": [
    "add(10)(20)"
   ]
  },
  {
   "cell_type": "code",
   "execution_count": 15,
   "id": "b6e23452",
   "metadata": {},
   "outputs": [
    {
     "data": {
      "text/plain": [
       "30"
      ]
     },
     "execution_count": 15,
     "metadata": {},
     "output_type": "execute_result"
    }
   ],
   "source": [
    "func = add(10)\n",
    "func(20)"
   ]
  },
  {
   "cell_type": "code",
   "execution_count": 16,
   "id": "299cdbb7",
   "metadata": {},
   "outputs": [
    {
     "name": "stdout",
     "output_type": "stream",
     "text": [
      "75\n",
      "25\n"
     ]
    },
    {
     "ename": "TypeError",
     "evalue": "unsupported operand type(s) for +: 'NoneType' and 'NoneType'",
     "output_type": "error",
     "traceback": [
      "\u001b[0;31m---------------------------------------------------------------------------\u001b[0m",
      "\u001b[0;31mTypeError\u001b[0m                                 Traceback (most recent call last)",
      "\u001b[0;32m/var/folders/m5/b577jf4d20jc309f4phr3lvr0000gn/T/ipykernel_15665/1551953149.py\u001b[0m in \u001b[0;36m<module>\u001b[0;34m\u001b[0m\n\u001b[1;32m      2\u001b[0m     \u001b[0mprint\u001b[0m\u001b[0;34m(\u001b[0m\u001b[0ma\u001b[0m \u001b[0;34m+\u001b[0m \u001b[0mb\u001b[0m\u001b[0;34m)\u001b[0m\u001b[0;34m\u001b[0m\u001b[0;34m\u001b[0m\u001b[0m\n\u001b[1;32m      3\u001b[0m \u001b[0;34m\u001b[0m\u001b[0m\n\u001b[0;32m----> 4\u001b[0;31m \u001b[0mtotal\u001b[0m \u001b[0;34m=\u001b[0m \u001b[0msum\u001b[0m\u001b[0;34m(\u001b[0m \u001b[0msum\u001b[0m\u001b[0;34m(\u001b[0m\u001b[0;36m30\u001b[0m\u001b[0;34m,\u001b[0m \u001b[0;36m45\u001b[0m\u001b[0;34m)\u001b[0m\u001b[0;34m,\u001b[0m \u001b[0msum\u001b[0m\u001b[0;34m(\u001b[0m\u001b[0;36m10\u001b[0m\u001b[0;34m,\u001b[0m \u001b[0;36m15\u001b[0m\u001b[0;34m)\u001b[0m \u001b[0;34m)\u001b[0m\u001b[0;34m\u001b[0m\u001b[0;34m\u001b[0m\u001b[0m\n\u001b[0m",
      "\u001b[0;32m/var/folders/m5/b577jf4d20jc309f4phr3lvr0000gn/T/ipykernel_15665/1551953149.py\u001b[0m in \u001b[0;36msum\u001b[0;34m(a, b)\u001b[0m\n\u001b[1;32m      1\u001b[0m \u001b[0;32mdef\u001b[0m \u001b[0msum\u001b[0m\u001b[0;34m(\u001b[0m\u001b[0ma\u001b[0m\u001b[0;34m,\u001b[0m \u001b[0mb\u001b[0m\u001b[0;34m)\u001b[0m\u001b[0;34m:\u001b[0m\u001b[0;34m\u001b[0m\u001b[0;34m\u001b[0m\u001b[0m\n\u001b[0;32m----> 2\u001b[0;31m     \u001b[0mprint\u001b[0m\u001b[0;34m(\u001b[0m\u001b[0ma\u001b[0m \u001b[0;34m+\u001b[0m \u001b[0mb\u001b[0m\u001b[0;34m)\u001b[0m\u001b[0;34m\u001b[0m\u001b[0;34m\u001b[0m\u001b[0m\n\u001b[0m\u001b[1;32m      3\u001b[0m \u001b[0;34m\u001b[0m\u001b[0m\n\u001b[1;32m      4\u001b[0m \u001b[0mtotal\u001b[0m \u001b[0;34m=\u001b[0m \u001b[0msum\u001b[0m\u001b[0;34m(\u001b[0m \u001b[0msum\u001b[0m\u001b[0;34m(\u001b[0m\u001b[0;36m30\u001b[0m\u001b[0;34m,\u001b[0m \u001b[0;36m45\u001b[0m\u001b[0;34m)\u001b[0m\u001b[0;34m,\u001b[0m \u001b[0msum\u001b[0m\u001b[0;34m(\u001b[0m\u001b[0;36m10\u001b[0m\u001b[0;34m,\u001b[0m \u001b[0;36m15\u001b[0m\u001b[0;34m)\u001b[0m \u001b[0;34m)\u001b[0m\u001b[0;34m\u001b[0m\u001b[0;34m\u001b[0m\u001b[0m\n",
      "\u001b[0;31mTypeError\u001b[0m: unsupported operand type(s) for +: 'NoneType' and 'NoneType'"
     ]
    }
   ],
   "source": [
    "def sum(a, b):\n",
    "    print(a + b)\n",
    "\n",
    "total = sum( sum(30, 45), sum(10, 15) )"
   ]
  },
  {
   "cell_type": "code",
   "execution_count": 20,
   "id": "6165793b",
   "metadata": {},
   "outputs": [
    {
     "data": {
      "text/plain": [
       "100"
      ]
     },
     "execution_count": 20,
     "metadata": {},
     "output_type": "execute_result"
    }
   ],
   "source": [
    "1000 // 10"
   ]
  },
  {
   "cell_type": "code",
   "execution_count": 23,
   "id": "50ad35b8",
   "metadata": {},
   "outputs": [
    {
     "ename": "SyntaxError",
     "evalue": "cannot assign to literal (3729576896.py, line 1)",
     "output_type": "error",
     "traceback": [
      "\u001b[0;36m  File \u001b[0;32m\"/var/folders/m5/b577jf4d20jc309f4phr3lvr0000gn/T/ipykernel_15665/3729576896.py\"\u001b[0;36m, line \u001b[0;32m1\u001b[0m\n\u001b[0;31m    1 /=10\u001b[0m\n\u001b[0m    ^\u001b[0m\n\u001b[0;31mSyntaxError\u001b[0m\u001b[0;31m:\u001b[0m cannot assign to literal\n"
     ]
    }
   ],
   "source": [
    "1 /=10"
   ]
  },
  {
   "cell_type": "code",
   "execution_count": 25,
   "id": "f37ba0cb",
   "metadata": {},
   "outputs": [
    {
     "data": {
      "text/plain": [
       "'<p>hello hello</p>'"
      ]
     },
     "execution_count": 25,
     "metadata": {},
     "output_type": "execute_result"
    }
   ],
   "source": [
    "import functools\n",
    "\n",
    "def html_tag(tag_name, text):\n",
    "    return \"<\" + tag_name + \">\" + text + \"</\" + tag_name + \">\"\n",
    "\n",
    "p_tag = functools.partial(html_tag, \"p\")\n",
    "p_tag(\"hello hello\")"
   ]
  },
  {
   "cell_type": "code",
   "execution_count": 26,
   "id": "292a855f",
   "metadata": {
    "scrolled": true
   },
   "outputs": [
    {
     "name": "stdout",
     "output_type": "stream",
     "text": [
      "delayed\n"
     ]
    },
    {
     "data": {
      "text/plain": [
       "6"
      ]
     },
     "execution_count": 26,
     "metadata": {},
     "output_type": "execute_result"
    }
   ],
   "source": [
    "def delay(arg):\n",
    "    print('delayed')\n",
    "    def g():\n",
    "        return arg\n",
    "    return g\n",
    "\n",
    "delay(6)()"
   ]
  },
  {
   "cell_type": "code",
   "execution_count": 27,
   "id": "52bf30ce",
   "metadata": {},
   "outputs": [
    {
     "name": "stdout",
     "output_type": "stream",
     "text": [
      "delayed\n",
      "4\n",
      "None\n"
     ]
    }
   ],
   "source": [
    "print(delay(print)()(4))"
   ]
  },
  {
   "cell_type": "code",
   "execution_count": 28,
   "id": "0d40bb09",
   "metadata": {},
   "outputs": [
    {
     "data": {
      "text/plain": [
       "2"
      ]
     },
     "execution_count": 28,
     "metadata": {},
     "output_type": "execute_result"
    }
   ],
   "source": [
    "def horse(mask):\n",
    "    horse = mask\n",
    "    def mask(horse):\n",
    "        return horse\n",
    "    return horse(mask)\n",
    "\n",
    "mask = lambda horse: horse(2)\n",
    "horse(mask)"
   ]
  },
  {
   "cell_type": "code",
   "execution_count": 48,
   "id": "7a9821dd",
   "metadata": {},
   "outputs": [],
   "source": [
    "def cascade(n):\n",
    "    if n < 10:\n",
    "        print(n)\n",
    "    else:\n",
    "        print(n)\n",
    "        cascade(n//10)\n",
    "        print(n)"
   ]
  },
  {
   "cell_type": "code",
   "execution_count": 49,
   "id": "0b66a502",
   "metadata": {},
   "outputs": [
    {
     "name": "stdout",
     "output_type": "stream",
     "text": [
      "123\n",
      "12\n",
      "1\n",
      "12\n",
      "123\n"
     ]
    }
   ],
   "source": [
    "cascade(123)"
   ]
  },
  {
   "cell_type": "code",
   "execution_count": 50,
   "id": "a91e929d",
   "metadata": {},
   "outputs": [],
   "source": [
    "# 1\n",
    "# 12\n",
    "# 123\n",
    "# 12\n",
    "# 1"
   ]
  },
  {
   "cell_type": "code",
   "execution_count": 55,
   "id": "18bd898b",
   "metadata": {},
   "outputs": [],
   "source": [
    "def cascade2(n):\n",
    "    if n < 10:\n",
    "        print(n)\n",
    "    else:\n",
    "        cascade2(n//10)\n",
    "        print(n)"
   ]
  },
  {
   "cell_type": "code",
   "execution_count": 56,
   "id": "19ef0535",
   "metadata": {},
   "outputs": [
    {
     "name": "stdout",
     "output_type": "stream",
     "text": [
      "1\n",
      "12\n",
      "123\n"
     ]
    }
   ],
   "source": [
    "cascade2(123)"
   ]
  },
  {
   "cell_type": "code",
   "execution_count": 57,
   "id": "b5bdf1da",
   "metadata": {
    "scrolled": true
   },
   "outputs": [
    {
     "ename": "NameError",
     "evalue": "name 'grow' is not defined",
     "output_type": "error",
     "traceback": [
      "\u001b[0;31m---------------------------------------------------------------------------\u001b[0m",
      "\u001b[0;31mNameError\u001b[0m                                 Traceback (most recent call last)",
      "\u001b[0;32m/var/folders/m5/b577jf4d20jc309f4phr3lvr0000gn/T/ipykernel_15665/938877008.py\u001b[0m in \u001b[0;36m<module>\u001b[0;34m\u001b[0m\n\u001b[0;32m----> 1\u001b[0;31m \u001b[0mgrow\u001b[0m\u001b[0;34m(\u001b[0m\u001b[0;36m10\u001b[0m\u001b[0;34m)\u001b[0m\u001b[0;34m\u001b[0m\u001b[0;34m\u001b[0m\u001b[0m\n\u001b[0m",
      "\u001b[0;31mNameError\u001b[0m: name 'grow' is not defined"
     ]
    }
   ],
   "source": [
    "grow(10)"
   ]
  },
  {
   "cell_type": "markdown",
   "id": "9fcede96",
   "metadata": {},
   "source": [
    "### list"
   ]
  },
  {
   "cell_type": "code",
   "execution_count": 58,
   "id": "4b4382c9",
   "metadata": {},
   "outputs": [],
   "source": [
    "boba_prices = [5.50, 6.50, 7.50]\n",
    "smoothie_prices = [7.00, 7.50]\n",
    "all_prices = boba_prices + smoothie_prices"
   ]
  },
  {
   "cell_type": "code",
   "execution_count": 59,
   "id": "fff8bcc5",
   "metadata": {},
   "outputs": [
    {
     "data": {
      "text/plain": [
       "[5.5, 6.5, 7.5, 7.0, 7.5]"
      ]
     },
     "execution_count": 59,
     "metadata": {},
     "output_type": "execute_result"
    }
   ],
   "source": [
    "all_prices"
   ]
  },
  {
   "cell_type": "code",
   "execution_count": 60,
   "id": "9968c3cf",
   "metadata": {},
   "outputs": [],
   "source": [
    "from operator import add\n",
    "\n",
    "boba_prices = [5.50, 6.50, 7.50]\n",
    "smoothie_prices = [7.00, 7.50]\n",
    "all_prices = add(boba_prices, smoothie_prices)"
   ]
  },
  {
   "cell_type": "code",
   "execution_count": 61,
   "id": "538912cd",
   "metadata": {},
   "outputs": [
    {
     "data": {
      "text/plain": [
       "[5.5, 6.5, 7.5, 7.0, 7.5]"
      ]
     },
     "execution_count": 61,
     "metadata": {},
     "output_type": "execute_result"
    }
   ],
   "source": [
    "all_prices"
   ]
  },
  {
   "cell_type": "code",
   "execution_count": 62,
   "id": "8be03090",
   "metadata": {},
   "outputs": [],
   "source": [
    "boba_prices = [5.50, 6.50, 7.50]\n",
    "\n",
    "more_boba = boba_prices * 3"
   ]
  },
  {
   "cell_type": "code",
   "execution_count": 63,
   "id": "6a6e4fb5",
   "metadata": {},
   "outputs": [
    {
     "data": {
      "text/plain": [
       "[5.5, 6.5, 7.5, 5.5, 6.5, 7.5, 5.5, 6.5, 7.5]"
      ]
     },
     "execution_count": 63,
     "metadata": {},
     "output_type": "execute_result"
    }
   ],
   "source": [
    "more_boba"
   ]
  },
  {
   "cell_type": "code",
   "execution_count": 64,
   "id": "cf7803ab",
   "metadata": {},
   "outputs": [
    {
     "ename": "TypeError",
     "evalue": "can only concatenate list (not \"int\") to list",
     "output_type": "error",
     "traceback": [
      "\u001b[0;31m---------------------------------------------------------------------------\u001b[0m",
      "\u001b[0;31mTypeError\u001b[0m                                 Traceback (most recent call last)",
      "\u001b[0;32m/var/folders/m5/b577jf4d20jc309f4phr3lvr0000gn/T/ipykernel_15665/2703324706.py\u001b[0m in \u001b[0;36m<module>\u001b[0;34m\u001b[0m\n\u001b[0;32m----> 1\u001b[0;31m \u001b[0;34m[\u001b[0m\u001b[0;36m1\u001b[0m\u001b[0;34m,\u001b[0m \u001b[0;36m2\u001b[0m\u001b[0;34m,\u001b[0m \u001b[0;36m3\u001b[0m\u001b[0;34m]\u001b[0m \u001b[0;34m+\u001b[0m \u001b[0;36m1\u001b[0m\u001b[0;34m\u001b[0m\u001b[0;34m\u001b[0m\u001b[0m\n\u001b[0m",
      "\u001b[0;31mTypeError\u001b[0m: can only concatenate list (not \"int\") to list"
     ]
    }
   ],
   "source": [
    "[1, 2, 3] + 1"
   ]
  },
  {
   "cell_type": "code",
   "execution_count": 66,
   "id": "0b02a185",
   "metadata": {},
   "outputs": [
    {
     "name": "stdout",
     "output_type": "stream",
     "text": [
      "len(gymnasts): 3\n",
      "len(gymnasts[0]): 5\n"
     ]
    }
   ],
   "source": [
    "gymnasts = [ [\"Brittany\", 9.15, 9.4, 9.3, 9.2],\n",
    "             [\"Lea\", 9, 8.8, 9.1, 9.5],\n",
    "             [\"Maya\", 9.2, 8.7, 9.2, 8.8] ]\n",
    "print(\"len(gymnasts):\", len(gymnasts))\n",
    "print(\"len(gymnasts[0]):\", len(gymnasts[0]))"
   ]
  },
  {
   "cell_type": "code",
   "execution_count": 69,
   "id": "b0326ccb",
   "metadata": {},
   "outputs": [],
   "source": [
    "gymnasts = [ [\"Brittany\", 9.15, 9.4, 9.3, 9.2],\n",
    "             [\"Lea\", 9, 8.8, 9.1],\n",
    "             [\"Maya\", 9.2]]"
   ]
  },
  {
   "cell_type": "code",
   "execution_count": 70,
   "id": "98ada607",
   "metadata": {},
   "outputs": [
    {
     "data": {
      "text/plain": [
       "9.15"
      ]
     },
     "execution_count": 70,
     "metadata": {},
     "output_type": "execute_result"
    }
   ],
   "source": [
    "gymnasts[0][1]"
   ]
  },
  {
   "cell_type": "code",
   "execution_count": 72,
   "id": "e359b6a6",
   "metadata": {},
   "outputs": [
    {
     "name": "stdout",
     "output_type": "stream",
     "text": [
      "True\n",
      "True\n",
      "False\n",
      "True\n"
     ]
    }
   ],
   "source": [
    "digits = [2, 8, 3, 1, 8, 5, 3, 0, 7, 1]\n",
    "\n",
    "print(1 in digits) # True\n",
    "\n",
    "print(3 in digits)  # True\n",
    "\n",
    "print(4 in digits) # False\n",
    " \n",
    "print( not (4 in digits)) # True"
   ]
  },
  {
   "cell_type": "markdown",
   "id": "a89c41b6",
   "metadata": {},
   "source": [
    "### for loop"
   ]
  },
  {
   "cell_type": "code",
   "execution_count": 74,
   "id": "19f3a70d",
   "metadata": {},
   "outputs": [
    {
     "name": "stdout",
     "output_type": "stream",
     "text": [
      "Brittany|9.15|9.4|9.3|9.2|\n",
      "Lea|9|8.8|9.1|9.5|\n",
      "Maya|9.2|8.7|9.2|8.8|\n"
     ]
    }
   ],
   "source": [
    "gymnasts = [\n",
    "                [\"Brittany\", 9.15, 9.4, 9.3, 9.2],\n",
    "                [\"Lea\", 9, 8.8, 9.1, 9.5],\n",
    "                [\"Maya\", 9.2, 8.7, 9.2, 8.8]\n",
    "            ]\n",
    "\n",
    "for gymnast in gymnasts:\n",
    "    for data in gymnast:\n",
    "        print(data, end=\"|\")\n",
    "    print()"
   ]
  },
  {
   "cell_type": "code",
   "execution_count": 75,
   "id": "619a88d6",
   "metadata": {},
   "outputs": [
    {
     "name": "stdout",
     "output_type": "stream",
     "text": [
      "2\n"
     ]
    }
   ],
   "source": [
    "pairs = [[1, 2], [2, 2], [3, 2], [4, 4]]\n",
    "same_count = 0\n",
    "\n",
    "for x, y in pairs:\n",
    "    if x == y:\n",
    "        same_count = same_count + 1\n",
    "print(same_count)"
   ]
  },
  {
   "cell_type": "code",
   "execution_count": 76,
   "id": "e652cc8f",
   "metadata": {},
   "outputs": [
    {
     "name": "stdout",
     "output_type": "stream",
     "text": [
      "10\n",
      "10\n",
      "10\n",
      "10\n",
      "10\n",
      "10\n",
      "10\n",
      "10\n",
      "10\n"
     ]
    }
   ],
   "source": [
    "for i, j in zip(range(1, 10), range(9, 0, -1)):\n",
    "    print(i+j)"
   ]
  },
  {
   "cell_type": "markdown",
   "id": "cf9d536b",
   "metadata": {},
   "source": [
    "### for + list"
   ]
  },
  {
   "cell_type": "code",
   "execution_count": 77,
   "id": "80f4ea1a",
   "metadata": {},
   "outputs": [],
   "source": [
    "temps = [60, 65, 71, 67, 77, 89]\n",
    "hot = [temp for temp in temps if temp > 70]"
   ]
  },
  {
   "cell_type": "code",
   "execution_count": 78,
   "id": "ce2a61f4",
   "metadata": {},
   "outputs": [
    {
     "data": {
      "text/plain": [
       "[71, 77, 89]"
      ]
     },
     "execution_count": 78,
     "metadata": {},
     "output_type": "execute_result"
    }
   ],
   "source": [
    "hot"
   ]
  },
  {
   "cell_type": "code",
   "execution_count": 79,
   "id": "642b7051",
   "metadata": {},
   "outputs": [],
   "source": [
    "letters = ['a', 'b', 'c', 'd', 'e', 'f', 'm', 'n', 'o', 'p']\n",
    "word = [letters[i] for i in [3, 4, 6, 8]]"
   ]
  },
  {
   "cell_type": "code",
   "execution_count": 81,
   "id": "d93204c2",
   "metadata": {},
   "outputs": [
    {
     "data": {
      "text/plain": [
       "[1, 2, 3, 4, 6]"
      ]
     },
     "execution_count": 81,
     "metadata": {},
     "output_type": "execute_result"
    }
   ],
   "source": [
    "def divisors(n):\n",
    "    \"\"\"Returns all the divisors of N.\n",
    "\n",
    "    >>> divisors(12)\n",
    "    [1, 2, 3, 4, 6]\n",
    "    \"\"\"\n",
    "    return [x for x in range(1, n) if n % x == 0]\n",
    "divisors(12)"
   ]
  },
  {
   "cell_type": "code",
   "execution_count": 87,
   "id": "13328d40",
   "metadata": {},
   "outputs": [],
   "source": [
    "def front(s, f):\n",
    "    \"\"\"Return S but with elements chosen by F at the front.\n",
    "\n",
    "    >>> front(range(10), lambda x: x % 2 == 1)  # odds in front\n",
    "    [1, 3, 5, 7, 9, 0, 2, 4, 6, 8]\n",
    "    \"\"\"\n",
    "    return [i for i in s if f(i)] + [i for i in s if not f(i)]"
   ]
  },
  {
   "cell_type": "code",
   "execution_count": 88,
   "id": "9ef5ae38",
   "metadata": {},
   "outputs": [
    {
     "data": {
      "text/plain": [
       "[1, 3, 5, 7, 9, 0, 2, 4, 6, 8]"
      ]
     },
     "execution_count": 88,
     "metadata": {},
     "output_type": "execute_result"
    }
   ],
   "source": [
    "front(range(10), lambda x: x % 2 == 1)"
   ]
  },
  {
   "cell_type": "markdown",
   "id": "8a1225ba",
   "metadata": {},
   "source": [
    "### list / pointer"
   ]
  },
  {
   "cell_type": "code",
   "execution_count": 91,
   "id": "c9cc3080",
   "metadata": {},
   "outputs": [
    {
     "data": {
      "text/plain": [
       "[1, 2, 3]"
      ]
     },
     "execution_count": 91,
     "metadata": {},
     "output_type": "execute_result"
    }
   ],
   "source": [
    "a = list([1, 2, 3])\n",
    "a"
   ]
  },
  {
   "cell_type": "code",
   "execution_count": 92,
   "id": "c6c5e729",
   "metadata": {},
   "outputs": [
    {
     "data": {
      "text/plain": [
       "[[1, 2, 3]]"
      ]
     },
     "execution_count": 92,
     "metadata": {},
     "output_type": "execute_result"
    }
   ],
   "source": [
    "[a]"
   ]
  },
  {
   "cell_type": "code",
   "execution_count": 93,
   "id": "60ee8799",
   "metadata": {},
   "outputs": [
    {
     "data": {
      "text/plain": [
       "[1, 2, 3]"
      ]
     },
     "execution_count": 93,
     "metadata": {},
     "output_type": "execute_result"
    }
   ],
   "source": [
    "list(a)"
   ]
  },
  {
   "cell_type": "code",
   "execution_count": 95,
   "id": "7a5aea7d",
   "metadata": {},
   "outputs": [],
   "source": [
    "def sum_nums(nums):\n",
    "    \"\"\"Returns the sum of the numbers in NUMS.\n",
    "    >>> sum_nums([6, 24, 1984])\n",
    "    2014\n",
    "    >>> sum_nums([-32, 0, 32])\n",
    "    0\n",
    "    \"\"\" \n",
    "    if (nums == []):\n",
    "        return 0\n",
    "    else:\n",
    "        return nums[0] + sum_nums( nums[1:] )"
   ]
  },
  {
   "cell_type": "code",
   "execution_count": 96,
   "id": "35e372cd",
   "metadata": {},
   "outputs": [
    {
     "data": {
      "text/plain": [
       "0"
      ]
     },
     "execution_count": 96,
     "metadata": {},
     "output_type": "execute_result"
    }
   ],
   "source": [
    "sum_nums([-32, 0, 32])"
   ]
  },
  {
   "cell_type": "code",
   "execution_count": 99,
   "id": "da4fc87b",
   "metadata": {},
   "outputs": [],
   "source": [
    "# iterative\n",
    "\n",
    "def sum_up_to(n):\n",
    "    \"\"\"Returns the sum of positive numbers from 1 up to N (inclusive).\n",
    "    >>> sum_up_to(5)\n",
    "    15\n",
    "    \"\"\" \n",
    "    temp = 0\n",
    "    for i in range(n+1):\n",
    "        temp += i\n",
    "        \n",
    "    return temp"
   ]
  },
  {
   "cell_type": "code",
   "execution_count": 100,
   "id": "ffa593ec",
   "metadata": {
    "scrolled": true
   },
   "outputs": [
    {
     "data": {
      "text/plain": [
       "15"
      ]
     },
     "execution_count": 100,
     "metadata": {},
     "output_type": "execute_result"
    }
   ],
   "source": [
    "sum_up_to(5)"
   ]
  },
  {
   "cell_type": "code",
   "execution_count": 101,
   "id": "6d3cdb0c",
   "metadata": {},
   "outputs": [],
   "source": [
    "# recursive\n",
    "\n",
    "def sum_up_to(n):\n",
    "    \"\"\"Returns the sum of positive numbers from 1 up to N (inclusive).\n",
    "    >>> sum_up_to(5)\n",
    "    15\n",
    "    \"\"\" \n",
    "    if n == 0:\n",
    "        return 0\n",
    "    return n + sum_up_to(n - 1)"
   ]
  },
  {
   "cell_type": "code",
   "execution_count": 102,
   "id": "2f6d4ff4",
   "metadata": {
    "scrolled": true
   },
   "outputs": [
    {
     "data": {
      "text/plain": [
       "15"
      ]
     },
     "execution_count": 102,
     "metadata": {},
     "output_type": "execute_result"
    }
   ],
   "source": [
    "sum_up_to(5)"
   ]
  },
  {
   "cell_type": "markdown",
   "id": "e3824592",
   "metadata": {},
   "source": [
    "### built in itterable"
   ]
  },
  {
   "cell_type": "code",
   "execution_count": 105,
   "id": "69ec6c8d",
   "metadata": {},
   "outputs": [
    {
     "data": {
      "text/plain": [
       "True"
      ]
     },
     "execution_count": 105,
     "metadata": {},
     "output_type": "execute_result"
    }
   ],
   "source": [
    "all([True, True, True])"
   ]
  },
  {
   "cell_type": "code",
   "execution_count": 106,
   "id": "b84a9910",
   "metadata": {
    "scrolled": true
   },
   "outputs": [
    {
     "data": {
      "text/plain": [
       "True"
      ]
     },
     "execution_count": 106,
     "metadata": {},
     "output_type": "execute_result"
    }
   ],
   "source": [
    "any([True, False, False])"
   ]
  },
  {
   "cell_type": "code",
   "execution_count": 1,
   "id": "cdbca06d",
   "metadata": {},
   "outputs": [
    {
     "data": {
      "text/plain": [
       "15"
      ]
     },
     "execution_count": 1,
     "metadata": {},
     "output_type": "execute_result"
    }
   ],
   "source": [
    "sum([1, 2, 3, 4, 5]) # 15"
   ]
  },
  {
   "cell_type": "code",
   "execution_count": 2,
   "id": "7aab40b6",
   "metadata": {},
   "outputs": [
    {
     "data": {
      "text/plain": [
       "[-22, -115]"
      ]
     },
     "execution_count": 2,
     "metadata": {},
     "output_type": "execute_result"
    }
   ],
   "source": [
    "coords = [ [37, -144], [-22, -115], [56, -163] ]\n",
    "max(coords, key=lambda coord: coord[0])  # [56, -163]"
   ]
  },
  {
   "cell_type": "code",
   "execution_count": 3,
   "id": "1c5cda10",
   "metadata": {},
   "outputs": [
    {
     "data": {
      "text/plain": [
       "[-22, -115]"
      ]
     },
     "execution_count": 3,
     "metadata": {},
     "output_type": "execute_result"
    }
   ],
   "source": [
    "min(coords, key=lambda coord: coord[0])  #  [-22, -115]"
   ]
  },
  {
   "cell_type": "code",
   "execution_count": 14,
   "id": "500689d5",
   "metadata": {},
   "outputs": [
    {
     "data": {
      "text/plain": [
       "['Maya', 9.2, 8.7, 9.2, 8.8]"
      ]
     },
     "execution_count": 14,
     "metadata": {},
     "output_type": "execute_result"
    }
   ],
   "source": [
    "gymnasts = [ [\"Brittany\", 9.15, 9.4, 9.3, 9.2],\n",
    "    [\"Lea\", 9, 8.8, 9.1, 9.5],\n",
    "    [\"Maya\", 9.2, 8.7, 9.2, 8.8] ]\n",
    "min(gymnasts, key=lambda scores: min(scores[1:]))"
   ]
  },
  {
   "cell_type": "code",
   "execution_count": 15,
   "id": "79c6f99d",
   "metadata": {},
   "outputs": [
    {
     "data": {
      "text/plain": [
       "['Brittany', 9.15, 9.4, 9.3, 9.2]"
      ]
     },
     "execution_count": 15,
     "metadata": {},
     "output_type": "execute_result"
    }
   ],
   "source": [
    "max(gymnasts, key=lambda scores: sum(scores[1:], 0))"
   ]
  },
  {
   "cell_type": "markdown",
   "id": "3d35caca",
   "metadata": {},
   "source": [
    "### Mutable object"
   ]
  },
  {
   "cell_type": "code",
   "execution_count": 22,
   "id": "186d01f7",
   "metadata": {},
   "outputs": [],
   "source": [
    "s = [2, 3]\n",
    "t = [5, 6]\n",
    "# s.extend(4) # 🚫 Error: 4 is not an iterable!\n",
    "s.extend(t)\n",
    "t = 0"
   ]
  },
  {
   "cell_type": "code",
   "execution_count": 24,
   "id": "883e14d5",
   "metadata": {},
   "outputs": [
    {
     "data": {
      "text/plain": [
       "[2, 3, 5, 6]"
      ]
     },
     "execution_count": 24,
     "metadata": {},
     "output_type": "execute_result"
    }
   ],
   "source": [
    "s"
   ]
  },
  {
   "cell_type": "code",
   "execution_count": 25,
   "id": "384ef8a5",
   "metadata": {},
   "outputs": [],
   "source": [
    "s.append([1, 2, 3])"
   ]
  },
  {
   "cell_type": "code",
   "execution_count": 26,
   "id": "732d1610",
   "metadata": {},
   "outputs": [
    {
     "data": {
      "text/plain": [
       "[2, 3, 5, 6, [1, 2, 3]]"
      ]
     },
     "execution_count": 26,
     "metadata": {},
     "output_type": "execute_result"
    }
   ],
   "source": [
    "s"
   ]
  },
  {
   "cell_type": "code",
   "execution_count": 27,
   "id": "209d0581",
   "metadata": {},
   "outputs": [],
   "source": [
    "s = [6, 2, 4, 8, 4]\n",
    "s.remove(4)"
   ]
  },
  {
   "cell_type": "code",
   "execution_count": 28,
   "id": "e372621f",
   "metadata": {},
   "outputs": [
    {
     "data": {
      "text/plain": [
       "[6, 2, 8, 4]"
      ]
     },
     "execution_count": 28,
     "metadata": {},
     "output_type": "execute_result"
    }
   ],
   "source": [
    "s"
   ]
  },
  {
   "cell_type": "code",
   "execution_count": 29,
   "id": "3c3b1098",
   "metadata": {},
   "outputs": [],
   "source": [
    "s = [2, 3]\n",
    "t = [5, 6]\n",
    "t = s.pop() # list.pop(index)"
   ]
  },
  {
   "cell_type": "code",
   "execution_count": 30,
   "id": "398e2169",
   "metadata": {},
   "outputs": [
    {
     "data": {
      "text/plain": [
       "[2]"
      ]
     },
     "execution_count": 30,
     "metadata": {},
     "output_type": "execute_result"
    }
   ],
   "source": [
    "s"
   ]
  },
  {
   "cell_type": "code",
   "execution_count": 31,
   "id": "e0b48a8b",
   "metadata": {},
   "outputs": [
    {
     "data": {
      "text/plain": [
       "3"
      ]
     },
     "execution_count": 31,
     "metadata": {},
     "output_type": "execute_result"
    }
   ],
   "source": [
    "t"
   ]
  },
  {
   "cell_type": "code",
   "execution_count": 32,
   "id": "4f2f89da",
   "metadata": {},
   "outputs": [],
   "source": [
    "L = [1, 2, 3, 4, 5]\n",
    "\n",
    "L[2] = 6\n",
    "\n",
    "L[1:3] = [9, 8]\n",
    "\n",
    "L[2:4] = []            # Deleting elements\n",
    "\n",
    "L[1:1] = [2, 3, 4, 5]  # Inserting elements\n",
    "\n",
    "L[len(L):] = [10, 11]  # Appending\n",
    "\n",
    "L = L + [20, 30]\n",
    "\n",
    "L[0:0] = range(-3, 0)  # Prepending"
   ]
  },
  {
   "cell_type": "code",
   "execution_count": 33,
   "id": "833c7f2c",
   "metadata": {},
   "outputs": [
    {
     "data": {
      "text/plain": [
       "[-3, -2, -1, 1, 2, 3, 4, 5, 9, 5, 10, 11, 20, 30]"
      ]
     },
     "execution_count": 33,
     "metadata": {},
     "output_type": "execute_result"
    }
   ],
   "source": [
    "L"
   ]
  },
  {
   "cell_type": "markdown",
   "id": "3db4e92a",
   "metadata": {},
   "source": [
    "### Name change .vs Object mutation"
   ]
  },
  {
   "cell_type": "code",
   "execution_count": 37,
   "id": "2e15f2ce",
   "metadata": {},
   "outputs": [
    {
     "name": "stdout",
     "output_type": "stream",
     "text": [
      "4\n",
      "6\n"
     ]
    }
   ],
   "source": [
    "# Name change: immutation / int, float, string, tuple / cannot change the value\n",
    "x = 2\n",
    "print(x + x) # 4\n",
    "\n",
    "x = 3\n",
    "print(x + x) # 6"
   ]
  },
  {
   "cell_type": "code",
   "execution_count": 38,
   "id": "4d302be4",
   "metadata": {
    "scrolled": true
   },
   "outputs": [
    {
     "name": "stdout",
     "output_type": "stream",
     "text": [
      "['A', 'B', 'A', 'B']\n",
      "['A', 'B', 'C', 'A', 'B', 'C']\n"
     ]
    }
   ],
   "source": [
    "# Object mutation: mutation / list, dictionary / can change the value\n",
    "x = ['A', 'B']\n",
    "print(x + x)  # ['A', 'B', 'A', 'B']\n",
    "\n",
    "x.append('C')\n",
    "print(x + x)  # ['A', 'B', 'C', 'A', 'B', 'C']"
   ]
  },
  {
   "cell_type": "markdown",
   "id": "d738cfc4",
   "metadata": {},
   "source": [
    "### Equality .VS Identity"
   ]
  },
  {
   "cell_type": "code",
   "execution_count": 51,
   "id": "2088d6f1",
   "metadata": {},
   "outputs": [
    {
     "name": "stdout",
     "output_type": "stream",
     "text": [
      "True\n",
      "False\n"
     ]
    }
   ],
   "source": [
    "list1 = [1, 2, 3]\n",
    "list2 = [1, 2, 3]\n",
    "\n",
    "print(list1 == list2) # equality: == / True\n",
    "\n",
    "print(list1 is list2) # identity: is / False"
   ]
  },
  {
   "cell_type": "code",
   "execution_count": 52,
   "id": "34453c32",
   "metadata": {},
   "outputs": [
    {
     "name": "stdout",
     "output_type": "stream",
     "text": [
      "True\n",
      "True\n"
     ]
    }
   ],
   "source": [
    "list3 = list1\n",
    "\n",
    "print(list1 == list3) # equality: == / False\n",
    "\n",
    "print(list1 is list3) # identity: is / True"
   ]
  },
  {
   "cell_type": "markdown",
   "id": "2b57a655",
   "metadata": {},
   "source": [
    "### Iterators"
   ]
  },
  {
   "cell_type": "code",
   "execution_count": 53,
   "id": "331dee41",
   "metadata": {},
   "outputs": [],
   "source": [
    "numbers = [\"一つ\", \"二つ\", \"三つ\"]\n",
    "num_iter = iter(numbers)\n",
    "num_iter2 = iter(num_iter)\n",
    "\n",
    "assert num_iter is num_iter2 # iter(iter(something)) is iter(something)"
   ]
  },
  {
   "cell_type": "code",
   "execution_count": 54,
   "id": "208824ec",
   "metadata": {},
   "outputs": [
    {
     "data": {
      "text/plain": [
       "'一つ'"
      ]
     },
     "execution_count": 54,
     "metadata": {},
     "output_type": "execute_result"
    }
   ],
   "source": [
    "next(num_iter)"
   ]
  },
  {
   "cell_type": "code",
   "execution_count": 55,
   "id": "425b52c4",
   "metadata": {},
   "outputs": [],
   "source": [
    "assert num_iter is num_iter2"
   ]
  },
  {
   "cell_type": "code",
   "execution_count": 56,
   "id": "f17bec29",
   "metadata": {},
   "outputs": [
    {
     "data": {
      "text/plain": [
       "'二つ'"
      ]
     },
     "execution_count": 56,
     "metadata": {},
     "output_type": "execute_result"
    }
   ],
   "source": [
    "next(num_iter2) "
   ]
  },
  {
   "cell_type": "code",
   "execution_count": 57,
   "id": "c86c21d2",
   "metadata": {},
   "outputs": [
    {
     "name": "stdout",
     "output_type": "stream",
     "text": [
      "2\n",
      "4\n",
      "6\n"
     ]
    }
   ],
   "source": [
    "# built-in map\n",
    "def double(num):\n",
    "    return num * 2\n",
    "\n",
    "for num in map(double, [1, 2, 3]):\n",
    "    print(num)"
   ]
  },
  {
   "cell_type": "code",
   "execution_count": 58,
   "id": "21668158",
   "metadata": {},
   "outputs": [
    {
     "name": "stdout",
     "output_type": "stream",
     "text": [
      "sup\n",
      "hello\n",
      "hi\n"
     ]
    }
   ],
   "source": [
    "for word in map(lambda text: text.lower(), [\"SuP\", \"HELLO\", \"Hi\"]):\n",
    "    print(word)"
   ]
  },
  {
   "cell_type": "code",
   "execution_count": 60,
   "id": "1614cb5c",
   "metadata": {},
   "outputs": [
    {
     "name": "stdout",
     "output_type": "stream",
     "text": [
      "[2, 4, 6]\n",
      "['sup', 'hello', 'hi']\n"
     ]
    }
   ],
   "source": [
    "doubled = list(map(double, [1, 2, 3]))\n",
    "print(doubled)\n",
    "lowered = list(map(lambda text: text.lower(), [\"SuP\", \"HELLO\", \"Hi\"]))\n",
    "print(lowered)"
   ]
  },
  {
   "cell_type": "code",
   "execution_count": 63,
   "id": "de4ad7b5",
   "metadata": {},
   "outputs": [],
   "source": [
    "def termified(n, term):\n",
    "    \"\"\"Returns every the result of calling TERM\n",
    "    on each element in the range from 0 to N (inclusive).\n",
    "\n",
    "    >>> termified(5, lambda x: 2 ** x)\n",
    "    [1, 2, 4, 8, 16, 32]\n",
    "    \"\"\"\n",
    "    return list(map(term, range(n+1)))\n",
    "\n",
    "\"\"\" List comprehention\n",
    "def termified(n, term):\n",
    "    return [term(x) for x in range(n + 1)]\n",
    "\"\"\""
   ]
  },
  {
   "cell_type": "code",
   "execution_count": 64,
   "id": "5f6a96e7",
   "metadata": {},
   "outputs": [
    {
     "data": {
      "text/plain": [
       "[1, 2, 4, 8, 16, 32]"
      ]
     },
     "execution_count": 64,
     "metadata": {},
     "output_type": "execute_result"
    }
   ],
   "source": [
    "termified(5, lambda x: 2 ** x)"
   ]
  },
  {
   "cell_type": "code",
   "execution_count": 65,
   "id": "9ea517cb",
   "metadata": {},
   "outputs": [
    {
     "name": "stdout",
     "output_type": "stream",
     "text": [
      "2\n",
      "4\n"
     ]
    }
   ],
   "source": [
    "# filter\n",
    "\n",
    "for num in filter(lambda x: x % 2 == 0, [1, 2, 3, 4]):\n",
    "    print(num)"
   ]
  },
  {
   "cell_type": "code",
   "execution_count": 67,
   "id": "a532eb0c",
   "metadata": {},
   "outputs": [
    {
     "data": {
      "text/plain": [
       "[2, 4]"
      ]
     },
     "execution_count": 67,
     "metadata": {},
     "output_type": "execute_result"
    }
   ],
   "source": [
    "list(filter(lambda x: x % 2 == 0, [1, 2, 3, 4]))"
   ]
  },
  {
   "cell_type": "code",
   "execution_count": 75,
   "id": "966646d8",
   "metadata": {},
   "outputs": [
    {
     "data": {
      "text/plain": [
       "'\\n# list comprehension\\ndef divisors(n):\\n    Returns all the divisors of N.\\n\\n    >>> divisors(12)\\n    [1, 2, 3, 4, 6]\\n    \\n'"
      ]
     },
     "execution_count": 75,
     "metadata": {},
     "output_type": "execute_result"
    }
   ],
   "source": [
    "def divisors(n):\n",
    "    \"\"\"Returns all the divisors of N.\n",
    "\n",
    "    >>> divisors(12)\n",
    "    [1, 2, 3, 4, 6]\n",
    "    \"\"\"\n",
    "    return list(filter(lambda x: n%x == 0, range(1, n)))\n",
    "\n",
    "\"\"\"\n",
    "# list comprehension\n",
    "def divisors(n):\n",
    "    Returns all the divisors of N.\n",
    "\n",
    "    >>> divisors(12)\n",
    "    [1, 2, 3, 4, 6]\n",
    "    \n",
    "\"\"\""
   ]
  },
  {
   "cell_type": "code",
   "execution_count": 76,
   "id": "89f66804",
   "metadata": {},
   "outputs": [
    {
     "data": {
      "text/plain": [
       "[1, 2, 3, 4, 6]"
      ]
     },
     "execution_count": 76,
     "metadata": {},
     "output_type": "execute_result"
    }
   ],
   "source": [
    "divisors(12)"
   ]
  },
  {
   "cell_type": "code",
   "execution_count": 78,
   "id": "89178426",
   "metadata": {},
   "outputs": [],
   "source": [
    "# zip\n",
    "\n",
    "def matches(a, b):\n",
    "    \"\"\"Return the number of values k such that A[k] == B[k].\n",
    "    >>> matches([1, 2, 3, 4, 5], [3, 2, 3, 0, 5])\n",
    "    3\n",
    "    >>> matches(\"abdomens\", \"indolence\")\n",
    "    4\n",
    "    >>> matches(\"abcd\", \"dcba\")\n",
    "    0\n",
    "    >>> matches(\"abcde\", \"edcba\")\n",
    "    1\n",
    "    >>> matches(\"abcdefg\", \"edcba\")\n",
    "    1\n",
    "    \"\"\"\n",
    "    count = 0\n",
    "    for i, j in zip(a, b):\n",
    "        if i == j:\n",
    "            count += 1\n",
    "            \n",
    "    return count\n",
    "\n",
    "#   return sum([1 for a, b in zip(a, b) if a == b])"
   ]
  },
  {
   "cell_type": "code",
   "execution_count": 79,
   "id": "679545e8",
   "metadata": {},
   "outputs": [
    {
     "data": {
      "text/plain": [
       "3"
      ]
     },
     "execution_count": 79,
     "metadata": {},
     "output_type": "execute_result"
    }
   ],
   "source": [
    "matches([1, 2, 3, 4, 5], [3, 2, 3, 0, 5])"
   ]
  },
  {
   "cell_type": "code",
   "execution_count": 81,
   "id": "0b70e720",
   "metadata": {},
   "outputs": [],
   "source": [
    "def list_o_lists(n):\n",
    "    \"\"\"Assuming N >= 0, return the list consisting of N lists:\n",
    "    [1], [1, 2], [1, 2, 3], ... [1, 2, ... N].\n",
    "    >>> list_o_lists(0)\n",
    "    []\n",
    "    >>> list_o_lists(1)\n",
    "    [[1]]\n",
    "    >>> list_o_lists(5)\n",
    "    [[1], [1, 2], [1, 2, 3], [1, 2, 3, 4], [1, 2, 3, 4, 5]]\n",
    "    \"\"\"\n",
    "    \n",
    "    return [list(range(1, i + 1)) for i in range(1, n+1)]"
   ]
  },
  {
   "cell_type": "code",
   "execution_count": 82,
   "id": "1be122c3",
   "metadata": {},
   "outputs": [
    {
     "data": {
      "text/plain": [
       "[[1], [1, 2], [1, 2, 3], [1, 2, 3, 4], [1, 2, 3, 4, 5]]"
      ]
     },
     "execution_count": 82,
     "metadata": {},
     "output_type": "execute_result"
    }
   ],
   "source": [
    "list_o_lists(5)"
   ]
  },
  {
   "cell_type": "code",
   "execution_count": 97,
   "id": "8b342938",
   "metadata": {},
   "outputs": [],
   "source": [
    "def palindrome(s):\n",
    "    \"\"\"Return whether s is the same sequence backward and forward.\n",
    "    ​\n",
    "    >>> palindrome([3, 1, 4, 1, 5])\n",
    "    False\n",
    "    >>> palindrome([3, 1, 4, 1, 3])\n",
    "    True\n",
    "    >>> palindrome('seveneves')\n",
    "    True\n",
    "    >>> palindrome('seven eves')\n",
    "    False\n",
    "    \"\"\"\n",
    "    \n",
    "    \"\"\"\n",
    "    left = s[:int(len(s)/2)-2]\n",
    "    right = s[int(len(s)/2):]\n",
    "    \n",
    "    return left == right\n",
    "    \"\"\"\n",
    "    \n",
    "    # for i, j in zip(s[:], s[::-1]):\n",
    "    #     if i != j:\n",
    "    #        return False\n",
    "    # return True\n",
    "\n",
    "    # return all([a == b for a, b in zip(s, reversed(s))])\n",
    "    # OR\n",
    "    # return list(s) == list(reversed(s))\n",
    "    return s == s[::-1]"
   ]
  },
  {
   "cell_type": "code",
   "execution_count": 98,
   "id": "0e9ef68f",
   "metadata": {},
   "outputs": [
    {
     "data": {
      "text/plain": [
       "False"
      ]
     },
     "execution_count": 98,
     "metadata": {},
     "output_type": "execute_result"
    }
   ],
   "source": [
    "palindrome([3, 1, 4, 1, 5])"
   ]
  },
  {
   "cell_type": "code",
   "execution_count": 99,
   "id": "b49f845a",
   "metadata": {},
   "outputs": [
    {
     "data": {
      "text/plain": [
       "True"
      ]
     },
     "execution_count": 99,
     "metadata": {},
     "output_type": "execute_result"
    }
   ],
   "source": [
    "palindrome('seveneves')"
   ]
  },
  {
   "cell_type": "markdown",
   "id": "c8e239cb",
   "metadata": {},
   "source": [
    "### Generators"
   ]
  },
  {
   "cell_type": "code",
   "execution_count": 100,
   "id": "43532336",
   "metadata": {},
   "outputs": [],
   "source": [
    "def evens():\n",
    "    num = 0\n",
    "    while num < 10:\n",
    "        yield num\n",
    "        num += 2"
   ]
  },
  {
   "cell_type": "code",
   "execution_count": 102,
   "id": "253e8877",
   "metadata": {},
   "outputs": [],
   "source": [
    "even = evens()"
   ]
  },
  {
   "cell_type": "code",
   "execution_count": 103,
   "id": "b980babb",
   "metadata": {},
   "outputs": [
    {
     "name": "stdout",
     "output_type": "stream",
     "text": [
      "0\n",
      "2\n",
      "4\n",
      "6\n"
     ]
    }
   ],
   "source": [
    "print(next(even))\n",
    "print(next(even))\n",
    "print(next(even))\n",
    "print(next(even))"
   ]
  },
  {
   "cell_type": "code",
   "execution_count": 104,
   "id": "1b49dfa9",
   "metadata": {},
   "outputs": [
    {
     "name": "stdout",
     "output_type": "stream",
     "text": [
      "8\n"
     ]
    },
    {
     "ename": "StopIteration",
     "evalue": "",
     "output_type": "error",
     "traceback": [
      "\u001b[0;31m---------------------------------------------------------------------------\u001b[0m",
      "\u001b[0;31mStopIteration\u001b[0m                             Traceback (most recent call last)",
      "\u001b[0;32m/var/folders/m5/b577jf4d20jc309f4phr3lvr0000gn/T/ipykernel_16515/990136708.py\u001b[0m in \u001b[0;36m<module>\u001b[0;34m\u001b[0m\n\u001b[1;32m      1\u001b[0m \u001b[0mprint\u001b[0m\u001b[0;34m(\u001b[0m\u001b[0mnext\u001b[0m\u001b[0;34m(\u001b[0m\u001b[0meven\u001b[0m\u001b[0;34m)\u001b[0m\u001b[0;34m)\u001b[0m\u001b[0;34m\u001b[0m\u001b[0;34m\u001b[0m\u001b[0m\n\u001b[0;32m----> 2\u001b[0;31m \u001b[0mprint\u001b[0m\u001b[0;34m(\u001b[0m\u001b[0mnext\u001b[0m\u001b[0;34m(\u001b[0m\u001b[0meven\u001b[0m\u001b[0;34m)\u001b[0m\u001b[0;34m)\u001b[0m\u001b[0;34m\u001b[0m\u001b[0;34m\u001b[0m\u001b[0m\n\u001b[0m\u001b[1;32m      3\u001b[0m \u001b[0mprint\u001b[0m\u001b[0;34m(\u001b[0m\u001b[0mnext\u001b[0m\u001b[0;34m(\u001b[0m\u001b[0meven\u001b[0m\u001b[0;34m)\u001b[0m\u001b[0;34m)\u001b[0m\u001b[0;34m\u001b[0m\u001b[0;34m\u001b[0m\u001b[0m\n",
      "\u001b[0;31mStopIteration\u001b[0m: "
     ]
    }
   ],
   "source": [
    "print(next(even))\n",
    "print(next(even))\n",
    "print(next(even))"
   ]
  },
  {
   "cell_type": "code",
   "execution_count": 116,
   "id": "45f22466",
   "metadata": {},
   "outputs": [],
   "source": [
    "def countdown(n):\n",
    "    \"\"\"\n",
    "    Generate a countdown of numbers from N down to 'blast off!'.\n",
    "    >>> c = countdown(3)\n",
    "    >>> next(c)\n",
    "    3\n",
    "    >>> next(c)\n",
    "    2\n",
    "    >>> next(c)\n",
    "    1\n",
    "    >>> next(c)\n",
    "    'blast off!'\n",
    "    \"\"\"\n",
    "    if n == 0:\n",
    "        yield 'blast off!'\n",
    "    else:\n",
    "        yield n\n",
    "        yield from countdown(n-1)\n",
    "        \n",
    "    \"\"\"\n",
    "    while n > 0:\n",
    "        yield n\n",
    "        n -= 1\n",
    "    yield \"blast off!\"\n",
    "    \"\"\""
   ]
  },
  {
   "cell_type": "code",
   "execution_count": 117,
   "id": "ab21fcec",
   "metadata": {},
   "outputs": [
    {
     "data": {
      "text/plain": [
       "3"
      ]
     },
     "execution_count": 117,
     "metadata": {},
     "output_type": "execute_result"
    }
   ],
   "source": [
    ">>> c = countdown(3)\n",
    ">>> next(c)"
   ]
  },
  {
   "cell_type": "code",
   "execution_count": 118,
   "id": "9d65e2a6",
   "metadata": {},
   "outputs": [
    {
     "data": {
      "text/plain": [
       "2"
      ]
     },
     "execution_count": 118,
     "metadata": {},
     "output_type": "execute_result"
    }
   ],
   "source": [
    ">>> next(c)"
   ]
  },
  {
   "cell_type": "code",
   "execution_count": 119,
   "id": "bcefecac",
   "metadata": {},
   "outputs": [
    {
     "data": {
      "text/plain": [
       "1"
      ]
     },
     "execution_count": 119,
     "metadata": {},
     "output_type": "execute_result"
    }
   ],
   "source": [
    ">>> next(c)"
   ]
  },
  {
   "cell_type": "code",
   "execution_count": 120,
   "id": "63ae8680",
   "metadata": {},
   "outputs": [
    {
     "data": {
      "text/plain": [
       "'blast off!'"
      ]
     },
     "execution_count": 120,
     "metadata": {},
     "output_type": "execute_result"
    }
   ],
   "source": [
    ">>> next(c)"
   ]
  },
  {
   "cell_type": "code",
   "execution_count": 121,
   "id": "32eeca32",
   "metadata": {
    "scrolled": true
   },
   "outputs": [
    {
     "ename": "StopIteration",
     "evalue": "",
     "output_type": "error",
     "traceback": [
      "\u001b[0;31m---------------------------------------------------------------------------\u001b[0m",
      "\u001b[0;31mStopIteration\u001b[0m                             Traceback (most recent call last)",
      "\u001b[0;32m/var/folders/m5/b577jf4d20jc309f4phr3lvr0000gn/T/ipykernel_16515/587744912.py\u001b[0m in \u001b[0;36m<module>\u001b[0;34m\u001b[0m\n\u001b[0;32m----> 1\u001b[0;31m \u001b[0mnext\u001b[0m\u001b[0;34m(\u001b[0m\u001b[0mc\u001b[0m\u001b[0;34m)\u001b[0m\u001b[0;34m\u001b[0m\u001b[0;34m\u001b[0m\u001b[0m\n\u001b[0m",
      "\u001b[0;31mStopIteration\u001b[0m: "
     ]
    }
   ],
   "source": [
    ">>> next(c)"
   ]
  },
  {
   "cell_type": "code",
   "execution_count": 132,
   "id": "2777b5a2",
   "metadata": {},
   "outputs": [],
   "source": [
    "# yield + return\n",
    "def f(x):\n",
    "    yield x\n",
    "    yield x + 1\n",
    "    return 100\n",
    "    yield x + 3\n",
    "    \n",
    "x1 = list(f(2))  # [2, 3]"
   ]
  },
  {
   "cell_type": "code",
   "execution_count": 133,
   "id": "77a6b296",
   "metadata": {},
   "outputs": [
    {
     "data": {
      "text/plain": [
       "[2, 3]"
      ]
     },
     "execution_count": 133,
     "metadata": {},
     "output_type": "execute_result"
    }
   ],
   "source": [
    "x1"
   ]
  },
  {
   "cell_type": "code",
   "execution_count": 134,
   "id": "111d2440",
   "metadata": {},
   "outputs": [],
   "source": [
    "def g(x):\n",
    "    yield x\n",
    "    yield x + 1\n",
    "    return x + 2\n",
    "    yield x + 3\n",
    "x2 = list(g(2))"
   ]
  },
  {
   "cell_type": "code",
   "execution_count": 135,
   "id": "73a4809e",
   "metadata": {},
   "outputs": [
    {
     "data": {
      "text/plain": [
       "[2, 3]"
      ]
     },
     "execution_count": 135,
     "metadata": {},
     "output_type": "execute_result"
    }
   ],
   "source": [
    "x2"
   ]
  },
  {
   "cell_type": "code",
   "execution_count": 136,
   "id": "ab9b1066",
   "metadata": {},
   "outputs": [],
   "source": [
    "def h(x):\n",
    "    y = yield from g(x)  # retur -> stop iterating\n",
    "    yield y\n",
    "    \n",
    "x3 = list(h(2))"
   ]
  },
  {
   "cell_type": "code",
   "execution_count": 137,
   "id": "9b97bd4f",
   "metadata": {},
   "outputs": [
    {
     "data": {
      "text/plain": [
       "[2, 3, 4]"
      ]
     },
     "execution_count": 137,
     "metadata": {},
     "output_type": "execute_result"
    }
   ],
   "source": [
    "x3"
   ]
  },
  {
   "cell_type": "markdown",
   "id": "94c2bc25",
   "metadata": {},
   "source": [
    "### class / object"
   ]
  },
  {
   "cell_type": "code",
   "execution_count": 138,
   "id": "456c7938",
   "metadata": {},
   "outputs": [
    {
     "name": "stdout",
     "output_type": "stream",
     "text": [
      "Child.f\n"
     ]
    }
   ],
   "source": [
    "class Parent:\n",
    "    def f(s):\n",
    "        print(\"Parent.f\")\n",
    "\n",
    "    def g(s):\n",
    "        s.f()\n",
    "\n",
    "class Child(Parent):\n",
    "    def f(me):\n",
    "        print(\"Child.f\")\n",
    "\n",
    "a_child = Child()\n",
    "a_child.g()"
   ]
  },
  {
   "cell_type": "code",
   "execution_count": 139,
   "id": "2692bcc2",
   "metadata": {},
   "outputs": [],
   "source": [
    "def memo(f):\n",
    "    cache = {}\n",
    "    def memoized(n):\n",
    "        if n not in cache:\n",
    "            cache[n] = f(n)\n",
    "        return cache[n]\n",
    "    return memoized"
   ]
  },
  {
   "cell_type": "code",
   "execution_count": 142,
   "id": "81f539e0",
   "metadata": {},
   "outputs": [
    {
     "ename": "TypeError",
     "evalue": "'int' object is not callable",
     "output_type": "error",
     "traceback": [
      "\u001b[0;31m---------------------------------------------------------------------------\u001b[0m",
      "\u001b[0;31mTypeError\u001b[0m                                 Traceback (most recent call last)",
      "\u001b[0;32m/var/folders/m5/b577jf4d20jc309f4phr3lvr0000gn/T/ipykernel_16515/3958577560.py\u001b[0m in \u001b[0;36m<module>\u001b[0;34m\u001b[0m\n\u001b[0;32m----> 1\u001b[0;31m \u001b[0mmemo\u001b[0m\u001b[0;34m(\u001b[0m\u001b[0;36m1\u001b[0m\u001b[0;34m)\u001b[0m\u001b[0;34m(\u001b[0m\u001b[0;36m10\u001b[0m\u001b[0;34m)\u001b[0m\u001b[0;34m\u001b[0m\u001b[0;34m\u001b[0m\u001b[0m\n\u001b[0m",
      "\u001b[0;32m/var/folders/m5/b577jf4d20jc309f4phr3lvr0000gn/T/ipykernel_16515/103168917.py\u001b[0m in \u001b[0;36mmemoized\u001b[0;34m(n)\u001b[0m\n\u001b[1;32m      3\u001b[0m     \u001b[0;32mdef\u001b[0m \u001b[0mmemoized\u001b[0m\u001b[0;34m(\u001b[0m\u001b[0mn\u001b[0m\u001b[0;34m)\u001b[0m\u001b[0;34m:\u001b[0m\u001b[0;34m\u001b[0m\u001b[0;34m\u001b[0m\u001b[0m\n\u001b[1;32m      4\u001b[0m         \u001b[0;32mif\u001b[0m \u001b[0mn\u001b[0m \u001b[0;32mnot\u001b[0m \u001b[0;32min\u001b[0m \u001b[0mcache\u001b[0m\u001b[0;34m:\u001b[0m\u001b[0;34m\u001b[0m\u001b[0;34m\u001b[0m\u001b[0m\n\u001b[0;32m----> 5\u001b[0;31m             \u001b[0mcache\u001b[0m\u001b[0;34m[\u001b[0m\u001b[0mn\u001b[0m\u001b[0;34m]\u001b[0m \u001b[0;34m=\u001b[0m \u001b[0mf\u001b[0m\u001b[0;34m(\u001b[0m\u001b[0mn\u001b[0m\u001b[0;34m)\u001b[0m\u001b[0;34m\u001b[0m\u001b[0;34m\u001b[0m\u001b[0m\n\u001b[0m\u001b[1;32m      6\u001b[0m         \u001b[0;32mreturn\u001b[0m \u001b[0mcache\u001b[0m\u001b[0;34m[\u001b[0m\u001b[0mn\u001b[0m\u001b[0;34m]\u001b[0m\u001b[0;34m\u001b[0m\u001b[0;34m\u001b[0m\u001b[0m\n\u001b[1;32m      7\u001b[0m     \u001b[0;32mreturn\u001b[0m \u001b[0mmemoized\u001b[0m\u001b[0;34m\u001b[0m\u001b[0;34m\u001b[0m\u001b[0m\n",
      "\u001b[0;31mTypeError\u001b[0m: 'int' object is not callable"
     ]
    }
   ],
   "source": [
    "memo(1)"
   ]
  },
  {
   "cell_type": "code",
   "execution_count": 149,
   "id": "55960b99",
   "metadata": {},
   "outputs": [
    {
     "data": {
      "text/plain": [
       "False"
      ]
     },
     "execution_count": 149,
     "metadata": {},
     "output_type": "execute_result"
    }
   ],
   "source": [
    "a = [1, 2, 3, 4, 5, 6, 7, 8, 9]\n",
    "a is list(a)"
   ]
  },
  {
   "cell_type": "code",
   "execution_count": 156,
   "id": "772b6975",
   "metadata": {},
   "outputs": [
    {
     "data": {
      "text/plain": [
       "True"
      ]
     },
     "execution_count": 156,
     "metadata": {},
     "output_type": "execute_result"
    }
   ],
   "source": [
    "a == list(a)"
   ]
  },
  {
   "cell_type": "code",
   "execution_count": 150,
   "id": "501c5299",
   "metadata": {},
   "outputs": [
    {
     "data": {
      "text/plain": [
       "[1, 2, 3, 4, 5, 6, 7, 8, 9]"
      ]
     },
     "execution_count": 150,
     "metadata": {},
     "output_type": "execute_result"
    }
   ],
   "source": [
    "list(a)"
   ]
  },
  {
   "cell_type": "code",
   "execution_count": 151,
   "id": "d9c6157d",
   "metadata": {},
   "outputs": [
    {
     "data": {
      "text/plain": [
       "[1, 2, 3, 4, 5, 6, 7, 8, 9]"
      ]
     },
     "execution_count": 151,
     "metadata": {},
     "output_type": "execute_result"
    }
   ],
   "source": [
    "a"
   ]
  },
  {
   "cell_type": "code",
   "execution_count": 152,
   "id": "f8f4edd7",
   "metadata": {},
   "outputs": [
    {
     "data": {
      "text/plain": [
       "False"
      ]
     },
     "execution_count": 152,
     "metadata": {},
     "output_type": "execute_result"
    }
   ],
   "source": [
    "a is a[:]"
   ]
  },
  {
   "cell_type": "code",
   "execution_count": 154,
   "id": "e00f20b8",
   "metadata": {},
   "outputs": [
    {
     "data": {
      "text/plain": [
       "[1, 3, 5, 7, 9]"
      ]
     },
     "execution_count": 154,
     "metadata": {},
     "output_type": "execute_result"
    }
   ],
   "source": [
    "a[::2]"
   ]
  },
  {
   "cell_type": "code",
   "execution_count": 155,
   "id": "f1a27e82",
   "metadata": {},
   "outputs": [
    {
     "data": {
      "text/plain": [
       "[6, 4, 2]"
      ]
     },
     "execution_count": 155,
     "metadata": {},
     "output_type": "execute_result"
    }
   ],
   "source": [
    "a[5:0:-2]"
   ]
  },
  {
   "cell_type": "markdown",
   "id": "d852b956",
   "metadata": {},
   "source": [
    "### representation"
   ]
  },
  {
   "cell_type": "code",
   "execution_count": 171,
   "id": "f86ba746",
   "metadata": {},
   "outputs": [],
   "source": [
    "# string representation\n",
    "# __str__()\n",
    "\n",
    "class Lamb:\n",
    "    species_name = \"Lamb\"\n",
    "    scientific_name = \"Ovis aries\"\n",
    "\n",
    "    def __init__(self, name):\n",
    "        self.name = name\n",
    "\n",
    "    def __str__(self):\n",
    "        return \"Lamb named \" + self.name"
   ]
  },
  {
   "cell_type": "code",
   "execution_count": 172,
   "id": "327755cc",
   "metadata": {},
   "outputs": [
    {
     "data": {
      "text/plain": [
       "'Lamb named Lil lamb'"
      ]
     },
     "execution_count": 172,
     "metadata": {},
     "output_type": "execute_result"
    }
   ],
   "source": [
    "lil = Lamb(\"Lil lamb\")\n",
    "\n",
    "str(lil)"
   ]
  },
  {
   "cell_type": "code",
   "execution_count": 160,
   "id": "59c9a718",
   "metadata": {},
   "outputs": [
    {
     "name": "stdout",
     "output_type": "stream",
     "text": [
      "Lamb named Lil lamb\n"
     ]
    }
   ],
   "source": [
    "print(lil)"
   ]
  },
  {
   "cell_type": "code",
   "execution_count": 168,
   "id": "58e4db9e",
   "metadata": {},
   "outputs": [],
   "source": [
    "# __repr__\n",
    "\n",
    "class Lamb:\n",
    "    species_name = \"Lamb\"\n",
    "    scientific_name = \"Ovis aries\"\n",
    "\n",
    "    def __init__(self, name):\n",
    "        self.name = name\n",
    "\n",
    "    def __str__(self):\n",
    "        return \"Lamb named \" + self.name\n",
    "\n",
    "    def __repr__(self):\n",
    "        \n",
    "        return f\"Lamb({repr(self.name)})\" # Lamb('Lil lamb')\n",
    "            #  f\"Lamb({self.name})\"       # Lamb(Lil lamb)"
   ]
  },
  {
   "cell_type": "code",
   "execution_count": 169,
   "id": "8e66d5e8",
   "metadata": {},
   "outputs": [
    {
     "data": {
      "text/plain": [
       "\"Lamb('Lil lamb')\""
      ]
     },
     "execution_count": 169,
     "metadata": {},
     "output_type": "execute_result"
    }
   ],
   "source": [
    "lil = Lamb(\"Lil lamb\")\n",
    "repr(lil)"
   ]
  },
  {
   "cell_type": "code",
   "execution_count": 170,
   "id": "10611c6d",
   "metadata": {},
   "outputs": [
    {
     "data": {
      "text/plain": [
       "Lamb('Lil lamb')"
      ]
     },
     "execution_count": 170,
     "metadata": {},
     "output_type": "execute_result"
    }
   ],
   "source": [
    "lil"
   ]
  },
  {
   "cell_type": "code",
   "execution_count": 164,
   "id": "24264af9",
   "metadata": {},
   "outputs": [
    {
     "name": "stdout",
     "output_type": "stream",
     "text": [
      "Lamb named Lil lamb\n"
     ]
    }
   ],
   "source": [
    "print(lil)"
   ]
  },
  {
   "cell_type": "markdown",
   "id": "4fdd909b",
   "metadata": {},
   "source": [
    "### Recursive Class"
   ]
  },
  {
   "cell_type": "code",
   "execution_count": null,
   "id": "19b743b3",
   "metadata": {},
   "outputs": [],
   "source": []
  }
 ],
 "metadata": {
  "kernelspec": {
   "display_name": "Python 3 (ipykernel)",
   "language": "python",
   "name": "python3"
  },
  "language_info": {
   "codemirror_mode": {
    "name": "ipython",
    "version": 3
   },
   "file_extension": ".py",
   "mimetype": "text/x-python",
   "name": "python",
   "nbconvert_exporter": "python",
   "pygments_lexer": "ipython3",
   "version": "3.8.11"
  }
 },
 "nbformat": 4,
 "nbformat_minor": 5
}
