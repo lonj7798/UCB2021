{
 "cells": [
  {
   "cell_type": "markdown",
   "id": "3b55c5c2",
   "metadata": {},
   "source": [
    "### lambda"
   ]
  },
  {
   "cell_type": "code",
   "execution_count": 2,
   "id": "e9b9ce01",
   "metadata": {},
   "outputs": [
    {
     "data": {
      "text/plain": [
       "7"
      ]
     },
     "execution_count": 2,
     "metadata": {},
     "output_type": "execute_result"
    }
   ],
   "source": [
    "def add(x, y):\n",
    "    return x + y\n",
    "\n",
    "add(3, 4)"
   ]
  },
  {
   "cell_type": "code",
   "execution_count": 4,
   "id": "faf434cb",
   "metadata": {},
   "outputs": [
    {
     "data": {
      "text/plain": [
       "7"
      ]
     },
     "execution_count": 4,
     "metadata": {},
     "output_type": "execute_result"
    }
   ],
   "source": [
    "(lambda x, y: x + y)(3, 4)"
   ]
  },
  {
   "cell_type": "code",
   "execution_count": 5,
   "id": "e90aa5ad",
   "metadata": {},
   "outputs": [
    {
     "data": {
      "text/plain": [
       "<map at 0x7fa0c9034b80>"
      ]
     },
     "execution_count": 5,
     "metadata": {},
     "output_type": "execute_result"
    }
   ],
   "source": [
    "map(lambda x: x ** 2, range(5))"
   ]
  },
  {
   "cell_type": "code",
   "execution_count": 6,
   "id": "ecb2d806",
   "metadata": {},
   "outputs": [
    {
     "data": {
      "text/plain": [
       "[0, 1, 4, 9, 16]"
      ]
     },
     "execution_count": 6,
     "metadata": {},
     "output_type": "execute_result"
    }
   ],
   "source": [
    "list(map(lambda x: x ** 2, range(5)))"
   ]
  },
  {
   "cell_type": "code",
   "execution_count": 11,
   "id": "142a1515",
   "metadata": {},
   "outputs": [
    {
     "data": {
      "text/plain": [
       "999"
      ]
     },
     "execution_count": 11,
     "metadata": {},
     "output_type": "execute_result"
    }
   ],
   "source": [
    "(lambda x: 10 if x == 10 else 999)(9)"
   ]
  },
  {
   "cell_type": "markdown",
   "id": "1590b0a9",
   "metadata": {},
   "source": [
    "### high-order function (HOF)"
   ]
  },
  {
   "cell_type": "code",
   "execution_count": 12,
   "id": "edc128f7",
   "metadata": {},
   "outputs": [],
   "source": [
    "def add(x):\n",
    "    \n",
    "    def add_2(y):\n",
    "        return x + y\n",
    "    return add_2"
   ]
  },
  {
   "cell_type": "code",
   "execution_count": 14,
   "id": "169bf6c9",
   "metadata": {},
   "outputs": [
    {
     "data": {
      "text/plain": [
       "30"
      ]
     },
     "execution_count": 14,
     "metadata": {},
     "output_type": "execute_result"
    }
   ],
   "source": [
    "add(10)(20)"
   ]
  },
  {
   "cell_type": "code",
   "execution_count": 15,
   "id": "724972d8",
   "metadata": {},
   "outputs": [
    {
     "data": {
      "text/plain": [
       "30"
      ]
     },
     "execution_count": 15,
     "metadata": {},
     "output_type": "execute_result"
    }
   ],
   "source": [
    "func = add(10)\n",
    "func(20)"
   ]
  },
  {
   "cell_type": "code",
   "execution_count": 16,
   "id": "84eaf463",
   "metadata": {},
   "outputs": [
    {
     "name": "stdout",
     "output_type": "stream",
     "text": [
      "75\n",
      "25\n"
     ]
    },
    {
     "ename": "TypeError",
     "evalue": "unsupported operand type(s) for +: 'NoneType' and 'NoneType'",
     "output_type": "error",
     "traceback": [
      "\u001b[0;31m---------------------------------------------------------------------------\u001b[0m",
      "\u001b[0;31mTypeError\u001b[0m                                 Traceback (most recent call last)",
      "\u001b[0;32m/var/folders/m5/b577jf4d20jc309f4phr3lvr0000gn/T/ipykernel_15665/1551953149.py\u001b[0m in \u001b[0;36m<module>\u001b[0;34m\u001b[0m\n\u001b[1;32m      2\u001b[0m     \u001b[0mprint\u001b[0m\u001b[0;34m(\u001b[0m\u001b[0ma\u001b[0m \u001b[0;34m+\u001b[0m \u001b[0mb\u001b[0m\u001b[0;34m)\u001b[0m\u001b[0;34m\u001b[0m\u001b[0;34m\u001b[0m\u001b[0m\n\u001b[1;32m      3\u001b[0m \u001b[0;34m\u001b[0m\u001b[0m\n\u001b[0;32m----> 4\u001b[0;31m \u001b[0mtotal\u001b[0m \u001b[0;34m=\u001b[0m \u001b[0msum\u001b[0m\u001b[0;34m(\u001b[0m \u001b[0msum\u001b[0m\u001b[0;34m(\u001b[0m\u001b[0;36m30\u001b[0m\u001b[0;34m,\u001b[0m \u001b[0;36m45\u001b[0m\u001b[0;34m)\u001b[0m\u001b[0;34m,\u001b[0m \u001b[0msum\u001b[0m\u001b[0;34m(\u001b[0m\u001b[0;36m10\u001b[0m\u001b[0;34m,\u001b[0m \u001b[0;36m15\u001b[0m\u001b[0;34m)\u001b[0m \u001b[0;34m)\u001b[0m\u001b[0;34m\u001b[0m\u001b[0;34m\u001b[0m\u001b[0m\n\u001b[0m",
      "\u001b[0;32m/var/folders/m5/b577jf4d20jc309f4phr3lvr0000gn/T/ipykernel_15665/1551953149.py\u001b[0m in \u001b[0;36msum\u001b[0;34m(a, b)\u001b[0m\n\u001b[1;32m      1\u001b[0m \u001b[0;32mdef\u001b[0m \u001b[0msum\u001b[0m\u001b[0;34m(\u001b[0m\u001b[0ma\u001b[0m\u001b[0;34m,\u001b[0m \u001b[0mb\u001b[0m\u001b[0;34m)\u001b[0m\u001b[0;34m:\u001b[0m\u001b[0;34m\u001b[0m\u001b[0;34m\u001b[0m\u001b[0m\n\u001b[0;32m----> 2\u001b[0;31m     \u001b[0mprint\u001b[0m\u001b[0;34m(\u001b[0m\u001b[0ma\u001b[0m \u001b[0;34m+\u001b[0m \u001b[0mb\u001b[0m\u001b[0;34m)\u001b[0m\u001b[0;34m\u001b[0m\u001b[0;34m\u001b[0m\u001b[0m\n\u001b[0m\u001b[1;32m      3\u001b[0m \u001b[0;34m\u001b[0m\u001b[0m\n\u001b[1;32m      4\u001b[0m \u001b[0mtotal\u001b[0m \u001b[0;34m=\u001b[0m \u001b[0msum\u001b[0m\u001b[0;34m(\u001b[0m \u001b[0msum\u001b[0m\u001b[0;34m(\u001b[0m\u001b[0;36m30\u001b[0m\u001b[0;34m,\u001b[0m \u001b[0;36m45\u001b[0m\u001b[0;34m)\u001b[0m\u001b[0;34m,\u001b[0m \u001b[0msum\u001b[0m\u001b[0;34m(\u001b[0m\u001b[0;36m10\u001b[0m\u001b[0;34m,\u001b[0m \u001b[0;36m15\u001b[0m\u001b[0;34m)\u001b[0m \u001b[0;34m)\u001b[0m\u001b[0;34m\u001b[0m\u001b[0;34m\u001b[0m\u001b[0m\n",
      "\u001b[0;31mTypeError\u001b[0m: unsupported operand type(s) for +: 'NoneType' and 'NoneType'"
     ]
    }
   ],
   "source": [
    "def sum(a, b):\n",
    "    print(a + b)\n",
    "\n",
    "total = sum( sum(30, 45), sum(10, 15) )"
   ]
  },
  {
   "cell_type": "code",
   "execution_count": 20,
   "id": "4e620795",
   "metadata": {},
   "outputs": [
    {
     "data": {
      "text/plain": [
       "100"
      ]
     },
     "execution_count": 20,
     "metadata": {},
     "output_type": "execute_result"
    }
   ],
   "source": [
    "1000 // 10"
   ]
  },
  {
   "cell_type": "code",
   "execution_count": 23,
   "id": "de69837b",
   "metadata": {},
   "outputs": [
    {
     "ename": "SyntaxError",
     "evalue": "cannot assign to literal (3729576896.py, line 1)",
     "output_type": "error",
     "traceback": [
      "\u001b[0;36m  File \u001b[0;32m\"/var/folders/m5/b577jf4d20jc309f4phr3lvr0000gn/T/ipykernel_15665/3729576896.py\"\u001b[0;36m, line \u001b[0;32m1\u001b[0m\n\u001b[0;31m    1 /=10\u001b[0m\n\u001b[0m    ^\u001b[0m\n\u001b[0;31mSyntaxError\u001b[0m\u001b[0;31m:\u001b[0m cannot assign to literal\n"
     ]
    }
   ],
   "source": [
    "1 /=10"
   ]
  },
  {
   "cell_type": "code",
   "execution_count": 25,
   "id": "4bb9fd69",
   "metadata": {},
   "outputs": [
    {
     "data": {
      "text/plain": [
       "'<p>hello hello</p>'"
      ]
     },
     "execution_count": 25,
     "metadata": {},
     "output_type": "execute_result"
    }
   ],
   "source": [
    "import functools\n",
    "\n",
    "def html_tag(tag_name, text):\n",
    "    return \"<\" + tag_name + \">\" + text + \"</\" + tag_name + \">\"\n",
    "\n",
    "p_tag = functools.partial(html_tag, \"p\")\n",
    "p_tag(\"hello hello\")"
   ]
  },
  {
   "cell_type": "code",
   "execution_count": 26,
   "id": "c617d052",
   "metadata": {
    "scrolled": true
   },
   "outputs": [
    {
     "name": "stdout",
     "output_type": "stream",
     "text": [
      "delayed\n"
     ]
    },
    {
     "data": {
      "text/plain": [
       "6"
      ]
     },
     "execution_count": 26,
     "metadata": {},
     "output_type": "execute_result"
    }
   ],
   "source": [
    "def delay(arg):\n",
    "    print('delayed')\n",
    "    def g():\n",
    "        return arg\n",
    "    return g\n",
    "\n",
    "delay(6)()"
   ]
  },
  {
   "cell_type": "code",
   "execution_count": 27,
   "id": "b9af67d8",
   "metadata": {},
   "outputs": [
    {
     "name": "stdout",
     "output_type": "stream",
     "text": [
      "delayed\n",
      "4\n",
      "None\n"
     ]
    }
   ],
   "source": [
    "print(delay(print)()(4))"
   ]
  },
  {
   "cell_type": "code",
   "execution_count": 28,
   "id": "9df40b5e",
   "metadata": {},
   "outputs": [
    {
     "data": {
      "text/plain": [
       "2"
      ]
     },
     "execution_count": 28,
     "metadata": {},
     "output_type": "execute_result"
    }
   ],
   "source": [
    "def horse(mask):\n",
    "    horse = mask\n",
    "    def mask(horse):\n",
    "        return horse\n",
    "    return horse(mask)\n",
    "\n",
    "mask = lambda horse: horse(2)\n",
    "horse(mask)"
   ]
  },
  {
   "cell_type": "code",
   "execution_count": 48,
   "id": "4d00f377",
   "metadata": {},
   "outputs": [],
   "source": [
    "def cascade(n):\n",
    "    if n < 10:\n",
    "        print(n)\n",
    "    else:\n",
    "        print(n)\n",
    "        cascade(n//10)\n",
    "        print(n)"
   ]
  },
  {
   "cell_type": "code",
   "execution_count": 49,
   "id": "50453c4f",
   "metadata": {},
   "outputs": [
    {
     "name": "stdout",
     "output_type": "stream",
     "text": [
      "123\n",
      "12\n",
      "1\n",
      "12\n",
      "123\n"
     ]
    }
   ],
   "source": [
    "cascade(123)"
   ]
  },
  {
   "cell_type": "code",
   "execution_count": 50,
   "id": "a575d55b",
   "metadata": {},
   "outputs": [],
   "source": [
    "# 1\n",
    "# 12\n",
    "# 123\n",
    "# 12\n",
    "# 1"
   ]
  },
  {
   "cell_type": "code",
   "execution_count": 55,
   "id": "eb1e8a6f",
   "metadata": {},
   "outputs": [],
   "source": [
    "def cascade2(n):\n",
    "    if n < 10:\n",
    "        print(n)\n",
    "    else:\n",
    "        cascade2(n//10)\n",
    "        print(n)"
   ]
  },
  {
   "cell_type": "code",
   "execution_count": 56,
   "id": "b2ecd8f8",
   "metadata": {},
   "outputs": [
    {
     "name": "stdout",
     "output_type": "stream",
     "text": [
      "1\n",
      "12\n",
      "123\n"
     ]
    }
   ],
   "source": [
    "cascade2(123)"
   ]
  },
  {
   "cell_type": "code",
   "execution_count": 57,
   "id": "df643dd9",
   "metadata": {
    "scrolled": true
   },
   "outputs": [
    {
     "ename": "NameError",
     "evalue": "name 'grow' is not defined",
     "output_type": "error",
     "traceback": [
      "\u001b[0;31m---------------------------------------------------------------------------\u001b[0m",
      "\u001b[0;31mNameError\u001b[0m                                 Traceback (most recent call last)",
      "\u001b[0;32m/var/folders/m5/b577jf4d20jc309f4phr3lvr0000gn/T/ipykernel_15665/938877008.py\u001b[0m in \u001b[0;36m<module>\u001b[0;34m\u001b[0m\n\u001b[0;32m----> 1\u001b[0;31m \u001b[0mgrow\u001b[0m\u001b[0;34m(\u001b[0m\u001b[0;36m10\u001b[0m\u001b[0;34m)\u001b[0m\u001b[0;34m\u001b[0m\u001b[0;34m\u001b[0m\u001b[0m\n\u001b[0m",
      "\u001b[0;31mNameError\u001b[0m: name 'grow' is not defined"
     ]
    }
   ],
   "source": [
    "grow(10)"
   ]
  },
  {
   "cell_type": "markdown",
   "id": "2818fdda",
   "metadata": {},
   "source": [
    "### list"
   ]
  },
  {
   "cell_type": "code",
   "execution_count": 58,
   "id": "3be78817",
   "metadata": {},
   "outputs": [],
   "source": [
    "boba_prices = [5.50, 6.50, 7.50]\n",
    "smoothie_prices = [7.00, 7.50]\n",
    "all_prices = boba_prices + smoothie_prices"
   ]
  },
  {
   "cell_type": "code",
   "execution_count": 59,
   "id": "aba7bb11",
   "metadata": {},
   "outputs": [
    {
     "data": {
      "text/plain": [
       "[5.5, 6.5, 7.5, 7.0, 7.5]"
      ]
     },
     "execution_count": 59,
     "metadata": {},
     "output_type": "execute_result"
    }
   ],
   "source": [
    "all_prices"
   ]
  },
  {
   "cell_type": "code",
   "execution_count": 60,
   "id": "34eff923",
   "metadata": {},
   "outputs": [],
   "source": [
    "from operator import add\n",
    "\n",
    "boba_prices = [5.50, 6.50, 7.50]\n",
    "smoothie_prices = [7.00, 7.50]\n",
    "all_prices = add(boba_prices, smoothie_prices)"
   ]
  },
  {
   "cell_type": "code",
   "execution_count": 61,
   "id": "a510dda1",
   "metadata": {},
   "outputs": [
    {
     "data": {
      "text/plain": [
       "[5.5, 6.5, 7.5, 7.0, 7.5]"
      ]
     },
     "execution_count": 61,
     "metadata": {},
     "output_type": "execute_result"
    }
   ],
   "source": [
    "all_prices"
   ]
  },
  {
   "cell_type": "code",
   "execution_count": 62,
   "id": "d1d0480e",
   "metadata": {},
   "outputs": [],
   "source": [
    "boba_prices = [5.50, 6.50, 7.50]\n",
    "\n",
    "more_boba = boba_prices * 3"
   ]
  },
  {
   "cell_type": "code",
   "execution_count": 63,
   "id": "1da50911",
   "metadata": {},
   "outputs": [
    {
     "data": {
      "text/plain": [
       "[5.5, 6.5, 7.5, 5.5, 6.5, 7.5, 5.5, 6.5, 7.5]"
      ]
     },
     "execution_count": 63,
     "metadata": {},
     "output_type": "execute_result"
    }
   ],
   "source": [
    "more_boba"
   ]
  },
  {
   "cell_type": "code",
   "execution_count": 64,
   "id": "73cae580",
   "metadata": {},
   "outputs": [
    {
     "ename": "TypeError",
     "evalue": "can only concatenate list (not \"int\") to list",
     "output_type": "error",
     "traceback": [
      "\u001b[0;31m---------------------------------------------------------------------------\u001b[0m",
      "\u001b[0;31mTypeError\u001b[0m                                 Traceback (most recent call last)",
      "\u001b[0;32m/var/folders/m5/b577jf4d20jc309f4phr3lvr0000gn/T/ipykernel_15665/2703324706.py\u001b[0m in \u001b[0;36m<module>\u001b[0;34m\u001b[0m\n\u001b[0;32m----> 1\u001b[0;31m \u001b[0;34m[\u001b[0m\u001b[0;36m1\u001b[0m\u001b[0;34m,\u001b[0m \u001b[0;36m2\u001b[0m\u001b[0;34m,\u001b[0m \u001b[0;36m3\u001b[0m\u001b[0;34m]\u001b[0m \u001b[0;34m+\u001b[0m \u001b[0;36m1\u001b[0m\u001b[0;34m\u001b[0m\u001b[0;34m\u001b[0m\u001b[0m\n\u001b[0m",
      "\u001b[0;31mTypeError\u001b[0m: can only concatenate list (not \"int\") to list"
     ]
    }
   ],
   "source": [
    "[1, 2, 3] + 1"
   ]
  },
  {
   "cell_type": "code",
   "execution_count": 66,
   "id": "4689e3ad",
   "metadata": {},
   "outputs": [
    {
     "name": "stdout",
     "output_type": "stream",
     "text": [
      "len(gymnasts): 3\n",
      "len(gymnasts[0]): 5\n"
     ]
    }
   ],
   "source": [
    "gymnasts = [ [\"Brittany\", 9.15, 9.4, 9.3, 9.2],\n",
    "             [\"Lea\", 9, 8.8, 9.1, 9.5],\n",
    "             [\"Maya\", 9.2, 8.7, 9.2, 8.8] ]\n",
    "print(\"len(gymnasts):\", len(gymnasts))\n",
    "print(\"len(gymnasts[0]):\", len(gymnasts[0]))"
   ]
  },
  {
   "cell_type": "code",
   "execution_count": 69,
   "id": "7c4303ec",
   "metadata": {},
   "outputs": [],
   "source": [
    "gymnasts = [ [\"Brittany\", 9.15, 9.4, 9.3, 9.2],\n",
    "             [\"Lea\", 9, 8.8, 9.1],\n",
    "             [\"Maya\", 9.2]]"
   ]
  },
  {
   "cell_type": "code",
   "execution_count": 70,
   "id": "0f059936",
   "metadata": {},
   "outputs": [
    {
     "data": {
      "text/plain": [
       "9.15"
      ]
     },
     "execution_count": 70,
     "metadata": {},
     "output_type": "execute_result"
    }
   ],
   "source": [
    "gymnasts[0][1]"
   ]
  },
  {
   "cell_type": "code",
   "execution_count": 72,
   "id": "1ee44061",
   "metadata": {},
   "outputs": [
    {
     "name": "stdout",
     "output_type": "stream",
     "text": [
      "True\n",
      "True\n",
      "False\n",
      "True\n"
     ]
    }
   ],
   "source": [
    "digits = [2, 8, 3, 1, 8, 5, 3, 0, 7, 1]\n",
    "\n",
    "print(1 in digits) # True\n",
    "\n",
    "print(3 in digits)  # True\n",
    "\n",
    "print(4 in digits) # False\n",
    " \n",
    "print( not (4 in digits)) # True"
   ]
  },
  {
   "cell_type": "markdown",
   "id": "aeda7d22",
   "metadata": {},
   "source": [
    "### for loop"
   ]
  },
  {
   "cell_type": "code",
   "execution_count": 74,
   "id": "a83d9972",
   "metadata": {},
   "outputs": [
    {
     "name": "stdout",
     "output_type": "stream",
     "text": [
      "Brittany|9.15|9.4|9.3|9.2|\n",
      "Lea|9|8.8|9.1|9.5|\n",
      "Maya|9.2|8.7|9.2|8.8|\n"
     ]
    }
   ],
   "source": [
    "gymnasts = [\n",
    "                [\"Brittany\", 9.15, 9.4, 9.3, 9.2],\n",
    "                [\"Lea\", 9, 8.8, 9.1, 9.5],\n",
    "                [\"Maya\", 9.2, 8.7, 9.2, 8.8]\n",
    "            ]\n",
    "\n",
    "for gymnast in gymnasts:\n",
    "    for data in gymnast:\n",
    "        print(data, end=\"|\")\n",
    "    print()"
   ]
  },
  {
   "cell_type": "code",
   "execution_count": 75,
   "id": "9398ed0c",
   "metadata": {},
   "outputs": [
    {
     "name": "stdout",
     "output_type": "stream",
     "text": [
      "2\n"
     ]
    }
   ],
   "source": [
    "pairs = [[1, 2], [2, 2], [3, 2], [4, 4]]\n",
    "same_count = 0\n",
    "\n",
    "for x, y in pairs:\n",
    "    if x == y:\n",
    "        same_count = same_count + 1\n",
    "print(same_count)"
   ]
  },
  {
   "cell_type": "code",
   "execution_count": 76,
   "id": "cac6c949",
   "metadata": {},
   "outputs": [
    {
     "name": "stdout",
     "output_type": "stream",
     "text": [
      "10\n",
      "10\n",
      "10\n",
      "10\n",
      "10\n",
      "10\n",
      "10\n",
      "10\n",
      "10\n"
     ]
    }
   ],
   "source": [
    "for i, j in zip(range(1, 10), range(9, 0, -1)):\n",
    "    print(i+j)"
   ]
  },
  {
   "cell_type": "markdown",
   "id": "9c59d0d9",
   "metadata": {},
   "source": [
    "### for + list"
   ]
  },
  {
   "cell_type": "code",
   "execution_count": 77,
   "id": "8a69fce0",
   "metadata": {},
   "outputs": [],
   "source": [
    "temps = [60, 65, 71, 67, 77, 89]\n",
    "hot = [temp for temp in temps if temp > 70]"
   ]
  },
  {
   "cell_type": "code",
   "execution_count": 78,
   "id": "d0a94ed7",
   "metadata": {},
   "outputs": [
    {
     "data": {
      "text/plain": [
       "[71, 77, 89]"
      ]
     },
     "execution_count": 78,
     "metadata": {},
     "output_type": "execute_result"
    }
   ],
   "source": [
    "hot"
   ]
  },
  {
   "cell_type": "code",
   "execution_count": 79,
   "id": "b90ab4e0",
   "metadata": {},
   "outputs": [],
   "source": [
    "letters = ['a', 'b', 'c', 'd', 'e', 'f', 'm', 'n', 'o', 'p']\n",
    "word = [letters[i] for i in [3, 4, 6, 8]]"
   ]
  },
  {
   "cell_type": "code",
   "execution_count": 81,
   "id": "8f2b084c",
   "metadata": {},
   "outputs": [
    {
     "data": {
      "text/plain": [
       "[1, 2, 3, 4, 6]"
      ]
     },
     "execution_count": 81,
     "metadata": {},
     "output_type": "execute_result"
    }
   ],
   "source": [
    "def divisors(n):\n",
    "    \"\"\"Returns all the divisors of N.\n",
    "\n",
    "    >>> divisors(12)\n",
    "    [1, 2, 3, 4, 6]\n",
    "    \"\"\"\n",
    "    return [x for x in range(1, n) if n % x == 0]\n",
    "divisors(12)"
   ]
  },
  {
   "cell_type": "code",
   "execution_count": 87,
   "id": "09936188",
   "metadata": {},
   "outputs": [],
   "source": [
    "def front(s, f):\n",
    "    \"\"\"Return S but with elements chosen by F at the front.\n",
    "\n",
    "    >>> front(range(10), lambda x: x % 2 == 1)  # odds in front\n",
    "    [1, 3, 5, 7, 9, 0, 2, 4, 6, 8]\n",
    "    \"\"\"\n",
    "    return [i for i in s if f(i)] + [i for i in s if not f(i)]"
   ]
  },
  {
   "cell_type": "code",
   "execution_count": 88,
   "id": "8b5c2429",
   "metadata": {},
   "outputs": [
    {
     "data": {
      "text/plain": [
       "[1, 3, 5, 7, 9, 0, 2, 4, 6, 8]"
      ]
     },
     "execution_count": 88,
     "metadata": {},
     "output_type": "execute_result"
    }
   ],
   "source": [
    "front(range(10), lambda x: x % 2 == 1)"
   ]
  },
  {
   "cell_type": "markdown",
   "id": "cf532085",
   "metadata": {},
   "source": [
    "### list / pointer"
   ]
  },
  {
   "cell_type": "code",
   "execution_count": 91,
   "id": "f7e2987c",
   "metadata": {},
   "outputs": [
    {
     "data": {
      "text/plain": [
       "[1, 2, 3]"
      ]
     },
     "execution_count": 91,
     "metadata": {},
     "output_type": "execute_result"
    }
   ],
   "source": [
    "a = list([1, 2, 3])\n",
    "a"
   ]
  },
  {
   "cell_type": "code",
   "execution_count": 92,
   "id": "bc3ce041",
   "metadata": {},
   "outputs": [
    {
     "data": {
      "text/plain": [
       "[[1, 2, 3]]"
      ]
     },
     "execution_count": 92,
     "metadata": {},
     "output_type": "execute_result"
    }
   ],
   "source": [
    "[a]"
   ]
  },
  {
   "cell_type": "code",
   "execution_count": 93,
   "id": "584468e5",
   "metadata": {},
   "outputs": [
    {
     "data": {
      "text/plain": [
       "[1, 2, 3]"
      ]
     },
     "execution_count": 93,
     "metadata": {},
     "output_type": "execute_result"
    }
   ],
   "source": [
    "list(a)"
   ]
  },
  {
   "cell_type": "code",
   "execution_count": 95,
   "id": "7b61fc5e",
   "metadata": {},
   "outputs": [],
   "source": [
    "def sum_nums(nums):\n",
    "    \"\"\"Returns the sum of the numbers in NUMS.\n",
    "    >>> sum_nums([6, 24, 1984])\n",
    "    2014\n",
    "    >>> sum_nums([-32, 0, 32])\n",
    "    0\n",
    "    \"\"\" \n",
    "    if (nums == []):\n",
    "        return 0\n",
    "    else:\n",
    "        return nums[0] + sum_nums( nums[1:] )"
   ]
  },
  {
   "cell_type": "code",
   "execution_count": 96,
   "id": "15182845",
   "metadata": {},
   "outputs": [
    {
     "data": {
      "text/plain": [
       "0"
      ]
     },
     "execution_count": 96,
     "metadata": {},
     "output_type": "execute_result"
    }
   ],
   "source": [
    "sum_nums([-32, 0, 32])"
   ]
  },
  {
   "cell_type": "code",
   "execution_count": 99,
   "id": "986349a1",
   "metadata": {},
   "outputs": [],
   "source": [
    "# iterative\n",
    "\n",
    "def sum_up_to(n):\n",
    "    \"\"\"Returns the sum of positive numbers from 1 up to N (inclusive).\n",
    "    >>> sum_up_to(5)\n",
    "    15\n",
    "    \"\"\" \n",
    "    temp = 0\n",
    "    for i in range(n+1):\n",
    "        temp += i\n",
    "        \n",
    "    return temp"
   ]
  },
  {
   "cell_type": "code",
   "execution_count": 100,
   "id": "7b169c62",
   "metadata": {
    "scrolled": true
   },
   "outputs": [
    {
     "data": {
      "text/plain": [
       "15"
      ]
     },
     "execution_count": 100,
     "metadata": {},
     "output_type": "execute_result"
    }
   ],
   "source": [
    "sum_up_to(5)"
   ]
  },
  {
   "cell_type": "code",
   "execution_count": 101,
   "id": "9321019e",
   "metadata": {},
   "outputs": [],
   "source": [
    "# recursive\n",
    "\n",
    "def sum_up_to(n):\n",
    "    \"\"\"Returns the sum of positive numbers from 1 up to N (inclusive).\n",
    "    >>> sum_up_to(5)\n",
    "    15\n",
    "    \"\"\" \n",
    "    if n == 0:\n",
    "        return 0\n",
    "    return n + sum_up_to(n - 1)"
   ]
  },
  {
   "cell_type": "code",
   "execution_count": 102,
   "id": "ae16d6f9",
   "metadata": {
    "scrolled": true
   },
   "outputs": [
    {
     "data": {
      "text/plain": [
       "15"
      ]
     },
     "execution_count": 102,
     "metadata": {},
     "output_type": "execute_result"
    }
   ],
   "source": [
    "sum_up_to(5)"
   ]
  },
  {
   "cell_type": "markdown",
   "id": "607fdf66",
   "metadata": {},
   "source": [
    "### built in itterable"
   ]
  },
  {
   "cell_type": "code",
   "execution_count": 105,
   "id": "2d9fc3e8",
   "metadata": {},
   "outputs": [
    {
     "data": {
      "text/plain": [
       "True"
      ]
     },
     "execution_count": 105,
     "metadata": {},
     "output_type": "execute_result"
    }
   ],
   "source": [
    "all([True, True, True])"
   ]
  },
  {
   "cell_type": "code",
   "execution_count": 106,
   "id": "4d994a51",
   "metadata": {
    "scrolled": true
   },
   "outputs": [
    {
     "data": {
      "text/plain": [
       "True"
      ]
     },
     "execution_count": 106,
     "metadata": {},
     "output_type": "execute_result"
    }
   ],
   "source": [
    "any([True, False, False])"
   ]
  },
  {
   "cell_type": "code",
   "execution_count": 1,
   "id": "c3a9df7c",
   "metadata": {},
   "outputs": [
    {
     "data": {
      "text/plain": [
       "15"
      ]
     },
     "execution_count": 1,
     "metadata": {},
     "output_type": "execute_result"
    }
   ],
   "source": [
    "sum([1, 2, 3, 4, 5]) # 15"
   ]
  },
  {
   "cell_type": "code",
   "execution_count": 2,
   "id": "f144e292",
   "metadata": {},
   "outputs": [
    {
     "data": {
      "text/plain": [
       "[-22, -115]"
      ]
     },
     "execution_count": 2,
     "metadata": {},
     "output_type": "execute_result"
    }
   ],
   "source": [
    "coords = [ [37, -144], [-22, -115], [56, -163] ]\n",
    "max(coords, key=lambda coord: coord[0])  # [56, -163]"
   ]
  },
  {
   "cell_type": "code",
   "execution_count": 3,
   "id": "65110fe8",
   "metadata": {},
   "outputs": [
    {
     "data": {
      "text/plain": [
       "[-22, -115]"
      ]
     },
     "execution_count": 3,
     "metadata": {},
     "output_type": "execute_result"
    }
   ],
   "source": [
    "min(coords, key=lambda coord: coord[0])  #  [-22, -115]"
   ]
  },
  {
   "cell_type": "code",
   "execution_count": 14,
   "id": "766bb76b",
   "metadata": {},
   "outputs": [
    {
     "data": {
      "text/plain": [
       "['Maya', 9.2, 8.7, 9.2, 8.8]"
      ]
     },
     "execution_count": 14,
     "metadata": {},
     "output_type": "execute_result"
    }
   ],
   "source": [
    "gymnasts = [ [\"Brittany\", 9.15, 9.4, 9.3, 9.2],\n",
    "    [\"Lea\", 9, 8.8, 9.1, 9.5],\n",
    "    [\"Maya\", 9.2, 8.7, 9.2, 8.8] ]\n",
    "min(gymnasts, key=lambda scores: min(scores[1:]))"
   ]
  },
  {
   "cell_type": "code",
   "execution_count": 15,
   "id": "4a531113",
   "metadata": {},
   "outputs": [
    {
     "data": {
      "text/plain": [
       "['Brittany', 9.15, 9.4, 9.3, 9.2]"
      ]
     },
     "execution_count": 15,
     "metadata": {},
     "output_type": "execute_result"
    }
   ],
   "source": [
    "max(gymnasts, key=lambda scores: sum(scores[1:], 0))"
   ]
  },
  {
   "cell_type": "markdown",
   "id": "9af393f7",
   "metadata": {},
   "source": [
    "### Mutable object"
   ]
  },
  {
   "cell_type": "code",
   "execution_count": 22,
   "id": "b79d7d03",
   "metadata": {},
   "outputs": [],
   "source": [
    "s = [2, 3]\n",
    "t = [5, 6]\n",
    "# s.extend(4) # 🚫 Error: 4 is not an iterable!\n",
    "s.extend(t)\n",
    "t = 0"
   ]
  },
  {
   "cell_type": "code",
   "execution_count": 24,
   "id": "0404785c",
   "metadata": {},
   "outputs": [
    {
     "data": {
      "text/plain": [
       "[2, 3, 5, 6]"
      ]
     },
     "execution_count": 24,
     "metadata": {},
     "output_type": "execute_result"
    }
   ],
   "source": [
    "s"
   ]
  },
  {
   "cell_type": "code",
   "execution_count": 25,
   "id": "8256288b",
   "metadata": {},
   "outputs": [],
   "source": [
    "s.append([1, 2, 3])"
   ]
  },
  {
   "cell_type": "code",
   "execution_count": 26,
   "id": "38eaa2db",
   "metadata": {},
   "outputs": [
    {
     "data": {
      "text/plain": [
       "[2, 3, 5, 6, [1, 2, 3]]"
      ]
     },
     "execution_count": 26,
     "metadata": {},
     "output_type": "execute_result"
    }
   ],
   "source": [
    "s"
   ]
  },
  {
   "cell_type": "code",
   "execution_count": 27,
   "id": "e664129f",
   "metadata": {},
   "outputs": [],
   "source": [
    "s = [6, 2, 4, 8, 4]\n",
    "s.remove(4)"
   ]
  },
  {
   "cell_type": "code",
   "execution_count": 28,
   "id": "361699a1",
   "metadata": {},
   "outputs": [
    {
     "data": {
      "text/plain": [
       "[6, 2, 8, 4]"
      ]
     },
     "execution_count": 28,
     "metadata": {},
     "output_type": "execute_result"
    }
   ],
   "source": [
    "s"
   ]
  },
  {
   "cell_type": "code",
   "execution_count": 29,
   "id": "71c14849",
   "metadata": {},
   "outputs": [],
   "source": [
    "s = [2, 3]\n",
    "t = [5, 6]\n",
    "t = s.pop() # list.pop(index)"
   ]
  },
  {
   "cell_type": "code",
   "execution_count": 30,
   "id": "9cc2fd0c",
   "metadata": {},
   "outputs": [
    {
     "data": {
      "text/plain": [
       "[2]"
      ]
     },
     "execution_count": 30,
     "metadata": {},
     "output_type": "execute_result"
    }
   ],
   "source": [
    "s"
   ]
  },
  {
   "cell_type": "code",
   "execution_count": 31,
   "id": "60cf590c",
   "metadata": {},
   "outputs": [
    {
     "data": {
      "text/plain": [
       "3"
      ]
     },
     "execution_count": 31,
     "metadata": {},
     "output_type": "execute_result"
    }
   ],
   "source": [
    "t"
   ]
  },
  {
   "cell_type": "code",
   "execution_count": 32,
   "id": "a0837060",
   "metadata": {},
   "outputs": [],
   "source": [
    "L = [1, 2, 3, 4, 5]\n",
    "\n",
    "L[2] = 6\n",
    "\n",
    "L[1:3] = [9, 8]\n",
    "\n",
    "L[2:4] = []            # Deleting elements\n",
    "\n",
    "L[1:1] = [2, 3, 4, 5]  # Inserting elements\n",
    "\n",
    "L[len(L):] = [10, 11]  # Appending\n",
    "\n",
    "L = L + [20, 30]\n",
    "\n",
    "L[0:0] = range(-3, 0)  # Prepending"
   ]
  },
  {
   "cell_type": "code",
   "execution_count": 33,
   "id": "ef8f0410",
   "metadata": {},
   "outputs": [
    {
     "data": {
      "text/plain": [
       "[-3, -2, -1, 1, 2, 3, 4, 5, 9, 5, 10, 11, 20, 30]"
      ]
     },
     "execution_count": 33,
     "metadata": {},
     "output_type": "execute_result"
    }
   ],
   "source": [
    "L"
   ]
  },
  {
   "cell_type": "markdown",
   "id": "0fe610fa",
   "metadata": {},
   "source": [
    "### Name change .vs Object mutation"
   ]
  },
  {
   "cell_type": "code",
   "execution_count": 37,
   "id": "faea8ff9",
   "metadata": {},
   "outputs": [
    {
     "name": "stdout",
     "output_type": "stream",
     "text": [
      "4\n",
      "6\n"
     ]
    }
   ],
   "source": [
    "# Name change: immutation / int, float, string, tuple / cannot change the value\n",
    "x = 2\n",
    "print(x + x) # 4\n",
    "\n",
    "x = 3\n",
    "print(x + x) # 6"
   ]
  },
  {
   "cell_type": "code",
   "execution_count": 38,
   "id": "e7075503",
   "metadata": {
    "scrolled": true
   },
   "outputs": [
    {
     "name": "stdout",
     "output_type": "stream",
     "text": [
      "['A', 'B', 'A', 'B']\n",
      "['A', 'B', 'C', 'A', 'B', 'C']\n"
     ]
    }
   ],
   "source": [
    "# Object mutation: mutation / list, dictionary / can change the value\n",
    "x = ['A', 'B']\n",
    "print(x + x)  # ['A', 'B', 'A', 'B']\n",
    "\n",
    "x.append('C')\n",
    "print(x + x)  # ['A', 'B', 'C', 'A', 'B', 'C']"
   ]
  },
  {
   "cell_type": "markdown",
   "id": "4bb5c603",
   "metadata": {},
   "source": [
    "### Equality .VS Identity"
   ]
  },
  {
   "cell_type": "code",
   "execution_count": 51,
   "id": "01679790",
   "metadata": {},
   "outputs": [
    {
     "name": "stdout",
     "output_type": "stream",
     "text": [
      "True\n",
      "False\n"
     ]
    }
   ],
   "source": [
    "list1 = [1, 2, 3]\n",
    "list2 = [1, 2, 3]\n",
    "\n",
    "print(list1 == list2) # equality: == / True\n",
    "\n",
    "print(list1 is list2) # identity: is / False"
   ]
  },
  {
   "cell_type": "code",
   "execution_count": 52,
   "id": "77e3b264",
   "metadata": {},
   "outputs": [
    {
     "name": "stdout",
     "output_type": "stream",
     "text": [
      "True\n",
      "True\n"
     ]
    }
   ],
   "source": [
    "list3 = list1\n",
    "\n",
    "print(list1 == list3) # equality: == / False\n",
    "\n",
    "print(list1 is list3) # identity: is / True"
   ]
  },
  {
   "cell_type": "code",
   "execution_count": null,
   "id": "48d48ccf",
   "metadata": {},
   "outputs": [],
   "source": []
  },
  {
   "cell_type": "code",
   "execution_count": null,
   "id": "6bf826a7",
   "metadata": {},
   "outputs": [],
   "source": []
  }
 ],
 "metadata": {
  "kernelspec": {
   "display_name": "Python 3 (ipykernel)",
   "language": "python",
   "name": "python3"
  },
  "language_info": {
   "codemirror_mode": {
    "name": "ipython",
    "version": 3
   },
   "file_extension": ".py",
   "mimetype": "text/x-python",
   "name": "python",
   "nbconvert_exporter": "python",
   "pygments_lexer": "ipython3",
   "version": "3.8.11"
  }
 },
 "nbformat": 4,
 "nbformat_minor": 5
}
